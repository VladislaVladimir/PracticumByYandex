{
 "cells": [
  {
   "cell_type": "code",
   "execution_count": 1,
   "metadata": {
    "id": "AXN7PHPN_Zcs"
   },
   "outputs": [],
   "source": [
    "import pandas as pd # импорт библиотеки pandas"
   ]
  },
  {
   "cell_type": "markdown",
   "metadata": {},
   "source": [
    "# Тема: Исследование активности пользователей приложения Яндекс.Музыка из Москвы и Санкт-Петербурга"
   ]
  },
  {
   "cell_type": "markdown",
   "metadata": {
    "id": "Ml1hmfXC_Zcs"
   },
   "source": [
    "## Обзор данных\n",
    "\n"
   ]
  },
  {
   "cell_type": "markdown",
   "metadata": {
    "id": "57eAOGIz_Zcs"
   },
   "source": [
    "Импортируйте библиотеку `pandas`"
   ]
  },
  {
   "cell_type": "markdown",
   "metadata": {
    "id": "SG23P8tt_Zcs"
   },
   "source": [
    "Прочитаем файл `yandex_music_project.csv` и сохраним его в переменной `df`:"
   ]
  },
  {
   "cell_type": "code",
   "execution_count": 2,
   "metadata": {
    "id": "fFVu7vqh_Zct"
   },
   "outputs": [],
   "source": [
    "df = pd.read_csv('/datasets/yandex_music_project.csv') # чтение файла с данными и сохранение в df"
   ]
  },
  {
   "cell_type": "markdown",
   "metadata": {
    "id": "rDoOMd3uTqnZ"
   },
   "source": [
    "Выведим на экран первые десять строк таблицы:"
   ]
  },
  {
   "cell_type": "code",
   "execution_count": 3,
   "metadata": {
    "id": "oWTVX3gW_Zct"
   },
   "outputs": [
    {
     "data": {
      "text/html": [
       "<div>\n",
       "<style scoped>\n",
       "    .dataframe tbody tr th:only-of-type {\n",
       "        vertical-align: middle;\n",
       "    }\n",
       "\n",
       "    .dataframe tbody tr th {\n",
       "        vertical-align: top;\n",
       "    }\n",
       "\n",
       "    .dataframe thead th {\n",
       "        text-align: right;\n",
       "    }\n",
       "</style>\n",
       "<table border=\"1\" class=\"dataframe\">\n",
       "  <thead>\n",
       "    <tr style=\"text-align: right;\">\n",
       "      <th></th>\n",
       "      <th>userID</th>\n",
       "      <th>Track</th>\n",
       "      <th>artist</th>\n",
       "      <th>genre</th>\n",
       "      <th>City</th>\n",
       "      <th>time</th>\n",
       "      <th>Day</th>\n",
       "    </tr>\n",
       "  </thead>\n",
       "  <tbody>\n",
       "    <tr>\n",
       "      <th>0</th>\n",
       "      <td>FFB692EC</td>\n",
       "      <td>Kamigata To Boots</td>\n",
       "      <td>The Mass Missile</td>\n",
       "      <td>rock</td>\n",
       "      <td>Saint-Petersburg</td>\n",
       "      <td>20:28:33</td>\n",
       "      <td>Wednesday</td>\n",
       "    </tr>\n",
       "    <tr>\n",
       "      <th>1</th>\n",
       "      <td>55204538</td>\n",
       "      <td>Delayed Because of Accident</td>\n",
       "      <td>Andreas Rönnberg</td>\n",
       "      <td>rock</td>\n",
       "      <td>Moscow</td>\n",
       "      <td>14:07:09</td>\n",
       "      <td>Friday</td>\n",
       "    </tr>\n",
       "    <tr>\n",
       "      <th>2</th>\n",
       "      <td>20EC38</td>\n",
       "      <td>Funiculì funiculà</td>\n",
       "      <td>Mario Lanza</td>\n",
       "      <td>pop</td>\n",
       "      <td>Saint-Petersburg</td>\n",
       "      <td>20:58:07</td>\n",
       "      <td>Wednesday</td>\n",
       "    </tr>\n",
       "    <tr>\n",
       "      <th>3</th>\n",
       "      <td>A3DD03C9</td>\n",
       "      <td>Dragons in the Sunset</td>\n",
       "      <td>Fire + Ice</td>\n",
       "      <td>folk</td>\n",
       "      <td>Saint-Petersburg</td>\n",
       "      <td>08:37:09</td>\n",
       "      <td>Monday</td>\n",
       "    </tr>\n",
       "    <tr>\n",
       "      <th>4</th>\n",
       "      <td>E2DC1FAE</td>\n",
       "      <td>Soul People</td>\n",
       "      <td>Space Echo</td>\n",
       "      <td>dance</td>\n",
       "      <td>Moscow</td>\n",
       "      <td>08:34:34</td>\n",
       "      <td>Monday</td>\n",
       "    </tr>\n",
       "    <tr>\n",
       "      <th>5</th>\n",
       "      <td>842029A1</td>\n",
       "      <td>Преданная</td>\n",
       "      <td>IMPERVTOR</td>\n",
       "      <td>rusrap</td>\n",
       "      <td>Saint-Petersburg</td>\n",
       "      <td>13:09:41</td>\n",
       "      <td>Friday</td>\n",
       "    </tr>\n",
       "    <tr>\n",
       "      <th>6</th>\n",
       "      <td>4CB90AA5</td>\n",
       "      <td>True</td>\n",
       "      <td>Roman Messer</td>\n",
       "      <td>dance</td>\n",
       "      <td>Moscow</td>\n",
       "      <td>13:00:07</td>\n",
       "      <td>Wednesday</td>\n",
       "    </tr>\n",
       "    <tr>\n",
       "      <th>7</th>\n",
       "      <td>F03E1C1F</td>\n",
       "      <td>Feeling This Way</td>\n",
       "      <td>Polina Griffith</td>\n",
       "      <td>dance</td>\n",
       "      <td>Moscow</td>\n",
       "      <td>20:47:49</td>\n",
       "      <td>Wednesday</td>\n",
       "    </tr>\n",
       "    <tr>\n",
       "      <th>8</th>\n",
       "      <td>8FA1D3BE</td>\n",
       "      <td>И вновь продолжается бой</td>\n",
       "      <td>NaN</td>\n",
       "      <td>ruspop</td>\n",
       "      <td>Moscow</td>\n",
       "      <td>09:17:40</td>\n",
       "      <td>Friday</td>\n",
       "    </tr>\n",
       "    <tr>\n",
       "      <th>9</th>\n",
       "      <td>E772D5C0</td>\n",
       "      <td>Pessimist</td>\n",
       "      <td>NaN</td>\n",
       "      <td>dance</td>\n",
       "      <td>Saint-Petersburg</td>\n",
       "      <td>21:20:49</td>\n",
       "      <td>Wednesday</td>\n",
       "    </tr>\n",
       "  </tbody>\n",
       "</table>\n",
       "</div>"
      ],
      "text/plain": [
       "     userID                        Track            artist   genre  \\\n",
       "0  FFB692EC            Kamigata To Boots  The Mass Missile    rock   \n",
       "1  55204538  Delayed Because of Accident  Andreas Rönnberg    rock   \n",
       "2    20EC38            Funiculì funiculà       Mario Lanza     pop   \n",
       "3  A3DD03C9        Dragons in the Sunset        Fire + Ice    folk   \n",
       "4  E2DC1FAE                  Soul People        Space Echo   dance   \n",
       "5  842029A1                    Преданная         IMPERVTOR  rusrap   \n",
       "6  4CB90AA5                         True      Roman Messer   dance   \n",
       "7  F03E1C1F             Feeling This Way   Polina Griffith   dance   \n",
       "8  8FA1D3BE     И вновь продолжается бой               NaN  ruspop   \n",
       "9  E772D5C0                    Pessimist               NaN   dance   \n",
       "\n",
       "             City        time        Day  \n",
       "0  Saint-Petersburg  20:28:33  Wednesday  \n",
       "1            Moscow  14:07:09     Friday  \n",
       "2  Saint-Petersburg  20:58:07  Wednesday  \n",
       "3  Saint-Petersburg  08:37:09     Monday  \n",
       "4            Moscow  08:34:34     Monday  \n",
       "5  Saint-Petersburg  13:09:41     Friday  \n",
       "6            Moscow  13:00:07  Wednesday  \n",
       "7            Moscow  20:47:49  Wednesday  \n",
       "8            Moscow  09:17:40     Friday  \n",
       "9  Saint-Petersburg  21:20:49  Wednesday  "
      ]
     },
     "execution_count": 3,
     "metadata": {},
     "output_type": "execute_result"
    }
   ],
   "source": [
    "df.head(10) # получение первых 10 строк таблицы df"
   ]
  },
  {
   "cell_type": "markdown",
   "metadata": {
    "id": "EO73Kwic_Zct"
   },
   "source": [
    "Получим общую информацию о таблице:"
   ]
  },
  {
   "cell_type": "code",
   "execution_count": 4,
   "metadata": {
    "id": "DSf2kIb-_Zct"
   },
   "outputs": [
    {
     "name": "stdout",
     "output_type": "stream",
     "text": [
      "<class 'pandas.core.frame.DataFrame'>\n",
      "RangeIndex: 65079 entries, 0 to 65078\n",
      "Data columns (total 7 columns):\n",
      " #   Column    Non-Null Count  Dtype \n",
      "---  ------    --------------  ----- \n",
      " 0     userID  65079 non-null  object\n",
      " 1   Track     63848 non-null  object\n",
      " 2   artist    57876 non-null  object\n",
      " 3   genre     63881 non-null  object\n",
      " 4     City    65079 non-null  object\n",
      " 5   time      65079 non-null  object\n",
      " 6   Day       65079 non-null  object\n",
      "dtypes: object(7)\n",
      "memory usage: 3.5+ MB\n"
     ]
    }
   ],
   "source": [
    "df.info() # получение общей информации о данных в таблице df"
   ]
  },
  {
   "cell_type": "markdown",
   "metadata": {
    "id": "TaQ2Iwbr_Zct"
   },
   "source": [
    "Итак, в таблице семь столбцов. Тип данных во всех столбцах — `object`.\n",
    "\n",
    "Согласно документации к данным:\n",
    "* `userID` — идентификатор пользователя;\n",
    "* `Track` — название трека;  \n",
    "* `artist` — имя исполнителя;\n",
    "* `genre` — название жанра;\n",
    "* `City` — город пользователя;\n",
    "* `time` — время начала прослушивания;\n",
    "* `Day` — день недели.\n",
    "\n",
    "В названиях колонок видны три нарушения стиля:\n",
    "1. Строчные буквы сочетаются с прописными.\n",
    "2. Встречаются пробелы.\n",
    "3. `В названии колонки 'userID' не преминен змеиный_регистр, а так же 'ID' написан прописными буквами.` \n",
    "\n",
    "\n",
    "Количество значений в столбцах различается. Значит, в данных есть пропущенные значения.\n"
   ]
  },
  {
   "cell_type": "markdown",
   "metadata": {
    "id": "MCB6-dXG_Zct"
   },
   "source": [
    "**Выводы**\n",
    "\n",
    "В каждой строке таблицы — данные о прослушанном треке. Часть колонок описывает саму композицию: название, исполнителя и жанр. Остальные данные рассказывают о пользователе: из какого он города, когда он слушал музыку. \n",
    "\n",
    "Предварительно можно утверждать, что, данных достаточно для проверки гипотез. Но встречаются пропуски в данных, а в названиях колонок — расхождения с хорошим стилем.\n",
    "\n",
    "Чтобы двигаться дальше, нужно устранить проблемы в данных."
   ]
  },
  {
   "cell_type": "markdown",
   "metadata": {
    "id": "SjYF6Ub9_Zct"
   },
   "source": [
    "## Предобработка данных\n",
    "Исправим стиль в заголовках столбцов, исключим пропуски. Затем проверим данные на дубликаты."
   ]
  },
  {
   "cell_type": "markdown",
   "metadata": {
    "id": "dIaKXr29_Zct"
   },
   "source": [
    "### Стиль заголовков\n",
    "Выведим на экран названия столбцов:"
   ]
  },
  {
   "cell_type": "code",
   "execution_count": 5,
   "metadata": {
    "id": "oKOTdF_Q_Zct"
   },
   "outputs": [
    {
     "data": {
      "text/plain": [
       "Index(['  userID', 'Track', 'artist', 'genre', '  City  ', 'time', 'Day'], dtype='object')"
      ]
     },
     "execution_count": 5,
     "metadata": {},
     "output_type": "execute_result"
    }
   ],
   "source": [
    "df.columns # перечень названий столбцов таблицы df"
   ]
  },
  {
   "cell_type": "markdown",
   "metadata": {
    "id": "zj5534cv_Zct"
   },
   "source": [
    "Приведем названия в соответствие с хорошим стилем:\n",
    "* несколько слов в названии запишим в «змеином_регистре»,\n",
    "* все символы сделаем строчными,\n",
    "* устраним пробелы.\n",
    "\n",
    "Для этого переименуем колонки так:\n",
    "* `'  userID'` → `'user_id'`;\n",
    "* `'Track'` → `'track'`;\n",
    "* `'  City  '` → `'city'`;\n",
    "* `'Day'` → `'day'`."
   ]
  },
  {
   "cell_type": "code",
   "execution_count": 6,
   "metadata": {
    "id": "ISlFqs5y_Zct"
   },
   "outputs": [],
   "source": [
    "df = df.rename(\n",
    "    columns={\n",
    "        '  userID': 'user_id',\n",
    "        'Track': 'track',\n",
    "        '  City  ': 'city',\n",
    "        'Day': 'day'})        # переименование столбцов"
   ]
  },
  {
   "cell_type": "markdown",
   "metadata": {
    "id": "1dqbh00J_Zct"
   },
   "source": [
    "Проверим результат. Для этого ещё раз выведим на экран названия столбцов:"
   ]
  },
  {
   "cell_type": "code",
   "execution_count": 7,
   "metadata": {
    "id": "d4NOAmTW_Zct"
   },
   "outputs": [
    {
     "data": {
      "text/plain": [
       "Index(['user_id', 'track', 'artist', 'genre', 'city', 'time', 'day'], dtype='object')"
      ]
     },
     "execution_count": 7,
     "metadata": {},
     "output_type": "execute_result"
    }
   ],
   "source": [
    "df.columns # проверка результатов "
   ]
  },
  {
   "cell_type": "markdown",
   "metadata": {
    "id": "5ISfbcfY_Zct"
   },
   "source": [
    "### Пропуски значений\n",
    "Посчитаем, сколько в таблице пропущенных значений."
   ]
  },
  {
   "cell_type": "code",
   "execution_count": 8,
   "metadata": {
    "id": "RskX29qr_Zct",
    "scrolled": true
   },
   "outputs": [
    {
     "data": {
      "text/plain": [
       "user_id       0\n",
       "track      1231\n",
       "artist     7203\n",
       "genre      1198\n",
       "city          0\n",
       "time          0\n",
       "day           0\n",
       "dtype: int64"
      ]
     },
     "execution_count": 8,
     "metadata": {},
     "output_type": "execute_result"
    }
   ],
   "source": [
    "df.isna().sum()# подсчёт пропусков"
   ]
  },
  {
   "cell_type": "markdown",
   "metadata": {
    "id": "qubhgnlO_Zct"
   },
   "source": [
    "Не все пропущенные значения влияют на исследование. Так в `track` и `artist` пропуски не важны для вашей работы. Достаточно заменить их явными обозначениями.\n",
    "\n",
    "Но пропуски в `genre` могут помешать сравнению музыкальных вкусов в Москве и Санкт-Петербурге. На практике было бы правильно установить причину пропусков и восстановить данные. Такой возможности нет в учебном проекте. Придётся:\n",
    "* заполнить и эти пропуски явными обозначениями,\n",
    "* оценить, насколько они повредят расчётам. "
   ]
  },
  {
   "cell_type": "markdown",
   "metadata": {
    "id": "fSv2laPA_Zct"
   },
   "source": [
    "Заменим пропущенные значения в столбцах `track`, `artist` и `genre` на строку `'unknown'`. Для этого создадим список `columns_to_replace`, переберем его элементы циклом `for` и для каждого столбца выполним замену пропущенных значений:"
   ]
  },
  {
   "cell_type": "code",
   "execution_count": 9,
   "metadata": {
    "id": "KplB5qWs_Zct"
   },
   "outputs": [],
   "source": [
    "columns_to_replace = ['track', 'artist', 'genre']\n",
    "for replace in columns_to_replace:\n",
    "    df[replace] = df[replace].fillna('unknown')# перебор названий столбцов в цикле и замена пропущенных значений на 'unknown'"
   ]
  },
  {
   "cell_type": "markdown",
   "metadata": {
    "id": "Ilsm-MZo_Zct"
   },
   "source": [
    "Проверим, что в таблице не осталось пропусков. Для этого ещё раз посчитаем пропущенные значения."
   ]
  },
  {
   "cell_type": "code",
   "execution_count": 10,
   "metadata": {
    "id": "Tq4nYRX4_Zct"
   },
   "outputs": [
    {
     "data": {
      "text/plain": [
       "user_id    0\n",
       "track      0\n",
       "artist     0\n",
       "genre      0\n",
       "city       0\n",
       "time       0\n",
       "day        0\n",
       "dtype: int64"
      ]
     },
     "execution_count": 10,
     "metadata": {},
     "output_type": "execute_result"
    }
   ],
   "source": [
    "df.isna().sum() # подсчёт пропусков"
   ]
  },
  {
   "cell_type": "markdown",
   "metadata": {
    "id": "BWKRtBJ3_Zct"
   },
   "source": [
    "### Дубликаты\n",
    "Посчитаем явные дубликаты в таблице одной командой:"
   ]
  },
  {
   "cell_type": "code",
   "execution_count": 11,
   "metadata": {
    "id": "36eES_S0_Zct"
   },
   "outputs": [
    {
     "data": {
      "text/plain": [
       "3826"
      ]
     },
     "execution_count": 11,
     "metadata": {},
     "output_type": "execute_result"
    }
   ],
   "source": [
    "df.duplicated().sum() # подсчёт явных дубликатов"
   ]
  },
  {
   "cell_type": "markdown",
   "metadata": {
    "id": "Ot25h6XR_Zct"
   },
   "source": [
    "Удалим явные дубликаты и ресетним индексы:"
   ]
  },
  {
   "cell_type": "code",
   "execution_count": 12,
   "metadata": {
    "id": "exFHq6tt_Zct"
   },
   "outputs": [],
   "source": [
    "df = df.drop_duplicates().reset_index(drop=True) # удаление явных дубликатов (с удалением старых индексов и формированием новых)"
   ]
  },
  {
   "cell_type": "markdown",
   "metadata": {
    "id": "Im2YwBEG_Zct"
   },
   "source": [
    "Проверим количество явных дубликатов, чтобы проверить их удаление:"
   ]
  },
  {
   "cell_type": "code",
   "execution_count": 13,
   "metadata": {
    "id": "-8PuNWQ0_Zct"
   },
   "outputs": [
    {
     "data": {
      "text/plain": [
       "0"
      ]
     },
     "execution_count": 13,
     "metadata": {},
     "output_type": "execute_result"
    }
   ],
   "source": [
    "df.duplicated().sum() # проверка на отсутствие дубликатов"
   ]
  },
  {
   "cell_type": "markdown",
   "metadata": {
    "id": "QlFBsxAr_Zct"
   },
   "source": [
    "Избавимся от неявных дубликатов в колонке `genre`. Например, название одного и того же жанра может быть записано немного по-разному. Такие ошибки тоже повлияют на результат исследования."
   ]
  },
  {
   "cell_type": "markdown",
   "metadata": {
    "id": "eSjWwsOh_Zct"
   },
   "source": [
    "Выведим на экран список уникальных названий жанров, отсортированный в алфавитном порядке. Для этого:\n",
    "* извлечем нужный столбец датафрейма, \n",
    "* применим к нему метод сортировки,\n",
    "* для отсортированного столбца вызовим метод, который вернёт уникальные значения из столбца."
   ]
  },
  {
   "cell_type": "code",
   "execution_count": 14,
   "metadata": {
    "id": "JIUcqzZN_Zct"
   },
   "outputs": [
    {
     "data": {
      "text/plain": [
       "['acid',\n",
       " 'acoustic',\n",
       " 'action',\n",
       " 'adult',\n",
       " 'africa',\n",
       " 'afrikaans',\n",
       " 'alternative',\n",
       " 'alternativepunk',\n",
       " 'ambient',\n",
       " 'americana',\n",
       " 'animated',\n",
       " 'anime',\n",
       " 'arabesk',\n",
       " 'arabic',\n",
       " 'arena',\n",
       " 'argentinetango',\n",
       " 'art',\n",
       " 'audiobook',\n",
       " 'author',\n",
       " 'avantgarde',\n",
       " 'axé',\n",
       " 'baile',\n",
       " 'balkan',\n",
       " 'beats',\n",
       " 'bigroom',\n",
       " 'black',\n",
       " 'bluegrass',\n",
       " 'blues',\n",
       " 'bollywood',\n",
       " 'bossa',\n",
       " 'brazilian',\n",
       " 'breakbeat',\n",
       " 'breaks',\n",
       " 'broadway',\n",
       " 'cantautori',\n",
       " 'cantopop',\n",
       " 'canzone',\n",
       " 'caribbean',\n",
       " 'caucasian',\n",
       " 'celtic',\n",
       " 'chamber',\n",
       " 'chanson',\n",
       " 'children',\n",
       " 'chill',\n",
       " 'chinese',\n",
       " 'choral',\n",
       " 'christian',\n",
       " 'christmas',\n",
       " 'classical',\n",
       " 'classicmetal',\n",
       " 'club',\n",
       " 'colombian',\n",
       " 'comedy',\n",
       " 'conjazz',\n",
       " 'contemporary',\n",
       " 'country',\n",
       " 'cuban',\n",
       " 'dance',\n",
       " 'dancehall',\n",
       " 'dancepop',\n",
       " 'dark',\n",
       " 'death',\n",
       " 'deep',\n",
       " 'deutschrock',\n",
       " 'deutschspr',\n",
       " 'dirty',\n",
       " 'disco',\n",
       " 'dnb',\n",
       " 'documentary',\n",
       " 'downbeat',\n",
       " 'downtempo',\n",
       " 'drum',\n",
       " 'dub',\n",
       " 'dubstep',\n",
       " 'eastern',\n",
       " 'easy',\n",
       " 'electronic',\n",
       " 'electropop',\n",
       " 'emo',\n",
       " 'entehno',\n",
       " 'epicmetal',\n",
       " 'estrada',\n",
       " 'ethnic',\n",
       " 'eurofolk',\n",
       " 'european',\n",
       " 'experimental',\n",
       " 'extrememetal',\n",
       " 'fado',\n",
       " 'fairytail',\n",
       " 'film',\n",
       " 'fitness',\n",
       " 'flamenco',\n",
       " 'folk',\n",
       " 'folklore',\n",
       " 'folkmetal',\n",
       " 'folkrock',\n",
       " 'folktronica',\n",
       " 'forró',\n",
       " 'frankreich',\n",
       " 'französisch',\n",
       " 'french',\n",
       " 'funk',\n",
       " 'future',\n",
       " 'gangsta',\n",
       " 'garage',\n",
       " 'german',\n",
       " 'ghazal',\n",
       " 'gitarre',\n",
       " 'glitch',\n",
       " 'gospel',\n",
       " 'gothic',\n",
       " 'grime',\n",
       " 'grunge',\n",
       " 'gypsy',\n",
       " 'handsup',\n",
       " \"hard'n'heavy\",\n",
       " 'hardcore',\n",
       " 'hardstyle',\n",
       " 'hardtechno',\n",
       " 'hip',\n",
       " 'hip-hop',\n",
       " 'hiphop',\n",
       " 'historisch',\n",
       " 'holiday',\n",
       " 'hop',\n",
       " 'horror',\n",
       " 'house',\n",
       " 'hymn',\n",
       " 'idm',\n",
       " 'independent',\n",
       " 'indian',\n",
       " 'indie',\n",
       " 'indipop',\n",
       " 'industrial',\n",
       " 'inspirational',\n",
       " 'instrumental',\n",
       " 'international',\n",
       " 'irish',\n",
       " 'jam',\n",
       " 'japanese',\n",
       " 'jazz',\n",
       " 'jewish',\n",
       " 'jpop',\n",
       " 'jungle',\n",
       " 'k-pop',\n",
       " 'karadeniz',\n",
       " 'karaoke',\n",
       " 'kayokyoku',\n",
       " 'korean',\n",
       " 'laiko',\n",
       " 'latin',\n",
       " 'latino',\n",
       " 'leftfield',\n",
       " 'local',\n",
       " 'lounge',\n",
       " 'loungeelectronic',\n",
       " 'lovers',\n",
       " 'malaysian',\n",
       " 'mandopop',\n",
       " 'marschmusik',\n",
       " 'meditative',\n",
       " 'mediterranean',\n",
       " 'melodic',\n",
       " 'metal',\n",
       " 'metalcore',\n",
       " 'mexican',\n",
       " 'middle',\n",
       " 'minimal',\n",
       " 'miscellaneous',\n",
       " 'modern',\n",
       " 'mood',\n",
       " 'mpb',\n",
       " 'muslim',\n",
       " 'native',\n",
       " 'neoklassik',\n",
       " 'neue',\n",
       " 'new',\n",
       " 'newage',\n",
       " 'newwave',\n",
       " 'nu',\n",
       " 'nujazz',\n",
       " 'numetal',\n",
       " 'oceania',\n",
       " 'old',\n",
       " 'opera',\n",
       " 'orchestral',\n",
       " 'other',\n",
       " 'piano',\n",
       " 'podcasts',\n",
       " 'pop',\n",
       " 'popdance',\n",
       " 'popelectronic',\n",
       " 'popeurodance',\n",
       " 'poprussian',\n",
       " 'post',\n",
       " 'posthardcore',\n",
       " 'postrock',\n",
       " 'power',\n",
       " 'progmetal',\n",
       " 'progressive',\n",
       " 'psychedelic',\n",
       " 'punjabi',\n",
       " 'punk',\n",
       " 'quebecois',\n",
       " 'ragga',\n",
       " 'ram',\n",
       " 'rancheras',\n",
       " 'rap',\n",
       " 'rave',\n",
       " 'reggae',\n",
       " 'reggaeton',\n",
       " 'regional',\n",
       " 'relax',\n",
       " 'religious',\n",
       " 'retro',\n",
       " 'rhythm',\n",
       " 'rnb',\n",
       " 'rnr',\n",
       " 'rock',\n",
       " 'rockabilly',\n",
       " 'rockalternative',\n",
       " 'rockindie',\n",
       " 'rockother',\n",
       " 'romance',\n",
       " 'roots',\n",
       " 'ruspop',\n",
       " 'rusrap',\n",
       " 'rusrock',\n",
       " 'russian',\n",
       " 'salsa',\n",
       " 'samba',\n",
       " 'scenic',\n",
       " 'schlager',\n",
       " 'self',\n",
       " 'sertanejo',\n",
       " 'shanson',\n",
       " 'shoegazing',\n",
       " 'showtunes',\n",
       " 'singer',\n",
       " 'ska',\n",
       " 'skarock',\n",
       " 'slow',\n",
       " 'smooth',\n",
       " 'soft',\n",
       " 'soul',\n",
       " 'soulful',\n",
       " 'sound',\n",
       " 'soundtrack',\n",
       " 'southern',\n",
       " 'specialty',\n",
       " 'speech',\n",
       " 'spiritual',\n",
       " 'sport',\n",
       " 'stonerrock',\n",
       " 'surf',\n",
       " 'swing',\n",
       " 'synthpop',\n",
       " 'synthrock',\n",
       " 'sängerportrait',\n",
       " 'tango',\n",
       " 'tanzorchester',\n",
       " 'taraftar',\n",
       " 'tatar',\n",
       " 'tech',\n",
       " 'techno',\n",
       " 'teen',\n",
       " 'thrash',\n",
       " 'top',\n",
       " 'traditional',\n",
       " 'tradjazz',\n",
       " 'trance',\n",
       " 'tribal',\n",
       " 'trip',\n",
       " 'triphop',\n",
       " 'tropical',\n",
       " 'türk',\n",
       " 'türkçe',\n",
       " 'ukrrock',\n",
       " 'unknown',\n",
       " 'urban',\n",
       " 'uzbek',\n",
       " 'variété',\n",
       " 'vi',\n",
       " 'videogame',\n",
       " 'vocal',\n",
       " 'western',\n",
       " 'world',\n",
       " 'worldbeat',\n",
       " 'ïîï',\n",
       " 'электроника']"
      ]
     },
     "execution_count": 14,
     "metadata": {},
     "output_type": "execute_result"
    }
   ],
   "source": [
    "sorted(df['genre'].unique()) # Просмотр уникальных названий жанров"
   ]
  },
  {
   "cell_type": "markdown",
   "metadata": {
    "id": "qej-Qmuo_Zct"
   },
   "source": [
    "Присутчтвуют следующие неявные дубликаты:\n",
    "* *hip*,\n",
    "* *hop*,\n",
    "* *hip-hop*.\n",
    "\n",
    "Чтобы очистить от них таблицу, напишим функцию `replace_wrong_genres()` с двумя параметрами: \n",
    "* `wrong_genres` — список дубликатов,\n",
    "* `correct_genre` — строка с правильным значением.\n",
    "\n",
    "Функция должна исправить колонку `genre` в таблице `df`: заменить каждое значение из списка `wrong_genres` на значение из `correct_genre`."
   ]
  },
  {
   "cell_type": "code",
   "execution_count": 15,
   "metadata": {
    "id": "ErNDkmns_Zct"
   },
   "outputs": [],
   "source": [
    "def replace_wrong_genres(wrong_genres, correct_genre):\n",
    "    for wrong in wrong_genres:\n",
    "        df['genre'] = df['genre'].replace(wrong, correct_genre)\n",
    "    return df['genre']\n",
    "\n",
    "    # Функция для замены неявных дубликатов"
   ]
  },
  {
   "cell_type": "markdown",
   "metadata": {
    "id": "aDoBJxbA_Zct"
   },
   "source": [
    "Вызовим `replace_wrong_genres()` и устраним неявные дубликаты, вместо `hip`, `hop` и `hip-hop` в таблице должно быть значение `hiphop`:"
   ]
  },
  {
   "cell_type": "code",
   "execution_count": 16,
   "metadata": {
    "id": "YN5i2hpmSo09"
   },
   "outputs": [],
   "source": [
    "wrong_genres = ['hip', 'hop', 'hip-hop']\n",
    "correct_genre = 'hiphop'\n",
    "df['genre'] = replace_wrong_genres(wrong_genres, correct_genre) # Устранение неявных дубликатов"
   ]
  },
  {
   "cell_type": "markdown",
   "metadata": {
    "id": "zQKF16_RG15m"
   },
   "source": [
    "Проверим, что заменили неправильные названия:\n",
    "\n",
    "*   hip\n",
    "*   hop\n",
    "*   hip-hop\n",
    "\n",
    "Выведим отсортированный список уникальных значений столбца `genre`:"
   ]
  },
  {
   "cell_type": "code",
   "execution_count": 17,
   "metadata": {
    "id": "wvixALnFG15m"
   },
   "outputs": [
    {
     "data": {
      "text/plain": [
       "['acid',\n",
       " 'acoustic',\n",
       " 'action',\n",
       " 'adult',\n",
       " 'africa',\n",
       " 'afrikaans',\n",
       " 'alternative',\n",
       " 'alternativepunk',\n",
       " 'ambient',\n",
       " 'americana',\n",
       " 'animated',\n",
       " 'anime',\n",
       " 'arabesk',\n",
       " 'arabic',\n",
       " 'arena',\n",
       " 'argentinetango',\n",
       " 'art',\n",
       " 'audiobook',\n",
       " 'author',\n",
       " 'avantgarde',\n",
       " 'axé',\n",
       " 'baile',\n",
       " 'balkan',\n",
       " 'beats',\n",
       " 'bigroom',\n",
       " 'black',\n",
       " 'bluegrass',\n",
       " 'blues',\n",
       " 'bollywood',\n",
       " 'bossa',\n",
       " 'brazilian',\n",
       " 'breakbeat',\n",
       " 'breaks',\n",
       " 'broadway',\n",
       " 'cantautori',\n",
       " 'cantopop',\n",
       " 'canzone',\n",
       " 'caribbean',\n",
       " 'caucasian',\n",
       " 'celtic',\n",
       " 'chamber',\n",
       " 'chanson',\n",
       " 'children',\n",
       " 'chill',\n",
       " 'chinese',\n",
       " 'choral',\n",
       " 'christian',\n",
       " 'christmas',\n",
       " 'classical',\n",
       " 'classicmetal',\n",
       " 'club',\n",
       " 'colombian',\n",
       " 'comedy',\n",
       " 'conjazz',\n",
       " 'contemporary',\n",
       " 'country',\n",
       " 'cuban',\n",
       " 'dance',\n",
       " 'dancehall',\n",
       " 'dancepop',\n",
       " 'dark',\n",
       " 'death',\n",
       " 'deep',\n",
       " 'deutschrock',\n",
       " 'deutschspr',\n",
       " 'dirty',\n",
       " 'disco',\n",
       " 'dnb',\n",
       " 'documentary',\n",
       " 'downbeat',\n",
       " 'downtempo',\n",
       " 'drum',\n",
       " 'dub',\n",
       " 'dubstep',\n",
       " 'eastern',\n",
       " 'easy',\n",
       " 'electronic',\n",
       " 'electropop',\n",
       " 'emo',\n",
       " 'entehno',\n",
       " 'epicmetal',\n",
       " 'estrada',\n",
       " 'ethnic',\n",
       " 'eurofolk',\n",
       " 'european',\n",
       " 'experimental',\n",
       " 'extrememetal',\n",
       " 'fado',\n",
       " 'fairytail',\n",
       " 'film',\n",
       " 'fitness',\n",
       " 'flamenco',\n",
       " 'folk',\n",
       " 'folklore',\n",
       " 'folkmetal',\n",
       " 'folkrock',\n",
       " 'folktronica',\n",
       " 'forró',\n",
       " 'frankreich',\n",
       " 'französisch',\n",
       " 'french',\n",
       " 'funk',\n",
       " 'future',\n",
       " 'gangsta',\n",
       " 'garage',\n",
       " 'german',\n",
       " 'ghazal',\n",
       " 'gitarre',\n",
       " 'glitch',\n",
       " 'gospel',\n",
       " 'gothic',\n",
       " 'grime',\n",
       " 'grunge',\n",
       " 'gypsy',\n",
       " 'handsup',\n",
       " \"hard'n'heavy\",\n",
       " 'hardcore',\n",
       " 'hardstyle',\n",
       " 'hardtechno',\n",
       " 'hiphop',\n",
       " 'historisch',\n",
       " 'holiday',\n",
       " 'horror',\n",
       " 'house',\n",
       " 'hymn',\n",
       " 'idm',\n",
       " 'independent',\n",
       " 'indian',\n",
       " 'indie',\n",
       " 'indipop',\n",
       " 'industrial',\n",
       " 'inspirational',\n",
       " 'instrumental',\n",
       " 'international',\n",
       " 'irish',\n",
       " 'jam',\n",
       " 'japanese',\n",
       " 'jazz',\n",
       " 'jewish',\n",
       " 'jpop',\n",
       " 'jungle',\n",
       " 'k-pop',\n",
       " 'karadeniz',\n",
       " 'karaoke',\n",
       " 'kayokyoku',\n",
       " 'korean',\n",
       " 'laiko',\n",
       " 'latin',\n",
       " 'latino',\n",
       " 'leftfield',\n",
       " 'local',\n",
       " 'lounge',\n",
       " 'loungeelectronic',\n",
       " 'lovers',\n",
       " 'malaysian',\n",
       " 'mandopop',\n",
       " 'marschmusik',\n",
       " 'meditative',\n",
       " 'mediterranean',\n",
       " 'melodic',\n",
       " 'metal',\n",
       " 'metalcore',\n",
       " 'mexican',\n",
       " 'middle',\n",
       " 'minimal',\n",
       " 'miscellaneous',\n",
       " 'modern',\n",
       " 'mood',\n",
       " 'mpb',\n",
       " 'muslim',\n",
       " 'native',\n",
       " 'neoklassik',\n",
       " 'neue',\n",
       " 'new',\n",
       " 'newage',\n",
       " 'newwave',\n",
       " 'nu',\n",
       " 'nujazz',\n",
       " 'numetal',\n",
       " 'oceania',\n",
       " 'old',\n",
       " 'opera',\n",
       " 'orchestral',\n",
       " 'other',\n",
       " 'piano',\n",
       " 'podcasts',\n",
       " 'pop',\n",
       " 'popdance',\n",
       " 'popelectronic',\n",
       " 'popeurodance',\n",
       " 'poprussian',\n",
       " 'post',\n",
       " 'posthardcore',\n",
       " 'postrock',\n",
       " 'power',\n",
       " 'progmetal',\n",
       " 'progressive',\n",
       " 'psychedelic',\n",
       " 'punjabi',\n",
       " 'punk',\n",
       " 'quebecois',\n",
       " 'ragga',\n",
       " 'ram',\n",
       " 'rancheras',\n",
       " 'rap',\n",
       " 'rave',\n",
       " 'reggae',\n",
       " 'reggaeton',\n",
       " 'regional',\n",
       " 'relax',\n",
       " 'religious',\n",
       " 'retro',\n",
       " 'rhythm',\n",
       " 'rnb',\n",
       " 'rnr',\n",
       " 'rock',\n",
       " 'rockabilly',\n",
       " 'rockalternative',\n",
       " 'rockindie',\n",
       " 'rockother',\n",
       " 'romance',\n",
       " 'roots',\n",
       " 'ruspop',\n",
       " 'rusrap',\n",
       " 'rusrock',\n",
       " 'russian',\n",
       " 'salsa',\n",
       " 'samba',\n",
       " 'scenic',\n",
       " 'schlager',\n",
       " 'self',\n",
       " 'sertanejo',\n",
       " 'shanson',\n",
       " 'shoegazing',\n",
       " 'showtunes',\n",
       " 'singer',\n",
       " 'ska',\n",
       " 'skarock',\n",
       " 'slow',\n",
       " 'smooth',\n",
       " 'soft',\n",
       " 'soul',\n",
       " 'soulful',\n",
       " 'sound',\n",
       " 'soundtrack',\n",
       " 'southern',\n",
       " 'specialty',\n",
       " 'speech',\n",
       " 'spiritual',\n",
       " 'sport',\n",
       " 'stonerrock',\n",
       " 'surf',\n",
       " 'swing',\n",
       " 'synthpop',\n",
       " 'synthrock',\n",
       " 'sängerportrait',\n",
       " 'tango',\n",
       " 'tanzorchester',\n",
       " 'taraftar',\n",
       " 'tatar',\n",
       " 'tech',\n",
       " 'techno',\n",
       " 'teen',\n",
       " 'thrash',\n",
       " 'top',\n",
       " 'traditional',\n",
       " 'tradjazz',\n",
       " 'trance',\n",
       " 'tribal',\n",
       " 'trip',\n",
       " 'triphop',\n",
       " 'tropical',\n",
       " 'türk',\n",
       " 'türkçe',\n",
       " 'ukrrock',\n",
       " 'unknown',\n",
       " 'urban',\n",
       " 'uzbek',\n",
       " 'variété',\n",
       " 'vi',\n",
       " 'videogame',\n",
       " 'vocal',\n",
       " 'western',\n",
       " 'world',\n",
       " 'worldbeat',\n",
       " 'ïîï',\n",
       " 'электроника']"
      ]
     },
     "execution_count": 17,
     "metadata": {},
     "output_type": "execute_result"
    }
   ],
   "source": [
    "sorted(df['genre'].unique())# Проверка на неявные дубликаты"
   ]
  },
  {
   "cell_type": "markdown",
   "metadata": {
    "id": "jz6a9-7HQUDd"
   },
   "source": [
    "**Выводы**\n",
    "\n",
    "Предобработка обнаружила три проблемы в данных:\n",
    "\n",
    "- нарушения в стиле заголовков,\n",
    "- пропущенные значения,\n",
    "- дубликаты — явные и неявные."
   ]
  },
  {
   "cell_type": "markdown",
   "metadata": {
    "id": "WttZHXH0SqKk"
   },
   "source": [
    "## Проверка гипотез"
   ]
  },
  {
   "cell_type": "markdown",
   "metadata": {
    "id": "Im936VVi_Zcu"
   },
   "source": [
    "### Сравнение поведения пользователей двух столиц"
   ]
  },
  {
   "cell_type": "markdown",
   "metadata": {
    "id": "nwt_MuaL_Zcu"
   },
   "source": [
    "Первая гипотеза утверждает, что пользователи по-разному слушают музыку в Москве и Санкт-Петербурге. Проверим это предположение по данным о трёх днях недели — понедельнике, среде и пятнице. Для этого:\n",
    "\n",
    "* Разделим пользователей Москвы и Санкт-Петербурга\n",
    "* Сравним, сколько треков послушала каждая группа пользователей в понедельник, среду и пятницу.\n"
   ]
  },
  {
   "cell_type": "markdown",
   "metadata": {
    "id": "8Dw_YMmT_Zcu"
   },
   "source": [
    "Для тренировки сначала выполним каждый из расчётов по отдельности. \n",
    "\n",
    "Оценим активность пользователей в каждом городе. Сгруппируем данные по городу и посчитаем прослушивания в каждой группе.\n",
    "\n"
   ]
  },
  {
   "cell_type": "code",
   "execution_count": 18,
   "metadata": {
    "id": "0_Qs96oh_Zcu"
   },
   "outputs": [
    {
     "data": {
      "text/plain": [
       "city\n",
       "Moscow              42741\n",
       "Saint-Petersburg    18512\n",
       "Name: track, dtype: int64"
      ]
     },
     "execution_count": 18,
     "metadata": {},
     "output_type": "execute_result"
    }
   ],
   "source": [
    "df.groupby('city')['track'].count()# Подсчёт прослушиваний в каждом городе"
   ]
  },
  {
   "cell_type": "markdown",
   "metadata": {
    "id": "dzli3w8o_Zcu"
   },
   "source": [
    "В Москве прослушиваний больше, чем в Петербурге. Из этого не следует, что московские пользователи чаще слушают музыку. Просто самих пользователей в Москве больше.\n",
    "\n",
    "Теперь сгруппируем данные по дню недели и подсчитаем прослушивания в понедельник, среду и пятницу. В данных есть информация только о прослушиваниях только за эти дни.\n"
   ]
  },
  {
   "cell_type": "code",
   "execution_count": 19,
   "metadata": {
    "id": "uZMKjiJz_Zcu"
   },
   "outputs": [
    {
     "data": {
      "text/plain": [
       "day\n",
       "Friday       21840\n",
       "Monday       21354\n",
       "Wednesday    18059\n",
       "Name: track, dtype: int64"
      ]
     },
     "execution_count": 19,
     "metadata": {},
     "output_type": "execute_result"
    }
   ],
   "source": [
    "df.groupby('day')['track'].count()# Подсчёт прослушиваний в каждый из трёх дней"
   ]
  },
  {
   "cell_type": "markdown",
   "metadata": {
    "id": "cC2tNrlL_Zcu"
   },
   "source": [
    "В среднем пользователи из двух городов менее активны по средам. Но картина может измениться, если рассмотреть каждый город в отдельности."
   ]
  },
  {
   "cell_type": "markdown",
   "metadata": {
    "id": "POzs8bGa_Zcu"
   },
   "source": [
    "Теперь напишите функцию, которая объединит два эти расчёта (по городу и дню недели).\n",
    "\n",
    "Создадим функцию `number_tracks()`, которая посчитает прослушивания для заданного дня и города. Ей понадобятся два параметра:\n",
    "* день недели,\n",
    "* название города.\n",
    "\n",
    "В функции сохраним в переменную строки исходной таблицы, у которых значение:\n",
    "  * в колонке `day` равно параметру `day`,\n",
    "  * в колонке `city` равно параметру `city`.\n",
    "\n",
    "Для этого применим последовательную фильтрацию с логической индексацией.\n",
    "\n",
    "Затем посчитаем значения в столбце `user_id` получившейся таблицы. Результат сохраним в новую переменную. Вернем эту переменную из функции."
   ]
  },
  {
   "cell_type": "code",
   "execution_count": 20,
   "metadata": {
    "id": "Nz3GdQB1_Zcu"
   },
   "outputs": [],
   "source": [
    "# <создание функции number_tracks()>\n",
    "\n",
    "def number_tracks(day, city): \n",
    "    track_list = df[df['day'] == day] \n",
    "    track_list = track_list[track_list['city'] == city]\n",
    "    track_list_count = track_list['user_id'].count()\n",
    "    return track_list_count \n",
    "\n",
    "# Объявляется функция с двумя параметрами: day, city.\n",
    "# В переменной track_list сохраняются те строки таблицы df, для которых \n",
    "# значение в столбце 'day' равно параметру day и одновременно значение\n",
    "# в столбце 'city' равно параметру city (используйте последовательную фильтрацию\n",
    "# с помощью логической индексации).\n",
    "# В переменной track_list_count сохраняется число значений столбца 'user_id',\n",
    "# рассчитанное методом count() для таблицы track_list.\n",
    "# Функция возвращает число - значение track_list_count.\n",
    "\n",
    "# Функция для подсчёта прослушиваний для конкретного города и дня.\n",
    "# С помощью последовательной фильтрации с логической индексацией она \n",
    "# сначала получит из исходной таблицы строки с нужным днём,\n",
    "# затем из результата отфильтрует строки с нужным городом,\n",
    "# методом count() посчитает количество значений в колонке user_id. \n",
    "# Это количество функция вернёт в качестве результата"
   ]
  },
  {
   "cell_type": "markdown",
   "metadata": {
    "id": "ytf7xFrFJQ2r"
   },
   "source": [
    "Вызовим `number_tracks()` шесть раз, меняя значение параметров — так, чтобы получить данные для каждого города в каждый из трёх дней."
   ]
  },
  {
   "cell_type": "code",
   "execution_count": 21,
   "metadata": {
    "id": "rJcRATNQ_Zcu"
   },
   "outputs": [],
   "source": [
    "monday_msc = number_tracks('Monday', 'Moscow') # количество прослушиваний в Москве по понедельникам"
   ]
  },
  {
   "cell_type": "code",
   "execution_count": 22,
   "metadata": {
    "id": "hq_ncZ5T_Zcu"
   },
   "outputs": [],
   "source": [
    "monday_spb = number_tracks('Monday', 'Saint-Petersburg')# количество прослушиваний в Санкт-Петербурге по понедельникам"
   ]
  },
  {
   "cell_type": "code",
   "execution_count": 23,
   "metadata": {
    "id": "_NTy2VPU_Zcu"
   },
   "outputs": [],
   "source": [
    "wednesday_msc = number_tracks('Wednesday', 'Moscow')# количество прослушиваний в Москве по средам"
   ]
  },
  {
   "cell_type": "code",
   "execution_count": 24,
   "metadata": {
    "id": "j2y3TAwo_Zcu"
   },
   "outputs": [],
   "source": [
    "wednesday_spb = number_tracks('Wednesday', 'Saint-Petersburg')# количество прослушиваний в Санкт-Петербурге по средам"
   ]
  },
  {
   "cell_type": "code",
   "execution_count": 25,
   "metadata": {
    "id": "vYDw5u_K_Zcu"
   },
   "outputs": [],
   "source": [
    "friday_msc = number_tracks('Friday', 'Moscow')# количество прослушиваний в Москве по пятницам"
   ]
  },
  {
   "cell_type": "code",
   "execution_count": 26,
   "metadata": {
    "id": "8_yzFtW3_Zcu"
   },
   "outputs": [],
   "source": [
    "friday_spb = number_tracks('Friday', 'Saint-Petersburg') # количество прослушиваний в Санкт-Петербурге по пятницам"
   ]
  },
  {
   "cell_type": "markdown",
   "metadata": {
    "id": "7QXffbO-_Zcu"
   },
   "source": [
    "Создадим c помощью конструктора `pd.DataFrame` таблицу, где\n",
    "* названия колонок — `['city', 'monday', 'wednesday', 'friday']`;\n",
    "* данные — результаты, которые вы получили с помощью `number_tracks`."
   ]
  },
  {
   "cell_type": "code",
   "execution_count": 27,
   "metadata": {
    "id": "APAcLpOr_Zcu"
   },
   "outputs": [
    {
     "data": {
      "text/html": [
       "<div>\n",
       "<style scoped>\n",
       "    .dataframe tbody tr th:only-of-type {\n",
       "        vertical-align: middle;\n",
       "    }\n",
       "\n",
       "    .dataframe tbody tr th {\n",
       "        vertical-align: top;\n",
       "    }\n",
       "\n",
       "    .dataframe thead th {\n",
       "        text-align: right;\n",
       "    }\n",
       "</style>\n",
       "<table border=\"1\" class=\"dataframe\">\n",
       "  <thead>\n",
       "    <tr style=\"text-align: right;\">\n",
       "      <th></th>\n",
       "      <th>city</th>\n",
       "      <th>monday</th>\n",
       "      <th>wednesday</th>\n",
       "      <th>friday</th>\n",
       "    </tr>\n",
       "  </thead>\n",
       "  <tbody>\n",
       "    <tr>\n",
       "      <th>0</th>\n",
       "      <td>Москва</td>\n",
       "      <td>15740</td>\n",
       "      <td>11056</td>\n",
       "      <td>15945</td>\n",
       "    </tr>\n",
       "    <tr>\n",
       "      <th>1</th>\n",
       "      <td>Санкт-Петербург</td>\n",
       "      <td>5614</td>\n",
       "      <td>7003</td>\n",
       "      <td>5895</td>\n",
       "    </tr>\n",
       "  </tbody>\n",
       "</table>\n",
       "</div>"
      ],
      "text/plain": [
       "              city  monday  wednesday  friday\n",
       "0           Москва   15740      11056   15945\n",
       "1  Санкт-Петербург    5614       7003    5895"
      ]
     },
     "metadata": {},
     "output_type": "display_data"
    }
   ],
   "source": [
    "column_name =['city', 'monday', 'wednesday', 'friday']\n",
    "data = [\n",
    "    ['Москва', monday_msc, wednesday_msc,  friday_msc],\n",
    "    ['Санкт-Петербург', monday_spb, wednesday_spb, friday_spb],\n",
    "]\n",
    "       \n",
    "display(pd.DataFrame(data = data, columns = column_name)) # Таблица с результатами"
   ]
  },
  {
   "cell_type": "markdown",
   "metadata": {
    "id": "-EgPIHYu_Zcu"
   },
   "source": [
    "**Выводы**\n",
    "\n",
    "Данные показывают разницу поведения пользователей:\n",
    "\n",
    "- В Москве пик прослушиваний приходится на понедельник и пятницу, а в среду заметен спад.\n",
    "- В Петербурге, наоборот, больше слушают музыку по средам. Активность в понедельник и пятницу здесь почти в равной мере уступает среде.\n",
    "\n",
    "Значит, данные говорят в пользу первой гипотезы."
   ]
  },
  {
   "cell_type": "markdown",
   "metadata": {
    "id": "atZAxtq4_Zcu"
   },
   "source": [
    "### Музыка в начале и в конце недели"
   ]
  },
  {
   "cell_type": "markdown",
   "metadata": {
    "id": "eXrQqXFH_Zcu"
   },
   "source": [
    "Согласно второй гипотезе, утром в понедельник в Москве преобладают одни жанры, а в Петербурге — другие. Так же и вечером пятницы преобладают разные жанры — в зависимости от города."
   ]
  },
  {
   "cell_type": "markdown",
   "metadata": {
    "id": "S8UcW6Hw_Zcu"
   },
   "source": [
    "Сохраним таблицы с данными в две переменные:\n",
    "* по Москве — в `moscow_general`;\n",
    "* по Санкт-Петербургу — в `spb_general`."
   ]
  },
  {
   "cell_type": "code",
   "execution_count": 28,
   "metadata": {
    "id": "qeaFfM_P_Zcu"
   },
   "outputs": [],
   "source": [
    "moscow_general = df[df['city'] == 'Moscow'] \n",
    "# получение таблицы moscow_general из тех строк таблицы df, \n",
    "   # для которых значение в столбце 'city' равно 'Moscow'"
   ]
  },
  {
   "cell_type": "code",
   "execution_count": 29,
   "metadata": {
    "id": "ORaVRKto_Zcu"
   },
   "outputs": [],
   "source": [
    "spb_general = df[df['city'] == 'Saint-Petersburg']\n",
    "# получение таблицы spb_general из тех строк таблицы df,\n",
    "# для которых значение в столбце 'city' равно 'Saint-Petersburg'\n"
   ]
  },
  {
   "cell_type": "markdown",
   "metadata": {
    "id": "MEJV-CX2_Zcu"
   },
   "source": [
    "Создадим функцию `genre_weekday()` с четырьмя параметрами:\n",
    "* таблица (датафрейм) с данными,\n",
    "* день недели,\n",
    "* начальная временная метка в формате 'hh:mm', \n",
    "* последняя временная метка в формате 'hh:mm'.\n",
    "\n",
    "Функция должна вернуть информацию о топ-10 жанров тех треков, которые прослушивали в указанный день, в промежутке между двумя отметками времени."
   ]
  },
  {
   "cell_type": "code",
   "execution_count": 30,
   "metadata": {
    "id": "laJT9BYl_Zcu"
   },
   "outputs": [],
   "source": [
    "def genre_weekday(table, day, time1, time2):\n",
    "    genre_df = table[table['day'] == day]\n",
    "    genre_df = genre_df[genre_df['time'] > time1]\n",
    "    genre_df = genre_df[genre_df['time'] < time2]\n",
    "    genre_df_count = genre_df.groupby('genre')['genre'].count()\n",
    "    genre_df_sorted = genre_df_count.sort_values(ascending=False)\n",
    "    return genre_df_sorted.head(10)\n",
    "    \n",
    "# Объявление функции genre_weekday() с параметрами table, day, time1, time2,\n",
    "# которая возвращает информацию о самых популярных жанрах в указанный день в\n",
    "# заданное время:\n",
    "# 1) в переменную genre_df сохраняются те строки переданного датафрейма table, для\n",
    "#    которых одновременно:\n",
    "#    - значение в столбце day равно значению аргумента day\n",
    "#    - значение в столбце time больше значения аргумента time1\n",
    "#    - значение в столбце time меньше значения аргумента time2\n",
    "#    Используйте последовательную фильтрацию с помощью логической индексации.\n",
    "# 2) сгруппировать датафрейм genre_df по столбцу genre, взять один из его\n",
    "#    столбцов и посчитать методом count() количество записей для каждого из\n",
    "#    присутствующих жанров, получившийся Series записать в переменную\n",
    "#    genre_df_count\n",
    "# 3) отсортировать genre_df_count по убыванию встречаемости и сохранить\n",
    "#    в переменную genre_df_sorted\n",
    "# 4) вернуть Series из 10 первых значений genre_df_sorted, это будут топ-10\n",
    "#    популярных жанров (в указанный день, в заданное время)"
   ]
  },
  {
   "cell_type": "markdown",
   "metadata": {
    "id": "la2s2_PF_Zcu"
   },
   "source": [
    "Cравним результаты функции `genre_weekday()` для Москвы и Санкт-Петербурга в понедельник утром (с 7:00 до 11:00) и в пятницу вечером (с 17:00 до 23:00):"
   ]
  },
  {
   "cell_type": "code",
   "execution_count": 31,
   "metadata": {
    "id": "yz7itPUQ_Zcu"
   },
   "outputs": [
    {
     "data": {
      "text/plain": [
       "genre\n",
       "pop            781\n",
       "dance          549\n",
       "electronic     480\n",
       "rock           474\n",
       "hiphop         286\n",
       "ruspop         186\n",
       "world          181\n",
       "rusrap         175\n",
       "alternative    164\n",
       "unknown        161\n",
       "Name: genre, dtype: int64"
      ]
     },
     "execution_count": 31,
     "metadata": {},
     "output_type": "execute_result"
    }
   ],
   "source": [
    "genre_weekday(moscow_general, 'Monday', '07:00', '11:00')\n",
    "# вызов функции для утра понедельника в Москве (вместо df — таблица moscow_general)\n",
    "# объекты, хранящие время, являются строками и сравниваются как строки\n",
    "# пример вызова: genre_weekday(moscow_general, 'Monday', '07:00', '11:00')"
   ]
  },
  {
   "cell_type": "code",
   "execution_count": 32,
   "metadata": {
    "id": "kwUcHPdy_Zcu"
   },
   "outputs": [
    {
     "data": {
      "text/plain": [
       "genre\n",
       "pop            218\n",
       "dance          182\n",
       "rock           162\n",
       "electronic     147\n",
       "hiphop          80\n",
       "ruspop          64\n",
       "alternative     58\n",
       "rusrap          55\n",
       "jazz            44\n",
       "classical       40\n",
       "Name: genre, dtype: int64"
      ]
     },
     "execution_count": 32,
     "metadata": {},
     "output_type": "execute_result"
    }
   ],
   "source": [
    "genre_weekday(spb_general, 'Monday', '07:00', '11:00')\n",
    "# вызов функции для утра понедельника в Петербурге (вместо df — таблица spb_general)"
   ]
  },
  {
   "cell_type": "code",
   "execution_count": 33,
   "metadata": {
    "id": "EzXVRE1o_Zcu"
   },
   "outputs": [
    {
     "data": {
      "text/plain": [
       "genre\n",
       "pop            713\n",
       "rock           517\n",
       "dance          495\n",
       "electronic     482\n",
       "hiphop         273\n",
       "world          208\n",
       "ruspop         170\n",
       "alternative    163\n",
       "classical      163\n",
       "rusrap         142\n",
       "Name: genre, dtype: int64"
      ]
     },
     "execution_count": 33,
     "metadata": {},
     "output_type": "execute_result"
    }
   ],
   "source": [
    "genre_weekday(moscow_general, 'Friday', '17:00', '23:00')# вызов функции для вечера пятницы в Москве"
   ]
  },
  {
   "cell_type": "code",
   "execution_count": 34,
   "metadata": {
    "id": "JZaEKu5v_Zcu"
   },
   "outputs": [
    {
     "data": {
      "text/plain": [
       "genre\n",
       "pop            256\n",
       "electronic     216\n",
       "rock           216\n",
       "dance          210\n",
       "hiphop          97\n",
       "alternative     63\n",
       "jazz            61\n",
       "classical       60\n",
       "rusrap          59\n",
       "world           54\n",
       "Name: genre, dtype: int64"
      ]
     },
     "execution_count": 34,
     "metadata": {},
     "output_type": "execute_result"
    }
   ],
   "source": [
    "genre_weekday(spb_general, 'Friday', '17:00', '23:00')# вызов функции для вечера пятницы в Петербурге"
   ]
  },
  {
   "cell_type": "markdown",
   "metadata": {
    "id": "wrCe4MNX_Zcu"
   },
   "source": [
    "**Выводы**\n",
    "\n",
    "Если сравнить топ-10 жанров в понедельник утром, можно сделать такие выводы:\n",
    "\n",
    "1. В Москве и Петербурге слушают похожую музыку. Единственное отличие — в московский рейтинг вошёл жанр “world”, а в петербургский — джаз и классика.\n",
    "\n",
    "2. В Москве пропущенных значений оказалось так много, что значение `'unknown'` заняло десятое место среди самых популярных жанров. Значит, пропущенные значения занимают существенную долю в данных и угрожают достоверности исследования.\n",
    "\n",
    "Вечер пятницы не меняет эту картину. Некоторые жанры поднимаются немного выше, другие спускаются, но в целом топ-10 остаётся тем же самым.\n",
    "\n",
    "Таким образом, вторая гипотеза подтвердилась лишь частично:\n",
    "* Пользователи слушают похожую музыку в начале недели и в конце.\n",
    "* Разница между Москвой и Петербургом не слишком выражена. В Москве чаще слушают русскую популярную музыку, в Петербурге — джаз.\n",
    "\n",
    "Однако пропуски в данных ставят под сомнение этот результат. В Москве их так много, что рейтинг топ-10 мог бы выглядеть иначе, если бы не утерянные  данные о жанрах."
   ]
  },
  {
   "cell_type": "markdown",
   "metadata": {
    "id": "JolODAqr_Zcu"
   },
   "source": [
    "### Жанровые предпочтения в Москве и Петербурге\n",
    "\n",
    "Гипотеза: Петербург — столица рэпа, музыку этого жанра там слушают чаще, чем в Москве.  А Москва — город контрастов, в котором, тем не менее, преобладает поп-музыка."
   ]
  },
  {
   "cell_type": "markdown",
   "metadata": {
    "id": "DlegSvaT_Zcu"
   },
   "source": [
    "Сгруппируем таблицу `moscow_general` по жанру и посчитаем прослушивания треков каждого жанра методом `count()`. Затем отсортируем результат в порядке убывания и сохраним его в таблице `moscow_genres`."
   ]
  },
  {
   "cell_type": "code",
   "execution_count": 35,
   "metadata": {
    "id": "r19lIPke_Zcu"
   },
   "outputs": [],
   "source": [
    "moscow_genres = moscow_general.groupby('genre')['genre'].count().sort_values(ascending=False)\n",
    "\n",
    "# одной строкой: группировка таблицы moscow_general по столбцу 'genre', \n",
    "# подсчёт числа значений 'genre' в этой группировке методом count(), \n",
    "# сортировка получившегося Series в порядке убывания и сохранение в moscow_genres"
   ]
  },
  {
   "cell_type": "markdown",
   "metadata": {
    "id": "6kMuomxTiIr8"
   },
   "source": [
    "Выведим на экран первые десять строк `moscow_genres`:"
   ]
  },
  {
   "cell_type": "code",
   "execution_count": 36,
   "metadata": {
    "id": "WhCSooF8_Zcv"
   },
   "outputs": [
    {
     "data": {
      "text/plain": [
       "genre\n",
       "pop            5892\n",
       "dance          4435\n",
       "rock           3965\n",
       "electronic     3786\n",
       "hiphop         2096\n",
       "classical      1616\n",
       "world          1432\n",
       "alternative    1379\n",
       "ruspop         1372\n",
       "rusrap         1161\n",
       "Name: genre, dtype: int64"
      ]
     },
     "execution_count": 36,
     "metadata": {},
     "output_type": "execute_result"
    }
   ],
   "source": [
    "moscow_genres.head(10)# просмотр первых 10 строк moscow_genres"
   ]
  },
  {
   "cell_type": "markdown",
   "metadata": {
    "id": "cnPG2vnN_Zcv"
   },
   "source": [
    "Теперь повторим то же и для Петербурга.\n",
    "\n",
    "Сгруппируем таблицу `spb_general` по жанру. Посчитаем прослушивания треков каждого жанра. Результат отсортируем в порядке убывания и сохраним в таблице `spb_genres`:\n"
   ]
  },
  {
   "cell_type": "code",
   "execution_count": 37,
   "metadata": {
    "id": "gluLIpE7_Zcv"
   },
   "outputs": [],
   "source": [
    "spb_genres = spb_general.groupby('genre')['genre'].count().sort_values(ascending=False)\n",
    "\n",
    "# одной строкой: группировка таблицы spb_general по столбцу 'genre', \n",
    "# подсчёт числа значений 'genre' в этой группировке методом count(), \n",
    "# сортировка получившегося Series в порядке убывания и сохранение в spb_genres"
   ]
  },
  {
   "cell_type": "markdown",
   "metadata": {
    "id": "5Doha_ODgyQ8"
   },
   "source": [
    "Выведим на экран первые десять строк `spb_genres`:"
   ]
  },
  {
   "cell_type": "code",
   "execution_count": 38,
   "metadata": {
    "id": "uaGJHjVU_Zcv"
   },
   "outputs": [
    {
     "data": {
      "text/plain": [
       "genre\n",
       "pop            2431\n",
       "dance          1932\n",
       "rock           1879\n",
       "electronic     1736\n",
       "hiphop          960\n",
       "alternative     649\n",
       "classical       646\n",
       "rusrap          564\n",
       "ruspop          538\n",
       "world           515\n",
       "Name: genre, dtype: int64"
      ]
     },
     "execution_count": 38,
     "metadata": {},
     "output_type": "execute_result"
    }
   ],
   "source": [
    "spb_genres.head(10)# просмотр первых 10 строк spb_genres"
   ]
  },
  {
   "cell_type": "markdown",
   "metadata": {
    "id": "RY51YJYu_Zcv"
   },
   "source": [
    "**Выводы**"
   ]
  },
  {
   "cell_type": "markdown",
   "metadata": {
    "id": "nVhnJEm__Zcv"
   },
   "source": [
    "Гипотеза частично подтвердилась:\n",
    "* Поп-музыка — самый популярный жанр в Москве, как и предполагала гипотеза. Более того, в топ-10 жанров встречается близкий жанр — русская популярная музыка.\n",
    "* Вопреки ожиданиям, рэп одинаково популярен в Москве и Петербурге. \n"
   ]
  },
  {
   "cell_type": "markdown",
   "metadata": {
    "id": "ykKQ0N65_Zcv"
   },
   "source": [
    "## Итоги исследования"
   ]
  },
  {
   "cell_type": "markdown",
   "metadata": {
    "id": "tjUwbHb3_Zcv"
   },
   "source": [
    "Мы проверили три гипотезы и установили:\n",
    "\n",
    "1. День недели по-разному влияет на активность пользователей в Москве и Петербурге. \n",
    "\n",
    "Первая гипотеза полностью подтвердилась.\n",
    "\n",
    "2. Музыкальные предпочтения не сильно меняются в течение недели — будь то Москва или Петербург. Небольшие различия заметны в начале недели, по понедельникам:\n",
    "* в Москве слушают музыку жанра “world”,\n",
    "* в Петербурге — джаз и классику.\n",
    "\n",
    "Таким образом, вторая гипотеза подтвердилась лишь отчасти. Этот результат мог оказаться иным, если бы не пропуски в данных.\n",
    "\n",
    "3. Во вкусах пользователей Москвы и Петербурга больше общего чем различий. Вопреки ожиданиям, предпочтения жанров в Петербурге напоминают московские.\n",
    "\n",
    "Третья гипотеза не подтвердилась. Если различия в предпочтениях и существуют, на основной массе пользователей они незаметны.\n",
    "\n",
    "**На практике исследования содержат проверки статистических гипотез.**\n",
    "Из данных одного сервиса не всегда можно сделать вывод о всех жителях города.\n",
    "Проверки статистических гипотез покажут, насколько они достоверны, исходя из имеющихся данных. \n",
    "С методами проверок гипотез вы ещё познакомитесь в следующих темах."
   ]
  }
 ],
 "metadata": {
  "ExecuteTimeLog": [
   {
    "duration": 445,
    "start_time": "2022-01-11T11:51:00.552Z"
   },
   {
    "duration": 97,
    "start_time": "2022-01-11T11:51:25.818Z"
   },
   {
    "duration": 241,
    "start_time": "2022-01-11T11:51:31.510Z"
   },
   {
    "duration": 78,
    "start_time": "2022-01-11T11:52:46.733Z"
   },
   {
    "duration": 315,
    "start_time": "2022-01-11T11:52:55.462Z"
   },
   {
    "duration": 241,
    "start_time": "2022-01-11T11:53:14.678Z"
   },
   {
    "duration": 233,
    "start_time": "2022-01-11T11:53:45.858Z"
   },
   {
    "duration": 404,
    "start_time": "2022-01-11T11:56:37.007Z"
   },
   {
    "duration": 242,
    "start_time": "2022-01-11T11:56:47.040Z"
   },
   {
    "duration": 260,
    "start_time": "2022-01-11T11:58:07.055Z"
   },
   {
    "duration": 256,
    "start_time": "2022-01-11T11:58:18.285Z"
   },
   {
    "duration": 245,
    "start_time": "2022-01-11T11:58:33.924Z"
   },
   {
    "duration": 258,
    "start_time": "2022-01-11T12:00:01.626Z"
   },
   {
    "duration": 901,
    "start_time": "2022-01-11T12:00:52.128Z"
   },
   {
    "duration": 239,
    "start_time": "2022-01-11T12:01:00.054Z"
   },
   {
    "duration": 197,
    "start_time": "2022-01-11T12:13:17.041Z"
   },
   {
    "duration": 122,
    "start_time": "2022-01-11T12:13:37.403Z"
   },
   {
    "duration": 25,
    "start_time": "2022-01-11T12:13:43.235Z"
   },
   {
    "duration": 16,
    "start_time": "2022-01-11T12:14:40.021Z"
   },
   {
    "duration": 32,
    "start_time": "2022-01-11T12:16:02.681Z"
   },
   {
    "duration": 33,
    "start_time": "2022-01-11T12:33:41.703Z"
   },
   {
    "duration": 33,
    "start_time": "2022-01-11T12:34:06.360Z"
   },
   {
    "duration": 33,
    "start_time": "2022-01-11T12:34:29.037Z"
   },
   {
    "duration": 47,
    "start_time": "2022-01-11T12:34:38.028Z"
   },
   {
    "duration": 30,
    "start_time": "2022-01-11T12:34:46.728Z"
   },
   {
    "duration": 7,
    "start_time": "2022-01-11T12:36:15.762Z"
   },
   {
    "duration": 5,
    "start_time": "2022-01-11T12:36:27.001Z"
   },
   {
    "duration": 6,
    "start_time": "2022-01-11T12:36:46.117Z"
   },
   {
    "duration": 5,
    "start_time": "2022-01-11T12:36:53.009Z"
   },
   {
    "duration": 5,
    "start_time": "2022-01-11T13:01:14.048Z"
   },
   {
    "duration": 25,
    "start_time": "2022-01-11T13:01:49.127Z"
   },
   {
    "duration": 40,
    "start_time": "2022-01-11T13:02:26.967Z"
   },
   {
    "duration": 18,
    "start_time": "2022-01-11T13:03:23.232Z"
   },
   {
    "duration": 17,
    "start_time": "2022-01-11T13:03:50.825Z"
   },
   {
    "duration": 5,
    "start_time": "2022-01-11T13:03:52.593Z"
   },
   {
    "duration": 17,
    "start_time": "2022-01-11T13:04:18.265Z"
   },
   {
    "duration": 6,
    "start_time": "2022-01-11T13:04:19.220Z"
   },
   {
    "duration": 4,
    "start_time": "2022-01-11T13:04:20.182Z"
   },
   {
    "duration": 17,
    "start_time": "2022-01-11T13:04:47.477Z"
   },
   {
    "duration": 2,
    "start_time": "2022-01-11T13:05:05.871Z"
   },
   {
    "duration": 6,
    "start_time": "2022-01-11T13:05:10.868Z"
   },
   {
    "duration": 3,
    "start_time": "2022-01-11T13:05:37.792Z"
   },
   {
    "duration": 2,
    "start_time": "2022-01-11T13:05:38.932Z"
   },
   {
    "duration": 6,
    "start_time": "2022-01-11T13:06:24.316Z"
   },
   {
    "duration": 32,
    "start_time": "2022-01-11T13:07:17.835Z"
   },
   {
    "duration": 327,
    "start_time": "2022-01-12T08:42:15.173Z"
   },
   {
    "duration": 288,
    "start_time": "2022-01-12T08:42:34.091Z"
   },
   {
    "duration": 315,
    "start_time": "2022-01-12T08:55:09.488Z"
   },
   {
    "duration": 286,
    "start_time": "2022-01-12T08:57:50.093Z"
   },
   {
    "duration": 311,
    "start_time": "2022-01-12T08:58:09.462Z"
   },
   {
    "duration": 330,
    "start_time": "2022-01-12T08:58:21.263Z"
   },
   {
    "duration": 324,
    "start_time": "2022-01-12T08:58:24.351Z"
   },
   {
    "duration": 277,
    "start_time": "2022-01-12T08:59:48.310Z"
   },
   {
    "duration": 442,
    "start_time": "2022-01-12T09:05:30.313Z"
   },
   {
    "duration": 312,
    "start_time": "2022-01-12T09:06:21.148Z"
   },
   {
    "duration": 290,
    "start_time": "2022-01-12T09:06:51.572Z"
   },
   {
    "duration": 434,
    "start_time": "2022-01-12T09:07:08.543Z"
   },
   {
    "duration": 303,
    "start_time": "2022-01-12T09:07:12.866Z"
   },
   {
    "duration": 277,
    "start_time": "2022-01-12T09:07:14.947Z"
   },
   {
    "duration": 336,
    "start_time": "2022-01-12T09:07:16.877Z"
   },
   {
    "duration": 282,
    "start_time": "2022-01-12T09:07:18.698Z"
   },
   {
    "duration": 297,
    "start_time": "2022-01-12T09:07:20.373Z"
   },
   {
    "duration": 517,
    "start_time": "2022-01-12T09:07:22.122Z"
   },
   {
    "duration": 291,
    "start_time": "2022-01-12T09:07:24.155Z"
   },
   {
    "duration": 321,
    "start_time": "2022-01-12T09:07:25.806Z"
   },
   {
    "duration": 1617,
    "start_time": "2022-01-12T09:07:27.696Z"
   },
   {
    "duration": 280,
    "start_time": "2022-01-12T09:07:39.590Z"
   },
   {
    "duration": 287,
    "start_time": "2022-01-12T09:07:41.253Z"
   },
   {
    "duration": 278,
    "start_time": "2022-01-12T09:07:42.690Z"
   },
   {
    "duration": 294,
    "start_time": "2022-01-12T09:07:44.085Z"
   },
   {
    "duration": 275,
    "start_time": "2022-01-12T09:07:45.535Z"
   },
   {
    "duration": 304,
    "start_time": "2022-01-12T09:07:46.973Z"
   },
   {
    "duration": 275,
    "start_time": "2022-01-12T09:07:48.798Z"
   },
   {
    "duration": 290,
    "start_time": "2022-01-12T09:07:50.193Z"
   },
   {
    "duration": 271,
    "start_time": "2022-01-12T09:07:51.667Z"
   },
   {
    "duration": 264,
    "start_time": "2022-01-12T09:07:53.154Z"
   },
   {
    "duration": 293,
    "start_time": "2022-01-12T09:07:54.553Z"
   },
   {
    "duration": 323,
    "start_time": "2022-01-12T09:08:17.043Z"
   },
   {
    "duration": 595,
    "start_time": "2022-01-12T09:08:57.466Z"
   },
   {
    "duration": 123,
    "start_time": "2022-01-12T09:08:58.063Z"
   },
   {
    "duration": 15,
    "start_time": "2022-01-12T09:08:58.190Z"
   },
   {
    "duration": 40,
    "start_time": "2022-01-12T09:08:58.206Z"
   },
   {
    "duration": 3,
    "start_time": "2022-01-12T09:08:58.248Z"
   },
   {
    "duration": 19,
    "start_time": "2022-01-12T09:08:58.253Z"
   },
   {
    "duration": 4,
    "start_time": "2022-01-12T09:08:58.274Z"
   },
   {
    "duration": 26,
    "start_time": "2022-01-12T09:08:58.280Z"
   },
   {
    "duration": 3,
    "start_time": "2022-01-12T09:08:58.327Z"
   },
   {
    "duration": 6,
    "start_time": "2022-01-12T09:08:58.331Z"
   },
   {
    "duration": 5,
    "start_time": "2022-01-12T09:08:58.339Z"
   },
   {
    "duration": 5,
    "start_time": "2022-01-12T09:08:58.346Z"
   },
   {
    "duration": 8,
    "start_time": "2022-01-12T09:08:58.352Z"
   },
   {
    "duration": 5,
    "start_time": "2022-01-12T09:08:58.361Z"
   },
   {
    "duration": 4,
    "start_time": "2022-01-12T09:08:58.368Z"
   },
   {
    "duration": 6,
    "start_time": "2022-01-12T09:08:58.373Z"
   },
   {
    "duration": 5,
    "start_time": "2022-01-12T09:08:58.380Z"
   },
   {
    "duration": 4,
    "start_time": "2022-01-12T09:08:58.386Z"
   },
   {
    "duration": 5,
    "start_time": "2022-01-12T09:08:58.392Z"
   },
   {
    "duration": 5,
    "start_time": "2022-01-12T09:08:58.398Z"
   },
   {
    "duration": 7,
    "start_time": "2022-01-12T09:08:58.404Z"
   },
   {
    "duration": 14,
    "start_time": "2022-01-12T09:08:58.413Z"
   },
   {
    "duration": 2,
    "start_time": "2022-01-12T09:08:58.428Z"
   },
   {
    "duration": 5,
    "start_time": "2022-01-12T09:08:58.431Z"
   },
   {
    "duration": 5,
    "start_time": "2022-01-12T09:08:58.437Z"
   },
   {
    "duration": 7,
    "start_time": "2022-01-12T09:08:58.443Z"
   },
   {
    "duration": 5,
    "start_time": "2022-01-12T09:08:58.451Z"
   },
   {
    "duration": 4,
    "start_time": "2022-01-12T09:08:58.457Z"
   },
   {
    "duration": 5,
    "start_time": "2022-01-12T09:08:58.462Z"
   },
   {
    "duration": 5,
    "start_time": "2022-01-12T09:08:58.468Z"
   },
   {
    "duration": 6,
    "start_time": "2022-01-12T09:08:58.474Z"
   },
   {
    "duration": 5,
    "start_time": "2022-01-12T09:08:58.481Z"
   },
   {
    "duration": 7,
    "start_time": "2022-01-12T09:08:58.487Z"
   },
   {
    "duration": 4,
    "start_time": "2022-01-12T09:08:58.496Z"
   },
   {
    "duration": 5,
    "start_time": "2022-01-12T09:08:58.501Z"
   },
   {
    "duration": 5,
    "start_time": "2022-01-12T09:08:58.507Z"
   },
   {
    "duration": 14,
    "start_time": "2022-01-12T09:08:58.513Z"
   },
   {
    "duration": 8,
    "start_time": "2022-01-12T09:08:58.529Z"
   },
   {
    "duration": 22,
    "start_time": "2022-01-12T09:11:16.643Z"
   },
   {
    "duration": 22,
    "start_time": "2022-01-12T09:26:27.435Z"
   },
   {
    "duration": 589,
    "start_time": "2022-01-12T09:26:46.197Z"
   },
   {
    "duration": 124,
    "start_time": "2022-01-12T09:26:46.787Z"
   },
   {
    "duration": 15,
    "start_time": "2022-01-12T09:26:46.913Z"
   },
   {
    "duration": 25,
    "start_time": "2022-01-12T09:26:46.929Z"
   },
   {
    "duration": 4,
    "start_time": "2022-01-12T09:26:46.955Z"
   },
   {
    "duration": 22,
    "start_time": "2022-01-12T09:26:46.960Z"
   },
   {
    "duration": 3,
    "start_time": "2022-01-12T09:26:46.984Z"
   },
   {
    "duration": 40,
    "start_time": "2022-01-12T09:26:46.989Z"
   },
   {
    "duration": 4300,
    "start_time": "2022-01-12T09:26:47.031Z"
   },
   {
    "duration": 19,
    "start_time": "2022-01-12T09:26:51.315Z"
   },
   {
    "duration": 16,
    "start_time": "2022-01-12T09:26:51.319Z"
   },
   {
    "duration": 13,
    "start_time": "2022-01-12T09:26:51.323Z"
   },
   {
    "duration": 10,
    "start_time": "2022-01-12T09:26:51.326Z"
   },
   {
    "duration": 4,
    "start_time": "2022-01-12T09:26:51.333Z"
   },
   {
    "duration": 1,
    "start_time": "2022-01-12T09:26:51.337Z"
   },
   {
    "duration": -3,
    "start_time": "2022-01-12T09:26:51.342Z"
   },
   {
    "duration": -5,
    "start_time": "2022-01-12T09:26:51.345Z"
   },
   {
    "duration": -7,
    "start_time": "2022-01-12T09:26:51.348Z"
   },
   {
    "duration": -10,
    "start_time": "2022-01-12T09:26:51.351Z"
   },
   {
    "duration": -13,
    "start_time": "2022-01-12T09:26:51.355Z"
   },
   {
    "duration": -15,
    "start_time": "2022-01-12T09:26:51.358Z"
   },
   {
    "duration": -18,
    "start_time": "2022-01-12T09:26:51.362Z"
   },
   {
    "duration": -20,
    "start_time": "2022-01-12T09:26:51.365Z"
   },
   {
    "duration": -24,
    "start_time": "2022-01-12T09:26:51.369Z"
   },
   {
    "duration": -26,
    "start_time": "2022-01-12T09:26:51.372Z"
   },
   {
    "duration": -29,
    "start_time": "2022-01-12T09:26:51.376Z"
   },
   {
    "duration": -41,
    "start_time": "2022-01-12T09:26:51.389Z"
   },
   {
    "duration": -44,
    "start_time": "2022-01-12T09:26:51.393Z"
   },
   {
    "duration": -46,
    "start_time": "2022-01-12T09:26:51.396Z"
   },
   {
    "duration": -50,
    "start_time": "2022-01-12T09:26:51.401Z"
   },
   {
    "duration": -51,
    "start_time": "2022-01-12T09:26:51.404Z"
   },
   {
    "duration": -54,
    "start_time": "2022-01-12T09:26:51.407Z"
   },
   {
    "duration": -57,
    "start_time": "2022-01-12T09:26:51.411Z"
   },
   {
    "duration": -59,
    "start_time": "2022-01-12T09:26:51.414Z"
   },
   {
    "duration": -61,
    "start_time": "2022-01-12T09:26:51.417Z"
   },
   {
    "duration": -63,
    "start_time": "2022-01-12T09:26:51.421Z"
   },
   {
    "duration": -64,
    "start_time": "2022-01-12T09:26:51.423Z"
   },
   {
    "duration": -67,
    "start_time": "2022-01-12T09:26:51.427Z"
   },
   {
    "duration": 7,
    "start_time": "2022-01-12T09:27:07.651Z"
   },
   {
    "duration": 3979,
    "start_time": "2022-01-12T09:28:16.548Z"
   },
   {
    "duration": 3840,
    "start_time": "2022-01-12T09:29:43.953Z"
   },
   {
    "duration": 108,
    "start_time": "2022-01-12T09:33:53.687Z"
   },
   {
    "duration": 4106,
    "start_time": "2022-01-12T09:34:38.592Z"
   },
   {
    "duration": 4474,
    "start_time": "2022-01-12T09:35:34.631Z"
   },
   {
    "duration": 7,
    "start_time": "2022-01-12T09:35:46.122Z"
   },
   {
    "duration": 5719,
    "start_time": "2022-01-12T09:37:01.205Z"
   },
   {
    "duration": 7,
    "start_time": "2022-01-12T09:37:10.329Z"
   },
   {
    "duration": 4593,
    "start_time": "2022-01-12T09:37:27.275Z"
   },
   {
    "duration": 8,
    "start_time": "2022-01-12T09:37:39.093Z"
   },
   {
    "duration": 8,
    "start_time": "2022-01-12T09:37:52.042Z"
   },
   {
    "duration": 2,
    "start_time": "2022-01-12T09:37:57.571Z"
   },
   {
    "duration": 7,
    "start_time": "2022-01-12T09:38:00.543Z"
   },
   {
    "duration": 587,
    "start_time": "2022-01-12T09:38:10.315Z"
   },
   {
    "duration": 130,
    "start_time": "2022-01-12T09:38:10.904Z"
   },
   {
    "duration": 15,
    "start_time": "2022-01-12T09:38:11.038Z"
   },
   {
    "duration": 25,
    "start_time": "2022-01-12T09:38:11.055Z"
   },
   {
    "duration": 5,
    "start_time": "2022-01-12T09:38:11.082Z"
   },
   {
    "duration": 38,
    "start_time": "2022-01-12T09:38:11.089Z"
   },
   {
    "duration": 5,
    "start_time": "2022-01-12T09:38:11.130Z"
   },
   {
    "duration": 21,
    "start_time": "2022-01-12T09:38:11.137Z"
   },
   {
    "duration": 2,
    "start_time": "2022-01-12T09:38:11.160Z"
   },
   {
    "duration": 25,
    "start_time": "2022-01-12T09:38:11.164Z"
   },
   {
    "duration": 5,
    "start_time": "2022-01-12T09:38:11.190Z"
   },
   {
    "duration": 5,
    "start_time": "2022-01-12T09:38:11.196Z"
   },
   {
    "duration": 6,
    "start_time": "2022-01-12T09:38:11.203Z"
   },
   {
    "duration": 2,
    "start_time": "2022-01-12T09:38:11.227Z"
   },
   {
    "duration": 5,
    "start_time": "2022-01-12T09:38:11.231Z"
   },
   {
    "duration": 5,
    "start_time": "2022-01-12T09:38:11.238Z"
   },
   {
    "duration": 4,
    "start_time": "2022-01-12T09:38:11.244Z"
   },
   {
    "duration": 4,
    "start_time": "2022-01-12T09:38:11.250Z"
   },
   {
    "duration": 6,
    "start_time": "2022-01-12T09:38:11.255Z"
   },
   {
    "duration": 4,
    "start_time": "2022-01-12T09:38:11.262Z"
   },
   {
    "duration": 7,
    "start_time": "2022-01-12T09:38:11.268Z"
   },
   {
    "duration": 2,
    "start_time": "2022-01-12T09:38:11.279Z"
   },
   {
    "duration": 4,
    "start_time": "2022-01-12T09:38:11.283Z"
   },
   {
    "duration": 5,
    "start_time": "2022-01-12T09:38:11.288Z"
   },
   {
    "duration": 5,
    "start_time": "2022-01-12T09:38:11.294Z"
   },
   {
    "duration": 2,
    "start_time": "2022-01-12T09:38:11.328Z"
   },
   {
    "duration": 7,
    "start_time": "2022-01-12T09:38:11.332Z"
   },
   {
    "duration": 5,
    "start_time": "2022-01-12T09:38:11.341Z"
   },
   {
    "duration": 7,
    "start_time": "2022-01-12T09:38:11.347Z"
   },
   {
    "duration": 4,
    "start_time": "2022-01-12T09:38:11.356Z"
   },
   {
    "duration": 6,
    "start_time": "2022-01-12T09:38:11.362Z"
   },
   {
    "duration": 5,
    "start_time": "2022-01-12T09:38:11.369Z"
   },
   {
    "duration": 6,
    "start_time": "2022-01-12T09:38:11.375Z"
   },
   {
    "duration": 4,
    "start_time": "2022-01-12T09:38:11.383Z"
   },
   {
    "duration": 4,
    "start_time": "2022-01-12T09:38:11.389Z"
   },
   {
    "duration": 4,
    "start_time": "2022-01-12T09:38:11.394Z"
   },
   {
    "duration": 28,
    "start_time": "2022-01-12T09:38:11.399Z"
   },
   {
    "duration": 4,
    "start_time": "2022-01-12T09:38:11.429Z"
   },
   {
    "duration": 21,
    "start_time": "2022-01-12T09:38:29.835Z"
   },
   {
    "duration": 757,
    "start_time": "2022-01-12T09:38:45.250Z"
   },
   {
    "duration": 134,
    "start_time": "2022-01-12T09:38:46.008Z"
   },
   {
    "duration": 15,
    "start_time": "2022-01-12T09:38:46.144Z"
   },
   {
    "duration": 23,
    "start_time": "2022-01-12T09:38:46.160Z"
   },
   {
    "duration": 3,
    "start_time": "2022-01-12T09:38:46.185Z"
   },
   {
    "duration": 37,
    "start_time": "2022-01-12T09:38:46.190Z"
   },
   {
    "duration": 3,
    "start_time": "2022-01-12T09:38:46.229Z"
   },
   {
    "duration": 23,
    "start_time": "2022-01-12T09:38:46.233Z"
   },
   {
    "duration": 7,
    "start_time": "2022-01-12T09:38:46.259Z"
   },
   {
    "duration": 22,
    "start_time": "2022-01-12T09:38:46.268Z"
   },
   {
    "duration": 3,
    "start_time": "2022-01-12T09:38:46.291Z"
   },
   {
    "duration": 4,
    "start_time": "2022-01-12T09:38:46.295Z"
   },
   {
    "duration": 5,
    "start_time": "2022-01-12T09:38:46.300Z"
   },
   {
    "duration": 23,
    "start_time": "2022-01-12T09:38:46.306Z"
   },
   {
    "duration": 5,
    "start_time": "2022-01-12T09:38:46.330Z"
   },
   {
    "duration": 10,
    "start_time": "2022-01-12T09:38:46.336Z"
   },
   {
    "duration": 8,
    "start_time": "2022-01-12T09:38:46.347Z"
   },
   {
    "duration": 6,
    "start_time": "2022-01-12T09:38:46.356Z"
   },
   {
    "duration": 7,
    "start_time": "2022-01-12T09:38:46.364Z"
   },
   {
    "duration": 7,
    "start_time": "2022-01-12T09:38:46.372Z"
   },
   {
    "duration": 11,
    "start_time": "2022-01-12T09:38:46.381Z"
   },
   {
    "duration": 8,
    "start_time": "2022-01-12T09:38:46.393Z"
   },
   {
    "duration": 5,
    "start_time": "2022-01-12T09:38:46.402Z"
   },
   {
    "duration": 5,
    "start_time": "2022-01-12T09:38:46.408Z"
   },
   {
    "duration": 6,
    "start_time": "2022-01-12T09:38:46.415Z"
   },
   {
    "duration": 8,
    "start_time": "2022-01-12T09:38:46.422Z"
   },
   {
    "duration": 4,
    "start_time": "2022-01-12T09:38:46.433Z"
   },
   {
    "duration": 7,
    "start_time": "2022-01-12T09:38:46.438Z"
   },
   {
    "duration": 8,
    "start_time": "2022-01-12T09:38:46.447Z"
   },
   {
    "duration": 12,
    "start_time": "2022-01-12T09:38:46.456Z"
   },
   {
    "duration": 8,
    "start_time": "2022-01-12T09:38:46.470Z"
   },
   {
    "duration": 5,
    "start_time": "2022-01-12T09:38:46.479Z"
   },
   {
    "duration": 11,
    "start_time": "2022-01-12T09:38:46.485Z"
   },
   {
    "duration": 5,
    "start_time": "2022-01-12T09:38:46.498Z"
   },
   {
    "duration": 5,
    "start_time": "2022-01-12T09:38:46.505Z"
   },
   {
    "duration": 5,
    "start_time": "2022-01-12T09:38:46.512Z"
   },
   {
    "duration": 4,
    "start_time": "2022-01-12T09:38:46.519Z"
   },
   {
    "duration": 6,
    "start_time": "2022-01-12T09:38:46.525Z"
   },
   {
    "duration": 16,
    "start_time": "2022-01-12T09:39:30.007Z"
   },
   {
    "duration": 21,
    "start_time": "2022-01-12T09:39:32.386Z"
   },
   {
    "duration": 21,
    "start_time": "2022-01-12T09:41:16.917Z"
   },
   {
    "duration": 15,
    "start_time": "2022-01-12T09:50:10.499Z"
   },
   {
    "duration": 629,
    "start_time": "2022-01-12T09:50:18.524Z"
   },
   {
    "duration": 138,
    "start_time": "2022-01-12T09:50:19.156Z"
   },
   {
    "duration": 16,
    "start_time": "2022-01-12T09:50:19.296Z"
   },
   {
    "duration": 36,
    "start_time": "2022-01-12T09:50:19.314Z"
   },
   {
    "duration": 4,
    "start_time": "2022-01-12T09:50:19.352Z"
   },
   {
    "duration": 19,
    "start_time": "2022-01-12T09:50:19.358Z"
   },
   {
    "duration": 5,
    "start_time": "2022-01-12T09:50:19.378Z"
   },
   {
    "duration": 45,
    "start_time": "2022-01-12T09:50:19.386Z"
   },
   {
    "duration": 16,
    "start_time": "2022-01-12T09:50:19.433Z"
   },
   {
    "duration": 20,
    "start_time": "2022-01-12T09:50:19.451Z"
   },
   {
    "duration": 3,
    "start_time": "2022-01-12T09:50:19.472Z"
   },
   {
    "duration": 5,
    "start_time": "2022-01-12T09:50:19.476Z"
   },
   {
    "duration": 4,
    "start_time": "2022-01-12T09:50:19.482Z"
   },
   {
    "duration": 4,
    "start_time": "2022-01-12T09:50:19.488Z"
   },
   {
    "duration": 4,
    "start_time": "2022-01-12T09:50:19.493Z"
   },
   {
    "duration": 29,
    "start_time": "2022-01-12T09:50:19.498Z"
   },
   {
    "duration": 2,
    "start_time": "2022-01-12T09:50:19.529Z"
   },
   {
    "duration": 5,
    "start_time": "2022-01-12T09:50:19.532Z"
   },
   {
    "duration": 5,
    "start_time": "2022-01-12T09:50:19.538Z"
   },
   {
    "duration": 4,
    "start_time": "2022-01-12T09:50:19.544Z"
   },
   {
    "duration": 5,
    "start_time": "2022-01-12T09:50:19.550Z"
   },
   {
    "duration": 4,
    "start_time": "2022-01-12T09:50:19.557Z"
   },
   {
    "duration": 4,
    "start_time": "2022-01-12T09:50:19.564Z"
   },
   {
    "duration": 6,
    "start_time": "2022-01-12T09:50:19.569Z"
   },
   {
    "duration": 5,
    "start_time": "2022-01-12T09:50:19.576Z"
   },
   {
    "duration": 8,
    "start_time": "2022-01-12T09:50:19.582Z"
   },
   {
    "duration": 4,
    "start_time": "2022-01-12T09:50:19.591Z"
   },
   {
    "duration": 4,
    "start_time": "2022-01-12T09:50:19.596Z"
   },
   {
    "duration": 26,
    "start_time": "2022-01-12T09:50:19.601Z"
   },
   {
    "duration": 4,
    "start_time": "2022-01-12T09:50:19.629Z"
   },
   {
    "duration": 9,
    "start_time": "2022-01-12T09:50:19.634Z"
   },
   {
    "duration": 4,
    "start_time": "2022-01-12T09:50:19.644Z"
   },
   {
    "duration": 7,
    "start_time": "2022-01-12T09:50:19.649Z"
   },
   {
    "duration": 5,
    "start_time": "2022-01-12T09:50:19.657Z"
   },
   {
    "duration": 5,
    "start_time": "2022-01-12T09:50:19.663Z"
   },
   {
    "duration": 4,
    "start_time": "2022-01-12T09:50:19.669Z"
   },
   {
    "duration": 5,
    "start_time": "2022-01-12T09:50:19.675Z"
   },
   {
    "duration": 4,
    "start_time": "2022-01-12T09:50:19.682Z"
   },
   {
    "duration": 16,
    "start_time": "2022-01-12T09:50:43.438Z"
   },
   {
    "duration": 21,
    "start_time": "2022-01-12T09:50:45.788Z"
   },
   {
    "duration": 61,
    "start_time": "2022-01-12T09:52:04.038Z"
   },
   {
    "duration": 51,
    "start_time": "2022-01-12T09:52:18.184Z"
   },
   {
    "duration": 51,
    "start_time": "2022-01-12T09:53:12.246Z"
   },
   {
    "duration": 61,
    "start_time": "2022-01-12T09:53:16.857Z"
   },
   {
    "duration": 77,
    "start_time": "2022-01-12T09:53:19.073Z"
   },
   {
    "duration": 96,
    "start_time": "2022-01-12T09:56:00.699Z"
   },
   {
    "duration": 6,
    "start_time": "2022-01-12T09:56:09.954Z"
   },
   {
    "duration": 6,
    "start_time": "2022-01-12T09:57:44.875Z"
   },
   {
    "duration": 108,
    "start_time": "2022-01-12T09:57:57.598Z"
   },
   {
    "duration": 1008,
    "start_time": "2022-01-12T09:58:05.760Z"
   },
   {
    "duration": 6,
    "start_time": "2022-01-12T09:58:16.927Z"
   },
   {
    "duration": 6,
    "start_time": "2022-01-12T09:58:37.368Z"
   },
   {
    "duration": 330,
    "start_time": "2022-01-12T09:58:41.861Z"
   },
   {
    "duration": 401,
    "start_time": "2022-01-12T10:04:19.445Z"
   },
   {
    "duration": 6,
    "start_time": "2022-01-12T10:04:37.333Z"
   },
   {
    "duration": 299,
    "start_time": "2022-01-12T10:08:33.289Z"
   },
   {
    "duration": 10,
    "start_time": "2022-01-12T10:09:00.046Z"
   },
   {
    "duration": 7,
    "start_time": "2022-01-12T10:19:41.376Z"
   },
   {
    "duration": 8,
    "start_time": "2022-01-12T10:20:01.948Z"
   },
   {
    "duration": 9,
    "start_time": "2022-01-12T10:21:59.995Z"
   },
   {
    "duration": 9,
    "start_time": "2022-01-12T10:22:40.329Z"
   },
   {
    "duration": 553,
    "start_time": "2022-01-12T10:22:48.371Z"
   },
   {
    "duration": 128,
    "start_time": "2022-01-12T10:22:48.926Z"
   },
   {
    "duration": 16,
    "start_time": "2022-01-12T10:22:49.057Z"
   },
   {
    "duration": 27,
    "start_time": "2022-01-12T10:22:49.075Z"
   },
   {
    "duration": 5,
    "start_time": "2022-01-12T10:22:49.104Z"
   },
   {
    "duration": 36,
    "start_time": "2022-01-12T10:22:49.110Z"
   },
   {
    "duration": 5,
    "start_time": "2022-01-12T10:22:49.148Z"
   },
   {
    "duration": 23,
    "start_time": "2022-01-12T10:22:49.156Z"
   },
   {
    "duration": 17,
    "start_time": "2022-01-12T10:22:49.182Z"
   },
   {
    "duration": 21,
    "start_time": "2022-01-12T10:22:49.228Z"
   },
   {
    "duration": 54,
    "start_time": "2022-01-12T10:22:49.250Z"
   },
   {
    "duration": 86,
    "start_time": "2022-01-12T10:22:49.306Z"
   },
   {
    "duration": 59,
    "start_time": "2022-01-12T10:22:49.394Z"
   },
   {
    "duration": 8,
    "start_time": "2022-01-12T10:22:49.454Z"
   },
   {
    "duration": 8,
    "start_time": "2022-01-12T10:22:49.464Z"
   },
   {
    "duration": 2,
    "start_time": "2022-01-12T10:22:49.474Z"
   },
   {
    "duration": 4,
    "start_time": "2022-01-12T10:22:49.477Z"
   },
   {
    "duration": 4,
    "start_time": "2022-01-12T10:22:49.483Z"
   },
   {
    "duration": 5,
    "start_time": "2022-01-12T10:22:49.488Z"
   },
   {
    "duration": 5,
    "start_time": "2022-01-12T10:22:49.494Z"
   },
   {
    "duration": 27,
    "start_time": "2022-01-12T10:22:49.501Z"
   },
   {
    "duration": 8,
    "start_time": "2022-01-12T10:22:49.529Z"
   },
   {
    "duration": 3,
    "start_time": "2022-01-12T10:22:49.540Z"
   },
   {
    "duration": 7,
    "start_time": "2022-01-12T10:22:49.545Z"
   },
   {
    "duration": 4,
    "start_time": "2022-01-12T10:22:49.554Z"
   },
   {
    "duration": 7,
    "start_time": "2022-01-12T10:22:49.559Z"
   },
   {
    "duration": 5,
    "start_time": "2022-01-12T10:22:49.568Z"
   },
   {
    "duration": 7,
    "start_time": "2022-01-12T10:22:49.574Z"
   },
   {
    "duration": 5,
    "start_time": "2022-01-12T10:22:49.582Z"
   },
   {
    "duration": 11,
    "start_time": "2022-01-12T10:22:49.588Z"
   },
   {
    "duration": 11,
    "start_time": "2022-01-12T10:22:49.600Z"
   },
   {
    "duration": 5,
    "start_time": "2022-01-12T10:22:49.613Z"
   },
   {
    "duration": 6,
    "start_time": "2022-01-12T10:22:49.620Z"
   },
   {
    "duration": 5,
    "start_time": "2022-01-12T10:22:49.627Z"
   },
   {
    "duration": 5,
    "start_time": "2022-01-12T10:22:49.633Z"
   },
   {
    "duration": 4,
    "start_time": "2022-01-12T10:22:49.640Z"
   },
   {
    "duration": 5,
    "start_time": "2022-01-12T10:22:49.645Z"
   },
   {
    "duration": 6,
    "start_time": "2022-01-12T10:22:49.651Z"
   },
   {
    "duration": 10,
    "start_time": "2022-01-12T10:25:38.612Z"
   },
   {
    "duration": 11,
    "start_time": "2022-01-12T10:25:55.872Z"
   },
   {
    "duration": 9,
    "start_time": "2022-01-12T10:30:33.711Z"
   },
   {
    "duration": 472,
    "start_time": "2022-01-12T10:31:14.239Z"
   },
   {
    "duration": 3,
    "start_time": "2022-01-12T10:31:22.536Z"
   },
   {
    "duration": 9,
    "start_time": "2022-01-12T10:31:26.010Z"
   },
   {
    "duration": 11,
    "start_time": "2022-01-12T10:34:41.251Z"
   },
   {
    "duration": 2,
    "start_time": "2022-01-12T10:36:54.125Z"
   },
   {
    "duration": 45,
    "start_time": "2022-01-12T10:55:08.308Z"
   },
   {
    "duration": 9,
    "start_time": "2022-01-12T10:55:26.191Z"
   },
   {
    "duration": 10,
    "start_time": "2022-01-12T11:02:20.937Z"
   },
   {
    "duration": 521,
    "start_time": "2022-01-12T11:02:45.368Z"
   },
   {
    "duration": 124,
    "start_time": "2022-01-12T11:02:45.891Z"
   },
   {
    "duration": 15,
    "start_time": "2022-01-12T11:02:46.017Z"
   },
   {
    "duration": 25,
    "start_time": "2022-01-12T11:02:46.034Z"
   },
   {
    "duration": 3,
    "start_time": "2022-01-12T11:02:46.061Z"
   },
   {
    "duration": 24,
    "start_time": "2022-01-12T11:02:46.066Z"
   },
   {
    "duration": 3,
    "start_time": "2022-01-12T11:02:46.092Z"
   },
   {
    "duration": 40,
    "start_time": "2022-01-12T11:02:46.098Z"
   },
   {
    "duration": 15,
    "start_time": "2022-01-12T11:02:46.141Z"
   },
   {
    "duration": 21,
    "start_time": "2022-01-12T11:02:46.157Z"
   },
   {
    "duration": 69,
    "start_time": "2022-01-12T11:02:46.179Z"
   },
   {
    "duration": 54,
    "start_time": "2022-01-12T11:02:46.250Z"
   },
   {
    "duration": 61,
    "start_time": "2022-01-12T11:02:46.306Z"
   },
   {
    "duration": 8,
    "start_time": "2022-01-12T11:02:46.369Z"
   },
   {
    "duration": 8,
    "start_time": "2022-01-12T11:02:46.379Z"
   },
   {
    "duration": 2,
    "start_time": "2022-01-12T11:02:46.389Z"
   },
   {
    "duration": 4,
    "start_time": "2022-01-12T11:02:46.392Z"
   },
   {
    "duration": 5,
    "start_time": "2022-01-12T11:02:46.397Z"
   },
   {
    "duration": 5,
    "start_time": "2022-01-12T11:02:46.403Z"
   },
   {
    "duration": 18,
    "start_time": "2022-01-12T11:02:46.409Z"
   },
   {
    "duration": 6,
    "start_time": "2022-01-12T11:02:46.429Z"
   },
   {
    "duration": 7,
    "start_time": "2022-01-12T11:02:46.436Z"
   },
   {
    "duration": 3,
    "start_time": "2022-01-12T11:02:46.445Z"
   },
   {
    "duration": 4,
    "start_time": "2022-01-12T11:02:46.450Z"
   },
   {
    "duration": 5,
    "start_time": "2022-01-12T11:02:46.455Z"
   },
   {
    "duration": 8,
    "start_time": "2022-01-12T11:02:46.461Z"
   },
   {
    "duration": 7,
    "start_time": "2022-01-12T11:02:46.471Z"
   },
   {
    "duration": 7,
    "start_time": "2022-01-12T11:02:46.480Z"
   },
   {
    "duration": 7,
    "start_time": "2022-01-12T11:02:46.488Z"
   },
   {
    "duration": 7,
    "start_time": "2022-01-12T11:02:46.496Z"
   },
   {
    "duration": 9,
    "start_time": "2022-01-12T11:02:46.505Z"
   },
   {
    "duration": 5,
    "start_time": "2022-01-12T11:02:46.515Z"
   },
   {
    "duration": 13,
    "start_time": "2022-01-12T11:02:46.521Z"
   },
   {
    "duration": 5,
    "start_time": "2022-01-12T11:02:46.535Z"
   },
   {
    "duration": 6,
    "start_time": "2022-01-12T11:02:46.541Z"
   },
   {
    "duration": 5,
    "start_time": "2022-01-12T11:02:46.548Z"
   },
   {
    "duration": 10,
    "start_time": "2022-01-12T11:02:46.554Z"
   },
   {
    "duration": 5,
    "start_time": "2022-01-12T11:02:46.566Z"
   },
   {
    "duration": 91,
    "start_time": "2022-01-12T11:08:10.952Z"
   },
   {
    "duration": 9,
    "start_time": "2022-01-12T11:08:20.704Z"
   },
   {
    "duration": 9,
    "start_time": "2022-01-12T11:08:34.418Z"
   },
   {
    "duration": 714,
    "start_time": "2022-01-12T11:08:38.969Z"
   },
   {
    "duration": 162,
    "start_time": "2022-01-12T11:08:39.684Z"
   },
   {
    "duration": 19,
    "start_time": "2022-01-12T11:08:39.851Z"
   },
   {
    "duration": 32,
    "start_time": "2022-01-12T11:08:39.872Z"
   },
   {
    "duration": 22,
    "start_time": "2022-01-12T11:08:39.906Z"
   },
   {
    "duration": 23,
    "start_time": "2022-01-12T11:08:39.929Z"
   },
   {
    "duration": 5,
    "start_time": "2022-01-12T11:08:39.954Z"
   },
   {
    "duration": 24,
    "start_time": "2022-01-12T11:08:39.961Z"
   },
   {
    "duration": 16,
    "start_time": "2022-01-12T11:08:39.986Z"
   },
   {
    "duration": 42,
    "start_time": "2022-01-12T11:08:40.003Z"
   },
   {
    "duration": 56,
    "start_time": "2022-01-12T11:08:40.047Z"
   },
   {
    "duration": 67,
    "start_time": "2022-01-12T11:08:40.104Z"
   },
   {
    "duration": 54,
    "start_time": "2022-01-12T11:08:40.173Z"
   },
   {
    "duration": 9,
    "start_time": "2022-01-12T11:08:40.229Z"
   },
   {
    "duration": 9,
    "start_time": "2022-01-12T11:08:40.239Z"
   },
   {
    "duration": 2,
    "start_time": "2022-01-12T11:08:40.250Z"
   },
   {
    "duration": 7,
    "start_time": "2022-01-12T11:08:40.253Z"
   },
   {
    "duration": 4,
    "start_time": "2022-01-12T11:08:40.261Z"
   },
   {
    "duration": 5,
    "start_time": "2022-01-12T11:08:40.266Z"
   },
   {
    "duration": 5,
    "start_time": "2022-01-12T11:08:40.272Z"
   },
   {
    "duration": 5,
    "start_time": "2022-01-12T11:08:40.278Z"
   },
   {
    "duration": 3,
    "start_time": "2022-01-12T11:08:40.286Z"
   },
   {
    "duration": 36,
    "start_time": "2022-01-12T11:08:40.291Z"
   },
   {
    "duration": 2,
    "start_time": "2022-01-12T11:08:40.328Z"
   },
   {
    "duration": 5,
    "start_time": "2022-01-12T11:08:40.332Z"
   },
   {
    "duration": 6,
    "start_time": "2022-01-12T11:08:40.338Z"
   },
   {
    "duration": 4,
    "start_time": "2022-01-12T11:08:40.346Z"
   },
   {
    "duration": 5,
    "start_time": "2022-01-12T11:08:40.351Z"
   },
   {
    "duration": 7,
    "start_time": "2022-01-12T11:08:40.357Z"
   },
   {
    "duration": 9,
    "start_time": "2022-01-12T11:08:40.365Z"
   },
   {
    "duration": 7,
    "start_time": "2022-01-12T11:08:40.375Z"
   },
   {
    "duration": 5,
    "start_time": "2022-01-12T11:08:40.383Z"
   },
   {
    "duration": 6,
    "start_time": "2022-01-12T11:08:40.389Z"
   },
   {
    "duration": 3,
    "start_time": "2022-01-12T11:08:40.397Z"
   },
   {
    "duration": 3,
    "start_time": "2022-01-12T11:08:40.402Z"
   },
   {
    "duration": 20,
    "start_time": "2022-01-12T11:08:40.407Z"
   },
   {
    "duration": 4,
    "start_time": "2022-01-12T11:08:40.429Z"
   },
   {
    "duration": 4,
    "start_time": "2022-01-12T11:08:40.435Z"
   },
   {
    "duration": 10,
    "start_time": "2022-01-12T11:09:29.298Z"
   },
   {
    "duration": 10,
    "start_time": "2022-01-12T11:09:38.697Z"
   },
   {
    "duration": 9,
    "start_time": "2022-01-12T11:16:45.837Z"
   },
   {
    "duration": 10,
    "start_time": "2022-01-12T11:17:45.071Z"
   },
   {
    "duration": 644,
    "start_time": "2022-01-12T11:17:51.556Z"
   },
   {
    "duration": 137,
    "start_time": "2022-01-12T11:17:52.202Z"
   },
   {
    "duration": 16,
    "start_time": "2022-01-12T11:17:52.342Z"
   },
   {
    "duration": 24,
    "start_time": "2022-01-12T11:17:52.360Z"
   },
   {
    "duration": 3,
    "start_time": "2022-01-12T11:17:52.386Z"
   },
   {
    "duration": 43,
    "start_time": "2022-01-12T11:17:52.391Z"
   },
   {
    "duration": 4,
    "start_time": "2022-01-12T11:17:52.437Z"
   },
   {
    "duration": 23,
    "start_time": "2022-01-12T11:17:52.443Z"
   },
   {
    "duration": 15,
    "start_time": "2022-01-12T11:17:52.468Z"
   },
   {
    "duration": 24,
    "start_time": "2022-01-12T11:17:52.484Z"
   },
   {
    "duration": 56,
    "start_time": "2022-01-12T11:17:52.528Z"
   },
   {
    "duration": 72,
    "start_time": "2022-01-12T11:17:52.585Z"
   },
   {
    "duration": 46,
    "start_time": "2022-01-12T11:17:52.658Z"
   },
   {
    "duration": 9,
    "start_time": "2022-01-12T11:17:52.706Z"
   },
   {
    "duration": 9,
    "start_time": "2022-01-12T11:17:52.727Z"
   },
   {
    "duration": 2,
    "start_time": "2022-01-12T11:17:52.738Z"
   },
   {
    "duration": 4,
    "start_time": "2022-01-12T11:17:52.741Z"
   },
   {
    "duration": 6,
    "start_time": "2022-01-12T11:17:52.747Z"
   },
   {
    "duration": 22,
    "start_time": "2022-01-12T11:17:52.755Z"
   },
   {
    "duration": 6,
    "start_time": "2022-01-12T11:17:52.779Z"
   },
   {
    "duration": 9,
    "start_time": "2022-01-12T11:17:52.786Z"
   },
   {
    "duration": 3,
    "start_time": "2022-01-12T11:17:52.798Z"
   },
   {
    "duration": 4,
    "start_time": "2022-01-12T11:17:52.803Z"
   },
   {
    "duration": 5,
    "start_time": "2022-01-12T11:17:52.808Z"
   },
   {
    "duration": 7,
    "start_time": "2022-01-12T11:17:52.814Z"
   },
   {
    "duration": 7,
    "start_time": "2022-01-12T11:17:52.822Z"
   },
   {
    "duration": 6,
    "start_time": "2022-01-12T11:17:52.830Z"
   },
   {
    "duration": 4,
    "start_time": "2022-01-12T11:17:52.837Z"
   },
   {
    "duration": 10,
    "start_time": "2022-01-12T11:17:52.843Z"
   },
   {
    "duration": 7,
    "start_time": "2022-01-12T11:17:52.855Z"
   },
   {
    "duration": 8,
    "start_time": "2022-01-12T11:17:52.863Z"
   },
   {
    "duration": 4,
    "start_time": "2022-01-12T11:17:52.873Z"
   },
   {
    "duration": 6,
    "start_time": "2022-01-12T11:17:52.879Z"
   },
   {
    "duration": 7,
    "start_time": "2022-01-12T11:17:52.887Z"
   },
   {
    "duration": 8,
    "start_time": "2022-01-12T11:17:52.896Z"
   },
   {
    "duration": 10,
    "start_time": "2022-01-12T11:17:52.906Z"
   },
   {
    "duration": 6,
    "start_time": "2022-01-12T11:17:52.918Z"
   },
   {
    "duration": 6,
    "start_time": "2022-01-12T11:17:52.926Z"
   },
   {
    "duration": 111,
    "start_time": "2022-01-12T11:19:43.554Z"
   },
   {
    "duration": 14,
    "start_time": "2022-01-12T11:19:49.780Z"
   },
   {
    "duration": 17,
    "start_time": "2022-01-12T11:20:14.952Z"
   },
   {
    "duration": 4,
    "start_time": "2022-01-12T20:32:28.058Z"
   },
   {
    "duration": 743,
    "start_time": "2022-01-12T20:32:33.440Z"
   },
   {
    "duration": 769,
    "start_time": "2022-01-12T20:32:40.659Z"
   },
   {
    "duration": 178,
    "start_time": "2022-01-12T20:32:41.430Z"
   },
   {
    "duration": 27,
    "start_time": "2022-01-12T20:32:41.611Z"
   },
   {
    "duration": 46,
    "start_time": "2022-01-12T20:32:41.641Z"
   },
   {
    "duration": 7,
    "start_time": "2022-01-12T20:32:41.690Z"
   },
   {
    "duration": 63,
    "start_time": "2022-01-12T20:32:41.700Z"
   },
   {
    "duration": 7,
    "start_time": "2022-01-12T20:32:41.765Z"
   },
   {
    "duration": 32,
    "start_time": "2022-01-12T20:32:41.778Z"
   },
   {
    "duration": 57,
    "start_time": "2022-01-12T20:32:41.814Z"
   },
   {
    "duration": 32,
    "start_time": "2022-01-12T20:32:41.873Z"
   },
   {
    "duration": 107,
    "start_time": "2022-01-12T20:32:41.908Z"
   },
   {
    "duration": 98,
    "start_time": "2022-01-12T20:32:42.017Z"
   },
   {
    "duration": 85,
    "start_time": "2022-01-12T20:32:42.118Z"
   },
   {
    "duration": 14,
    "start_time": "2022-01-12T20:32:42.206Z"
   },
   {
    "duration": 4,
    "start_time": "2022-01-12T20:32:42.222Z"
   },
   {
    "duration": 39,
    "start_time": "2022-01-12T20:32:42.229Z"
   },
   {
    "duration": 14,
    "start_time": "2022-01-12T20:32:42.270Z"
   },
   {
    "duration": 3,
    "start_time": "2022-01-12T20:32:42.286Z"
   },
   {
    "duration": 4,
    "start_time": "2022-01-12T20:32:42.292Z"
   },
   {
    "duration": 5,
    "start_time": "2022-01-12T20:32:42.298Z"
   },
   {
    "duration": 6,
    "start_time": "2022-01-12T20:32:42.305Z"
   },
   {
    "duration": 8,
    "start_time": "2022-01-12T20:32:42.313Z"
   },
   {
    "duration": 35,
    "start_time": "2022-01-12T20:32:42.325Z"
   },
   {
    "duration": 8,
    "start_time": "2022-01-12T20:32:42.363Z"
   },
   {
    "duration": 5,
    "start_time": "2022-01-12T20:32:42.373Z"
   },
   {
    "duration": 6,
    "start_time": "2022-01-12T20:32:42.380Z"
   },
   {
    "duration": 4,
    "start_time": "2022-01-12T20:32:42.389Z"
   },
   {
    "duration": 4,
    "start_time": "2022-01-12T20:32:42.395Z"
   },
   {
    "duration": 7,
    "start_time": "2022-01-12T20:32:42.401Z"
   },
   {
    "duration": 4,
    "start_time": "2022-01-12T20:32:42.411Z"
   },
   {
    "duration": 3,
    "start_time": "2022-01-12T20:32:42.460Z"
   },
   {
    "duration": 7,
    "start_time": "2022-01-12T20:32:42.465Z"
   },
   {
    "duration": 7,
    "start_time": "2022-01-12T20:32:42.474Z"
   },
   {
    "duration": 4,
    "start_time": "2022-01-12T20:32:42.484Z"
   },
   {
    "duration": 5,
    "start_time": "2022-01-12T20:32:42.490Z"
   },
   {
    "duration": 5,
    "start_time": "2022-01-12T20:32:42.497Z"
   },
   {
    "duration": 5,
    "start_time": "2022-01-12T20:32:42.505Z"
   },
   {
    "duration": 47,
    "start_time": "2022-01-12T20:32:42.513Z"
   },
   {
    "duration": 16,
    "start_time": "2022-01-12T20:49:32.688Z"
   },
   {
    "duration": 45,
    "start_time": "2022-01-12T20:51:03.553Z"
   },
   {
    "duration": 16,
    "start_time": "2022-01-12T20:51:38.337Z"
   },
   {
    "duration": 4,
    "start_time": "2022-01-12T20:53:55.194Z"
   },
   {
    "duration": 15,
    "start_time": "2022-01-12T20:55:52.489Z"
   },
   {
    "duration": 45,
    "start_time": "2022-01-12T20:58:36.525Z"
   },
   {
    "duration": 16,
    "start_time": "2022-01-12T20:58:52.810Z"
   },
   {
    "duration": 393,
    "start_time": "2022-01-12T20:59:43.788Z"
   },
   {
    "duration": 319,
    "start_time": "2022-01-12T20:59:50.745Z"
   },
   {
    "duration": 17,
    "start_time": "2022-01-12T20:59:55.692Z"
   },
   {
    "duration": 97,
    "start_time": "2022-01-12T21:48:53.016Z"
   },
   {
    "duration": 313,
    "start_time": "2022-01-12T21:48:59.339Z"
   },
   {
    "duration": 729,
    "start_time": "2022-01-12T21:49:12.781Z"
   },
   {
    "duration": 177,
    "start_time": "2022-01-12T21:49:13.512Z"
   },
   {
    "duration": 25,
    "start_time": "2022-01-12T21:49:13.692Z"
   },
   {
    "duration": 55,
    "start_time": "2022-01-12T21:49:13.720Z"
   },
   {
    "duration": 6,
    "start_time": "2022-01-12T21:49:13.777Z"
   },
   {
    "duration": 28,
    "start_time": "2022-01-12T21:49:13.785Z"
   },
   {
    "duration": 6,
    "start_time": "2022-01-12T21:49:13.816Z"
   },
   {
    "duration": 60,
    "start_time": "2022-01-12T21:49:13.827Z"
   },
   {
    "duration": 21,
    "start_time": "2022-01-12T21:49:13.890Z"
   },
   {
    "duration": 50,
    "start_time": "2022-01-12T21:49:13.914Z"
   },
   {
    "duration": 95,
    "start_time": "2022-01-12T21:49:13.967Z"
   },
   {
    "duration": 108,
    "start_time": "2022-01-12T21:49:14.065Z"
   },
   {
    "duration": 89,
    "start_time": "2022-01-12T21:49:14.175Z"
   },
   {
    "duration": 16,
    "start_time": "2022-01-12T21:49:14.267Z"
   },
   {
    "duration": 5,
    "start_time": "2022-01-12T21:49:14.286Z"
   },
   {
    "duration": 16,
    "start_time": "2022-01-12T21:49:14.294Z"
   },
   {
    "duration": 56,
    "start_time": "2022-01-12T21:49:14.313Z"
   },
   {
    "duration": 18,
    "start_time": "2022-01-12T21:49:14.372Z"
   },
   {
    "duration": 14,
    "start_time": "2022-01-12T21:49:14.392Z"
   },
   {
    "duration": 105,
    "start_time": "2022-01-12T21:49:14.409Z"
   },
   {
    "duration": 283,
    "start_time": "2022-01-12T21:49:14.235Z"
   },
   {
    "duration": 268,
    "start_time": "2022-01-12T21:49:14.252Z"
   },
   {
    "duration": 250,
    "start_time": "2022-01-12T21:49:14.272Z"
   },
   {
    "duration": 248,
    "start_time": "2022-01-12T21:49:14.276Z"
   },
   {
    "duration": 247,
    "start_time": "2022-01-12T21:49:14.280Z"
   },
   {
    "duration": 245,
    "start_time": "2022-01-12T21:49:14.284Z"
   },
   {
    "duration": 244,
    "start_time": "2022-01-12T21:49:14.288Z"
   },
   {
    "duration": 236,
    "start_time": "2022-01-12T21:49:14.298Z"
   },
   {
    "duration": 234,
    "start_time": "2022-01-12T21:49:14.302Z"
   },
   {
    "duration": 233,
    "start_time": "2022-01-12T21:49:14.306Z"
   },
   {
    "duration": 232,
    "start_time": "2022-01-12T21:49:14.309Z"
   },
   {
    "duration": 231,
    "start_time": "2022-01-12T21:49:14.312Z"
   },
   {
    "duration": 230,
    "start_time": "2022-01-12T21:49:14.316Z"
   },
   {
    "duration": 228,
    "start_time": "2022-01-12T21:49:14.320Z"
   },
   {
    "duration": 227,
    "start_time": "2022-01-12T21:49:14.323Z"
   },
   {
    "duration": 226,
    "start_time": "2022-01-12T21:49:14.326Z"
   },
   {
    "duration": 225,
    "start_time": "2022-01-12T21:49:14.330Z"
   },
   {
    "duration": 226,
    "start_time": "2022-01-12T21:49:14.333Z"
   },
   {
    "duration": 413,
    "start_time": "2022-01-12T21:49:22.849Z"
   },
   {
    "duration": 102,
    "start_time": "2022-01-12T21:50:28.075Z"
   },
   {
    "duration": 5,
    "start_time": "2022-01-12T21:50:37.416Z"
   },
   {
    "duration": 462,
    "start_time": "2022-01-12T21:50:41.111Z"
   },
   {
    "duration": 7,
    "start_time": "2022-01-12T21:51:08.422Z"
   },
   {
    "duration": 288,
    "start_time": "2022-01-12T21:51:10.615Z"
   },
   {
    "duration": 5,
    "start_time": "2022-01-12T21:51:47.244Z"
   },
   {
    "duration": 486,
    "start_time": "2022-01-12T21:51:49.755Z"
   },
   {
    "duration": 120,
    "start_time": "2022-01-12T21:59:19.372Z"
   },
   {
    "duration": 4,
    "start_time": "2022-01-12T21:59:28.080Z"
   },
   {
    "duration": 308,
    "start_time": "2022-01-12T21:59:31.363Z"
   },
   {
    "duration": 687,
    "start_time": "2022-01-12T22:00:29.783Z"
   },
   {
    "duration": 6,
    "start_time": "2022-01-12T22:00:50.368Z"
   },
   {
    "duration": 654,
    "start_time": "2022-01-12T22:00:53.391Z"
   },
   {
    "duration": 5,
    "start_time": "2022-01-12T22:01:05.226Z"
   },
   {
    "duration": 608,
    "start_time": "2022-01-12T22:01:08.336Z"
   },
   {
    "duration": 6,
    "start_time": "2022-01-12T22:02:11.678Z"
   },
   {
    "duration": 619,
    "start_time": "2022-01-12T22:02:14.799Z"
   },
   {
    "duration": 133,
    "start_time": "2022-01-12T22:04:10.450Z"
   },
   {
    "duration": 5,
    "start_time": "2022-01-12T22:04:24.006Z"
   },
   {
    "duration": 627,
    "start_time": "2022-01-12T22:04:27.686Z"
   },
   {
    "duration": 5,
    "start_time": "2022-01-12T22:05:46.979Z"
   },
   {
    "duration": 1020,
    "start_time": "2022-01-12T22:05:49.533Z"
   },
   {
    "duration": 767,
    "start_time": "2022-01-12T22:06:31.427Z"
   },
   {
    "duration": 613,
    "start_time": "2022-01-12T22:06:32.196Z"
   },
   {
    "duration": 28,
    "start_time": "2022-01-12T22:06:32.812Z"
   },
   {
    "duration": 44,
    "start_time": "2022-01-12T22:06:32.842Z"
   },
   {
    "duration": 5,
    "start_time": "2022-01-12T22:06:32.889Z"
   },
   {
    "duration": 28,
    "start_time": "2022-01-12T22:06:32.896Z"
   },
   {
    "duration": 34,
    "start_time": "2022-01-12T22:06:32.927Z"
   },
   {
    "duration": 31,
    "start_time": "2022-01-12T22:06:32.964Z"
   },
   {
    "duration": 22,
    "start_time": "2022-01-12T22:06:32.998Z"
   },
   {
    "duration": 62,
    "start_time": "2022-01-12T22:06:33.023Z"
   },
   {
    "duration": 96,
    "start_time": "2022-01-12T22:06:33.088Z"
   },
   {
    "duration": 111,
    "start_time": "2022-01-12T22:06:33.187Z"
   },
   {
    "duration": 82,
    "start_time": "2022-01-12T22:06:33.301Z"
   },
   {
    "duration": 15,
    "start_time": "2022-01-12T22:06:33.385Z"
   },
   {
    "duration": 4,
    "start_time": "2022-01-12T22:06:33.402Z"
   },
   {
    "duration": 17,
    "start_time": "2022-01-12T22:06:33.409Z"
   },
   {
    "duration": 41,
    "start_time": "2022-01-12T22:06:33.428Z"
   },
   {
    "duration": 19,
    "start_time": "2022-01-12T22:06:33.472Z"
   },
   {
    "duration": 18,
    "start_time": "2022-01-12T22:06:33.494Z"
   },
   {
    "duration": 47,
    "start_time": "2022-01-12T22:06:33.515Z"
   },
   {
    "duration": 717,
    "start_time": "2022-01-12T22:06:33.564Z"
   },
   {
    "duration": -92,
    "start_time": "2022-01-12T22:06:34.376Z"
   },
   {
    "duration": -94,
    "start_time": "2022-01-12T22:06:34.380Z"
   },
   {
    "duration": -98,
    "start_time": "2022-01-12T22:06:34.385Z"
   },
   {
    "duration": -102,
    "start_time": "2022-01-12T22:06:34.391Z"
   },
   {
    "duration": -103,
    "start_time": "2022-01-12T22:06:34.394Z"
   },
   {
    "duration": -105,
    "start_time": "2022-01-12T22:06:34.397Z"
   },
   {
    "duration": -108,
    "start_time": "2022-01-12T22:06:34.401Z"
   },
   {
    "duration": -109,
    "start_time": "2022-01-12T22:06:34.404Z"
   },
   {
    "duration": -111,
    "start_time": "2022-01-12T22:06:34.408Z"
   },
   {
    "duration": -113,
    "start_time": "2022-01-12T22:06:34.411Z"
   },
   {
    "duration": -115,
    "start_time": "2022-01-12T22:06:34.414Z"
   },
   {
    "duration": -117,
    "start_time": "2022-01-12T22:06:34.418Z"
   },
   {
    "duration": -119,
    "start_time": "2022-01-12T22:06:34.421Z"
   },
   {
    "duration": -121,
    "start_time": "2022-01-12T22:06:34.424Z"
   },
   {
    "duration": -122,
    "start_time": "2022-01-12T22:06:34.427Z"
   },
   {
    "duration": -133,
    "start_time": "2022-01-12T22:06:34.439Z"
   },
   {
    "duration": -136,
    "start_time": "2022-01-12T22:06:34.444Z"
   },
   {
    "duration": 5,
    "start_time": "2022-01-12T22:07:37.445Z"
   },
   {
    "duration": 586,
    "start_time": "2022-01-12T22:07:42.290Z"
   },
   {
    "duration": 5,
    "start_time": "2022-01-12T22:09:58.063Z"
   },
   {
    "duration": 619,
    "start_time": "2022-01-12T22:10:01.134Z"
   },
   {
    "duration": 660,
    "start_time": "2022-01-12T22:10:42.377Z"
   },
   {
    "duration": 4,
    "start_time": "2022-01-12T22:11:06.960Z"
   },
   {
    "duration": 640,
    "start_time": "2022-01-12T22:11:19.036Z"
   },
   {
    "duration": 429,
    "start_time": "2022-01-13T08:03:20.479Z"
   },
   {
    "duration": 757,
    "start_time": "2022-01-13T08:03:32.596Z"
   },
   {
    "duration": 201,
    "start_time": "2022-01-13T08:03:33.356Z"
   },
   {
    "duration": 28,
    "start_time": "2022-01-13T08:03:33.559Z"
   },
   {
    "duration": 33,
    "start_time": "2022-01-13T08:03:33.589Z"
   },
   {
    "duration": 6,
    "start_time": "2022-01-13T08:03:33.624Z"
   },
   {
    "duration": 62,
    "start_time": "2022-01-13T08:03:33.633Z"
   },
   {
    "duration": 8,
    "start_time": "2022-01-13T08:03:33.699Z"
   },
   {
    "duration": 33,
    "start_time": "2022-01-13T08:03:33.710Z"
   },
   {
    "duration": 23,
    "start_time": "2022-01-13T08:03:33.767Z"
   },
   {
    "duration": 31,
    "start_time": "2022-01-13T08:03:33.792Z"
   },
   {
    "duration": 121,
    "start_time": "2022-01-13T08:03:33.826Z"
   },
   {
    "duration": 109,
    "start_time": "2022-01-13T08:03:33.950Z"
   },
   {
    "duration": 78,
    "start_time": "2022-01-13T08:03:34.067Z"
   },
   {
    "duration": 26,
    "start_time": "2022-01-13T08:03:34.148Z"
   },
   {
    "duration": 8,
    "start_time": "2022-01-13T08:03:34.176Z"
   },
   {
    "duration": 21,
    "start_time": "2022-01-13T08:03:34.186Z"
   },
   {
    "duration": 14,
    "start_time": "2022-01-13T08:03:34.209Z"
   },
   {
    "duration": 52,
    "start_time": "2022-01-13T08:03:34.225Z"
   },
   {
    "duration": 17,
    "start_time": "2022-01-13T08:03:34.279Z"
   },
   {
    "duration": 4,
    "start_time": "2022-01-13T08:03:34.299Z"
   },
   {
    "duration": 684,
    "start_time": "2022-01-13T08:03:34.306Z"
   },
   {
    "duration": -500,
    "start_time": "2022-01-13T08:03:35.494Z"
   },
   {
    "duration": -503,
    "start_time": "2022-01-13T08:03:35.499Z"
   },
   {
    "duration": -504,
    "start_time": "2022-01-13T08:03:35.502Z"
   },
   {
    "duration": -505,
    "start_time": "2022-01-13T08:03:35.505Z"
   },
   {
    "duration": -505,
    "start_time": "2022-01-13T08:03:35.508Z"
   },
   {
    "duration": -506,
    "start_time": "2022-01-13T08:03:35.511Z"
   },
   {
    "duration": -514,
    "start_time": "2022-01-13T08:03:35.521Z"
   },
   {
    "duration": -515,
    "start_time": "2022-01-13T08:03:35.524Z"
   },
   {
    "duration": -518,
    "start_time": "2022-01-13T08:03:35.529Z"
   },
   {
    "duration": -520,
    "start_time": "2022-01-13T08:03:35.533Z"
   },
   {
    "duration": -536,
    "start_time": "2022-01-13T08:03:35.551Z"
   },
   {
    "duration": -542,
    "start_time": "2022-01-13T08:03:35.559Z"
   },
   {
    "duration": -543,
    "start_time": "2022-01-13T08:03:35.562Z"
   },
   {
    "duration": -544,
    "start_time": "2022-01-13T08:03:35.565Z"
   },
   {
    "duration": -546,
    "start_time": "2022-01-13T08:03:35.569Z"
   },
   {
    "duration": -548,
    "start_time": "2022-01-13T08:03:35.572Z"
   },
   {
    "duration": -554,
    "start_time": "2022-01-13T08:03:35.580Z"
   },
   {
    "duration": 616,
    "start_time": "2022-01-13T08:03:52.319Z"
   },
   {
    "duration": 5,
    "start_time": "2022-01-13T08:15:46.729Z"
   },
   {
    "duration": 636,
    "start_time": "2022-01-13T08:15:49.792Z"
   },
   {
    "duration": 5,
    "start_time": "2022-01-13T08:18:03.292Z"
   },
   {
    "duration": 647,
    "start_time": "2022-01-13T08:18:06.365Z"
   },
   {
    "duration": 478,
    "start_time": "2022-01-13T08:19:09.716Z"
   },
   {
    "duration": 5,
    "start_time": "2022-01-13T08:19:17.624Z"
   },
   {
    "duration": 624,
    "start_time": "2022-01-13T08:19:20.529Z"
   },
   {
    "duration": 613,
    "start_time": "2022-01-13T08:21:19.857Z"
   },
   {
    "duration": 769,
    "start_time": "2022-01-13T08:21:39.365Z"
   },
   {
    "duration": 190,
    "start_time": "2022-01-13T08:21:40.138Z"
   },
   {
    "duration": 36,
    "start_time": "2022-01-13T08:21:40.331Z"
   },
   {
    "duration": 34,
    "start_time": "2022-01-13T08:21:40.370Z"
   },
   {
    "duration": 6,
    "start_time": "2022-01-13T08:21:40.406Z"
   },
   {
    "duration": 63,
    "start_time": "2022-01-13T08:21:40.414Z"
   },
   {
    "duration": 7,
    "start_time": "2022-01-13T08:21:40.479Z"
   },
   {
    "duration": 34,
    "start_time": "2022-01-13T08:21:40.491Z"
   },
   {
    "duration": 54,
    "start_time": "2022-01-13T08:21:40.528Z"
   },
   {
    "duration": 31,
    "start_time": "2022-01-13T08:21:40.585Z"
   },
   {
    "duration": 115,
    "start_time": "2022-01-13T08:21:40.619Z"
   },
   {
    "duration": 112,
    "start_time": "2022-01-13T08:21:40.737Z"
   },
   {
    "duration": 87,
    "start_time": "2022-01-13T08:21:40.852Z"
   },
   {
    "duration": 26,
    "start_time": "2022-01-13T08:21:40.942Z"
   },
   {
    "duration": 4,
    "start_time": "2022-01-13T08:21:40.971Z"
   },
   {
    "duration": 18,
    "start_time": "2022-01-13T08:21:40.977Z"
   },
   {
    "duration": 14,
    "start_time": "2022-01-13T08:21:40.997Z"
   },
   {
    "duration": 53,
    "start_time": "2022-01-13T08:21:41.014Z"
   },
   {
    "duration": 17,
    "start_time": "2022-01-13T08:21:41.070Z"
   },
   {
    "duration": 5,
    "start_time": "2022-01-13T08:21:41.089Z"
   },
   {
    "duration": 755,
    "start_time": "2022-01-13T08:21:41.097Z"
   },
   {
    "duration": -498,
    "start_time": "2022-01-13T08:21:42.353Z"
   },
   {
    "duration": -499,
    "start_time": "2022-01-13T08:21:42.356Z"
   },
   {
    "duration": -501,
    "start_time": "2022-01-13T08:21:42.359Z"
   },
   {
    "duration": -504,
    "start_time": "2022-01-13T08:21:42.364Z"
   },
   {
    "duration": -506,
    "start_time": "2022-01-13T08:21:42.368Z"
   },
   {
    "duration": -509,
    "start_time": "2022-01-13T08:21:42.372Z"
   },
   {
    "duration": -510,
    "start_time": "2022-01-13T08:21:42.375Z"
   },
   {
    "duration": -514,
    "start_time": "2022-01-13T08:21:42.380Z"
   },
   {
    "duration": -516,
    "start_time": "2022-01-13T08:21:42.384Z"
   },
   {
    "duration": -518,
    "start_time": "2022-01-13T08:21:42.387Z"
   },
   {
    "duration": -519,
    "start_time": "2022-01-13T08:21:42.390Z"
   },
   {
    "duration": -522,
    "start_time": "2022-01-13T08:21:42.394Z"
   },
   {
    "duration": -524,
    "start_time": "2022-01-13T08:21:42.398Z"
   },
   {
    "duration": -526,
    "start_time": "2022-01-13T08:21:42.401Z"
   },
   {
    "duration": -527,
    "start_time": "2022-01-13T08:21:42.404Z"
   },
   {
    "duration": -536,
    "start_time": "2022-01-13T08:21:42.415Z"
   },
   {
    "duration": -539,
    "start_time": "2022-01-13T08:21:42.419Z"
   },
   {
    "duration": 6,
    "start_time": "2022-01-13T08:27:19.228Z"
   },
   {
    "duration": 33,
    "start_time": "2022-01-13T08:27:22.817Z"
   },
   {
    "duration": 35,
    "start_time": "2022-01-13T08:28:03.448Z"
   },
   {
    "duration": 20,
    "start_time": "2022-01-13T08:28:11.950Z"
   },
   {
    "duration": 20,
    "start_time": "2022-01-13T08:28:19.255Z"
   },
   {
    "duration": 20,
    "start_time": "2022-01-13T08:28:28.080Z"
   },
   {
    "duration": 23,
    "start_time": "2022-01-13T08:28:36.318Z"
   },
   {
    "duration": 320,
    "start_time": "2022-01-13T08:28:44.939Z"
   },
   {
    "duration": 22,
    "start_time": "2022-01-13T08:28:52.238Z"
   },
   {
    "duration": 23,
    "start_time": "2022-01-13T08:33:46.451Z"
   },
   {
    "duration": 295,
    "start_time": "2022-01-13T08:36:22.638Z"
   },
   {
    "duration": 344,
    "start_time": "2022-01-13T08:36:58.641Z"
   },
   {
    "duration": 305,
    "start_time": "2022-01-13T08:44:31.735Z"
   },
   {
    "duration": 297,
    "start_time": "2022-01-13T08:46:04.718Z"
   },
   {
    "duration": 304,
    "start_time": "2022-01-13T08:46:18.805Z"
   },
   {
    "duration": 804,
    "start_time": "2022-01-13T08:47:18.845Z"
   },
   {
    "duration": 194,
    "start_time": "2022-01-13T08:47:19.652Z"
   },
   {
    "duration": 34,
    "start_time": "2022-01-13T08:47:19.853Z"
   },
   {
    "duration": 33,
    "start_time": "2022-01-13T08:47:19.889Z"
   },
   {
    "duration": 8,
    "start_time": "2022-01-13T08:47:19.924Z"
   },
   {
    "duration": 59,
    "start_time": "2022-01-13T08:47:19.934Z"
   },
   {
    "duration": 8,
    "start_time": "2022-01-13T08:47:19.996Z"
   },
   {
    "duration": 41,
    "start_time": "2022-01-13T08:47:20.007Z"
   },
   {
    "duration": 24,
    "start_time": "2022-01-13T08:47:20.067Z"
   },
   {
    "duration": 34,
    "start_time": "2022-01-13T08:47:20.093Z"
   },
   {
    "duration": 143,
    "start_time": "2022-01-13T08:47:20.130Z"
   },
   {
    "duration": 118,
    "start_time": "2022-01-13T08:47:20.276Z"
   },
   {
    "duration": 120,
    "start_time": "2022-01-13T08:47:20.397Z"
   },
   {
    "duration": 21,
    "start_time": "2022-01-13T08:47:20.520Z"
   },
   {
    "duration": 24,
    "start_time": "2022-01-13T08:47:20.544Z"
   },
   {
    "duration": 19,
    "start_time": "2022-01-13T08:47:20.571Z"
   },
   {
    "duration": 14,
    "start_time": "2022-01-13T08:47:20.592Z"
   },
   {
    "duration": 16,
    "start_time": "2022-01-13T08:47:20.608Z"
   },
   {
    "duration": 48,
    "start_time": "2022-01-13T08:47:20.627Z"
   },
   {
    "duration": 5,
    "start_time": "2022-01-13T08:47:20.678Z"
   },
   {
    "duration": 28,
    "start_time": "2022-01-13T08:47:20.685Z"
   },
   {
    "duration": 54,
    "start_time": "2022-01-13T08:47:20.718Z"
   },
   {
    "duration": 19,
    "start_time": "2022-01-13T08:47:20.774Z"
   },
   {
    "duration": 17,
    "start_time": "2022-01-13T08:47:20.796Z"
   },
   {
    "duration": 61,
    "start_time": "2022-01-13T08:47:20.816Z"
   },
   {
    "duration": 41,
    "start_time": "2022-01-13T08:47:20.880Z"
   },
   {
    "duration": 394,
    "start_time": "2022-01-13T08:47:20.924Z"
   },
   {
    "duration": -496,
    "start_time": "2022-01-13T08:47:21.817Z"
   },
   {
    "duration": -498,
    "start_time": "2022-01-13T08:47:21.821Z"
   },
   {
    "duration": -502,
    "start_time": "2022-01-13T08:47:21.826Z"
   },
   {
    "duration": -506,
    "start_time": "2022-01-13T08:47:21.832Z"
   },
   {
    "duration": -508,
    "start_time": "2022-01-13T08:47:21.835Z"
   },
   {
    "duration": -508,
    "start_time": "2022-01-13T08:47:21.837Z"
   },
   {
    "duration": -509,
    "start_time": "2022-01-13T08:47:21.840Z"
   },
   {
    "duration": -513,
    "start_time": "2022-01-13T08:47:21.845Z"
   },
   {
    "duration": -516,
    "start_time": "2022-01-13T08:47:21.849Z"
   },
   {
    "duration": -517,
    "start_time": "2022-01-13T08:47:21.852Z"
   },
   {
    "duration": -519,
    "start_time": "2022-01-13T08:47:21.855Z"
   },
   {
    "duration": 387,
    "start_time": "2022-01-13T08:47:41.076Z"
   },
   {
    "duration": 13,
    "start_time": "2022-01-13T08:48:26.475Z"
   },
   {
    "duration": 15,
    "start_time": "2022-01-13T08:49:11.193Z"
   },
   {
    "duration": 306,
    "start_time": "2022-01-13T08:49:19.112Z"
   },
   {
    "duration": 314,
    "start_time": "2022-01-13T08:49:33.727Z"
   },
   {
    "duration": 13,
    "start_time": "2022-01-13T08:50:07.603Z"
   },
   {
    "duration": 12,
    "start_time": "2022-01-13T08:50:28.509Z"
   },
   {
    "duration": 21,
    "start_time": "2022-01-13T08:50:58.903Z"
   },
   {
    "duration": 14,
    "start_time": "2022-01-13T08:51:02.532Z"
   },
   {
    "duration": 13,
    "start_time": "2022-01-13T08:53:02.987Z"
   },
   {
    "duration": 14,
    "start_time": "2022-01-13T08:53:32.124Z"
   },
   {
    "duration": 14,
    "start_time": "2022-01-13T08:54:21.888Z"
   },
   {
    "duration": 827,
    "start_time": "2022-01-13T08:54:39.007Z"
   },
   {
    "duration": 207,
    "start_time": "2022-01-13T08:54:39.836Z"
   },
   {
    "duration": 38,
    "start_time": "2022-01-13T08:54:40.046Z"
   },
   {
    "duration": 34,
    "start_time": "2022-01-13T08:54:40.088Z"
   },
   {
    "duration": 42,
    "start_time": "2022-01-13T08:54:40.125Z"
   },
   {
    "duration": 39,
    "start_time": "2022-01-13T08:54:40.170Z"
   },
   {
    "duration": 5,
    "start_time": "2022-01-13T08:54:40.212Z"
   },
   {
    "duration": 72,
    "start_time": "2022-01-13T08:54:40.220Z"
   },
   {
    "duration": 24,
    "start_time": "2022-01-13T08:54:40.296Z"
   },
   {
    "duration": 52,
    "start_time": "2022-01-13T08:54:40.324Z"
   },
   {
    "duration": 112,
    "start_time": "2022-01-13T08:54:40.379Z"
   },
   {
    "duration": 112,
    "start_time": "2022-01-13T08:54:40.494Z"
   },
   {
    "duration": 98,
    "start_time": "2022-01-13T08:54:40.608Z"
   },
   {
    "duration": 15,
    "start_time": "2022-01-13T08:54:40.709Z"
   },
   {
    "duration": 5,
    "start_time": "2022-01-13T08:54:40.726Z"
   },
   {
    "duration": 51,
    "start_time": "2022-01-13T08:54:40.734Z"
   },
   {
    "duration": 16,
    "start_time": "2022-01-13T08:54:40.788Z"
   },
   {
    "duration": 18,
    "start_time": "2022-01-13T08:54:40.807Z"
   },
   {
    "duration": 63,
    "start_time": "2022-01-13T08:54:40.828Z"
   },
   {
    "duration": 6,
    "start_time": "2022-01-13T08:54:40.894Z"
   },
   {
    "duration": 36,
    "start_time": "2022-01-13T08:54:40.903Z"
   },
   {
    "duration": 45,
    "start_time": "2022-01-13T08:54:40.941Z"
   },
   {
    "duration": 25,
    "start_time": "2022-01-13T08:54:40.989Z"
   },
   {
    "duration": 18,
    "start_time": "2022-01-13T08:54:41.017Z"
   },
   {
    "duration": 43,
    "start_time": "2022-01-13T08:54:41.037Z"
   },
   {
    "duration": 23,
    "start_time": "2022-01-13T08:54:41.083Z"
   },
   {
    "duration": 14,
    "start_time": "2022-01-13T08:54:41.112Z"
   },
   {
    "duration": 43,
    "start_time": "2022-01-13T08:54:41.130Z"
   },
   {
    "duration": 7,
    "start_time": "2022-01-13T08:54:41.176Z"
   },
   {
    "duration": 5,
    "start_time": "2022-01-13T08:54:41.186Z"
   },
   {
    "duration": 11,
    "start_time": "2022-01-13T08:54:41.193Z"
   },
   {
    "duration": 5,
    "start_time": "2022-01-13T08:54:41.207Z"
   },
   {
    "duration": 10,
    "start_time": "2022-01-13T08:54:41.215Z"
   },
   {
    "duration": 6,
    "start_time": "2022-01-13T08:54:41.227Z"
   },
   {
    "duration": 32,
    "start_time": "2022-01-13T08:54:41.236Z"
   },
   {
    "duration": 7,
    "start_time": "2022-01-13T08:54:41.272Z"
   },
   {
    "duration": 7,
    "start_time": "2022-01-13T08:54:41.282Z"
   },
   {
    "duration": 6,
    "start_time": "2022-01-13T08:54:41.292Z"
   },
   {
    "duration": 13,
    "start_time": "2022-01-13T08:57:31.230Z"
   },
   {
    "duration": 404,
    "start_time": "2022-01-13T09:19:00.509Z"
   },
   {
    "duration": 33,
    "start_time": "2022-01-13T09:19:06.413Z"
   },
   {
    "duration": 17,
    "start_time": "2022-01-13T09:19:22.306Z"
   },
   {
    "duration": 302,
    "start_time": "2022-01-13T09:58:37.621Z"
   },
   {
    "duration": 506,
    "start_time": "2022-01-13T09:59:18.913Z"
   },
   {
    "duration": 357,
    "start_time": "2022-01-13T09:59:27.851Z"
   },
   {
    "duration": 261,
    "start_time": "2022-01-13T10:01:24.121Z"
   },
   {
    "duration": 7,
    "start_time": "2022-01-13T10:01:29.572Z"
   },
   {
    "duration": 637,
    "start_time": "2022-01-13T10:01:34.039Z"
   },
   {
    "duration": 7,
    "start_time": "2022-01-13T10:01:45.605Z"
   },
   {
    "duration": 564,
    "start_time": "2022-01-13T10:01:48.259Z"
   },
   {
    "duration": 1082,
    "start_time": "2022-01-13T10:03:18.158Z"
   },
   {
    "duration": 5,
    "start_time": "2022-01-13T10:04:13.493Z"
   },
   {
    "duration": 835,
    "start_time": "2022-01-13T10:04:16.505Z"
   },
   {
    "duration": 633,
    "start_time": "2022-01-13T10:05:01.830Z"
   },
   {
    "duration": 747,
    "start_time": "2022-01-13T10:05:06.595Z"
   },
   {
    "duration": 197,
    "start_time": "2022-01-13T10:05:07.344Z"
   },
   {
    "duration": 33,
    "start_time": "2022-01-13T10:05:07.544Z"
   },
   {
    "duration": 34,
    "start_time": "2022-01-13T10:05:07.579Z"
   },
   {
    "duration": 6,
    "start_time": "2022-01-13T10:05:07.615Z"
   },
   {
    "duration": 65,
    "start_time": "2022-01-13T10:05:07.624Z"
   },
   {
    "duration": 5,
    "start_time": "2022-01-13T10:05:07.692Z"
   },
   {
    "duration": 34,
    "start_time": "2022-01-13T10:05:07.701Z"
   },
   {
    "duration": 43,
    "start_time": "2022-01-13T10:05:07.739Z"
   },
   {
    "duration": 30,
    "start_time": "2022-01-13T10:05:07.785Z"
   },
   {
    "duration": 107,
    "start_time": "2022-01-13T10:05:07.817Z"
   },
   {
    "duration": 112,
    "start_time": "2022-01-13T10:05:07.926Z"
   },
   {
    "duration": 91,
    "start_time": "2022-01-13T10:05:08.040Z"
   },
   {
    "duration": 14,
    "start_time": "2022-01-13T10:05:08.133Z"
   },
   {
    "duration": 19,
    "start_time": "2022-01-13T10:05:08.149Z"
   },
   {
    "duration": 22,
    "start_time": "2022-01-13T10:05:08.171Z"
   },
   {
    "duration": 19,
    "start_time": "2022-01-13T10:05:08.196Z"
   },
   {
    "duration": 22,
    "start_time": "2022-01-13T10:05:08.217Z"
   },
   {
    "duration": 32,
    "start_time": "2022-01-13T10:05:08.241Z"
   },
   {
    "duration": 5,
    "start_time": "2022-01-13T10:05:08.276Z"
   },
   {
    "duration": 28,
    "start_time": "2022-01-13T10:05:08.284Z"
   },
   {
    "duration": 66,
    "start_time": "2022-01-13T10:05:08.315Z"
   },
   {
    "duration": 18,
    "start_time": "2022-01-13T10:05:08.386Z"
   },
   {
    "duration": 65,
    "start_time": "2022-01-13T10:05:08.407Z"
   },
   {
    "duration": 21,
    "start_time": "2022-01-13T10:05:08.474Z"
   },
   {
    "duration": 71,
    "start_time": "2022-01-13T10:05:08.497Z"
   },
   {
    "duration": 13,
    "start_time": "2022-01-13T10:05:08.570Z"
   },
   {
    "duration": 16,
    "start_time": "2022-01-13T10:05:08.585Z"
   },
   {
    "duration": 68,
    "start_time": "2022-01-13T10:05:08.604Z"
   },
   {
    "duration": 5,
    "start_time": "2022-01-13T10:05:08.675Z"
   },
   {
    "duration": 825,
    "start_time": "2022-01-13T10:05:08.683Z"
   },
   {
    "duration": -467,
    "start_time": "2022-01-13T10:05:09.978Z"
   },
   {
    "duration": -471,
    "start_time": "2022-01-13T10:05:09.983Z"
   },
   {
    "duration": -484,
    "start_time": "2022-01-13T10:05:09.997Z"
   },
   {
    "duration": -511,
    "start_time": "2022-01-13T10:05:10.025Z"
   },
   {
    "duration": -512,
    "start_time": "2022-01-13T10:05:10.028Z"
   },
   {
    "duration": -516,
    "start_time": "2022-01-13T10:05:10.033Z"
   },
   {
    "duration": -528,
    "start_time": "2022-01-13T10:05:10.046Z"
   },
   {
    "duration": 6,
    "start_time": "2022-01-13T10:06:50.936Z"
   },
   {
    "duration": 20,
    "start_time": "2022-01-13T10:06:54.348Z"
   },
   {
    "duration": 20,
    "start_time": "2022-01-13T10:07:01.755Z"
   },
   {
    "duration": 15,
    "start_time": "2022-01-13T10:10:31.786Z"
   },
   {
    "duration": 20,
    "start_time": "2022-01-13T10:10:35.155Z"
   },
   {
    "duration": 791,
    "start_time": "2022-01-13T10:11:17.972Z"
   },
   {
    "duration": 196,
    "start_time": "2022-01-13T10:11:18.768Z"
   },
   {
    "duration": 27,
    "start_time": "2022-01-13T10:11:18.971Z"
   },
   {
    "duration": 33,
    "start_time": "2022-01-13T10:11:19.001Z"
   },
   {
    "duration": 34,
    "start_time": "2022-01-13T10:11:19.037Z"
   },
   {
    "duration": 29,
    "start_time": "2022-01-13T10:11:19.074Z"
   },
   {
    "duration": 6,
    "start_time": "2022-01-13T10:11:19.109Z"
   },
   {
    "duration": 88,
    "start_time": "2022-01-13T10:11:19.119Z"
   },
   {
    "duration": 68,
    "start_time": "2022-01-13T10:11:19.210Z"
   },
   {
    "duration": 33,
    "start_time": "2022-01-13T10:11:19.280Z"
   },
   {
    "duration": 137,
    "start_time": "2022-01-13T10:11:19.367Z"
   },
   {
    "duration": 203,
    "start_time": "2022-01-13T10:11:19.506Z"
   },
   {
    "duration": 190,
    "start_time": "2022-01-13T10:11:19.711Z"
   },
   {
    "duration": 68,
    "start_time": "2022-01-13T10:11:19.903Z"
   },
   {
    "duration": 4,
    "start_time": "2022-01-13T10:11:19.973Z"
   },
   {
    "duration": 19,
    "start_time": "2022-01-13T10:11:19.980Z"
   },
   {
    "duration": 67,
    "start_time": "2022-01-13T10:11:20.001Z"
   },
   {
    "duration": 16,
    "start_time": "2022-01-13T10:11:20.071Z"
   },
   {
    "duration": 15,
    "start_time": "2022-01-13T10:11:20.090Z"
   },
   {
    "duration": 5,
    "start_time": "2022-01-13T10:11:20.109Z"
   },
   {
    "duration": 67,
    "start_time": "2022-01-13T10:11:20.117Z"
   },
   {
    "duration": 18,
    "start_time": "2022-01-13T10:11:20.190Z"
   },
   {
    "duration": 23,
    "start_time": "2022-01-13T10:11:20.211Z"
   },
   {
    "duration": 46,
    "start_time": "2022-01-13T10:11:20.236Z"
   },
   {
    "duration": 21,
    "start_time": "2022-01-13T10:11:20.284Z"
   },
   {
    "duration": 21,
    "start_time": "2022-01-13T10:11:20.308Z"
   },
   {
    "duration": 48,
    "start_time": "2022-01-13T10:11:20.332Z"
   },
   {
    "duration": 23,
    "start_time": "2022-01-13T10:11:20.383Z"
   },
   {
    "duration": 12,
    "start_time": "2022-01-13T10:11:20.408Z"
   },
   {
    "duration": 44,
    "start_time": "2022-01-13T10:11:20.423Z"
   },
   {
    "duration": 24,
    "start_time": "2022-01-13T10:11:20.470Z"
   },
   {
    "duration": 14,
    "start_time": "2022-01-13T10:11:20.497Z"
   },
   {
    "duration": 61,
    "start_time": "2022-01-13T10:11:20.514Z"
   },
   {
    "duration": 20,
    "start_time": "2022-01-13T10:11:20.577Z"
   },
   {
    "duration": 3,
    "start_time": "2022-01-13T10:11:20.600Z"
   },
   {
    "duration": 7,
    "start_time": "2022-01-13T10:11:20.605Z"
   },
   {
    "duration": 7,
    "start_time": "2022-01-13T10:11:20.614Z"
   },
   {
    "duration": 8,
    "start_time": "2022-01-13T10:11:20.624Z"
   },
   {
    "duration": 764,
    "start_time": "2022-01-13T10:12:21.884Z"
   },
   {
    "duration": 203,
    "start_time": "2022-01-13T10:12:22.651Z"
   },
   {
    "duration": 31,
    "start_time": "2022-01-13T10:12:22.858Z"
   },
   {
    "duration": 39,
    "start_time": "2022-01-13T10:12:22.892Z"
   },
   {
    "duration": 7,
    "start_time": "2022-01-13T10:12:22.933Z"
   },
   {
    "duration": 54,
    "start_time": "2022-01-13T10:12:22.943Z"
   },
   {
    "duration": 8,
    "start_time": "2022-01-13T10:12:23.000Z"
   },
   {
    "duration": 66,
    "start_time": "2022-01-13T10:12:23.013Z"
   },
   {
    "duration": 23,
    "start_time": "2022-01-13T10:12:23.083Z"
   },
   {
    "duration": 61,
    "start_time": "2022-01-13T10:12:23.109Z"
   },
   {
    "duration": 105,
    "start_time": "2022-01-13T10:12:23.173Z"
   },
   {
    "duration": 102,
    "start_time": "2022-01-13T10:12:23.280Z"
   },
   {
    "duration": 91,
    "start_time": "2022-01-13T10:12:23.384Z"
   },
   {
    "duration": 15,
    "start_time": "2022-01-13T10:12:23.478Z"
   },
   {
    "duration": 4,
    "start_time": "2022-01-13T10:12:23.495Z"
   },
   {
    "duration": 17,
    "start_time": "2022-01-13T10:12:23.502Z"
   },
   {
    "duration": 59,
    "start_time": "2022-01-13T10:12:23.521Z"
   },
   {
    "duration": 16,
    "start_time": "2022-01-13T10:12:23.583Z"
   },
   {
    "duration": 69,
    "start_time": "2022-01-13T10:12:23.601Z"
   },
   {
    "duration": 5,
    "start_time": "2022-01-13T10:12:23.672Z"
   },
   {
    "duration": 29,
    "start_time": "2022-01-13T10:12:23.679Z"
   },
   {
    "duration": 71,
    "start_time": "2022-01-13T10:12:23.711Z"
   },
   {
    "duration": 18,
    "start_time": "2022-01-13T10:12:23.787Z"
   },
   {
    "duration": 69,
    "start_time": "2022-01-13T10:12:23.808Z"
   },
   {
    "duration": 22,
    "start_time": "2022-01-13T10:12:23.880Z"
   },
   {
    "duration": 73,
    "start_time": "2022-01-13T10:12:23.904Z"
   },
   {
    "duration": 11,
    "start_time": "2022-01-13T10:12:23.980Z"
   },
   {
    "duration": 17,
    "start_time": "2022-01-13T10:12:23.993Z"
   },
   {
    "duration": 12,
    "start_time": "2022-01-13T10:12:24.067Z"
   },
   {
    "duration": 6,
    "start_time": "2022-01-13T10:12:24.082Z"
   },
   {
    "duration": 77,
    "start_time": "2022-01-13T10:12:24.090Z"
   },
   {
    "duration": 14,
    "start_time": "2022-01-13T10:12:24.170Z"
   },
   {
    "duration": 24,
    "start_time": "2022-01-13T10:12:24.186Z"
   },
   {
    "duration": 71,
    "start_time": "2022-01-13T10:12:24.211Z"
   },
   {
    "duration": 3,
    "start_time": "2022-01-13T10:12:24.284Z"
   },
   {
    "duration": 6,
    "start_time": "2022-01-13T10:12:24.289Z"
   },
   {
    "duration": 7,
    "start_time": "2022-01-13T10:12:24.297Z"
   },
   {
    "duration": 60,
    "start_time": "2022-01-13T10:12:24.306Z"
   },
   {
    "duration": 16,
    "start_time": "2022-01-13T10:14:22.939Z"
   },
   {
    "duration": 19,
    "start_time": "2022-01-13T10:14:28.387Z"
   },
   {
    "duration": 19,
    "start_time": "2022-01-13T10:16:12.492Z"
   },
   {
    "duration": 764,
    "start_time": "2022-01-13T10:16:18.087Z"
   },
   {
    "duration": 193,
    "start_time": "2022-01-13T10:16:18.854Z"
   },
   {
    "duration": 28,
    "start_time": "2022-01-13T10:16:19.050Z"
   },
   {
    "duration": 37,
    "start_time": "2022-01-13T10:16:19.081Z"
   },
   {
    "duration": 7,
    "start_time": "2022-01-13T10:16:19.121Z"
   },
   {
    "duration": 63,
    "start_time": "2022-01-13T10:16:19.131Z"
   },
   {
    "duration": 15,
    "start_time": "2022-01-13T10:16:19.197Z"
   },
   {
    "duration": 57,
    "start_time": "2022-01-13T10:16:19.216Z"
   },
   {
    "duration": 23,
    "start_time": "2022-01-13T10:16:19.276Z"
   },
   {
    "duration": 31,
    "start_time": "2022-01-13T10:16:19.301Z"
   },
   {
    "duration": 112,
    "start_time": "2022-01-13T10:16:19.334Z"
   },
   {
    "duration": 109,
    "start_time": "2022-01-13T10:16:19.448Z"
   },
   {
    "duration": 84,
    "start_time": "2022-01-13T10:16:19.559Z"
   },
   {
    "duration": 30,
    "start_time": "2022-01-13T10:16:19.645Z"
   },
   {
    "duration": 4,
    "start_time": "2022-01-13T10:16:19.678Z"
   },
   {
    "duration": 23,
    "start_time": "2022-01-13T10:16:19.684Z"
   },
   {
    "duration": 15,
    "start_time": "2022-01-13T10:16:19.710Z"
   },
   {
    "duration": 46,
    "start_time": "2022-01-13T10:16:19.727Z"
   },
   {
    "duration": 17,
    "start_time": "2022-01-13T10:16:19.775Z"
   },
   {
    "duration": 5,
    "start_time": "2022-01-13T10:16:19.795Z"
   },
   {
    "duration": 37,
    "start_time": "2022-01-13T10:16:19.803Z"
   },
   {
    "duration": 39,
    "start_time": "2022-01-13T10:16:19.842Z"
   },
   {
    "duration": 19,
    "start_time": "2022-01-13T10:16:19.886Z"
   },
   {
    "duration": 18,
    "start_time": "2022-01-13T10:16:19.908Z"
   },
   {
    "duration": 55,
    "start_time": "2022-01-13T10:16:19.928Z"
   },
   {
    "duration": 18,
    "start_time": "2022-01-13T10:16:19.985Z"
   },
   {
    "duration": 12,
    "start_time": "2022-01-13T10:16:20.006Z"
   },
   {
    "duration": 66,
    "start_time": "2022-01-13T10:16:20.020Z"
   },
   {
    "duration": 19,
    "start_time": "2022-01-13T10:16:20.089Z"
   },
   {
    "duration": 61,
    "start_time": "2022-01-13T10:16:20.112Z"
   },
   {
    "duration": 24,
    "start_time": "2022-01-13T10:16:20.176Z"
   },
   {
    "duration": 73,
    "start_time": "2022-01-13T10:16:20.202Z"
   },
   {
    "duration": 28,
    "start_time": "2022-01-13T10:16:20.278Z"
   },
   {
    "duration": 75,
    "start_time": "2022-01-13T10:16:20.308Z"
   },
   {
    "duration": 4,
    "start_time": "2022-01-13T10:16:20.386Z"
   },
   {
    "duration": 6,
    "start_time": "2022-01-13T10:16:20.393Z"
   },
   {
    "duration": 7,
    "start_time": "2022-01-13T10:16:20.403Z"
   },
   {
    "duration": 4,
    "start_time": "2022-01-13T10:16:20.467Z"
   },
   {
    "duration": 6,
    "start_time": "2022-01-13T10:22:01.986Z"
   },
   {
    "duration": 22,
    "start_time": "2022-01-13T10:22:05.014Z"
   },
   {
    "duration": 24,
    "start_time": "2022-01-13T10:22:07.077Z"
   },
   {
    "duration": 28,
    "start_time": "2022-01-13T10:22:08.029Z"
   },
   {
    "duration": 28,
    "start_time": "2022-01-13T10:22:12.319Z"
   },
   {
    "duration": 35,
    "start_time": "2022-01-13T10:22:36.168Z"
   },
   {
    "duration": 28,
    "start_time": "2022-01-13T10:22:37.537Z"
   },
   {
    "duration": 5,
    "start_time": "2022-01-13T10:22:42.568Z"
   },
   {
    "duration": 22,
    "start_time": "2022-01-13T10:22:45.035Z"
   },
   {
    "duration": 18,
    "start_time": "2022-01-13T10:22:47.207Z"
   },
   {
    "duration": 809,
    "start_time": "2022-01-13T10:24:40.455Z"
   },
   {
    "duration": 197,
    "start_time": "2022-01-13T10:24:41.268Z"
   },
   {
    "duration": 30,
    "start_time": "2022-01-13T10:24:41.469Z"
   },
   {
    "duration": 35,
    "start_time": "2022-01-13T10:24:41.502Z"
   },
   {
    "duration": 34,
    "start_time": "2022-01-13T10:24:41.540Z"
   },
   {
    "duration": 36,
    "start_time": "2022-01-13T10:24:41.576Z"
   },
   {
    "duration": 10,
    "start_time": "2022-01-13T10:24:41.614Z"
   },
   {
    "duration": 68,
    "start_time": "2022-01-13T10:24:41.628Z"
   },
   {
    "duration": 30,
    "start_time": "2022-01-13T10:24:41.699Z"
   },
   {
    "duration": 44,
    "start_time": "2022-01-13T10:24:41.731Z"
   },
   {
    "duration": 109,
    "start_time": "2022-01-13T10:24:41.778Z"
   },
   {
    "duration": 104,
    "start_time": "2022-01-13T10:24:41.889Z"
   },
   {
    "duration": 92,
    "start_time": "2022-01-13T10:24:41.995Z"
   },
   {
    "duration": 15,
    "start_time": "2022-01-13T10:24:42.089Z"
   },
   {
    "duration": 4,
    "start_time": "2022-01-13T10:24:42.106Z"
   },
   {
    "duration": 18,
    "start_time": "2022-01-13T10:24:42.112Z"
   },
   {
    "duration": 53,
    "start_time": "2022-01-13T10:24:42.132Z"
   },
   {
    "duration": 17,
    "start_time": "2022-01-13T10:24:42.188Z"
   },
   {
    "duration": 15,
    "start_time": "2022-01-13T10:24:42.207Z"
   },
   {
    "duration": 5,
    "start_time": "2022-01-13T10:24:42.225Z"
   },
   {
    "duration": 25,
    "start_time": "2022-01-13T10:24:42.267Z"
   },
   {
    "duration": 20,
    "start_time": "2022-01-13T10:24:42.294Z"
   },
   {
    "duration": 17,
    "start_time": "2022-01-13T10:24:42.318Z"
   },
   {
    "duration": 20,
    "start_time": "2022-01-13T10:24:42.375Z"
   },
   {
    "duration": 24,
    "start_time": "2022-01-13T10:24:42.398Z"
   },
   {
    "duration": 51,
    "start_time": "2022-01-13T10:24:42.424Z"
   },
   {
    "duration": 13,
    "start_time": "2022-01-13T10:24:42.477Z"
   },
   {
    "duration": 15,
    "start_time": "2022-01-13T10:24:42.493Z"
   },
   {
    "duration": 11,
    "start_time": "2022-01-13T10:24:42.511Z"
   },
   {
    "duration": 5,
    "start_time": "2022-01-13T10:24:42.525Z"
   },
   {
    "duration": 55,
    "start_time": "2022-01-13T10:24:42.532Z"
   },
   {
    "duration": 18,
    "start_time": "2022-01-13T10:24:42.590Z"
   },
   {
    "duration": 24,
    "start_time": "2022-01-13T10:24:42.611Z"
   },
   {
    "duration": 51,
    "start_time": "2022-01-13T10:24:42.637Z"
   },
   {
    "duration": 4,
    "start_time": "2022-01-13T10:24:42.690Z"
   },
   {
    "duration": 6,
    "start_time": "2022-01-13T10:24:42.696Z"
   },
   {
    "duration": 5,
    "start_time": "2022-01-13T10:24:42.705Z"
   },
   {
    "duration": 6,
    "start_time": "2022-01-13T10:24:42.712Z"
   },
   {
    "duration": 20,
    "start_time": "2022-01-13T10:25:41.334Z"
   },
   {
    "duration": 814,
    "start_time": "2022-01-13T10:25:53.361Z"
   },
   {
    "duration": 206,
    "start_time": "2022-01-13T10:25:54.178Z"
   },
   {
    "duration": 27,
    "start_time": "2022-01-13T10:25:54.387Z"
   },
   {
    "duration": 59,
    "start_time": "2022-01-13T10:25:54.417Z"
   },
   {
    "duration": 6,
    "start_time": "2022-01-13T10:25:54.480Z"
   },
   {
    "duration": 40,
    "start_time": "2022-01-13T10:25:54.489Z"
   },
   {
    "duration": 9,
    "start_time": "2022-01-13T10:25:54.532Z"
   },
   {
    "duration": 59,
    "start_time": "2022-01-13T10:25:54.545Z"
   },
   {
    "duration": 24,
    "start_time": "2022-01-13T10:25:54.608Z"
   },
   {
    "duration": 46,
    "start_time": "2022-01-13T10:25:54.635Z"
   },
   {
    "duration": 120,
    "start_time": "2022-01-13T10:25:54.683Z"
   },
   {
    "duration": 116,
    "start_time": "2022-01-13T10:25:54.806Z"
   },
   {
    "duration": 95,
    "start_time": "2022-01-13T10:25:54.924Z"
   },
   {
    "duration": 14,
    "start_time": "2022-01-13T10:25:55.021Z"
   },
   {
    "duration": 5,
    "start_time": "2022-01-13T10:25:55.037Z"
   },
   {
    "duration": 43,
    "start_time": "2022-01-13T10:25:55.044Z"
   },
   {
    "duration": 14,
    "start_time": "2022-01-13T10:25:55.090Z"
   },
   {
    "duration": 17,
    "start_time": "2022-01-13T10:25:55.107Z"
   },
   {
    "duration": 56,
    "start_time": "2022-01-13T10:25:55.126Z"
   },
   {
    "duration": 10,
    "start_time": "2022-01-13T10:25:55.185Z"
   },
   {
    "duration": 22,
    "start_time": "2022-01-13T10:25:55.198Z"
   },
   {
    "duration": 57,
    "start_time": "2022-01-13T10:25:55.222Z"
   },
   {
    "duration": 18,
    "start_time": "2022-01-13T10:25:55.285Z"
   },
   {
    "duration": 16,
    "start_time": "2022-01-13T10:25:55.306Z"
   },
   {
    "duration": 19,
    "start_time": "2022-01-13T10:25:55.325Z"
   },
   {
    "duration": 23,
    "start_time": "2022-01-13T10:25:55.372Z"
   },
   {
    "duration": 11,
    "start_time": "2022-01-13T10:25:55.398Z"
   },
   {
    "duration": 16,
    "start_time": "2022-01-13T10:25:55.412Z"
   },
   {
    "duration": 46,
    "start_time": "2022-01-13T10:25:55.430Z"
   },
   {
    "duration": 5,
    "start_time": "2022-01-13T10:25:55.479Z"
   },
   {
    "duration": 30,
    "start_time": "2022-01-13T10:25:55.487Z"
   },
   {
    "duration": 15,
    "start_time": "2022-01-13T10:25:55.519Z"
   },
   {
    "duration": 58,
    "start_time": "2022-01-13T10:25:55.537Z"
   },
   {
    "duration": 17,
    "start_time": "2022-01-13T10:25:55.597Z"
   },
   {
    "duration": 3,
    "start_time": "2022-01-13T10:25:55.616Z"
   },
   {
    "duration": 5,
    "start_time": "2022-01-13T10:25:55.621Z"
   },
   {
    "duration": 7,
    "start_time": "2022-01-13T10:25:55.628Z"
   },
   {
    "duration": 37,
    "start_time": "2022-01-13T10:25:55.637Z"
   },
   {
    "duration": 19,
    "start_time": "2022-01-13T10:30:17.711Z"
   },
   {
    "duration": 800,
    "start_time": "2022-01-13T10:31:19.041Z"
   },
   {
    "duration": 190,
    "start_time": "2022-01-13T10:31:19.844Z"
   },
   {
    "duration": 39,
    "start_time": "2022-01-13T10:31:20.037Z"
   },
   {
    "duration": 36,
    "start_time": "2022-01-13T10:31:20.079Z"
   },
   {
    "duration": 5,
    "start_time": "2022-01-13T10:31:20.118Z"
   },
   {
    "duration": 63,
    "start_time": "2022-01-13T10:31:20.126Z"
   },
   {
    "duration": 15,
    "start_time": "2022-01-13T10:31:20.192Z"
   },
   {
    "duration": 34,
    "start_time": "2022-01-13T10:31:20.210Z"
   },
   {
    "duration": 45,
    "start_time": "2022-01-13T10:31:20.251Z"
   },
   {
    "duration": 32,
    "start_time": "2022-01-13T10:31:20.300Z"
   },
   {
    "duration": 114,
    "start_time": "2022-01-13T10:31:20.336Z"
   },
   {
    "duration": 114,
    "start_time": "2022-01-13T10:31:20.468Z"
   },
   {
    "duration": 87,
    "start_time": "2022-01-13T10:31:20.585Z"
   },
   {
    "duration": 14,
    "start_time": "2022-01-13T10:31:20.675Z"
   },
   {
    "duration": 5,
    "start_time": "2022-01-13T10:31:20.692Z"
   },
   {
    "duration": 18,
    "start_time": "2022-01-13T10:31:20.700Z"
   },
   {
    "duration": 47,
    "start_time": "2022-01-13T10:31:20.720Z"
   },
   {
    "duration": 16,
    "start_time": "2022-01-13T10:31:20.771Z"
   },
   {
    "duration": 15,
    "start_time": "2022-01-13T10:31:20.790Z"
   },
   {
    "duration": 4,
    "start_time": "2022-01-13T10:31:20.808Z"
   },
   {
    "duration": 57,
    "start_time": "2022-01-13T10:31:20.815Z"
   },
   {
    "duration": 18,
    "start_time": "2022-01-13T10:31:20.875Z"
   },
   {
    "duration": 19,
    "start_time": "2022-01-13T10:31:20.895Z"
   },
   {
    "duration": 17,
    "start_time": "2022-01-13T10:31:20.917Z"
   },
   {
    "duration": 50,
    "start_time": "2022-01-13T10:31:20.937Z"
   },
   {
    "duration": 17,
    "start_time": "2022-01-13T10:31:20.990Z"
   },
   {
    "duration": 12,
    "start_time": "2022-01-13T10:31:21.012Z"
   },
   {
    "duration": 49,
    "start_time": "2022-01-13T10:31:21.027Z"
   },
   {
    "duration": 13,
    "start_time": "2022-01-13T10:31:21.078Z"
   },
   {
    "duration": 6,
    "start_time": "2022-01-13T10:31:21.093Z"
   },
   {
    "duration": 26,
    "start_time": "2022-01-13T10:31:21.102Z"
   },
   {
    "duration": 40,
    "start_time": "2022-01-13T10:31:21.130Z"
   },
   {
    "duration": 34,
    "start_time": "2022-01-13T10:31:21.172Z"
   },
   {
    "duration": 17,
    "start_time": "2022-01-13T10:31:21.209Z"
   },
   {
    "duration": 3,
    "start_time": "2022-01-13T10:31:21.228Z"
   },
   {
    "duration": 4,
    "start_time": "2022-01-13T10:31:21.234Z"
   },
   {
    "duration": 3,
    "start_time": "2022-01-13T10:31:21.268Z"
   },
   {
    "duration": 17,
    "start_time": "2022-01-13T10:31:21.273Z"
   },
   {
    "duration": 27,
    "start_time": "2022-01-13T10:33:32.448Z"
   },
   {
    "duration": 21,
    "start_time": "2022-01-13T10:33:35.261Z"
   },
   {
    "duration": 122,
    "start_time": "2022-01-13T11:27:00.139Z"
   },
   {
    "duration": 413,
    "start_time": "2022-01-13T11:27:11.719Z"
   },
   {
    "duration": 101,
    "start_time": "2022-01-13T11:27:19.135Z"
   },
   {
    "duration": 318,
    "start_time": "2022-01-13T11:27:20.881Z"
   },
   {
    "duration": 95,
    "start_time": "2022-01-13T11:27:45.239Z"
   },
   {
    "duration": 302,
    "start_time": "2022-01-13T11:27:49.495Z"
   },
   {
    "duration": 336,
    "start_time": "2022-01-13T11:28:10.114Z"
   },
   {
    "duration": 352,
    "start_time": "2022-01-13T11:29:27.581Z"
   },
   {
    "duration": 31,
    "start_time": "2022-01-13T11:34:11.423Z"
   },
   {
    "duration": 13,
    "start_time": "2022-01-13T11:34:13.689Z"
   },
   {
    "duration": 34,
    "start_time": "2022-01-13T11:34:38.093Z"
   },
   {
    "duration": 13,
    "start_time": "2022-01-13T11:34:40.430Z"
   },
   {
    "duration": 385,
    "start_time": "2022-01-13T12:01:50.720Z"
   },
   {
    "duration": 12,
    "start_time": "2022-01-13T12:02:26.235Z"
   },
   {
    "duration": 7,
    "start_time": "2022-01-13T12:02:28.726Z"
   },
   {
    "duration": 9,
    "start_time": "2022-01-13T12:05:58.713Z"
   },
   {
    "duration": 7,
    "start_time": "2022-01-13T12:05:59.955Z"
   },
   {
    "duration": 79,
    "start_time": "2022-01-13T17:02:50.376Z"
   },
   {
    "duration": 56,
    "start_time": "2022-01-13T17:03:10.264Z"
   },
   {
    "duration": 107,
    "start_time": "2022-01-13T17:03:36.765Z"
   },
   {
    "duration": 14,
    "start_time": "2022-01-13T17:03:45.849Z"
   },
   {
    "duration": 14,
    "start_time": "2022-01-13T17:09:38.790Z"
   },
   {
    "duration": 596,
    "start_time": "2022-01-15T17:15:59.067Z"
   },
   {
    "duration": 135,
    "start_time": "2022-01-15T17:15:59.665Z"
   },
   {
    "duration": 15,
    "start_time": "2022-01-15T17:15:59.803Z"
   },
   {
    "duration": 30,
    "start_time": "2022-01-15T17:15:59.820Z"
   },
   {
    "duration": 3,
    "start_time": "2022-01-15T17:15:59.852Z"
   },
   {
    "duration": 23,
    "start_time": "2022-01-15T17:15:59.856Z"
   },
   {
    "duration": 4,
    "start_time": "2022-01-15T17:15:59.881Z"
   },
   {
    "duration": 24,
    "start_time": "2022-01-15T17:15:59.887Z"
   },
   {
    "duration": 44,
    "start_time": "2022-01-15T17:15:59.913Z"
   },
   {
    "duration": 26,
    "start_time": "2022-01-15T17:15:59.959Z"
   },
   {
    "duration": 75,
    "start_time": "2022-01-15T17:15:59.986Z"
   },
   {
    "duration": 64,
    "start_time": "2022-01-15T17:16:00.063Z"
   },
   {
    "duration": 60,
    "start_time": "2022-01-15T17:16:00.129Z"
   },
   {
    "duration": 8,
    "start_time": "2022-01-15T17:16:00.191Z"
   },
   {
    "duration": 9,
    "start_time": "2022-01-15T17:16:00.201Z"
   },
   {
    "duration": 2,
    "start_time": "2022-01-15T17:16:00.212Z"
   },
   {
    "duration": 33,
    "start_time": "2022-01-15T17:16:00.216Z"
   },
   {
    "duration": 9,
    "start_time": "2022-01-15T17:16:00.251Z"
   },
   {
    "duration": 11,
    "start_time": "2022-01-15T17:16:00.262Z"
   },
   {
    "duration": 11,
    "start_time": "2022-01-15T17:16:00.275Z"
   },
   {
    "duration": 3,
    "start_time": "2022-01-15T17:16:00.288Z"
   },
   {
    "duration": 52,
    "start_time": "2022-01-15T17:16:00.292Z"
   },
   {
    "duration": 13,
    "start_time": "2022-01-15T17:16:00.347Z"
   },
   {
    "duration": 26,
    "start_time": "2022-01-15T17:16:00.362Z"
   },
   {
    "duration": 12,
    "start_time": "2022-01-15T17:16:00.390Z"
   },
   {
    "duration": 19,
    "start_time": "2022-01-15T17:16:00.404Z"
   },
   {
    "duration": 21,
    "start_time": "2022-01-15T17:16:00.425Z"
   },
   {
    "duration": 8,
    "start_time": "2022-01-15T17:16:00.448Z"
   },
   {
    "duration": 25,
    "start_time": "2022-01-15T17:16:00.458Z"
   },
   {
    "duration": 18,
    "start_time": "2022-01-15T17:16:00.485Z"
   },
   {
    "duration": 11,
    "start_time": "2022-01-15T17:16:00.505Z"
   },
   {
    "duration": 36,
    "start_time": "2022-01-15T17:16:00.518Z"
   },
   {
    "duration": 13,
    "start_time": "2022-01-15T17:16:00.555Z"
   },
   {
    "duration": 21,
    "start_time": "2022-01-15T17:16:00.569Z"
   },
   {
    "duration": 14,
    "start_time": "2022-01-15T17:16:00.591Z"
   },
   {
    "duration": 11,
    "start_time": "2022-01-15T17:16:00.606Z"
   },
   {
    "duration": 10,
    "start_time": "2022-01-15T17:16:00.618Z"
   },
   {
    "duration": 18,
    "start_time": "2022-01-15T17:16:00.629Z"
   },
   {
    "duration": 9,
    "start_time": "2022-01-15T17:16:00.649Z"
   },
   {
    "duration": 43,
    "start_time": "2022-01-15T17:16:32.352Z"
   },
   {
    "duration": 943,
    "start_time": "2022-01-16T08:48:46.589Z"
   },
   {
    "duration": 97,
    "start_time": "2022-01-16T08:48:49.186Z"
   },
   {
    "duration": 89,
    "start_time": "2022-01-16T08:49:16.921Z"
   },
   {
    "duration": 97,
    "start_time": "2022-01-16T08:49:59.306Z"
   },
   {
    "duration": 335,
    "start_time": "2022-01-16T09:04:29.465Z"
   },
   {
    "duration": 261,
    "start_time": "2022-01-16T09:05:32.285Z"
   },
   {
    "duration": 285,
    "start_time": "2022-01-16T09:06:59.446Z"
   },
   {
    "duration": 272,
    "start_time": "2022-01-16T09:07:43.554Z"
   },
   {
    "duration": 275,
    "start_time": "2022-01-16T09:07:54.723Z"
   },
   {
    "duration": 286,
    "start_time": "2022-01-16T09:08:04.588Z"
   },
   {
    "duration": -21,
    "start_time": "2022-01-16T09:08:04.897Z"
   },
   {
    "duration": -33,
    "start_time": "2022-01-16T09:08:04.910Z"
   },
   {
    "duration": -35,
    "start_time": "2022-01-16T09:08:04.913Z"
   },
   {
    "duration": -39,
    "start_time": "2022-01-16T09:08:04.918Z"
   },
   {
    "duration": -43,
    "start_time": "2022-01-16T09:08:04.923Z"
   },
   {
    "duration": -46,
    "start_time": "2022-01-16T09:08:04.927Z"
   },
   {
    "duration": -49,
    "start_time": "2022-01-16T09:08:04.931Z"
   },
   {
    "duration": -54,
    "start_time": "2022-01-16T09:08:04.937Z"
   },
   {
    "duration": -58,
    "start_time": "2022-01-16T09:08:04.942Z"
   },
   {
    "duration": -61,
    "start_time": "2022-01-16T09:08:04.946Z"
   },
   {
    "duration": -65,
    "start_time": "2022-01-16T09:08:04.951Z"
   },
   {
    "duration": -69,
    "start_time": "2022-01-16T09:08:04.956Z"
   },
   {
    "duration": -72,
    "start_time": "2022-01-16T09:08:04.960Z"
   },
   {
    "duration": -76,
    "start_time": "2022-01-16T09:08:04.964Z"
   },
   {
    "duration": -79,
    "start_time": "2022-01-16T09:08:04.969Z"
   },
   {
    "duration": -84,
    "start_time": "2022-01-16T09:08:04.974Z"
   },
   {
    "duration": -86,
    "start_time": "2022-01-16T09:08:04.977Z"
   },
   {
    "duration": -89,
    "start_time": "2022-01-16T09:08:04.981Z"
   },
   {
    "duration": -92,
    "start_time": "2022-01-16T09:08:04.985Z"
   },
   {
    "duration": 535,
    "start_time": "2022-01-16T09:08:25.376Z"
   },
   {
    "duration": 124,
    "start_time": "2022-01-16T09:08:25.913Z"
   },
   {
    "duration": 14,
    "start_time": "2022-01-16T09:08:26.039Z"
   },
   {
    "duration": 23,
    "start_time": "2022-01-16T09:08:26.055Z"
   },
   {
    "duration": 3,
    "start_time": "2022-01-16T09:08:26.080Z"
   },
   {
    "duration": 19,
    "start_time": "2022-01-16T09:08:26.084Z"
   },
   {
    "duration": 23,
    "start_time": "2022-01-16T09:08:26.105Z"
   },
   {
    "duration": 20,
    "start_time": "2022-01-16T09:08:26.130Z"
   },
   {
    "duration": 15,
    "start_time": "2022-01-16T09:08:26.152Z"
   },
   {
    "duration": 24,
    "start_time": "2022-01-16T09:08:26.168Z"
   },
   {
    "duration": 67,
    "start_time": "2022-01-16T09:08:26.193Z"
   },
   {
    "duration": 69,
    "start_time": "2022-01-16T09:08:26.262Z"
   },
   {
    "duration": 44,
    "start_time": "2022-01-16T09:08:26.332Z"
   },
   {
    "duration": 8,
    "start_time": "2022-01-16T09:08:26.378Z"
   },
   {
    "duration": 3,
    "start_time": "2022-01-16T09:08:26.387Z"
   },
   {
    "duration": 13,
    "start_time": "2022-01-16T09:08:26.391Z"
   },
   {
    "duration": 25,
    "start_time": "2022-01-16T09:08:26.406Z"
   },
   {
    "duration": 10,
    "start_time": "2022-01-16T09:08:26.433Z"
   },
   {
    "duration": 9,
    "start_time": "2022-01-16T09:08:26.444Z"
   },
   {
    "duration": 3,
    "start_time": "2022-01-16T09:08:26.455Z"
   },
   {
    "duration": 15,
    "start_time": "2022-01-16T09:08:26.459Z"
   },
   {
    "duration": 14,
    "start_time": "2022-01-16T09:08:26.476Z"
   },
   {
    "duration": 38,
    "start_time": "2022-01-16T09:08:26.493Z"
   },
   {
    "duration": 10,
    "start_time": "2022-01-16T09:08:26.533Z"
   },
   {
    "duration": 23,
    "start_time": "2022-01-16T09:08:26.544Z"
   },
   {
    "duration": 14,
    "start_time": "2022-01-16T09:08:26.568Z"
   },
   {
    "duration": 7,
    "start_time": "2022-01-16T09:08:26.584Z"
   },
   {
    "duration": 30,
    "start_time": "2022-01-16T09:08:26.592Z"
   },
   {
    "duration": 21,
    "start_time": "2022-01-16T09:08:26.624Z"
   },
   {
    "duration": 21,
    "start_time": "2022-01-16T09:08:26.647Z"
   },
   {
    "duration": 31,
    "start_time": "2022-01-16T09:08:26.670Z"
   },
   {
    "duration": 25,
    "start_time": "2022-01-16T09:08:26.703Z"
   },
   {
    "duration": 20,
    "start_time": "2022-01-16T09:08:26.729Z"
   },
   {
    "duration": 24,
    "start_time": "2022-01-16T09:08:26.751Z"
   },
   {
    "duration": 9,
    "start_time": "2022-01-16T09:08:26.777Z"
   },
   {
    "duration": 15,
    "start_time": "2022-01-16T09:08:26.788Z"
   },
   {
    "duration": 26,
    "start_time": "2022-01-16T09:08:26.805Z"
   },
   {
    "duration": 14,
    "start_time": "2022-01-16T09:08:26.833Z"
   },
   {
    "duration": 2,
    "start_time": "2022-01-16T09:08:32.088Z"
   },
   {
    "duration": 145,
    "start_time": "2022-01-16T09:08:32.093Z"
   },
   {
    "duration": 9,
    "start_time": "2022-01-16T09:08:32.239Z"
   },
   {
    "duration": 31,
    "start_time": "2022-01-16T09:08:32.250Z"
   },
   {
    "duration": 15,
    "start_time": "2022-01-16T09:08:32.282Z"
   },
   {
    "duration": 27,
    "start_time": "2022-01-16T09:08:32.298Z"
   },
   {
    "duration": 3,
    "start_time": "2022-01-16T09:08:32.326Z"
   },
   {
    "duration": 30,
    "start_time": "2022-01-16T09:08:32.331Z"
   },
   {
    "duration": 18,
    "start_time": "2022-01-16T09:08:32.363Z"
   },
   {
    "duration": 19,
    "start_time": "2022-01-16T09:08:32.383Z"
   },
   {
    "duration": 66,
    "start_time": "2022-01-16T09:08:32.404Z"
   },
   {
    "duration": 58,
    "start_time": "2022-01-16T09:08:32.471Z"
   },
   {
    "duration": 43,
    "start_time": "2022-01-16T09:08:32.531Z"
   },
   {
    "duration": 9,
    "start_time": "2022-01-16T09:08:32.576Z"
   },
   {
    "duration": 3,
    "start_time": "2022-01-16T09:08:32.587Z"
   },
   {
    "duration": 13,
    "start_time": "2022-01-16T09:08:32.591Z"
   },
   {
    "duration": 9,
    "start_time": "2022-01-16T09:08:32.627Z"
   },
   {
    "duration": 11,
    "start_time": "2022-01-16T09:08:32.638Z"
   },
   {
    "duration": 10,
    "start_time": "2022-01-16T09:08:32.651Z"
   },
   {
    "duration": 4,
    "start_time": "2022-01-16T09:08:32.663Z"
   },
   {
    "duration": 20,
    "start_time": "2022-01-16T09:08:32.668Z"
   },
   {
    "duration": 42,
    "start_time": "2022-01-16T09:08:32.689Z"
   },
   {
    "duration": 13,
    "start_time": "2022-01-16T09:08:32.732Z"
   },
   {
    "duration": 12,
    "start_time": "2022-01-16T09:08:32.749Z"
   },
   {
    "duration": 14,
    "start_time": "2022-01-16T09:08:32.762Z"
   },
   {
    "duration": 12,
    "start_time": "2022-01-16T09:08:32.778Z"
   },
   {
    "duration": 41,
    "start_time": "2022-01-16T09:08:32.791Z"
   },
   {
    "duration": 13,
    "start_time": "2022-01-16T09:08:32.834Z"
   },
   {
    "duration": 9,
    "start_time": "2022-01-16T09:08:32.849Z"
   },
   {
    "duration": 4,
    "start_time": "2022-01-16T09:08:32.860Z"
   },
   {
    "duration": 23,
    "start_time": "2022-01-16T09:08:32.866Z"
   },
   {
    "duration": 12,
    "start_time": "2022-01-16T09:08:32.891Z"
   },
   {
    "duration": 36,
    "start_time": "2022-01-16T09:08:32.904Z"
   },
   {
    "duration": 11,
    "start_time": "2022-01-16T09:08:32.942Z"
   },
   {
    "duration": 8,
    "start_time": "2022-01-16T09:08:32.955Z"
   },
   {
    "duration": 4,
    "start_time": "2022-01-16T09:08:32.964Z"
   },
   {
    "duration": 7,
    "start_time": "2022-01-16T09:08:32.970Z"
   },
   {
    "duration": 5,
    "start_time": "2022-01-16T09:08:32.979Z"
   },
   {
    "duration": 2,
    "start_time": "2022-01-16T09:08:34.868Z"
   },
   {
    "duration": 125,
    "start_time": "2022-01-16T09:08:34.873Z"
   },
   {
    "duration": 10,
    "start_time": "2022-01-16T09:08:34.999Z"
   },
   {
    "duration": 36,
    "start_time": "2022-01-16T09:08:35.011Z"
   },
   {
    "duration": 4,
    "start_time": "2022-01-16T09:08:35.049Z"
   },
   {
    "duration": 27,
    "start_time": "2022-01-16T09:08:35.055Z"
   },
   {
    "duration": 3,
    "start_time": "2022-01-16T09:08:35.083Z"
   },
   {
    "duration": 31,
    "start_time": "2022-01-16T09:08:35.088Z"
   },
   {
    "duration": 18,
    "start_time": "2022-01-16T09:08:35.121Z"
   },
   {
    "duration": 19,
    "start_time": "2022-01-16T09:08:35.141Z"
   },
   {
    "duration": 49,
    "start_time": "2022-01-16T09:08:35.161Z"
   },
   {
    "duration": 56,
    "start_time": "2022-01-16T09:08:35.228Z"
   },
   {
    "duration": 57,
    "start_time": "2022-01-16T09:08:35.285Z"
   },
   {
    "duration": 9,
    "start_time": "2022-01-16T09:08:35.343Z"
   },
   {
    "duration": 7,
    "start_time": "2022-01-16T09:08:35.353Z"
   },
   {
    "duration": 18,
    "start_time": "2022-01-16T09:08:35.361Z"
   },
   {
    "duration": 8,
    "start_time": "2022-01-16T09:08:35.380Z"
   },
   {
    "duration": 9,
    "start_time": "2022-01-16T09:08:35.390Z"
   },
   {
    "duration": 27,
    "start_time": "2022-01-16T09:08:35.400Z"
   },
   {
    "duration": 3,
    "start_time": "2022-01-16T09:08:35.428Z"
   },
   {
    "duration": 21,
    "start_time": "2022-01-16T09:08:35.433Z"
   },
   {
    "duration": 11,
    "start_time": "2022-01-16T09:08:35.456Z"
   },
   {
    "duration": 13,
    "start_time": "2022-01-16T09:08:35.468Z"
   },
   {
    "duration": 15,
    "start_time": "2022-01-16T09:08:35.483Z"
   },
   {
    "duration": 28,
    "start_time": "2022-01-16T09:08:35.500Z"
   },
   {
    "duration": 13,
    "start_time": "2022-01-16T09:08:35.530Z"
   },
   {
    "duration": 8,
    "start_time": "2022-01-16T09:08:35.545Z"
   },
   {
    "duration": 14,
    "start_time": "2022-01-16T09:08:35.555Z"
   },
   {
    "duration": 9,
    "start_time": "2022-01-16T09:08:35.570Z"
   },
   {
    "duration": 5,
    "start_time": "2022-01-16T09:08:35.581Z"
   },
   {
    "duration": 42,
    "start_time": "2022-01-16T09:08:35.587Z"
   },
   {
    "duration": 11,
    "start_time": "2022-01-16T09:08:35.630Z"
   },
   {
    "duration": 15,
    "start_time": "2022-01-16T09:08:35.642Z"
   },
   {
    "duration": 10,
    "start_time": "2022-01-16T09:08:35.658Z"
   },
   {
    "duration": 7,
    "start_time": "2022-01-16T09:08:35.669Z"
   },
   {
    "duration": 6,
    "start_time": "2022-01-16T09:08:35.677Z"
   },
   {
    "duration": 6,
    "start_time": "2022-01-16T09:08:35.684Z"
   },
   {
    "duration": 36,
    "start_time": "2022-01-16T09:08:35.692Z"
   },
   {
    "duration": 540,
    "start_time": "2022-01-16T09:08:49.559Z"
   },
   {
    "duration": 124,
    "start_time": "2022-01-16T09:08:50.101Z"
   },
   {
    "duration": 14,
    "start_time": "2022-01-16T09:08:50.227Z"
   },
   {
    "duration": 21,
    "start_time": "2022-01-16T09:08:50.243Z"
   },
   {
    "duration": 4,
    "start_time": "2022-01-16T09:08:50.265Z"
   },
   {
    "duration": 19,
    "start_time": "2022-01-16T09:08:50.270Z"
   },
   {
    "duration": 3,
    "start_time": "2022-01-16T09:08:50.291Z"
   },
   {
    "duration": 45,
    "start_time": "2022-01-16T09:08:50.297Z"
   },
   {
    "duration": 14,
    "start_time": "2022-01-16T09:08:50.344Z"
   },
   {
    "duration": 21,
    "start_time": "2022-01-16T09:08:50.360Z"
   },
   {
    "duration": 67,
    "start_time": "2022-01-16T09:08:50.383Z"
   },
   {
    "duration": 61,
    "start_time": "2022-01-16T09:08:50.452Z"
   },
   {
    "duration": 55,
    "start_time": "2022-01-16T09:08:50.514Z"
   },
   {
    "duration": 7,
    "start_time": "2022-01-16T09:08:50.571Z"
   },
   {
    "duration": 3,
    "start_time": "2022-01-16T09:08:50.580Z"
   },
   {
    "duration": 11,
    "start_time": "2022-01-16T09:08:50.584Z"
   },
   {
    "duration": 32,
    "start_time": "2022-01-16T09:08:50.596Z"
   },
   {
    "duration": 10,
    "start_time": "2022-01-16T09:08:50.629Z"
   },
   {
    "duration": 9,
    "start_time": "2022-01-16T09:08:50.641Z"
   },
   {
    "duration": 3,
    "start_time": "2022-01-16T09:08:50.651Z"
   },
   {
    "duration": 17,
    "start_time": "2022-01-16T09:08:50.656Z"
   },
   {
    "duration": 11,
    "start_time": "2022-01-16T09:08:50.674Z"
   },
   {
    "duration": 10,
    "start_time": "2022-01-16T09:08:50.688Z"
   },
   {
    "duration": 35,
    "start_time": "2022-01-16T09:08:50.700Z"
   },
   {
    "duration": 12,
    "start_time": "2022-01-16T09:08:50.736Z"
   },
   {
    "duration": 11,
    "start_time": "2022-01-16T09:08:50.749Z"
   },
   {
    "duration": 7,
    "start_time": "2022-01-16T09:08:50.761Z"
   },
   {
    "duration": 10,
    "start_time": "2022-01-16T09:08:50.770Z"
   },
   {
    "duration": 7,
    "start_time": "2022-01-16T09:08:50.781Z"
   },
   {
    "duration": 5,
    "start_time": "2022-01-16T09:08:50.789Z"
   },
   {
    "duration": 49,
    "start_time": "2022-01-16T09:08:50.796Z"
   },
   {
    "duration": 11,
    "start_time": "2022-01-16T09:08:50.847Z"
   },
   {
    "duration": 15,
    "start_time": "2022-01-16T09:08:50.860Z"
   },
   {
    "duration": 11,
    "start_time": "2022-01-16T09:08:50.877Z"
   },
   {
    "duration": 42,
    "start_time": "2022-01-16T09:08:50.889Z"
   },
   {
    "duration": 5,
    "start_time": "2022-01-16T09:08:50.932Z"
   },
   {
    "duration": 8,
    "start_time": "2022-01-16T09:08:50.938Z"
   },
   {
    "duration": 4,
    "start_time": "2022-01-16T09:08:50.947Z"
   },
   {
    "duration": 3,
    "start_time": "2022-01-16T09:12:07.310Z"
   },
   {
    "duration": 3,
    "start_time": "2022-01-16T09:12:17.091Z"
   },
   {
    "duration": 651,
    "start_time": "2022-01-16T09:12:44.792Z"
   },
   {
    "duration": 3,
    "start_time": "2022-01-16T09:13:02.432Z"
   },
   {
    "duration": 22,
    "start_time": "2022-01-16T09:13:04.333Z"
   },
   {
    "duration": 14,
    "start_time": "2022-01-16T09:13:07.115Z"
   },
   {
    "duration": 3,
    "start_time": "2022-01-16T09:13:11.024Z"
   },
   {
    "duration": 14,
    "start_time": "2022-01-16T09:13:13.861Z"
   },
   {
    "duration": 573,
    "start_time": "2022-01-16T09:13:18.411Z"
   },
   {
    "duration": 124,
    "start_time": "2022-01-16T09:13:18.986Z"
   },
   {
    "duration": 20,
    "start_time": "2022-01-16T09:13:19.112Z"
   },
   {
    "duration": 23,
    "start_time": "2022-01-16T09:13:19.134Z"
   },
   {
    "duration": 6,
    "start_time": "2022-01-16T09:13:19.159Z"
   },
   {
    "duration": 20,
    "start_time": "2022-01-16T09:13:19.166Z"
   },
   {
    "duration": 5,
    "start_time": "2022-01-16T09:13:19.188Z"
   },
   {
    "duration": 42,
    "start_time": "2022-01-16T09:13:19.196Z"
   },
   {
    "duration": 17,
    "start_time": "2022-01-16T09:13:19.240Z"
   },
   {
    "duration": 21,
    "start_time": "2022-01-16T09:13:19.259Z"
   },
   {
    "duration": 74,
    "start_time": "2022-01-16T09:13:19.281Z"
   },
   {
    "duration": 60,
    "start_time": "2022-01-16T09:13:19.356Z"
   },
   {
    "duration": 49,
    "start_time": "2022-01-16T09:13:19.417Z"
   },
   {
    "duration": 8,
    "start_time": "2022-01-16T09:13:19.468Z"
   },
   {
    "duration": 4,
    "start_time": "2022-01-16T09:13:19.477Z"
   },
   {
    "duration": 13,
    "start_time": "2022-01-16T09:13:19.482Z"
   },
   {
    "duration": 30,
    "start_time": "2022-01-16T09:13:19.497Z"
   },
   {
    "duration": 9,
    "start_time": "2022-01-16T09:13:19.529Z"
   },
   {
    "duration": 9,
    "start_time": "2022-01-16T09:13:19.540Z"
   },
   {
    "duration": 3,
    "start_time": "2022-01-16T09:13:19.550Z"
   },
   {
    "duration": 17,
    "start_time": "2022-01-16T09:13:19.554Z"
   },
   {
    "duration": 10,
    "start_time": "2022-01-16T09:13:19.572Z"
   },
   {
    "duration": 12,
    "start_time": "2022-01-16T09:13:19.585Z"
   },
   {
    "duration": 35,
    "start_time": "2022-01-16T09:13:19.598Z"
   },
   {
    "duration": 12,
    "start_time": "2022-01-16T09:13:19.634Z"
   },
   {
    "duration": 10,
    "start_time": "2022-01-16T09:13:19.648Z"
   },
   {
    "duration": 7,
    "start_time": "2022-01-16T09:13:19.659Z"
   },
   {
    "duration": 10,
    "start_time": "2022-01-16T09:13:19.668Z"
   },
   {
    "duration": 7,
    "start_time": "2022-01-16T09:13:19.679Z"
   },
   {
    "duration": 3,
    "start_time": "2022-01-16T09:13:19.688Z"
   },
   {
    "duration": 47,
    "start_time": "2022-01-16T09:13:19.693Z"
   },
   {
    "duration": 11,
    "start_time": "2022-01-16T09:13:19.741Z"
   },
   {
    "duration": 15,
    "start_time": "2022-01-16T09:13:19.753Z"
   },
   {
    "duration": 10,
    "start_time": "2022-01-16T09:13:19.769Z"
   },
   {
    "duration": 7,
    "start_time": "2022-01-16T09:13:19.781Z"
   },
   {
    "duration": 4,
    "start_time": "2022-01-16T09:13:19.789Z"
   },
   {
    "duration": 35,
    "start_time": "2022-01-16T09:13:19.794Z"
   },
   {
    "duration": 5,
    "start_time": "2022-01-16T09:13:19.831Z"
   },
   {
    "duration": 592,
    "start_time": "2022-01-16T09:13:52.409Z"
   },
   {
    "duration": 125,
    "start_time": "2022-01-16T09:13:53.003Z"
   },
   {
    "duration": 14,
    "start_time": "2022-01-16T09:13:53.130Z"
   },
   {
    "duration": 23,
    "start_time": "2022-01-16T09:13:53.146Z"
   },
   {
    "duration": 4,
    "start_time": "2022-01-16T09:13:53.170Z"
   },
   {
    "duration": 21,
    "start_time": "2022-01-16T09:13:53.175Z"
   },
   {
    "duration": 4,
    "start_time": "2022-01-16T09:13:53.197Z"
   },
   {
    "duration": 45,
    "start_time": "2022-01-16T09:13:53.203Z"
   },
   {
    "duration": 15,
    "start_time": "2022-01-16T09:13:53.251Z"
   },
   {
    "duration": 21,
    "start_time": "2022-01-16T09:13:53.268Z"
   },
   {
    "duration": 78,
    "start_time": "2022-01-16T09:13:53.291Z"
   },
   {
    "duration": 68,
    "start_time": "2022-01-16T09:13:53.371Z"
   },
   {
    "duration": 46,
    "start_time": "2022-01-16T09:13:53.440Z"
   },
   {
    "duration": 8,
    "start_time": "2022-01-16T09:13:53.488Z"
   },
   {
    "duration": 5,
    "start_time": "2022-01-16T09:13:53.497Z"
   },
   {
    "duration": 30,
    "start_time": "2022-01-16T09:13:53.503Z"
   },
   {
    "duration": 8,
    "start_time": "2022-01-16T09:13:53.534Z"
   },
   {
    "duration": 14,
    "start_time": "2022-01-16T09:13:53.543Z"
   },
   {
    "duration": 9,
    "start_time": "2022-01-16T09:13:53.559Z"
   },
   {
    "duration": 3,
    "start_time": "2022-01-16T09:13:53.569Z"
   },
   {
    "duration": 678,
    "start_time": "2022-01-16T09:13:53.573Z"
   },
   {
    "duration": -26,
    "start_time": "2022-01-16T09:13:54.279Z"
   },
   {
    "duration": -29,
    "start_time": "2022-01-16T09:13:54.283Z"
   },
   {
    "duration": -32,
    "start_time": "2022-01-16T09:13:54.287Z"
   },
   {
    "duration": -36,
    "start_time": "2022-01-16T09:13:54.291Z"
   },
   {
    "duration": -39,
    "start_time": "2022-01-16T09:13:54.295Z"
   },
   {
    "duration": -41,
    "start_time": "2022-01-16T09:13:54.298Z"
   },
   {
    "duration": -45,
    "start_time": "2022-01-16T09:13:54.303Z"
   },
   {
    "duration": -47,
    "start_time": "2022-01-16T09:13:54.306Z"
   },
   {
    "duration": -51,
    "start_time": "2022-01-16T09:13:54.310Z"
   },
   {
    "duration": -54,
    "start_time": "2022-01-16T09:13:54.314Z"
   },
   {
    "duration": -58,
    "start_time": "2022-01-16T09:13:54.319Z"
   },
   {
    "duration": -63,
    "start_time": "2022-01-16T09:13:54.324Z"
   },
   {
    "duration": -65,
    "start_time": "2022-01-16T09:13:54.327Z"
   },
   {
    "duration": -68,
    "start_time": "2022-01-16T09:13:54.331Z"
   },
   {
    "duration": -72,
    "start_time": "2022-01-16T09:13:54.335Z"
   },
   {
    "duration": -75,
    "start_time": "2022-01-16T09:13:54.339Z"
   },
   {
    "duration": -77,
    "start_time": "2022-01-16T09:13:54.342Z"
   },
   {
    "duration": 538,
    "start_time": "2022-01-16T09:14:25.766Z"
   },
   {
    "duration": 121,
    "start_time": "2022-01-16T09:14:26.305Z"
   },
   {
    "duration": 16,
    "start_time": "2022-01-16T09:14:26.428Z"
   },
   {
    "duration": 23,
    "start_time": "2022-01-16T09:14:26.446Z"
   },
   {
    "duration": 3,
    "start_time": "2022-01-16T09:14:26.471Z"
   },
   {
    "duration": 19,
    "start_time": "2022-01-16T09:14:26.475Z"
   },
   {
    "duration": 6,
    "start_time": "2022-01-16T09:14:26.495Z"
   },
   {
    "duration": 44,
    "start_time": "2022-01-16T09:14:26.503Z"
   },
   {
    "duration": 18,
    "start_time": "2022-01-16T09:14:26.548Z"
   },
   {
    "duration": 19,
    "start_time": "2022-01-16T09:14:26.568Z"
   },
   {
    "duration": 73,
    "start_time": "2022-01-16T09:14:26.589Z"
   },
   {
    "duration": 64,
    "start_time": "2022-01-16T09:14:26.664Z"
   },
   {
    "duration": 46,
    "start_time": "2022-01-16T09:14:26.730Z"
   },
   {
    "duration": 9,
    "start_time": "2022-01-16T09:14:26.777Z"
   },
   {
    "duration": 6,
    "start_time": "2022-01-16T09:14:26.787Z"
   },
   {
    "duration": 13,
    "start_time": "2022-01-16T09:14:26.794Z"
   },
   {
    "duration": 24,
    "start_time": "2022-01-16T09:14:26.808Z"
   },
   {
    "duration": 10,
    "start_time": "2022-01-16T09:14:26.834Z"
   },
   {
    "duration": 9,
    "start_time": "2022-01-16T09:14:26.845Z"
   },
   {
    "duration": 3,
    "start_time": "2022-01-16T09:14:26.855Z"
   },
   {
    "duration": 19,
    "start_time": "2022-01-16T09:14:26.859Z"
   },
   {
    "duration": 10,
    "start_time": "2022-01-16T09:14:26.880Z"
   },
   {
    "duration": 41,
    "start_time": "2022-01-16T09:14:26.893Z"
   },
   {
    "duration": 10,
    "start_time": "2022-01-16T09:14:26.936Z"
   },
   {
    "duration": 13,
    "start_time": "2022-01-16T09:14:26.947Z"
   },
   {
    "duration": 11,
    "start_time": "2022-01-16T09:14:26.962Z"
   },
   {
    "duration": 8,
    "start_time": "2022-01-16T09:14:26.974Z"
   },
   {
    "duration": 14,
    "start_time": "2022-01-16T09:14:26.983Z"
   },
   {
    "duration": 32,
    "start_time": "2022-01-16T09:14:26.998Z"
   },
   {
    "duration": 3,
    "start_time": "2022-01-16T09:14:27.032Z"
   },
   {
    "duration": 32,
    "start_time": "2022-01-16T09:14:27.037Z"
   },
   {
    "duration": 12,
    "start_time": "2022-01-16T09:14:27.071Z"
   },
   {
    "duration": 15,
    "start_time": "2022-01-16T09:14:27.084Z"
   },
   {
    "duration": 10,
    "start_time": "2022-01-16T09:14:27.100Z"
   },
   {
    "duration": 20,
    "start_time": "2022-01-16T09:14:27.111Z"
   },
   {
    "duration": 4,
    "start_time": "2022-01-16T09:14:27.133Z"
   },
   {
    "duration": 9,
    "start_time": "2022-01-16T09:14:27.139Z"
   },
   {
    "duration": 6,
    "start_time": "2022-01-16T09:14:27.150Z"
   },
   {
    "duration": 17,
    "start_time": "2022-01-16T09:30:28.982Z"
   },
   {
    "duration": 6,
    "start_time": "2022-01-16T09:38:49.099Z"
   },
   {
    "duration": 589,
    "start_time": "2022-01-16T09:39:10.797Z"
   },
   {
    "duration": 120,
    "start_time": "2022-01-16T09:39:11.388Z"
   },
   {
    "duration": 24,
    "start_time": "2022-01-16T09:39:11.512Z"
   },
   {
    "duration": 24,
    "start_time": "2022-01-16T09:39:11.537Z"
   },
   {
    "duration": 3,
    "start_time": "2022-01-16T09:39:11.563Z"
   },
   {
    "duration": 17,
    "start_time": "2022-01-16T09:39:11.568Z"
   },
   {
    "duration": 3,
    "start_time": "2022-01-16T09:39:11.587Z"
   },
   {
    "duration": 41,
    "start_time": "2022-01-16T09:39:11.592Z"
   },
   {
    "duration": 17,
    "start_time": "2022-01-16T09:39:11.635Z"
   },
   {
    "duration": 19,
    "start_time": "2022-01-16T09:39:11.654Z"
   },
   {
    "duration": 66,
    "start_time": "2022-01-16T09:39:11.675Z"
   },
   {
    "duration": 60,
    "start_time": "2022-01-16T09:39:11.742Z"
   },
   {
    "duration": 57,
    "start_time": "2022-01-16T09:39:11.803Z"
   },
   {
    "duration": 8,
    "start_time": "2022-01-16T09:39:11.862Z"
   },
   {
    "duration": 3,
    "start_time": "2022-01-16T09:39:11.871Z"
   },
   {
    "duration": 10,
    "start_time": "2022-01-16T09:39:11.875Z"
   },
   {
    "duration": 8,
    "start_time": "2022-01-16T09:39:11.886Z"
   },
   {
    "duration": 33,
    "start_time": "2022-01-16T09:39:11.895Z"
   },
   {
    "duration": 10,
    "start_time": "2022-01-16T09:39:11.929Z"
   },
   {
    "duration": 3,
    "start_time": "2022-01-16T09:39:11.940Z"
   },
   {
    "duration": 22,
    "start_time": "2022-01-16T09:39:11.944Z"
   },
   {
    "duration": 11,
    "start_time": "2022-01-16T09:39:11.969Z"
   },
   {
    "duration": 12,
    "start_time": "2022-01-16T09:39:11.982Z"
   },
   {
    "duration": 36,
    "start_time": "2022-01-16T09:39:11.995Z"
   },
   {
    "duration": 13,
    "start_time": "2022-01-16T09:39:12.033Z"
   },
   {
    "duration": 10,
    "start_time": "2022-01-16T09:39:12.047Z"
   },
   {
    "duration": 7,
    "start_time": "2022-01-16T09:39:12.059Z"
   },
   {
    "duration": 10,
    "start_time": "2022-01-16T09:39:12.067Z"
   },
   {
    "duration": 7,
    "start_time": "2022-01-16T09:39:12.078Z"
   },
   {
    "duration": 4,
    "start_time": "2022-01-16T09:39:12.086Z"
   },
   {
    "duration": 46,
    "start_time": "2022-01-16T09:39:12.091Z"
   },
   {
    "duration": 12,
    "start_time": "2022-01-16T09:39:12.138Z"
   },
   {
    "duration": 15,
    "start_time": "2022-01-16T09:39:12.151Z"
   },
   {
    "duration": 10,
    "start_time": "2022-01-16T09:39:12.168Z"
   },
   {
    "duration": 7,
    "start_time": "2022-01-16T09:39:12.179Z"
   },
   {
    "duration": 4,
    "start_time": "2022-01-16T09:39:12.188Z"
   },
   {
    "duration": 38,
    "start_time": "2022-01-16T09:39:12.193Z"
   },
   {
    "duration": 8,
    "start_time": "2022-01-16T09:39:12.232Z"
   },
   {
    "duration": 94,
    "start_time": "2022-01-16T09:47:41.814Z"
   },
   {
    "duration": 562,
    "start_time": "2022-01-16T09:48:22.223Z"
   },
   {
    "duration": 124,
    "start_time": "2022-01-16T09:48:22.787Z"
   },
   {
    "duration": 22,
    "start_time": "2022-01-16T09:48:22.913Z"
   },
   {
    "duration": 23,
    "start_time": "2022-01-16T09:48:22.937Z"
   },
   {
    "duration": 5,
    "start_time": "2022-01-16T09:48:22.961Z"
   },
   {
    "duration": 18,
    "start_time": "2022-01-16T09:48:22.967Z"
   },
   {
    "duration": 4,
    "start_time": "2022-01-16T09:48:22.986Z"
   },
   {
    "duration": 55,
    "start_time": "2022-01-16T09:48:22.993Z"
   },
   {
    "duration": 17,
    "start_time": "2022-01-16T09:48:23.050Z"
   },
   {
    "duration": 25,
    "start_time": "2022-01-16T09:48:23.069Z"
   },
   {
    "duration": 75,
    "start_time": "2022-01-16T09:48:23.096Z"
   },
   {
    "duration": 74,
    "start_time": "2022-01-16T09:48:23.173Z"
   },
   {
    "duration": 47,
    "start_time": "2022-01-16T09:48:23.249Z"
   },
   {
    "duration": 10,
    "start_time": "2022-01-16T09:48:23.298Z"
   },
   {
    "duration": 3,
    "start_time": "2022-01-16T09:48:23.327Z"
   },
   {
    "duration": 11,
    "start_time": "2022-01-16T09:48:23.331Z"
   },
   {
    "duration": 8,
    "start_time": "2022-01-16T09:48:23.344Z"
   },
   {
    "duration": 10,
    "start_time": "2022-01-16T09:48:23.353Z"
   },
   {
    "duration": 9,
    "start_time": "2022-01-16T09:48:23.364Z"
   },
   {
    "duration": 4,
    "start_time": "2022-01-16T09:48:23.374Z"
   },
   {
    "duration": 18,
    "start_time": "2022-01-16T09:48:23.379Z"
   },
   {
    "duration": 36,
    "start_time": "2022-01-16T09:48:23.398Z"
   },
   {
    "duration": 11,
    "start_time": "2022-01-16T09:48:23.437Z"
   },
   {
    "duration": 10,
    "start_time": "2022-01-16T09:48:23.450Z"
   },
   {
    "duration": 13,
    "start_time": "2022-01-16T09:48:23.461Z"
   },
   {
    "duration": 10,
    "start_time": "2022-01-16T09:48:23.476Z"
   },
   {
    "duration": 7,
    "start_time": "2022-01-16T09:48:23.488Z"
   },
   {
    "duration": 9,
    "start_time": "2022-01-16T09:48:23.528Z"
   },
   {
    "duration": 8,
    "start_time": "2022-01-16T09:48:23.538Z"
   },
   {
    "duration": 4,
    "start_time": "2022-01-16T09:48:23.547Z"
   },
   {
    "duration": 20,
    "start_time": "2022-01-16T09:48:23.552Z"
   },
   {
    "duration": 11,
    "start_time": "2022-01-16T09:48:23.573Z"
   },
   {
    "duration": 42,
    "start_time": "2022-01-16T09:48:23.585Z"
   },
   {
    "duration": 11,
    "start_time": "2022-01-16T09:48:23.629Z"
   },
   {
    "duration": 7,
    "start_time": "2022-01-16T09:48:23.642Z"
   },
   {
    "duration": 4,
    "start_time": "2022-01-16T09:48:23.651Z"
   },
   {
    "duration": 9,
    "start_time": "2022-01-16T09:48:23.657Z"
   },
   {
    "duration": 4,
    "start_time": "2022-01-16T09:48:23.668Z"
   },
   {
    "duration": 2,
    "start_time": "2022-01-16T09:48:38.438Z"
   },
   {
    "duration": 126,
    "start_time": "2022-01-16T09:48:38.442Z"
   },
   {
    "duration": 9,
    "start_time": "2022-01-16T09:48:38.570Z"
   },
   {
    "duration": 22,
    "start_time": "2022-01-16T09:48:38.580Z"
   },
   {
    "duration": 7,
    "start_time": "2022-01-16T09:48:38.604Z"
   },
   {
    "duration": 26,
    "start_time": "2022-01-16T09:48:38.613Z"
   },
   {
    "duration": 3,
    "start_time": "2022-01-16T09:48:38.641Z"
   },
   {
    "duration": 21,
    "start_time": "2022-01-16T09:48:38.647Z"
   },
   {
    "duration": 15,
    "start_time": "2022-01-16T09:48:38.670Z"
   },
   {
    "duration": 19,
    "start_time": "2022-01-16T09:48:38.687Z"
   },
   {
    "duration": 48,
    "start_time": "2022-01-16T09:48:38.727Z"
   },
   {
    "duration": 64,
    "start_time": "2022-01-16T09:48:38.777Z"
   },
   {
    "duration": 42,
    "start_time": "2022-01-16T09:48:38.843Z"
   },
   {
    "duration": 8,
    "start_time": "2022-01-16T09:48:38.887Z"
   },
   {
    "duration": 7,
    "start_time": "2022-01-16T09:48:38.896Z"
   },
   {
    "duration": 24,
    "start_time": "2022-01-16T09:48:38.904Z"
   },
   {
    "duration": 9,
    "start_time": "2022-01-16T09:48:38.930Z"
   },
   {
    "duration": 15,
    "start_time": "2022-01-16T09:48:38.941Z"
   },
   {
    "duration": 9,
    "start_time": "2022-01-16T09:48:38.957Z"
   },
   {
    "duration": 2,
    "start_time": "2022-01-16T09:48:38.968Z"
   },
   {
    "duration": 24,
    "start_time": "2022-01-16T09:48:38.972Z"
   },
   {
    "duration": 33,
    "start_time": "2022-01-16T09:48:38.997Z"
   },
   {
    "duration": 12,
    "start_time": "2022-01-16T09:48:39.033Z"
   },
   {
    "duration": 11,
    "start_time": "2022-01-16T09:48:39.047Z"
   },
   {
    "duration": 19,
    "start_time": "2022-01-16T09:48:39.062Z"
   },
   {
    "duration": 11,
    "start_time": "2022-01-16T09:48:39.083Z"
   },
   {
    "duration": 7,
    "start_time": "2022-01-16T09:48:39.095Z"
   },
   {
    "duration": 29,
    "start_time": "2022-01-16T09:48:39.103Z"
   },
   {
    "duration": 9,
    "start_time": "2022-01-16T09:48:39.134Z"
   },
   {
    "duration": 3,
    "start_time": "2022-01-16T09:48:39.145Z"
   },
   {
    "duration": 23,
    "start_time": "2022-01-16T09:48:39.150Z"
   },
   {
    "duration": 10,
    "start_time": "2022-01-16T09:48:39.175Z"
   },
   {
    "duration": 14,
    "start_time": "2022-01-16T09:48:39.187Z"
   },
   {
    "duration": 11,
    "start_time": "2022-01-16T09:48:39.227Z"
   },
   {
    "duration": 7,
    "start_time": "2022-01-16T09:48:39.240Z"
   },
   {
    "duration": 4,
    "start_time": "2022-01-16T09:48:39.248Z"
   },
   {
    "duration": 9,
    "start_time": "2022-01-16T09:48:39.253Z"
   },
   {
    "duration": 4,
    "start_time": "2022-01-16T09:48:39.263Z"
   },
   {
    "duration": 436,
    "start_time": "2022-08-05T16:29:54.098Z"
   },
   {
    "duration": 231,
    "start_time": "2022-08-05T16:29:54.536Z"
   },
   {
    "duration": 16,
    "start_time": "2022-08-05T16:29:54.769Z"
   },
   {
    "duration": 33,
    "start_time": "2022-08-05T16:29:54.787Z"
   },
   {
    "duration": 4,
    "start_time": "2022-08-05T16:29:54.822Z"
   },
   {
    "duration": 23,
    "start_time": "2022-08-05T16:29:54.827Z"
   },
   {
    "duration": 7,
    "start_time": "2022-08-05T16:29:54.852Z"
   },
   {
    "duration": 32,
    "start_time": "2022-08-05T16:29:54.861Z"
   },
   {
    "duration": 30,
    "start_time": "2022-08-05T16:29:54.895Z"
   },
   {
    "duration": 26,
    "start_time": "2022-08-05T16:29:54.927Z"
   },
   {
    "duration": 79,
    "start_time": "2022-08-05T16:29:54.954Z"
   },
   {
    "duration": 85,
    "start_time": "2022-08-05T16:29:55.035Z"
   },
   {
    "duration": 59,
    "start_time": "2022-08-05T16:29:55.121Z"
   },
   {
    "duration": 26,
    "start_time": "2022-08-05T16:29:55.186Z"
   },
   {
    "duration": 4,
    "start_time": "2022-08-05T16:29:55.214Z"
   },
   {
    "duration": 20,
    "start_time": "2022-08-05T16:29:55.219Z"
   },
   {
    "duration": 15,
    "start_time": "2022-08-05T16:29:55.241Z"
   },
   {
    "duration": 12,
    "start_time": "2022-08-05T16:29:55.257Z"
   },
   {
    "duration": 45,
    "start_time": "2022-08-05T16:29:55.271Z"
   },
   {
    "duration": 4,
    "start_time": "2022-08-05T16:29:55.318Z"
   },
   {
    "duration": 23,
    "start_time": "2022-08-05T16:29:55.324Z"
   },
   {
    "duration": 13,
    "start_time": "2022-08-05T16:29:55.349Z"
   },
   {
    "duration": 13,
    "start_time": "2022-08-05T16:29:55.363Z"
   },
   {
    "duration": 11,
    "start_time": "2022-08-05T16:29:55.378Z"
   },
   {
    "duration": 16,
    "start_time": "2022-08-05T16:29:55.408Z"
   },
   {
    "duration": 14,
    "start_time": "2022-08-05T16:29:55.425Z"
   },
   {
    "duration": 9,
    "start_time": "2022-08-05T16:29:55.440Z"
   },
   {
    "duration": 12,
    "start_time": "2022-08-05T16:29:55.450Z"
   },
   {
    "duration": 9,
    "start_time": "2022-08-05T16:29:55.464Z"
   },
   {
    "duration": 4,
    "start_time": "2022-08-05T16:29:55.475Z"
   },
   {
    "duration": 19,
    "start_time": "2022-08-05T16:29:55.509Z"
   },
   {
    "duration": 13,
    "start_time": "2022-08-05T16:29:55.530Z"
   },
   {
    "duration": 15,
    "start_time": "2022-08-05T16:29:55.544Z"
   },
   {
    "duration": 11,
    "start_time": "2022-08-05T16:29:55.561Z"
   },
   {
    "duration": 39,
    "start_time": "2022-08-05T16:29:55.573Z"
   },
   {
    "duration": 5,
    "start_time": "2022-08-05T16:29:55.614Z"
   },
   {
    "duration": 10,
    "start_time": "2022-08-05T16:29:55.620Z"
   },
   {
    "duration": 6,
    "start_time": "2022-08-05T16:29:55.632Z"
   },
   {
    "duration": 378,
    "start_time": "2022-08-05T16:30:08.649Z"
   },
   {
    "duration": 156,
    "start_time": "2022-08-05T16:30:09.029Z"
   },
   {
    "duration": 23,
    "start_time": "2022-08-05T16:30:09.186Z"
   },
   {
    "duration": 45,
    "start_time": "2022-08-05T16:30:09.211Z"
   },
   {
    "duration": 4,
    "start_time": "2022-08-05T16:30:09.258Z"
   },
   {
    "duration": 14,
    "start_time": "2022-08-05T16:30:09.264Z"
   },
   {
    "duration": 12,
    "start_time": "2022-08-05T16:30:09.280Z"
   },
   {
    "duration": 27,
    "start_time": "2022-08-05T16:30:09.294Z"
   },
   {
    "duration": 42,
    "start_time": "2022-08-05T16:30:09.323Z"
   },
   {
    "duration": 25,
    "start_time": "2022-08-05T16:30:09.368Z"
   },
   {
    "duration": 67,
    "start_time": "2022-08-05T16:30:09.395Z"
   },
   {
    "duration": 82,
    "start_time": "2022-08-05T16:30:09.464Z"
   },
   {
    "duration": 62,
    "start_time": "2022-08-05T16:30:09.547Z"
   },
   {
    "duration": 9,
    "start_time": "2022-08-05T16:30:09.612Z"
   },
   {
    "duration": 17,
    "start_time": "2022-08-05T16:30:09.623Z"
   },
   {
    "duration": 13,
    "start_time": "2022-08-05T16:30:09.642Z"
   },
   {
    "duration": 9,
    "start_time": "2022-08-05T16:30:09.657Z"
   },
   {
    "duration": 17,
    "start_time": "2022-08-05T16:30:09.667Z"
   },
   {
    "duration": 38,
    "start_time": "2022-08-05T16:30:09.685Z"
   },
   {
    "duration": 4,
    "start_time": "2022-08-05T16:30:09.725Z"
   },
   {
    "duration": 27,
    "start_time": "2022-08-05T16:30:09.731Z"
   },
   {
    "duration": 14,
    "start_time": "2022-08-05T16:30:09.761Z"
   },
   {
    "duration": 32,
    "start_time": "2022-08-05T16:30:09.777Z"
   },
   {
    "duration": 12,
    "start_time": "2022-08-05T16:30:09.810Z"
   },
   {
    "duration": 21,
    "start_time": "2022-08-05T16:30:09.824Z"
   },
   {
    "duration": 14,
    "start_time": "2022-08-05T16:30:09.847Z"
   },
   {
    "duration": 9,
    "start_time": "2022-08-05T16:30:09.862Z"
   },
   {
    "duration": 19,
    "start_time": "2022-08-05T16:30:09.875Z"
   },
   {
    "duration": 17,
    "start_time": "2022-08-05T16:30:09.909Z"
   },
   {
    "duration": 18,
    "start_time": "2022-08-05T16:30:09.929Z"
   },
   {
    "duration": 38,
    "start_time": "2022-08-05T16:30:09.949Z"
   },
   {
    "duration": 12,
    "start_time": "2022-08-05T16:30:09.989Z"
   },
   {
    "duration": 69,
    "start_time": "2022-08-05T16:30:10.002Z"
   },
   {
    "duration": 38,
    "start_time": "2022-08-05T16:30:10.073Z"
   },
   {
    "duration": 25,
    "start_time": "2022-08-05T16:30:10.113Z"
   },
   {
    "duration": 14,
    "start_time": "2022-08-05T16:30:10.140Z"
   },
   {
    "duration": 18,
    "start_time": "2022-08-05T16:30:10.156Z"
   },
   {
    "duration": 22,
    "start_time": "2022-08-05T16:30:10.176Z"
   },
   {
    "duration": 426,
    "start_time": "2022-08-05T19:52:04.641Z"
   },
   {
    "duration": 211,
    "start_time": "2022-08-05T19:52:05.070Z"
   },
   {
    "duration": 29,
    "start_time": "2022-08-05T19:52:05.284Z"
   },
   {
    "duration": 42,
    "start_time": "2022-08-05T19:52:05.315Z"
   },
   {
    "duration": 4,
    "start_time": "2022-08-05T19:52:05.360Z"
   },
   {
    "duration": 18,
    "start_time": "2022-08-05T19:52:05.366Z"
   },
   {
    "duration": 48,
    "start_time": "2022-08-05T19:52:05.386Z"
   },
   {
    "duration": 44,
    "start_time": "2022-08-05T19:52:05.436Z"
   },
   {
    "duration": 31,
    "start_time": "2022-08-05T19:52:05.482Z"
   },
   {
    "duration": 36,
    "start_time": "2022-08-05T19:52:05.515Z"
   },
   {
    "duration": 100,
    "start_time": "2022-08-05T19:52:05.553Z"
   },
   {
    "duration": 116,
    "start_time": "2022-08-05T19:52:05.655Z"
   },
   {
    "duration": 84,
    "start_time": "2022-08-05T19:52:05.774Z"
   },
   {
    "duration": 10,
    "start_time": "2022-08-05T19:52:05.863Z"
   },
   {
    "duration": 4,
    "start_time": "2022-08-05T19:52:05.876Z"
   },
   {
    "duration": 36,
    "start_time": "2022-08-05T19:52:05.882Z"
   },
   {
    "duration": 16,
    "start_time": "2022-08-05T19:52:05.924Z"
   },
   {
    "duration": 37,
    "start_time": "2022-08-05T19:52:05.942Z"
   },
   {
    "duration": 19,
    "start_time": "2022-08-05T19:52:05.984Z"
   },
   {
    "duration": 6,
    "start_time": "2022-08-05T19:52:06.005Z"
   },
   {
    "duration": 51,
    "start_time": "2022-08-05T19:52:06.013Z"
   },
   {
    "duration": 18,
    "start_time": "2022-08-05T19:52:06.066Z"
   },
   {
    "duration": 35,
    "start_time": "2022-08-05T19:52:06.087Z"
   },
   {
    "duration": 28,
    "start_time": "2022-08-05T19:52:06.125Z"
   },
   {
    "duration": 17,
    "start_time": "2022-08-05T19:52:06.155Z"
   },
   {
    "duration": 14,
    "start_time": "2022-08-05T19:52:06.173Z"
   },
   {
    "duration": 8,
    "start_time": "2022-08-05T19:52:06.190Z"
   },
   {
    "duration": 34,
    "start_time": "2022-08-05T19:52:06.211Z"
   },
   {
    "duration": 11,
    "start_time": "2022-08-05T19:52:06.247Z"
   },
   {
    "duration": 4,
    "start_time": "2022-08-05T19:52:06.260Z"
   },
   {
    "duration": 30,
    "start_time": "2022-08-05T19:52:06.266Z"
   },
   {
    "duration": 15,
    "start_time": "2022-08-05T19:52:06.298Z"
   },
   {
    "duration": 31,
    "start_time": "2022-08-05T19:52:06.316Z"
   },
   {
    "duration": 17,
    "start_time": "2022-08-05T19:52:06.348Z"
   },
   {
    "duration": 7,
    "start_time": "2022-08-05T19:52:06.368Z"
   },
   {
    "duration": 10,
    "start_time": "2022-08-05T19:52:06.377Z"
   },
   {
    "duration": 30,
    "start_time": "2022-08-05T19:52:06.390Z"
   },
   {
    "duration": 9,
    "start_time": "2022-08-05T19:52:06.429Z"
   },
   {
    "duration": 423,
    "start_time": "2022-08-17T17:05:00.022Z"
   },
   {
    "duration": 242,
    "start_time": "2022-08-17T17:05:00.447Z"
   },
   {
    "duration": 18,
    "start_time": "2022-08-17T17:05:00.897Z"
   },
   {
    "duration": 86,
    "start_time": "2022-08-17T17:05:00.917Z"
   },
   {
    "duration": 4,
    "start_time": "2022-08-17T17:05:01.005Z"
   },
   {
    "duration": 21,
    "start_time": "2022-08-17T17:05:01.011Z"
   },
   {
    "duration": 28,
    "start_time": "2022-08-17T17:05:01.034Z"
   },
   {
    "duration": 29,
    "start_time": "2022-08-17T17:05:01.064Z"
   },
   {
    "duration": 33,
    "start_time": "2022-08-17T17:05:01.103Z"
   },
   {
    "duration": 41,
    "start_time": "2022-08-17T17:05:01.138Z"
   },
   {
    "duration": 77,
    "start_time": "2022-08-17T17:05:01.181Z"
   },
   {
    "duration": 93,
    "start_time": "2022-08-17T17:05:01.260Z"
   },
   {
    "duration": 62,
    "start_time": "2022-08-17T17:05:01.357Z"
   },
   {
    "duration": 9,
    "start_time": "2022-08-17T17:05:01.421Z"
   },
   {
    "duration": 37,
    "start_time": "2022-08-17T17:05:01.440Z"
   },
   {
    "duration": 22,
    "start_time": "2022-08-17T17:05:01.479Z"
   },
   {
    "duration": 45,
    "start_time": "2022-08-17T17:05:01.503Z"
   },
   {
    "duration": 31,
    "start_time": "2022-08-17T17:05:01.550Z"
   },
   {
    "duration": 12,
    "start_time": "2022-08-17T17:05:01.582Z"
   },
   {
    "duration": 3,
    "start_time": "2022-08-17T17:05:01.627Z"
   },
   {
    "duration": 54,
    "start_time": "2022-08-17T17:05:01.632Z"
   },
   {
    "duration": 15,
    "start_time": "2022-08-17T17:05:01.695Z"
   },
   {
    "duration": 26,
    "start_time": "2022-08-17T17:05:01.712Z"
   },
   {
    "duration": 54,
    "start_time": "2022-08-17T17:05:01.741Z"
   },
   {
    "duration": 23,
    "start_time": "2022-08-17T17:05:01.798Z"
   },
   {
    "duration": 42,
    "start_time": "2022-08-17T17:05:01.823Z"
   },
   {
    "duration": 9,
    "start_time": "2022-08-17T17:05:01.867Z"
   },
   {
    "duration": 17,
    "start_time": "2022-08-17T17:05:01.878Z"
   },
   {
    "duration": 13,
    "start_time": "2022-08-17T17:05:01.897Z"
   },
   {
    "duration": 15,
    "start_time": "2022-08-17T17:05:01.912Z"
   },
   {
    "duration": 48,
    "start_time": "2022-08-17T17:05:01.929Z"
   },
   {
    "duration": 16,
    "start_time": "2022-08-17T17:05:01.979Z"
   },
   {
    "duration": 19,
    "start_time": "2022-08-17T17:05:01.997Z"
   },
   {
    "duration": 12,
    "start_time": "2022-08-17T17:05:02.018Z"
   },
   {
    "duration": 30,
    "start_time": "2022-08-17T17:05:02.032Z"
   },
   {
    "duration": 10,
    "start_time": "2022-08-17T17:05:02.063Z"
   },
   {
    "duration": 12,
    "start_time": "2022-08-17T17:05:02.075Z"
   },
   {
    "duration": 8,
    "start_time": "2022-08-17T17:05:02.088Z"
   }
  ],
  "colab": {
   "collapsed_sections": [
    "E0vqbgi9ay0H",
    "VUC88oWjTJw2"
   ],
   "name": "yandex_music_project_2021.2.ipynb",
   "provenance": []
  },
  "kernelspec": {
   "display_name": "Python 3 (ipykernel)",
   "language": "python",
   "name": "python3"
  },
  "language_info": {
   "codemirror_mode": {
    "name": "ipython",
    "version": 3
   },
   "file_extension": ".py",
   "mimetype": "text/x-python",
   "name": "python",
   "nbconvert_exporter": "python",
   "pygments_lexer": "ipython3",
   "version": "3.9.5"
  },
  "toc": {
   "base_numbering": 1,
   "nav_menu": {},
   "number_sections": true,
   "sideBar": true,
   "skip_h1_title": true,
   "title_cell": "Table of Contents",
   "title_sidebar": "Contents",
   "toc_cell": false,
   "toc_position": {
    "height": "calc(100% - 180px)",
    "left": "10px",
    "top": "150px",
    "width": "276.638px"
   },
   "toc_section_display": true,
   "toc_window_display": false
  }
 },
 "nbformat": 4,
 "nbformat_minor": 1
}
