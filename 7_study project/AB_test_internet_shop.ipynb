{
 "cells": [
  {
   "cell_type": "code",
   "execution_count": 1,
   "metadata": {},
   "outputs": [],
   "source": [
    "import pandas as pd\n",
    "import numpy as np\n",
    "import matplotlib.pyplot as plt\n",
    "import scipy.stats as stats\n",
    "from scipy import stats as st\n",
    "import datetime as dt"
   ]
  },
  {
   "cell_type": "code",
   "execution_count": 2,
   "metadata": {},
   "outputs": [],
   "source": [
    "pd.set_option('display.max_colwidth', None)"
   ]
  },
  {
   "cell_type": "markdown",
   "metadata": {},
   "source": [
    "# Тема: Анализ А/В теста по увеличению выручки интернет-магазина"
   ]
  },
  {
   "cell_type": "markdown",
   "metadata": {},
   "source": [
    "## Предобработка данных"
   ]
  },
  {
   "cell_type": "markdown",
   "metadata": {},
   "source": [
    "Прочитаем файлы и сохраним в переменную:"
   ]
  },
  {
   "cell_type": "code",
   "execution_count": 3,
   "metadata": {},
   "outputs": [],
   "source": [
    "hypothesis = pd.read_csv('/datasets/hypothesis.csv') \n",
    "\n",
    "orders = pd.read_csv('/datasets/orders.csv')\n",
    "\n",
    "visitors = pd.read_csv('/datasets/visitors.csv')"
   ]
  },
  {
   "cell_type": "code",
   "execution_count": 4,
   "metadata": {
    "scrolled": false
   },
   "outputs": [
    {
     "name": "stdout",
     "output_type": "stream",
     "text": [
      "\u001b[1mHYPOTHESIS_FRAME\u001b[0m\n",
      "<class 'pandas.core.frame.DataFrame'>\n",
      "RangeIndex: 9 entries, 0 to 8\n",
      "Data columns (total 5 columns):\n",
      " #   Column      Non-Null Count  Dtype \n",
      "---  ------      --------------  ----- \n",
      " 0   Hypothesis  9 non-null      object\n",
      " 1   Reach       9 non-null      int64 \n",
      " 2   Impact      9 non-null      int64 \n",
      " 3   Confidence  9 non-null      int64 \n",
      " 4   Efforts     9 non-null      int64 \n",
      "dtypes: int64(4), object(1)\n",
      "memory usage: 488.0+ bytes\n"
     ]
    },
    {
     "data": {
      "text/html": [
       "<div>\n",
       "<style scoped>\n",
       "    .dataframe tbody tr th:only-of-type {\n",
       "        vertical-align: middle;\n",
       "    }\n",
       "\n",
       "    .dataframe tbody tr th {\n",
       "        vertical-align: top;\n",
       "    }\n",
       "\n",
       "    .dataframe thead th {\n",
       "        text-align: right;\n",
       "    }\n",
       "</style>\n",
       "<table border=\"1\" class=\"dataframe\">\n",
       "  <thead>\n",
       "    <tr style=\"text-align: right;\">\n",
       "      <th></th>\n",
       "      <th>Hypothesis</th>\n",
       "      <th>Reach</th>\n",
       "      <th>Impact</th>\n",
       "      <th>Confidence</th>\n",
       "      <th>Efforts</th>\n",
       "    </tr>\n",
       "  </thead>\n",
       "  <tbody>\n",
       "    <tr>\n",
       "      <th>0</th>\n",
       "      <td>Добавить два новых канала привлечения трафика, что позволит привлекать на 30% больше пользователей</td>\n",
       "      <td>3</td>\n",
       "      <td>10</td>\n",
       "      <td>8</td>\n",
       "      <td>6</td>\n",
       "    </tr>\n",
       "    <tr>\n",
       "      <th>1</th>\n",
       "      <td>Запустить собственную службу доставки, что сократит срок доставки заказов</td>\n",
       "      <td>2</td>\n",
       "      <td>5</td>\n",
       "      <td>4</td>\n",
       "      <td>10</td>\n",
       "    </tr>\n",
       "    <tr>\n",
       "      <th>2</th>\n",
       "      <td>Добавить блоки рекомендаций товаров на сайт интернет магазина, чтобы повысить конверсию и средний чек заказа</td>\n",
       "      <td>8</td>\n",
       "      <td>3</td>\n",
       "      <td>7</td>\n",
       "      <td>3</td>\n",
       "    </tr>\n",
       "    <tr>\n",
       "      <th>3</th>\n",
       "      <td>Изменить структура категорий, что увеличит конверсию, т.к. пользователи быстрее найдут нужный товар</td>\n",
       "      <td>8</td>\n",
       "      <td>3</td>\n",
       "      <td>3</td>\n",
       "      <td>8</td>\n",
       "    </tr>\n",
       "    <tr>\n",
       "      <th>4</th>\n",
       "      <td>Изменить цвет фона главной страницы, чтобы увеличить вовлеченность пользователей</td>\n",
       "      <td>3</td>\n",
       "      <td>1</td>\n",
       "      <td>1</td>\n",
       "      <td>1</td>\n",
       "    </tr>\n",
       "  </tbody>\n",
       "</table>\n",
       "</div>"
      ],
      "text/plain": [
       "                                                                                                     Hypothesis  \\\n",
       "0            Добавить два новых канала привлечения трафика, что позволит привлекать на 30% больше пользователей   \n",
       "1                                     Запустить собственную службу доставки, что сократит срок доставки заказов   \n",
       "2  Добавить блоки рекомендаций товаров на сайт интернет магазина, чтобы повысить конверсию и средний чек заказа   \n",
       "3           Изменить структура категорий, что увеличит конверсию, т.к. пользователи быстрее найдут нужный товар   \n",
       "4                              Изменить цвет фона главной страницы, чтобы увеличить вовлеченность пользователей   \n",
       "\n",
       "   Reach  Impact  Confidence  Efforts  \n",
       "0      3      10           8        6  \n",
       "1      2       5           4       10  \n",
       "2      8       3           7        3  \n",
       "3      8       3           3        8  \n",
       "4      3       1           1        1  "
      ]
     },
     "metadata": {},
     "output_type": "display_data"
    },
    {
     "data": {
      "text/plain": [
       "None"
      ]
     },
     "metadata": {},
     "output_type": "display_data"
    },
    {
     "data": {
      "text/plain": [
       "Hypothesis    0\n",
       "Reach         0\n",
       "Impact        0\n",
       "Confidence    0\n",
       "Efforts       0\n",
       "dtype: int64"
      ]
     },
     "metadata": {},
     "output_type": "display_data"
    },
    {
     "data": {
      "text/plain": [
       "0"
      ]
     },
     "metadata": {},
     "output_type": "display_data"
    },
    {
     "name": "stdout",
     "output_type": "stream",
     "text": [
      "\u001b[1mORDERS_FRAME\u001b[0m\n",
      "<class 'pandas.core.frame.DataFrame'>\n",
      "RangeIndex: 1197 entries, 0 to 1196\n",
      "Data columns (total 5 columns):\n",
      " #   Column         Non-Null Count  Dtype \n",
      "---  ------         --------------  ----- \n",
      " 0   transactionId  1197 non-null   int64 \n",
      " 1   visitorId      1197 non-null   int64 \n",
      " 2   date           1197 non-null   object\n",
      " 3   revenue        1197 non-null   int64 \n",
      " 4   group          1197 non-null   object\n",
      "dtypes: int64(3), object(2)\n",
      "memory usage: 46.9+ KB\n"
     ]
    },
    {
     "data": {
      "text/html": [
       "<div>\n",
       "<style scoped>\n",
       "    .dataframe tbody tr th:only-of-type {\n",
       "        vertical-align: middle;\n",
       "    }\n",
       "\n",
       "    .dataframe tbody tr th {\n",
       "        vertical-align: top;\n",
       "    }\n",
       "\n",
       "    .dataframe thead th {\n",
       "        text-align: right;\n",
       "    }\n",
       "</style>\n",
       "<table border=\"1\" class=\"dataframe\">\n",
       "  <thead>\n",
       "    <tr style=\"text-align: right;\">\n",
       "      <th></th>\n",
       "      <th>transactionId</th>\n",
       "      <th>visitorId</th>\n",
       "      <th>date</th>\n",
       "      <th>revenue</th>\n",
       "      <th>group</th>\n",
       "    </tr>\n",
       "  </thead>\n",
       "  <tbody>\n",
       "    <tr>\n",
       "      <th>0</th>\n",
       "      <td>3667963787</td>\n",
       "      <td>3312258926</td>\n",
       "      <td>2019-08-15</td>\n",
       "      <td>1650</td>\n",
       "      <td>B</td>\n",
       "    </tr>\n",
       "    <tr>\n",
       "      <th>1</th>\n",
       "      <td>2804400009</td>\n",
       "      <td>3642806036</td>\n",
       "      <td>2019-08-15</td>\n",
       "      <td>730</td>\n",
       "      <td>B</td>\n",
       "    </tr>\n",
       "    <tr>\n",
       "      <th>2</th>\n",
       "      <td>2961555356</td>\n",
       "      <td>4069496402</td>\n",
       "      <td>2019-08-15</td>\n",
       "      <td>400</td>\n",
       "      <td>A</td>\n",
       "    </tr>\n",
       "    <tr>\n",
       "      <th>3</th>\n",
       "      <td>3797467345</td>\n",
       "      <td>1196621759</td>\n",
       "      <td>2019-08-15</td>\n",
       "      <td>9759</td>\n",
       "      <td>B</td>\n",
       "    </tr>\n",
       "    <tr>\n",
       "      <th>4</th>\n",
       "      <td>2282983706</td>\n",
       "      <td>2322279887</td>\n",
       "      <td>2019-08-15</td>\n",
       "      <td>2308</td>\n",
       "      <td>B</td>\n",
       "    </tr>\n",
       "  </tbody>\n",
       "</table>\n",
       "</div>"
      ],
      "text/plain": [
       "   transactionId   visitorId        date  revenue group\n",
       "0     3667963787  3312258926  2019-08-15     1650     B\n",
       "1     2804400009  3642806036  2019-08-15      730     B\n",
       "2     2961555356  4069496402  2019-08-15      400     A\n",
       "3     3797467345  1196621759  2019-08-15     9759     B\n",
       "4     2282983706  2322279887  2019-08-15     2308     B"
      ]
     },
     "metadata": {},
     "output_type": "display_data"
    },
    {
     "data": {
      "text/plain": [
       "None"
      ]
     },
     "metadata": {},
     "output_type": "display_data"
    },
    {
     "data": {
      "text/plain": [
       "transactionId    0\n",
       "visitorId        0\n",
       "date             0\n",
       "revenue          0\n",
       "group            0\n",
       "dtype: int64"
      ]
     },
     "metadata": {},
     "output_type": "display_data"
    },
    {
     "data": {
      "text/plain": [
       "0"
      ]
     },
     "metadata": {},
     "output_type": "display_data"
    },
    {
     "name": "stdout",
     "output_type": "stream",
     "text": [
      "\u001b[1mVISITORS_FRAME\u001b[0m\n",
      "<class 'pandas.core.frame.DataFrame'>\n",
      "RangeIndex: 62 entries, 0 to 61\n",
      "Data columns (total 3 columns):\n",
      " #   Column    Non-Null Count  Dtype \n",
      "---  ------    --------------  ----- \n",
      " 0   date      62 non-null     object\n",
      " 1   group     62 non-null     object\n",
      " 2   visitors  62 non-null     int64 \n",
      "dtypes: int64(1), object(2)\n",
      "memory usage: 1.6+ KB\n"
     ]
    },
    {
     "data": {
      "text/html": [
       "<div>\n",
       "<style scoped>\n",
       "    .dataframe tbody tr th:only-of-type {\n",
       "        vertical-align: middle;\n",
       "    }\n",
       "\n",
       "    .dataframe tbody tr th {\n",
       "        vertical-align: top;\n",
       "    }\n",
       "\n",
       "    .dataframe thead th {\n",
       "        text-align: right;\n",
       "    }\n",
       "</style>\n",
       "<table border=\"1\" class=\"dataframe\">\n",
       "  <thead>\n",
       "    <tr style=\"text-align: right;\">\n",
       "      <th></th>\n",
       "      <th>date</th>\n",
       "      <th>group</th>\n",
       "      <th>visitors</th>\n",
       "    </tr>\n",
       "  </thead>\n",
       "  <tbody>\n",
       "    <tr>\n",
       "      <th>0</th>\n",
       "      <td>2019-08-01</td>\n",
       "      <td>A</td>\n",
       "      <td>719</td>\n",
       "    </tr>\n",
       "    <tr>\n",
       "      <th>1</th>\n",
       "      <td>2019-08-02</td>\n",
       "      <td>A</td>\n",
       "      <td>619</td>\n",
       "    </tr>\n",
       "    <tr>\n",
       "      <th>2</th>\n",
       "      <td>2019-08-03</td>\n",
       "      <td>A</td>\n",
       "      <td>507</td>\n",
       "    </tr>\n",
       "    <tr>\n",
       "      <th>3</th>\n",
       "      <td>2019-08-04</td>\n",
       "      <td>A</td>\n",
       "      <td>717</td>\n",
       "    </tr>\n",
       "    <tr>\n",
       "      <th>4</th>\n",
       "      <td>2019-08-05</td>\n",
       "      <td>A</td>\n",
       "      <td>756</td>\n",
       "    </tr>\n",
       "  </tbody>\n",
       "</table>\n",
       "</div>"
      ],
      "text/plain": [
       "         date group  visitors\n",
       "0  2019-08-01     A       719\n",
       "1  2019-08-02     A       619\n",
       "2  2019-08-03     A       507\n",
       "3  2019-08-04     A       717\n",
       "4  2019-08-05     A       756"
      ]
     },
     "metadata": {},
     "output_type": "display_data"
    },
    {
     "data": {
      "text/plain": [
       "None"
      ]
     },
     "metadata": {},
     "output_type": "display_data"
    },
    {
     "data": {
      "text/plain": [
       "date        0\n",
       "group       0\n",
       "visitors    0\n",
       "dtype: int64"
      ]
     },
     "metadata": {},
     "output_type": "display_data"
    },
    {
     "data": {
      "text/plain": [
       "0"
      ]
     },
     "metadata": {},
     "output_type": "display_data"
    }
   ],
   "source": [
    "frame = {\"hypothesis_frame\":hypothesis,\n",
    "         \"orders_frame\":orders,\n",
    "         \"visitors_frame\":visitors\n",
    "        }  #создадим словарь для того, чтобы можно было по нему пробежаться\n",
    "\n",
    "for name, information in frame.items():\n",
    "    print('\\033[1m' + name.upper() + '\\033[0m')\n",
    "    display(\n",
    "        information.head(),   #открываем фрейм\n",
    "        information.info(), #выводим информацию о фрейме\n",
    "        information.isna().sum(), #посмотрим на пропуски\n",
    "        information.duplicated().sum() #выведем явные дубликаты для изучения\n",
    "    ) \n",
    "    "
   ]
  },
  {
   "cell_type": "markdown",
   "metadata": {},
   "source": [
    "Итак, в таблице `hypothesis` пять столбцов. \n",
    "\n",
    "Согласно документации к данным:\n",
    "\n",
    "* `Hypothesis` — краткое описание гипотезы;\n",
    "* `Reach` — охват пользователей по 10-балльной шкале;\n",
    "* `Impact` — влияние на пользователей по 10-балльной шкале;\n",
    "* `Confidence` — уверенность в гипотезе по 10-балльной шкале;\n",
    "* `Efforts` — затраты ресурсов на проверку гипотезы по 10-балльной шкале. Чем больше значение Efforts, тем дороже проверка гипотезы.\n",
    "\n",
    "В таблице `orders` пять столбцов:\n",
    "\n",
    "* `transactionId` — идентификатор заказа;\n",
    "* `visitorId` — идентификатор пользователя, совершившего заказ;\n",
    "* `date` — дата, когда был совершён заказ;\n",
    "* `revenue` — выручка заказа;\n",
    "* `group` — группа A/B-теста, в которую попал заказ.\n",
    "\n",
    "В таблице  `visitors` три столбца:\n",
    "\n",
    "* `date` — дата;\n",
    "* `group` — группа A/B-теста;\n",
    "* `visitors` — количество пользователей в указанную дату в указанной группе A/B-теста\n",
    "\n",
    "   "
   ]
  },
  {
   "cell_type": "markdown",
   "metadata": {},
   "source": [
    "Изучив данные приходим к выводу, что нужно сделать следущие действия для корректной работы с данными:\n",
    "\n",
    "1) Привести к нижнему регистру названия столбцов в таблице hypothesis.\n",
    "\n",
    "2) Привести к змеиному регистру название столбцов в таблице orders.\n",
    "\n",
    "3) Привести дату к формату datatime в таблицах orders и visitors."
   ]
  },
  {
   "cell_type": "code",
   "execution_count": 5,
   "metadata": {},
   "outputs": [],
   "source": [
    "hypothesis.columns = hypothesis.columns.str.lower() #для удобства привидем название столбцов к нижнему регистру\n",
    "\n",
    "\n",
    "orders = orders.rename(columns={'transactionId': 'transaction_id',\n",
    "                                'visitorId': 'visitor_id'})  #змеиный регистр\n",
    "\n",
    "#orders['date'] = orders['date'].map(\n",
    "#    lambda x: dt.datetime.strptime(x, '%Y-%m-%d') #приводим формат к datatime\n",
    "#)\n",
    "\n",
    "orders['date'] = pd.to_datetime(orders['date'])\n",
    "\n",
    "visitors['date'] = visitors['date'].map(\n",
    "    lambda x: dt.datetime.strptime(x, '%Y-%m-%d') #приводим формат к datatime\n",
    ")\n"
   ]
  },
  {
   "cell_type": "markdown",
   "metadata": {},
   "source": [
    "## Приоритизация гипотез. "
   ]
  },
  {
   "cell_type": "markdown",
   "metadata": {},
   "source": [
    "**Применим фреймворк ICE для приоритизации гипотез. Отсортируем их по убыванию приоритета.**"
   ]
  },
  {
   "cell_type": "code",
   "execution_count": 6,
   "metadata": {},
   "outputs": [
    {
     "data": {
      "text/html": [
       "<div>\n",
       "<style scoped>\n",
       "    .dataframe tbody tr th:only-of-type {\n",
       "        vertical-align: middle;\n",
       "    }\n",
       "\n",
       "    .dataframe tbody tr th {\n",
       "        vertical-align: top;\n",
       "    }\n",
       "\n",
       "    .dataframe thead th {\n",
       "        text-align: right;\n",
       "    }\n",
       "</style>\n",
       "<table border=\"1\" class=\"dataframe\">\n",
       "  <thead>\n",
       "    <tr style=\"text-align: right;\">\n",
       "      <th></th>\n",
       "      <th>hypothesis</th>\n",
       "      <th>ICE</th>\n",
       "    </tr>\n",
       "  </thead>\n",
       "  <tbody>\n",
       "    <tr>\n",
       "      <th>8</th>\n",
       "      <td>Запустить акцию, дающую скидку на товар в день рождения</td>\n",
       "      <td>16.20</td>\n",
       "    </tr>\n",
       "    <tr>\n",
       "      <th>0</th>\n",
       "      <td>Добавить два новых канала привлечения трафика, что позволит привлекать на 30% больше пользователей</td>\n",
       "      <td>13.33</td>\n",
       "    </tr>\n",
       "    <tr>\n",
       "      <th>7</th>\n",
       "      <td>Добавить форму подписки на все основные страницы, чтобы собрать базу клиентов для email-рассылок</td>\n",
       "      <td>11.20</td>\n",
       "    </tr>\n",
       "    <tr>\n",
       "      <th>6</th>\n",
       "      <td>Показать на главной странице баннеры с актуальными акциями и распродажами, чтобы увеличить конверсию</td>\n",
       "      <td>8.00</td>\n",
       "    </tr>\n",
       "    <tr>\n",
       "      <th>2</th>\n",
       "      <td>Добавить блоки рекомендаций товаров на сайт интернет магазина, чтобы повысить конверсию и средний чек заказа</td>\n",
       "      <td>7.00</td>\n",
       "    </tr>\n",
       "    <tr>\n",
       "      <th>1</th>\n",
       "      <td>Запустить собственную службу доставки, что сократит срок доставки заказов</td>\n",
       "      <td>2.00</td>\n",
       "    </tr>\n",
       "    <tr>\n",
       "      <th>5</th>\n",
       "      <td>Добавить страницу отзывов клиентов о магазине, что позволит увеличить количество заказов</td>\n",
       "      <td>1.33</td>\n",
       "    </tr>\n",
       "    <tr>\n",
       "      <th>3</th>\n",
       "      <td>Изменить структура категорий, что увеличит конверсию, т.к. пользователи быстрее найдут нужный товар</td>\n",
       "      <td>1.12</td>\n",
       "    </tr>\n",
       "    <tr>\n",
       "      <th>4</th>\n",
       "      <td>Изменить цвет фона главной страницы, чтобы увеличить вовлеченность пользователей</td>\n",
       "      <td>1.00</td>\n",
       "    </tr>\n",
       "  </tbody>\n",
       "</table>\n",
       "</div>"
      ],
      "text/plain": [
       "                                                                                                     hypothesis  \\\n",
       "8                                                       Запустить акцию, дающую скидку на товар в день рождения   \n",
       "0            Добавить два новых канала привлечения трафика, что позволит привлекать на 30% больше пользователей   \n",
       "7              Добавить форму подписки на все основные страницы, чтобы собрать базу клиентов для email-рассылок   \n",
       "6          Показать на главной странице баннеры с актуальными акциями и распродажами, чтобы увеличить конверсию   \n",
       "2  Добавить блоки рекомендаций товаров на сайт интернет магазина, чтобы повысить конверсию и средний чек заказа   \n",
       "1                                     Запустить собственную службу доставки, что сократит срок доставки заказов   \n",
       "5                      Добавить страницу отзывов клиентов о магазине, что позволит увеличить количество заказов   \n",
       "3           Изменить структура категорий, что увеличит конверсию, т.к. пользователи быстрее найдут нужный товар   \n",
       "4                              Изменить цвет фона главной страницы, чтобы увеличить вовлеченность пользователей   \n",
       "\n",
       "     ICE  \n",
       "8  16.20  \n",
       "0  13.33  \n",
       "7  11.20  \n",
       "6   8.00  \n",
       "2   7.00  \n",
       "1   2.00  \n",
       "5   1.33  \n",
       "3   1.12  \n",
       "4   1.00  "
      ]
     },
     "execution_count": 6,
     "metadata": {},
     "output_type": "execute_result"
    }
   ],
   "source": [
    "hypothesis['ICE'] = (hypothesis['impact']*hypothesis['confidence'])/hypothesis['efforts'] #посчитаем ICE Score\n",
    "hypothesis_ice = hypothesis[['hypothesis', 'ICE']].sort_values(by='ICE', ascending=False).round(2)\n",
    "hypothesis_ice # выведим фрейм с приоритизацией ICE\n"
   ]
  },
  {
   "cell_type": "markdown",
   "metadata": {},
   "source": [
    "По показателю ICE в приоритете топ-3 следующих гипотез:\n",
    "\n",
    "1) Запустить акцию, дающую скидку на товар в день рождения\t\n",
    "\n",
    "2) Добавить два новых канала привлечения трафика, что позволит привлекать на 30% больше пользователей\n",
    "\n",
    "3) Добавить форму подписки на все основные страницы, чтобы собрать базу клиентов для email-рассылок\t"
   ]
  },
  {
   "cell_type": "markdown",
   "metadata": {},
   "source": [
    "**Применим фреймворк RICE для приоритизации гипотез. Отсортируем их по убыванию приоритета.**"
   ]
  },
  {
   "cell_type": "code",
   "execution_count": 7,
   "metadata": {},
   "outputs": [
    {
     "data": {
      "text/html": [
       "<div>\n",
       "<style scoped>\n",
       "    .dataframe tbody tr th:only-of-type {\n",
       "        vertical-align: middle;\n",
       "    }\n",
       "\n",
       "    .dataframe tbody tr th {\n",
       "        vertical-align: top;\n",
       "    }\n",
       "\n",
       "    .dataframe thead th {\n",
       "        text-align: right;\n",
       "    }\n",
       "</style>\n",
       "<table border=\"1\" class=\"dataframe\">\n",
       "  <thead>\n",
       "    <tr style=\"text-align: right;\">\n",
       "      <th></th>\n",
       "      <th>hypothesis</th>\n",
       "      <th>RICE</th>\n",
       "    </tr>\n",
       "  </thead>\n",
       "  <tbody>\n",
       "    <tr>\n",
       "      <th>7</th>\n",
       "      <td>Добавить форму подписки на все основные страницы, чтобы собрать базу клиентов для email-рассылок</td>\n",
       "      <td>112.0</td>\n",
       "    </tr>\n",
       "    <tr>\n",
       "      <th>2</th>\n",
       "      <td>Добавить блоки рекомендаций товаров на сайт интернет магазина, чтобы повысить конверсию и средний чек заказа</td>\n",
       "      <td>56.0</td>\n",
       "    </tr>\n",
       "    <tr>\n",
       "      <th>0</th>\n",
       "      <td>Добавить два новых канала привлечения трафика, что позволит привлекать на 30% больше пользователей</td>\n",
       "      <td>40.0</td>\n",
       "    </tr>\n",
       "    <tr>\n",
       "      <th>6</th>\n",
       "      <td>Показать на главной странице баннеры с актуальными акциями и распродажами, чтобы увеличить конверсию</td>\n",
       "      <td>40.0</td>\n",
       "    </tr>\n",
       "    <tr>\n",
       "      <th>8</th>\n",
       "      <td>Запустить акцию, дающую скидку на товар в день рождения</td>\n",
       "      <td>16.2</td>\n",
       "    </tr>\n",
       "    <tr>\n",
       "      <th>3</th>\n",
       "      <td>Изменить структура категорий, что увеличит конверсию, т.к. пользователи быстрее найдут нужный товар</td>\n",
       "      <td>9.0</td>\n",
       "    </tr>\n",
       "    <tr>\n",
       "      <th>1</th>\n",
       "      <td>Запустить собственную службу доставки, что сократит срок доставки заказов</td>\n",
       "      <td>4.0</td>\n",
       "    </tr>\n",
       "    <tr>\n",
       "      <th>5</th>\n",
       "      <td>Добавить страницу отзывов клиентов о магазине, что позволит увеличить количество заказов</td>\n",
       "      <td>4.0</td>\n",
       "    </tr>\n",
       "    <tr>\n",
       "      <th>4</th>\n",
       "      <td>Изменить цвет фона главной страницы, чтобы увеличить вовлеченность пользователей</td>\n",
       "      <td>3.0</td>\n",
       "    </tr>\n",
       "  </tbody>\n",
       "</table>\n",
       "</div>"
      ],
      "text/plain": [
       "                                                                                                     hypothesis  \\\n",
       "7              Добавить форму подписки на все основные страницы, чтобы собрать базу клиентов для email-рассылок   \n",
       "2  Добавить блоки рекомендаций товаров на сайт интернет магазина, чтобы повысить конверсию и средний чек заказа   \n",
       "0            Добавить два новых канала привлечения трафика, что позволит привлекать на 30% больше пользователей   \n",
       "6          Показать на главной странице баннеры с актуальными акциями и распродажами, чтобы увеличить конверсию   \n",
       "8                                                       Запустить акцию, дающую скидку на товар в день рождения   \n",
       "3           Изменить структура категорий, что увеличит конверсию, т.к. пользователи быстрее найдут нужный товар   \n",
       "1                                     Запустить собственную службу доставки, что сократит срок доставки заказов   \n",
       "5                      Добавить страницу отзывов клиентов о магазине, что позволит увеличить количество заказов   \n",
       "4                              Изменить цвет фона главной страницы, чтобы увеличить вовлеченность пользователей   \n",
       "\n",
       "    RICE  \n",
       "7  112.0  \n",
       "2   56.0  \n",
       "0   40.0  \n",
       "6   40.0  \n",
       "8   16.2  \n",
       "3    9.0  \n",
       "1    4.0  \n",
       "5    4.0  \n",
       "4    3.0  "
      ]
     },
     "execution_count": 7,
     "metadata": {},
     "output_type": "execute_result"
    }
   ],
   "source": [
    "hypothesis['RICE'] = (\n",
    "    hypothesis['reach']*hypothesis['impact']*hypothesis['confidence'])/hypothesis['efforts'] #посчитаем ICE Score\n",
    "\n",
    "hypothesis_rice = hypothesis[['hypothesis', 'RICE']].sort_values(by='RICE', ascending=False)\n",
    "hypothesis_rice # выведим фрейм с приоритизацией RICE \n"
   ]
  },
  {
   "cell_type": "markdown",
   "metadata": {},
   "source": [
    "По показателю RICE в приоритете топ-3 следующих гипотез:\n",
    "\n",
    "1) Добавить форму подписки на все основные страницы, чтобы собрать базу клиентов для email-рассылок\n",
    "\n",
    "2) Добавить блоки рекомендаций товаров на сайт интернет магазина, чтобы повысить конверсию и средний чек заказа\t\n",
    "\n",
    "3) Добавить два новых канала привлечения трафика, что позволит привлекать на 30% больше пользователей"
   ]
  },
  {
   "cell_type": "markdown",
   "metadata": {},
   "source": [
    "**Укажим, как изменилась приоритизация гипотез при применении RICE вместо ICE. Объясним, почему так произошло.**"
   ]
  },
  {
   "cell_type": "markdown",
   "metadata": {},
   "source": [
    "Смержируем две таблицы и посмотрим на результат:"
   ]
  },
  {
   "cell_type": "code",
   "execution_count": 8,
   "metadata": {},
   "outputs": [
    {
     "data": {
      "text/html": [
       "<div>\n",
       "<style scoped>\n",
       "    .dataframe tbody tr th:only-of-type {\n",
       "        vertical-align: middle;\n",
       "    }\n",
       "\n",
       "    .dataframe tbody tr th {\n",
       "        vertical-align: top;\n",
       "    }\n",
       "\n",
       "    .dataframe thead th {\n",
       "        text-align: right;\n",
       "    }\n",
       "</style>\n",
       "<table border=\"1\" class=\"dataframe\">\n",
       "  <thead>\n",
       "    <tr style=\"text-align: right;\">\n",
       "      <th></th>\n",
       "      <th>hypothesis</th>\n",
       "      <th>ICE</th>\n",
       "      <th>RICE</th>\n",
       "    </tr>\n",
       "  </thead>\n",
       "  <tbody>\n",
       "    <tr>\n",
       "      <th>0</th>\n",
       "      <td>Запустить акцию, дающую скидку на товар в день рождения</td>\n",
       "      <td>16.20</td>\n",
       "      <td>16.2</td>\n",
       "    </tr>\n",
       "    <tr>\n",
       "      <th>1</th>\n",
       "      <td>Добавить два новых канала привлечения трафика, что позволит привлекать на 30% больше пользователей</td>\n",
       "      <td>13.33</td>\n",
       "      <td>40.0</td>\n",
       "    </tr>\n",
       "    <tr>\n",
       "      <th>2</th>\n",
       "      <td>Добавить форму подписки на все основные страницы, чтобы собрать базу клиентов для email-рассылок</td>\n",
       "      <td>11.20</td>\n",
       "      <td>112.0</td>\n",
       "    </tr>\n",
       "    <tr>\n",
       "      <th>3</th>\n",
       "      <td>Показать на главной странице баннеры с актуальными акциями и распродажами, чтобы увеличить конверсию</td>\n",
       "      <td>8.00</td>\n",
       "      <td>40.0</td>\n",
       "    </tr>\n",
       "    <tr>\n",
       "      <th>4</th>\n",
       "      <td>Добавить блоки рекомендаций товаров на сайт интернет магазина, чтобы повысить конверсию и средний чек заказа</td>\n",
       "      <td>7.00</td>\n",
       "      <td>56.0</td>\n",
       "    </tr>\n",
       "    <tr>\n",
       "      <th>5</th>\n",
       "      <td>Запустить собственную службу доставки, что сократит срок доставки заказов</td>\n",
       "      <td>2.00</td>\n",
       "      <td>4.0</td>\n",
       "    </tr>\n",
       "    <tr>\n",
       "      <th>6</th>\n",
       "      <td>Добавить страницу отзывов клиентов о магазине, что позволит увеличить количество заказов</td>\n",
       "      <td>1.33</td>\n",
       "      <td>4.0</td>\n",
       "    </tr>\n",
       "    <tr>\n",
       "      <th>7</th>\n",
       "      <td>Изменить структура категорий, что увеличит конверсию, т.к. пользователи быстрее найдут нужный товар</td>\n",
       "      <td>1.12</td>\n",
       "      <td>9.0</td>\n",
       "    </tr>\n",
       "    <tr>\n",
       "      <th>8</th>\n",
       "      <td>Изменить цвет фона главной страницы, чтобы увеличить вовлеченность пользователей</td>\n",
       "      <td>1.00</td>\n",
       "      <td>3.0</td>\n",
       "    </tr>\n",
       "  </tbody>\n",
       "</table>\n",
       "</div>"
      ],
      "text/plain": [
       "                                                                                                     hypothesis  \\\n",
       "0                                                       Запустить акцию, дающую скидку на товар в день рождения   \n",
       "1            Добавить два новых канала привлечения трафика, что позволит привлекать на 30% больше пользователей   \n",
       "2              Добавить форму подписки на все основные страницы, чтобы собрать базу клиентов для email-рассылок   \n",
       "3          Показать на главной странице баннеры с актуальными акциями и распродажами, чтобы увеличить конверсию   \n",
       "4  Добавить блоки рекомендаций товаров на сайт интернет магазина, чтобы повысить конверсию и средний чек заказа   \n",
       "5                                     Запустить собственную службу доставки, что сократит срок доставки заказов   \n",
       "6                      Добавить страницу отзывов клиентов о магазине, что позволит увеличить количество заказов   \n",
       "7           Изменить структура категорий, что увеличит конверсию, т.к. пользователи быстрее найдут нужный товар   \n",
       "8                              Изменить цвет фона главной страницы, чтобы увеличить вовлеченность пользователей   \n",
       "\n",
       "     ICE   RICE  \n",
       "0  16.20   16.2  \n",
       "1  13.33   40.0  \n",
       "2  11.20  112.0  \n",
       "3   8.00   40.0  \n",
       "4   7.00   56.0  \n",
       "5   2.00    4.0  \n",
       "6   1.33    4.0  \n",
       "7   1.12    9.0  \n",
       "8   1.00    3.0  "
      ]
     },
     "execution_count": 8,
     "metadata": {},
     "output_type": "execute_result"
    }
   ],
   "source": [
    "priority = hypothesis_ice.merge(hypothesis_rice, on = 'hypothesis', how = 'left')\n",
    "priority"
   ]
  },
  {
   "cell_type": "markdown",
   "metadata": {},
   "source": [
    "Основное отличие приотритизации между методами ICE и RICE заключается в том, что метод RICE учитывает количество пользователей, которых затронет изменение, в связи с этим многии значения значительно отличаются. Например, самая большое отличие в показателях гипотезы `\"Добавить форму подписки на все основные страницы, чтобы собрать базу клиентов для email-рассылок\"`, так как это изменение касается всех пользователей поэтому значение reach - 10 и логично, что RICH значительно увеличивается.\n",
    "\n",
    "Самое минимальная отличие в показателях гипотезы `\"Запустить акцию, дающую скидку на товар в день рождения\"`. Так как этот изменение в интервале теста каснется не так много пльзователей, то соответсвенно reach - 1 и влияние на показатель RICE минимальное."
   ]
  },
  {
   "cell_type": "markdown",
   "metadata": {},
   "source": [
    "##  Анализ A/B-теста"
   ]
  },
  {
   "cell_type": "markdown",
   "metadata": {},
   "source": [
    "Cоздаем массив уникальных пар значений дат и групп теста:"
   ]
  },
  {
   "cell_type": "markdown",
   "metadata": {},
   "source": [
    "### Построим график кумулятивной выручки по группам. "
   ]
  },
  {
   "cell_type": "code",
   "execution_count": 9,
   "metadata": {},
   "outputs": [],
   "source": [
    "datesGroups = (orders[['date','group']]\n",
    "               .drop_duplicates()\n",
    "               .sort_values(by='date')\n",
    "              )"
   ]
  },
  {
   "cell_type": "markdown",
   "metadata": {},
   "source": [
    "Соберём агрегированные кумулятивные по дням данные о заказах:"
   ]
  },
  {
   "cell_type": "code",
   "execution_count": 10,
   "metadata": {},
   "outputs": [],
   "source": [
    "ordersAggregated = (datesGroups\n",
    "                    .apply(lambda x: orders[np.logical_and(orders['date'] <= x['date'], orders['group'] == x['group'])]\n",
    "                           .agg({'date' : 'max', \n",
    "                                 'group' : 'max', \n",
    "                                 'transaction_id' : 'nunique', \n",
    "                                 'visitor_id' : 'nunique', \n",
    "                                 'revenue' : 'sum'}), axis=1)\n",
    "                    .sort_values(by=['date','group'])\n",
    "                   )"
   ]
  },
  {
   "cell_type": "markdown",
   "metadata": {},
   "source": [
    "Соберём агрегированные кумулятивные по дням данные  о посетителях интернет-магазина:"
   ]
  },
  {
   "cell_type": "code",
   "execution_count": 11,
   "metadata": {},
   "outputs": [],
   "source": [
    "visitorsAggregated = (datesGroups\n",
    "                      .apply(lambda x: visitors[np.logical_and(visitors['date'] <= x['date'], visitors['group'] == x['group'])]\n",
    "                             .agg({'date' : 'max', \n",
    "                                   'group' : 'max', \n",
    "                                   'visitors' : 'sum'}), axis=1)\n",
    "                      .sort_values(by=['date','group'])\n",
    "                     )"
   ]
  },
  {
   "cell_type": "markdown",
   "metadata": {},
   "source": [
    "Объединим обе таблицы в одну:"
   ]
  },
  {
   "cell_type": "code",
   "execution_count": 12,
   "metadata": {},
   "outputs": [
    {
     "data": {
      "text/html": [
       "<div>\n",
       "<style scoped>\n",
       "    .dataframe tbody tr th:only-of-type {\n",
       "        vertical-align: middle;\n",
       "    }\n",
       "\n",
       "    .dataframe tbody tr th {\n",
       "        vertical-align: top;\n",
       "    }\n",
       "\n",
       "    .dataframe thead th {\n",
       "        text-align: right;\n",
       "    }\n",
       "</style>\n",
       "<table border=\"1\" class=\"dataframe\">\n",
       "  <thead>\n",
       "    <tr style=\"text-align: right;\">\n",
       "      <th></th>\n",
       "      <th>date</th>\n",
       "      <th>group</th>\n",
       "      <th>orders</th>\n",
       "      <th>buyers</th>\n",
       "      <th>revenue</th>\n",
       "      <th>visitors</th>\n",
       "    </tr>\n",
       "  </thead>\n",
       "  <tbody>\n",
       "    <tr>\n",
       "      <th>0</th>\n",
       "      <td>2019-08-01</td>\n",
       "      <td>A</td>\n",
       "      <td>24</td>\n",
       "      <td>20</td>\n",
       "      <td>148579</td>\n",
       "      <td>719</td>\n",
       "    </tr>\n",
       "    <tr>\n",
       "      <th>1</th>\n",
       "      <td>2019-08-01</td>\n",
       "      <td>B</td>\n",
       "      <td>21</td>\n",
       "      <td>20</td>\n",
       "      <td>101217</td>\n",
       "      <td>713</td>\n",
       "    </tr>\n",
       "    <tr>\n",
       "      <th>2</th>\n",
       "      <td>2019-08-02</td>\n",
       "      <td>A</td>\n",
       "      <td>44</td>\n",
       "      <td>38</td>\n",
       "      <td>242401</td>\n",
       "      <td>1338</td>\n",
       "    </tr>\n",
       "    <tr>\n",
       "      <th>3</th>\n",
       "      <td>2019-08-02</td>\n",
       "      <td>B</td>\n",
       "      <td>45</td>\n",
       "      <td>43</td>\n",
       "      <td>266748</td>\n",
       "      <td>1294</td>\n",
       "    </tr>\n",
       "    <tr>\n",
       "      <th>4</th>\n",
       "      <td>2019-08-03</td>\n",
       "      <td>A</td>\n",
       "      <td>68</td>\n",
       "      <td>62</td>\n",
       "      <td>354874</td>\n",
       "      <td>1845</td>\n",
       "    </tr>\n",
       "  </tbody>\n",
       "</table>\n",
       "</div>"
      ],
      "text/plain": [
       "        date group  orders  buyers  revenue  visitors\n",
       "0 2019-08-01     A      24      20   148579       719\n",
       "1 2019-08-01     B      21      20   101217       713\n",
       "2 2019-08-02     A      44      38   242401      1338\n",
       "3 2019-08-02     B      45      43   266748      1294\n",
       "4 2019-08-03     A      68      62   354874      1845"
      ]
     },
     "execution_count": 12,
     "metadata": {},
     "output_type": "execute_result"
    }
   ],
   "source": [
    "cumulativeData = ordersAggregated.merge(visitorsAggregated, left_on=['date', 'group'], right_on=['date', 'group'])\n",
    "\n",
    "cumulativeData.columns = ['date', 'group', 'orders', 'buyers', 'revenue', 'visitors']\n",
    "\n",
    "cumulativeData.head()"
   ]
  },
  {
   "cell_type": "markdown",
   "metadata": {},
   "source": [
    "Построим графики кумулятивной выручки по дням и группам A/B-тестирования:"
   ]
  },
  {
   "cell_type": "code",
   "execution_count": 13,
   "metadata": {
    "scrolled": false
   },
   "outputs": [
    {
     "data": {
      "image/png": "[encoded data removed]",
      "text/plain": [
       "<Figure size 1080x720 with 1 Axes>"
      ]
     },
     "metadata": {
      "needs_background": "light"
     },
     "output_type": "display_data"
    }
   ],
   "source": [
    "# датафрейм с кумулятивным количеством заказов и кумулятивной выручкой по дням в группе А\n",
    "cumulativeRevenueA = cumulativeData[cumulativeData['group']=='A'][['date','revenue', 'orders']]\n",
    "\n",
    "# датафрейм с кумулятивным количеством заказов и кумулятивной выручкой по дням в группе B\n",
    "cumulativeRevenueB = cumulativeData[cumulativeData['group']=='B'][['date','revenue', 'orders']]\n",
    "\n",
    "\n",
    "\n",
    "\n",
    "#СТРОИМ ГРАФИК\n",
    "\n",
    "plt.figure(figsize=(15,10))\n",
    "# Строим график выручки группы А\n",
    "plt.plot(cumulativeRevenueA['date'], cumulativeRevenueA['revenue'], label='Кумулятивная выручка группы A') \n",
    "\n",
    "# Строим график выручки группы B\n",
    "plt.plot(cumulativeRevenueB['date'], cumulativeRevenueB['revenue'], label='Кумулятивная выручка группы B') \n",
    "\n",
    "\n",
    "\n",
    "\n",
    "plt.title('График изменения кумулятивной выручки')\n",
    "plt.legend()\n",
    "plt.xlabel('Дата')\n",
    "plt.ylabel('Кумулятивня выручка')\n",
    "plt.grid()\n",
    "plt.show()"
   ]
  },
  {
   "cell_type": "markdown",
   "metadata": {},
   "source": [
    "Выручка почти равномерно увеличивается в течение всего теста. От начала теста 2019-08-01 видно, что в группе \"B\" выручка растет быстрее, чем в группе \"А\". Однако в группе \"B\"  2019-08-19 наблюдается резкое увеличение кумулятивной выручки, что может сигнализировать о всплесках числа заказов, либо о появлении очень дорогих заказов в выборке. "
   ]
  },
  {
   "cell_type": "markdown",
   "metadata": {},
   "source": [
    "Оценим стоимость заказов:"
   ]
  },
  {
   "cell_type": "code",
   "execution_count": 14,
   "metadata": {
    "scrolled": false
   },
   "outputs": [
    {
     "data": {
      "image/png": "[encoded data removed]",
      "text/plain": [
       "<Figure size 432x288 with 1 Axes>"
      ]
     },
     "metadata": {
      "needs_background": "light"
     },
     "output_type": "display_data"
    }
   ],
   "source": [
    "y_values = orders[orders['group'] == 'B'] #выделим заказы группы \"B\"\n",
    "x_values = pd.Series(range(0,len(y_values['revenue'])))\n",
    "\n",
    "                  \n",
    "plt.scatter(x_values,y_values['revenue']) \n",
    "\n",
    "plt.title('Стоимость заказов')\n",
    "plt.ylabel('Стоимость')\n",
    "plt.grid()\n",
    "plt.show()"
   ]
  },
  {
   "cell_type": "code",
   "execution_count": 15,
   "metadata": {},
   "outputs": [
    {
     "data": {
      "text/plain": [
       "'Средняя стоимость заказов в группе \"B\" равен 9230.875, медианная стоимость заказа равнов 2965.0'"
      ]
     },
     "metadata": {},
     "output_type": "display_data"
    }
   ],
   "source": [
    "median_b = y_values['revenue'].median()\n",
    "mean_b = y_values['revenue'].mean()\n",
    "display(f'Средняя стоимость заказов в группе \"B\" равен {mean_b}, медианная стоимость заказа равнов {median_b}')"
   ]
  },
  {
   "cell_type": "markdown",
   "metadata": {},
   "source": [
    "Итак, видно, что есть явно выбивающие стоимости заказа. Скорее всего даже 2. Заказ больше 1,2миллиона рублей и заказ ~ 200 000 тысяч. Более подробно выбросы рассмотрим ниже."
   ]
  },
  {
   "cell_type": "markdown",
   "metadata": {},
   "source": [
    "### Построим график кумулятивного среднего чека по группам."
   ]
  },
  {
   "cell_type": "markdown",
   "metadata": {},
   "source": [
    "Построим графики среднего чека по группам — разделим кумулятивную выручку на кумулятивное число заказов:"
   ]
  },
  {
   "cell_type": "code",
   "execution_count": 16,
   "metadata": {
    "scrolled": false
   },
   "outputs": [
    {
     "data": {
      "image/png": "[encoded data removed]",
      "text/plain": [
       "<Figure size 1080x720 with 1 Axes>"
      ]
     },
     "metadata": {
      "needs_background": "light"
     },
     "output_type": "display_data"
    }
   ],
   "source": [
    "plt.figure(figsize=(15,10))\n",
    "\n",
    "plt.plot(cumulativeRevenueA['date'], cumulativeRevenueA['revenue']/cumulativeRevenueA['orders'], label='A')\n",
    "plt.plot(cumulativeRevenueB['date'], cumulativeRevenueB['revenue']/cumulativeRevenueB['orders'], label='B')\n",
    "\n",
    "plt.title('График изменения кумулятивного среднего чека')\n",
    "plt.legend()\n",
    "plt.xlabel('Дата')\n",
    "plt.ylabel('Кумулятивный средний чек')\n",
    "plt.grid()"
   ]
  },
  {
   "cell_type": "markdown",
   "metadata": {},
   "source": [
    "Можно заметить, что на кумулятивный средний чек так же влияет выброс, что не удивительно. Коммуллитивный средний чек группы \"B\" больше почти на всем интервале теста. Однако, в интервале с 1 по 2 августа и с 12 по 15 августа комулятивный средний чек группы \"А\" больше чем группы \"В\". После 13 августа комулятивный средний чек группы \"А\" притерпивает стагнацию показателя."
   ]
  },
  {
   "cell_type": "markdown",
   "metadata": {},
   "source": [
    "### Построим график относительного изменения кумулятивного среднего чека группы B к группе A."
   ]
  },
  {
   "cell_type": "markdown",
   "metadata": {},
   "source": [
    "Построим график относительного различия для среднего чека:"
   ]
  },
  {
   "cell_type": "code",
   "execution_count": 17,
   "metadata": {},
   "outputs": [],
   "source": [
    "# объединим таблицы cumulativeRevenueA и cumulativeRevenueB\n",
    "\n",
    "mergedCumulativeRevenue = (cumulativeRevenueA\n",
    "                           .merge(cumulativeRevenueB, \n",
    "                                  left_on='date', \n",
    "                                  right_on='date', \n",
    "                                  how='left', \n",
    "                                  suffixes=['A', 'B'])\n",
    "                          )"
   ]
  },
  {
   "cell_type": "code",
   "execution_count": 18,
   "metadata": {
    "scrolled": false
   },
   "outputs": [
    {
     "data": {
      "image/png": "[encoded data removed]",
      "text/plain": [
       "<Figure size 1080x720 with 1 Axes>"
      ]
     },
     "metadata": {
      "needs_background": "light"
     },
     "output_type": "display_data"
    }
   ],
   "source": [
    "plt.figure(figsize=(15,10))\n",
    "# cтроим отношение средних чеков\n",
    "plt.plot(mergedCumulativeRevenue['date'], \n",
    "         (mergedCumulativeRevenue['revenueB']/mergedCumulativeRevenue['ordersB'])/\n",
    "         (mergedCumulativeRevenue['revenueA']/mergedCumulativeRevenue['ordersA'])-1)\n",
    "\n",
    "# добавляем ось X\n",
    "plt.axhline(y=0, color='red', linestyle='--') \n",
    "\n",
    "\n",
    "plt.title('График относительного различия для кумулятивного среднего чека группы \"В\" к \"А\"')\n",
    "plt.xlabel('Дата')\n",
    "plt.grid()"
   ]
  },
  {
   "cell_type": "markdown",
   "metadata": {},
   "source": [
    "Выводы по этому графику будут аналогичны графику кумулятивного среднего чека. Куммулятивный средний чек группы \"В\" рос с начала теста 01.08.2019 по 07.08.2019. Затем с 07.08.2019 происходит уменьшение кумулятивного чека группы \"В\", снижение идет вплоть до 13.08.2019. Наблюдательно, что в интервале 12.08.2019...15.08.2019 средний сек группы \"В\" ниже группы \"А\". Начиная с  15.08.2019 средний чек группы \"В\" снова становиться больше среднего чека группы \"А\". На графике 19 августа, так же наблюдается выброс, который мы определили ранее."
   ]
  },
  {
   "cell_type": "markdown",
   "metadata": {},
   "source": [
    "### Построим график кумулятивной конверсии по группам"
   ]
  },
  {
   "cell_type": "markdown",
   "metadata": {},
   "source": [
    "Добавим в cumulativeData столбец 'conversion' c отношением числа заказов к количеству пользователей в указанной группе в указанный день:"
   ]
  },
  {
   "cell_type": "code",
   "execution_count": 19,
   "metadata": {},
   "outputs": [],
   "source": [
    "cumulativeData['conversion'] = cumulativeData['orders']/cumulativeData['visitors']"
   ]
  },
  {
   "cell_type": "code",
   "execution_count": 20,
   "metadata": {},
   "outputs": [],
   "source": [
    "# отделяем данные по группе А\n",
    "cumulativeDataA = cumulativeData[cumulativeData['group']=='A']\n",
    "\n",
    "# отделяем данные по группе B\n",
    "cumulativeDataB = cumulativeData[cumulativeData['group']=='B']"
   ]
  },
  {
   "cell_type": "code",
   "execution_count": 21,
   "metadata": {
    "scrolled": false
   },
   "outputs": [
    {
     "data": {
      "image/png": "[encoded data removed]",
      "text/plain": [
       "<Figure size 1080x720 with 1 Axes>"
      ]
     },
     "metadata": {
      "needs_background": "light"
     },
     "output_type": "display_data"
    }
   ],
   "source": [
    "# строим графики\n",
    "\n",
    "plt.figure(figsize=(15,10))\n",
    "\n",
    "plt.plot(cumulativeDataA['date'], cumulativeDataA['conversion'], label='A')\n",
    "plt.plot(cumulativeDataB['date'], cumulativeDataB['conversion'], label='B')\n",
    "\n",
    "plt.title('График кумулятивной конверсии')\n",
    "plt.legend()\n",
    "plt.xlabel('Дата')\n",
    "plt.ylabel('Кумулятивная конверсия')\n",
    "plt.grid()"
   ]
  },
  {
   "cell_type": "markdown",
   "metadata": {},
   "source": [
    "С начала теста 2019-08-01 в среднем конверсия группы \"А\" была больше конверсии группы \"В\". Максимальный показатель конверсии группа \"А\" достигала 2019-08-03, затем началось резкое снижение кумулятивной конверсии и  2019-08-06 конверсия группы \"В\" стала больше конверсии группы \"А\". Конверсия группы \"А\" имела тренд к снижению примерно до 2019-08-10, затем произошла стабилизация и колебания дневной конверсии вошли в канал в районе 0,03.  Кумулятивная конверсия группы \"В\" начала увеличиваться 2019-08-04 и с этой даты вошла в тренд роста, максимального значения конверсия группы \"В\" достигла 2019-08-10, после этого конверсия пошла на снижение, но в среднем колебалась в одном канале в районе 0,034."
   ]
  },
  {
   "cell_type": "markdown",
   "metadata": {},
   "source": [
    "### Построим график относительного изменения кумулятивной конверсии группы B к группе A. "
   ]
  },
  {
   "cell_type": "code",
   "execution_count": 22,
   "metadata": {},
   "outputs": [],
   "source": [
    "# Объедините таблицы cumulativeDataA и cumulativeDataB методом\n",
    "\n",
    "mergedCumulativeConversions = (cumulativeDataA[['date','conversion']]\n",
    "                               .merge(cumulativeDataB[['date','conversion']], \n",
    "                                      left_on='date', \n",
    "                                      right_on='date', \n",
    "                                      how='left', \n",
    "                                      suffixes=['A', 'B'])\n",
    "                              )"
   ]
  },
  {
   "cell_type": "code",
   "execution_count": 23,
   "metadata": {
    "scrolled": false
   },
   "outputs": [
    {
     "data": {
      "image/png": "[encoded data removed]",
      "text/plain": [
       "<Figure size 1080x720 with 1 Axes>"
      ]
     },
     "metadata": {
      "needs_background": "light"
     },
     "output_type": "display_data"
    }
   ],
   "source": [
    "#строим график\n",
    "\n",
    "plt.figure(figsize=(15,10))\n",
    "\n",
    "plt.plot(mergedCumulativeConversions['date'], \n",
    "          mergedCumulativeConversions['conversionB']/mergedCumulativeConversions['conversionA']-1)\n",
    "\n",
    "\n",
    "plt.axhline(y=0, color='red', linestyle='--')\n",
    "plt.axhline(y=0.1, color='grey', linestyle='--')\n",
    "plt.axhline(y=0.2, color='grey', linestyle='--')\n",
    "\n",
    "\n",
    "\n",
    "plt.title(\"Относительный прирост конверсии группы B относительно группы A\")\n",
    "plt.xlabel('Дата')\n",
    "plt.grid()"
   ]
  },
  {
   "cell_type": "markdown",
   "metadata": {},
   "source": [
    "График относительного изменения кумулятивной конверсии группы B к группе A, более ярко раскрывает комментарии написаные выше. На нем мы можем так же наблюдать, что с начала теста конверсия группы В была ниже группы А, 2019-08-02 кумулятивная конверсия группы В на день превысила конверсию группы А. На следующий день конверсия группы А превысила конверсию группы В и вплоть до 2019-08-06 перобладала. Шестого августа начался резкий рост кумулятивной конверсии группы В до 10 августа, затем конверсия стабилизировалась и колебалась в определенном канале."
   ]
  },
  {
   "cell_type": "markdown",
   "metadata": {},
   "source": [
    "### Построим точечный график количества заказов по пользователям."
   ]
  },
  {
   "cell_type": "code",
   "execution_count": 24,
   "metadata": {},
   "outputs": [],
   "source": [
    "# сгрупируем заказы по пользователям ипосчитае количество заказов \n",
    "ordersByUsers = (\n",
    "    orders.groupby('visitor_id', as_index=False)\n",
    "    .agg({'transaction_id': 'nunique'})\n",
    ")\n",
    "ordersByUsers.columns = ['user_id', 'orders'] #переименуем"
   ]
  },
  {
   "cell_type": "code",
   "execution_count": 25,
   "metadata": {
    "scrolled": false
   },
   "outputs": [
    {
     "data": {
      "image/png": "[encoded data removed]",
      "text/plain": [
       "<Figure size 720x360 with 1 Axes>"
      ]
     },
     "metadata": {
      "needs_background": "light"
     },
     "output_type": "display_data"
    }
   ],
   "source": [
    "#построим точеченый график\n",
    "\n",
    "x_values = pd.Series(range(0,len(ordersByUsers))) # серия из чисел от 0 до количества наблюдений в ordersByUsers\n",
    "\n",
    "plt.figure(figsize=(10,5))\n",
    "\n",
    "plt.scatter(x_values, ordersByUsers['orders']) \n",
    "\n",
    "plt.title(\"Точечный график количества заказов по пользователям\")\n",
    "plt.ylabel('Количество заказов')\n",
    "plt.grid()"
   ]
  },
  {
   "cell_type": "markdown",
   "metadata": {},
   "source": [
    "На точечном графике можно наблюдать, что большинство пользователей делают единичный заказ. Пользователей, которые делают два заказа значительно меньше, а количество тех кто совершают более 2-х заказов визуально крайне мало. Скорее всего, те кто совершают более 2-х заказов можно отправить в категорию \"выбросов\". Для того, чтобы более подробнее разобраться в это ситуации посчитаем перцентили ниже:"
   ]
  },
  {
   "cell_type": "markdown",
   "metadata": {},
   "source": [
    "### Посчитаем 95-й и 99-й перцентили количества заказов на пользователя. "
   ]
  },
  {
   "cell_type": "markdown",
   "metadata": {},
   "source": [
    "Посчитаем перцентели 95 и 9 для определения границы аномальных пользователей сделавших большое количесвто заказов:"
   ]
  },
  {
   "cell_type": "code",
   "execution_count": 26,
   "metadata": {},
   "outputs": [
    {
     "data": {
      "text/plain": [
       "'95-й  перцентиль равен [2.] заказам, а 99-й перцентиль равен [4.] заказам'"
      ]
     },
     "metadata": {},
     "output_type": "display_data"
    }
   ],
   "source": [
    "percentile_95 = np.percentile(ordersByUsers['orders'], [95])\n",
    "percentile_99 = np.percentile(ordersByUsers['orders'], [99])\n",
    "display(f'95-й  перцентиль равен {percentile_95} заказам, а 99-й перцентиль равен {percentile_99} заказам')"
   ]
  },
  {
   "cell_type": "markdown",
   "metadata": {},
   "source": [
    "И так, после определения 95-ого и 99-ого перцентиля можно сказать:\n",
    "\n",
    "1) Пять процентов пользователей делают более 2-х заказов\n",
    "\n",
    "2) Четыре и более заказов делают только 1% пользователей.\n",
    "\n",
    "При фильтрации данных будем отбрасывать значения количества заказов, кототрые превышают цифру 2."
   ]
  },
  {
   "cell_type": "markdown",
   "metadata": {},
   "source": [
    "### Построим точечный график стоимостей заказов"
   ]
  },
  {
   "cell_type": "code",
   "execution_count": 27,
   "metadata": {},
   "outputs": [
    {
     "data": {
      "image/png": "[encoded data removed]",
      "text/plain": [
       "<Figure size 720x360 with 1 Axes>"
      ]
     },
     "metadata": {
      "needs_background": "light"
     },
     "output_type": "display_data"
    }
   ],
   "source": [
    "x_values = pd.Series(range(0, len(orders['revenue'])))\n",
    "\n",
    "plt.figure(figsize=(10,5))\n",
    "\n",
    "plt.scatter(x_values, orders['revenue']) \n",
    "\n",
    "plt.title(\"Точечный график стоимости заказов\")\n",
    "plt.ylabel('Стоимость заказов')\n",
    "plt.grid()"
   ]
  },
  {
   "cell_type": "markdown",
   "metadata": {},
   "source": [
    "И так, на графике явно видны выбросы, присутствуют крупные суммы заказов более 1,2 миллиона и 200 000. Как раз эти значения сильно дестабилизировали графики комулятивной выручки, среднего чека и конверсии. Для того, чтобы более точно расчитать границу аномальной суммы заказов, перейдем у изучению перцентелев ниже."
   ]
  },
  {
   "cell_type": "markdown",
   "metadata": {},
   "source": [
    "### Посчитаем 95-й и 99-й перцентили стоимости заказов."
   ]
  },
  {
   "cell_type": "code",
   "execution_count": 28,
   "metadata": {},
   "outputs": [
    {
     "data": {
      "text/plain": [
       "'95-й  перцентиль равен [28000.] стоимости заказов, а 99-й перцентиль равен [58233.2] стоимости заказов'"
      ]
     },
     "metadata": {},
     "output_type": "display_data"
    }
   ],
   "source": [
    "percentile_95_orders = np.percentile(orders['revenue'], [95])\n",
    "percentile_99_orders = np.percentile(orders['revenue'], [99])\n",
    "display(f'95-й  перцентиль равен {percentile_95_orders} стоимости заказов, а 99-й перцентиль равен {percentile_99_orders} стоимости заказов')"
   ]
  },
  {
   "cell_type": "markdown",
   "metadata": {},
   "source": [
    "И так, после определения 95-ого и 99-ого перцентиля можно сказать:\n",
    "\n",
    "1) Пять процентов пользователей заказывают на сумму более 28000\n",
    "\n",
    "2) Только один процент пользователей заказывают на сумму более 58233.2.\n",
    "\n",
    "Решено при фильтрации данных отбрасывать заказы на сумму более 58233.2."
   ]
  },
  {
   "cell_type": "markdown",
   "metadata": {},
   "source": [
    "### Посчитаем статистическую значимость различий в конверсии между группами по «сырым» данным"
   ]
  },
  {
   "cell_type": "code",
   "execution_count": 29,
   "metadata": {},
   "outputs": [],
   "source": [
    "visitorsADaily = visitors[visitors['group'] == 'A'][['date', 'visitors']]  #выделим пользователей группы А по дням\n",
    "visitorsADaily.columns = ['date', 'visitorsPerDateA'] \n",
    "\n",
    "visitorsACummulative = visitorsADaily.apply(\n",
    "    lambda x: visitorsADaily[visitorsADaily['date'] <= x['date']].agg( #комулятивные пользователи группы А по дням\n",
    "        {'date': 'max', 'visitorsPerDateA': 'sum'}\n",
    "    ),\n",
    "    axis=1,\n",
    ")\n",
    "visitorsACummulative.columns = ['date', 'visitorsCummulativeA']\n",
    "\n",
    "\n",
    "visitorsBDaily = visitors[visitors['group'] == 'B'][['date', 'visitors']] #выделим пользователей группы В по дням\n",
    "visitorsBDaily.columns = ['date', 'visitorsPerDateB']\n",
    "\n",
    "visitorsBCummulative = visitorsBDaily.apply(\n",
    "    lambda x: visitorsBDaily[visitorsBDaily['date'] <= x['date']].agg(  #комулятивные пользователи группы В по дням\n",
    "        {'date': 'max', 'visitorsPerDateB': 'sum'}\n",
    "    ),\n",
    "    axis=1,\n",
    ")\n",
    "visitorsBCummulative.columns = ['date', 'visitorsCummulativeB']\n",
    "\n",
    "#выделим заказы и сумму заказов в гурппе \"А\" по дня\n",
    "ordersADaily = (\n",
    "    orders[orders['group'] == 'A'][['date', 'transaction_id', 'visitor_id', 'revenue']] \n",
    "    .groupby('date', as_index=False)\n",
    "    .agg({'transaction_id': pd.Series.nunique, 'revenue': 'sum'})\n",
    ")\n",
    "ordersADaily.columns = ['date', 'ordersPerDateA', 'revenuePerDateA']\n",
    "\n",
    "ordersACummulative = ordersADaily.apply(  #комулятивные заказы и сумма заказов в гурппе \"А\" по дням\n",
    "    lambda x: ordersADaily[ordersADaily['date'] <= x['date']].agg(\n",
    "        {'date': 'max', 'ordersPerDateA': 'sum', 'revenuePerDateA': 'sum'}\n",
    "    ),\n",
    "    axis=1,\n",
    ").sort_values(by=['date'])\n",
    "ordersACummulative.columns = [\n",
    "    'date',\n",
    "    'ordersCummulativeA',\n",
    "    'revenueCummulativeA',\n",
    "]\n",
    "\n",
    "#выделим заказы и сумму заказов в гурппе \"В\" по дням\n",
    "ordersBDaily = (\n",
    "    orders[orders['group'] == 'B'][['date', 'transaction_id', 'visitor_id', 'revenue']]\n",
    "    .groupby('date', as_index=False)\n",
    "    .agg({'transaction_id': pd.Series.nunique, 'revenue': 'sum'})\n",
    ")\n",
    "ordersBDaily.columns = ['date', 'ordersPerDateB', 'revenuePerDateB']\n",
    "\n",
    "ordersBCummulative = ordersBDaily.apply(  #комулятивные заказы и сумма заказов в гурппе \"В\" по дням\n",
    "    lambda x: ordersBDaily[ordersBDaily['date'] <= x['date']].agg(\n",
    "        {'date': 'max', 'ordersPerDateB': 'sum', 'revenuePerDateB': 'sum'}\n",
    "    ),\n",
    "    axis=1,\n",
    ").sort_values(by=['date'])\n",
    "ordersBCummulative.columns = [\n",
    "    'date',\n",
    "    'ordersCummulativeB',\n",
    "    'revenueCummulativeB',\n",
    "]\n",
    "\n",
    "\n",
    "#объединим полученные таблицы\n",
    "data = (\n",
    "    ordersADaily.merge(\n",
    "        ordersBDaily, left_on='date', right_on='date', how='left'\n",
    "    )\n",
    "    .merge(ordersACummulative, left_on='date', right_on='date', how='left')\n",
    "    .merge(ordersBCummulative, left_on='date', right_on='date', how='left')\n",
    "    .merge(visitorsADaily, left_on='date', right_on='date', how='left')\n",
    "    .merge(visitorsBDaily, left_on='date', right_on='date', how='left')\n",
    "    .merge(visitorsACummulative, left_on='date', right_on='date', how='left')\n",
    "    .merge(visitorsBCummulative, left_on='date', right_on='date', how='left')\n",
    ")\n"
   ]
  },
  {
   "cell_type": "markdown",
   "metadata": {},
   "source": [
    "Подготовим выборки для расчета статистической значимости тестом Манна-Уитни:"
   ]
  },
  {
   "cell_type": "code",
   "execution_count": 30,
   "metadata": {},
   "outputs": [],
   "source": [
    "# Создадим переменные ordersByUsersA и ordersByUsersB со столбцами ['userId', 'orders']. \n",
    "#В них для пользователей, которые заказывали хотя бы 1 раз, укажем число совершённых заказов.\n",
    "\n",
    "ordersByUsersA = (\n",
    "    orders[orders['group'] == 'A']\n",
    "    .groupby('visitor_id', as_index=False)\n",
    "    .agg({'transaction_id': pd.Series.nunique})\n",
    ")\n",
    "ordersByUsersA.columns = ['userId', 'orders']\n",
    "\n",
    "ordersByUsersB = (\n",
    "    orders[orders['group'] == 'B']\n",
    "    .groupby('visitor_id', as_index=False)\n",
    "    .agg({'transaction_id': pd.Series.nunique})\n",
    ")\n",
    "ordersByUsersB.columns = ['userId', 'orders'] "
   ]
  },
  {
   "cell_type": "code",
   "execution_count": 31,
   "metadata": {},
   "outputs": [],
   "source": [
    "#Объявим переменные sampleA и sampleB, в которых пользователям из разных групп будет соответствовать количество заказов. \n",
    "#Тем, кто ничего не заказал, будут соответствовать нули. \n",
    "\n",
    "sampleA = pd.concat(\n",
    "    [\n",
    "        ordersByUsersA['orders'],\n",
    "             pd.Series(\n",
    "                 0, \n",
    "                 index=np.arange(\n",
    "                     data['visitorsPerDateA'].sum() - len(ordersByUsersA['orders'])\n",
    "                 ), \n",
    "                 name='orders'\n",
    "             )\n",
    "    ]\n",
    "            ,axis=0)\n",
    "          \n",
    "          \n",
    "\n",
    "sampleB = pd.concat(\n",
    "    [\n",
    "        ordersByUsersB['orders'],\n",
    "                      pd.Series(\n",
    "                          0, \n",
    "                          index=np.arange\n",
    "                          (data['visitorsPerDateB'].sum() - len(ordersByUsersB['orders'])\n",
    "                          ), \n",
    "                          name='orders'\n",
    "                      )\n",
    "    ]\n",
    "                     ,axis=0)\n",
    "          "
   ]
  },
  {
   "cell_type": "markdown",
   "metadata": {},
   "source": [
    "Посчитаем статистическую значимость различия конверсии по результатам двух недель теста методом Манна-Уитни:\n",
    "\n",
    "\n",
    "Нулевая гипотеза H0: Статистически значимых различий в конверсии между группами нет\n",
    "\n",
    "Альтернативная гипотеза H1: Есть статистически значимых различий в конверсии между группами\n",
    "\n",
    "Критический уровень статистической значимости alpha принмаем равным 0,05 или 5%"
   ]
  },
  {
   "cell_type": "code",
   "execution_count": 32,
   "metadata": {},
   "outputs": [
    {
     "name": "stdout",
     "output_type": "stream",
     "text": [
      "Критический уровень статистической значимости alpha = 0.05\n",
      "p-значение:  0.01679\n",
      "Отвергаем нулевую гипотезу: разница статистически значима\n",
      "\n",
      "Относительное различие между группами:0.138\n"
     ]
    }
   ],
   "source": [
    "alpha = 0.05 \n",
    "results = stats.mannwhitneyu(sampleA, sampleB)\n",
    "\n",
    "\n",
    "print('Критический уровень статистической значимости alpha = 0.05')\n",
    "print('p-значение: ', results.pvalue.round(5))\n",
    "\n",
    "if results.pvalue < alpha:\n",
    "    print('Отвергаем нулевую гипотезу: разница статистически значима')\n",
    "else:\n",
    "    print(\n",
    "        'Не получилось отвергнуть нулевую гипотезу, вывод о различии сделать нельзя'\n",
    "    ) \n",
    "    \n",
    "print()\n",
    "print('Относительное различие между группами:' \"{0:.3f}\".format(sampleB.mean() / sampleA.mean() - 1))"
   ]
  },
  {
   "cell_type": "markdown",
   "metadata": {},
   "source": [
    "И так, так как значение p-value (0.01679) меньше критического уровня статистической значимости alpha (0.05), то мы отвергаем нулевую гипотезу и делаем вывод, что статистическая разница между конверсиями по группам А и В значима. Относительное различие между группами составляет 13,8%."
   ]
  },
  {
   "cell_type": "markdown",
   "metadata": {},
   "source": [
    "### Посчитаем статистическую значимость различий в среднем чеке заказа между группами по «сырым» данным"
   ]
  },
  {
   "cell_type": "code",
   "execution_count": 33,
   "metadata": {},
   "outputs": [
    {
     "name": "stdout",
     "output_type": "stream",
     "text": [
      "Критический уровень статистической значимости alpha = 0.05\n",
      "p-значение:  0.72929\n",
      "Не получилось отвергнуть нулевую гипотезу, вывод о различии сделать нельзя\n",
      "\n",
      "Относительное различие между группами:0.259\n"
     ]
    }
   ],
   "source": [
    "alpha = 0.05 \n",
    "results = stats.mannwhitneyu(orders[orders['group']=='A']['revenue'], orders[orders['group']=='B']['revenue'])\n",
    "\n",
    "\n",
    "print('Критический уровень статистической значимости alpha = 0.05')\n",
    "print('p-значение: ', results.pvalue.round(5))\n",
    "\n",
    "if results.pvalue < alpha:\n",
    "    print('Отвергаем нулевую гипотезу: разница статистически значима')\n",
    "else:\n",
    "    print(\n",
    "        'Не получилось отвергнуть нулевую гипотезу, вывод о различии сделать нельзя'\n",
    "    ) \n",
    "    \n",
    "print()\n",
    "print('Относительное различие между группами:' \n",
    "      '{0:.3f}'.format(\n",
    "          orders[orders['group']=='B']['revenue'].mean()/\n",
    "                       orders[orders['group']=='A']['revenue'].mean()-1)\n",
    "     )"
   ]
  },
  {
   "cell_type": "markdown",
   "metadata": {},
   "source": [
    "Значение p-value (0.72929), что больше установленного критического уровня статистической значимости alpha = 0.05. В связи с этим, мы не можем отвергать нулевую гипотезу, вывод о различии в среднем чеке заказа между группами по «сырым» данным сделать нельзя."
   ]
  },
  {
   "cell_type": "markdown",
   "metadata": {},
   "source": [
    "### Посчитаем статистическую значимость различий в конверсиях между группами по «очищенным» данным"
   ]
  },
  {
   "cell_type": "markdown",
   "metadata": {},
   "source": [
    "Для начала подготовимся, сделаем срезы. \n",
    "Выше  мы решили относить пользователей, кто совершил 3 и более заказов в аномалии, (выбросы). Так как 95-й перцентиль у нас равен 2-м, то есть оставшиеся 5% (3 и более заказов) мы относим к выбросам.\n",
    "Так же поступим и с сумой заказов, 99-й перцентиль у нас равен 58233.2, то что больше этой суммы отнем к выбросу. Сделаем срезы и схраним их в переменные usersWithManyOrders (для заказов) и usersWithExpensiveOrders (для стоимости):"
   ]
  },
  {
   "cell_type": "code",
   "execution_count": 34,
   "metadata": {},
   "outputs": [],
   "source": [
    "percentile_orders= orders['revenue'].quantile(0.99) #выбивающиеся сумме заказы\n",
    "percentile_number_of_orders = ordersByUsers['orders'].quantile(0.95) #выбивающиеся по количеству заказов"
   ]
  },
  {
   "cell_type": "code",
   "execution_count": 35,
   "metadata": {},
   "outputs": [
    {
     "name": "stdout",
     "output_type": "stream",
     "text": [
      "Количество выбивающихся значений равно 31\n"
     ]
    }
   ],
   "source": [
    "usersWithManyOrders = pd.concat(\n",
    "    [\n",
    "        ordersByUsersA[ordersByUsersA['orders'] > percentile_number_of_orders]['userId'],\n",
    "        ordersByUsersB[ordersByUsersB['orders'] > percentile_number_of_orders]['userId'],\n",
    "    ],\n",
    "    axis=0,\n",
    ")\n",
    "usersWithExpensiveOrders = orders[orders['revenue'] > percentile_orders]['visitor_id']\n",
    "\n",
    "abnormalUsers = (\n",
    "    pd.concat([usersWithManyOrders, usersWithExpensiveOrders], axis=0)\n",
    "    .drop_duplicates()\n",
    "    .sort_values()\n",
    ")   #объединим выьивающиеся значения в одну таблицу\n",
    "\n",
    "print('Количество выбивающихся значений равно', abnormalUsers.shape[0]) #количесвто выбивающихся значений\n"
   ]
  },
  {
   "cell_type": "code",
   "execution_count": 36,
   "metadata": {},
   "outputs": [],
   "source": [
    "#Объявим переменные sampleAFiltered и sampleBFiltered.\n",
    "\n",
    "\n",
    "sampleAFiltered = pd.concat(\n",
    "    [\n",
    "        ordersByUsersA[\n",
    "            np.logical_not(ordersByUsersA['userId'].isin(abnormalUsers))\n",
    "        ]['orders'],\n",
    "        pd.Series(\n",
    "            0,\n",
    "            index=np.arange(\n",
    "                data['visitorsPerDateA'].sum() - len(ordersByUsersA['orders'])\n",
    "            ),\n",
    "            name='orders',\n",
    "        ),\n",
    "    ],\n",
    "    axis=0,\n",
    ") \n",
    "\n",
    "\n",
    "sampleBFiltered = pd.concat(\n",
    "    [\n",
    "        ordersByUsersB[\n",
    "            np.logical_not(ordersByUsersB['userId'].isin(abnormalUsers))\n",
    "        ]['orders'],\n",
    "        pd.Series(\n",
    "            0,\n",
    "            index=np.arange(\n",
    "                data['visitorsPerDateB'].sum() - len(ordersByUsersB['orders'])\n",
    "            ),\n",
    "            name='orders',\n",
    "        ),\n",
    "    ],\n",
    "    axis=0,\n",
    ") "
   ]
  },
  {
   "cell_type": "markdown",
   "metadata": {},
   "source": [
    "Посчитаем статистическую значимость различия конверсии по \"очищенным\" данным по результатам двух недель теста методом Манна-Уитни:\n",
    "\n",
    "\n",
    "Нулевая гипотеза H0: Статистически значимых различий в конверсии между группами нет\n",
    "\n",
    "Альтернативная гипотеза H1: Есть статистически значимых различий в конверсии между группами\n",
    "\n",
    "Критический уровень статистической значимости alpha принмаем равным 0,05 или 5%"
   ]
  },
  {
   "cell_type": "code",
   "execution_count": 37,
   "metadata": {},
   "outputs": [
    {
     "name": "stdout",
     "output_type": "stream",
     "text": [
      "Критический уровень статистической значимости alpha = 0.05\n",
      "p-значение:  0.01007\n",
      "Отвергаем нулевую гипотезу: разница статистически значима\n",
      "\n",
      "Относительное различие между группами:0.174\n"
     ]
    }
   ],
   "source": [
    "alpha = 0.05 \n",
    "results = stats.mannwhitneyu(sampleAFiltered, sampleBFiltered)\n",
    "\n",
    "\n",
    "print('Критический уровень статистической значимости alpha = 0.05')\n",
    "print('p-значение: ', results.pvalue.round(5))\n",
    "\n",
    "if results.pvalue < alpha:\n",
    "    print('Отвергаем нулевую гипотезу: разница статистически значима')\n",
    "else:\n",
    "    print(\n",
    "        'Не получилось отвергнуть нулевую гипотезу, вывод о различии сделать нельзя'\n",
    "    ) \n",
    "    \n",
    "print()\n",
    "print('Относительное различие между группами:' \"{0:.3f}\".format(sampleBFiltered.mean() / sampleAFiltered.mean() - 1))"
   ]
  },
  {
   "cell_type": "markdown",
   "metadata": {},
   "source": [
    "Посчитав статистическую значимость различий в конверсиях между группами по «очищенным» данным можно сказать, что занчение p-value (0.01007) меньше установленного критического уровня alpha = 0.05. В связи с этим, мыотвергаем нулевую гипотезу - разница конверсий между группами по «очищенным» данным статистически значима. Относительное различие между гркппами составляет 17,4%."
   ]
  },
  {
   "cell_type": "markdown",
   "metadata": {},
   "source": [
    "### Посчитаем статистическую значимость различий в среднем чеке заказа между группами по «очищенным» данным"
   ]
  },
  {
   "cell_type": "code",
   "execution_count": 38,
   "metadata": {},
   "outputs": [
    {
     "name": "stdout",
     "output_type": "stream",
     "text": [
      "Критический уровень статистической значимости alpha = 0.05\n",
      "p-значение:  0.79772\n",
      "Не получилось отвергнуть нулевую гипотезу, вывод о различии сделать нельзя\n",
      "\n",
      "Относительное различие между группами: -0.020\n"
     ]
    }
   ],
   "source": [
    "alpha = 0.05 \n",
    "results = stats.mannwhitneyu(\n",
    "            orders[\n",
    "                np.logical_and(\n",
    "                    orders['group'] == 'A',\n",
    "                    np.logical_not(orders['visitor_id'].isin(abnormalUsers)),\n",
    "                )\n",
    "            ]['revenue'],\n",
    "            orders[\n",
    "                np.logical_and(\n",
    "                    orders['group'] == 'B',\n",
    "                    np.logical_not(orders['visitor_id'].isin(abnormalUsers)),\n",
    "                )\n",
    "            ]['revenue']\n",
    "        )\n",
    "\n",
    "\n",
    "print('Критический уровень статистической значимости alpha = 0.05')\n",
    "print('p-значение: ', results.pvalue.round(5))\n",
    "\n",
    "if results.pvalue < alpha:\n",
    "    print('Отвергаем нулевую гипотезу: разница статистически значима')\n",
    "else:\n",
    "    print(\n",
    "        'Не получилось отвергнуть нулевую гипотезу, вывод о различии сделать нельзя'\n",
    "    ) \n",
    "    \n",
    "print()\n",
    "print('Относительное различие между группами:',\n",
    "    \"{0:.3f}\".format(\n",
    "        orders[\n",
    "            np.logical_and(\n",
    "                orders['group'] == 'B',\n",
    "                np.logical_not(orders['visitor_id'].isin(abnormalUsers)),\n",
    "            )\n",
    "        ]['revenue'].mean()\n",
    "        / orders[\n",
    "            np.logical_and(\n",
    "                orders['group'] == 'A',\n",
    "                np.logical_not(orders['visitor_id'].isin(abnormalUsers)),\n",
    "            )\n",
    "        ]['revenue'].mean()\n",
    "        - 1\n",
    "    )\n",
    ") "
   ]
  },
  {
   "cell_type": "markdown",
   "metadata": {},
   "source": [
    "Значение p-value (0.79772) значительно больше критического уровня статистической значимости alpha = 0.05. В связи с этим, мы не отвергаем нулевую гипотезу, вывод о различии в среднем чеке заказа между группами по «очищенным» данным сделать нельзя. Средний чек группы В после очистки данных от выбросов меньше чем у группы А на 2%. До очистки выбросов средний чек группы В был больше на 26%."
   ]
  },
  {
   "cell_type": "markdown",
   "metadata": {},
   "source": [
    "## Решение по результатам теста"
   ]
  },
  {
   "cell_type": "markdown",
   "metadata": {},
   "source": [
    "После анализа А/В тестирования можно сказать:\n",
    "\n",
    "*По \"сырым\" данным*\n",
    "\n",
    "1) По сырым, неочищенным от выбросов, данным статистическая разница между конверсиями по группам А и В значима. Относительное различие между группами составляет 13,8%.  \n",
    "\n",
    "2) Статистическая разница между группами по среднему чеку несущественная. Различия по среднему счеку между группами отсутствуют. Относительное различие между группами составляет  26%.\n",
    "\n",
    "*По очищенным данным*\n",
    "\n",
    "3) Разница конверсий между группами по «очищенным» данным статистически значима. Относительное различие между группами составляет 17,4%.\n",
    "\n",
    "4)  Вывод о различии в среднем чеке заказа между группами по «очищенным» данным сделать нельзя. Средний чек группы В после очистки данных от выбросов меньше чем у группы А на 2%. До очистки выбросов средний чек группы В был больше на 26%, такое явное отличие было связано с аномально большими суммами заказов, которые были позднее отброшены.\n",
    "\n",
    "**Вывод**\n",
    "\n",
    "Результаты тестировани вполне однозначны. Конверсия у группы B увеличилась, хотя разница по среднему чеку не ощутима. Можно сказать, что эксперемент удался, группа В показывает себя лучше. Принимаем решение остановить тестирование."
   ]
  }
 ],
 "metadata": {
  "ExecuteTimeLog": [
   {
    "duration": 1480,
    "start_time": "2022-05-06T10:34:16.634Z"
   },
   {
    "duration": 14,
    "start_time": "2022-05-06T10:37:05.574Z"
   },
   {
    "duration": 24,
    "start_time": "2022-05-06T10:37:43.450Z"
   },
   {
    "duration": 10,
    "start_time": "2022-05-06T10:44:11.486Z"
   },
   {
    "duration": 106,
    "start_time": "2022-05-06T10:45:59.306Z"
   },
   {
    "duration": 17,
    "start_time": "2022-05-06T10:48:16.376Z"
   },
   {
    "duration": 41,
    "start_time": "2022-05-06T11:17:21.686Z"
   },
   {
    "duration": 14,
    "start_time": "2022-05-06T11:17:26.369Z"
   },
   {
    "duration": 10,
    "start_time": "2022-05-06T11:17:37.163Z"
   },
   {
    "duration": 13,
    "start_time": "2022-05-06T11:30:27.255Z"
   },
   {
    "duration": 20,
    "start_time": "2022-05-06T11:31:10.003Z"
   },
   {
    "duration": 14,
    "start_time": "2022-05-06T11:31:15.516Z"
   },
   {
    "duration": 22,
    "start_time": "2022-05-06T11:31:23.019Z"
   },
   {
    "duration": 23,
    "start_time": "2022-05-06T11:32:09.172Z"
   },
   {
    "duration": 17,
    "start_time": "2022-05-06T11:32:49.494Z"
   },
   {
    "duration": 12,
    "start_time": "2022-05-06T11:53:27.748Z"
   },
   {
    "duration": 21,
    "start_time": "2022-05-06T11:53:49.426Z"
   },
   {
    "duration": 12,
    "start_time": "2022-05-06T11:53:54.073Z"
   },
   {
    "duration": 11,
    "start_time": "2022-05-06T11:58:05.602Z"
   },
   {
    "duration": 7,
    "start_time": "2022-05-06T12:01:20.847Z"
   },
   {
    "duration": 17,
    "start_time": "2022-05-06T12:01:27.875Z"
   },
   {
    "duration": 11,
    "start_time": "2022-05-06T12:01:37.981Z"
   },
   {
    "duration": 12,
    "start_time": "2022-05-06T12:01:59.601Z"
   },
   {
    "duration": 14,
    "start_time": "2022-05-06T12:02:07.303Z"
   },
   {
    "duration": 1136,
    "start_time": "2022-05-06T12:02:11.692Z"
   },
   {
    "duration": 21,
    "start_time": "2022-05-06T12:02:12.830Z"
   },
   {
    "duration": 16,
    "start_time": "2022-05-06T12:02:12.855Z"
   },
   {
    "duration": 13,
    "start_time": "2022-05-06T12:02:12.874Z"
   },
   {
    "duration": 16,
    "start_time": "2022-05-06T12:02:12.889Z"
   },
   {
    "duration": 35,
    "start_time": "2022-05-06T12:02:12.907Z"
   },
   {
    "duration": 18,
    "start_time": "2022-05-06T12:02:12.944Z"
   },
   {
    "duration": 12,
    "start_time": "2022-05-06T12:34:12.496Z"
   },
   {
    "duration": 13,
    "start_time": "2022-05-06T12:34:36.440Z"
   },
   {
    "duration": 105,
    "start_time": "2022-05-06T12:34:55.152Z"
   },
   {
    "duration": 13,
    "start_time": "2022-05-06T12:35:09.383Z"
   },
   {
    "duration": 13,
    "start_time": "2022-05-06T12:35:13.920Z"
   },
   {
    "duration": 12,
    "start_time": "2022-05-06T12:35:41.588Z"
   },
   {
    "duration": 11,
    "start_time": "2022-05-06T12:35:47.217Z"
   },
   {
    "duration": 7,
    "start_time": "2022-05-06T12:36:39.725Z"
   },
   {
    "duration": 12,
    "start_time": "2022-05-06T12:36:46.573Z"
   },
   {
    "duration": 13,
    "start_time": "2022-05-06T12:37:10.882Z"
   },
   {
    "duration": 15,
    "start_time": "2022-05-06T12:37:17.750Z"
   },
   {
    "duration": 15,
    "start_time": "2022-05-06T12:37:39.168Z"
   },
   {
    "duration": 1144,
    "start_time": "2022-05-06T12:38:55.014Z"
   },
   {
    "duration": 20,
    "start_time": "2022-05-06T12:38:56.161Z"
   },
   {
    "duration": 14,
    "start_time": "2022-05-06T12:38:56.185Z"
   },
   {
    "duration": 12,
    "start_time": "2022-05-06T12:38:56.202Z"
   },
   {
    "duration": 47,
    "start_time": "2022-05-06T12:38:56.216Z"
   },
   {
    "duration": 47,
    "start_time": "2022-05-06T12:38:56.265Z"
   },
   {
    "duration": 10,
    "start_time": "2022-05-06T12:38:56.314Z"
   },
   {
    "duration": 13,
    "start_time": "2022-05-06T12:39:16.134Z"
   },
   {
    "duration": 14,
    "start_time": "2022-05-06T12:40:03.743Z"
   },
   {
    "duration": 12,
    "start_time": "2022-05-06T12:41:07.966Z"
   },
   {
    "duration": 11,
    "start_time": "2022-05-06T12:41:14.085Z"
   },
   {
    "duration": 104,
    "start_time": "2022-05-06T12:41:19.147Z"
   },
   {
    "duration": 12,
    "start_time": "2022-05-06T12:41:27.043Z"
   },
   {
    "duration": 1148,
    "start_time": "2022-05-06T12:41:57.286Z"
   },
   {
    "duration": 25,
    "start_time": "2022-05-06T12:41:58.437Z"
   },
   {
    "duration": 16,
    "start_time": "2022-05-06T12:41:58.464Z"
   },
   {
    "duration": 12,
    "start_time": "2022-05-06T12:41:58.482Z"
   },
   {
    "duration": 17,
    "start_time": "2022-05-06T12:41:58.496Z"
   },
   {
    "duration": 32,
    "start_time": "2022-05-06T12:41:58.515Z"
   },
   {
    "duration": 10,
    "start_time": "2022-05-06T12:41:58.549Z"
   },
   {
    "duration": 12,
    "start_time": "2022-05-06T12:59:27.795Z"
   },
   {
    "duration": 15,
    "start_time": "2022-05-06T13:37:39.536Z"
   },
   {
    "duration": 9,
    "start_time": "2022-05-06T13:37:42.948Z"
   },
   {
    "duration": 7,
    "start_time": "2022-05-06T13:37:50.629Z"
   },
   {
    "duration": 46,
    "start_time": "2022-05-07T06:42:56.253Z"
   },
   {
    "duration": 1246,
    "start_time": "2022-05-07T06:43:00.360Z"
   },
   {
    "duration": 19,
    "start_time": "2022-05-07T06:43:01.608Z"
   },
   {
    "duration": 22,
    "start_time": "2022-05-07T06:43:01.628Z"
   },
   {
    "duration": 11,
    "start_time": "2022-05-07T06:43:01.653Z"
   },
   {
    "duration": 15,
    "start_time": "2022-05-07T06:43:01.665Z"
   },
   {
    "duration": 31,
    "start_time": "2022-05-07T06:43:01.682Z"
   },
   {
    "duration": 9,
    "start_time": "2022-05-07T06:43:01.715Z"
   },
   {
    "duration": 9,
    "start_time": "2022-05-07T06:43:01.725Z"
   },
   {
    "duration": 33,
    "start_time": "2022-05-07T07:00:14.873Z"
   },
   {
    "duration": 1050,
    "start_time": "2022-05-07T07:02:27.349Z"
   },
   {
    "duration": 34,
    "start_time": "2022-05-07T07:02:28.401Z"
   },
   {
    "duration": 67,
    "start_time": "2022-05-07T07:02:28.437Z"
   },
   {
    "duration": 8,
    "start_time": "2022-05-07T07:02:28.506Z"
   },
   {
    "duration": 14,
    "start_time": "2022-05-07T07:02:28.548Z"
   },
   {
    "duration": 11,
    "start_time": "2022-05-07T07:02:28.563Z"
   },
   {
    "duration": 11,
    "start_time": "2022-05-07T07:02:28.575Z"
   },
   {
    "duration": 8,
    "start_time": "2022-05-07T07:02:28.588Z"
   },
   {
    "duration": 7,
    "start_time": "2022-05-07T07:02:28.598Z"
   },
   {
    "duration": 40,
    "start_time": "2022-05-07T07:02:28.607Z"
   },
   {
    "duration": 3,
    "start_time": "2022-05-07T07:08:34.645Z"
   },
   {
    "duration": 409,
    "start_time": "2022-05-07T07:50:23.744Z"
   },
   {
    "duration": 345,
    "start_time": "2022-05-07T07:50:40.438Z"
   },
   {
    "duration": 13,
    "start_time": "2022-05-07T07:51:00.686Z"
   },
   {
    "duration": 319,
    "start_time": "2022-05-07T07:51:27.179Z"
   },
   {
    "duration": 1029,
    "start_time": "2022-05-07T07:51:39.963Z"
   },
   {
    "duration": 35,
    "start_time": "2022-05-07T07:51:40.994Z"
   },
   {
    "duration": 65,
    "start_time": "2022-05-07T07:51:41.030Z"
   },
   {
    "duration": 58,
    "start_time": "2022-05-07T07:51:41.097Z"
   },
   {
    "duration": 14,
    "start_time": "2022-05-07T07:51:41.156Z"
   },
   {
    "duration": 10,
    "start_time": "2022-05-07T07:51:41.171Z"
   },
   {
    "duration": 13,
    "start_time": "2022-05-07T07:51:41.183Z"
   },
   {
    "duration": 10,
    "start_time": "2022-05-07T07:51:41.197Z"
   },
   {
    "duration": 8,
    "start_time": "2022-05-07T07:51:41.208Z"
   },
   {
    "duration": 7,
    "start_time": "2022-05-07T07:51:41.249Z"
   },
   {
    "duration": 23,
    "start_time": "2022-05-07T07:52:35.686Z"
   },
   {
    "duration": 402,
    "start_time": "2022-05-07T08:08:29.179Z"
   },
   {
    "duration": 1059,
    "start_time": "2022-05-07T08:08:57.797Z"
   },
   {
    "duration": 37,
    "start_time": "2022-05-07T08:08:58.857Z"
   },
   {
    "duration": 56,
    "start_time": "2022-05-07T08:08:58.896Z"
   },
   {
    "duration": 8,
    "start_time": "2022-05-07T08:08:58.954Z"
   },
   {
    "duration": 14,
    "start_time": "2022-05-07T08:08:58.963Z"
   },
   {
    "duration": 10,
    "start_time": "2022-05-07T08:08:58.978Z"
   },
   {
    "duration": 11,
    "start_time": "2022-05-07T08:08:58.989Z"
   },
   {
    "duration": 16,
    "start_time": "2022-05-07T08:08:59.002Z"
   },
   {
    "duration": 9,
    "start_time": "2022-05-07T08:08:59.047Z"
   },
   {
    "duration": 11,
    "start_time": "2022-05-07T08:08:59.058Z"
   },
   {
    "duration": 17,
    "start_time": "2022-05-07T08:09:11.647Z"
   },
   {
    "duration": 377,
    "start_time": "2022-05-07T08:09:26.135Z"
   },
   {
    "duration": 1186,
    "start_time": "2022-05-07T08:09:46.088Z"
   },
   {
    "duration": 36,
    "start_time": "2022-05-07T08:09:47.276Z"
   },
   {
    "duration": 64,
    "start_time": "2022-05-07T08:09:47.314Z"
   },
   {
    "duration": 19,
    "start_time": "2022-05-07T08:09:47.380Z"
   },
   {
    "duration": 15,
    "start_time": "2022-05-07T08:09:47.400Z"
   },
   {
    "duration": 43,
    "start_time": "2022-05-07T08:09:47.417Z"
   },
   {
    "duration": 14,
    "start_time": "2022-05-07T08:09:47.462Z"
   },
   {
    "duration": 9,
    "start_time": "2022-05-07T08:09:47.478Z"
   },
   {
    "duration": 10,
    "start_time": "2022-05-07T08:09:47.489Z"
   },
   {
    "duration": 23,
    "start_time": "2022-05-07T08:09:47.501Z"
   },
   {
    "duration": 9,
    "start_time": "2022-05-07T08:10:24.493Z"
   },
   {
    "duration": 1037,
    "start_time": "2022-05-07T08:10:42.879Z"
   },
   {
    "duration": 34,
    "start_time": "2022-05-07T08:10:43.918Z"
   },
   {
    "duration": 61,
    "start_time": "2022-05-07T08:10:43.953Z"
   },
   {
    "duration": 38,
    "start_time": "2022-05-07T08:10:44.016Z"
   },
   {
    "duration": 19,
    "start_time": "2022-05-07T08:10:44.055Z"
   },
   {
    "duration": 11,
    "start_time": "2022-05-07T08:10:44.076Z"
   },
   {
    "duration": 11,
    "start_time": "2022-05-07T08:10:44.089Z"
   },
   {
    "duration": 12,
    "start_time": "2022-05-07T08:34:16.399Z"
   },
   {
    "duration": 10,
    "start_time": "2022-05-07T08:35:26.276Z"
   },
   {
    "duration": 10,
    "start_time": "2022-05-07T08:36:16.496Z"
   },
   {
    "duration": 10,
    "start_time": "2022-05-07T08:36:22.117Z"
   },
   {
    "duration": 5,
    "start_time": "2022-05-07T08:39:22.725Z"
   },
   {
    "duration": 9,
    "start_time": "2022-05-07T08:39:30.126Z"
   },
   {
    "duration": 8,
    "start_time": "2022-05-07T08:40:08.817Z"
   },
   {
    "duration": 6,
    "start_time": "2022-05-07T08:40:36.613Z"
   },
   {
    "duration": 9,
    "start_time": "2022-05-07T08:40:37.148Z"
   },
   {
    "duration": 106,
    "start_time": "2022-05-07T08:47:51.421Z"
   },
   {
    "duration": 21,
    "start_time": "2022-05-07T08:48:11.759Z"
   },
   {
    "duration": 10,
    "start_time": "2022-05-07T08:48:46.236Z"
   },
   {
    "duration": 11,
    "start_time": "2022-05-07T08:48:50.579Z"
   },
   {
    "duration": 148,
    "start_time": "2022-05-07T08:49:22.215Z"
   },
   {
    "duration": 12,
    "start_time": "2022-05-07T08:49:36.669Z"
   },
   {
    "duration": 117,
    "start_time": "2022-05-07T08:55:38.096Z"
   },
   {
    "duration": 1055,
    "start_time": "2022-05-07T08:56:32.658Z"
   },
   {
    "duration": 34,
    "start_time": "2022-05-07T08:56:33.715Z"
   },
   {
    "duration": 56,
    "start_time": "2022-05-07T08:56:33.751Z"
   },
   {
    "duration": 42,
    "start_time": "2022-05-07T08:56:33.809Z"
   },
   {
    "duration": 15,
    "start_time": "2022-05-07T08:56:33.853Z"
   },
   {
    "duration": 10,
    "start_time": "2022-05-07T08:56:33.869Z"
   },
   {
    "duration": 14,
    "start_time": "2022-05-07T08:56:33.881Z"
   },
   {
    "duration": 10,
    "start_time": "2022-05-07T08:56:33.897Z"
   },
   {
    "duration": 176,
    "start_time": "2022-05-07T08:56:33.908Z"
   },
   {
    "duration": 119,
    "start_time": "2022-05-07T08:56:34.086Z"
   },
   {
    "duration": 12,
    "start_time": "2022-05-07T08:56:34.206Z"
   },
   {
    "duration": 7,
    "start_time": "2022-05-07T09:00:25.412Z"
   },
   {
    "duration": 23,
    "start_time": "2022-05-07T09:00:36.099Z"
   },
   {
    "duration": 143,
    "start_time": "2022-05-07T09:00:47.095Z"
   },
   {
    "duration": 18,
    "start_time": "2022-05-07T09:00:54.907Z"
   },
   {
    "duration": 231,
    "start_time": "2022-05-07T09:02:47.921Z"
   },
   {
    "duration": 183,
    "start_time": "2022-05-07T09:20:54.950Z"
   },
   {
    "duration": 204,
    "start_time": "2022-05-07T09:22:37.941Z"
   },
   {
    "duration": 298,
    "start_time": "2022-05-07T09:23:00.779Z"
   },
   {
    "duration": 317,
    "start_time": "2022-05-07T09:24:54.892Z"
   },
   {
    "duration": 226,
    "start_time": "2022-05-07T09:25:04.408Z"
   },
   {
    "duration": 20,
    "start_time": "2022-05-07T09:25:12.368Z"
   },
   {
    "duration": 112,
    "start_time": "2022-05-07T09:25:19.663Z"
   },
   {
    "duration": 240,
    "start_time": "2022-05-07T09:25:22.468Z"
   },
   {
    "duration": 309,
    "start_time": "2022-05-07T09:25:59.725Z"
   },
   {
    "duration": 254,
    "start_time": "2022-05-07T09:26:17.271Z"
   },
   {
    "duration": 369,
    "start_time": "2022-05-07T09:27:05.833Z"
   },
   {
    "duration": 277,
    "start_time": "2022-05-07T09:27:31.540Z"
   },
   {
    "duration": 238,
    "start_time": "2022-05-07T09:28:50.420Z"
   },
   {
    "duration": 8,
    "start_time": "2022-05-07T09:44:36.382Z"
   },
   {
    "duration": 120,
    "start_time": "2022-05-07T09:45:16.265Z"
   },
   {
    "duration": 124,
    "start_time": "2022-05-07T09:45:56.127Z"
   },
   {
    "duration": 81,
    "start_time": "2022-05-07T09:46:34.060Z"
   },
   {
    "duration": 146,
    "start_time": "2022-05-07T09:48:00.481Z"
   },
   {
    "duration": 144,
    "start_time": "2022-05-07T09:48:08.025Z"
   },
   {
    "duration": 108,
    "start_time": "2022-05-07T09:49:03.964Z"
   },
   {
    "duration": 105,
    "start_time": "2022-05-07T09:49:17.263Z"
   },
   {
    "duration": 194,
    "start_time": "2022-05-07T09:49:25.590Z"
   },
   {
    "duration": 143,
    "start_time": "2022-05-07T09:49:33.348Z"
   },
   {
    "duration": 12,
    "start_time": "2022-05-07T09:50:14.389Z"
   },
   {
    "duration": 101,
    "start_time": "2022-05-07T09:51:26.871Z"
   },
   {
    "duration": 131,
    "start_time": "2022-05-07T09:51:41.410Z"
   },
   {
    "duration": 201,
    "start_time": "2022-05-07T09:51:50.168Z"
   },
   {
    "duration": 13,
    "start_time": "2022-05-07T09:52:40.007Z"
   },
   {
    "duration": 113,
    "start_time": "2022-05-07T09:53:01.892Z"
   },
   {
    "duration": 140,
    "start_time": "2022-05-07T09:53:25.811Z"
   },
   {
    "duration": 5,
    "start_time": "2022-05-07T09:57:50.088Z"
   },
   {
    "duration": 9,
    "start_time": "2022-05-07T09:57:53.703Z"
   },
   {
    "duration": 1326,
    "start_time": "2022-05-07T09:58:15.398Z"
   },
   {
    "duration": 5,
    "start_time": "2022-05-07T09:58:22.609Z"
   },
   {
    "duration": 5,
    "start_time": "2022-05-07T09:58:35.396Z"
   },
   {
    "duration": 4,
    "start_time": "2022-05-07T09:58:41.412Z"
   },
   {
    "duration": 5,
    "start_time": "2022-05-07T10:00:08.295Z"
   },
   {
    "duration": 5,
    "start_time": "2022-05-07T10:00:39.568Z"
   },
   {
    "duration": 80,
    "start_time": "2022-05-07T10:00:51.967Z"
   },
   {
    "duration": 6,
    "start_time": "2022-05-07T10:01:00.235Z"
   },
   {
    "duration": 231,
    "start_time": "2022-05-07T10:46:28.839Z"
   },
   {
    "duration": 2450,
    "start_time": "2022-05-07T20:23:07.471Z"
   },
   {
    "duration": 50,
    "start_time": "2022-05-07T20:23:09.926Z"
   },
   {
    "duration": 105,
    "start_time": "2022-05-07T20:23:09.979Z"
   },
   {
    "duration": 46,
    "start_time": "2022-05-07T20:23:10.087Z"
   },
   {
    "duration": 26,
    "start_time": "2022-05-07T20:23:10.135Z"
   },
   {
    "duration": 17,
    "start_time": "2022-05-07T20:23:10.163Z"
   },
   {
    "duration": 56,
    "start_time": "2022-05-07T20:23:10.182Z"
   },
   {
    "duration": 18,
    "start_time": "2022-05-07T20:23:10.240Z"
   },
   {
    "duration": 287,
    "start_time": "2022-05-07T20:23:10.261Z"
   },
   {
    "duration": 223,
    "start_time": "2022-05-07T20:23:10.552Z"
   },
   {
    "duration": 27,
    "start_time": "2022-05-07T20:23:10.777Z"
   },
   {
    "duration": 609,
    "start_time": "2022-05-07T20:23:10.806Z"
   },
   {
    "duration": 233,
    "start_time": "2022-05-07T20:23:11.418Z"
   },
   {
    "duration": 12,
    "start_time": "2022-05-07T20:23:11.654Z"
   },
   {
    "duration": 296,
    "start_time": "2022-05-07T20:23:11.668Z"
   },
   {
    "duration": 379,
    "start_time": "2022-05-07T20:23:28.879Z"
   },
   {
    "duration": 408,
    "start_time": "2022-05-07T20:24:16.285Z"
   },
   {
    "duration": 10,
    "start_time": "2022-05-07T20:59:18.671Z"
   },
   {
    "duration": 401,
    "start_time": "2022-05-07T20:59:42.445Z"
   },
   {
    "duration": 415,
    "start_time": "2022-05-07T21:00:01.994Z"
   },
   {
    "duration": 9,
    "start_time": "2022-05-07T21:00:07.609Z"
   },
   {
    "duration": 12,
    "start_time": "2022-05-07T21:00:57.613Z"
   },
   {
    "duration": 360,
    "start_time": "2022-05-07T21:01:44.537Z"
   },
   {
    "duration": 474,
    "start_time": "2022-05-07T21:02:19.677Z"
   },
   {
    "duration": 738,
    "start_time": "2022-05-07T21:02:40.898Z"
   },
   {
    "duration": 503,
    "start_time": "2022-05-07T21:02:46.501Z"
   },
   {
    "duration": 701,
    "start_time": "2022-05-07T21:02:56.178Z"
   },
   {
    "duration": 718,
    "start_time": "2022-05-07T21:03:06.876Z"
   },
   {
    "duration": 479,
    "start_time": "2022-05-07T21:04:12.065Z"
   },
   {
    "duration": 21,
    "start_time": "2022-05-07T21:04:40.343Z"
   },
   {
    "duration": 10,
    "start_time": "2022-05-07T21:04:54.904Z"
   },
   {
    "duration": 503,
    "start_time": "2022-05-07T21:06:13.178Z"
   },
   {
    "duration": 7,
    "start_time": "2022-05-07T21:47:42.194Z"
   },
   {
    "duration": 6,
    "start_time": "2022-05-07T21:48:11.582Z"
   },
   {
    "duration": 468,
    "start_time": "2022-05-07T21:48:32.310Z"
   },
   {
    "duration": 563,
    "start_time": "2022-05-07T21:48:54.662Z"
   },
   {
    "duration": 434,
    "start_time": "2022-05-07T21:49:09.643Z"
   },
   {
    "duration": 645,
    "start_time": "2022-05-07T21:49:26.769Z"
   },
   {
    "duration": 650,
    "start_time": "2022-05-07T21:49:39.068Z"
   },
   {
    "duration": 1208,
    "start_time": "2022-05-08T06:56:56.445Z"
   },
   {
    "duration": 36,
    "start_time": "2022-05-08T06:56:57.655Z"
   },
   {
    "duration": 61,
    "start_time": "2022-05-08T06:56:57.692Z"
   },
   {
    "duration": 42,
    "start_time": "2022-05-08T06:56:57.755Z"
   },
   {
    "duration": 21,
    "start_time": "2022-05-08T06:56:57.799Z"
   },
   {
    "duration": 11,
    "start_time": "2022-05-08T06:56:57.821Z"
   },
   {
    "duration": 15,
    "start_time": "2022-05-08T06:56:57.834Z"
   },
   {
    "duration": 7,
    "start_time": "2022-05-08T06:56:57.850Z"
   },
   {
    "duration": 183,
    "start_time": "2022-05-08T06:56:57.859Z"
   },
   {
    "duration": 124,
    "start_time": "2022-05-08T06:56:58.045Z"
   },
   {
    "duration": 27,
    "start_time": "2022-05-08T06:56:58.171Z"
   },
   {
    "duration": 333,
    "start_time": "2022-05-08T06:56:58.200Z"
   },
   {
    "duration": 150,
    "start_time": "2022-05-08T06:56:58.534Z"
   },
   {
    "duration": 10,
    "start_time": "2022-05-08T06:56:58.686Z"
   },
   {
    "duration": 236,
    "start_time": "2022-05-08T06:56:58.697Z"
   },
   {
    "duration": 7,
    "start_time": "2022-05-08T06:56:58.934Z"
   },
   {
    "duration": 412,
    "start_time": "2022-05-08T06:56:58.942Z"
   },
   {
    "duration": 5,
    "start_time": "2022-05-08T06:56:59.355Z"
   },
   {
    "duration": 9,
    "start_time": "2022-05-08T06:56:59.361Z"
   },
   {
    "duration": 286,
    "start_time": "2022-05-08T06:56:59.371Z"
   },
   {
    "duration": 8,
    "start_time": "2022-05-08T06:59:25.150Z"
   },
   {
    "duration": 531,
    "start_time": "2022-05-08T07:01:52.903Z"
   },
   {
    "duration": 286,
    "start_time": "2022-05-08T07:02:11.093Z"
   },
   {
    "duration": 221,
    "start_time": "2022-05-08T07:05:09.837Z"
   },
   {
    "duration": 248,
    "start_time": "2022-05-08T07:05:14.409Z"
   },
   {
    "duration": 316,
    "start_time": "2022-05-08T07:05:24.753Z"
   },
   {
    "duration": 271,
    "start_time": "2022-05-08T07:06:42.780Z"
   },
   {
    "duration": 309,
    "start_time": "2022-05-08T07:07:19.615Z"
   },
   {
    "duration": 336,
    "start_time": "2022-05-08T07:09:43.249Z"
   },
   {
    "duration": 333,
    "start_time": "2022-05-08T07:14:32.091Z"
   },
   {
    "duration": 308,
    "start_time": "2022-05-08T07:15:07.258Z"
   },
   {
    "duration": 9,
    "start_time": "2022-05-08T08:21:08.362Z"
   },
   {
    "duration": 13,
    "start_time": "2022-05-08T08:21:24.834Z"
   },
   {
    "duration": 13,
    "start_time": "2022-05-08T08:21:29.841Z"
   },
   {
    "duration": 15,
    "start_time": "2022-05-08T08:22:15.702Z"
   },
   {
    "duration": 11,
    "start_time": "2022-05-08T08:22:29.962Z"
   },
   {
    "duration": 8,
    "start_time": "2022-05-08T08:22:43.199Z"
   },
   {
    "duration": 13,
    "start_time": "2022-05-08T08:23:35.611Z"
   },
   {
    "duration": 12,
    "start_time": "2022-05-08T08:23:58.868Z"
   },
   {
    "duration": 6,
    "start_time": "2022-05-08T08:26:01.812Z"
   },
   {
    "duration": 102,
    "start_time": "2022-05-08T08:27:11.424Z"
   },
   {
    "duration": 114,
    "start_time": "2022-05-08T08:27:31.043Z"
   },
   {
    "duration": 121,
    "start_time": "2022-05-08T08:27:58.675Z"
   },
   {
    "duration": 115,
    "start_time": "2022-05-08T08:28:39.150Z"
   },
   {
    "duration": 120,
    "start_time": "2022-05-08T08:28:43.565Z"
   },
   {
    "duration": 130,
    "start_time": "2022-05-08T08:28:53.872Z"
   },
   {
    "duration": 135,
    "start_time": "2022-05-08T08:29:22.560Z"
   },
   {
    "duration": 201,
    "start_time": "2022-05-08T08:29:28.137Z"
   },
   {
    "duration": 6,
    "start_time": "2022-05-08T08:38:35.249Z"
   },
   {
    "duration": 6,
    "start_time": "2022-05-08T08:41:01.919Z"
   },
   {
    "duration": 5,
    "start_time": "2022-05-08T08:41:19.122Z"
   },
   {
    "duration": 5,
    "start_time": "2022-05-08T08:41:29.781Z"
   },
   {
    "duration": 5,
    "start_time": "2022-05-08T08:41:41.911Z"
   },
   {
    "duration": 135,
    "start_time": "2022-05-08T08:59:33.117Z"
   },
   {
    "duration": 13,
    "start_time": "2022-05-08T09:07:27.159Z"
   },
   {
    "duration": 9,
    "start_time": "2022-05-08T09:07:33.251Z"
   },
   {
    "duration": 111,
    "start_time": "2022-05-08T09:07:38.656Z"
   },
   {
    "duration": 123,
    "start_time": "2022-05-08T09:07:55.363Z"
   },
   {
    "duration": 136,
    "start_time": "2022-05-08T09:08:03.960Z"
   },
   {
    "duration": 141,
    "start_time": "2022-05-08T09:08:20.484Z"
   },
   {
    "duration": 135,
    "start_time": "2022-05-08T09:08:33.420Z"
   },
   {
    "duration": 6,
    "start_time": "2022-05-08T09:10:26.843Z"
   },
   {
    "duration": 6,
    "start_time": "2022-05-08T09:10:58.005Z"
   },
   {
    "duration": 6,
    "start_time": "2022-05-08T09:33:44.567Z"
   },
   {
    "duration": 5,
    "start_time": "2022-05-08T09:34:25.511Z"
   },
   {
    "duration": 49,
    "start_time": "2022-05-08T09:37:06.771Z"
   },
   {
    "duration": 106,
    "start_time": "2022-05-08T09:37:29.393Z"
   },
   {
    "duration": 114,
    "start_time": "2022-05-08T09:38:16.292Z"
   },
   {
    "duration": 108,
    "start_time": "2022-05-08T09:38:48.357Z"
   },
   {
    "duration": 13,
    "start_time": "2022-05-08T09:39:03.341Z"
   },
   {
    "duration": 206,
    "start_time": "2022-05-08T09:40:38.101Z"
   },
   {
    "duration": 12,
    "start_time": "2022-05-08T09:44:59.982Z"
   },
   {
    "duration": 8,
    "start_time": "2022-05-08T09:45:11.742Z"
   },
   {
    "duration": 333,
    "start_time": "2022-05-08T10:40:35.597Z"
   },
   {
    "duration": 13,
    "start_time": "2022-05-08T10:42:33.571Z"
   },
   {
    "duration": 14,
    "start_time": "2022-05-08T10:42:54.836Z"
   },
   {
    "duration": 19,
    "start_time": "2022-05-08T10:45:53.376Z"
   },
   {
    "duration": 10,
    "start_time": "2022-05-08T10:48:38.664Z"
   },
   {
    "duration": 213,
    "start_time": "2022-05-08T10:49:27.506Z"
   },
   {
    "duration": 11,
    "start_time": "2022-05-08T10:59:11.167Z"
   },
   {
    "duration": 15,
    "start_time": "2022-05-08T10:59:47.049Z"
   },
   {
    "duration": 142,
    "start_time": "2022-05-08T11:00:30.576Z"
   },
   {
    "duration": 307,
    "start_time": "2022-05-08T11:02:12.436Z"
   },
   {
    "duration": 9,
    "start_time": "2022-05-08T11:02:14.246Z"
   },
   {
    "duration": 11,
    "start_time": "2022-05-08T11:03:14.320Z"
   },
   {
    "duration": 10,
    "start_time": "2022-05-08T11:03:29.686Z"
   },
   {
    "duration": 14,
    "start_time": "2022-05-08T11:03:30.198Z"
   },
   {
    "duration": 6,
    "start_time": "2022-05-08T11:03:39.773Z"
   },
   {
    "duration": 6,
    "start_time": "2022-05-08T11:03:40.943Z"
   },
   {
    "duration": 6,
    "start_time": "2022-05-08T11:07:05.597Z"
   },
   {
    "duration": 13,
    "start_time": "2022-05-08T11:08:47.676Z"
   },
   {
    "duration": 8,
    "start_time": "2022-05-08T11:08:52.256Z"
   },
   {
    "duration": 7,
    "start_time": "2022-05-08T11:11:13.374Z"
   },
   {
    "duration": 25,
    "start_time": "2022-05-08T11:19:31.933Z"
   },
   {
    "duration": 4,
    "start_time": "2022-05-08T11:21:56.803Z"
   },
   {
    "duration": 22,
    "start_time": "2022-05-08T11:21:59.422Z"
   },
   {
    "duration": 24,
    "start_time": "2022-05-08T11:23:08.157Z"
   },
   {
    "duration": 143,
    "start_time": "2022-05-08T11:23:39.983Z"
   },
   {
    "duration": 110,
    "start_time": "2022-05-08T11:23:42.832Z"
   },
   {
    "duration": 23,
    "start_time": "2022-05-08T11:23:47.592Z"
   },
   {
    "duration": 26,
    "start_time": "2022-05-08T11:33:53.358Z"
   },
   {
    "duration": 25,
    "start_time": "2022-05-08T11:37:25.831Z"
   },
   {
    "duration": 35,
    "start_time": "2022-05-08T11:38:40.612Z"
   },
   {
    "duration": 38,
    "start_time": "2022-05-08T11:41:21.302Z"
   },
   {
    "duration": 48,
    "start_time": "2022-05-08T11:42:17.642Z"
   },
   {
    "duration": 48,
    "start_time": "2022-05-08T11:54:05.208Z"
   },
   {
    "duration": 1234,
    "start_time": "2022-05-08T11:54:29.320Z"
   },
   {
    "duration": 38,
    "start_time": "2022-05-08T11:54:30.556Z"
   },
   {
    "duration": 102,
    "start_time": "2022-05-08T11:54:30.596Z"
   },
   {
    "duration": 10,
    "start_time": "2022-05-08T11:54:30.700Z"
   },
   {
    "duration": 27,
    "start_time": "2022-05-08T11:54:30.712Z"
   },
   {
    "duration": 16,
    "start_time": "2022-05-08T11:54:30.741Z"
   },
   {
    "duration": 43,
    "start_time": "2022-05-08T11:54:30.759Z"
   },
   {
    "duration": 18,
    "start_time": "2022-05-08T11:54:30.804Z"
   },
   {
    "duration": 209,
    "start_time": "2022-05-08T11:54:30.824Z"
   },
   {
    "duration": 143,
    "start_time": "2022-05-08T11:54:31.036Z"
   },
   {
    "duration": 36,
    "start_time": "2022-05-08T11:54:31.181Z"
   },
   {
    "duration": 387,
    "start_time": "2022-05-08T11:54:31.219Z"
   },
   {
    "duration": 164,
    "start_time": "2022-05-08T11:54:31.608Z"
   },
   {
    "duration": 7,
    "start_time": "2022-05-08T11:54:31.774Z"
   },
   {
    "duration": 293,
    "start_time": "2022-05-08T11:54:31.793Z"
   },
   {
    "duration": 13,
    "start_time": "2022-05-08T11:54:32.088Z"
   },
   {
    "duration": 370,
    "start_time": "2022-05-08T11:54:32.103Z"
   },
   {
    "duration": 5,
    "start_time": "2022-05-08T11:54:32.475Z"
   },
   {
    "duration": 22,
    "start_time": "2022-05-08T11:54:32.482Z"
   },
   {
    "duration": 347,
    "start_time": "2022-05-08T11:54:32.506Z"
   },
   {
    "duration": 12,
    "start_time": "2022-05-08T11:54:32.856Z"
   },
   {
    "duration": 509,
    "start_time": "2022-05-08T11:54:32.870Z"
   },
   {
    "duration": 11,
    "start_time": "2022-05-08T11:54:33.392Z"
   },
   {
    "duration": 239,
    "start_time": "2022-05-08T11:54:33.406Z"
   },
   {
    "duration": 10,
    "start_time": "2022-05-08T11:54:33.648Z"
   },
   {
    "duration": 285,
    "start_time": "2022-05-08T11:54:33.660Z"
   },
   {
    "duration": 10,
    "start_time": "2022-05-08T11:54:33.947Z"
   },
   {
    "duration": 305,
    "start_time": "2022-05-08T11:54:33.962Z"
   },
   {
    "duration": 156,
    "start_time": "2022-05-08T11:54:34.269Z"
   },
   {
    "duration": 8,
    "start_time": "2022-05-08T11:54:34.427Z"
   },
   {
    "duration": 125,
    "start_time": "2022-05-08T11:54:34.437Z"
   },
   {
    "duration": 32,
    "start_time": "2022-05-08T11:54:36.982Z"
   },
   {
    "duration": 1653,
    "start_time": "2022-05-08T11:55:08.029Z"
   },
   {
    "duration": 47,
    "start_time": "2022-05-08T11:55:09.685Z"
   },
   {
    "duration": 86,
    "start_time": "2022-05-08T11:55:09.734Z"
   },
   {
    "duration": 13,
    "start_time": "2022-05-08T11:55:09.823Z"
   },
   {
    "duration": 56,
    "start_time": "2022-05-08T11:55:09.839Z"
   },
   {
    "duration": 19,
    "start_time": "2022-05-08T11:55:09.898Z"
   },
   {
    "duration": 34,
    "start_time": "2022-05-08T11:55:09.919Z"
   },
   {
    "duration": 10,
    "start_time": "2022-05-08T11:55:09.955Z"
   },
   {
    "duration": 294,
    "start_time": "2022-05-08T11:55:09.967Z"
   },
   {
    "duration": 238,
    "start_time": "2022-05-08T11:55:10.264Z"
   },
   {
    "duration": 21,
    "start_time": "2022-05-08T11:55:10.505Z"
   },
   {
    "duration": 376,
    "start_time": "2022-05-08T11:55:10.528Z"
   },
   {
    "duration": 155,
    "start_time": "2022-05-08T11:55:10.908Z"
   },
   {
    "duration": 8,
    "start_time": "2022-05-08T11:55:11.066Z"
   },
   {
    "duration": 264,
    "start_time": "2022-05-08T11:55:11.095Z"
   },
   {
    "duration": 8,
    "start_time": "2022-05-08T11:55:11.362Z"
   },
   {
    "duration": 408,
    "start_time": "2022-05-08T11:55:11.372Z"
   },
   {
    "duration": 11,
    "start_time": "2022-05-08T11:55:11.783Z"
   },
   {
    "duration": 7,
    "start_time": "2022-05-08T11:55:11.797Z"
   },
   {
    "duration": 483,
    "start_time": "2022-05-08T11:55:11.806Z"
   },
   {
    "duration": 15,
    "start_time": "2022-05-08T11:55:12.292Z"
   },
   {
    "duration": 462,
    "start_time": "2022-05-08T11:55:12.311Z"
   },
   {
    "duration": 20,
    "start_time": "2022-05-08T11:55:12.776Z"
   },
   {
    "duration": 251,
    "start_time": "2022-05-08T11:55:12.799Z"
   },
   {
    "duration": 7,
    "start_time": "2022-05-08T11:55:13.053Z"
   },
   {
    "duration": 182,
    "start_time": "2022-05-08T11:55:13.062Z"
   },
   {
    "duration": 9,
    "start_time": "2022-05-08T11:55:13.246Z"
   },
   {
    "duration": 439,
    "start_time": "2022-05-08T11:55:13.261Z"
   },
   {
    "duration": 299,
    "start_time": "2022-05-08T11:55:13.702Z"
   },
   {
    "duration": 10,
    "start_time": "2022-05-08T11:55:14.004Z"
   },
   {
    "duration": 221,
    "start_time": "2022-05-08T11:55:14.017Z"
   },
   {
    "duration": 33,
    "start_time": "2022-05-08T11:55:34.620Z"
   },
   {
    "duration": 34,
    "start_time": "2022-05-08T11:58:06.804Z"
   },
   {
    "duration": 45,
    "start_time": "2022-05-08T11:58:13.313Z"
   },
   {
    "duration": 130,
    "start_time": "2022-05-08T11:58:19.565Z"
   },
   {
    "duration": 33,
    "start_time": "2022-05-08T11:58:25.270Z"
   },
   {
    "duration": 32,
    "start_time": "2022-05-08T11:58:37.728Z"
   },
   {
    "duration": 26,
    "start_time": "2022-05-08T11:58:45.165Z"
   },
   {
    "duration": 113,
    "start_time": "2022-05-08T12:00:39.490Z"
   },
   {
    "duration": 128,
    "start_time": "2022-05-08T12:00:46.625Z"
   },
   {
    "duration": 120,
    "start_time": "2022-05-08T12:02:49.660Z"
   },
   {
    "duration": 14,
    "start_time": "2022-05-08T12:03:09.605Z"
   },
   {
    "duration": 30,
    "start_time": "2022-05-08T12:03:18.833Z"
   },
   {
    "duration": 42,
    "start_time": "2022-05-08T12:04:46.522Z"
   },
   {
    "duration": 23,
    "start_time": "2022-05-08T12:05:25.629Z"
   },
   {
    "duration": 26,
    "start_time": "2022-05-08T12:05:35.638Z"
   },
   {
    "duration": 37,
    "start_time": "2022-05-08T12:05:45.349Z"
   },
   {
    "duration": 43,
    "start_time": "2022-05-08T12:06:55.199Z"
   },
   {
    "duration": 36,
    "start_time": "2022-05-08T12:07:01.867Z"
   },
   {
    "duration": 38,
    "start_time": "2022-05-08T12:07:22.285Z"
   },
   {
    "duration": 37,
    "start_time": "2022-05-08T12:07:42.032Z"
   },
   {
    "duration": 25,
    "start_time": "2022-05-08T12:14:45.910Z"
   },
   {
    "duration": 16,
    "start_time": "2022-05-08T12:16:53.999Z"
   },
   {
    "duration": 14,
    "start_time": "2022-05-08T12:17:28.156Z"
   },
   {
    "duration": 14,
    "start_time": "2022-05-08T12:17:34.525Z"
   },
   {
    "duration": 13,
    "start_time": "2022-05-08T12:17:40.626Z"
   },
   {
    "duration": 14,
    "start_time": "2022-05-08T12:17:53.152Z"
   },
   {
    "duration": 2011,
    "start_time": "2022-05-08T13:29:09.837Z"
   },
   {
    "duration": 1765,
    "start_time": "2022-05-08T13:29:35.690Z"
   },
   {
    "duration": 1908,
    "start_time": "2022-05-08T13:30:06.360Z"
   },
   {
    "duration": 1096,
    "start_time": "2022-05-08T13:30:12.030Z"
   },
   {
    "duration": 35,
    "start_time": "2022-05-08T13:30:13.128Z"
   },
   {
    "duration": 55,
    "start_time": "2022-05-08T13:30:13.167Z"
   },
   {
    "duration": 8,
    "start_time": "2022-05-08T13:30:13.223Z"
   },
   {
    "duration": 16,
    "start_time": "2022-05-08T13:30:13.233Z"
   },
   {
    "duration": 10,
    "start_time": "2022-05-08T13:30:13.251Z"
   },
   {
    "duration": 37,
    "start_time": "2022-05-08T13:30:13.262Z"
   },
   {
    "duration": 8,
    "start_time": "2022-05-08T13:30:13.301Z"
   },
   {
    "duration": 181,
    "start_time": "2022-05-08T13:30:13.311Z"
   },
   {
    "duration": 124,
    "start_time": "2022-05-08T13:30:13.494Z"
   },
   {
    "duration": 12,
    "start_time": "2022-05-08T13:30:13.620Z"
   },
   {
    "duration": 324,
    "start_time": "2022-05-08T13:30:13.633Z"
   },
   {
    "duration": 139,
    "start_time": "2022-05-08T13:30:13.959Z"
   },
   {
    "duration": 5,
    "start_time": "2022-05-08T13:30:14.100Z"
   },
   {
    "duration": 235,
    "start_time": "2022-05-08T13:30:14.106Z"
   },
   {
    "duration": 6,
    "start_time": "2022-05-08T13:30:14.342Z"
   },
   {
    "duration": 322,
    "start_time": "2022-05-08T13:30:14.350Z"
   },
   {
    "duration": 3,
    "start_time": "2022-05-08T13:30:14.674Z"
   },
   {
    "duration": 14,
    "start_time": "2022-05-08T13:30:14.679Z"
   },
   {
    "duration": 255,
    "start_time": "2022-05-08T13:30:14.694Z"
   },
   {
    "duration": 8,
    "start_time": "2022-05-08T13:30:14.951Z"
   },
   {
    "duration": 339,
    "start_time": "2022-05-08T13:30:14.960Z"
   },
   {
    "duration": 7,
    "start_time": "2022-05-08T13:30:15.301Z"
   },
   {
    "duration": 140,
    "start_time": "2022-05-08T13:30:15.309Z"
   },
   {
    "duration": 6,
    "start_time": "2022-05-08T13:30:15.450Z"
   },
   {
    "duration": 147,
    "start_time": "2022-05-08T13:30:15.457Z"
   },
   {
    "duration": 5,
    "start_time": "2022-05-08T13:30:15.607Z"
   },
   {
    "duration": 232,
    "start_time": "2022-05-08T13:30:15.614Z"
   },
   {
    "duration": 130,
    "start_time": "2022-05-08T13:30:15.848Z"
   },
   {
    "duration": 15,
    "start_time": "2022-05-08T13:30:15.980Z"
   },
   {
    "duration": 29,
    "start_time": "2022-05-08T13:30:15.997Z"
   },
   {
    "duration": 11,
    "start_time": "2022-05-08T13:30:16.028Z"
   },
   {
    "duration": 1762,
    "start_time": "2022-05-08T13:30:16.041Z"
   },
   {
    "duration": 7,
    "start_time": "2022-05-08T13:31:39.458Z"
   },
   {
    "duration": 9,
    "start_time": "2022-05-08T13:34:44.889Z"
   },
   {
    "duration": 9,
    "start_time": "2022-05-08T13:36:07.400Z"
   },
   {
    "duration": 29,
    "start_time": "2022-05-08T13:37:43.510Z"
   },
   {
    "duration": 6,
    "start_time": "2022-05-08T13:46:34.510Z"
   },
   {
    "duration": 9,
    "start_time": "2022-05-08T13:46:40.830Z"
   },
   {
    "duration": 14,
    "start_time": "2022-05-08T13:47:15.702Z"
   },
   {
    "duration": 7,
    "start_time": "2022-05-08T13:47:24.105Z"
   },
   {
    "duration": 10,
    "start_time": "2022-05-08T13:47:29.369Z"
   },
   {
    "duration": 12,
    "start_time": "2022-05-08T13:47:31.584Z"
   },
   {
    "duration": 5,
    "start_time": "2022-05-08T13:47:34.742Z"
   },
   {
    "duration": 6,
    "start_time": "2022-05-08T13:48:02.845Z"
   },
   {
    "duration": 8,
    "start_time": "2022-05-08T13:50:34.398Z"
   },
   {
    "duration": 24,
    "start_time": "2022-05-08T13:50:37.277Z"
   },
   {
    "duration": 7,
    "start_time": "2022-05-08T13:50:45.787Z"
   },
   {
    "duration": 6,
    "start_time": "2022-05-08T13:51:32.569Z"
   },
   {
    "duration": 10,
    "start_time": "2022-05-08T13:51:49.174Z"
   },
   {
    "duration": 5,
    "start_time": "2022-05-08T13:51:55.204Z"
   },
   {
    "duration": 1129,
    "start_time": "2022-05-08T13:52:56.509Z"
   },
   {
    "duration": 64,
    "start_time": "2022-05-08T13:52:57.641Z"
   },
   {
    "duration": 91,
    "start_time": "2022-05-08T13:52:57.707Z"
   },
   {
    "duration": 9,
    "start_time": "2022-05-08T13:52:57.801Z"
   },
   {
    "duration": 20,
    "start_time": "2022-05-08T13:52:57.812Z"
   },
   {
    "duration": 12,
    "start_time": "2022-05-08T13:52:57.834Z"
   },
   {
    "duration": 12,
    "start_time": "2022-05-08T13:52:57.848Z"
   },
   {
    "duration": 7,
    "start_time": "2022-05-08T13:52:57.894Z"
   },
   {
    "duration": 172,
    "start_time": "2022-05-08T13:52:57.903Z"
   },
   {
    "duration": 135,
    "start_time": "2022-05-08T13:52:58.078Z"
   },
   {
    "duration": 13,
    "start_time": "2022-05-08T13:52:58.214Z"
   },
   {
    "duration": 342,
    "start_time": "2022-05-08T13:52:58.229Z"
   },
   {
    "duration": 148,
    "start_time": "2022-05-08T13:52:58.573Z"
   },
   {
    "duration": 6,
    "start_time": "2022-05-08T13:52:58.723Z"
   },
   {
    "duration": 235,
    "start_time": "2022-05-08T13:52:58.730Z"
   },
   {
    "duration": 6,
    "start_time": "2022-05-08T13:52:58.967Z"
   },
   {
    "duration": 370,
    "start_time": "2022-05-08T13:52:58.975Z"
   },
   {
    "duration": 4,
    "start_time": "2022-05-08T13:52:59.348Z"
   },
   {
    "duration": 8,
    "start_time": "2022-05-08T13:52:59.353Z"
   },
   {
    "duration": 275,
    "start_time": "2022-05-08T13:52:59.362Z"
   },
   {
    "duration": 9,
    "start_time": "2022-05-08T13:52:59.639Z"
   },
   {
    "duration": 338,
    "start_time": "2022-05-08T13:52:59.649Z"
   },
   {
    "duration": 7,
    "start_time": "2022-05-08T13:52:59.992Z"
   },
   {
    "duration": 147,
    "start_time": "2022-05-08T13:53:00.001Z"
   },
   {
    "duration": 8,
    "start_time": "2022-05-08T13:53:00.150Z"
   },
   {
    "duration": 161,
    "start_time": "2022-05-08T13:53:00.161Z"
   },
   {
    "duration": 7,
    "start_time": "2022-05-08T13:53:00.325Z"
   },
   {
    "duration": 238,
    "start_time": "2022-05-08T13:53:00.337Z"
   },
   {
    "duration": 150,
    "start_time": "2022-05-08T13:53:00.577Z"
   },
   {
    "duration": 8,
    "start_time": "2022-05-08T13:53:00.729Z"
   },
   {
    "duration": 56,
    "start_time": "2022-05-08T13:53:00.740Z"
   },
   {
    "duration": 12,
    "start_time": "2022-05-08T13:53:00.798Z"
   },
   {
    "duration": 9,
    "start_time": "2022-05-08T13:53:00.812Z"
   },
   {
    "duration": 107,
    "start_time": "2022-05-08T13:53:00.823Z"
   },
   {
    "duration": 0,
    "start_time": "2022-05-08T13:53:00.932Z"
   },
   {
    "duration": 0,
    "start_time": "2022-05-08T13:53:00.933Z"
   },
   {
    "duration": 0,
    "start_time": "2022-05-08T13:53:00.934Z"
   },
   {
    "duration": 0,
    "start_time": "2022-05-08T13:53:00.935Z"
   },
   {
    "duration": 9,
    "start_time": "2022-05-08T13:54:02.617Z"
   },
   {
    "duration": 8,
    "start_time": "2022-05-08T13:54:03.334Z"
   },
   {
    "duration": 43,
    "start_time": "2022-05-08T13:54:26.842Z"
   },
   {
    "duration": 120,
    "start_time": "2022-05-08T13:55:27.673Z"
   },
   {
    "duration": 9,
    "start_time": "2022-05-08T13:55:53.612Z"
   },
   {
    "duration": 11,
    "start_time": "2022-05-08T13:55:59.660Z"
   },
   {
    "duration": 116,
    "start_time": "2022-05-08T13:56:11.793Z"
   },
   {
    "duration": 15,
    "start_time": "2022-05-08T13:56:16.494Z"
   },
   {
    "duration": 10,
    "start_time": "2022-05-08T13:56:41.352Z"
   },
   {
    "duration": 9,
    "start_time": "2022-05-08T13:56:56.507Z"
   },
   {
    "duration": 10,
    "start_time": "2022-05-08T13:57:38.242Z"
   },
   {
    "duration": 1848,
    "start_time": "2022-05-08T13:59:15.759Z"
   },
   {
    "duration": 25,
    "start_time": "2022-05-08T14:00:04.034Z"
   },
   {
    "duration": 1825,
    "start_time": "2022-05-08T14:00:29.318Z"
   },
   {
    "duration": 20,
    "start_time": "2022-05-08T14:00:59.760Z"
   },
   {
    "duration": 1493,
    "start_time": "2022-05-08T14:01:05.163Z"
   },
   {
    "duration": 36,
    "start_time": "2022-05-08T14:01:06.659Z"
   },
   {
    "duration": 59,
    "start_time": "2022-05-08T14:01:06.696Z"
   },
   {
    "duration": 8,
    "start_time": "2022-05-08T14:01:06.793Z"
   },
   {
    "duration": 29,
    "start_time": "2022-05-08T14:01:06.803Z"
   },
   {
    "duration": 13,
    "start_time": "2022-05-08T14:01:06.834Z"
   },
   {
    "duration": 14,
    "start_time": "2022-05-08T14:01:06.849Z"
   },
   {
    "duration": 11,
    "start_time": "2022-05-08T14:01:06.864Z"
   },
   {
    "duration": 189,
    "start_time": "2022-05-08T14:01:06.876Z"
   },
   {
    "duration": 141,
    "start_time": "2022-05-08T14:01:07.068Z"
   },
   {
    "duration": 21,
    "start_time": "2022-05-08T14:01:07.211Z"
   },
   {
    "duration": 316,
    "start_time": "2022-05-08T14:01:07.234Z"
   },
   {
    "duration": 148,
    "start_time": "2022-05-08T14:01:07.552Z"
   },
   {
    "duration": 6,
    "start_time": "2022-05-08T14:01:07.701Z"
   },
   {
    "duration": 239,
    "start_time": "2022-05-08T14:01:07.708Z"
   },
   {
    "duration": 7,
    "start_time": "2022-05-08T14:01:07.948Z"
   },
   {
    "duration": 365,
    "start_time": "2022-05-08T14:01:07.956Z"
   },
   {
    "duration": 5,
    "start_time": "2022-05-08T14:01:08.322Z"
   },
   {
    "duration": 7,
    "start_time": "2022-05-08T14:01:08.328Z"
   },
   {
    "duration": 284,
    "start_time": "2022-05-08T14:01:08.337Z"
   },
   {
    "duration": 8,
    "start_time": "2022-05-08T14:01:08.623Z"
   },
   {
    "duration": 306,
    "start_time": "2022-05-08T14:01:08.632Z"
   },
   {
    "duration": 9,
    "start_time": "2022-05-08T14:01:08.941Z"
   },
   {
    "duration": 208,
    "start_time": "2022-05-08T14:01:08.953Z"
   },
   {
    "duration": 7,
    "start_time": "2022-05-08T14:01:09.163Z"
   },
   {
    "duration": 223,
    "start_time": "2022-05-08T14:01:09.172Z"
   },
   {
    "duration": 7,
    "start_time": "2022-05-08T14:01:09.397Z"
   },
   {
    "duration": 415,
    "start_time": "2022-05-08T14:01:09.408Z"
   },
   {
    "duration": 154,
    "start_time": "2022-05-08T14:01:09.825Z"
   },
   {
    "duration": 16,
    "start_time": "2022-05-08T14:01:09.981Z"
   },
   {
    "duration": 61,
    "start_time": "2022-05-08T14:01:09.999Z"
   },
   {
    "duration": 14,
    "start_time": "2022-05-08T14:01:10.062Z"
   },
   {
    "duration": 45,
    "start_time": "2022-05-08T14:01:10.077Z"
   },
   {
    "duration": 19,
    "start_time": "2022-05-08T14:01:10.124Z"
   },
   {
    "duration": 71,
    "start_time": "2022-05-08T14:01:10.144Z"
   },
   {
    "duration": 22,
    "start_time": "2022-05-08T14:01:10.217Z"
   },
   {
    "duration": 106,
    "start_time": "2022-05-08T14:04:05.258Z"
   },
   {
    "duration": 16,
    "start_time": "2022-05-08T14:04:21.646Z"
   },
   {
    "duration": 9,
    "start_time": "2022-05-08T14:05:17.213Z"
   },
   {
    "duration": 1154,
    "start_time": "2022-05-08T14:05:23.096Z"
   },
   {
    "duration": 34,
    "start_time": "2022-05-08T14:05:24.252Z"
   },
   {
    "duration": 64,
    "start_time": "2022-05-08T14:05:24.288Z"
   },
   {
    "duration": 43,
    "start_time": "2022-05-08T14:05:24.354Z"
   },
   {
    "duration": 38,
    "start_time": "2022-05-08T14:05:24.399Z"
   },
   {
    "duration": 12,
    "start_time": "2022-05-08T14:05:24.439Z"
   },
   {
    "duration": 13,
    "start_time": "2022-05-08T14:05:24.453Z"
   },
   {
    "duration": 19,
    "start_time": "2022-05-08T14:05:24.468Z"
   },
   {
    "duration": 183,
    "start_time": "2022-05-08T14:05:24.489Z"
   },
   {
    "duration": 135,
    "start_time": "2022-05-08T14:05:24.676Z"
   },
   {
    "duration": 11,
    "start_time": "2022-05-08T14:05:24.813Z"
   },
   {
    "duration": 324,
    "start_time": "2022-05-08T14:05:24.826Z"
   },
   {
    "duration": 146,
    "start_time": "2022-05-08T14:05:25.152Z"
   },
   {
    "duration": 6,
    "start_time": "2022-05-08T14:05:25.300Z"
   },
   {
    "duration": 248,
    "start_time": "2022-05-08T14:05:25.308Z"
   },
   {
    "duration": 7,
    "start_time": "2022-05-08T14:05:25.558Z"
   },
   {
    "duration": 358,
    "start_time": "2022-05-08T14:05:25.566Z"
   },
   {
    "duration": 4,
    "start_time": "2022-05-08T14:05:25.926Z"
   },
   {
    "duration": 9,
    "start_time": "2022-05-08T14:05:25.932Z"
   },
   {
    "duration": 286,
    "start_time": "2022-05-08T14:05:25.943Z"
   },
   {
    "duration": 8,
    "start_time": "2022-05-08T14:05:26.231Z"
   },
   {
    "duration": 322,
    "start_time": "2022-05-08T14:05:26.241Z"
   },
   {
    "duration": 8,
    "start_time": "2022-05-08T14:05:26.565Z"
   },
   {
    "duration": 145,
    "start_time": "2022-05-08T14:05:26.575Z"
   },
   {
    "duration": 5,
    "start_time": "2022-05-08T14:05:26.722Z"
   },
   {
    "duration": 165,
    "start_time": "2022-05-08T14:05:26.729Z"
   },
   {
    "duration": 5,
    "start_time": "2022-05-08T14:05:26.896Z"
   },
   {
    "duration": 238,
    "start_time": "2022-05-08T14:05:26.905Z"
   },
   {
    "duration": 160,
    "start_time": "2022-05-08T14:05:27.145Z"
   },
   {
    "duration": 7,
    "start_time": "2022-05-08T14:05:27.306Z"
   },
   {
    "duration": 24,
    "start_time": "2022-05-08T14:05:27.315Z"
   },
   {
    "duration": 12,
    "start_time": "2022-05-08T14:05:27.341Z"
   },
   {
    "duration": 37,
    "start_time": "2022-05-08T14:05:27.355Z"
   },
   {
    "duration": 11,
    "start_time": "2022-05-08T14:05:27.395Z"
   },
   {
    "duration": 25,
    "start_time": "2022-05-08T14:05:27.408Z"
   },
   {
    "duration": 15,
    "start_time": "2022-05-08T14:05:27.435Z"
   },
   {
    "duration": 15,
    "start_time": "2022-05-08T14:06:41.627Z"
   },
   {
    "duration": 17,
    "start_time": "2022-05-08T14:07:01.425Z"
   },
   {
    "duration": 21,
    "start_time": "2022-05-08T14:11:25.544Z"
   },
   {
    "duration": 1648,
    "start_time": "2022-05-08T19:50:45.833Z"
   },
   {
    "duration": 44,
    "start_time": "2022-05-08T19:50:47.484Z"
   },
   {
    "duration": 88,
    "start_time": "2022-05-08T19:50:47.530Z"
   },
   {
    "duration": 12,
    "start_time": "2022-05-08T19:50:47.653Z"
   },
   {
    "duration": 25,
    "start_time": "2022-05-08T19:50:47.668Z"
   },
   {
    "duration": 26,
    "start_time": "2022-05-08T19:50:47.695Z"
   },
   {
    "duration": 51,
    "start_time": "2022-05-08T19:50:47.723Z"
   },
   {
    "duration": 9,
    "start_time": "2022-05-08T19:50:47.777Z"
   },
   {
    "duration": 263,
    "start_time": "2022-05-08T19:50:47.789Z"
   },
   {
    "duration": 217,
    "start_time": "2022-05-08T19:50:48.055Z"
   },
   {
    "duration": 17,
    "start_time": "2022-05-08T19:50:48.274Z"
   },
   {
    "duration": 564,
    "start_time": "2022-05-08T19:50:48.293Z"
   },
   {
    "duration": 228,
    "start_time": "2022-05-08T19:50:48.859Z"
   },
   {
    "duration": 8,
    "start_time": "2022-05-08T19:50:49.091Z"
   },
   {
    "duration": 417,
    "start_time": "2022-05-08T19:50:49.101Z"
   },
   {
    "duration": 9,
    "start_time": "2022-05-08T19:50:49.520Z"
   },
   {
    "duration": 550,
    "start_time": "2022-05-08T19:50:49.532Z"
   },
   {
    "duration": 6,
    "start_time": "2022-05-08T19:50:50.084Z"
   },
   {
    "duration": 8,
    "start_time": "2022-05-08T19:50:50.093Z"
   },
   {
    "duration": 448,
    "start_time": "2022-05-08T19:50:50.104Z"
   },
   {
    "duration": 11,
    "start_time": "2022-05-08T19:50:50.555Z"
   },
   {
    "duration": 483,
    "start_time": "2022-05-08T19:50:50.569Z"
   },
   {
    "duration": 9,
    "start_time": "2022-05-08T19:50:51.054Z"
   },
   {
    "duration": 228,
    "start_time": "2022-05-08T19:50:51.065Z"
   },
   {
    "duration": 7,
    "start_time": "2022-05-08T19:50:51.296Z"
   },
   {
    "duration": 249,
    "start_time": "2022-05-08T19:50:51.305Z"
   },
   {
    "duration": 7,
    "start_time": "2022-05-08T19:50:51.556Z"
   },
   {
    "duration": 372,
    "start_time": "2022-05-08T19:50:51.566Z"
   },
   {
    "duration": 269,
    "start_time": "2022-05-08T19:50:51.941Z"
   },
   {
    "duration": 9,
    "start_time": "2022-05-08T19:50:52.213Z"
   },
   {
    "duration": 48,
    "start_time": "2022-05-08T19:50:52.224Z"
   },
   {
    "duration": 15,
    "start_time": "2022-05-08T19:50:52.274Z"
   },
   {
    "duration": 12,
    "start_time": "2022-05-08T19:50:52.292Z"
   },
   {
    "duration": 12,
    "start_time": "2022-05-08T19:50:52.306Z"
   },
   {
    "duration": 30,
    "start_time": "2022-05-08T19:50:52.353Z"
   },
   {
    "duration": 22,
    "start_time": "2022-05-08T19:50:52.386Z"
   },
   {
    "duration": 1769,
    "start_time": "2022-05-09T09:19:22.263Z"
   },
   {
    "duration": 43,
    "start_time": "2022-05-09T09:19:24.035Z"
   },
   {
    "duration": 126,
    "start_time": "2022-05-09T09:19:24.080Z"
   },
   {
    "duration": 13,
    "start_time": "2022-05-09T09:19:24.209Z"
   },
   {
    "duration": 58,
    "start_time": "2022-05-09T09:19:24.224Z"
   },
   {
    "duration": 18,
    "start_time": "2022-05-09T09:19:24.284Z"
   },
   {
    "duration": 19,
    "start_time": "2022-05-09T09:19:24.305Z"
   },
   {
    "duration": 14,
    "start_time": "2022-05-09T09:19:24.326Z"
   },
   {
    "duration": 314,
    "start_time": "2022-05-09T09:19:24.342Z"
   },
   {
    "duration": 231,
    "start_time": "2022-05-09T09:19:24.660Z"
   },
   {
    "duration": 20,
    "start_time": "2022-05-09T09:19:24.893Z"
   },
   {
    "duration": 604,
    "start_time": "2022-05-09T09:19:24.915Z"
   },
   {
    "duration": 233,
    "start_time": "2022-05-09T09:19:25.522Z"
   },
   {
    "duration": 24,
    "start_time": "2022-05-09T09:19:25.758Z"
   },
   {
    "duration": 430,
    "start_time": "2022-05-09T09:19:25.784Z"
   },
   {
    "duration": 10,
    "start_time": "2022-05-09T09:19:26.216Z"
   },
   {
    "duration": 602,
    "start_time": "2022-05-09T09:19:26.228Z"
   },
   {
    "duration": 6,
    "start_time": "2022-05-09T09:19:26.832Z"
   },
   {
    "duration": 8,
    "start_time": "2022-05-09T09:19:26.840Z"
   },
   {
    "duration": 475,
    "start_time": "2022-05-09T09:19:26.851Z"
   },
   {
    "duration": 12,
    "start_time": "2022-05-09T09:19:27.329Z"
   },
   {
    "duration": 506,
    "start_time": "2022-05-09T09:19:27.343Z"
   },
   {
    "duration": 9,
    "start_time": "2022-05-09T09:19:27.852Z"
   },
   {
    "duration": 239,
    "start_time": "2022-05-09T09:19:27.863Z"
   },
   {
    "duration": 8,
    "start_time": "2022-05-09T09:19:28.104Z"
   },
   {
    "duration": 260,
    "start_time": "2022-05-09T09:19:28.114Z"
   },
   {
    "duration": 6,
    "start_time": "2022-05-09T09:19:28.381Z"
   },
   {
    "duration": 396,
    "start_time": "2022-05-09T09:19:28.392Z"
   },
   {
    "duration": 318,
    "start_time": "2022-05-09T09:19:28.791Z"
   },
   {
    "duration": 10,
    "start_time": "2022-05-09T09:19:29.111Z"
   },
   {
    "duration": 39,
    "start_time": "2022-05-09T09:19:29.123Z"
   },
   {
    "duration": 19,
    "start_time": "2022-05-09T09:19:29.181Z"
   },
   {
    "duration": 13,
    "start_time": "2022-05-09T09:19:29.202Z"
   },
   {
    "duration": 12,
    "start_time": "2022-05-09T09:19:29.217Z"
   },
   {
    "duration": 78,
    "start_time": "2022-05-09T09:19:29.231Z"
   },
   {
    "duration": 23,
    "start_time": "2022-05-09T09:19:29.311Z"
   },
   {
    "duration": 1126,
    "start_time": "2022-05-10T17:28:59.682Z"
   },
   {
    "duration": 51,
    "start_time": "2022-05-10T17:29:00.810Z"
   },
   {
    "duration": 74,
    "start_time": "2022-05-10T17:29:00.862Z"
   },
   {
    "duration": 9,
    "start_time": "2022-05-10T17:29:00.939Z"
   },
   {
    "duration": 27,
    "start_time": "2022-05-10T17:29:00.950Z"
   },
   {
    "duration": 38,
    "start_time": "2022-05-10T17:29:00.979Z"
   },
   {
    "duration": 21,
    "start_time": "2022-05-10T17:29:01.018Z"
   },
   {
    "duration": 7,
    "start_time": "2022-05-10T17:29:01.041Z"
   },
   {
    "duration": 193,
    "start_time": "2022-05-10T17:29:01.049Z"
   },
   {
    "duration": 139,
    "start_time": "2022-05-10T17:29:01.245Z"
   },
   {
    "duration": 28,
    "start_time": "2022-05-10T17:29:01.385Z"
   },
   {
    "duration": 365,
    "start_time": "2022-05-10T17:29:01.416Z"
   },
   {
    "duration": 166,
    "start_time": "2022-05-10T17:29:01.783Z"
   },
   {
    "duration": 6,
    "start_time": "2022-05-10T17:29:01.951Z"
   },
   {
    "duration": 282,
    "start_time": "2022-05-10T17:29:01.959Z"
   },
   {
    "duration": 8,
    "start_time": "2022-05-10T17:29:02.244Z"
   },
   {
    "duration": 366,
    "start_time": "2022-05-10T17:29:02.254Z"
   },
   {
    "duration": 5,
    "start_time": "2022-05-10T17:29:02.622Z"
   },
   {
    "duration": 9,
    "start_time": "2022-05-10T17:29:02.628Z"
   },
   {
    "duration": 291,
    "start_time": "2022-05-10T17:29:02.640Z"
   },
   {
    "duration": 8,
    "start_time": "2022-05-10T17:29:02.932Z"
   },
   {
    "duration": 355,
    "start_time": "2022-05-10T17:29:02.943Z"
   },
   {
    "duration": 8,
    "start_time": "2022-05-10T17:29:03.300Z"
   },
   {
    "duration": 157,
    "start_time": "2022-05-10T17:29:03.309Z"
   },
   {
    "duration": 7,
    "start_time": "2022-05-10T17:29:03.469Z"
   },
   {
    "duration": 190,
    "start_time": "2022-05-10T17:29:03.477Z"
   },
   {
    "duration": 6,
    "start_time": "2022-05-10T17:29:03.669Z"
   },
   {
    "duration": 258,
    "start_time": "2022-05-10T17:29:03.679Z"
   },
   {
    "duration": 174,
    "start_time": "2022-05-10T17:29:03.939Z"
   },
   {
    "duration": 7,
    "start_time": "2022-05-10T17:29:04.115Z"
   },
   {
    "duration": 32,
    "start_time": "2022-05-10T17:29:04.123Z"
   },
   {
    "duration": 14,
    "start_time": "2022-05-10T17:29:04.157Z"
   },
   {
    "duration": 34,
    "start_time": "2022-05-10T17:29:04.173Z"
   },
   {
    "duration": 9,
    "start_time": "2022-05-10T17:29:04.209Z"
   },
   {
    "duration": 29,
    "start_time": "2022-05-10T17:29:04.220Z"
   },
   {
    "duration": 17,
    "start_time": "2022-05-10T17:29:04.251Z"
   },
   {
    "duration": 6,
    "start_time": "2022-05-10T17:38:45.382Z"
   },
   {
    "duration": 6,
    "start_time": "2022-05-10T17:38:52.527Z"
   },
   {
    "duration": 9,
    "start_time": "2022-05-10T17:39:07.861Z"
   },
   {
    "duration": 10,
    "start_time": "2022-05-10T17:39:54.859Z"
   },
   {
    "duration": 11,
    "start_time": "2022-05-10T17:40:54.946Z"
   },
   {
    "duration": 13,
    "start_time": "2022-05-10T17:41:02.730Z"
   },
   {
    "duration": 216,
    "start_time": "2022-05-10T17:41:54.668Z"
   },
   {
    "duration": 157,
    "start_time": "2022-05-10T17:42:03.340Z"
   },
   {
    "duration": 154,
    "start_time": "2022-05-10T17:42:04.930Z"
   },
   {
    "duration": 306,
    "start_time": "2022-05-10T17:42:41.874Z"
   },
   {
    "duration": 1290,
    "start_time": "2022-05-11T07:17:49.121Z"
   },
   {
    "duration": 5,
    "start_time": "2022-05-11T07:17:50.414Z"
   },
   {
    "duration": 40,
    "start_time": "2022-05-11T07:17:50.421Z"
   },
   {
    "duration": 94,
    "start_time": "2022-05-11T07:17:50.463Z"
   },
   {
    "duration": 9,
    "start_time": "2022-05-11T07:17:50.561Z"
   },
   {
    "duration": 20,
    "start_time": "2022-05-11T07:17:50.571Z"
   },
   {
    "duration": 11,
    "start_time": "2022-05-11T07:17:50.594Z"
   },
   {
    "duration": 14,
    "start_time": "2022-05-11T07:17:50.607Z"
   },
   {
    "duration": 34,
    "start_time": "2022-05-11T07:17:50.623Z"
   },
   {
    "duration": 167,
    "start_time": "2022-05-11T07:17:50.659Z"
   },
   {
    "duration": 118,
    "start_time": "2022-05-11T07:17:50.828Z"
   },
   {
    "duration": 18,
    "start_time": "2022-05-11T07:17:50.947Z"
   },
   {
    "duration": 323,
    "start_time": "2022-05-11T07:17:50.966Z"
   },
   {
    "duration": 135,
    "start_time": "2022-05-11T07:17:51.292Z"
   },
   {
    "duration": 5,
    "start_time": "2022-05-11T07:17:51.429Z"
   },
   {
    "duration": 238,
    "start_time": "2022-05-11T07:17:51.436Z"
   },
   {
    "duration": 6,
    "start_time": "2022-05-11T07:17:51.676Z"
   },
   {
    "duration": 353,
    "start_time": "2022-05-11T07:17:51.684Z"
   },
   {
    "duration": 4,
    "start_time": "2022-05-11T07:17:52.039Z"
   },
   {
    "duration": 11,
    "start_time": "2022-05-11T07:17:52.044Z"
   },
   {
    "duration": 251,
    "start_time": "2022-05-11T07:17:52.056Z"
   },
   {
    "duration": 8,
    "start_time": "2022-05-11T07:17:52.309Z"
   },
   {
    "duration": 321,
    "start_time": "2022-05-11T07:17:52.318Z"
   },
   {
    "duration": 13,
    "start_time": "2022-05-11T07:17:52.641Z"
   },
   {
    "duration": 142,
    "start_time": "2022-05-11T07:17:52.656Z"
   },
   {
    "duration": 6,
    "start_time": "2022-05-11T07:17:52.801Z"
   },
   {
    "duration": 147,
    "start_time": "2022-05-11T07:17:52.809Z"
   },
   {
    "duration": 6,
    "start_time": "2022-05-11T07:17:52.958Z"
   },
   {
    "duration": 223,
    "start_time": "2022-05-11T07:17:52.966Z"
   },
   {
    "duration": 136,
    "start_time": "2022-05-11T07:17:53.191Z"
   },
   {
    "duration": 8,
    "start_time": "2022-05-11T07:17:53.329Z"
   },
   {
    "duration": 36,
    "start_time": "2022-05-11T07:17:53.338Z"
   },
   {
    "duration": 13,
    "start_time": "2022-05-11T07:17:53.376Z"
   },
   {
    "duration": 23,
    "start_time": "2022-05-11T07:17:53.391Z"
   },
   {
    "duration": 9,
    "start_time": "2022-05-11T07:17:53.416Z"
   },
   {
    "duration": 51,
    "start_time": "2022-05-11T07:17:53.426Z"
   },
   {
    "duration": 16,
    "start_time": "2022-05-11T07:17:53.479Z"
   },
   {
    "duration": 1149,
    "start_time": "2022-05-11T07:20:25.858Z"
   },
   {
    "duration": 2,
    "start_time": "2022-05-11T07:20:27.009Z"
   },
   {
    "duration": 40,
    "start_time": "2022-05-11T07:20:27.013Z"
   },
   {
    "duration": 61,
    "start_time": "2022-05-11T07:20:27.055Z"
   },
   {
    "duration": 44,
    "start_time": "2022-05-11T07:20:27.117Z"
   },
   {
    "duration": 19,
    "start_time": "2022-05-11T07:20:27.163Z"
   },
   {
    "duration": 11,
    "start_time": "2022-05-11T07:20:27.184Z"
   },
   {
    "duration": 17,
    "start_time": "2022-05-11T07:20:27.196Z"
   },
   {
    "duration": 11,
    "start_time": "2022-05-11T07:20:27.215Z"
   },
   {
    "duration": 179,
    "start_time": "2022-05-11T07:20:27.228Z"
   },
   {
    "duration": 126,
    "start_time": "2022-05-11T07:20:27.409Z"
   },
   {
    "duration": 27,
    "start_time": "2022-05-11T07:20:27.537Z"
   },
   {
    "duration": 331,
    "start_time": "2022-05-11T07:20:27.565Z"
   },
   {
    "duration": 149,
    "start_time": "2022-05-11T07:20:27.898Z"
   },
   {
    "duration": 8,
    "start_time": "2022-05-11T07:20:28.049Z"
   },
   {
    "duration": 246,
    "start_time": "2022-05-11T07:20:28.058Z"
   },
   {
    "duration": 7,
    "start_time": "2022-05-11T07:20:28.305Z"
   },
   {
    "duration": 349,
    "start_time": "2022-05-11T07:20:28.313Z"
   },
   {
    "duration": 5,
    "start_time": "2022-05-11T07:20:28.664Z"
   },
   {
    "duration": 10,
    "start_time": "2022-05-11T07:20:28.671Z"
   },
   {
    "duration": 289,
    "start_time": "2022-05-11T07:20:28.682Z"
   },
   {
    "duration": 10,
    "start_time": "2022-05-11T07:20:28.973Z"
   },
   {
    "duration": 326,
    "start_time": "2022-05-11T07:20:28.984Z"
   },
   {
    "duration": 7,
    "start_time": "2022-05-11T07:20:29.312Z"
   },
   {
    "duration": 146,
    "start_time": "2022-05-11T07:20:29.320Z"
   },
   {
    "duration": 6,
    "start_time": "2022-05-11T07:20:29.467Z"
   },
   {
    "duration": 155,
    "start_time": "2022-05-11T07:20:29.475Z"
   },
   {
    "duration": 6,
    "start_time": "2022-05-11T07:20:29.634Z"
   },
   {
    "duration": 224,
    "start_time": "2022-05-11T07:20:29.642Z"
   },
   {
    "duration": 165,
    "start_time": "2022-05-11T07:20:29.868Z"
   },
   {
    "duration": 20,
    "start_time": "2022-05-11T07:20:30.035Z"
   },
   {
    "duration": 32,
    "start_time": "2022-05-11T07:20:30.057Z"
   },
   {
    "duration": 12,
    "start_time": "2022-05-11T07:20:30.091Z"
   },
   {
    "duration": 12,
    "start_time": "2022-05-11T07:20:30.105Z"
   },
   {
    "duration": 19,
    "start_time": "2022-05-11T07:20:30.118Z"
   },
   {
    "duration": 44,
    "start_time": "2022-05-11T07:20:30.139Z"
   },
   {
    "duration": 15,
    "start_time": "2022-05-11T07:20:30.185Z"
   },
   {
    "duration": 136,
    "start_time": "2022-05-11T07:22:12.322Z"
   },
   {
    "duration": 4,
    "start_time": "2022-05-11T07:23:58.384Z"
   },
   {
    "duration": 77,
    "start_time": "2022-05-11T07:25:03.430Z"
   },
   {
    "duration": 62,
    "start_time": "2022-05-11T07:25:29.268Z"
   },
   {
    "duration": 68,
    "start_time": "2022-05-11T07:26:38.606Z"
   },
   {
    "duration": 116,
    "start_time": "2022-05-11T07:27:09.629Z"
   },
   {
    "duration": 105,
    "start_time": "2022-05-11T07:27:16.955Z"
   },
   {
    "duration": 1233,
    "start_time": "2022-05-11T07:27:48.176Z"
   },
   {
    "duration": 4,
    "start_time": "2022-05-11T07:27:49.411Z"
   },
   {
    "duration": 51,
    "start_time": "2022-05-11T07:27:49.417Z"
   },
   {
    "duration": 113,
    "start_time": "2022-05-11T07:27:49.470Z"
   },
   {
    "duration": 12,
    "start_time": "2022-05-11T07:27:49.585Z"
   },
   {
    "duration": 31,
    "start_time": "2022-05-11T07:27:49.600Z"
   },
   {
    "duration": 18,
    "start_time": "2022-05-11T07:27:49.656Z"
   },
   {
    "duration": 34,
    "start_time": "2022-05-11T07:27:49.676Z"
   },
   {
    "duration": 24,
    "start_time": "2022-05-11T07:27:49.712Z"
   },
   {
    "duration": 189,
    "start_time": "2022-05-11T07:27:49.739Z"
   },
   {
    "duration": 142,
    "start_time": "2022-05-11T07:27:49.930Z"
   },
   {
    "duration": 13,
    "start_time": "2022-05-11T07:27:50.074Z"
   },
   {
    "duration": 365,
    "start_time": "2022-05-11T07:27:50.089Z"
   },
   {
    "duration": 168,
    "start_time": "2022-05-11T07:27:50.456Z"
   },
   {
    "duration": 6,
    "start_time": "2022-05-11T07:27:50.625Z"
   },
   {
    "duration": 267,
    "start_time": "2022-05-11T07:27:50.632Z"
   },
   {
    "duration": 7,
    "start_time": "2022-05-11T07:27:50.902Z"
   },
   {
    "duration": 473,
    "start_time": "2022-05-11T07:27:50.911Z"
   },
   {
    "duration": 5,
    "start_time": "2022-05-11T07:27:51.387Z"
   },
   {
    "duration": 13,
    "start_time": "2022-05-11T07:27:51.394Z"
   },
   {
    "duration": 298,
    "start_time": "2022-05-11T07:27:51.409Z"
   },
   {
    "duration": 10,
    "start_time": "2022-05-11T07:27:51.709Z"
   },
   {
    "duration": 369,
    "start_time": "2022-05-11T07:27:51.721Z"
   },
   {
    "duration": 9,
    "start_time": "2022-05-11T07:27:52.092Z"
   },
   {
    "duration": 172,
    "start_time": "2022-05-11T07:27:52.104Z"
   },
   {
    "duration": 6,
    "start_time": "2022-05-11T07:27:52.278Z"
   },
   {
    "duration": 270,
    "start_time": "2022-05-11T07:27:52.287Z"
   },
   {
    "duration": 7,
    "start_time": "2022-05-11T07:27:52.562Z"
   },
   {
    "duration": 240,
    "start_time": "2022-05-11T07:27:52.571Z"
   },
   {
    "duration": 177,
    "start_time": "2022-05-11T07:27:52.813Z"
   },
   {
    "duration": 7,
    "start_time": "2022-05-11T07:27:52.992Z"
   },
   {
    "duration": 33,
    "start_time": "2022-05-11T07:27:53.001Z"
   },
   {
    "duration": 31,
    "start_time": "2022-05-11T07:27:53.035Z"
   },
   {
    "duration": 10,
    "start_time": "2022-05-11T07:27:53.069Z"
   },
   {
    "duration": 9,
    "start_time": "2022-05-11T07:27:53.081Z"
   },
   {
    "duration": 63,
    "start_time": "2022-05-11T07:27:53.092Z"
   },
   {
    "duration": 17,
    "start_time": "2022-05-11T07:27:53.157Z"
   },
   {
    "duration": 363,
    "start_time": "2022-05-11T08:02:31.461Z"
   },
   {
    "duration": 360,
    "start_time": "2022-05-11T08:03:01.561Z"
   },
   {
    "duration": 168,
    "start_time": "2022-05-11T08:03:12.662Z"
   },
   {
    "duration": 247,
    "start_time": "2022-05-11T08:03:32.945Z"
   },
   {
    "duration": 17,
    "start_time": "2022-05-11T08:05:36.042Z"
   },
   {
    "duration": 372,
    "start_time": "2022-05-11T08:06:00.863Z"
   },
   {
    "duration": 1340,
    "start_time": "2022-05-11T08:06:35.387Z"
   },
   {
    "duration": 4,
    "start_time": "2022-05-11T08:06:36.730Z"
   },
   {
    "duration": 53,
    "start_time": "2022-05-11T08:06:36.736Z"
   },
   {
    "duration": 92,
    "start_time": "2022-05-11T08:06:36.793Z"
   },
   {
    "duration": 16,
    "start_time": "2022-05-11T08:06:36.887Z"
   },
   {
    "duration": 22,
    "start_time": "2022-05-11T08:06:36.905Z"
   },
   {
    "duration": 39,
    "start_time": "2022-05-11T08:06:36.929Z"
   },
   {
    "duration": 21,
    "start_time": "2022-05-11T08:06:36.970Z"
   },
   {
    "duration": 13,
    "start_time": "2022-05-11T08:06:36.992Z"
   },
   {
    "duration": 218,
    "start_time": "2022-05-11T08:06:37.008Z"
   },
   {
    "duration": 193,
    "start_time": "2022-05-11T08:06:37.230Z"
   },
   {
    "duration": 18,
    "start_time": "2022-05-11T08:06:37.426Z"
   },
   {
    "duration": 334,
    "start_time": "2022-05-11T08:06:37.455Z"
   },
   {
    "duration": 170,
    "start_time": "2022-05-11T08:06:37.793Z"
   },
   {
    "duration": 7,
    "start_time": "2022-05-11T08:06:37.965Z"
   },
   {
    "duration": 258,
    "start_time": "2022-05-11T08:06:37.973Z"
   },
   {
    "duration": 9,
    "start_time": "2022-05-11T08:06:38.234Z"
   },
   {
    "duration": 356,
    "start_time": "2022-05-11T08:06:38.254Z"
   },
   {
    "duration": 6,
    "start_time": "2022-05-11T08:06:38.613Z"
   },
   {
    "duration": 19,
    "start_time": "2022-05-11T08:06:38.621Z"
   },
   {
    "duration": 332,
    "start_time": "2022-05-11T08:06:38.643Z"
   },
   {
    "duration": 9,
    "start_time": "2022-05-11T08:06:38.978Z"
   },
   {
    "duration": 321,
    "start_time": "2022-05-11T08:06:38.989Z"
   },
   {
    "duration": 8,
    "start_time": "2022-05-11T08:06:39.311Z"
   },
   {
    "duration": 156,
    "start_time": "2022-05-11T08:06:39.320Z"
   },
   {
    "duration": 6,
    "start_time": "2022-05-11T08:06:39.478Z"
   },
   {
    "duration": 156,
    "start_time": "2022-05-11T08:06:39.486Z"
   },
   {
    "duration": 7,
    "start_time": "2022-05-11T08:06:39.654Z"
   },
   {
    "duration": 232,
    "start_time": "2022-05-11T08:06:39.663Z"
   },
   {
    "duration": 136,
    "start_time": "2022-05-11T08:06:39.897Z"
   },
   {
    "duration": 6,
    "start_time": "2022-05-11T08:06:40.035Z"
   },
   {
    "duration": 40,
    "start_time": "2022-05-11T08:06:40.043Z"
   },
   {
    "duration": 12,
    "start_time": "2022-05-11T08:06:40.085Z"
   },
   {
    "duration": 17,
    "start_time": "2022-05-11T08:06:40.099Z"
   },
   {
    "duration": 10,
    "start_time": "2022-05-11T08:06:40.118Z"
   },
   {
    "duration": 53,
    "start_time": "2022-05-11T08:06:40.130Z"
   },
   {
    "duration": 18,
    "start_time": "2022-05-11T08:06:40.185Z"
   },
   {
    "duration": 157,
    "start_time": "2022-05-11T08:08:19.407Z"
   },
   {
    "duration": 5,
    "start_time": "2022-05-11T08:09:32.976Z"
   },
   {
    "duration": 5,
    "start_time": "2022-05-11T08:10:34.253Z"
   },
   {
    "duration": 6,
    "start_time": "2022-05-11T08:10:38.528Z"
   },
   {
    "duration": 6,
    "start_time": "2022-05-11T08:15:59.214Z"
   },
   {
    "duration": 16,
    "start_time": "2022-05-11T08:18:52.477Z"
   },
   {
    "duration": 6,
    "start_time": "2022-05-11T08:18:57.438Z"
   },
   {
    "duration": 12,
    "start_time": "2022-05-11T08:18:58.309Z"
   },
   {
    "duration": 7,
    "start_time": "2022-05-11T08:19:50.437Z"
   },
   {
    "duration": 6,
    "start_time": "2022-05-11T08:19:55.608Z"
   },
   {
    "duration": 14,
    "start_time": "2022-05-11T08:19:56.105Z"
   },
   {
    "duration": 6,
    "start_time": "2022-05-11T08:23:08.815Z"
   },
   {
    "duration": 10,
    "start_time": "2022-05-11T08:23:10.576Z"
   },
   {
    "duration": 123,
    "start_time": "2022-05-11T08:53:09.196Z"
   },
   {
    "duration": 5,
    "start_time": "2022-05-11T08:55:57.261Z"
   },
   {
    "duration": 5,
    "start_time": "2022-05-11T08:56:30.102Z"
   },
   {
    "duration": 4,
    "start_time": "2022-05-11T08:56:36.666Z"
   },
   {
    "duration": 81,
    "start_time": "2022-05-11T08:56:49.545Z"
   },
   {
    "duration": 64,
    "start_time": "2022-05-11T08:57:19.182Z"
   },
   {
    "duration": 1295,
    "start_time": "2022-05-11T09:06:26.279Z"
   },
   {
    "duration": 4,
    "start_time": "2022-05-11T09:06:27.577Z"
   },
   {
    "duration": 54,
    "start_time": "2022-05-11T09:06:27.583Z"
   },
   {
    "duration": 80,
    "start_time": "2022-05-11T09:06:27.639Z"
   },
   {
    "duration": 21,
    "start_time": "2022-05-11T09:06:27.754Z"
   },
   {
    "duration": 33,
    "start_time": "2022-05-11T09:06:27.777Z"
   },
   {
    "duration": 14,
    "start_time": "2022-05-11T09:06:27.812Z"
   },
   {
    "duration": 22,
    "start_time": "2022-05-11T09:06:27.828Z"
   },
   {
    "duration": 17,
    "start_time": "2022-05-11T09:06:27.859Z"
   },
   {
    "duration": 237,
    "start_time": "2022-05-11T09:06:27.881Z"
   },
   {
    "duration": 179,
    "start_time": "2022-05-11T09:06:28.121Z"
   },
   {
    "duration": 16,
    "start_time": "2022-05-11T09:06:28.302Z"
   },
   {
    "duration": 400,
    "start_time": "2022-05-11T09:06:28.320Z"
   },
   {
    "duration": 235,
    "start_time": "2022-05-11T09:06:28.724Z"
   },
   {
    "duration": 10,
    "start_time": "2022-05-11T09:06:28.961Z"
   },
   {
    "duration": 303,
    "start_time": "2022-05-11T09:06:28.973Z"
   },
   {
    "duration": 10,
    "start_time": "2022-05-11T09:06:29.278Z"
   },
   {
    "duration": 495,
    "start_time": "2022-05-11T09:06:29.290Z"
   },
   {
    "duration": 7,
    "start_time": "2022-05-11T09:06:29.787Z"
   },
   {
    "duration": 25,
    "start_time": "2022-05-11T09:06:29.796Z"
   },
   {
    "duration": 410,
    "start_time": "2022-05-11T09:06:29.823Z"
   },
   {
    "duration": 30,
    "start_time": "2022-05-11T09:06:30.235Z"
   },
   {
    "duration": 351,
    "start_time": "2022-05-11T09:06:30.268Z"
   },
   {
    "duration": 8,
    "start_time": "2022-05-11T09:06:30.622Z"
   },
   {
    "duration": 177,
    "start_time": "2022-05-11T09:06:30.631Z"
   },
   {
    "duration": 7,
    "start_time": "2022-05-11T09:06:30.809Z"
   },
   {
    "duration": 183,
    "start_time": "2022-05-11T09:06:30.818Z"
   },
   {
    "duration": 6,
    "start_time": "2022-05-11T09:06:31.003Z"
   },
   {
    "duration": 317,
    "start_time": "2022-05-11T09:06:31.011Z"
   },
   {
    "duration": 203,
    "start_time": "2022-05-11T09:06:31.333Z"
   },
   {
    "duration": 19,
    "start_time": "2022-05-11T09:06:31.538Z"
   },
   {
    "duration": 48,
    "start_time": "2022-05-11T09:06:31.559Z"
   },
   {
    "duration": 37,
    "start_time": "2022-05-11T09:06:31.609Z"
   },
   {
    "duration": 19,
    "start_time": "2022-05-11T09:06:31.649Z"
   },
   {
    "duration": 77,
    "start_time": "2022-05-11T09:06:31.670Z"
   },
   {
    "duration": 25,
    "start_time": "2022-05-11T09:06:31.749Z"
   },
   {
    "duration": 69,
    "start_time": "2022-05-11T09:06:31.776Z"
   },
   {
    "duration": 22,
    "start_time": "2022-05-11T09:06:31.847Z"
   },
   {
    "duration": 1265,
    "start_time": "2022-05-12T03:45:41.086Z"
   },
   {
    "duration": 3,
    "start_time": "2022-05-12T03:45:42.354Z"
   },
   {
    "duration": 64,
    "start_time": "2022-05-12T03:45:42.358Z"
   },
   {
    "duration": 60,
    "start_time": "2022-05-12T03:45:42.423Z"
   },
   {
    "duration": 9,
    "start_time": "2022-05-12T03:45:42.485Z"
   },
   {
    "duration": 17,
    "start_time": "2022-05-12T03:45:42.495Z"
   },
   {
    "duration": 12,
    "start_time": "2022-05-12T03:45:42.514Z"
   },
   {
    "duration": 24,
    "start_time": "2022-05-12T03:45:42.528Z"
   },
   {
    "duration": 13,
    "start_time": "2022-05-12T03:45:42.554Z"
   },
   {
    "duration": 171,
    "start_time": "2022-05-12T03:45:42.568Z"
   },
   {
    "duration": 133,
    "start_time": "2022-05-12T03:45:42.741Z"
   },
   {
    "duration": 17,
    "start_time": "2022-05-12T03:45:42.875Z"
   },
   {
    "duration": 325,
    "start_time": "2022-05-12T03:45:42.893Z"
   },
   {
    "duration": 142,
    "start_time": "2022-05-12T03:45:43.221Z"
   },
   {
    "duration": 5,
    "start_time": "2022-05-12T03:45:43.365Z"
   },
   {
    "duration": 258,
    "start_time": "2022-05-12T03:45:43.371Z"
   },
   {
    "duration": 6,
    "start_time": "2022-05-12T03:45:43.631Z"
   },
   {
    "duration": 411,
    "start_time": "2022-05-12T03:45:43.639Z"
   },
   {
    "duration": 4,
    "start_time": "2022-05-12T03:45:44.052Z"
   },
   {
    "duration": 9,
    "start_time": "2022-05-12T03:45:44.058Z"
   },
   {
    "duration": 283,
    "start_time": "2022-05-12T03:45:44.068Z"
   },
   {
    "duration": 8,
    "start_time": "2022-05-12T03:45:44.352Z"
   },
   {
    "duration": 330,
    "start_time": "2022-05-12T03:45:44.362Z"
   },
   {
    "duration": 7,
    "start_time": "2022-05-12T03:45:44.693Z"
   },
   {
    "duration": 139,
    "start_time": "2022-05-12T03:45:44.701Z"
   },
   {
    "duration": 5,
    "start_time": "2022-05-12T03:45:44.842Z"
   },
   {
    "duration": 151,
    "start_time": "2022-05-12T03:45:44.848Z"
   },
   {
    "duration": 7,
    "start_time": "2022-05-12T03:45:45.001Z"
   },
   {
    "duration": 226,
    "start_time": "2022-05-12T03:45:45.010Z"
   },
   {
    "duration": 127,
    "start_time": "2022-05-12T03:45:45.238Z"
   },
   {
    "duration": 7,
    "start_time": "2022-05-12T03:45:45.367Z"
   },
   {
    "duration": 38,
    "start_time": "2022-05-12T03:45:45.376Z"
   },
   {
    "duration": 13,
    "start_time": "2022-05-12T03:45:45.416Z"
   },
   {
    "duration": 6,
    "start_time": "2022-05-12T03:45:45.431Z"
   },
   {
    "duration": 12,
    "start_time": "2022-05-12T03:45:45.439Z"
   },
   {
    "duration": 36,
    "start_time": "2022-05-12T03:45:45.453Z"
   },
   {
    "duration": 24,
    "start_time": "2022-05-12T03:45:45.490Z"
   },
   {
    "duration": 16,
    "start_time": "2022-05-12T03:45:45.515Z"
   },
   {
    "duration": 967,
    "start_time": "2022-08-11T11:39:12.673Z"
   },
   {
    "duration": 2,
    "start_time": "2022-08-11T11:39:13.642Z"
   },
   {
    "duration": 208,
    "start_time": "2022-08-11T11:39:13.646Z"
   },
   {
    "duration": 54,
    "start_time": "2022-08-11T11:39:13.856Z"
   },
   {
    "duration": 8,
    "start_time": "2022-08-11T11:39:13.911Z"
   },
   {
    "duration": 16,
    "start_time": "2022-08-11T11:39:13.921Z"
   },
   {
    "duration": 9,
    "start_time": "2022-08-11T11:39:13.939Z"
   },
   {
    "duration": 14,
    "start_time": "2022-08-11T11:39:13.950Z"
   },
   {
    "duration": 9,
    "start_time": "2022-08-11T11:39:13.966Z"
   },
   {
    "duration": 179,
    "start_time": "2022-08-11T11:39:13.977Z"
   },
   {
    "duration": 119,
    "start_time": "2022-08-11T11:39:14.157Z"
   },
   {
    "duration": 19,
    "start_time": "2022-08-11T11:39:14.277Z"
   },
   {
    "duration": 301,
    "start_time": "2022-08-11T11:39:14.298Z"
   },
   {
    "duration": 140,
    "start_time": "2022-08-11T11:39:14.600Z"
   },
   {
    "duration": 5,
    "start_time": "2022-08-11T11:39:14.741Z"
   },
   {
    "duration": 240,
    "start_time": "2022-08-11T11:39:14.748Z"
   },
   {
    "duration": 6,
    "start_time": "2022-08-11T11:39:14.989Z"
   },
   {
    "duration": 344,
    "start_time": "2022-08-11T11:39:15.008Z"
   },
   {
    "duration": 4,
    "start_time": "2022-08-11T11:39:15.353Z"
   },
   {
    "duration": 11,
    "start_time": "2022-08-11T11:39:15.358Z"
   },
   {
    "duration": 248,
    "start_time": "2022-08-11T11:39:15.370Z"
   },
   {
    "duration": 8,
    "start_time": "2022-08-11T11:39:15.619Z"
   },
   {
    "duration": 333,
    "start_time": "2022-08-11T11:39:15.628Z"
   },
   {
    "duration": 8,
    "start_time": "2022-08-11T11:39:15.963Z"
   },
   {
    "duration": 146,
    "start_time": "2022-08-11T11:39:15.973Z"
   },
   {
    "duration": 4,
    "start_time": "2022-08-11T11:39:16.121Z"
   },
   {
    "duration": 149,
    "start_time": "2022-08-11T11:39:16.127Z"
   },
   {
    "duration": 5,
    "start_time": "2022-08-11T11:39:16.279Z"
   },
   {
    "duration": 224,
    "start_time": "2022-08-11T11:39:16.285Z"
   },
   {
    "duration": 141,
    "start_time": "2022-08-11T11:39:16.511Z"
   },
   {
    "duration": 7,
    "start_time": "2022-08-11T11:39:16.653Z"
   },
   {
    "duration": 29,
    "start_time": "2022-08-11T11:39:16.661Z"
   },
   {
    "duration": 21,
    "start_time": "2022-08-11T11:39:16.691Z"
   },
   {
    "duration": 6,
    "start_time": "2022-08-11T11:39:16.713Z"
   },
   {
    "duration": 9,
    "start_time": "2022-08-11T11:39:16.720Z"
   },
   {
    "duration": 8,
    "start_time": "2022-08-11T11:39:16.731Z"
   },
   {
    "duration": 24,
    "start_time": "2022-08-11T11:39:16.740Z"
   },
   {
    "duration": 43,
    "start_time": "2022-08-11T11:39:16.766Z"
   },
   {
    "duration": 1090,
    "start_time": "2022-08-11T11:46:34.172Z"
   },
   {
    "duration": 3,
    "start_time": "2022-08-11T11:46:35.265Z"
   },
   {
    "duration": 95,
    "start_time": "2022-08-11T11:46:35.270Z"
   },
   {
    "duration": 61,
    "start_time": "2022-08-11T11:46:35.368Z"
   },
   {
    "duration": 8,
    "start_time": "2022-08-11T11:46:35.431Z"
   },
   {
    "duration": 24,
    "start_time": "2022-08-11T11:46:35.441Z"
   },
   {
    "duration": 19,
    "start_time": "2022-08-11T11:46:35.466Z"
   },
   {
    "duration": 27,
    "start_time": "2022-08-11T11:46:35.486Z"
   },
   {
    "duration": 28,
    "start_time": "2022-08-11T11:46:35.515Z"
   },
   {
    "duration": 201,
    "start_time": "2022-08-11T11:46:35.546Z"
   },
   {
    "duration": 142,
    "start_time": "2022-08-11T11:46:35.749Z"
   },
   {
    "duration": 26,
    "start_time": "2022-08-11T11:46:35.893Z"
   },
   {
    "duration": 389,
    "start_time": "2022-08-11T11:46:35.920Z"
   },
   {
    "duration": 147,
    "start_time": "2022-08-11T11:46:36.311Z"
   },
   {
    "duration": 5,
    "start_time": "2022-08-11T11:46:36.460Z"
   },
   {
    "duration": 267,
    "start_time": "2022-08-11T11:46:36.467Z"
   },
   {
    "duration": 7,
    "start_time": "2022-08-11T11:46:36.736Z"
   },
   {
    "duration": 337,
    "start_time": "2022-08-11T11:46:36.745Z"
   },
   {
    "duration": 4,
    "start_time": "2022-08-11T11:46:37.084Z"
   },
   {
    "duration": 19,
    "start_time": "2022-08-11T11:46:37.090Z"
   },
   {
    "duration": 341,
    "start_time": "2022-08-11T11:46:37.111Z"
   },
   {
    "duration": 11,
    "start_time": "2022-08-11T11:46:37.454Z"
   },
   {
    "duration": 414,
    "start_time": "2022-08-11T11:46:37.467Z"
   },
   {
    "duration": 7,
    "start_time": "2022-08-11T11:46:37.883Z"
   },
   {
    "duration": 168,
    "start_time": "2022-08-11T11:46:37.892Z"
   },
   {
    "duration": 7,
    "start_time": "2022-08-11T11:46:38.061Z"
   },
   {
    "duration": 199,
    "start_time": "2022-08-11T11:46:38.069Z"
   },
   {
    "duration": 6,
    "start_time": "2022-08-11T11:46:38.272Z"
   },
   {
    "duration": 224,
    "start_time": "2022-08-11T11:46:38.279Z"
   },
   {
    "duration": 144,
    "start_time": "2022-08-11T11:46:38.509Z"
   },
   {
    "duration": 7,
    "start_time": "2022-08-11T11:46:38.654Z"
   },
   {
    "duration": 29,
    "start_time": "2022-08-11T11:46:38.662Z"
   },
   {
    "duration": 23,
    "start_time": "2022-08-11T11:46:38.693Z"
   },
   {
    "duration": 18,
    "start_time": "2022-08-11T11:46:38.718Z"
   },
   {
    "duration": 24,
    "start_time": "2022-08-11T11:46:38.738Z"
   },
   {
    "duration": 13,
    "start_time": "2022-08-11T11:46:38.764Z"
   },
   {
    "duration": 31,
    "start_time": "2022-08-11T11:46:38.779Z"
   },
   {
    "duration": 16,
    "start_time": "2022-08-11T11:46:38.812Z"
   }
  ],
  "kernelspec": {
   "display_name": "Python 3 (ipykernel)",
   "language": "python",
   "name": "python3"
  },
  "language_info": {
   "codemirror_mode": {
    "name": "ipython",
    "version": 3
   },
   "file_extension": ".py",
   "mimetype": "text/x-python",
   "name": "python",
   "nbconvert_exporter": "python",
   "pygments_lexer": "ipython3",
   "version": "3.9.5"
  },
  "toc": {
   "base_numbering": 1,
   "nav_menu": {},
   "number_sections": true,
   "sideBar": true,
   "skip_h1_title": true,
   "title_cell": "Table of Contents",
   "title_sidebar": "Contents",
   "toc_cell": false,
   "toc_position": {},
   "toc_section_display": true,
   "toc_window_display": true
  }
 },
 "nbformat": 4,
 "nbformat_minor": 2
}
