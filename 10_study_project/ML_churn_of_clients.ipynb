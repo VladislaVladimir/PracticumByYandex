{
 "cells": [
  {
   "cell_type": "code",
   "execution_count": 1,
   "metadata": {},
   "outputs": [],
   "source": [
    "#импортируем нобходимые библиотеки\n",
    "import pandas as pd\n",
    "import seaborn as sns\n",
    "import matplotlib.pyplot as plt\n",
    "\n",
    "from sklearn.metrics import accuracy_score, precision_score, recall_score, f1_score #метрики классификации\n",
    "from sklearn.metrics import roc_auc_score # площадь под кривой ошибок\n",
    "\n",
    "from sklearn.preprocessing import StandardScaler #стандартизатор\n",
    "from sklearn.model_selection import train_test_split #разбивка на тетовую и валидационную\n",
    "from sklearn.linear_model import LogisticRegression #логистическая регрессия\n",
    "from sklearn.ensemble import RandomForestClassifier #случайный лес\n",
    "\n",
    "from sklearn.cluster import KMeans\n",
    "from scipy.cluster.hierarchy import dendrogram, linkage "
   ]
  },
  {
   "cell_type": "markdown",
   "metadata": {},
   "source": [
    "# Тема: Изучение оттока клиентов фитнес клуба"
   ]
  },
  {
   "cell_type": "markdown",
   "metadata": {},
   "source": [
    "## Ознакомление с файлом  и EDA"
   ]
  },
  {
   "cell_type": "code",
   "execution_count": 2,
   "metadata": {
    "scrolled": true
   },
   "outputs": [
    {
     "data": {
      "text/html": [
       "<div>\n",
       "<style scoped>\n",
       "    .dataframe tbody tr th:only-of-type {\n",
       "        vertical-align: middle;\n",
       "    }\n",
       "\n",
       "    .dataframe tbody tr th {\n",
       "        vertical-align: top;\n",
       "    }\n",
       "\n",
       "    .dataframe thead th {\n",
       "        text-align: right;\n",
       "    }\n",
       "</style>\n",
       "<table border=\"1\" class=\"dataframe\">\n",
       "  <thead>\n",
       "    <tr style=\"text-align: right;\">\n",
       "      <th></th>\n",
       "      <th>gender</th>\n",
       "      <th>Near_Location</th>\n",
       "      <th>Partner</th>\n",
       "      <th>Promo_friends</th>\n",
       "      <th>Phone</th>\n",
       "      <th>Contract_period</th>\n",
       "      <th>Group_visits</th>\n",
       "      <th>Age</th>\n",
       "      <th>Avg_additional_charges_total</th>\n",
       "      <th>Month_to_end_contract</th>\n",
       "      <th>Lifetime</th>\n",
       "      <th>Avg_class_frequency_total</th>\n",
       "      <th>Avg_class_frequency_current_month</th>\n",
       "      <th>Churn</th>\n",
       "    </tr>\n",
       "  </thead>\n",
       "  <tbody>\n",
       "    <tr>\n",
       "      <th>0</th>\n",
       "      <td>1</td>\n",
       "      <td>1</td>\n",
       "      <td>1</td>\n",
       "      <td>1</td>\n",
       "      <td>0</td>\n",
       "      <td>6</td>\n",
       "      <td>1</td>\n",
       "      <td>29</td>\n",
       "      <td>14.227470</td>\n",
       "      <td>5.0</td>\n",
       "      <td>3</td>\n",
       "      <td>0.020398</td>\n",
       "      <td>0.000000</td>\n",
       "      <td>0</td>\n",
       "    </tr>\n",
       "    <tr>\n",
       "      <th>1</th>\n",
       "      <td>0</td>\n",
       "      <td>1</td>\n",
       "      <td>0</td>\n",
       "      <td>0</td>\n",
       "      <td>1</td>\n",
       "      <td>12</td>\n",
       "      <td>1</td>\n",
       "      <td>31</td>\n",
       "      <td>113.202938</td>\n",
       "      <td>12.0</td>\n",
       "      <td>7</td>\n",
       "      <td>1.922936</td>\n",
       "      <td>1.910244</td>\n",
       "      <td>0</td>\n",
       "    </tr>\n",
       "    <tr>\n",
       "      <th>2</th>\n",
       "      <td>0</td>\n",
       "      <td>1</td>\n",
       "      <td>1</td>\n",
       "      <td>0</td>\n",
       "      <td>1</td>\n",
       "      <td>1</td>\n",
       "      <td>0</td>\n",
       "      <td>28</td>\n",
       "      <td>129.448479</td>\n",
       "      <td>1.0</td>\n",
       "      <td>2</td>\n",
       "      <td>1.859098</td>\n",
       "      <td>1.736502</td>\n",
       "      <td>0</td>\n",
       "    </tr>\n",
       "    <tr>\n",
       "      <th>3</th>\n",
       "      <td>0</td>\n",
       "      <td>1</td>\n",
       "      <td>1</td>\n",
       "      <td>1</td>\n",
       "      <td>1</td>\n",
       "      <td>12</td>\n",
       "      <td>1</td>\n",
       "      <td>33</td>\n",
       "      <td>62.669863</td>\n",
       "      <td>12.0</td>\n",
       "      <td>2</td>\n",
       "      <td>3.205633</td>\n",
       "      <td>3.357215</td>\n",
       "      <td>0</td>\n",
       "    </tr>\n",
       "    <tr>\n",
       "      <th>4</th>\n",
       "      <td>1</td>\n",
       "      <td>1</td>\n",
       "      <td>1</td>\n",
       "      <td>1</td>\n",
       "      <td>1</td>\n",
       "      <td>1</td>\n",
       "      <td>0</td>\n",
       "      <td>26</td>\n",
       "      <td>198.362265</td>\n",
       "      <td>1.0</td>\n",
       "      <td>3</td>\n",
       "      <td>1.113884</td>\n",
       "      <td>1.120078</td>\n",
       "      <td>0</td>\n",
       "    </tr>\n",
       "  </tbody>\n",
       "</table>\n",
       "</div>"
      ],
      "text/plain": [
       "   gender  Near_Location  Partner  Promo_friends  Phone  Contract_period  \\\n",
       "0       1              1        1              1      0                6   \n",
       "1       0              1        0              0      1               12   \n",
       "2       0              1        1              0      1                1   \n",
       "3       0              1        1              1      1               12   \n",
       "4       1              1        1              1      1                1   \n",
       "\n",
       "   Group_visits  Age  Avg_additional_charges_total  Month_to_end_contract  \\\n",
       "0             1   29                     14.227470                    5.0   \n",
       "1             1   31                    113.202938                   12.0   \n",
       "2             0   28                    129.448479                    1.0   \n",
       "3             1   33                     62.669863                   12.0   \n",
       "4             0   26                    198.362265                    1.0   \n",
       "\n",
       "   Lifetime  Avg_class_frequency_total  Avg_class_frequency_current_month  \\\n",
       "0         3                   0.020398                           0.000000   \n",
       "1         7                   1.922936                           1.910244   \n",
       "2         2                   1.859098                           1.736502   \n",
       "3         2                   3.205633                           3.357215   \n",
       "4         3                   1.113884                           1.120078   \n",
       "\n",
       "   Churn  \n",
       "0      0  \n",
       "1      0  \n",
       "2      0  \n",
       "3      0  \n",
       "4      0  "
      ]
     },
     "execution_count": 2,
     "metadata": {},
     "output_type": "execute_result"
    }
   ],
   "source": [
    "gym = pd.read_csv('/datasets/gym_churn.csv') #прочитаем наш файл\n",
    "gym.head()"
   ]
  },
  {
   "cell_type": "code",
   "execution_count": 3,
   "metadata": {},
   "outputs": [],
   "source": [
    "gym.columns = gym.columns.str.lower() #приведу для удобства название столбцов к нижнему регистру"
   ]
  },
  {
   "cell_type": "code",
   "execution_count": 4,
   "metadata": {
    "scrolled": false
   },
   "outputs": [
    {
     "name": "stdout",
     "output_type": "stream",
     "text": [
      "<class 'pandas.core.frame.DataFrame'>\n",
      "RangeIndex: 4000 entries, 0 to 3999\n",
      "Data columns (total 14 columns):\n",
      " #   Column                             Non-Null Count  Dtype  \n",
      "---  ------                             --------------  -----  \n",
      " 0   gender                             4000 non-null   int64  \n",
      " 1   near_location                      4000 non-null   int64  \n",
      " 2   partner                            4000 non-null   int64  \n",
      " 3   promo_friends                      4000 non-null   int64  \n",
      " 4   phone                              4000 non-null   int64  \n",
      " 5   contract_period                    4000 non-null   int64  \n",
      " 6   group_visits                       4000 non-null   int64  \n",
      " 7   age                                4000 non-null   int64  \n",
      " 8   avg_additional_charges_total       4000 non-null   float64\n",
      " 9   month_to_end_contract              4000 non-null   float64\n",
      " 10  lifetime                           4000 non-null   int64  \n",
      " 11  avg_class_frequency_total          4000 non-null   float64\n",
      " 12  avg_class_frequency_current_month  4000 non-null   float64\n",
      " 13  churn                              4000 non-null   int64  \n",
      "dtypes: float64(4), int64(10)\n",
      "memory usage: 437.6 KB\n"
     ]
    }
   ],
   "source": [
    "gym.info() # посмотрим информацию о файле"
   ]
  },
  {
   "cell_type": "code",
   "execution_count": 5,
   "metadata": {},
   "outputs": [
    {
     "name": "stdout",
     "output_type": "stream",
     "text": [
      "Количество строк  - 4000, количество столбцов  - 14\n"
     ]
    }
   ],
   "source": [
    "shape = gym.shape\n",
    "print(f'Количество строк  - {shape[0]}, количество столбцов  - {shape[1]}')"
   ]
  },
  {
   "cell_type": "code",
   "execution_count": 6,
   "metadata": {},
   "outputs": [
    {
     "name": "stdout",
     "output_type": "stream",
     "text": [
      "Количество явных дубликатов - 0\n"
     ]
    }
   ],
   "source": [
    "duplicated = gym.duplicated().sum() #выведем явные дубликаты для изучения\n",
    "print('Количество явных дубликатов -', duplicated)"
   ]
  },
  {
   "cell_type": "markdown",
   "metadata": {},
   "source": [
    "Согласно описательной документации датасет имеет следущие поля:\n",
    "\n",
    " Набор данных включает следующие поля:\n",
    " \n",
    "*Данные клиента за предыдущий до проверки факта оттока месяц:*\n",
    "* `gender` — пол;\n",
    "\n",
    "* `Near_Location ` — проживание или работа в районе, где находится фитнес-центр;\n",
    "\n",
    "* `Partner ` — сотрудник компании-партнёра клуба (сотрудничество с компаниями, чьи сотрудники могут получать скидки на абонемент — в таком случае фитнес-центр хранит информацию о работодателе клиента);\n",
    "\n",
    "* `Promo_friends` — факт первоначальной записи в рамках акции «приведи друга» (использовал промо-код от знакомого при оплате первого абонемента);\n",
    "\n",
    "* `Phone ` — наличие контактного телефона;\n",
    "\n",
    "* `Age ` — возраст;\n",
    "\n",
    "* `Lifetime ` — время с момента первого обращения в фитнес-центр (в месяцах).\n",
    "\n",
    "*Информация на основе журнала посещений, покупок и информация о текущем статусе абонемента клиента:*\n",
    "* `Contract_period ` — длительность текущего действующего абонемента (месяц, 6 месяцев, год);\n",
    "\n",
    "* `Month_to_end_contract ` — срок до окончания текущего действующего абонемента (в месяцах);\n",
    "\n",
    "* `Group_visits ` — факт посещения групповых занятий;\n",
    "\n",
    "* `Avg_class_frequency_total ` — средняя частота посещений в неделю за все время с начала действия абонемента;\n",
    "\n",
    "* `Avg_class_frequency_current_month ` — средняя частота посещений в неделю за предыдущий месяц;\n",
    "\n",
    "* `Avg_additional_charges_total ` — суммарная выручка от других услуг фитнес-центра: кафе, спорттовары, косметический и массажный салон.\n",
    "\n",
    "* `Churn ` — факт оттока в текущем месяце. \n",
    "    "
   ]
  },
  {
   "cell_type": "markdown",
   "metadata": {},
   "source": [
    "###### Посмотрим на датасет: есть ли в нем отсутствующие признаки, изучим средние значения и стандартные отклонения"
   ]
  },
  {
   "cell_type": "code",
   "execution_count": 7,
   "metadata": {},
   "outputs": [
    {
     "data": {
      "text/plain": [
       "gender                               0\n",
       "near_location                        0\n",
       "partner                              0\n",
       "promo_friends                        0\n",
       "phone                                0\n",
       "contract_period                      0\n",
       "group_visits                         0\n",
       "age                                  0\n",
       "avg_additional_charges_total         0\n",
       "month_to_end_contract                0\n",
       "lifetime                             0\n",
       "avg_class_frequency_total            0\n",
       "avg_class_frequency_current_month    0\n",
       "churn                                0\n",
       "dtype: int64"
      ]
     },
     "execution_count": 7,
     "metadata": {},
     "output_type": "execute_result"
    }
   ],
   "source": [
    "gym.isna().sum() #посчитаем количесвто пропусков"
   ]
  },
  {
   "cell_type": "markdown",
   "metadata": {},
   "source": [
    "Отлично, в датасете отсутствуют пропуски.\n",
    "\n",
    "Теперь посмотрим на средние значения, и стандартные отклонения. Для этого выведим таблицу describe:"
   ]
  },
  {
   "cell_type": "code",
   "execution_count": 8,
   "metadata": {
    "scrolled": false
   },
   "outputs": [
    {
     "data": {
      "text/html": [
       "<div>\n",
       "<style scoped>\n",
       "    .dataframe tbody tr th:only-of-type {\n",
       "        vertical-align: middle;\n",
       "    }\n",
       "\n",
       "    .dataframe tbody tr th {\n",
       "        vertical-align: top;\n",
       "    }\n",
       "\n",
       "    .dataframe thead th {\n",
       "        text-align: right;\n",
       "    }\n",
       "</style>\n",
       "<table border=\"1\" class=\"dataframe\">\n",
       "  <thead>\n",
       "    <tr style=\"text-align: right;\">\n",
       "      <th></th>\n",
       "      <th>gender</th>\n",
       "      <th>near_location</th>\n",
       "      <th>partner</th>\n",
       "      <th>promo_friends</th>\n",
       "      <th>phone</th>\n",
       "      <th>contract_period</th>\n",
       "      <th>group_visits</th>\n",
       "      <th>age</th>\n",
       "      <th>avg_additional_charges_total</th>\n",
       "      <th>month_to_end_contract</th>\n",
       "      <th>lifetime</th>\n",
       "      <th>avg_class_frequency_total</th>\n",
       "      <th>avg_class_frequency_current_month</th>\n",
       "      <th>churn</th>\n",
       "    </tr>\n",
       "  </thead>\n",
       "  <tbody>\n",
       "    <tr>\n",
       "      <th>count</th>\n",
       "      <td>4000.000000</td>\n",
       "      <td>4000.000000</td>\n",
       "      <td>4000.000000</td>\n",
       "      <td>4000.000000</td>\n",
       "      <td>4000.000000</td>\n",
       "      <td>4000.000000</td>\n",
       "      <td>4000.000000</td>\n",
       "      <td>4000.000000</td>\n",
       "      <td>4000.000000</td>\n",
       "      <td>4000.000000</td>\n",
       "      <td>4000.000000</td>\n",
       "      <td>4000.000000</td>\n",
       "      <td>4000.000000</td>\n",
       "      <td>4000.000000</td>\n",
       "    </tr>\n",
       "    <tr>\n",
       "      <th>mean</th>\n",
       "      <td>0.510250</td>\n",
       "      <td>0.845250</td>\n",
       "      <td>0.486750</td>\n",
       "      <td>0.308500</td>\n",
       "      <td>0.903500</td>\n",
       "      <td>4.681250</td>\n",
       "      <td>0.412250</td>\n",
       "      <td>29.184250</td>\n",
       "      <td>146.943728</td>\n",
       "      <td>4.322750</td>\n",
       "      <td>3.724750</td>\n",
       "      <td>1.879020</td>\n",
       "      <td>1.767052</td>\n",
       "      <td>0.265250</td>\n",
       "    </tr>\n",
       "    <tr>\n",
       "      <th>std</th>\n",
       "      <td>0.499957</td>\n",
       "      <td>0.361711</td>\n",
       "      <td>0.499887</td>\n",
       "      <td>0.461932</td>\n",
       "      <td>0.295313</td>\n",
       "      <td>4.549706</td>\n",
       "      <td>0.492301</td>\n",
       "      <td>3.258367</td>\n",
       "      <td>96.355602</td>\n",
       "      <td>4.191297</td>\n",
       "      <td>3.749267</td>\n",
       "      <td>0.972245</td>\n",
       "      <td>1.052906</td>\n",
       "      <td>0.441521</td>\n",
       "    </tr>\n",
       "    <tr>\n",
       "      <th>min</th>\n",
       "      <td>0.000000</td>\n",
       "      <td>0.000000</td>\n",
       "      <td>0.000000</td>\n",
       "      <td>0.000000</td>\n",
       "      <td>0.000000</td>\n",
       "      <td>1.000000</td>\n",
       "      <td>0.000000</td>\n",
       "      <td>18.000000</td>\n",
       "      <td>0.148205</td>\n",
       "      <td>1.000000</td>\n",
       "      <td>0.000000</td>\n",
       "      <td>0.000000</td>\n",
       "      <td>0.000000</td>\n",
       "      <td>0.000000</td>\n",
       "    </tr>\n",
       "    <tr>\n",
       "      <th>25%</th>\n",
       "      <td>0.000000</td>\n",
       "      <td>1.000000</td>\n",
       "      <td>0.000000</td>\n",
       "      <td>0.000000</td>\n",
       "      <td>1.000000</td>\n",
       "      <td>1.000000</td>\n",
       "      <td>0.000000</td>\n",
       "      <td>27.000000</td>\n",
       "      <td>68.868830</td>\n",
       "      <td>1.000000</td>\n",
       "      <td>1.000000</td>\n",
       "      <td>1.180875</td>\n",
       "      <td>0.963003</td>\n",
       "      <td>0.000000</td>\n",
       "    </tr>\n",
       "    <tr>\n",
       "      <th>50%</th>\n",
       "      <td>1.000000</td>\n",
       "      <td>1.000000</td>\n",
       "      <td>0.000000</td>\n",
       "      <td>0.000000</td>\n",
       "      <td>1.000000</td>\n",
       "      <td>1.000000</td>\n",
       "      <td>0.000000</td>\n",
       "      <td>29.000000</td>\n",
       "      <td>136.220159</td>\n",
       "      <td>1.000000</td>\n",
       "      <td>3.000000</td>\n",
       "      <td>1.832768</td>\n",
       "      <td>1.719574</td>\n",
       "      <td>0.000000</td>\n",
       "    </tr>\n",
       "    <tr>\n",
       "      <th>75%</th>\n",
       "      <td>1.000000</td>\n",
       "      <td>1.000000</td>\n",
       "      <td>1.000000</td>\n",
       "      <td>1.000000</td>\n",
       "      <td>1.000000</td>\n",
       "      <td>6.000000</td>\n",
       "      <td>1.000000</td>\n",
       "      <td>31.000000</td>\n",
       "      <td>210.949625</td>\n",
       "      <td>6.000000</td>\n",
       "      <td>5.000000</td>\n",
       "      <td>2.536078</td>\n",
       "      <td>2.510336</td>\n",
       "      <td>1.000000</td>\n",
       "    </tr>\n",
       "    <tr>\n",
       "      <th>max</th>\n",
       "      <td>1.000000</td>\n",
       "      <td>1.000000</td>\n",
       "      <td>1.000000</td>\n",
       "      <td>1.000000</td>\n",
       "      <td>1.000000</td>\n",
       "      <td>12.000000</td>\n",
       "      <td>1.000000</td>\n",
       "      <td>41.000000</td>\n",
       "      <td>552.590740</td>\n",
       "      <td>12.000000</td>\n",
       "      <td>31.000000</td>\n",
       "      <td>6.023668</td>\n",
       "      <td>6.146783</td>\n",
       "      <td>1.000000</td>\n",
       "    </tr>\n",
       "  </tbody>\n",
       "</table>\n",
       "</div>"
      ],
      "text/plain": [
       "            gender  near_location      partner  promo_friends        phone  \\\n",
       "count  4000.000000    4000.000000  4000.000000    4000.000000  4000.000000   \n",
       "mean      0.510250       0.845250     0.486750       0.308500     0.903500   \n",
       "std       0.499957       0.361711     0.499887       0.461932     0.295313   \n",
       "min       0.000000       0.000000     0.000000       0.000000     0.000000   \n",
       "25%       0.000000       1.000000     0.000000       0.000000     1.000000   \n",
       "50%       1.000000       1.000000     0.000000       0.000000     1.000000   \n",
       "75%       1.000000       1.000000     1.000000       1.000000     1.000000   \n",
       "max       1.000000       1.000000     1.000000       1.000000     1.000000   \n",
       "\n",
       "       contract_period  group_visits          age  \\\n",
       "count      4000.000000   4000.000000  4000.000000   \n",
       "mean          4.681250      0.412250    29.184250   \n",
       "std           4.549706      0.492301     3.258367   \n",
       "min           1.000000      0.000000    18.000000   \n",
       "25%           1.000000      0.000000    27.000000   \n",
       "50%           1.000000      0.000000    29.000000   \n",
       "75%           6.000000      1.000000    31.000000   \n",
       "max          12.000000      1.000000    41.000000   \n",
       "\n",
       "       avg_additional_charges_total  month_to_end_contract     lifetime  \\\n",
       "count                   4000.000000            4000.000000  4000.000000   \n",
       "mean                     146.943728               4.322750     3.724750   \n",
       "std                       96.355602               4.191297     3.749267   \n",
       "min                        0.148205               1.000000     0.000000   \n",
       "25%                       68.868830               1.000000     1.000000   \n",
       "50%                      136.220159               1.000000     3.000000   \n",
       "75%                      210.949625               6.000000     5.000000   \n",
       "max                      552.590740              12.000000    31.000000   \n",
       "\n",
       "       avg_class_frequency_total  avg_class_frequency_current_month  \\\n",
       "count                4000.000000                        4000.000000   \n",
       "mean                    1.879020                           1.767052   \n",
       "std                     0.972245                           1.052906   \n",
       "min                     0.000000                           0.000000   \n",
       "25%                     1.180875                           0.963003   \n",
       "50%                     1.832768                           1.719574   \n",
       "75%                     2.536078                           2.510336   \n",
       "max                     6.023668                           6.146783   \n",
       "\n",
       "             churn  \n",
       "count  4000.000000  \n",
       "mean      0.265250  \n",
       "std       0.441521  \n",
       "min       0.000000  \n",
       "25%       0.000000  \n",
       "50%       0.000000  \n",
       "75%       1.000000  \n",
       "max       1.000000  "
      ]
     },
     "execution_count": 8,
     "metadata": {},
     "output_type": "execute_result"
    }
   ],
   "source": [
    "gym.describe()"
   ]
  },
  {
   "cell_type": "markdown",
   "metadata": {},
   "source": [
    "Из таблицы можно сделать следущие выводы можно сказать:\n",
    "\n",
    "1) По гендерному признаку поситители разбиты практически 50/50. \n",
    "\n",
    "2) Большинство клиентов живут или работают в непосредственной близости от фитнес клуба (большое среднее и небольшое стандартное отклонение)\n",
    "\n",
    "3) Практически половина поситителей фитнес клуба пришли по партнерской программе.\n",
    "\n",
    "4) Только треть поситителей пришли по промоакции.\n",
    "\n",
    "5) У абсолютного большинства клиентов указан номер телефона.\n",
    "\n",
    "6) Абонементы делятся на 3 категории: годовой, полугодовой и месячный. Среднее значение среди клиентов составляет 4.68, стандарное отклонение большое, что говорит нам о большом разбросе предпочтений по длительности абонементов среди клиентов.\n",
    "\n",
    "7) Менее половины поситителей предпочитают групповые тренировки.\n",
    "\n",
    "8) Средний возраст клиента составляет 29.2 года.\n",
    "\n",
    "9) Средняя суммарная выручка от доп. услуг составляет 146.94 у.е., стандартное отклонение значительное, что говорит нам о большом разбросе значений.\n",
    "\n",
    "10) Средний срок до окончания текущего абонемента 4.32. Стандартное отклонение значительное, что указывает на большой разброс значений данной метрики.\n",
    "\n",
    "11) Среди клиентов присутствуют люди, которые еще не успели активировать свой абонимент, а так же присутствуют \"старожилы\" с 31 месяцем стажа. Средний стаж с момента активации абонемента составляет 3.72 месяца. Среднеквадратичное отклонение большое - разброс значений параметров значителен, что логично и неудивительно.\n",
    "\n",
    "12) В среднем люди проводят 1-2 дня в неделю в спортзале, однако присутствуют люди, которые посещяют его 6 дней в неделю. \n",
    "\n",
    "13) Отток клиентов составляет 26,5% процентов."
   ]
  },
  {
   "cell_type": "markdown",
   "metadata": {},
   "source": [
    "Посмотрим на стандарнтные отклонения в порядке убывания:"
   ]
  },
  {
   "cell_type": "code",
   "execution_count": 9,
   "metadata": {},
   "outputs": [
    {
     "data": {
      "text/plain": [
       "avg_additional_charges_total         96.355602\n",
       "contract_period                       4.549706\n",
       "month_to_end_contract                 4.191297\n",
       "lifetime                              3.749267\n",
       "age                                   3.258367\n",
       "avg_class_frequency_current_month     1.052906\n",
       "avg_class_frequency_total             0.972245\n",
       "gender                                0.499957\n",
       "partner                               0.499887\n",
       "group_visits                          0.492301\n",
       "promo_friends                         0.461932\n",
       "churn                                 0.441521\n",
       "near_location                         0.361711\n",
       "phone                                 0.295313\n",
       "dtype: float64"
      ]
     },
     "execution_count": 9,
     "metadata": {},
     "output_type": "execute_result"
    }
   ],
   "source": [
    "gym.std().sort_values(ascending = False)"
   ]
  },
  {
   "cell_type": "markdown",
   "metadata": {},
   "source": [
    "###### Среднее значение признаков в двух группах"
   ]
  },
  {
   "cell_type": "markdown",
   "metadata": {},
   "source": [
    "Посмотрим на средние значения признаков в двух группах — тех, кто ушел в отток и тех, кто остался"
   ]
  },
  {
   "cell_type": "code",
   "execution_count": 10,
   "metadata": {
    "scrolled": false
   },
   "outputs": [
    {
     "data": {
      "text/html": [
       "<div>\n",
       "<style scoped>\n",
       "    .dataframe tbody tr th:only-of-type {\n",
       "        vertical-align: middle;\n",
       "    }\n",
       "\n",
       "    .dataframe tbody tr th {\n",
       "        vertical-align: top;\n",
       "    }\n",
       "\n",
       "    .dataframe thead th {\n",
       "        text-align: right;\n",
       "    }\n",
       "</style>\n",
       "<table border=\"1\" class=\"dataframe\">\n",
       "  <thead>\n",
       "    <tr style=\"text-align: right;\">\n",
       "      <th>churn</th>\n",
       "      <th>остался</th>\n",
       "      <th>ушел</th>\n",
       "    </tr>\n",
       "  </thead>\n",
       "  <tbody>\n",
       "    <tr>\n",
       "      <th>gender</th>\n",
       "      <td>0.51</td>\n",
       "      <td>0.51</td>\n",
       "    </tr>\n",
       "    <tr>\n",
       "      <th>near_location</th>\n",
       "      <td>0.87</td>\n",
       "      <td>0.77</td>\n",
       "    </tr>\n",
       "    <tr>\n",
       "      <th>partner</th>\n",
       "      <td>0.53</td>\n",
       "      <td>0.36</td>\n",
       "    </tr>\n",
       "    <tr>\n",
       "      <th>promo_friends</th>\n",
       "      <td>0.35</td>\n",
       "      <td>0.18</td>\n",
       "    </tr>\n",
       "    <tr>\n",
       "      <th>phone</th>\n",
       "      <td>0.90</td>\n",
       "      <td>0.90</td>\n",
       "    </tr>\n",
       "    <tr>\n",
       "      <th>contract_period</th>\n",
       "      <td>5.75</td>\n",
       "      <td>1.73</td>\n",
       "    </tr>\n",
       "    <tr>\n",
       "      <th>group_visits</th>\n",
       "      <td>0.46</td>\n",
       "      <td>0.27</td>\n",
       "    </tr>\n",
       "    <tr>\n",
       "      <th>age</th>\n",
       "      <td>29.98</td>\n",
       "      <td>26.99</td>\n",
       "    </tr>\n",
       "    <tr>\n",
       "      <th>avg_additional_charges_total</th>\n",
       "      <td>158.45</td>\n",
       "      <td>115.08</td>\n",
       "    </tr>\n",
       "    <tr>\n",
       "      <th>month_to_end_contract</th>\n",
       "      <td>5.28</td>\n",
       "      <td>1.66</td>\n",
       "    </tr>\n",
       "    <tr>\n",
       "      <th>lifetime</th>\n",
       "      <td>4.71</td>\n",
       "      <td>0.99</td>\n",
       "    </tr>\n",
       "    <tr>\n",
       "      <th>avg_class_frequency_total</th>\n",
       "      <td>2.02</td>\n",
       "      <td>1.47</td>\n",
       "    </tr>\n",
       "    <tr>\n",
       "      <th>avg_class_frequency_current_month</th>\n",
       "      <td>2.03</td>\n",
       "      <td>1.04</td>\n",
       "    </tr>\n",
       "  </tbody>\n",
       "</table>\n",
       "</div>"
      ],
      "text/plain": [
       "churn                              остался    ушел\n",
       "gender                                0.51    0.51\n",
       "near_location                         0.87    0.77\n",
       "partner                               0.53    0.36\n",
       "promo_friends                         0.35    0.18\n",
       "phone                                 0.90    0.90\n",
       "contract_period                       5.75    1.73\n",
       "group_visits                          0.46    0.27\n",
       "age                                  29.98   26.99\n",
       "avg_additional_charges_total        158.45  115.08\n",
       "month_to_end_contract                 5.28    1.66\n",
       "lifetime                              4.71    0.99\n",
       "avg_class_frequency_total             2.02    1.47\n",
       "avg_class_frequency_current_month     2.03    1.04"
      ]
     },
     "execution_count": 10,
     "metadata": {},
     "output_type": "execute_result"
    }
   ],
   "source": [
    "gym_mean = (gym\n",
    "            .groupby('churn')\n",
    "            .agg('mean')\n",
    "            .transpose() #перевернем\n",
    "            .rename(columns = {0:'остался', 1:'ушел'}) #переименуем для удобства восприятия\n",
    "            .round(2)\n",
    "           )\n",
    "gym_mean"
   ]
  },
  {
   "cell_type": "markdown",
   "metadata": {},
   "source": [
    "Глядя на таблицу, можно сразу сказать, что:\n",
    "\n",
    "1) Отток не связан с половым признаком. Мужчина и женщины уходят одинаково 50/50\n",
    "\n",
    "2) Люди живущие дальше от фитнес клуба уходят без возврата чаще.\n",
    "\n",
    "3) Среди ушедших было всего 36% людей, которые пришли по партнерской программе. Среди оставшихся клиентов к парнерской программе относятся 53%.\n",
    "\n",
    "4) Те, кто приходят по промо за друга остаются чаще.\n",
    "\n",
    "5) Наличие оставленного контактного номера телефона никак не сказывается на факт оттока. У обеих групп в 90% случаев оставлен контактный номер телефона в базе клуба.\n",
    "\n",
    "6) Средняя длительность текущего абонемента у группы, которая \"сливается\" составляет меньше двух месяцев, а именно 1,73. Это может быть связано с тем, что многие брали месячные аббонементы \"на пробу\", а потом \"сливался\".\n",
    "\n",
    "7) В группе людей, которые не ущли в отток, на групповые занятия ходят почти полоивна (46%). Группа, которая ушла в отток проявляла себя в групповых занятиях значительно меньше (27% ушедших клиентов ходило на групповые занятия).\n",
    "\n",
    "8) Средний возраст оставшихся клиентов 29.98, ушедших - 26.99. Чем старше, тем ответственнее? \n",
    "\n",
    "9) Группа, ушедшая в отток, тратила меньше денег на дополнительные услуги.\n",
    "\n",
    "10) Люди, у которых до окончания абонемента осталось меньше 2-х месяцев чаще уходят в отток. Это может быть связано с тем, что многие брали месячные аббонементы \"на пробу\".\n",
    "\n",
    "11) Среднее время с момента первого обращения в фитнес клуб у лояльной группы составляет более 4-х месяцев. У группы, которая уходит в отток, чуть меньше месяца, что подтверждает предположение о том, что среди группы, которая уходит в отток, много абонементов длительностью 1 месяц. \n",
    "\n",
    "12) Люди, которые проводят в спортзале стабильно 2 дня в неделю, остаются посетителями клуба. Средняя посещаемость отточной группы составляет менее 1,5 дней."
   ]
  },
  {
   "cell_type": "markdown",
   "metadata": {},
   "source": [
    "######  Постройте столбчатые гистограммы и распределения признаков для тех, кто ушёл (отток) и тех, кто остался (не попали в отток);"
   ]
  },
  {
   "cell_type": "code",
   "execution_count": 11,
   "metadata": {},
   "outputs": [],
   "source": [
    "binar_list = ['gender', 'near_location', 'partner', 'promo_friends', 'phone', 'group_visits'] #список с бинарными признаками\n",
    "\n",
    "no_binar_features = gym.drop(binar_list, axis = 1) #небинарные признаки\n",
    "binar_features = gym.drop(no_binar_features.columns[:7], axis = 1) #бинарные признаки"
   ]
  },
  {
   "cell_type": "code",
   "execution_count": 12,
   "metadata": {
    "scrolled": false
   },
   "outputs": [
    {
     "data": {
      "image/png": "[encoded data removed]",
      "text/plain": [
       "<Figure size 1008x360 with 1 Axes>"
      ]
     },
     "metadata": {
      "needs_background": "light"
     },
     "output_type": "display_data"
    },
    {
     "data": {
      "image/png": "[encoded data removed]",
      "text/plain": [
       "<Figure size 1008x360 with 1 Axes>"
      ]
     },
     "metadata": {
      "needs_background": "light"
     },
     "output_type": "display_data"
    },
    {
     "data": {
      "image/png": "[encoded data removed]",
      "text/plain": [
       "<Figure size 1008x360 with 1 Axes>"
      ]
     },
     "metadata": {
      "needs_background": "light"
     },
     "output_type": "display_data"
    },
    {
     "data": {
      "image/png": "[encoded data removed]",
      "text/plain": [
       "<Figure size 1008x360 with 1 Axes>"
      ]
     },
     "metadata": {
      "needs_background": "light"
     },
     "output_type": "display_data"
    },
    {
     "data": {
      "image/png": "[encoded data removed]",
      "text/plain": [
       "<Figure size 1008x360 with 1 Axes>"
      ]
     },
     "metadata": {
      "needs_background": "light"
     },
     "output_type": "display_data"
    },
    {
     "data": {
      "image/png": "[encoded data removed]",
      "text/plain": [
       "<Figure size 1008x360 with 1 Axes>"
      ]
     },
     "metadata": {
      "needs_background": "light"
     },
     "output_type": "display_data"
    },
    {
     "data": {
      "image/png": "[encoded data removed]",
      "text/plain": [
       "<Figure size 1008x360 with 1 Axes>"
      ]
     },
     "metadata": {
      "needs_background": "light"
     },
     "output_type": "display_data"
    }
   ],
   "source": [
    "\n",
    "for feature in no_binar_features.drop('churn', axis = 1): #распределения для небинарных признаков\n",
    "    plt.figure(figsize=(14, 5))\n",
    "    sns.histplot(data = no_binar_features,\n",
    "            x = no_binar_features[feature],\n",
    "            hue = 'churn', \n",
    "            kde = True,\n",
    "            line_kws={\"lw\":3},\n",
    "            bins = 30)\n",
    "    plt.title(f'Параметр {feature}')  \n",
    "    plt.ylabel('Количество')\n",
    "    plt.grid()\n",
    "    plt.show()\n"
   ]
  },
  {
   "cell_type": "markdown",
   "metadata": {},
   "source": [
    "После изучения гистограмм приходим к следующим умозаключениям:\n",
    " \n",
    "1) Как и писалось выше, среди \"отточников\" преобладают абонементы длительностью 1 месяц (934 человека ушло в отток с абонементами в 1 месяц). Чем на больший интералвал времени рассчитан абонемент, тем вероятность оттока меньше (23 человека ушло в отток обладая абонементами рассчитаными на 12 месяцев).\n",
    " \n",
    "2) По параметру \"age\" гистограмма \"отточников\" смещена в лево, это нам говорит о том, что прощаются с фитнес клубом молодые люди больше. \n",
    " \n",
    "3) Клиенты, перешедшие в разряд \"отточников\" тратили меньше на дополнительные услуги. \n",
    " \n",
    "4) Чаще всего уходят люди, у которых остается 1 месяц до окончания абонемента. Скорее всего, в эту категорию входят люди, которые доходили свои \"большие\" абонементы и люди, которые брали маленькие абонементы, как мы предположили выше, \"на пробу\".\n",
    " \n",
    "5) У \"отточников\" гистограмма параметра liftime сильно тяготит в левую сторону в связи с большим количеством месячных абонементов. \"Отточники\" по большей части ходят в зал не более полугода. \n",
    "Категория лояльных клиентов в фитнес клуб ходит по большей части до 1,5 лет.\n",
    " \n",
    "6) Клиенты ушедшие из фитнес клуба реже ходят на тренировки."
   ]
  },
  {
   "cell_type": "markdown",
   "metadata": {},
   "source": [
    "Рассмотрим бинарные признаки:"
   ]
  },
  {
   "cell_type": "code",
   "execution_count": 13,
   "metadata": {
    "scrolled": false
   },
   "outputs": [
    {
     "data": {
      "image/png": "[encoded data removed]",
      "text/plain": [
       "<Figure size 360x360 with 1 Axes>"
      ]
     },
     "metadata": {
      "needs_background": "light"
     },
     "output_type": "display_data"
    },
    {
     "data": {
      "image/png": "[encoded data removed]",
      "text/plain": [
       "<Figure size 360x360 with 1 Axes>"
      ]
     },
     "metadata": {
      "needs_background": "light"
     },
     "output_type": "display_data"
    },
    {
     "data": {
      "image/png": "[encoded data removed]",
      "text/plain": [
       "<Figure size 360x360 with 1 Axes>"
      ]
     },
     "metadata": {
      "needs_background": "light"
     },
     "output_type": "display_data"
    },
    {
     "data": {
      "image/png": "[encoded data removed]",
      "text/plain": [
       "<Figure size 360x360 with 1 Axes>"
      ]
     },
     "metadata": {
      "needs_background": "light"
     },
     "output_type": "display_data"
    },
    {
     "data": {
      "image/png": "[encoded data removed]",
      "text/plain": [
       "<Figure size 360x360 with 1 Axes>"
      ]
     },
     "metadata": {
      "needs_background": "light"
     },
     "output_type": "display_data"
    },
    {
     "data": {
      "image/png": "[encoded data removed]",
      "text/plain": [
       "<Figure size 360x360 with 1 Axes>"
      ]
     },
     "metadata": {
      "needs_background": "light"
     },
     "output_type": "display_data"
    }
   ],
   "source": [
    "for feature in binar_features.drop('churn', axis = 1): #распределения для бинарных признаков\n",
    "    \n",
    "    plt.figure(figsize=(5, 5))\n",
    "    sns.histplot(data = binar_features,\n",
    "            x = binar_features[feature],\n",
    "            hue = 'churn', \n",
    "            kde = False,\n",
    "            multiple=\"stack\", #поставим \"накопление\" \n",
    "            bins = 20)\n",
    "    plt.title(f'Параметр {feature}')  \n",
    "    plt.ylabel('Количество')\n",
    "    plt.xticks([0,1])\n",
    "    plt.grid()\n",
    "    plt.show()"
   ]
  },
  {
   "cell_type": "markdown",
   "metadata": {},
   "source": [
    "1) По параметру гендер отток одинаковый\n",
    "\n",
    "2) Видим, что люди живущие далеко от фитнес клуба в 40% случаев уходят в отток и только 60% остаются в качестве клиентов.\n",
    "\n",
    "3) Клиентов, которые не относятся к партнерской программе, немного больше (на 5%) тех, кто находится в системе партнерской программы. Однако, отток среди категории \"непартнеров\" выше и составляет 33% против 20%. \n",
    "\n",
    "4) Людей пришедших по промо акции \"друг\" - меньше, однако оттока среди них так же меньше. Отток среди группы пришедших по промоакции составляет 15%, в то время как другая группа показывает результат оттока в 31%.\n",
    "\n",
    "5) Номер контактного телефона записан у большинства посетителей. Если посититель не оставил контактный номер, то отток составляет 27%, если оставил - 26%.\n",
    "\n",
    "6) Отток среди людей посещающих групповые занятия составляет 17%, та групаа, которая не посещает групповые занятияю уходит в отток в 33% случаев."
   ]
  },
  {
   "cell_type": "markdown",
   "metadata": {},
   "source": [
    "######  Изучим матрицу корреляции"
   ]
  },
  {
   "cell_type": "code",
   "execution_count": 14,
   "metadata": {},
   "outputs": [
    {
     "data": {
      "text/plain": [
       "<AxesSubplot:>"
      ]
     },
     "execution_count": 14,
     "metadata": {},
     "output_type": "execute_result"
    },
    {
     "data": {
      "image/png": "[encoded data removed]",
      "text/plain": [
       "<Figure size 864x648 with 2 Axes>"
      ]
     },
     "metadata": {
      "needs_background": "light"
     },
     "output_type": "display_data"
    }
   ],
   "source": [
    "corr_gym = gym.corr() #построим таблицу корреляции\n",
    "\n",
    "plt.figure(figsize=(12, 9))\n",
    "sns.heatmap(corr_gym, \n",
    "            center= 0, \n",
    "            annot = True, \n",
    "            square = True, \n",
    "            linewidths=1, \n",
    "            linecolor='black', \n",
    "            cmap= 'coolwarm'\n",
    "           )"
   ]
  },
  {
   "cell_type": "markdown",
   "metadata": {},
   "source": [
    "Видно, что присутсвуют мультиколлинеарные параметры: month_to_end_contract сильно коррелируется с contract_period и avg_class_frequency_current_month коррелируется с  avg_class_frequency_total. "
   ]
  },
  {
   "cell_type": "markdown",
   "metadata": {},
   "source": [
    "**Выводы**:\n",
    "\n",
    "1) Отток не связан с половым признаком\n",
    "\n",
    "2) Люди живущие дальше от фитнес клуба уходят без возврата чаще\n",
    "\n",
    "3) Клиенты,работающие в команиях-партнерах, более привязаны к фитнес-клубу и уходят реже.\n",
    "\n",
    "4) Люди пришедшие по промоакции остаются чаще.\n",
    "\n",
    "5) Наличие оставленного контактного номера телефона никак не сказывается на факт оттока\n",
    "\n",
    "6) Чем короче абонемент, тем вероятность ухода больше.\n",
    "\n",
    "7) Клиенты, которые ходят на групповые занятия реже уходят.\n",
    "\n",
    "8) Средний возраст оставшихся клиентов 29.98, ушедших - 26.99. \n",
    "\n",
    "9) Группа, ушедшая в отток, тратила меньше денег на дополнительные услуги.\n",
    "\n",
    "12) Люди, которые проводят в спортзале стабильно 2 дня и более в неделю, остаются посетителями клуба. Средняя посещаемость отточной группы составляет менее 1,5 дней в неделю.\n"
   ]
  },
  {
   "cell_type": "markdown",
   "metadata": {},
   "source": [
    "## Построим модель прогнозирования оттока клиентов"
   ]
  },
  {
   "cell_type": "markdown",
   "metadata": {},
   "source": [
    "Разбьем данные на обучающую и валидационную выборку функцией train_test_split()."
   ]
  },
  {
   "cell_type": "code",
   "execution_count": 15,
   "metadata": {},
   "outputs": [],
   "source": [
    "#разделим наши данные на признаки (матрица X) и целевую переменную (y)\n",
    "x = gym.drop(['churn'], axis = 1 ) #признаки\n",
    "y = gym['churn']  #целевая переменная\n",
    "\n",
    "#разделяем модель на обучающую и валидационную выборки\n",
    "x_train, x_test, y_train, y_test = train_test_split(x, y, test_size=0.2)\n",
    "\n",
    "#стандартизируем признаки \n",
    "scaler = StandardScaler()  # создаём объект класса scaler\n",
    "\n",
    "x_train_st = scaler.fit_transform(x_train) #обучаем scaler и одновременно трансформируем матрицу для обучающей выборки\n",
    "\n",
    "x_test_st = scaler.transform(x_test) #применяем стандартизацию к матрице признаков для тестовой выборки"
   ]
  },
  {
   "cell_type": "markdown",
   "metadata": {},
   "source": [
    "Обучим модель на train-выборке двумя способами:\n",
    "\n",
    " 1) логистической регрессией,\n",
    " \n",
    " 2) случайным лесом."
   ]
  },
  {
   "cell_type": "code",
   "execution_count": 16,
   "metadata": {},
   "outputs": [],
   "source": [
    "#функция для вывода метрик\n",
    "\n",
    "def print_all_metrics(y_true, y_pred, y_proba, title='Метрики классификации'):\n",
    "    print(title)\n",
    "    print('\\tAccuracy: {:.2f}'.format(accuracy_score(y_true, y_pred)))\n",
    "    print('\\tPrecision: {:.2f}'.format(precision_score(y_true, y_pred)))\n",
    "    print('\\tRecall: {:.2f}'.format(recall_score(y_true, y_pred)))\n",
    "    print('\\tF1: {:.2f}'.format(f1_score(y_true, y_pred)))\n",
    "    print('\\tROC_AUC: {:.2f}'.format(roc_auc_score(y_true, y_proba)))"
   ]
  },
  {
   "cell_type": "code",
   "execution_count": 17,
   "metadata": {},
   "outputs": [
    {
     "name": "stdout",
     "output_type": "stream",
     "text": [
      "LogisticRegression(random_state=0)\n",
      "Метрики:\n",
      "\tAccuracy: 0.93\n",
      "\tPrecision: 0.88\n",
      "\tRecall: 0.87\n",
      "\tF1: 0.88\n",
      "\tROC_AUC: 0.98\n",
      "RandomForestClassifier(random_state=0)\n",
      "Метрики:\n",
      "\tAccuracy: 0.92\n",
      "\tPrecision: 0.86\n",
      "\tRecall: 0.83\n",
      "\tF1: 0.84\n",
      "\tROC_AUC: 0.98\n"
     ]
    }
   ],
   "source": [
    "#создадим список моделей, фиксируем значение random_state и задаем количество деревьев равных 100\n",
    "models = [LogisticRegression(random_state = 0), RandomForestClassifier(random_state = 0, n_estimators = 100)]\n",
    "\n",
    "#напишим функцию, которая будет обучать медели, делать прогнощы и выводить метрики\n",
    "def make_prediction(m, X_train, y_train, X_test, y_test):\n",
    "    model = m\n",
    "    model.fit(x_train_st, y_train) # обучим модель\n",
    "    \n",
    "    predictions = model.predict(x_test_st)\n",
    "    probabilities = model.predict_proba(x_test_st)[:, 1]\n",
    "    \n",
    "    print_all_metrics(\n",
    "        y_test,\n",
    "        predictions,\n",
    "        probabilities,\n",
    "        title='Метрики:',\n",
    ")\n",
    "    \n",
    "# напишим цикл, который выводит метрики по списку моделей\n",
    "for i in models:\n",
    "    print(i)\n",
    "    make_prediction(\n",
    "        i,\n",
    "        x_train_st,\n",
    "        y_train,\n",
    "        x_test_st,\n",
    "        y_test,\n",
    "    )"
   ]
  },
  {
   "cell_type": "markdown",
   "metadata": {},
   "source": [
    "По всем параметрам модель построенная на основе LogisticRegression показала себя лучше."
   ]
  },
  {
   "cell_type": "markdown",
   "metadata": {},
   "source": [
    "## Кластеризацию клиентов"
   ]
  },
  {
   "cell_type": "code",
   "execution_count": 18,
   "metadata": {},
   "outputs": [],
   "source": [
    "# стандартизируем данные\n",
    "sc = StandardScaler()\n",
    "x_sc = sc.fit_transform(gym.drop('churn', axis = 1))"
   ]
  },
  {
   "cell_type": "markdown",
   "metadata": {},
   "source": [
    "Построим матрицу расстояний функцией linkage() на стандартизованной матрице признаков и нарисуем дендрограмму. На основании полученного графика предположим, какое количество кластеров можно выделить."
   ]
  },
  {
   "cell_type": "code",
   "execution_count": 19,
   "metadata": {},
   "outputs": [
    {
     "data": {
      "image/png": "[encoded data removed]",
      "text/plain": [
       "<Figure size 1080x720 with 1 Axes>"
      ]
     },
     "metadata": {
      "needs_background": "light"
     },
     "output_type": "display_data"
    }
   ],
   "source": [
    "#строим матрцу\n",
    "linked = linkage(x_sc, method = 'ward') \n",
    "#выводим дендограмму\n",
    "plt.figure(figsize=(15, 10))  \n",
    "dendrogram(linked, orientation='top')\n",
    "plt.title('Hierarchial clustering for GYM')\n",
    "plt.show() "
   ]
  },
  {
   "cell_type": "markdown",
   "metadata": {},
   "source": [
    "Можно выделить от 4 до 6 кластеров."
   ]
  },
  {
   "cell_type": "markdown",
   "metadata": {},
   "source": [
    "Обучим модель кластеризации на основании алгоритма K-Means Договоримся за число кластеров принять n=5"
   ]
  },
  {
   "cell_type": "code",
   "execution_count": 20,
   "metadata": {},
   "outputs": [],
   "source": [
    "# задаём модель k_means с числом кластеров 5 и фиксируем значение random_state\n",
    "km = KMeans(n_clusters=5, random_state=0)\n",
    "\n",
    "# прогнозируем кластеры для наблюдений \n",
    "labels = km.fit_predict(x_sc)\n",
    "\n",
    "# сохраняем метки кластера в поле нашего датасета\n",
    "gym_with_cluster = gym\n",
    "gym_with_cluster['cluster'] = labels #добавим столбец с кластерами"
   ]
  },
  {
   "cell_type": "markdown",
   "metadata": {},
   "source": [
    "Посмотрим на средние значения признаков для кластеров. Можно ли сразу что-то заметить?"
   ]
  },
  {
   "cell_type": "code",
   "execution_count": 21,
   "metadata": {
    "scrolled": false
   },
   "outputs": [
    {
     "data": {
      "text/html": [
       "<div>\n",
       "<style scoped>\n",
       "    .dataframe tbody tr th:only-of-type {\n",
       "        vertical-align: middle;\n",
       "    }\n",
       "\n",
       "    .dataframe tbody tr th {\n",
       "        vertical-align: top;\n",
       "    }\n",
       "\n",
       "    .dataframe thead th {\n",
       "        text-align: right;\n",
       "    }\n",
       "</style>\n",
       "<table border=\"1\" class=\"dataframe\">\n",
       "  <thead>\n",
       "    <tr style=\"text-align: right;\">\n",
       "      <th>cluster</th>\n",
       "      <th>0</th>\n",
       "      <th>1</th>\n",
       "      <th>2</th>\n",
       "      <th>3</th>\n",
       "      <th>4</th>\n",
       "    </tr>\n",
       "  </thead>\n",
       "  <tbody>\n",
       "    <tr>\n",
       "      <th>gender</th>\n",
       "      <td>0.502970</td>\n",
       "      <td>0.522078</td>\n",
       "      <td>0.495050</td>\n",
       "      <td>0.485737</td>\n",
       "      <td>0.559666</td>\n",
       "    </tr>\n",
       "    <tr>\n",
       "      <th>near_location</th>\n",
       "      <td>0.959406</td>\n",
       "      <td>0.862338</td>\n",
       "      <td>0.000000</td>\n",
       "      <td>1.000000</td>\n",
       "      <td>0.976134</td>\n",
       "    </tr>\n",
       "    <tr>\n",
       "      <th>partner</th>\n",
       "      <td>0.783168</td>\n",
       "      <td>0.470130</td>\n",
       "      <td>0.463366</td>\n",
       "      <td>0.350238</td>\n",
       "      <td>0.356802</td>\n",
       "    </tr>\n",
       "    <tr>\n",
       "      <th>promo_friends</th>\n",
       "      <td>0.574257</td>\n",
       "      <td>0.306494</td>\n",
       "      <td>0.079208</td>\n",
       "      <td>0.240095</td>\n",
       "      <td>0.230310</td>\n",
       "    </tr>\n",
       "    <tr>\n",
       "      <th>phone</th>\n",
       "      <td>1.000000</td>\n",
       "      <td>0.000000</td>\n",
       "      <td>1.000000</td>\n",
       "      <td>1.000000</td>\n",
       "      <td>0.998807</td>\n",
       "    </tr>\n",
       "    <tr>\n",
       "      <th>contract_period</th>\n",
       "      <td>10.889109</td>\n",
       "      <td>4.787013</td>\n",
       "      <td>2.352475</td>\n",
       "      <td>1.948494</td>\n",
       "      <td>2.669451</td>\n",
       "    </tr>\n",
       "    <tr>\n",
       "      <th>group_visits</th>\n",
       "      <td>0.542574</td>\n",
       "      <td>0.425974</td>\n",
       "      <td>0.215842</td>\n",
       "      <td>0.341521</td>\n",
       "      <td>0.473747</td>\n",
       "    </tr>\n",
       "    <tr>\n",
       "      <th>age</th>\n",
       "      <td>29.982178</td>\n",
       "      <td>29.301299</td>\n",
       "      <td>28.477228</td>\n",
       "      <td>28.167987</td>\n",
       "      <td>30.125298</td>\n",
       "    </tr>\n",
       "    <tr>\n",
       "      <th>avg_additional_charges_total</th>\n",
       "      <td>160.761016</td>\n",
       "      <td>143.957664</td>\n",
       "      <td>135.457501</td>\n",
       "      <td>131.622204</td>\n",
       "      <td>161.657905</td>\n",
       "    </tr>\n",
       "    <tr>\n",
       "      <th>month_to_end_contract</th>\n",
       "      <td>9.954455</td>\n",
       "      <td>4.475325</td>\n",
       "      <td>2.198020</td>\n",
       "      <td>1.856577</td>\n",
       "      <td>2.459427</td>\n",
       "    </tr>\n",
       "    <tr>\n",
       "      <th>lifetime</th>\n",
       "      <td>4.736634</td>\n",
       "      <td>3.924675</td>\n",
       "      <td>2.809901</td>\n",
       "      <td>2.440571</td>\n",
       "      <td>4.898568</td>\n",
       "    </tr>\n",
       "    <tr>\n",
       "      <th>avg_class_frequency_total</th>\n",
       "      <td>1.982055</td>\n",
       "      <td>1.847220</td>\n",
       "      <td>1.660461</td>\n",
       "      <td>1.247634</td>\n",
       "      <td>2.852002</td>\n",
       "    </tr>\n",
       "    <tr>\n",
       "      <th>avg_class_frequency_current_month</th>\n",
       "      <td>1.974789</td>\n",
       "      <td>1.716369</td>\n",
       "      <td>1.477324</td>\n",
       "      <td>1.012983</td>\n",
       "      <td>2.850161</td>\n",
       "    </tr>\n",
       "    <tr>\n",
       "      <th>churn</th>\n",
       "      <td>0.027723</td>\n",
       "      <td>0.267532</td>\n",
       "      <td>0.443564</td>\n",
       "      <td>0.514263</td>\n",
       "      <td>0.068019</td>\n",
       "    </tr>\n",
       "  </tbody>\n",
       "</table>\n",
       "</div>"
      ],
      "text/plain": [
       "cluster                                     0           1           2  \\\n",
       "gender                               0.502970    0.522078    0.495050   \n",
       "near_location                        0.959406    0.862338    0.000000   \n",
       "partner                              0.783168    0.470130    0.463366   \n",
       "promo_friends                        0.574257    0.306494    0.079208   \n",
       "phone                                1.000000    0.000000    1.000000   \n",
       "contract_period                     10.889109    4.787013    2.352475   \n",
       "group_visits                         0.542574    0.425974    0.215842   \n",
       "age                                 29.982178   29.301299   28.477228   \n",
       "avg_additional_charges_total       160.761016  143.957664  135.457501   \n",
       "month_to_end_contract                9.954455    4.475325    2.198020   \n",
       "lifetime                             4.736634    3.924675    2.809901   \n",
       "avg_class_frequency_total            1.982055    1.847220    1.660461   \n",
       "avg_class_frequency_current_month    1.974789    1.716369    1.477324   \n",
       "churn                                0.027723    0.267532    0.443564   \n",
       "\n",
       "cluster                                     3           4  \n",
       "gender                               0.485737    0.559666  \n",
       "near_location                        1.000000    0.976134  \n",
       "partner                              0.350238    0.356802  \n",
       "promo_friends                        0.240095    0.230310  \n",
       "phone                                1.000000    0.998807  \n",
       "contract_period                      1.948494    2.669451  \n",
       "group_visits                         0.341521    0.473747  \n",
       "age                                 28.167987   30.125298  \n",
       "avg_additional_charges_total       131.622204  161.657905  \n",
       "month_to_end_contract                1.856577    2.459427  \n",
       "lifetime                             2.440571    4.898568  \n",
       "avg_class_frequency_total            1.247634    2.852002  \n",
       "avg_class_frequency_current_month    1.012983    2.850161  \n",
       "churn                                0.514263    0.068019  "
      ]
     },
     "execution_count": 21,
     "metadata": {},
     "output_type": "execute_result"
    }
   ],
   "source": [
    "# выводим статистику по средним значениям наших признаков по кластерам\n",
    "cluster_table = gym_with_cluster.groupby(['cluster']).mean()\n",
    "cluster_table.transpose()"
   ]
  },
  {
   "cell_type": "code",
   "execution_count": 22,
   "metadata": {
    "scrolled": true
   },
   "outputs": [
    {
     "data": {
      "text/plain": [
       "3    1262\n",
       "0    1010\n",
       "4     838\n",
       "2     505\n",
       "1     385\n",
       "Name: cluster, dtype: int64"
      ]
     },
     "execution_count": 22,
     "metadata": {},
     "output_type": "execute_result"
    }
   ],
   "source": [
    " gym_with_cluster['cluster'].value_counts() #посмотрми как клиенты распределились по кластерам"
   ]
  },
  {
   "cell_type": "markdown",
   "metadata": {},
   "source": [
    "Самый многочисленный кластер - 0 (1262 посетителя), самый малочисленый кластер - 1 (385 посетителя)."
   ]
  },
  {
   "cell_type": "markdown",
   "metadata": {},
   "source": [
    "После деления на кластеры и вывода средних значений парметров, ярко выражены следующие моменты:\n",
    "\n",
    "1) Кластера почти никак не отличаются по гендерному признаку.\n",
    "\n",
    "2) Кластер 2 характеризуется тем, что все кто попал в эту группу живут вдали от спортивного зала. Кластер 3 напротив характеризуется близким проживанием или трудоустройством посетителей фитнес-клуба.\n",
    "\n",
    "3) В кластер 1 попали поситители не оставившие контактный номер телефона.\n",
    "\n",
    "4) В кластере 0 преобладают люди обладающие годовыми абонементами.\n",
    "\n",
    "5) Внутри кластера 0 отток людей происходит в  2,7% случаев, в кластере 1 - 26,7% случаев, в кластер 2 - 44,4% случаев, в кластере 3 - 51,4% случаев, в кластере 4 - 6,8% случаев. "
   ]
  },
  {
   "cell_type": "markdown",
   "metadata": {},
   "source": [
    "Постройте распределения признаков для кластеров. Можно ли что-то заметить по ним?"
   ]
  },
  {
   "cell_type": "code",
   "execution_count": 23,
   "metadata": {},
   "outputs": [],
   "source": [
    "binar_list = ['gender', 'near_location', 'partner', 'promo_friends', 'phone', 'group_visits'] #список с бинарными признаками\n",
    "\n",
    "no_binar_features_with_cluster = gym_with_cluster.drop(binar_list, axis = 1) #небинарные признаки\n",
    "binar_features_with_cluster = gym_with_cluster.drop(no_binar_features.columns[:7], axis = 1) #бинарные признаки"
   ]
  },
  {
   "cell_type": "code",
   "execution_count": null,
   "metadata": {
    "scrolled": false
   },
   "outputs": [
    {
     "data": {
      "image/png": "[encoded data removed]",
      "text/plain": [
       "<Figure size 1008x360 with 1 Axes>"
      ]
     },
     "metadata": {
      "needs_background": "light"
     },
     "output_type": "display_data"
    },
    {
     "data": {
      "image/png": "[encoded data removed]",
      "text/plain": [
       "<Figure size 1008x360 with 1 Axes>"
      ]
     },
     "metadata": {
      "needs_background": "light"
     },
     "output_type": "display_data"
    },
    {
     "data": {
      "image/png": "[encoded data removed]",
      "text/plain": [
       "<Figure size 1008x360 with 1 Axes>"
      ]
     },
     "metadata": {
      "needs_background": "light"
     },
     "output_type": "display_data"
    }
   ],
   "source": [
    "for feature in no_binar_features.drop('churn', axis = 1): #распределения для небинарных признаков\n",
    "    plt.figure(figsize=(14, 5))\n",
    "    sns.histplot(data=no_binar_features_with_cluster,\n",
    "                x=no_binar_features_with_cluster[feature],\n",
    "                hue='cluster',\n",
    "                palette = \"Set2\",\n",
    "                kde = True,\n",
    "                line_kws={\"lw\":3},\n",
    "                bins = 30)\n",
    "    plt.title(f'Параметр {feature}')  \n",
    "    plt.ylabel('Количество')\n",
    "    plt.grid()\n",
    "    plt.show()\n"
   ]
  },
  {
   "cell_type": "markdown",
   "metadata": {},
   "source": [
    "На гистограммах можно увидеть следущие моменты:\n",
    "\n",
    "1) Третий кластер характеризуется большим количеством абонементов с месячным периодом действия.Кластер 0 характеризуется наибольшим количеством абониментов в 12 месяцев.\n",
    "\n",
    "2) Гистограмма кластера 3 смещена влево, что говорит нам о том, что в этой группе больше людей с меньшим возрастом, чем в других кластерах. А вот кластер 0 наоборот смещен вправо, что означает более возрастных людей.\n",
    "\n",
    "3) Траты более 400 у.е. во всех кластерах встречаются редко.\n",
    "\n",
    "4) Так как срок до окончания текущего действующего абонемента ('Month_to_end_contract') сильно коррелируется с  длительностью текущего действующего абонемента 'Contract_period', то распределения практичски идентичны. Третий кластер характеризуется маленькими значениями до 2 меясцев, для кластера 0 характерны, по большей части, значения от 8 до 12 месяцев.\n",
    "\n",
    "5) На распределении видно, что 3 и 2 кластеры самые \"молодые\" (гистограммы смещены влево относительно других кластеров), т.е. в 3 и 2 кластеры чаще всего попадают новички фитнес-клуба.\n",
    "\n",
    "6) Люди попавшие в третий кластер редко посещают зал чаще 2 раз в неделю, люди из 4 кластера более активные и ходят в зал от 1 до 5 раз в неделю. Что примечательно в 4 кластере практически не встречаются люди, которые ходят менее 1 раза в неделю, ято не скажешь об остальных кластерах."
   ]
  },
  {
   "cell_type": "code",
   "execution_count": null,
   "metadata": {
    "scrolled": false
   },
   "outputs": [],
   "source": [
    "for feature in binar_features_with_cluster.drop(['cluster'], axis = 1): #распределения для небинарных признаков\n",
    "    \n",
    "    plt.figure(figsize=(5, 5))\n",
    "    sns.histplot(data = binar_features_with_cluster, \n",
    "                 x = binar_features_with_cluster[feature], \n",
    "                 hue='cluster',\n",
    "                 palette = \"Set2\",\n",
    "                 kde = False,\n",
    "                 multiple=\"stack\", #поставим \"накопление\" для лучшей демонстрации отноешения класетров  по параметрам\n",
    "                 bins = 20)\n",
    " \n",
    "    plt.title(f'Параметр {feature}')  \n",
    "    plt.ylabel('Количество')\n",
    "    plt.xticks([0,1])\n",
    "    plt.grid()\n",
    "    plt.show()"
   ]
  },
  {
   "cell_type": "markdown",
   "metadata": {},
   "source": [
    "Для каждого полученного кластера посчитаем долю оттока (методом groupby()). Отличаются ли они по доле оттока? Какие кластеры склонны к оттоку, а какие — надёжны?"
   ]
  },
  {
   "cell_type": "code",
   "execution_count": null,
   "metadata": {},
   "outputs": [],
   "source": [
    "#посчитаем долю оттока по кластерам\n",
    "outflow = (gym_with_cluster.query('churn == 1').groupby('cluster')['churn'].count() #сгрупируем ушедших по кластерам\n",
    "           / #делим\n",
    "           gym_with_cluster.query('churn==1')['churn'].count() #посчитаем всех ушедших\n",
    "          ).sort_values(ascending = False)  \n",
    "outflow"
   ]
  },
  {
   "cell_type": "code",
   "execution_count": null,
   "metadata": {},
   "outputs": [],
   "source": [
    "#выведим пирог для лучшей визуализации\n",
    "plt.figsize=(20,7)\n",
    "explode = (0, 0.1, 0.1, 0.1, 0.1)\n",
    "outflow.plot.pie(autopct = '%1.1f%%', rotatelabels = True, explode = explode, figsize=(18,7))"
   ]
  },
  {
   "cell_type": "markdown",
   "metadata": {},
   "source": [
    "Больше всего отток поситителей происходит в кластере 3 (61,2% людей уходят), самый лояльный кластер - 0, вероятность того, что человек в этом кластере уйдет в отток составляет 2,6%."
   ]
  },
  {
   "cell_type": "markdown",
   "metadata": {},
   "source": [
    "## Выводы"
   ]
  },
  {
   "cell_type": "markdown",
   "metadata": {},
   "source": [
    "**EDA:**\n",
    "Был изучен файл, проверены пропуски и типы данных. Значительную предобработку данных делать нет необходимости.\n",
    "\n",
    "**Кластеризация:**\n",
    "Были построены модели прогнозирования оттока клиентов сиспользованием моделей \"Логистической регрессии\" и \"Случайного леса\". Обе модели показывают отличные результаты, однако наиболее точно по всем параметрам предсказывает LogisticRegression()\n",
    "\n",
    "**Кластеризация:**\n",
    "\n",
    "В результате изучения было принято разбить данные на 5 кластеров:\n",
    "\n",
    "*Кластер 0* - в кластере 0 наименьший отток и составляет всего 2,6%. Клиенты данного кластера характеризуются самыми длительыми абонементами, обычно покупают на 1 год. Так же людей в данном кластере отличает более старший возраст. В средем на доп. услуги тратят 161 у.е., что давольно много, уступают только 4 кластеру по тратам. В среденм посещают зал 2 раза в неделю. Много пришедших по промо.\n",
    "\n",
    "*Кластер 1* - в данном кластере в отток уходят 9,7% клиентов. Кластер 1 отличает только то, чо он не предоставил свои контактные данные. Больше этот кластер ничего не выделяет.\n",
    "\n",
    "*Кластер 2* - отток составляет 21,1%. Живут далеко от фитнес клуба. По большей части не ходят на групповые занятия.\n",
    "\n",
    "*Кластер 3* - кластер с самым большим оттоком (61,2%). В зал ходят меньше всех, примерно 1 раз в неделю. Обладатели самых коротких абонементов, чаще всего на 1 месяц. Самый молодой кластер, в нем больше всего молодежи. Больше всех без парнерской программы. \n",
    "\n",
    "*Кластер 4* - отток составляет 5,4%. Ходят на тренировки чаще всех в среднем около 3 дней в неделю. Кто ходил бы меньше 1 дня в неделю не встретишь. Так же как и в кластере 0 здесь собрались люди в районе 30 лет.\n",
    "\n",
    "**Реккомендации**: \n",
    "\n",
    "1) Продавать длительные абонементы\n",
    "\n",
    "2) Активно пытатьтся внедрять человека в групповые занятия\n",
    "\n",
    "3) Активно использовать промоакции и партнерские программы\n",
    "\n",
    "4) Завлекать клиентов в районе 30 лет. Молодежь быстро отваливается.\n",
    "\n",
    "5) Акцентировать внимание на людей проживающих или работающих в непосредственной близости от клуба."
   ]
  }
 ],
 "metadata": {
  "ExecuteTimeLog": [
   {
    "duration": 395,
    "start_time": "2022-06-13T17:34:06.896Z"
   },
   {
    "duration": 69,
    "start_time": "2022-06-13T17:35:25.653Z"
   },
   {
    "duration": 50,
    "start_time": "2022-06-13T17:35:32.124Z"
   },
   {
    "duration": 41,
    "start_time": "2022-06-13T17:41:51.031Z"
   },
   {
    "duration": 15,
    "start_time": "2022-06-13T17:42:26.913Z"
   },
   {
    "duration": 13,
    "start_time": "2022-06-13T17:42:53.981Z"
   },
   {
    "duration": 68,
    "start_time": "2022-06-13T17:43:10.602Z"
   },
   {
    "duration": 8,
    "start_time": "2022-06-13T17:43:19.092Z"
   },
   {
    "duration": 9,
    "start_time": "2022-06-13T17:43:37.996Z"
   },
   {
    "duration": 8,
    "start_time": "2022-06-13T17:43:45.606Z"
   },
   {
    "duration": 4,
    "start_time": "2022-06-13T17:45:26.273Z"
   },
   {
    "duration": 4,
    "start_time": "2022-06-13T17:46:05.417Z"
   },
   {
    "duration": 3,
    "start_time": "2022-06-13T17:46:15.405Z"
   },
   {
    "duration": 3,
    "start_time": "2022-06-13T17:46:25.463Z"
   },
   {
    "duration": 4,
    "start_time": "2022-06-13T17:46:56.222Z"
   },
   {
    "duration": 4,
    "start_time": "2022-06-13T17:47:06.204Z"
   },
   {
    "duration": 10,
    "start_time": "2022-06-13T17:49:32.625Z"
   },
   {
    "duration": 7,
    "start_time": "2022-06-13T17:49:44.044Z"
   },
   {
    "duration": 954,
    "start_time": "2022-06-13T18:18:35.127Z"
   },
   {
    "duration": 4,
    "start_time": "2022-06-13T18:18:50.872Z"
   },
   {
    "duration": 22,
    "start_time": "2022-06-13T18:18:50.878Z"
   },
   {
    "duration": 11,
    "start_time": "2022-06-13T18:18:50.902Z"
   },
   {
    "duration": 3,
    "start_time": "2022-06-13T18:18:50.916Z"
   },
   {
    "duration": 9,
    "start_time": "2022-06-13T18:18:50.921Z"
   },
   {
    "duration": 38,
    "start_time": "2022-06-13T18:18:50.931Z"
   },
   {
    "duration": 1147,
    "start_time": "2022-06-13T18:19:00.262Z"
   },
   {
    "duration": 50,
    "start_time": "2022-06-13T18:19:01.411Z"
   },
   {
    "duration": 17,
    "start_time": "2022-06-13T18:19:01.464Z"
   },
   {
    "duration": 23,
    "start_time": "2022-06-13T18:19:01.483Z"
   },
   {
    "duration": 25,
    "start_time": "2022-06-13T18:19:01.507Z"
   },
   {
    "duration": 21,
    "start_time": "2022-06-13T18:19:01.534Z"
   },
   {
    "duration": 50,
    "start_time": "2022-06-14T17:32:09.635Z"
   },
   {
    "duration": 1424,
    "start_time": "2022-06-14T17:32:18.398Z"
   },
   {
    "duration": 94,
    "start_time": "2022-06-14T17:32:19.825Z"
   },
   {
    "duration": 17,
    "start_time": "2022-06-14T17:32:19.922Z"
   },
   {
    "duration": 4,
    "start_time": "2022-06-14T17:32:19.942Z"
   },
   {
    "duration": 16,
    "start_time": "2022-06-14T17:32:19.948Z"
   },
   {
    "duration": 9,
    "start_time": "2022-06-14T17:32:19.965Z"
   },
   {
    "duration": 5,
    "start_time": "2022-06-14T17:32:19.976Z"
   },
   {
    "duration": 11,
    "start_time": "2022-06-14T17:32:27.087Z"
   },
   {
    "duration": 23,
    "start_time": "2022-06-14T17:32:30.176Z"
   },
   {
    "duration": 95,
    "start_time": "2022-06-14T17:33:08.195Z"
   },
   {
    "duration": 1567,
    "start_time": "2022-06-14T17:33:16.762Z"
   },
   {
    "duration": 1662,
    "start_time": "2022-06-14T17:39:31.077Z"
   },
   {
    "duration": 557,
    "start_time": "2022-06-14T17:41:05.019Z"
   },
   {
    "duration": 1662,
    "start_time": "2022-06-14T17:41:11.823Z"
   },
   {
    "duration": 1506,
    "start_time": "2022-06-14T17:41:42.648Z"
   },
   {
    "duration": 1453,
    "start_time": "2022-06-14T17:42:24.050Z"
   },
   {
    "duration": 1499,
    "start_time": "2022-06-14T17:42:30.558Z"
   },
   {
    "duration": 1622,
    "start_time": "2022-06-14T17:43:38.174Z"
   },
   {
    "duration": 1460,
    "start_time": "2022-06-14T17:43:44.036Z"
   },
   {
    "duration": 1508,
    "start_time": "2022-06-14T17:44:13.188Z"
   },
   {
    "duration": 43,
    "start_time": "2022-06-14T18:20:36.492Z"
   },
   {
    "duration": 4,
    "start_time": "2022-06-14T18:28:07.129Z"
   },
   {
    "duration": 44,
    "start_time": "2022-06-14T18:28:08.699Z"
   },
   {
    "duration": 1062,
    "start_time": "2022-06-14T18:28:17.370Z"
   },
   {
    "duration": 43,
    "start_time": "2022-06-14T18:28:18.434Z"
   },
   {
    "duration": 3,
    "start_time": "2022-06-14T18:28:18.479Z"
   },
   {
    "duration": 48,
    "start_time": "2022-06-14T18:28:18.484Z"
   },
   {
    "duration": 9,
    "start_time": "2022-06-14T18:28:18.534Z"
   },
   {
    "duration": 3,
    "start_time": "2022-06-14T18:28:18.545Z"
   },
   {
    "duration": 7,
    "start_time": "2022-06-14T18:28:18.549Z"
   },
   {
    "duration": 6,
    "start_time": "2022-06-14T18:28:18.558Z"
   },
   {
    "duration": 1458,
    "start_time": "2022-06-14T18:28:18.566Z"
   },
   {
    "duration": 98,
    "start_time": "2022-06-14T18:33:50.931Z"
   },
   {
    "duration": 9,
    "start_time": "2022-06-14T18:34:09.099Z"
   },
   {
    "duration": 4,
    "start_time": "2022-06-14T18:34:14.291Z"
   },
   {
    "duration": 5,
    "start_time": "2022-06-14T18:34:22.834Z"
   },
   {
    "duration": 11,
    "start_time": "2022-06-14T18:34:35.372Z"
   },
   {
    "duration": 4,
    "start_time": "2022-06-14T18:35:31.211Z"
   },
   {
    "duration": 16,
    "start_time": "2022-06-14T18:37:24.681Z"
   },
   {
    "duration": 40,
    "start_time": "2022-06-14T18:41:14.474Z"
   },
   {
    "duration": 23,
    "start_time": "2022-06-14T18:41:22.431Z"
   },
   {
    "duration": 4,
    "start_time": "2022-06-14T18:41:36.389Z"
   },
   {
    "duration": 4,
    "start_time": "2022-06-14T18:41:38.739Z"
   },
   {
    "duration": 5,
    "start_time": "2022-06-14T18:42:08.080Z"
   },
   {
    "duration": 16,
    "start_time": "2022-06-14T18:44:17.362Z"
   },
   {
    "duration": 13,
    "start_time": "2022-06-14T18:44:32.122Z"
   },
   {
    "duration": 19,
    "start_time": "2022-06-14T18:44:55.342Z"
   },
   {
    "duration": 13,
    "start_time": "2022-06-14T18:45:06.753Z"
   },
   {
    "duration": 7,
    "start_time": "2022-06-14T18:46:56.904Z"
   },
   {
    "duration": 11,
    "start_time": "2022-06-14T18:47:02.483Z"
   },
   {
    "duration": 37,
    "start_time": "2022-06-14T18:47:22.487Z"
   },
   {
    "duration": 12,
    "start_time": "2022-06-14T18:47:42.261Z"
   },
   {
    "duration": 18,
    "start_time": "2022-06-14T19:01:07.546Z"
   },
   {
    "duration": 18,
    "start_time": "2022-06-14T19:01:13.763Z"
   },
   {
    "duration": 12,
    "start_time": "2022-06-14T19:01:22.788Z"
   },
   {
    "duration": 12,
    "start_time": "2022-06-14T19:02:46.708Z"
   },
   {
    "duration": 12,
    "start_time": "2022-06-14T19:09:11.334Z"
   },
   {
    "duration": 1436,
    "start_time": "2022-06-15T13:59:58.080Z"
   },
   {
    "duration": 87,
    "start_time": "2022-06-15T13:59:59.518Z"
   },
   {
    "duration": 3,
    "start_time": "2022-06-15T13:59:59.607Z"
   },
   {
    "duration": 52,
    "start_time": "2022-06-15T13:59:59.612Z"
   },
   {
    "duration": 13,
    "start_time": "2022-06-15T13:59:59.665Z"
   },
   {
    "duration": 3,
    "start_time": "2022-06-15T13:59:59.680Z"
   },
   {
    "duration": 14,
    "start_time": "2022-06-15T13:59:59.685Z"
   },
   {
    "duration": 7,
    "start_time": "2022-06-15T13:59:59.700Z"
   },
   {
    "duration": 13,
    "start_time": "2022-06-15T13:59:59.709Z"
   },
   {
    "duration": 1651,
    "start_time": "2022-06-15T13:59:59.764Z"
   },
   {
    "duration": 122,
    "start_time": "2022-06-15T14:04:48.601Z"
   },
   {
    "duration": 1952,
    "start_time": "2022-06-15T14:04:56.316Z"
   },
   {
    "duration": 10,
    "start_time": "2022-06-15T14:15:50.851Z"
   },
   {
    "duration": 1981,
    "start_time": "2022-06-15T14:16:59.411Z"
   },
   {
    "duration": 123,
    "start_time": "2022-06-15T14:17:42.848Z"
   },
   {
    "duration": 133,
    "start_time": "2022-06-15T14:21:32.837Z"
   },
   {
    "duration": 139,
    "start_time": "2022-06-15T14:21:49.595Z"
   },
   {
    "duration": 149,
    "start_time": "2022-06-15T14:21:54.994Z"
   },
   {
    "duration": 128,
    "start_time": "2022-06-15T14:23:29.527Z"
   },
   {
    "duration": 41,
    "start_time": "2022-06-15T14:23:37.662Z"
   },
   {
    "duration": 23,
    "start_time": "2022-06-15T14:24:14.041Z"
   },
   {
    "duration": 2074,
    "start_time": "2022-06-15T14:24:28.878Z"
   },
   {
    "duration": 2052,
    "start_time": "2022-06-15T14:24:34.164Z"
   },
   {
    "duration": 13,
    "start_time": "2022-06-15T14:26:04.989Z"
   },
   {
    "duration": 319,
    "start_time": "2022-06-15T14:26:29.525Z"
   },
   {
    "duration": 433,
    "start_time": "2022-06-15T14:27:01.597Z"
   },
   {
    "duration": 3898,
    "start_time": "2022-06-15T14:30:37.857Z"
   },
   {
    "duration": 1874,
    "start_time": "2022-06-15T14:32:26.456Z"
   },
   {
    "duration": 139,
    "start_time": "2022-06-15T14:33:24.288Z"
   },
   {
    "duration": 13,
    "start_time": "2022-06-15T14:34:30.571Z"
   },
   {
    "duration": 11,
    "start_time": "2022-06-15T14:36:32.150Z"
   },
   {
    "duration": 9,
    "start_time": "2022-06-15T14:36:39.754Z"
   },
   {
    "duration": 10,
    "start_time": "2022-06-15T14:36:43.510Z"
   },
   {
    "duration": 125,
    "start_time": "2022-06-15T14:37:38.195Z"
   },
   {
    "duration": 1957,
    "start_time": "2022-06-15T14:38:45.745Z"
   },
   {
    "duration": 9,
    "start_time": "2022-06-15T14:39:45.622Z"
   },
   {
    "duration": 744,
    "start_time": "2022-06-15T14:51:19.264Z"
   },
   {
    "duration": 174,
    "start_time": "2022-06-15T14:52:57.771Z"
   },
   {
    "duration": 12,
    "start_time": "2022-06-15T14:53:20.459Z"
   },
   {
    "duration": 2041,
    "start_time": "2022-06-15T14:53:33.655Z"
   },
   {
    "duration": 3106,
    "start_time": "2022-06-15T14:55:54.486Z"
   },
   {
    "duration": 1888,
    "start_time": "2022-06-15T15:19:27.069Z"
   },
   {
    "duration": 3504,
    "start_time": "2022-06-15T15:23:13.383Z"
   },
   {
    "duration": 1824,
    "start_time": "2022-06-15T15:23:32.618Z"
   },
   {
    "duration": 1875,
    "start_time": "2022-06-15T15:23:40.545Z"
   },
   {
    "duration": 2122,
    "start_time": "2022-06-15T15:24:17.551Z"
   },
   {
    "duration": 1990,
    "start_time": "2022-06-15T15:24:35.941Z"
   },
   {
    "duration": 3432,
    "start_time": "2022-06-15T15:25:13.650Z"
   },
   {
    "duration": 3318,
    "start_time": "2022-06-15T15:25:32.949Z"
   },
   {
    "duration": 32,
    "start_time": "2022-06-15T15:25:58.899Z"
   },
   {
    "duration": 2287,
    "start_time": "2022-06-15T15:26:01.154Z"
   },
   {
    "duration": 1115,
    "start_time": "2022-06-15T18:07:15.098Z"
   },
   {
    "duration": 73,
    "start_time": "2022-06-15T18:07:16.216Z"
   },
   {
    "duration": 4,
    "start_time": "2022-06-15T18:07:16.290Z"
   },
   {
    "duration": 20,
    "start_time": "2022-06-15T18:07:16.296Z"
   },
   {
    "duration": 3,
    "start_time": "2022-06-15T18:07:16.318Z"
   },
   {
    "duration": 14,
    "start_time": "2022-06-15T18:07:16.323Z"
   },
   {
    "duration": 18,
    "start_time": "2022-06-15T18:07:16.338Z"
   },
   {
    "duration": 49,
    "start_time": "2022-06-15T18:07:16.358Z"
   },
   {
    "duration": 14,
    "start_time": "2022-06-15T18:07:16.408Z"
   },
   {
    "duration": 2099,
    "start_time": "2022-06-15T18:07:16.425Z"
   },
   {
    "duration": 176,
    "start_time": "2022-06-15T18:07:18.526Z"
   },
   {
    "duration": 1603,
    "start_time": "2022-06-15T18:07:18.704Z"
   },
   {
    "duration": 2192,
    "start_time": "2022-06-15T18:17:17.990Z"
   },
   {
    "duration": 752,
    "start_time": "2022-06-15T18:19:40.612Z"
   },
   {
    "duration": 1296,
    "start_time": "2022-06-16T15:33:45.851Z"
   },
   {
    "duration": 144,
    "start_time": "2022-06-16T15:33:47.149Z"
   },
   {
    "duration": 4,
    "start_time": "2022-06-16T15:33:47.295Z"
   },
   {
    "duration": 19,
    "start_time": "2022-06-16T15:33:47.302Z"
   },
   {
    "duration": 4,
    "start_time": "2022-06-16T15:33:47.323Z"
   },
   {
    "duration": 11,
    "start_time": "2022-06-16T15:33:47.329Z"
   },
   {
    "duration": 10,
    "start_time": "2022-06-16T15:33:47.342Z"
   },
   {
    "duration": 46,
    "start_time": "2022-06-16T15:33:47.353Z"
   },
   {
    "duration": 29,
    "start_time": "2022-06-16T15:33:47.401Z"
   },
   {
    "duration": 2045,
    "start_time": "2022-06-16T15:33:47.432Z"
   },
   {
    "duration": 160,
    "start_time": "2022-06-16T15:33:49.479Z"
   },
   {
    "duration": 659,
    "start_time": "2022-06-16T15:33:49.641Z"
   },
   {
    "duration": 1460,
    "start_time": "2022-06-16T15:33:50.303Z"
   },
   {
    "duration": 1965,
    "start_time": "2022-06-16T15:53:52.730Z"
   },
   {
    "duration": 2089,
    "start_time": "2022-06-16T15:54:54.281Z"
   },
   {
    "duration": 85,
    "start_time": "2022-06-16T15:55:35.554Z"
   },
   {
    "duration": 12,
    "start_time": "2022-06-16T15:55:53.706Z"
   },
   {
    "duration": 10,
    "start_time": "2022-06-16T15:56:17.199Z"
   },
   {
    "duration": 1962,
    "start_time": "2022-06-16T15:57:07.395Z"
   },
   {
    "duration": 2472,
    "start_time": "2022-06-16T15:57:29.702Z"
   },
   {
    "duration": 2697,
    "start_time": "2022-06-16T15:58:00.630Z"
   },
   {
    "duration": 2996,
    "start_time": "2022-06-16T15:58:59.448Z"
   },
   {
    "duration": 3212,
    "start_time": "2022-06-16T15:59:11.580Z"
   },
   {
    "duration": 29,
    "start_time": "2022-06-16T15:59:34.675Z"
   },
   {
    "duration": 151,
    "start_time": "2022-06-16T15:59:39.476Z"
   },
   {
    "duration": 2996,
    "start_time": "2022-06-16T15:59:59.980Z"
   },
   {
    "duration": 29,
    "start_time": "2022-06-16T16:01:50.147Z"
   },
   {
    "duration": 46,
    "start_time": "2022-06-16T16:01:53.897Z"
   },
   {
    "duration": 49,
    "start_time": "2022-06-16T16:01:56.311Z"
   },
   {
    "duration": 2935,
    "start_time": "2022-06-16T16:02:02.181Z"
   },
   {
    "duration": 27,
    "start_time": "2022-06-16T16:02:48.218Z"
   },
   {
    "duration": 28,
    "start_time": "2022-06-16T16:02:57.168Z"
   },
   {
    "duration": 3118,
    "start_time": "2022-06-16T16:06:04.735Z"
   },
   {
    "duration": 3460,
    "start_time": "2022-06-16T16:10:43.834Z"
   },
   {
    "duration": 3069,
    "start_time": "2022-06-16T16:10:53.913Z"
   },
   {
    "duration": 10,
    "start_time": "2022-06-16T16:13:23.351Z"
   },
   {
    "duration": 10,
    "start_time": "2022-06-16T16:13:26.924Z"
   },
   {
    "duration": 5,
    "start_time": "2022-06-16T16:15:42.936Z"
   },
   {
    "duration": 5,
    "start_time": "2022-06-16T16:16:07.559Z"
   },
   {
    "duration": 18,
    "start_time": "2022-06-16T16:16:19.997Z"
   },
   {
    "duration": 5,
    "start_time": "2022-06-16T16:16:42.379Z"
   },
   {
    "duration": 25,
    "start_time": "2022-06-16T16:17:08.815Z"
   },
   {
    "duration": 15,
    "start_time": "2022-06-16T16:18:00.707Z"
   },
   {
    "duration": 842,
    "start_time": "2022-06-16T16:18:20.316Z"
   },
   {
    "duration": 8,
    "start_time": "2022-06-16T16:26:01.215Z"
   },
   {
    "duration": 10,
    "start_time": "2022-06-16T16:26:49.153Z"
   },
   {
    "duration": 14,
    "start_time": "2022-06-16T16:27:03.228Z"
   },
   {
    "duration": 10,
    "start_time": "2022-06-16T16:27:13.222Z"
   },
   {
    "duration": 19,
    "start_time": "2022-06-16T16:48:58.182Z"
   },
   {
    "duration": 5,
    "start_time": "2022-06-16T16:49:21.267Z"
   },
   {
    "duration": 15,
    "start_time": "2022-06-16T16:49:32.361Z"
   },
   {
    "duration": 118,
    "start_time": "2022-06-16T16:49:58.951Z"
   },
   {
    "duration": 18,
    "start_time": "2022-06-16T16:50:43.650Z"
   },
   {
    "duration": 12,
    "start_time": "2022-06-16T16:51:23.378Z"
   },
   {
    "duration": 4,
    "start_time": "2022-06-16T16:51:30.791Z"
   },
   {
    "duration": 4,
    "start_time": "2022-06-16T16:51:35.464Z"
   },
   {
    "duration": 38,
    "start_time": "2022-06-16T16:52:45.948Z"
   },
   {
    "duration": 293,
    "start_time": "2022-06-16T16:52:50.745Z"
   },
   {
    "duration": 292,
    "start_time": "2022-06-16T16:53:01.491Z"
   },
   {
    "duration": 29,
    "start_time": "2022-06-16T16:53:09.944Z"
   },
   {
    "duration": 4,
    "start_time": "2022-06-16T16:54:15.437Z"
   },
   {
    "duration": 18,
    "start_time": "2022-06-16T16:55:26.418Z"
   },
   {
    "duration": 10,
    "start_time": "2022-06-16T16:55:37.169Z"
   },
   {
    "duration": 4,
    "start_time": "2022-06-16T16:56:06.593Z"
   },
   {
    "duration": 25,
    "start_time": "2022-06-16T16:56:11.923Z"
   },
   {
    "duration": 26,
    "start_time": "2022-06-16T16:56:20.640Z"
   },
   {
    "duration": 17,
    "start_time": "2022-06-16T16:56:52.935Z"
   },
   {
    "duration": 30,
    "start_time": "2022-06-16T16:56:58.947Z"
   },
   {
    "duration": 50,
    "start_time": "2022-06-16T16:58:15.626Z"
   },
   {
    "duration": 8,
    "start_time": "2022-06-16T16:58:22.057Z"
   },
   {
    "duration": 8,
    "start_time": "2022-06-16T16:58:25.866Z"
   },
   {
    "duration": 12,
    "start_time": "2022-06-16T16:58:38.549Z"
   },
   {
    "duration": 36,
    "start_time": "2022-06-16T17:00:57.403Z"
   },
   {
    "duration": 11,
    "start_time": "2022-06-16T17:01:12.478Z"
   },
   {
    "duration": 11,
    "start_time": "2022-06-16T17:02:47.462Z"
   },
   {
    "duration": 11,
    "start_time": "2022-06-16T17:03:03.761Z"
   },
   {
    "duration": 3,
    "start_time": "2022-06-16T17:05:08.291Z"
   },
   {
    "duration": 4,
    "start_time": "2022-06-16T17:05:11.380Z"
   },
   {
    "duration": 4,
    "start_time": "2022-06-16T17:05:18.439Z"
   },
   {
    "duration": 3,
    "start_time": "2022-06-16T17:05:23.450Z"
   },
   {
    "duration": 3,
    "start_time": "2022-06-16T17:05:27.668Z"
   },
   {
    "duration": 28,
    "start_time": "2022-06-16T17:05:43.943Z"
   },
   {
    "duration": 9,
    "start_time": "2022-06-16T17:05:54.197Z"
   },
   {
    "duration": 4,
    "start_time": "2022-06-16T17:05:59.309Z"
   },
   {
    "duration": 237,
    "start_time": "2022-06-16T18:29:45.647Z"
   },
   {
    "duration": 276,
    "start_time": "2022-06-16T18:30:04.139Z"
   },
   {
    "duration": 9,
    "start_time": "2022-06-16T18:30:25.742Z"
   },
   {
    "duration": 3,
    "start_time": "2022-06-16T19:02:57.740Z"
   },
   {
    "duration": 5,
    "start_time": "2022-06-16T19:03:05.358Z"
   },
   {
    "duration": 13,
    "start_time": "2022-06-16T19:03:11.504Z"
   },
   {
    "duration": 19,
    "start_time": "2022-06-16T19:03:28.897Z"
   },
   {
    "duration": 6,
    "start_time": "2022-06-16T19:07:25.963Z"
   },
   {
    "duration": 13,
    "start_time": "2022-06-16T19:07:31.190Z"
   },
   {
    "duration": 13,
    "start_time": "2022-06-16T19:07:37.669Z"
   },
   {
    "duration": 16,
    "start_time": "2022-06-16T19:07:44.668Z"
   },
   {
    "duration": 15,
    "start_time": "2022-06-16T19:08:02.967Z"
   },
   {
    "duration": 17,
    "start_time": "2022-06-16T19:08:10.291Z"
   },
   {
    "duration": 17,
    "start_time": "2022-06-16T19:08:16.663Z"
   },
   {
    "duration": 11,
    "start_time": "2022-06-16T19:08:20.776Z"
   },
   {
    "duration": 18,
    "start_time": "2022-06-16T19:08:39.438Z"
   },
   {
    "duration": 19,
    "start_time": "2022-06-16T19:08:48.063Z"
   },
   {
    "duration": 15,
    "start_time": "2022-06-16T19:08:52.870Z"
   },
   {
    "duration": 11,
    "start_time": "2022-06-16T19:09:08.471Z"
   },
   {
    "duration": 12,
    "start_time": "2022-06-16T19:09:35.089Z"
   },
   {
    "duration": 15,
    "start_time": "2022-06-16T19:09:42.463Z"
   },
   {
    "duration": 10,
    "start_time": "2022-06-16T19:10:04.288Z"
   },
   {
    "duration": 18,
    "start_time": "2022-06-16T19:10:07.167Z"
   },
   {
    "duration": 11,
    "start_time": "2022-06-16T19:10:25.491Z"
   },
   {
    "duration": 10,
    "start_time": "2022-06-16T19:10:59.293Z"
   },
   {
    "duration": 11,
    "start_time": "2022-06-16T19:11:05.102Z"
   },
   {
    "duration": 14,
    "start_time": "2022-06-16T19:11:31.495Z"
   },
   {
    "duration": 12,
    "start_time": "2022-06-16T19:11:41.056Z"
   },
   {
    "duration": 18,
    "start_time": "2022-06-16T19:11:45.622Z"
   },
   {
    "duration": 11,
    "start_time": "2022-06-16T19:12:00.103Z"
   },
   {
    "duration": 5,
    "start_time": "2022-06-16T19:12:29.275Z"
   },
   {
    "duration": 974,
    "start_time": "2022-06-16T19:16:35.490Z"
   },
   {
    "duration": 2668,
    "start_time": "2022-06-16T19:17:38.595Z"
   },
   {
    "duration": 1245,
    "start_time": "2022-06-16T19:26:24.370Z"
   },
   {
    "duration": 477,
    "start_time": "2022-06-16T19:31:49.526Z"
   },
   {
    "duration": 1004,
    "start_time": "2022-06-16T19:32:37.239Z"
   },
   {
    "duration": 44,
    "start_time": "2022-06-16T19:32:38.245Z"
   },
   {
    "duration": 3,
    "start_time": "2022-06-16T19:32:38.291Z"
   },
   {
    "duration": 14,
    "start_time": "2022-06-16T19:32:38.295Z"
   },
   {
    "duration": 2,
    "start_time": "2022-06-16T19:32:38.311Z"
   },
   {
    "duration": 7,
    "start_time": "2022-06-16T19:32:38.315Z"
   },
   {
    "duration": 23,
    "start_time": "2022-06-16T19:32:38.324Z"
   },
   {
    "duration": 41,
    "start_time": "2022-06-16T19:32:38.348Z"
   },
   {
    "duration": 11,
    "start_time": "2022-06-16T19:32:38.391Z"
   },
   {
    "duration": 4,
    "start_time": "2022-06-16T19:32:38.404Z"
   },
   {
    "duration": 135,
    "start_time": "2022-06-16T19:32:38.410Z"
   },
   {
    "duration": 0,
    "start_time": "2022-06-16T19:32:38.547Z"
   },
   {
    "duration": 0,
    "start_time": "2022-06-16T19:32:38.548Z"
   },
   {
    "duration": 9,
    "start_time": "2022-06-16T19:33:37.840Z"
   },
   {
    "duration": 1423,
    "start_time": "2022-06-16T19:33:50.554Z"
   },
   {
    "duration": 1288,
    "start_time": "2022-06-16T19:34:55.255Z"
   },
   {
    "duration": 1461,
    "start_time": "2022-06-16T19:35:33.096Z"
   },
   {
    "duration": 1351,
    "start_time": "2022-06-16T19:35:47.193Z"
   },
   {
    "duration": 1526,
    "start_time": "2022-06-16T19:36:06.719Z"
   },
   {
    "duration": 1479,
    "start_time": "2022-06-16T19:36:41.586Z"
   },
   {
    "duration": 1306,
    "start_time": "2022-06-16T19:36:54.943Z"
   },
   {
    "duration": 1491,
    "start_time": "2022-06-16T19:38:02.762Z"
   },
   {
    "duration": 277,
    "start_time": "2022-06-16T19:42:10.207Z"
   },
   {
    "duration": 213,
    "start_time": "2022-06-16T19:42:23.862Z"
   },
   {
    "duration": 939,
    "start_time": "2022-06-16T19:42:32.138Z"
   },
   {
    "duration": 209,
    "start_time": "2022-06-16T19:42:41.750Z"
   },
   {
    "duration": 1526,
    "start_time": "2022-06-16T19:42:48.363Z"
   },
   {
    "duration": 2177,
    "start_time": "2022-06-16T19:45:36.139Z"
   },
   {
    "duration": 1510,
    "start_time": "2022-06-16T19:46:04.735Z"
   },
   {
    "duration": 1558,
    "start_time": "2022-06-16T19:47:07.460Z"
   },
   {
    "duration": 1293,
    "start_time": "2022-06-16T19:49:00.448Z"
   },
   {
    "duration": 4,
    "start_time": "2022-06-16T19:50:21.811Z"
   },
   {
    "duration": 227,
    "start_time": "2022-06-16T19:50:25.211Z"
   },
   {
    "duration": 1425,
    "start_time": "2022-06-16T19:50:42.738Z"
   },
   {
    "duration": 1231,
    "start_time": "2022-06-16T19:51:10.422Z"
   },
   {
    "duration": 1176,
    "start_time": "2022-06-16T19:51:33.119Z"
   },
   {
    "duration": 1963,
    "start_time": "2022-06-16T19:59:43.485Z"
   },
   {
    "duration": 3006,
    "start_time": "2022-06-16T20:02:44.457Z"
   },
   {
    "duration": 1681,
    "start_time": "2022-06-16T20:03:44.167Z"
   },
   {
    "duration": 1455,
    "start_time": "2022-06-16T20:07:52.688Z"
   },
   {
    "duration": 47,
    "start_time": "2022-06-17T10:12:03.800Z"
   },
   {
    "duration": 1359,
    "start_time": "2022-06-17T10:12:12.550Z"
   },
   {
    "duration": 89,
    "start_time": "2022-06-17T10:12:13.911Z"
   },
   {
    "duration": 4,
    "start_time": "2022-06-17T10:12:14.001Z"
   },
   {
    "duration": 17,
    "start_time": "2022-06-17T10:12:14.007Z"
   },
   {
    "duration": 4,
    "start_time": "2022-06-17T10:12:14.026Z"
   },
   {
    "duration": 14,
    "start_time": "2022-06-17T10:12:14.032Z"
   },
   {
    "duration": 25,
    "start_time": "2022-06-17T10:12:14.047Z"
   },
   {
    "duration": 62,
    "start_time": "2022-06-17T10:12:14.074Z"
   },
   {
    "duration": 22,
    "start_time": "2022-06-17T10:12:14.137Z"
   },
   {
    "duration": 14,
    "start_time": "2022-06-17T10:12:14.162Z"
   },
   {
    "duration": 1756,
    "start_time": "2022-06-17T10:12:14.177Z"
   },
   {
    "duration": 498,
    "start_time": "2022-06-17T10:12:15.935Z"
   },
   {
    "duration": 0,
    "start_time": "2022-06-17T10:12:16.434Z"
   },
   {
    "duration": 0,
    "start_time": "2022-06-17T10:12:16.435Z"
   },
   {
    "duration": 1330,
    "start_time": "2022-06-17T10:12:28.811Z"
   },
   {
    "duration": 1609,
    "start_time": "2022-06-17T10:12:32.064Z"
   },
   {
    "duration": 30,
    "start_time": "2022-06-17T10:14:00.604Z"
   },
   {
    "duration": 390,
    "start_time": "2022-06-17T10:14:37.432Z"
   },
   {
    "duration": 474,
    "start_time": "2022-06-17T10:15:09.832Z"
   },
   {
    "duration": 385,
    "start_time": "2022-06-17T10:15:24.635Z"
   },
   {
    "duration": 7,
    "start_time": "2022-06-17T11:44:24.771Z"
   },
   {
    "duration": 1229,
    "start_time": "2022-06-17T11:44:32.413Z"
   },
   {
    "duration": 46,
    "start_time": "2022-06-17T11:44:33.644Z"
   },
   {
    "duration": 5,
    "start_time": "2022-06-17T11:44:33.691Z"
   },
   {
    "duration": 27,
    "start_time": "2022-06-17T11:44:33.698Z"
   },
   {
    "duration": 4,
    "start_time": "2022-06-17T11:44:33.726Z"
   },
   {
    "duration": 8,
    "start_time": "2022-06-17T11:44:33.731Z"
   },
   {
    "duration": 7,
    "start_time": "2022-06-17T11:44:33.740Z"
   },
   {
    "duration": 50,
    "start_time": "2022-06-17T11:44:33.748Z"
   },
   {
    "duration": 12,
    "start_time": "2022-06-17T11:44:33.800Z"
   },
   {
    "duration": 5,
    "start_time": "2022-06-17T11:44:33.814Z"
   },
   {
    "duration": 1880,
    "start_time": "2022-06-17T11:44:33.820Z"
   },
   {
    "duration": 1168,
    "start_time": "2022-06-17T11:44:35.701Z"
   },
   {
    "duration": 1408,
    "start_time": "2022-06-17T11:44:36.870Z"
   },
   {
    "duration": 7,
    "start_time": "2022-06-17T11:44:38.280Z"
   },
   {
    "duration": 8,
    "start_time": "2022-06-17T12:30:04.779Z"
   },
   {
    "duration": 16,
    "start_time": "2022-06-17T12:32:49.459Z"
   },
   {
    "duration": 47,
    "start_time": "2022-06-18T09:49:31.165Z"
   },
   {
    "duration": 10,
    "start_time": "2022-06-18T09:49:40.492Z"
   },
   {
    "duration": 0,
    "start_time": "2022-06-18T09:49:40.504Z"
   },
   {
    "duration": 0,
    "start_time": "2022-06-18T09:49:40.505Z"
   },
   {
    "duration": 46,
    "start_time": "2022-06-18T09:49:40.508Z"
   },
   {
    "duration": 0,
    "start_time": "2022-06-18T09:49:40.556Z"
   },
   {
    "duration": 0,
    "start_time": "2022-06-18T09:49:40.558Z"
   },
   {
    "duration": 0,
    "start_time": "2022-06-18T09:49:40.559Z"
   },
   {
    "duration": 0,
    "start_time": "2022-06-18T09:49:40.560Z"
   },
   {
    "duration": 0,
    "start_time": "2022-06-18T09:49:40.561Z"
   },
   {
    "duration": 0,
    "start_time": "2022-06-18T09:49:40.562Z"
   },
   {
    "duration": 0,
    "start_time": "2022-06-18T09:49:40.563Z"
   },
   {
    "duration": 0,
    "start_time": "2022-06-18T09:49:40.564Z"
   },
   {
    "duration": 8,
    "start_time": "2022-06-18T09:49:40.565Z"
   },
   {
    "duration": 8,
    "start_time": "2022-06-18T09:49:40.576Z"
   },
   {
    "duration": 0,
    "start_time": "2022-06-18T09:49:40.586Z"
   },
   {
    "duration": 1521,
    "start_time": "2022-06-18T09:50:00.671Z"
   },
   {
    "duration": 1305,
    "start_time": "2022-06-18T09:50:06.447Z"
   },
   {
    "duration": 80,
    "start_time": "2022-06-18T09:50:07.755Z"
   },
   {
    "duration": 3,
    "start_time": "2022-06-18T09:50:07.836Z"
   },
   {
    "duration": 20,
    "start_time": "2022-06-18T09:50:07.842Z"
   },
   {
    "duration": 4,
    "start_time": "2022-06-18T09:50:07.864Z"
   },
   {
    "duration": 9,
    "start_time": "2022-06-18T09:50:07.869Z"
   },
   {
    "duration": 9,
    "start_time": "2022-06-18T09:50:07.879Z"
   },
   {
    "duration": 64,
    "start_time": "2022-06-18T09:50:07.890Z"
   },
   {
    "duration": 13,
    "start_time": "2022-06-18T09:50:07.956Z"
   },
   {
    "duration": 12,
    "start_time": "2022-06-18T09:50:07.972Z"
   },
   {
    "duration": 1655,
    "start_time": "2022-06-18T09:50:07.986Z"
   },
   {
    "duration": 1156,
    "start_time": "2022-06-18T09:50:09.651Z"
   },
   {
    "duration": 1592,
    "start_time": "2022-06-18T09:50:10.809Z"
   },
   {
    "duration": 16,
    "start_time": "2022-06-18T09:50:12.403Z"
   },
   {
    "duration": 133,
    "start_time": "2022-06-18T09:50:12.421Z"
   },
   {
    "duration": 59,
    "start_time": "2022-06-18T09:50:33.803Z"
   },
   {
    "duration": 140,
    "start_time": "2022-06-18T09:50:46.321Z"
   },
   {
    "duration": 90,
    "start_time": "2022-06-18T09:50:54.171Z"
   },
   {
    "duration": 4,
    "start_time": "2022-06-18T09:51:29.719Z"
   },
   {
    "duration": 281,
    "start_time": "2022-06-18T09:51:35.575Z"
   },
   {
    "duration": 1242,
    "start_time": "2022-06-18T09:54:07.600Z"
   },
   {
    "duration": 43,
    "start_time": "2022-06-18T09:54:08.844Z"
   },
   {
    "duration": 3,
    "start_time": "2022-06-18T09:54:08.889Z"
   },
   {
    "duration": 17,
    "start_time": "2022-06-18T09:54:08.894Z"
   },
   {
    "duration": 4,
    "start_time": "2022-06-18T09:54:08.912Z"
   },
   {
    "duration": 15,
    "start_time": "2022-06-18T09:54:08.917Z"
   },
   {
    "duration": 9,
    "start_time": "2022-06-18T09:54:08.934Z"
   },
   {
    "duration": 48,
    "start_time": "2022-06-18T09:54:08.945Z"
   },
   {
    "duration": 12,
    "start_time": "2022-06-18T09:54:08.995Z"
   },
   {
    "duration": 6,
    "start_time": "2022-06-18T09:54:09.009Z"
   },
   {
    "duration": 1741,
    "start_time": "2022-06-18T09:54:09.016Z"
   },
   {
    "duration": 1174,
    "start_time": "2022-06-18T09:54:10.758Z"
   },
   {
    "duration": 1603,
    "start_time": "2022-06-18T09:54:11.933Z"
   },
   {
    "duration": 12,
    "start_time": "2022-06-18T09:54:13.538Z"
   },
   {
    "duration": 5,
    "start_time": "2022-06-18T09:54:13.552Z"
   },
   {
    "duration": 413,
    "start_time": "2022-06-18T09:54:13.558Z"
   },
   {
    "duration": 1386,
    "start_time": "2022-06-18T09:57:31.724Z"
   },
   {
    "duration": 47,
    "start_time": "2022-06-18T09:57:33.112Z"
   },
   {
    "duration": 4,
    "start_time": "2022-06-18T09:57:33.161Z"
   },
   {
    "duration": 21,
    "start_time": "2022-06-18T09:57:33.167Z"
   },
   {
    "duration": 5,
    "start_time": "2022-06-18T09:57:33.190Z"
   },
   {
    "duration": 16,
    "start_time": "2022-06-18T09:57:33.197Z"
   },
   {
    "duration": 12,
    "start_time": "2022-06-18T09:57:33.217Z"
   },
   {
    "duration": 55,
    "start_time": "2022-06-18T09:57:33.238Z"
   },
   {
    "duration": 13,
    "start_time": "2022-06-18T09:57:33.295Z"
   },
   {
    "duration": 5,
    "start_time": "2022-06-18T09:57:33.310Z"
   },
   {
    "duration": 1746,
    "start_time": "2022-06-18T09:57:33.317Z"
   },
   {
    "duration": 1314,
    "start_time": "2022-06-18T09:57:35.065Z"
   },
   {
    "duration": 1551,
    "start_time": "2022-06-18T09:57:36.381Z"
   },
   {
    "duration": 12,
    "start_time": "2022-06-18T09:57:37.933Z"
   },
   {
    "duration": 6,
    "start_time": "2022-06-18T09:57:37.947Z"
   },
   {
    "duration": 199,
    "start_time": "2022-06-18T09:57:37.954Z"
   },
   {
    "duration": 4,
    "start_time": "2022-06-18T10:33:15.006Z"
   },
   {
    "duration": 991,
    "start_time": "2022-06-18T10:33:55.855Z"
   },
   {
    "duration": 620,
    "start_time": "2022-06-18T10:34:39.295Z"
   },
   {
    "duration": 764,
    "start_time": "2022-06-18T10:37:55.644Z"
   },
   {
    "duration": 658,
    "start_time": "2022-06-18T10:43:13.086Z"
   },
   {
    "duration": 1160,
    "start_time": "2022-06-18T10:43:44.038Z"
   },
   {
    "duration": 920,
    "start_time": "2022-06-18T10:44:44.167Z"
   },
   {
    "duration": 701,
    "start_time": "2022-06-18T10:45:10.712Z"
   },
   {
    "duration": 1404,
    "start_time": "2022-06-18T10:56:32.536Z"
   },
   {
    "duration": 61,
    "start_time": "2022-06-18T10:56:33.942Z"
   },
   {
    "duration": 4,
    "start_time": "2022-06-18T10:56:34.004Z"
   },
   {
    "duration": 15,
    "start_time": "2022-06-18T10:56:34.010Z"
   },
   {
    "duration": 3,
    "start_time": "2022-06-18T10:56:34.027Z"
   },
   {
    "duration": 9,
    "start_time": "2022-06-18T10:56:34.032Z"
   },
   {
    "duration": 9,
    "start_time": "2022-06-18T10:56:34.042Z"
   },
   {
    "duration": 64,
    "start_time": "2022-06-18T10:56:34.056Z"
   },
   {
    "duration": 13,
    "start_time": "2022-06-18T10:56:34.122Z"
   },
   {
    "duration": 6,
    "start_time": "2022-06-18T10:56:34.138Z"
   },
   {
    "duration": 2056,
    "start_time": "2022-06-18T10:56:34.146Z"
   },
   {
    "duration": 1275,
    "start_time": "2022-06-18T10:56:36.204Z"
   },
   {
    "duration": 1691,
    "start_time": "2022-06-18T10:56:37.481Z"
   },
   {
    "duration": 14,
    "start_time": "2022-06-18T10:56:39.173Z"
   },
   {
    "duration": 22,
    "start_time": "2022-06-18T10:56:39.189Z"
   },
   {
    "duration": 1133,
    "start_time": "2022-06-18T10:56:39.213Z"
   },
   {
    "duration": 123,
    "start_time": "2022-06-18T11:07:20.169Z"
   },
   {
    "duration": 1326,
    "start_time": "2022-06-18T11:07:26.598Z"
   },
   {
    "duration": 49,
    "start_time": "2022-06-18T11:07:27.926Z"
   },
   {
    "duration": 4,
    "start_time": "2022-06-18T11:07:27.976Z"
   },
   {
    "duration": 18,
    "start_time": "2022-06-18T11:07:27.983Z"
   },
   {
    "duration": 4,
    "start_time": "2022-06-18T11:07:28.003Z"
   },
   {
    "duration": 17,
    "start_time": "2022-06-18T11:07:28.009Z"
   },
   {
    "duration": 7,
    "start_time": "2022-06-18T11:07:28.027Z"
   },
   {
    "duration": 56,
    "start_time": "2022-06-18T11:07:28.036Z"
   },
   {
    "duration": 12,
    "start_time": "2022-06-18T11:07:28.094Z"
   },
   {
    "duration": 4,
    "start_time": "2022-06-18T11:07:28.109Z"
   },
   {
    "duration": 1859,
    "start_time": "2022-06-18T11:07:28.115Z"
   },
   {
    "duration": 1307,
    "start_time": "2022-06-18T11:07:29.976Z"
   },
   {
    "duration": 1859,
    "start_time": "2022-06-18T11:07:31.285Z"
   },
   {
    "duration": 23,
    "start_time": "2022-06-18T11:07:33.146Z"
   },
   {
    "duration": 18,
    "start_time": "2022-06-18T11:07:33.171Z"
   },
   {
    "duration": 954,
    "start_time": "2022-06-18T11:07:33.191Z"
   },
   {
    "duration": 1124,
    "start_time": "2022-06-18T11:07:34.147Z"
   },
   {
    "duration": 712,
    "start_time": "2022-06-18T11:10:21.725Z"
   },
   {
    "duration": 10,
    "start_time": "2022-06-18T11:16:10.827Z"
   },
   {
    "duration": 120912,
    "start_time": "2022-06-18T11:16:12.244Z"
   },
   {
    "duration": 70,
    "start_time": "2022-06-18T11:23:07.148Z"
   },
   {
    "duration": 8030,
    "start_time": "2022-06-18T11:23:35.523Z"
   },
   {
    "duration": 6939,
    "start_time": "2022-06-18T11:24:48.338Z"
   },
   {
    "duration": 70719,
    "start_time": "2022-06-18T11:25:00.381Z"
   },
   {
    "duration": 0,
    "start_time": "2022-06-18T11:26:11.102Z"
   },
   {
    "duration": 43,
    "start_time": "2022-06-18T11:26:27.139Z"
   },
   {
    "duration": 36,
    "start_time": "2022-06-18T11:26:32.848Z"
   },
   {
    "duration": 26,
    "start_time": "2022-06-18T11:26:52.417Z"
   },
   {
    "duration": 8024,
    "start_time": "2022-06-18T11:27:45.969Z"
   },
   {
    "duration": 4023,
    "start_time": "2022-06-18T11:27:55.398Z"
   },
   {
    "duration": 6,
    "start_time": "2022-06-18T11:28:38.807Z"
   },
   {
    "duration": 15598,
    "start_time": "2022-06-18T11:29:56.805Z"
   },
   {
    "duration": 0,
    "start_time": "2022-06-18T11:30:12.405Z"
   },
   {
    "duration": 8035,
    "start_time": "2022-06-18T11:30:26.896Z"
   },
   {
    "duration": 8036,
    "start_time": "2022-06-18T11:31:02.198Z"
   },
   {
    "duration": 28952,
    "start_time": "2022-06-18T11:32:04.820Z"
   },
   {
    "duration": 4032,
    "start_time": "2022-06-18T11:32:56.769Z"
   },
   {
    "duration": 4031,
    "start_time": "2022-06-18T11:33:08.416Z"
   },
   {
    "duration": 4030,
    "start_time": "2022-06-18T11:34:37.192Z"
   },
   {
    "duration": 1351,
    "start_time": "2022-06-18T11:39:54.807Z"
   },
   {
    "duration": 1102,
    "start_time": "2022-06-18T11:46:48.585Z"
   },
   {
    "duration": 4,
    "start_time": "2022-06-18T11:47:28.028Z"
   },
   {
    "duration": 22,
    "start_time": "2022-06-18T11:47:30.220Z"
   },
   {
    "duration": 17,
    "start_time": "2022-06-18T11:53:49.774Z"
   },
   {
    "duration": 21,
    "start_time": "2022-06-18T11:53:56.379Z"
   },
   {
    "duration": 17,
    "start_time": "2022-06-18T11:55:23.604Z"
   },
   {
    "duration": 13,
    "start_time": "2022-06-18T11:55:32.191Z"
   },
   {
    "duration": 7,
    "start_time": "2022-06-18T11:56:15.513Z"
   },
   {
    "duration": 7,
    "start_time": "2022-06-18T11:56:34.744Z"
   },
   {
    "duration": 19,
    "start_time": "2022-06-18T11:56:39.328Z"
   },
   {
    "duration": 33,
    "start_time": "2022-06-18T11:57:05.194Z"
   },
   {
    "duration": 27,
    "start_time": "2022-06-18T11:57:24.043Z"
   },
   {
    "duration": 22,
    "start_time": "2022-06-18T11:57:27.112Z"
   },
   {
    "duration": 39,
    "start_time": "2022-06-18T11:57:32.956Z"
   },
   {
    "duration": 19,
    "start_time": "2022-06-18T11:57:45.911Z"
   },
   {
    "duration": 19,
    "start_time": "2022-06-18T11:57:55.729Z"
   },
   {
    "duration": 29,
    "start_time": "2022-06-18T11:58:05.775Z"
   },
   {
    "duration": 34,
    "start_time": "2022-06-18T11:58:16.354Z"
   },
   {
    "duration": 22,
    "start_time": "2022-06-18T11:58:28.091Z"
   },
   {
    "duration": 10,
    "start_time": "2022-06-18T11:58:53.095Z"
   },
   {
    "duration": 13,
    "start_time": "2022-06-18T11:59:05.637Z"
   },
   {
    "duration": 13,
    "start_time": "2022-06-18T11:59:16.006Z"
   },
   {
    "duration": 17,
    "start_time": "2022-06-18T11:59:54.773Z"
   },
   {
    "duration": 19,
    "start_time": "2022-06-18T12:00:42.869Z"
   },
   {
    "duration": 7,
    "start_time": "2022-06-18T12:00:49.571Z"
   },
   {
    "duration": 34,
    "start_time": "2022-06-18T12:01:20.262Z"
   },
   {
    "duration": 24,
    "start_time": "2022-06-18T12:01:53.578Z"
   },
   {
    "duration": 15,
    "start_time": "2022-06-18T12:02:22.734Z"
   },
   {
    "duration": 1344,
    "start_time": "2022-06-18T12:03:30.316Z"
   },
   {
    "duration": 1647,
    "start_time": "2022-06-18T12:03:49.791Z"
   },
   {
    "duration": 56,
    "start_time": "2022-06-18T12:03:51.441Z"
   },
   {
    "duration": 4,
    "start_time": "2022-06-18T12:03:51.500Z"
   },
   {
    "duration": 19,
    "start_time": "2022-06-18T12:03:51.507Z"
   },
   {
    "duration": 4,
    "start_time": "2022-06-18T12:03:51.528Z"
   },
   {
    "duration": 12,
    "start_time": "2022-06-18T12:03:51.534Z"
   },
   {
    "duration": 13,
    "start_time": "2022-06-18T12:03:51.548Z"
   },
   {
    "duration": 79,
    "start_time": "2022-06-18T12:03:51.566Z"
   },
   {
    "duration": 34,
    "start_time": "2022-06-18T12:03:51.647Z"
   },
   {
    "duration": 13,
    "start_time": "2022-06-18T12:03:51.684Z"
   },
   {
    "duration": 2085,
    "start_time": "2022-06-18T12:03:51.699Z"
   },
   {
    "duration": 1609,
    "start_time": "2022-06-18T12:03:53.787Z"
   },
   {
    "duration": 2016,
    "start_time": "2022-06-18T12:03:55.400Z"
   },
   {
    "duration": 15,
    "start_time": "2022-06-18T12:03:57.418Z"
   },
   {
    "duration": 6,
    "start_time": "2022-06-18T12:03:57.435Z"
   },
   {
    "duration": 964,
    "start_time": "2022-06-18T12:03:57.444Z"
   },
   {
    "duration": 12,
    "start_time": "2022-06-18T12:03:58.410Z"
   },
   {
    "duration": 126414,
    "start_time": "2022-06-18T12:03:58.424Z"
   },
   {
    "duration": 1521,
    "start_time": "2022-06-18T12:06:04.840Z"
   },
   {
    "duration": 0,
    "start_time": "2022-06-18T12:06:06.366Z"
   },
   {
    "duration": 1005,
    "start_time": "2022-06-18T12:08:44.877Z"
   },
   {
    "duration": 22,
    "start_time": "2022-06-18T12:08:47.779Z"
   },
   {
    "duration": 5,
    "start_time": "2022-06-18T12:14:14.806Z"
   },
   {
    "duration": 16,
    "start_time": "2022-06-18T12:14:39.427Z"
   },
   {
    "duration": 11,
    "start_time": "2022-06-18T12:14:51.814Z"
   },
   {
    "duration": 6,
    "start_time": "2022-06-18T12:15:33.132Z"
   },
   {
    "duration": 24,
    "start_time": "2022-06-18T12:21:46.378Z"
   },
   {
    "duration": 17,
    "start_time": "2022-06-18T12:21:59.887Z"
   },
   {
    "duration": 13,
    "start_time": "2022-06-18T12:22:49.036Z"
   },
   {
    "duration": 587,
    "start_time": "2022-06-18T12:25:07.450Z"
   },
   {
    "duration": 603,
    "start_time": "2022-06-18T12:25:43.720Z"
   },
   {
    "duration": 10,
    "start_time": "2022-06-18T12:26:19.017Z"
   },
   {
    "duration": 10,
    "start_time": "2022-06-18T12:26:25.990Z"
   },
   {
    "duration": 816,
    "start_time": "2022-06-18T12:26:28.868Z"
   },
   {
    "duration": 729,
    "start_time": "2022-06-18T12:26:56.057Z"
   },
   {
    "duration": 39,
    "start_time": "2022-06-18T12:29:13.774Z"
   },
   {
    "duration": 680,
    "start_time": "2022-06-18T12:29:23.213Z"
   },
   {
    "duration": 1087,
    "start_time": "2022-06-18T12:29:34.300Z"
   },
   {
    "duration": 50,
    "start_time": "2022-06-18T15:44:56.665Z"
   },
   {
    "duration": 1514,
    "start_time": "2022-06-18T15:45:02.254Z"
   },
   {
    "duration": 89,
    "start_time": "2022-06-18T15:45:03.770Z"
   },
   {
    "duration": 4,
    "start_time": "2022-06-18T15:45:03.861Z"
   },
   {
    "duration": 19,
    "start_time": "2022-06-18T15:45:03.869Z"
   },
   {
    "duration": 4,
    "start_time": "2022-06-18T15:45:03.890Z"
   },
   {
    "duration": 12,
    "start_time": "2022-06-18T15:45:03.896Z"
   },
   {
    "duration": 16,
    "start_time": "2022-06-18T15:45:03.910Z"
   },
   {
    "duration": 51,
    "start_time": "2022-06-18T15:45:03.928Z"
   },
   {
    "duration": 12,
    "start_time": "2022-06-18T15:45:03.981Z"
   },
   {
    "duration": 5,
    "start_time": "2022-06-18T15:45:03.995Z"
   },
   {
    "duration": 1735,
    "start_time": "2022-06-18T15:45:04.002Z"
   },
   {
    "duration": 1268,
    "start_time": "2022-06-18T15:45:05.740Z"
   },
   {
    "duration": 1577,
    "start_time": "2022-06-18T15:45:07.010Z"
   },
   {
    "duration": 13,
    "start_time": "2022-06-18T15:45:08.588Z"
   },
   {
    "duration": 4,
    "start_time": "2022-06-18T15:45:08.603Z"
   },
   {
    "duration": 686,
    "start_time": "2022-06-18T15:45:08.609Z"
   },
   {
    "duration": 9,
    "start_time": "2022-06-18T15:45:09.297Z"
   },
   {
    "duration": 109899,
    "start_time": "2022-06-18T15:45:09.307Z"
   },
   {
    "duration": 1327,
    "start_time": "2022-06-18T15:46:59.208Z"
   },
   {
    "duration": 99,
    "start_time": "2022-06-18T15:47:00.542Z"
   },
   {
    "duration": 9,
    "start_time": "2022-06-18T15:47:00.643Z"
   },
   {
    "duration": 642,
    "start_time": "2022-06-18T15:47:00.654Z"
   },
   {
    "duration": 6,
    "start_time": "2022-06-18T15:47:35.232Z"
   },
   {
    "duration": 6,
    "start_time": "2022-06-18T16:03:50.881Z"
   },
   {
    "duration": 5,
    "start_time": "2022-06-18T16:03:59.801Z"
   },
   {
    "duration": 111,
    "start_time": "2022-06-18T16:04:10.712Z"
   },
   {
    "duration": 4,
    "start_time": "2022-06-18T16:04:26.260Z"
   },
   {
    "duration": 4,
    "start_time": "2022-06-18T16:04:28.878Z"
   },
   {
    "duration": 10,
    "start_time": "2022-06-18T16:04:36.760Z"
   },
   {
    "duration": 3,
    "start_time": "2022-06-18T16:04:59.431Z"
   },
   {
    "duration": 6,
    "start_time": "2022-06-18T16:05:03.041Z"
   },
   {
    "duration": 71,
    "start_time": "2022-06-18T16:07:39.182Z"
   },
   {
    "duration": 22,
    "start_time": "2022-06-18T16:07:43.684Z"
   },
   {
    "duration": 836,
    "start_time": "2022-06-18T16:07:50.156Z"
   },
   {
    "duration": 771,
    "start_time": "2022-06-18T16:08:14.953Z"
   },
   {
    "duration": 155,
    "start_time": "2022-06-18T16:10:50.095Z"
   },
   {
    "duration": 46,
    "start_time": "2022-06-18T16:10:58.397Z"
   },
   {
    "duration": 377,
    "start_time": "2022-06-18T16:11:05.253Z"
   },
   {
    "duration": 151,
    "start_time": "2022-06-18T16:11:13.188Z"
   },
   {
    "duration": 24,
    "start_time": "2022-06-18T16:11:19.353Z"
   },
   {
    "duration": 17,
    "start_time": "2022-06-18T16:11:22.625Z"
   },
   {
    "duration": 872,
    "start_time": "2022-06-18T16:11:33.182Z"
   },
   {
    "duration": 39,
    "start_time": "2022-06-18T16:13:30.552Z"
   },
   {
    "duration": 178,
    "start_time": "2022-06-18T16:13:34.675Z"
   },
   {
    "duration": 165,
    "start_time": "2022-06-18T16:13:39.811Z"
   },
   {
    "duration": 603,
    "start_time": "2022-06-18T16:13:55.199Z"
   },
   {
    "duration": 37,
    "start_time": "2022-06-18T16:16:08.737Z"
   },
   {
    "duration": 723,
    "start_time": "2022-06-18T16:16:12.152Z"
   },
   {
    "duration": 27,
    "start_time": "2022-06-18T16:16:52.469Z"
   },
   {
    "duration": 684,
    "start_time": "2022-06-18T16:16:55.090Z"
   },
   {
    "duration": 33,
    "start_time": "2022-06-18T16:32:55.077Z"
   },
   {
    "duration": 954,
    "start_time": "2022-06-18T16:32:57.633Z"
   },
   {
    "duration": 724,
    "start_time": "2022-06-18T16:33:11.113Z"
   },
   {
    "duration": 996,
    "start_time": "2022-06-18T16:33:40.841Z"
   },
   {
    "duration": 47,
    "start_time": "2022-06-18T16:34:46.441Z"
   },
   {
    "duration": 1191,
    "start_time": "2022-06-18T16:34:49.119Z"
   },
   {
    "duration": 1071,
    "start_time": "2022-06-18T16:36:00.222Z"
   },
   {
    "duration": 983,
    "start_time": "2022-06-18T16:36:10.643Z"
   },
   {
    "duration": 853,
    "start_time": "2022-06-18T16:36:16.607Z"
   },
   {
    "duration": 35,
    "start_time": "2022-06-18T16:36:42.350Z"
   },
   {
    "duration": 1046,
    "start_time": "2022-06-18T16:36:46.379Z"
   },
   {
    "duration": 7132,
    "start_time": "2022-06-18T16:45:33.364Z"
   },
   {
    "duration": 7636,
    "start_time": "2022-06-18T16:46:17.776Z"
   },
   {
    "duration": 6944,
    "start_time": "2022-06-18T16:46:31.140Z"
   },
   {
    "duration": 7003,
    "start_time": "2022-06-18T16:49:49.157Z"
   },
   {
    "duration": 6855,
    "start_time": "2022-06-18T16:50:35.294Z"
   },
   {
    "duration": 29,
    "start_time": "2022-06-18T16:51:16.377Z"
   },
   {
    "duration": 7256,
    "start_time": "2022-06-18T16:51:28.730Z"
   },
   {
    "duration": 4506,
    "start_time": "2022-06-18T16:52:13.390Z"
   },
   {
    "duration": 4360,
    "start_time": "2022-06-18T16:52:39.083Z"
   },
   {
    "duration": 4111,
    "start_time": "2022-06-18T16:53:30.844Z"
   },
   {
    "duration": 4373,
    "start_time": "2022-06-18T16:55:18.674Z"
   },
   {
    "duration": 4439,
    "start_time": "2022-06-18T16:57:19.755Z"
   },
   {
    "duration": 4113,
    "start_time": "2022-06-18T16:57:29.240Z"
   },
   {
    "duration": 4527,
    "start_time": "2022-06-18T16:58:24.422Z"
   },
   {
    "duration": 15,
    "start_time": "2022-06-18T17:09:41.661Z"
   },
   {
    "duration": 1311,
    "start_time": "2022-06-18T17:10:04.279Z"
   },
   {
    "duration": 2899,
    "start_time": "2022-06-18T17:10:30.697Z"
   },
   {
    "duration": 3150,
    "start_time": "2022-06-18T17:11:02.104Z"
   },
   {
    "duration": 2716,
    "start_time": "2022-06-18T17:11:15.094Z"
   },
   {
    "duration": 2542,
    "start_time": "2022-06-18T17:11:33.393Z"
   },
   {
    "duration": 28,
    "start_time": "2022-06-18T17:12:46.011Z"
   },
   {
    "duration": 14,
    "start_time": "2022-06-18T17:13:04.261Z"
   },
   {
    "duration": 2603,
    "start_time": "2022-06-18T17:14:26.073Z"
   },
   {
    "duration": 2949,
    "start_time": "2022-06-18T17:14:57.761Z"
   },
   {
    "duration": 2882,
    "start_time": "2022-06-18T17:27:34.825Z"
   },
   {
    "duration": 4228,
    "start_time": "2022-06-18T17:28:00.016Z"
   },
   {
    "duration": 3230,
    "start_time": "2022-06-18T17:28:20.288Z"
   },
   {
    "duration": 7,
    "start_time": "2022-06-18T17:48:47.085Z"
   },
   {
    "duration": 9,
    "start_time": "2022-06-18T17:48:57.639Z"
   },
   {
    "duration": 21,
    "start_time": "2022-06-18T17:49:09.327Z"
   },
   {
    "duration": 9,
    "start_time": "2022-06-18T17:49:27.963Z"
   },
   {
    "duration": 12,
    "start_time": "2022-06-18T17:54:39.187Z"
   },
   {
    "duration": 10,
    "start_time": "2022-06-18T17:54:48.774Z"
   },
   {
    "duration": 13,
    "start_time": "2022-06-18T17:55:02.583Z"
   },
   {
    "duration": 376,
    "start_time": "2022-06-18T17:55:31.871Z"
   },
   {
    "duration": 304,
    "start_time": "2022-06-18T17:55:45.979Z"
   },
   {
    "duration": 4,
    "start_time": "2022-06-18T17:56:05.175Z"
   },
   {
    "duration": 16,
    "start_time": "2022-06-18T17:56:13.900Z"
   },
   {
    "duration": 94,
    "start_time": "2022-06-18T17:56:35.363Z"
   },
   {
    "duration": 113,
    "start_time": "2022-06-18T17:56:45.450Z"
   },
   {
    "duration": 123,
    "start_time": "2022-06-18T17:57:15.752Z"
   },
   {
    "duration": 110,
    "start_time": "2022-06-18T17:57:48.001Z"
   },
   {
    "duration": 127,
    "start_time": "2022-06-18T17:58:11.160Z"
   },
   {
    "duration": 14,
    "start_time": "2022-06-18T17:59:30.854Z"
   },
   {
    "duration": 128,
    "start_time": "2022-06-18T17:59:38.421Z"
   },
   {
    "duration": 13,
    "start_time": "2022-06-18T18:00:29.967Z"
   },
   {
    "duration": 116,
    "start_time": "2022-06-18T18:00:37.696Z"
   },
   {
    "duration": 15,
    "start_time": "2022-06-18T18:00:56.157Z"
   },
   {
    "duration": 149,
    "start_time": "2022-06-18T18:00:58.815Z"
   },
   {
    "duration": 11,
    "start_time": "2022-06-18T18:02:40.350Z"
   },
   {
    "duration": 14,
    "start_time": "2022-06-18T18:02:42.869Z"
   },
   {
    "duration": 12,
    "start_time": "2022-06-18T18:02:48.962Z"
   },
   {
    "duration": 14,
    "start_time": "2022-06-18T18:03:03.448Z"
   },
   {
    "duration": 114,
    "start_time": "2022-06-18T18:03:05.411Z"
   },
   {
    "duration": 127,
    "start_time": "2022-06-18T18:03:28.110Z"
   },
   {
    "duration": 125,
    "start_time": "2022-06-18T18:03:35.547Z"
   },
   {
    "duration": 112,
    "start_time": "2022-06-18T18:03:46.699Z"
   },
   {
    "duration": 111,
    "start_time": "2022-06-18T18:03:54.093Z"
   },
   {
    "duration": 8,
    "start_time": "2022-06-18T18:04:31.469Z"
   },
   {
    "duration": 12,
    "start_time": "2022-06-18T18:04:35.893Z"
   },
   {
    "duration": 116,
    "start_time": "2022-06-18T18:04:45.206Z"
   },
   {
    "duration": 12,
    "start_time": "2022-06-18T18:05:44.066Z"
   },
   {
    "duration": 73,
    "start_time": "2022-06-19T07:27:23.047Z"
   },
   {
    "duration": 1520,
    "start_time": "2022-06-19T07:27:32.203Z"
   },
   {
    "duration": 83,
    "start_time": "2022-06-19T07:27:33.725Z"
   },
   {
    "duration": 4,
    "start_time": "2022-06-19T07:27:33.811Z"
   },
   {
    "duration": 22,
    "start_time": "2022-06-19T07:27:33.817Z"
   },
   {
    "duration": 14,
    "start_time": "2022-06-19T07:27:33.841Z"
   },
   {
    "duration": 20,
    "start_time": "2022-06-19T07:27:33.857Z"
   },
   {
    "duration": 16,
    "start_time": "2022-06-19T07:27:33.879Z"
   },
   {
    "duration": 49,
    "start_time": "2022-06-19T07:27:33.897Z"
   },
   {
    "duration": 22,
    "start_time": "2022-06-19T07:27:33.949Z"
   },
   {
    "duration": 6,
    "start_time": "2022-06-19T07:27:33.974Z"
   },
   {
    "duration": 1860,
    "start_time": "2022-06-19T07:27:33.982Z"
   },
   {
    "duration": 1239,
    "start_time": "2022-06-19T07:27:35.844Z"
   },
   {
    "duration": 1819,
    "start_time": "2022-06-19T07:27:37.085Z"
   },
   {
    "duration": 13,
    "start_time": "2022-06-19T07:27:38.906Z"
   },
   {
    "duration": 10,
    "start_time": "2022-06-19T07:27:38.921Z"
   },
   {
    "duration": 1090,
    "start_time": "2022-06-19T07:27:38.933Z"
   },
   {
    "duration": 10,
    "start_time": "2022-06-19T07:27:40.025Z"
   },
   {
    "duration": 116592,
    "start_time": "2022-06-19T07:27:40.037Z"
   },
   {
    "duration": 1738,
    "start_time": "2022-06-19T07:29:36.630Z"
   },
   {
    "duration": 103,
    "start_time": "2022-06-19T07:29:38.372Z"
   },
   {
    "duration": 5,
    "start_time": "2022-06-19T07:29:38.476Z"
   },
   {
    "duration": 3980,
    "start_time": "2022-06-19T07:29:38.483Z"
   },
   {
    "duration": 2577,
    "start_time": "2022-06-19T07:29:42.466Z"
   },
   {
    "duration": 18,
    "start_time": "2022-06-19T07:29:45.045Z"
   },
   {
    "duration": 134,
    "start_time": "2022-06-19T07:29:45.065Z"
   },
   {
    "duration": 2588,
    "start_time": "2022-06-19T07:34:28.500Z"
   },
   {
    "duration": 42,
    "start_time": "2022-06-19T07:38:32.146Z"
   },
   {
    "duration": 106,
    "start_time": "2022-06-19T07:38:41.644Z"
   },
   {
    "duration": 14,
    "start_time": "2022-06-19T07:38:59.966Z"
   },
   {
    "duration": 18,
    "start_time": "2022-06-19T07:39:06.254Z"
   },
   {
    "duration": 226,
    "start_time": "2022-06-19T07:39:18.756Z"
   },
   {
    "duration": 27,
    "start_time": "2022-06-19T07:41:24.181Z"
   },
   {
    "duration": 257,
    "start_time": "2022-06-19T07:41:27.965Z"
   },
   {
    "duration": 216,
    "start_time": "2022-06-19T07:41:53.164Z"
   },
   {
    "duration": 11,
    "start_time": "2022-06-19T07:42:11.589Z"
   },
   {
    "duration": 12,
    "start_time": "2022-06-19T07:42:16.357Z"
   },
   {
    "duration": 10,
    "start_time": "2022-06-19T07:42:20.058Z"
   },
   {
    "duration": 19,
    "start_time": "2022-06-19T07:44:35.556Z"
   },
   {
    "duration": 366,
    "start_time": "2022-06-19T07:44:55.848Z"
   },
   {
    "duration": 17,
    "start_time": "2022-06-19T07:45:15.992Z"
   },
   {
    "duration": 192,
    "start_time": "2022-06-19T07:45:28.978Z"
   },
   {
    "duration": 353,
    "start_time": "2022-06-19T07:45:38.087Z"
   },
   {
    "duration": 5256,
    "start_time": "2022-06-19T07:45:58.757Z"
   },
   {
    "duration": 2090,
    "start_time": "2022-06-19T07:46:17.571Z"
   },
   {
    "duration": 349,
    "start_time": "2022-06-19T07:46:33.214Z"
   },
   {
    "duration": 19,
    "start_time": "2022-06-19T07:46:47.871Z"
   },
   {
    "duration": 652,
    "start_time": "2022-06-19T07:47:46.190Z"
   },
   {
    "duration": 12,
    "start_time": "2022-06-19T07:48:11.605Z"
   },
   {
    "duration": 272,
    "start_time": "2022-06-19T07:48:15.257Z"
   },
   {
    "duration": 637,
    "start_time": "2022-06-19T07:49:16.154Z"
   },
   {
    "duration": 5077,
    "start_time": "2022-06-19T07:50:24.404Z"
   },
   {
    "duration": 2470,
    "start_time": "2022-06-19T07:50:49.984Z"
   },
   {
    "duration": 2290,
    "start_time": "2022-06-19T07:51:48.441Z"
   },
   {
    "duration": 2124,
    "start_time": "2022-06-19T07:52:52.746Z"
   },
   {
    "duration": 2255,
    "start_time": "2022-06-19T07:53:13.549Z"
   },
   {
    "duration": 2279,
    "start_time": "2022-06-19T07:53:40.517Z"
   },
   {
    "duration": 1561,
    "start_time": "2022-06-19T07:54:28.744Z"
   },
   {
    "duration": 1426,
    "start_time": "2022-06-19T07:54:39.499Z"
   },
   {
    "duration": 1831,
    "start_time": "2022-06-19T07:55:26.165Z"
   },
   {
    "duration": 2374,
    "start_time": "2022-06-19T07:57:37.411Z"
   },
   {
    "duration": 2249,
    "start_time": "2022-06-19T07:59:26.912Z"
   },
   {
    "duration": 2876,
    "start_time": "2022-06-19T07:59:38.968Z"
   },
   {
    "duration": 2378,
    "start_time": "2022-06-19T08:00:03.956Z"
   },
   {
    "duration": 3570,
    "start_time": "2022-06-19T08:00:18.503Z"
   },
   {
    "duration": 59,
    "start_time": "2022-06-19T11:41:57.323Z"
   },
   {
    "duration": 8,
    "start_time": "2022-06-19T11:42:04.064Z"
   },
   {
    "duration": 1587,
    "start_time": "2022-06-19T11:42:09.405Z"
   },
   {
    "duration": 176,
    "start_time": "2022-06-19T11:42:10.995Z"
   },
   {
    "duration": 5,
    "start_time": "2022-06-19T11:42:11.173Z"
   },
   {
    "duration": 52,
    "start_time": "2022-06-19T11:42:11.181Z"
   },
   {
    "duration": 75,
    "start_time": "2022-06-19T11:42:11.236Z"
   },
   {
    "duration": 14,
    "start_time": "2022-06-19T11:42:11.313Z"
   },
   {
    "duration": 23,
    "start_time": "2022-06-19T11:42:11.330Z"
   },
   {
    "duration": 24,
    "start_time": "2022-06-19T11:42:11.356Z"
   },
   {
    "duration": 85,
    "start_time": "2022-06-19T11:42:11.382Z"
   },
   {
    "duration": 22,
    "start_time": "2022-06-19T11:42:11.470Z"
   },
   {
    "duration": 19,
    "start_time": "2022-06-19T11:42:11.496Z"
   },
   {
    "duration": 2438,
    "start_time": "2022-06-19T11:42:11.518Z"
   },
   {
    "duration": 1435,
    "start_time": "2022-06-19T11:42:13.959Z"
   },
   {
    "duration": 1579,
    "start_time": "2022-06-19T11:42:15.396Z"
   },
   {
    "duration": 17,
    "start_time": "2022-06-19T11:42:16.977Z"
   },
   {
    "duration": 4,
    "start_time": "2022-06-19T11:42:16.995Z"
   },
   {
    "duration": 735,
    "start_time": "2022-06-19T11:42:17.001Z"
   },
   {
    "duration": 12,
    "start_time": "2022-06-19T11:42:17.740Z"
   },
   {
    "duration": 1333,
    "start_time": "2022-06-19T11:44:28.992Z"
   },
   {
    "duration": 67,
    "start_time": "2022-06-19T11:44:30.328Z"
   },
   {
    "duration": 4,
    "start_time": "2022-06-19T11:44:30.397Z"
   },
   {
    "duration": 28,
    "start_time": "2022-06-19T11:44:30.403Z"
   },
   {
    "duration": 19,
    "start_time": "2022-06-19T11:44:30.432Z"
   },
   {
    "duration": 15,
    "start_time": "2022-06-19T11:44:30.453Z"
   },
   {
    "duration": 13,
    "start_time": "2022-06-19T11:44:30.469Z"
   },
   {
    "duration": 14,
    "start_time": "2022-06-19T11:44:30.483Z"
   },
   {
    "duration": 58,
    "start_time": "2022-06-19T11:44:30.499Z"
   },
   {
    "duration": 16,
    "start_time": "2022-06-19T11:44:30.562Z"
   },
   {
    "duration": 5,
    "start_time": "2022-06-19T11:44:30.580Z"
   },
   {
    "duration": 2518,
    "start_time": "2022-06-19T11:44:30.587Z"
   },
   {
    "duration": 1541,
    "start_time": "2022-06-19T11:44:33.107Z"
   },
   {
    "duration": 1448,
    "start_time": "2022-06-19T11:44:34.650Z"
   },
   {
    "duration": 12,
    "start_time": "2022-06-19T11:44:36.100Z"
   },
   {
    "duration": 4,
    "start_time": "2022-06-19T11:44:36.114Z"
   },
   {
    "duration": 919,
    "start_time": "2022-06-19T11:44:36.119Z"
   },
   {
    "duration": 11,
    "start_time": "2022-06-19T11:44:37.041Z"
   },
   {
    "duration": 1402,
    "start_time": "2022-06-19T11:46:25.611Z"
   },
   {
    "duration": 56,
    "start_time": "2022-06-19T11:46:27.015Z"
   },
   {
    "duration": 4,
    "start_time": "2022-06-19T11:46:27.072Z"
   },
   {
    "duration": 17,
    "start_time": "2022-06-19T11:46:27.078Z"
   },
   {
    "duration": 3,
    "start_time": "2022-06-19T11:46:27.097Z"
   },
   {
    "duration": 10,
    "start_time": "2022-06-19T11:46:27.101Z"
   },
   {
    "duration": 10,
    "start_time": "2022-06-19T11:46:27.112Z"
   },
   {
    "duration": 20,
    "start_time": "2022-06-19T11:46:27.123Z"
   },
   {
    "duration": 64,
    "start_time": "2022-06-19T11:46:27.145Z"
   },
   {
    "duration": 13,
    "start_time": "2022-06-19T11:46:27.211Z"
   },
   {
    "duration": 10,
    "start_time": "2022-06-19T11:46:27.226Z"
   },
   {
    "duration": 2346,
    "start_time": "2022-06-19T11:46:27.240Z"
   },
   {
    "duration": 1452,
    "start_time": "2022-06-19T11:46:29.587Z"
   },
   {
    "duration": 1419,
    "start_time": "2022-06-19T11:46:31.040Z"
   },
   {
    "duration": 12,
    "start_time": "2022-06-19T11:46:32.460Z"
   },
   {
    "duration": 16,
    "start_time": "2022-06-19T11:46:32.473Z"
   },
   {
    "duration": 674,
    "start_time": "2022-06-19T11:46:32.491Z"
   },
   {
    "duration": 9,
    "start_time": "2022-06-19T11:46:33.167Z"
   },
   {
    "duration": 118851,
    "start_time": "2022-06-19T11:46:33.177Z"
   },
   {
    "duration": 1001,
    "start_time": "2022-06-19T11:48:32.030Z"
   },
   {
    "duration": 97,
    "start_time": "2022-06-19T11:48:33.038Z"
   },
   {
    "duration": 15,
    "start_time": "2022-06-19T11:48:33.137Z"
   },
   {
    "duration": 3868,
    "start_time": "2022-06-19T11:48:33.153Z"
   },
   {
    "duration": 2627,
    "start_time": "2022-06-19T11:48:37.027Z"
   },
   {
    "duration": 15,
    "start_time": "2022-06-19T11:48:39.656Z"
   },
   {
    "duration": 174,
    "start_time": "2022-06-19T11:48:39.673Z"
   },
   {
    "duration": 16,
    "start_time": "2022-06-19T12:38:49.364Z"
   },
   {
    "duration": 7,
    "start_time": "2022-06-19T12:40:42.883Z"
   },
   {
    "duration": 119,
    "start_time": "2022-06-19T12:42:33.395Z"
   },
   {
    "duration": 19,
    "start_time": "2022-06-19T12:42:39.025Z"
   },
   {
    "duration": 12,
    "start_time": "2022-06-19T12:43:47.559Z"
   },
   {
    "duration": 16,
    "start_time": "2022-06-19T12:51:46.634Z"
   },
   {
    "duration": 12,
    "start_time": "2022-06-19T12:52:37.871Z"
   },
   {
    "duration": 6,
    "start_time": "2022-06-19T12:53:09.078Z"
   },
   {
    "duration": 8,
    "start_time": "2022-06-19T12:53:13.402Z"
   },
   {
    "duration": 6,
    "start_time": "2022-06-19T13:05:59.361Z"
   },
   {
    "duration": 6,
    "start_time": "2022-06-19T13:06:28.509Z"
   },
   {
    "duration": 6,
    "start_time": "2022-06-19T13:06:35.128Z"
   },
   {
    "duration": 23,
    "start_time": "2022-06-19T13:06:50.226Z"
   },
   {
    "duration": 6,
    "start_time": "2022-06-19T13:06:55.793Z"
   },
   {
    "duration": 14,
    "start_time": "2022-06-19T18:16:07.856Z"
   },
   {
    "duration": 1413,
    "start_time": "2022-06-19T18:41:29.706Z"
   },
   {
    "duration": 52,
    "start_time": "2022-06-19T18:41:31.121Z"
   },
   {
    "duration": 3,
    "start_time": "2022-06-19T18:41:31.174Z"
   },
   {
    "duration": 17,
    "start_time": "2022-06-19T18:41:31.180Z"
   },
   {
    "duration": 4,
    "start_time": "2022-06-19T18:41:31.201Z"
   },
   {
    "duration": 13,
    "start_time": "2022-06-19T18:41:31.207Z"
   },
   {
    "duration": 11,
    "start_time": "2022-06-19T18:41:31.222Z"
   },
   {
    "duration": 61,
    "start_time": "2022-06-19T18:41:31.235Z"
   },
   {
    "duration": 8,
    "start_time": "2022-06-19T18:41:32.747Z"
   },
   {
    "duration": 15,
    "start_time": "2022-06-19T18:41:32.758Z"
   },
   {
    "duration": 5,
    "start_time": "2022-06-19T18:41:32.945Z"
   },
   {
    "duration": 2524,
    "start_time": "2022-06-19T18:41:32.952Z"
   },
   {
    "duration": 1560,
    "start_time": "2022-06-19T18:41:35.478Z"
   },
   {
    "duration": 1470,
    "start_time": "2022-06-19T18:41:37.040Z"
   },
   {
    "duration": 12,
    "start_time": "2022-06-19T18:41:38.512Z"
   },
   {
    "duration": 5,
    "start_time": "2022-06-19T18:41:38.526Z"
   },
   {
    "duration": 664,
    "start_time": "2022-06-19T18:41:38.534Z"
   },
   {
    "duration": 9,
    "start_time": "2022-06-19T18:41:39.199Z"
   },
   {
    "duration": 121886,
    "start_time": "2022-06-19T18:41:39.209Z"
   },
   {
    "duration": 851,
    "start_time": "2022-06-19T18:43:41.097Z"
   },
   {
    "duration": 108,
    "start_time": "2022-06-19T18:43:42.030Z"
   },
   {
    "duration": 6,
    "start_time": "2022-06-19T18:43:42.140Z"
   },
   {
    "duration": 3993,
    "start_time": "2022-06-19T18:43:42.147Z"
   },
   {
    "duration": 2707,
    "start_time": "2022-06-19T18:43:46.143Z"
   },
   {
    "duration": 11,
    "start_time": "2022-06-19T18:43:48.851Z"
   },
   {
    "duration": 130,
    "start_time": "2022-06-19T18:43:48.864Z"
   },
   {
    "duration": 108,
    "start_time": "2022-06-19T19:08:22.291Z"
   },
   {
    "duration": 8,
    "start_time": "2022-06-19T19:09:47.934Z"
   },
   {
    "duration": 8,
    "start_time": "2022-06-19T19:09:54.683Z"
   },
   {
    "duration": 11,
    "start_time": "2022-06-19T19:10:13.265Z"
   },
   {
    "duration": 13,
    "start_time": "2022-06-19T19:10:19.895Z"
   },
   {
    "duration": 341,
    "start_time": "2022-06-19T19:10:32.335Z"
   },
   {
    "duration": 20,
    "start_time": "2022-06-19T19:11:05.293Z"
   },
   {
    "duration": 7,
    "start_time": "2022-06-19T19:11:16.719Z"
   },
   {
    "duration": 12,
    "start_time": "2022-06-19T19:11:26.225Z"
   },
   {
    "duration": 16,
    "start_time": "2022-06-19T19:11:31.907Z"
   },
   {
    "duration": 4,
    "start_time": "2022-06-19T19:11:36.988Z"
   },
   {
    "duration": 8,
    "start_time": "2022-06-19T19:11:46.487Z"
   },
   {
    "duration": 13,
    "start_time": "2022-06-19T19:11:52.206Z"
   },
   {
    "duration": 7,
    "start_time": "2022-06-19T19:11:58.806Z"
   },
   {
    "duration": 10,
    "start_time": "2022-06-19T19:12:48.964Z"
   },
   {
    "duration": 12,
    "start_time": "2022-06-19T19:12:55.522Z"
   },
   {
    "duration": 7,
    "start_time": "2022-06-19T19:13:00.768Z"
   },
   {
    "duration": 10,
    "start_time": "2022-06-19T19:14:34.760Z"
   },
   {
    "duration": 47,
    "start_time": "2022-06-20T05:58:01.610Z"
   },
   {
    "duration": 1591,
    "start_time": "2022-06-20T05:58:08.603Z"
   },
   {
    "duration": 84,
    "start_time": "2022-06-20T05:58:10.196Z"
   },
   {
    "duration": 3,
    "start_time": "2022-06-20T05:58:10.282Z"
   },
   {
    "duration": 15,
    "start_time": "2022-06-20T05:58:10.287Z"
   },
   {
    "duration": 7,
    "start_time": "2022-06-20T05:58:10.304Z"
   },
   {
    "duration": 11,
    "start_time": "2022-06-20T05:58:10.313Z"
   },
   {
    "duration": 11,
    "start_time": "2022-06-20T05:58:10.326Z"
   },
   {
    "duration": 45,
    "start_time": "2022-06-20T05:58:10.339Z"
   },
   {
    "duration": 7,
    "start_time": "2022-06-20T05:58:10.386Z"
   },
   {
    "duration": 34,
    "start_time": "2022-06-20T05:58:10.395Z"
   },
   {
    "duration": 5,
    "start_time": "2022-06-20T05:58:10.431Z"
   },
   {
    "duration": 2292,
    "start_time": "2022-06-20T05:58:10.437Z"
   },
   {
    "duration": 1515,
    "start_time": "2022-06-20T05:58:12.731Z"
   },
   {
    "duration": 19,
    "start_time": "2022-06-20T05:58:14.248Z"
   },
   {
    "duration": 1590,
    "start_time": "2022-06-20T05:58:14.269Z"
   },
   {
    "duration": 13,
    "start_time": "2022-06-20T05:58:15.860Z"
   },
   {
    "duration": 8,
    "start_time": "2022-06-20T05:58:15.874Z"
   },
   {
    "duration": 745,
    "start_time": "2022-06-20T05:58:15.883Z"
   },
   {
    "duration": 8,
    "start_time": "2022-06-20T05:58:16.630Z"
   },
   {
    "duration": 110264,
    "start_time": "2022-06-20T05:58:16.640Z"
   },
   {
    "duration": 1428,
    "start_time": "2022-06-20T06:00:06.906Z"
   },
   {
    "duration": 100,
    "start_time": "2022-06-20T06:00:08.336Z"
   },
   {
    "duration": 15,
    "start_time": "2022-06-20T06:00:08.438Z"
   },
   {
    "duration": 3855,
    "start_time": "2022-06-20T06:00:08.454Z"
   },
   {
    "duration": 2475,
    "start_time": "2022-06-20T06:00:12.311Z"
   },
   {
    "duration": 12,
    "start_time": "2022-06-20T06:00:14.787Z"
   },
   {
    "duration": 149,
    "start_time": "2022-06-20T06:00:14.800Z"
   },
   {
    "duration": 8,
    "start_time": "2022-06-20T06:00:14.952Z"
   },
   {
    "duration": 8,
    "start_time": "2022-06-20T06:00:24.984Z"
   },
   {
    "duration": 12,
    "start_time": "2022-06-20T06:01:11.807Z"
   },
   {
    "duration": 11,
    "start_time": "2022-06-20T06:01:31.163Z"
   },
   {
    "duration": 8,
    "start_time": "2022-06-20T06:01:49.306Z"
   },
   {
    "duration": 6,
    "start_time": "2022-06-20T06:02:00.474Z"
   },
   {
    "duration": 9,
    "start_time": "2022-06-20T06:02:10.290Z"
   },
   {
    "duration": 10,
    "start_time": "2022-06-20T06:03:54.703Z"
   },
   {
    "duration": 10,
    "start_time": "2022-06-20T06:04:02.551Z"
   },
   {
    "duration": 7,
    "start_time": "2022-06-20T06:05:21.108Z"
   },
   {
    "duration": 12,
    "start_time": "2022-06-20T06:05:31.902Z"
   },
   {
    "duration": 8,
    "start_time": "2022-06-20T06:05:38.685Z"
   },
   {
    "duration": 10,
    "start_time": "2022-06-20T06:05:48.861Z"
   },
   {
    "duration": 9,
    "start_time": "2022-06-20T06:06:10.302Z"
   },
   {
    "duration": 9,
    "start_time": "2022-06-20T06:06:22.685Z"
   },
   {
    "duration": 8,
    "start_time": "2022-06-20T06:06:44.899Z"
   },
   {
    "duration": 7,
    "start_time": "2022-06-20T06:07:45.220Z"
   },
   {
    "duration": 51,
    "start_time": "2022-06-20T06:09:04.291Z"
   },
   {
    "duration": 49,
    "start_time": "2022-06-20T06:09:09.897Z"
   },
   {
    "duration": 9,
    "start_time": "2022-06-20T06:09:17.450Z"
   },
   {
    "duration": 11,
    "start_time": "2022-06-20T06:10:05.808Z"
   },
   {
    "duration": 9,
    "start_time": "2022-06-20T06:11:36.457Z"
   },
   {
    "duration": 8,
    "start_time": "2022-06-20T06:16:28.400Z"
   },
   {
    "duration": 9,
    "start_time": "2022-06-20T06:17:46.607Z"
   },
   {
    "duration": 9,
    "start_time": "2022-06-20T06:18:36.157Z"
   },
   {
    "duration": 9,
    "start_time": "2022-06-20T06:22:35.456Z"
   },
   {
    "duration": 8,
    "start_time": "2022-06-20T06:23:41.360Z"
   },
   {
    "duration": 9,
    "start_time": "2022-06-20T06:28:15.690Z"
   },
   {
    "duration": 65,
    "start_time": "2022-06-20T06:28:53.446Z"
   },
   {
    "duration": 12,
    "start_time": "2022-06-20T06:28:57.505Z"
   },
   {
    "duration": 111,
    "start_time": "2022-06-20T06:29:45.802Z"
   },
   {
    "duration": 16,
    "start_time": "2022-06-20T06:31:02.632Z"
   },
   {
    "duration": 12,
    "start_time": "2022-06-20T06:31:08.242Z"
   },
   {
    "duration": 15,
    "start_time": "2022-06-20T06:31:52.886Z"
   },
   {
    "duration": 17,
    "start_time": "2022-06-20T06:32:07.422Z"
   },
   {
    "duration": 52,
    "start_time": "2022-06-20T06:33:26.459Z"
   },
   {
    "duration": 3,
    "start_time": "2022-06-20T06:33:33.788Z"
   },
   {
    "duration": 3,
    "start_time": "2022-06-20T06:33:40.258Z"
   },
   {
    "duration": 8,
    "start_time": "2022-06-20T06:34:22.611Z"
   },
   {
    "duration": 15,
    "start_time": "2022-06-20T06:35:04.770Z"
   },
   {
    "duration": 17,
    "start_time": "2022-06-20T06:35:17.279Z"
   },
   {
    "duration": 18,
    "start_time": "2022-06-20T06:35:35.328Z"
   },
   {
    "duration": 14,
    "start_time": "2022-06-20T06:36:44.653Z"
   },
   {
    "duration": 14,
    "start_time": "2022-06-20T06:36:59.752Z"
   },
   {
    "duration": 55,
    "start_time": "2022-06-20T06:38:29.516Z"
   },
   {
    "duration": 12,
    "start_time": "2022-06-20T06:38:42.181Z"
   },
   {
    "duration": 9,
    "start_time": "2022-06-20T06:40:08.212Z"
   },
   {
    "duration": 13,
    "start_time": "2022-06-20T06:40:15.451Z"
   },
   {
    "duration": 14,
    "start_time": "2022-06-20T06:40:48.274Z"
   },
   {
    "duration": 10,
    "start_time": "2022-06-20T06:41:10.760Z"
   },
   {
    "duration": 4,
    "start_time": "2022-06-20T06:41:44.688Z"
   },
   {
    "duration": 5,
    "start_time": "2022-06-20T06:41:49.672Z"
   },
   {
    "duration": 9,
    "start_time": "2022-06-20T06:41:51.903Z"
   },
   {
    "duration": 4,
    "start_time": "2022-06-20T06:42:17.607Z"
   },
   {
    "duration": 8,
    "start_time": "2022-06-20T06:42:22.617Z"
   },
   {
    "duration": 10,
    "start_time": "2022-06-20T06:45:06.164Z"
   },
   {
    "duration": 43,
    "start_time": "2022-06-20T06:45:23.688Z"
   },
   {
    "duration": 9,
    "start_time": "2022-06-20T06:45:47.877Z"
   },
   {
    "duration": 8,
    "start_time": "2022-06-20T06:45:59.283Z"
   },
   {
    "duration": 3,
    "start_time": "2022-06-20T06:46:02.586Z"
   },
   {
    "duration": 10,
    "start_time": "2022-06-20T06:46:06.860Z"
   },
   {
    "duration": 11,
    "start_time": "2022-06-20T06:46:25.178Z"
   },
   {
    "duration": 48,
    "start_time": "2022-06-20T06:47:02.498Z"
   },
   {
    "duration": 12,
    "start_time": "2022-06-20T06:47:07.705Z"
   },
   {
    "duration": 10,
    "start_time": "2022-06-20T06:49:01.951Z"
   },
   {
    "duration": 9,
    "start_time": "2022-06-20T06:49:29.486Z"
   },
   {
    "duration": 9,
    "start_time": "2022-06-20T06:49:39.071Z"
   },
   {
    "duration": 36,
    "start_time": "2022-06-20T06:52:01.250Z"
   },
   {
    "duration": 8,
    "start_time": "2022-06-20T06:52:16.853Z"
   },
   {
    "duration": 13,
    "start_time": "2022-06-20T06:52:52.617Z"
   },
   {
    "duration": 12103,
    "start_time": "2022-06-20T06:58:25.944Z"
   },
   {
    "duration": 12001,
    "start_time": "2022-06-20T06:58:56.148Z"
   },
   {
    "duration": 11967,
    "start_time": "2022-06-20T06:59:11.179Z"
   },
   {
    "duration": 11,
    "start_time": "2022-06-20T07:00:38.147Z"
   },
   {
    "duration": 11,
    "start_time": "2022-06-20T07:01:14.943Z"
   },
   {
    "duration": 10,
    "start_time": "2022-06-20T07:02:28.095Z"
   },
   {
    "duration": 10,
    "start_time": "2022-06-20T07:02:36.144Z"
   },
   {
    "duration": 10,
    "start_time": "2022-06-20T07:02:47.310Z"
   },
   {
    "duration": 4,
    "start_time": "2022-06-20T07:03:28.206Z"
   },
   {
    "duration": 11,
    "start_time": "2022-06-20T07:04:19.454Z"
   },
   {
    "duration": 758,
    "start_time": "2022-06-20T07:31:52.877Z"
   },
   {
    "duration": 14,
    "start_time": "2022-06-20T07:31:57.345Z"
   },
   {
    "duration": 914,
    "start_time": "2022-06-20T07:32:04.622Z"
   },
   {
    "duration": 14,
    "start_time": "2022-06-20T07:32:06.658Z"
   },
   {
    "duration": 71,
    "start_time": "2022-06-20T16:25:20.098Z"
   },
   {
    "duration": 1597,
    "start_time": "2022-06-20T16:25:40.953Z"
   },
   {
    "duration": 139,
    "start_time": "2022-06-20T16:25:42.552Z"
   },
   {
    "duration": 4,
    "start_time": "2022-06-20T16:25:42.693Z"
   },
   {
    "duration": 28,
    "start_time": "2022-06-20T16:25:42.700Z"
   },
   {
    "duration": 22,
    "start_time": "2022-06-20T16:25:42.730Z"
   },
   {
    "duration": 14,
    "start_time": "2022-06-20T16:25:42.754Z"
   },
   {
    "duration": 15,
    "start_time": "2022-06-20T16:25:42.770Z"
   },
   {
    "duration": 64,
    "start_time": "2022-06-20T16:25:42.787Z"
   },
   {
    "duration": 9,
    "start_time": "2022-06-20T16:25:42.853Z"
   },
   {
    "duration": 25,
    "start_time": "2022-06-20T16:25:42.865Z"
   },
   {
    "duration": 10,
    "start_time": "2022-06-20T16:25:42.893Z"
   },
   {
    "duration": 2464,
    "start_time": "2022-06-20T16:25:42.904Z"
   },
   {
    "duration": 1484,
    "start_time": "2022-06-20T16:25:45.369Z"
   },
   {
    "duration": 2,
    "start_time": "2022-06-20T16:25:46.855Z"
   },
   {
    "duration": 1640,
    "start_time": "2022-06-20T16:25:46.859Z"
   },
   {
    "duration": 15,
    "start_time": "2022-06-20T16:25:48.502Z"
   },
   {
    "duration": 11,
    "start_time": "2022-06-20T16:25:48.519Z"
   },
   {
    "duration": 882,
    "start_time": "2022-06-20T16:25:48.533Z"
   },
   {
    "duration": 20,
    "start_time": "2022-06-20T16:25:49.417Z"
   },
   {
    "duration": 120962,
    "start_time": "2022-06-20T16:25:49.442Z"
   },
   {
    "duration": 1347,
    "start_time": "2022-06-20T16:27:50.406Z"
   },
   {
    "duration": 86,
    "start_time": "2022-06-20T16:27:51.755Z"
   },
   {
    "duration": 8,
    "start_time": "2022-06-20T16:27:51.843Z"
   },
   {
    "duration": 7,
    "start_time": "2022-06-20T16:27:51.852Z"
   },
   {
    "duration": 4300,
    "start_time": "2022-06-20T16:27:51.861Z"
   },
   {
    "duration": 2805,
    "start_time": "2022-06-20T16:27:56.164Z"
   },
   {
    "duration": 13,
    "start_time": "2022-06-20T16:27:58.971Z"
   },
   {
    "duration": 154,
    "start_time": "2022-06-20T16:27:58.987Z"
   },
   {
    "duration": 2,
    "start_time": "2022-06-20T16:57:10.982Z"
   },
   {
    "duration": 1613,
    "start_time": "2022-06-21T03:48:14.990Z"
   },
   {
    "duration": 88,
    "start_time": "2022-06-21T03:48:16.605Z"
   },
   {
    "duration": 3,
    "start_time": "2022-06-21T03:48:16.695Z"
   },
   {
    "duration": 15,
    "start_time": "2022-06-21T03:48:16.700Z"
   },
   {
    "duration": 3,
    "start_time": "2022-06-21T03:48:16.716Z"
   },
   {
    "duration": 9,
    "start_time": "2022-06-21T03:48:16.721Z"
   },
   {
    "duration": 20,
    "start_time": "2022-06-21T03:48:16.732Z"
   },
   {
    "duration": 50,
    "start_time": "2022-06-21T03:48:16.754Z"
   },
   {
    "duration": 9,
    "start_time": "2022-06-21T03:48:16.805Z"
   },
   {
    "duration": 28,
    "start_time": "2022-06-21T03:48:16.817Z"
   },
   {
    "duration": 6,
    "start_time": "2022-06-21T03:48:16.847Z"
   },
   {
    "duration": 2240,
    "start_time": "2022-06-21T03:48:16.855Z"
   },
   {
    "duration": 1383,
    "start_time": "2022-06-21T03:48:19.097Z"
   },
   {
    "duration": 3,
    "start_time": "2022-06-21T03:48:20.482Z"
   },
   {
    "duration": 1507,
    "start_time": "2022-06-21T03:48:20.487Z"
   },
   {
    "duration": 15,
    "start_time": "2022-06-21T03:48:21.997Z"
   },
   {
    "duration": 8,
    "start_time": "2022-06-21T03:48:22.013Z"
   },
   {
    "duration": 669,
    "start_time": "2022-06-21T03:48:22.027Z"
   },
   {
    "duration": 9,
    "start_time": "2022-06-21T03:48:22.698Z"
   },
   {
    "duration": 106062,
    "start_time": "2022-06-21T03:48:22.709Z"
   },
   {
    "duration": 1564,
    "start_time": "2022-06-21T03:50:08.773Z"
   },
   {
    "duration": 17,
    "start_time": "2022-06-21T03:50:10.428Z"
   },
   {
    "duration": 32,
    "start_time": "2022-06-21T03:50:10.447Z"
   },
   {
    "duration": 26,
    "start_time": "2022-06-21T03:50:10.480Z"
   },
   {
    "duration": 3701,
    "start_time": "2022-06-21T03:50:10.508Z"
   },
   {
    "duration": 2436,
    "start_time": "2022-06-21T03:50:14.210Z"
   },
   {
    "duration": 11,
    "start_time": "2022-06-21T03:50:16.648Z"
   },
   {
    "duration": 123,
    "start_time": "2022-06-21T03:50:16.663Z"
   },
   {
    "duration": 1501,
    "start_time": "2022-08-13T10:19:16.313Z"
   },
   {
    "duration": 88,
    "start_time": "2022-08-13T10:19:17.816Z"
   },
   {
    "duration": 3,
    "start_time": "2022-08-13T10:19:17.905Z"
   },
   {
    "duration": 13,
    "start_time": "2022-08-13T10:19:17.910Z"
   },
   {
    "duration": 3,
    "start_time": "2022-08-13T10:19:17.925Z"
   },
   {
    "duration": 10,
    "start_time": "2022-08-13T10:19:17.929Z"
   },
   {
    "duration": 8,
    "start_time": "2022-08-13T10:19:17.940Z"
   },
   {
    "duration": 58,
    "start_time": "2022-08-13T10:19:17.950Z"
   },
   {
    "duration": 6,
    "start_time": "2022-08-13T10:19:18.010Z"
   },
   {
    "duration": 13,
    "start_time": "2022-08-13T10:19:18.018Z"
   },
   {
    "duration": 4,
    "start_time": "2022-08-13T10:19:18.033Z"
   },
   {
    "duration": 2114,
    "start_time": "2022-08-13T10:19:18.038Z"
   },
   {
    "duration": 1292,
    "start_time": "2022-08-13T10:19:20.153Z"
   },
   {
    "duration": 1498,
    "start_time": "2022-08-13T10:19:21.448Z"
   },
   {
    "duration": 12,
    "start_time": "2022-08-13T10:19:22.948Z"
   },
   {
    "duration": 30,
    "start_time": "2022-08-13T10:19:22.962Z"
   },
   {
    "duration": 956,
    "start_time": "2022-08-13T10:19:22.994Z"
   },
   {
    "duration": 9,
    "start_time": "2022-08-13T10:19:23.952Z"
   },
   {
    "duration": 105377,
    "start_time": "2022-08-13T10:19:23.962Z"
   },
   {
    "duration": 1452,
    "start_time": "2022-08-13T10:21:09.340Z"
   },
   {
    "duration": 105,
    "start_time": "2022-08-13T10:21:10.794Z"
   },
   {
    "duration": 5,
    "start_time": "2022-08-13T10:21:10.900Z"
   },
   {
    "duration": 6,
    "start_time": "2022-08-13T10:21:10.906Z"
   },
   {
    "duration": 3652,
    "start_time": "2022-08-13T10:21:10.913Z"
   },
   {
    "duration": 2506,
    "start_time": "2022-08-13T10:21:14.567Z"
   },
   {
    "duration": 17,
    "start_time": "2022-08-13T10:21:17.074Z"
   },
   {
    "duration": 111,
    "start_time": "2022-08-13T10:21:17.092Z"
   },
   {
    "duration": 1506,
    "start_time": "2022-08-18T05:47:45.587Z"
   },
   {
    "duration": 79,
    "start_time": "2022-08-18T05:47:47.096Z"
   },
   {
    "duration": 3,
    "start_time": "2022-08-18T05:47:47.177Z"
   },
   {
    "duration": 14,
    "start_time": "2022-08-18T05:47:47.182Z"
   },
   {
    "duration": 3,
    "start_time": "2022-08-18T05:47:47.198Z"
   },
   {
    "duration": 8,
    "start_time": "2022-08-18T05:47:47.202Z"
   },
   {
    "duration": 6,
    "start_time": "2022-08-18T05:47:47.211Z"
   },
   {
    "duration": 41,
    "start_time": "2022-08-18T05:47:47.219Z"
   },
   {
    "duration": 6,
    "start_time": "2022-08-18T05:47:47.262Z"
   },
   {
    "duration": 40,
    "start_time": "2022-08-18T05:47:47.271Z"
   },
   {
    "duration": 6,
    "start_time": "2022-08-18T05:47:47.313Z"
   },
   {
    "duration": 2096,
    "start_time": "2022-08-18T05:47:47.321Z"
   },
   {
    "duration": 1350,
    "start_time": "2022-08-18T05:47:49.419Z"
   },
   {
    "duration": 1382,
    "start_time": "2022-08-18T05:47:50.771Z"
   },
   {
    "duration": 12,
    "start_time": "2022-08-18T05:47:52.155Z"
   },
   {
    "duration": 6,
    "start_time": "2022-08-18T05:47:52.169Z"
   },
   {
    "duration": 811,
    "start_time": "2022-08-18T05:47:52.176Z"
   },
   {
    "duration": 10,
    "start_time": "2022-08-18T05:47:52.989Z"
   },
   {
    "duration": 98484,
    "start_time": "2022-08-18T05:47:53.000Z"
   },
   {
    "duration": 832,
    "start_time": "2022-08-18T05:49:31.486Z"
   },
   {
    "duration": 99,
    "start_time": "2022-08-18T05:49:32.320Z"
   },
   {
    "duration": 5,
    "start_time": "2022-08-18T05:49:32.422Z"
   },
   {
    "duration": 13,
    "start_time": "2022-08-18T05:49:32.429Z"
   }
  ],
  "kernelspec": {
   "display_name": "Python 3 (ipykernel)",
   "language": "python",
   "name": "python3"
  },
  "language_info": {
   "codemirror_mode": {
    "name": "ipython",
    "version": 3
   },
   "file_extension": ".py",
   "mimetype": "text/x-python",
   "name": "python",
   "nbconvert_exporter": "python",
   "pygments_lexer": "ipython3",
   "version": "3.9.5"
  },
  "toc": {
   "base_numbering": 1,
   "nav_menu": {},
   "number_sections": true,
   "sideBar": true,
   "skip_h1_title": true,
   "title_cell": "Table of Contents",
   "title_sidebar": "Contents",
   "toc_cell": false,
   "toc_position": {
    "height": "calc(100% - 180px)",
    "left": "10px",
    "top": "150px",
    "width": "280px"
   },
   "toc_section_display": true,
   "toc_window_display": true
  }
 },
 "nbformat": 4,
 "nbformat_minor": 2
}
