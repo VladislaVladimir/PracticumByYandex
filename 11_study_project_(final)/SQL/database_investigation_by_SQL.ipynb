{
 "cells": [
  {
   "cell_type": "markdown",
   "metadata": {},
   "source": [
    "# Тема: Изучение базы данных книжного сервиса"
   ]
  },
  {
   "cell_type": "markdown",
   "metadata": {},
   "source": [
    "**Описание данных**\n",
    "\n",
    "Таблица books\n",
    "\n",
    "Содержит данные о книгах:\n",
    "\n",
    "* `book_id` — идентификатор книги;\n",
    "\n",
    "* `author_id` — идентификатор автора;\n",
    "\n",
    "* `title` — название книги;\n",
    "\n",
    "* `num_pages` — количество страниц;\n",
    "\n",
    "* `publication_date` — дата публикации книги;\n",
    "\n",
    "* `publisher_id` — идентификатор издателя.\n",
    "\n",
    "*Таблица authors*\n",
    "\n",
    "Содержит данные об авторах:\n",
    "\n",
    "* `author_id` — идентификатор автора;\n",
    "\n",
    "* `author` — имя автора.\n",
    "\n",
    "*Таблица publishers*\n",
    "\n",
    "Содержит данные об издательствах:\n",
    "\n",
    "* `publisher_id` — идентификатор издательства;\n",
    "\n",
    "* `publisher` — название издательства;\n",
    "\n",
    "*Таблица ratings*\n",
    "\n",
    "Содержит данные о пользовательских оценках книг:\n",
    "\n",
    "* `rating_id` — идентификатор оценки;\n",
    "\n",
    "* `book_id` — идентификатор книги;\n",
    "\n",
    "* `username` — имя пользователя, оставившего оценку;\n",
    "\n",
    "* `rating` — оценка книги.\n",
    "\n",
    "*Таблица reviews*\n",
    "\n",
    "Содержит данные о пользовательских обзорах:\n",
    "\n",
    "* `review_id` — идентификатор обзора;\n",
    "\n",
    "* `book_id` — идентификатор книги;\n",
    "\n",
    "* `username` — имя автора обзора;\n",
    "\n",
    "* `text` — текст обзора.\n",
    "\n",
    "\n",
    "**Цель проекта**\n",
    "\n",
    "Проанализировать базу данных сервиса продаж книг.\n",
    "\n",
    "**Задачи проекта**\n",
    "\n",
    "Для достижения цели проекта выполним следуюзие задачи:\n",
    "- Посчитаем, сколько книг вышло после 1 января 2000 года;\n",
    "- Для каждой книги посчитаем количество обзоров и среднюю оценку;\n",
    "- Определим издательство, которое выпустило наибольшее число книг толще 50 страниц — исключим брошюры;\n",
    "- Определим автора с самой высокой средней оценкой книг — в учет пойдут книги с 50 и более оценками;\n",
    "- Посчитаем среднее количество обзоров от пользователей, которые поставили больше 50 оценок."
   ]
  },
  {
   "cell_type": "markdown",
   "metadata": {},
   "source": [
    "**Схема данных**\n",
    "\n",
    "<img src=\"https://pictures.s3.yandex.net/resources/scheme_1589269096.png\" width=900 height=700 />"
   ]
  },
  {
   "cell_type": "code",
   "execution_count": 1,
   "metadata": {},
   "outputs": [],
   "source": [
    "# импортируем библиотеки\n",
    "import pandas as pd\n",
    "from sqlalchemy import create_engine\n",
    "\n",
    "# устанавливаем параметры\n",
    "db_config = {'user': 'praktikum_student', # имя пользователя\n",
    "             'pwd': 'Sdf4$2;d-d30pp', # пароль\n",
    "             'host': 'rc1b-wcoijxj3yxfsf3fs.mdb.yandexcloud.net',\n",
    "             'port': 6432, # порт подключения\n",
    "             'db': 'data-analyst-final-project-db'} # название базы данных\n",
    "\n",
    "connection_string = 'postgresql://{}:{}@{}:{}/{}'.format(db_config['user'],\n",
    "                                                         db_config['pwd'],\n",
    "                                                         db_config['host'],\n",
    "                                                         db_config['port'],\n",
    "                                                         db_config['db'])\n",
    "# сохраняем коннектор\n",
    "engine = create_engine(connection_string, connect_args={'sslmode':'require'}) "
   ]
  },
  {
   "cell_type": "markdown",
   "metadata": {},
   "source": [
    "## Исследуем таблицы"
   ]
  },
  {
   "cell_type": "code",
   "execution_count": 2,
   "metadata": {},
   "outputs": [],
   "source": [
    "def select(table):\n",
    "    return pd.io.sql.read_sql(table, con = engine) #функция для вывода запроса"
   ]
  },
  {
   "cell_type": "code",
   "execution_count": 3,
   "metadata": {},
   "outputs": [],
   "source": [
    "# составим запросы на таблицы\n",
    "books = ''' \n",
    "SELECT *\n",
    "FROM books\n",
    "LIMIT (5)\n",
    "'''\n",
    "\n",
    "authors = '''\n",
    "SELECT *\n",
    "FROM authors\n",
    "LIMIT (5)\n",
    "'''\n",
    "\n",
    "publishers = '''\n",
    "SELECT *\n",
    "FROM publishers\n",
    "LIMIT (5)\n",
    "'''\n",
    "\n",
    "ratings = '''\n",
    "SELECT *\n",
    "FROM ratings\n",
    "LIMIT (5)\n",
    "'''\n",
    "\n",
    "reviews = '''\n",
    "SELECT *\n",
    "FROM reviews\n",
    "LIMIT (5)\n",
    "'''"
   ]
  },
  {
   "cell_type": "code",
   "execution_count": 4,
   "metadata": {
    "scrolled": false
   },
   "outputs": [
    {
     "data": {
      "text/html": [
       "<div>\n",
       "<style scoped>\n",
       "    .dataframe tbody tr th:only-of-type {\n",
       "        vertical-align: middle;\n",
       "    }\n",
       "\n",
       "    .dataframe tbody tr th {\n",
       "        vertical-align: top;\n",
       "    }\n",
       "\n",
       "    .dataframe thead th {\n",
       "        text-align: right;\n",
       "    }\n",
       "</style>\n",
       "<table border=\"1\" class=\"dataframe\">\n",
       "  <thead>\n",
       "    <tr style=\"text-align: right;\">\n",
       "      <th></th>\n",
       "      <th>book_id</th>\n",
       "      <th>author_id</th>\n",
       "      <th>title</th>\n",
       "      <th>num_pages</th>\n",
       "      <th>publication_date</th>\n",
       "      <th>publisher_id</th>\n",
       "    </tr>\n",
       "  </thead>\n",
       "  <tbody>\n",
       "    <tr>\n",
       "      <th>0</th>\n",
       "      <td>1</td>\n",
       "      <td>546</td>\n",
       "      <td>'Salem's Lot</td>\n",
       "      <td>594</td>\n",
       "      <td>2005-11-01</td>\n",
       "      <td>93</td>\n",
       "    </tr>\n",
       "    <tr>\n",
       "      <th>1</th>\n",
       "      <td>2</td>\n",
       "      <td>465</td>\n",
       "      <td>1 000 Places to See Before You Die</td>\n",
       "      <td>992</td>\n",
       "      <td>2003-05-22</td>\n",
       "      <td>336</td>\n",
       "    </tr>\n",
       "    <tr>\n",
       "      <th>2</th>\n",
       "      <td>3</td>\n",
       "      <td>407</td>\n",
       "      <td>13 Little Blue Envelopes (Little Blue Envelope...</td>\n",
       "      <td>322</td>\n",
       "      <td>2010-12-21</td>\n",
       "      <td>135</td>\n",
       "    </tr>\n",
       "    <tr>\n",
       "      <th>3</th>\n",
       "      <td>4</td>\n",
       "      <td>82</td>\n",
       "      <td>1491: New Revelations of the Americas Before C...</td>\n",
       "      <td>541</td>\n",
       "      <td>2006-10-10</td>\n",
       "      <td>309</td>\n",
       "    </tr>\n",
       "    <tr>\n",
       "      <th>4</th>\n",
       "      <td>5</td>\n",
       "      <td>125</td>\n",
       "      <td>1776</td>\n",
       "      <td>386</td>\n",
       "      <td>2006-07-04</td>\n",
       "      <td>268</td>\n",
       "    </tr>\n",
       "  </tbody>\n",
       "</table>\n",
       "</div>"
      ],
      "text/plain": [
       "   book_id  author_id                                              title  \\\n",
       "0        1        546                                       'Salem's Lot   \n",
       "1        2        465                 1 000 Places to See Before You Die   \n",
       "2        3        407  13 Little Blue Envelopes (Little Blue Envelope...   \n",
       "3        4         82  1491: New Revelations of the Americas Before C...   \n",
       "4        5        125                                               1776   \n",
       "\n",
       "   num_pages publication_date  publisher_id  \n",
       "0        594       2005-11-01            93  \n",
       "1        992       2003-05-22           336  \n",
       "2        322       2010-12-21           135  \n",
       "3        541       2006-10-10           309  \n",
       "4        386       2006-07-04           268  "
      ]
     },
     "metadata": {},
     "output_type": "display_data"
    },
    {
     "data": {
      "text/html": [
       "<div>\n",
       "<style scoped>\n",
       "    .dataframe tbody tr th:only-of-type {\n",
       "        vertical-align: middle;\n",
       "    }\n",
       "\n",
       "    .dataframe tbody tr th {\n",
       "        vertical-align: top;\n",
       "    }\n",
       "\n",
       "    .dataframe thead th {\n",
       "        text-align: right;\n",
       "    }\n",
       "</style>\n",
       "<table border=\"1\" class=\"dataframe\">\n",
       "  <thead>\n",
       "    <tr style=\"text-align: right;\">\n",
       "      <th></th>\n",
       "      <th>author_id</th>\n",
       "      <th>author</th>\n",
       "    </tr>\n",
       "  </thead>\n",
       "  <tbody>\n",
       "    <tr>\n",
       "      <th>0</th>\n",
       "      <td>1</td>\n",
       "      <td>A.S. Byatt</td>\n",
       "    </tr>\n",
       "    <tr>\n",
       "      <th>1</th>\n",
       "      <td>2</td>\n",
       "      <td>Aesop/Laura Harris/Laura Gibbs</td>\n",
       "    </tr>\n",
       "    <tr>\n",
       "      <th>2</th>\n",
       "      <td>3</td>\n",
       "      <td>Agatha Christie</td>\n",
       "    </tr>\n",
       "    <tr>\n",
       "      <th>3</th>\n",
       "      <td>4</td>\n",
       "      <td>Alan Brennert</td>\n",
       "    </tr>\n",
       "    <tr>\n",
       "      <th>4</th>\n",
       "      <td>5</td>\n",
       "      <td>Alan Moore/David   Lloyd</td>\n",
       "    </tr>\n",
       "  </tbody>\n",
       "</table>\n",
       "</div>"
      ],
      "text/plain": [
       "   author_id                          author\n",
       "0          1                      A.S. Byatt\n",
       "1          2  Aesop/Laura Harris/Laura Gibbs\n",
       "2          3                 Agatha Christie\n",
       "3          4                   Alan Brennert\n",
       "4          5        Alan Moore/David   Lloyd"
      ]
     },
     "metadata": {},
     "output_type": "display_data"
    },
    {
     "data": {
      "text/html": [
       "<div>\n",
       "<style scoped>\n",
       "    .dataframe tbody tr th:only-of-type {\n",
       "        vertical-align: middle;\n",
       "    }\n",
       "\n",
       "    .dataframe tbody tr th {\n",
       "        vertical-align: top;\n",
       "    }\n",
       "\n",
       "    .dataframe thead th {\n",
       "        text-align: right;\n",
       "    }\n",
       "</style>\n",
       "<table border=\"1\" class=\"dataframe\">\n",
       "  <thead>\n",
       "    <tr style=\"text-align: right;\">\n",
       "      <th></th>\n",
       "      <th>publisher_id</th>\n",
       "      <th>publisher</th>\n",
       "    </tr>\n",
       "  </thead>\n",
       "  <tbody>\n",
       "    <tr>\n",
       "      <th>0</th>\n",
       "      <td>1</td>\n",
       "      <td>Ace</td>\n",
       "    </tr>\n",
       "    <tr>\n",
       "      <th>1</th>\n",
       "      <td>2</td>\n",
       "      <td>Ace Book</td>\n",
       "    </tr>\n",
       "    <tr>\n",
       "      <th>2</th>\n",
       "      <td>3</td>\n",
       "      <td>Ace Books</td>\n",
       "    </tr>\n",
       "    <tr>\n",
       "      <th>3</th>\n",
       "      <td>4</td>\n",
       "      <td>Ace Hardcover</td>\n",
       "    </tr>\n",
       "    <tr>\n",
       "      <th>4</th>\n",
       "      <td>5</td>\n",
       "      <td>Addison Wesley Publishing Company</td>\n",
       "    </tr>\n",
       "  </tbody>\n",
       "</table>\n",
       "</div>"
      ],
      "text/plain": [
       "   publisher_id                          publisher\n",
       "0             1                                Ace\n",
       "1             2                           Ace Book\n",
       "2             3                          Ace Books\n",
       "3             4                      Ace Hardcover\n",
       "4             5  Addison Wesley Publishing Company"
      ]
     },
     "metadata": {},
     "output_type": "display_data"
    },
    {
     "data": {
      "text/html": [
       "<div>\n",
       "<style scoped>\n",
       "    .dataframe tbody tr th:only-of-type {\n",
       "        vertical-align: middle;\n",
       "    }\n",
       "\n",
       "    .dataframe tbody tr th {\n",
       "        vertical-align: top;\n",
       "    }\n",
       "\n",
       "    .dataframe thead th {\n",
       "        text-align: right;\n",
       "    }\n",
       "</style>\n",
       "<table border=\"1\" class=\"dataframe\">\n",
       "  <thead>\n",
       "    <tr style=\"text-align: right;\">\n",
       "      <th></th>\n",
       "      <th>rating_id</th>\n",
       "      <th>book_id</th>\n",
       "      <th>username</th>\n",
       "      <th>rating</th>\n",
       "    </tr>\n",
       "  </thead>\n",
       "  <tbody>\n",
       "    <tr>\n",
       "      <th>0</th>\n",
       "      <td>1</td>\n",
       "      <td>1</td>\n",
       "      <td>ryanfranco</td>\n",
       "      <td>4</td>\n",
       "    </tr>\n",
       "    <tr>\n",
       "      <th>1</th>\n",
       "      <td>2</td>\n",
       "      <td>1</td>\n",
       "      <td>grantpatricia</td>\n",
       "      <td>2</td>\n",
       "    </tr>\n",
       "    <tr>\n",
       "      <th>2</th>\n",
       "      <td>3</td>\n",
       "      <td>1</td>\n",
       "      <td>brandtandrea</td>\n",
       "      <td>5</td>\n",
       "    </tr>\n",
       "    <tr>\n",
       "      <th>3</th>\n",
       "      <td>4</td>\n",
       "      <td>2</td>\n",
       "      <td>lorichen</td>\n",
       "      <td>3</td>\n",
       "    </tr>\n",
       "    <tr>\n",
       "      <th>4</th>\n",
       "      <td>5</td>\n",
       "      <td>2</td>\n",
       "      <td>mariokeller</td>\n",
       "      <td>2</td>\n",
       "    </tr>\n",
       "  </tbody>\n",
       "</table>\n",
       "</div>"
      ],
      "text/plain": [
       "   rating_id  book_id       username  rating\n",
       "0          1        1     ryanfranco       4\n",
       "1          2        1  grantpatricia       2\n",
       "2          3        1   brandtandrea       5\n",
       "3          4        2       lorichen       3\n",
       "4          5        2    mariokeller       2"
      ]
     },
     "metadata": {},
     "output_type": "display_data"
    },
    {
     "data": {
      "text/html": [
       "<div>\n",
       "<style scoped>\n",
       "    .dataframe tbody tr th:only-of-type {\n",
       "        vertical-align: middle;\n",
       "    }\n",
       "\n",
       "    .dataframe tbody tr th {\n",
       "        vertical-align: top;\n",
       "    }\n",
       "\n",
       "    .dataframe thead th {\n",
       "        text-align: right;\n",
       "    }\n",
       "</style>\n",
       "<table border=\"1\" class=\"dataframe\">\n",
       "  <thead>\n",
       "    <tr style=\"text-align: right;\">\n",
       "      <th></th>\n",
       "      <th>review_id</th>\n",
       "      <th>book_id</th>\n",
       "      <th>username</th>\n",
       "      <th>text</th>\n",
       "    </tr>\n",
       "  </thead>\n",
       "  <tbody>\n",
       "    <tr>\n",
       "      <th>0</th>\n",
       "      <td>1</td>\n",
       "      <td>1</td>\n",
       "      <td>brandtandrea</td>\n",
       "      <td>Mention society tell send professor analysis. ...</td>\n",
       "    </tr>\n",
       "    <tr>\n",
       "      <th>1</th>\n",
       "      <td>2</td>\n",
       "      <td>1</td>\n",
       "      <td>ryanfranco</td>\n",
       "      <td>Foot glass pretty audience hit themselves. Amo...</td>\n",
       "    </tr>\n",
       "    <tr>\n",
       "      <th>2</th>\n",
       "      <td>3</td>\n",
       "      <td>2</td>\n",
       "      <td>lorichen</td>\n",
       "      <td>Listen treat keep worry. Miss husband tax but ...</td>\n",
       "    </tr>\n",
       "    <tr>\n",
       "      <th>3</th>\n",
       "      <td>4</td>\n",
       "      <td>3</td>\n",
       "      <td>johnsonamanda</td>\n",
       "      <td>Finally month interesting blue could nature cu...</td>\n",
       "    </tr>\n",
       "    <tr>\n",
       "      <th>4</th>\n",
       "      <td>5</td>\n",
       "      <td>3</td>\n",
       "      <td>scotttamara</td>\n",
       "      <td>Nation purpose heavy give wait song will. List...</td>\n",
       "    </tr>\n",
       "  </tbody>\n",
       "</table>\n",
       "</div>"
      ],
      "text/plain": [
       "   review_id  book_id       username  \\\n",
       "0          1        1   brandtandrea   \n",
       "1          2        1     ryanfranco   \n",
       "2          3        2       lorichen   \n",
       "3          4        3  johnsonamanda   \n",
       "4          5        3    scotttamara   \n",
       "\n",
       "                                                text  \n",
       "0  Mention society tell send professor analysis. ...  \n",
       "1  Foot glass pretty audience hit themselves. Amo...  \n",
       "2  Listen treat keep worry. Miss husband tax but ...  \n",
       "3  Finally month interesting blue could nature cu...  \n",
       "4  Nation purpose heavy give wait song will. List...  "
      ]
     },
     "metadata": {},
     "output_type": "display_data"
    }
   ],
   "source": [
    "#цикл для публикации таблиц\n",
    "tables = [books, authors, publishers, ratings, reviews]\n",
    "for i in tables:\n",
    "    display(select(i))"
   ]
  },
  {
   "cell_type": "markdown",
   "metadata": {},
   "source": [
    "## Посчитаем, сколько книг вышло после 1 января 2000 года;"
   ]
  },
  {
   "cell_type": "code",
   "execution_count": 5,
   "metadata": {},
   "outputs": [
    {
     "data": {
      "text/html": [
       "<div>\n",
       "<style scoped>\n",
       "    .dataframe tbody tr th:only-of-type {\n",
       "        vertical-align: middle;\n",
       "    }\n",
       "\n",
       "    .dataframe tbody tr th {\n",
       "        vertical-align: top;\n",
       "    }\n",
       "\n",
       "    .dataframe thead th {\n",
       "        text-align: right;\n",
       "    }\n",
       "</style>\n",
       "<table border=\"1\" class=\"dataframe\">\n",
       "  <thead>\n",
       "    <tr style=\"text-align: right;\">\n",
       "      <th></th>\n",
       "      <th>count</th>\n",
       "    </tr>\n",
       "  </thead>\n",
       "  <tbody>\n",
       "    <tr>\n",
       "      <th>0</th>\n",
       "      <td>821</td>\n",
       "    </tr>\n",
       "  </tbody>\n",
       "</table>\n",
       "</div>"
      ],
      "text/plain": [
       "   count\n",
       "0    821"
      ]
     },
     "execution_count": 5,
     "metadata": {},
     "output_type": "execute_result"
    }
   ],
   "source": [
    "millenium_books = '''\n",
    "\n",
    "SELECT COUNT(DISTINCT book_id) \n",
    "\n",
    "FROM books\n",
    "\n",
    "WHERE publication_date >= '2000-01-01'                 /* установим дату включая 1 января*/\n",
    "\n",
    "'''\n",
    "\n",
    "select(millenium_books)"
   ]
  },
  {
   "cell_type": "markdown",
   "metadata": {},
   "source": [
    "После 1 января 2000 года вышла 821 книга."
   ]
  },
  {
   "cell_type": "markdown",
   "metadata": {},
   "source": [
    "## Для каждой книги посчитаем количество обзоров и среднюю оценку;"
   ]
  },
  {
   "cell_type": "markdown",
   "metadata": {},
   "source": [
    "Для того, чтобы посчитать количество обзоров и среднюю оценку нам понадобится еще 2 таблицы: rewiews и rating. Присоединим их и выведем нужный запрос."
   ]
  },
  {
   "cell_type": "code",
   "execution_count": 6,
   "metadata": {
    "scrolled": false
   },
   "outputs": [
    {
     "data": {
      "text/html": [
       "<div>\n",
       "<style scoped>\n",
       "    .dataframe tbody tr th:only-of-type {\n",
       "        vertical-align: middle;\n",
       "    }\n",
       "\n",
       "    .dataframe tbody tr th {\n",
       "        vertical-align: top;\n",
       "    }\n",
       "\n",
       "    .dataframe thead th {\n",
       "        text-align: right;\n",
       "    }\n",
       "</style>\n",
       "<table border=\"1\" class=\"dataframe\">\n",
       "  <thead>\n",
       "    <tr style=\"text-align: right;\">\n",
       "      <th></th>\n",
       "      <th>title</th>\n",
       "      <th>number_of_review</th>\n",
       "      <th>mean</th>\n",
       "    </tr>\n",
       "  </thead>\n",
       "  <tbody>\n",
       "    <tr>\n",
       "      <th>0</th>\n",
       "      <td>Memoirs of a Geisha</td>\n",
       "      <td>8</td>\n",
       "      <td>4.138462</td>\n",
       "    </tr>\n",
       "    <tr>\n",
       "      <th>1</th>\n",
       "      <td>Twilight (Twilight  #1)</td>\n",
       "      <td>7</td>\n",
       "      <td>3.662500</td>\n",
       "    </tr>\n",
       "    <tr>\n",
       "      <th>2</th>\n",
       "      <td>Harry Potter and the Chamber of Secrets (Harry...</td>\n",
       "      <td>6</td>\n",
       "      <td>4.287500</td>\n",
       "    </tr>\n",
       "    <tr>\n",
       "      <th>3</th>\n",
       "      <td>The Glass Castle</td>\n",
       "      <td>6</td>\n",
       "      <td>4.206897</td>\n",
       "    </tr>\n",
       "    <tr>\n",
       "      <th>4</th>\n",
       "      <td>Eat  Pray  Love</td>\n",
       "      <td>6</td>\n",
       "      <td>3.395833</td>\n",
       "    </tr>\n",
       "    <tr>\n",
       "      <th>...</th>\n",
       "      <td>...</td>\n",
       "      <td>...</td>\n",
       "      <td>...</td>\n",
       "    </tr>\n",
       "    <tr>\n",
       "      <th>994</th>\n",
       "      <td>Anne Rice's The Vampire Lestat: A Graphic Novel</td>\n",
       "      <td>0</td>\n",
       "      <td>3.666667</td>\n",
       "    </tr>\n",
       "    <tr>\n",
       "      <th>995</th>\n",
       "      <td>The Natural Way to Draw</td>\n",
       "      <td>0</td>\n",
       "      <td>3.000000</td>\n",
       "    </tr>\n",
       "    <tr>\n",
       "      <th>996</th>\n",
       "      <td>The Cat in the Hat and Other Dr. Seuss Favorites</td>\n",
       "      <td>0</td>\n",
       "      <td>5.000000</td>\n",
       "    </tr>\n",
       "    <tr>\n",
       "      <th>997</th>\n",
       "      <td>Essential Tales and Poems</td>\n",
       "      <td>0</td>\n",
       "      <td>4.000000</td>\n",
       "    </tr>\n",
       "    <tr>\n",
       "      <th>998</th>\n",
       "      <td>Disney's Beauty and the Beast (A Little Golden...</td>\n",
       "      <td>0</td>\n",
       "      <td>4.000000</td>\n",
       "    </tr>\n",
       "  </tbody>\n",
       "</table>\n",
       "<p>999 rows × 3 columns</p>\n",
       "</div>"
      ],
      "text/plain": [
       "                                                 title  number_of_review  \\\n",
       "0                                  Memoirs of a Geisha                 8   \n",
       "1                              Twilight (Twilight  #1)                 7   \n",
       "2    Harry Potter and the Chamber of Secrets (Harry...                 6   \n",
       "3                                     The Glass Castle                 6   \n",
       "4                                      Eat  Pray  Love                 6   \n",
       "..                                                 ...               ...   \n",
       "994    Anne Rice's The Vampire Lestat: A Graphic Novel                 0   \n",
       "995                            The Natural Way to Draw                 0   \n",
       "996   The Cat in the Hat and Other Dr. Seuss Favorites                 0   \n",
       "997                          Essential Tales and Poems                 0   \n",
       "998  Disney's Beauty and the Beast (A Little Golden...                 0   \n",
       "\n",
       "         mean  \n",
       "0    4.138462  \n",
       "1    3.662500  \n",
       "2    4.287500  \n",
       "3    4.206897  \n",
       "4    3.395833  \n",
       "..        ...  \n",
       "994  3.666667  \n",
       "995  3.000000  \n",
       "996  5.000000  \n",
       "997  4.000000  \n",
       "998  4.000000  \n",
       "\n",
       "[999 rows x 3 columns]"
      ]
     },
     "execution_count": 6,
     "metadata": {},
     "output_type": "execute_result"
    }
   ],
   "source": [
    "rating_by_books = '''\n",
    "SELECT \n",
    "    title,\n",
    "    COUNT(DISTINCT review_id) as number_of_review ,             /* посчитаем количество оригинальных отзывов*/\n",
    "    AVG(rating) as mean                                         /* посчитаем среднюю оценку*/\n",
    "\n",
    "FROM books as b \n",
    "\n",
    "LEFT JOIN ratings as r ON b.book_id = r.book_id                 /* присоедними таблицы*/\n",
    "LEFT JOIN reviews as rew ON b.book_id = rew.book_id\n",
    "\n",
    "GROUP BY title\n",
    "\n",
    "ORDER BY number_of_review DESC                                  /* вывдим в порядке убывания по количеству отзывов*/\n",
    "\n",
    "\n",
    "\n",
    "'''\n",
    "\n",
    "select(rating_by_books)"
   ]
  },
  {
   "cell_type": "markdown",
   "metadata": {},
   "source": [
    "Максимальное количество обзоров на книгу Memoirs of a Geisha."
   ]
  },
  {
   "cell_type": "code",
   "execution_count": 7,
   "metadata": {},
   "outputs": [
    {
     "data": {
      "text/html": [
       "<div>\n",
       "<style scoped>\n",
       "    .dataframe tbody tr th:only-of-type {\n",
       "        vertical-align: middle;\n",
       "    }\n",
       "\n",
       "    .dataframe tbody tr th {\n",
       "        vertical-align: top;\n",
       "    }\n",
       "\n",
       "    .dataframe thead th {\n",
       "        text-align: right;\n",
       "    }\n",
       "</style>\n",
       "<table border=\"1\" class=\"dataframe\">\n",
       "  <thead>\n",
       "    <tr style=\"text-align: right;\">\n",
       "      <th></th>\n",
       "      <th>count</th>\n",
       "    </tr>\n",
       "  </thead>\n",
       "  <tbody>\n",
       "    <tr>\n",
       "      <th>0</th>\n",
       "      <td>1000</td>\n",
       "    </tr>\n",
       "  </tbody>\n",
       "</table>\n",
       "</div>"
      ],
      "text/plain": [
       "   count\n",
       "0   1000"
      ]
     },
     "execution_count": 7,
     "metadata": {},
     "output_type": "execute_result"
    }
   ],
   "source": [
    "count_title = '''\n",
    "\n",
    "SELECT COUNT(title)\n",
    "\n",
    "FROM books\n",
    "\n",
    "'''\n",
    "select(count_title)"
   ]
  },
  {
   "cell_type": "markdown",
   "metadata": {},
   "source": [
    "Всего в таблице books 1000 названий книг, а в выводимой нами таблице 999. Так как мы группировали по title, то мы сгруппировали два повторяющихся названия. Найду это дублирующее название."
   ]
  },
  {
   "cell_type": "code",
   "execution_count": 8,
   "metadata": {},
   "outputs": [
    {
     "data": {
      "text/html": [
       "<div>\n",
       "<style scoped>\n",
       "    .dataframe tbody tr th:only-of-type {\n",
       "        vertical-align: middle;\n",
       "    }\n",
       "\n",
       "    .dataframe tbody tr th {\n",
       "        vertical-align: top;\n",
       "    }\n",
       "\n",
       "    .dataframe thead th {\n",
       "        text-align: right;\n",
       "    }\n",
       "</style>\n",
       "<table border=\"1\" class=\"dataframe\">\n",
       "  <thead>\n",
       "    <tr style=\"text-align: right;\">\n",
       "      <th></th>\n",
       "      <th>book_id</th>\n",
       "      <th>author_id</th>\n",
       "      <th>title</th>\n",
       "      <th>num_pages</th>\n",
       "      <th>publication_date</th>\n",
       "      <th>publisher_id</th>\n",
       "      <th>rownumber</th>\n",
       "    </tr>\n",
       "  </thead>\n",
       "  <tbody>\n",
       "    <tr>\n",
       "      <th>0</th>\n",
       "      <td>427</td>\n",
       "      <td>39</td>\n",
       "      <td>Memoirs of a Geisha</td>\n",
       "      <td>503</td>\n",
       "      <td>2005-11-22</td>\n",
       "      <td>311</td>\n",
       "      <td>2</td>\n",
       "    </tr>\n",
       "  </tbody>\n",
       "</table>\n",
       "</div>"
      ],
      "text/plain": [
       "   book_id  author_id                title  num_pages publication_date  \\\n",
       "0      427         39  Memoirs of a Geisha        503       2005-11-22   \n",
       "\n",
       "   publisher_id  rownumber  \n",
       "0           311          2  "
      ]
     },
     "execution_count": 8,
     "metadata": {},
     "output_type": "execute_result"
    }
   ],
   "source": [
    "duplicates = '''\n",
    "WITH data as (\n",
    "   SELECT *,\n",
    "   ROW_NUMBER() OVER (PARTITION BY title) as rowNumber \n",
    "   FROM books\n",
    ")\n",
    "SELECT\n",
    "  * \n",
    "FROM data \n",
    "WHERE\n",
    " rowNumber > 1\n",
    " \n",
    " '''\n",
    "select(duplicates)"
   ]
  },
  {
   "cell_type": "markdown",
   "metadata": {},
   "source": [
    "У нас в таблице books дублируется title - Memoirs of a Geisha. оэтому чтобы не групировать дуюликаты названий, сгруппируем по book_id."
   ]
  },
  {
   "cell_type": "code",
   "execution_count": 9,
   "metadata": {},
   "outputs": [
    {
     "data": {
      "text/html": [
       "<div>\n",
       "<style scoped>\n",
       "    .dataframe tbody tr th:only-of-type {\n",
       "        vertical-align: middle;\n",
       "    }\n",
       "\n",
       "    .dataframe tbody tr th {\n",
       "        vertical-align: top;\n",
       "    }\n",
       "\n",
       "    .dataframe thead th {\n",
       "        text-align: right;\n",
       "    }\n",
       "</style>\n",
       "<table border=\"1\" class=\"dataframe\">\n",
       "  <thead>\n",
       "    <tr style=\"text-align: right;\">\n",
       "      <th></th>\n",
       "      <th>book_id</th>\n",
       "      <th>title</th>\n",
       "      <th>number_of_review</th>\n",
       "      <th>mean</th>\n",
       "    </tr>\n",
       "  </thead>\n",
       "  <tbody>\n",
       "    <tr>\n",
       "      <th>0</th>\n",
       "      <td>948</td>\n",
       "      <td>Twilight (Twilight  #1)</td>\n",
       "      <td>7</td>\n",
       "      <td>3.662500</td>\n",
       "    </tr>\n",
       "    <tr>\n",
       "      <th>1</th>\n",
       "      <td>963</td>\n",
       "      <td>Water for Elephants</td>\n",
       "      <td>6</td>\n",
       "      <td>3.977273</td>\n",
       "    </tr>\n",
       "    <tr>\n",
       "      <th>2</th>\n",
       "      <td>734</td>\n",
       "      <td>The Glass Castle</td>\n",
       "      <td>6</td>\n",
       "      <td>4.206897</td>\n",
       "    </tr>\n",
       "    <tr>\n",
       "      <th>3</th>\n",
       "      <td>302</td>\n",
       "      <td>Harry Potter and the Prisoner of Azkaban (Harr...</td>\n",
       "      <td>6</td>\n",
       "      <td>4.414634</td>\n",
       "    </tr>\n",
       "    <tr>\n",
       "      <th>4</th>\n",
       "      <td>695</td>\n",
       "      <td>The Curious Incident of the Dog in the Night-Time</td>\n",
       "      <td>6</td>\n",
       "      <td>4.081081</td>\n",
       "    </tr>\n",
       "    <tr>\n",
       "      <th>...</th>\n",
       "      <td>...</td>\n",
       "      <td>...</td>\n",
       "      <td>...</td>\n",
       "      <td>...</td>\n",
       "    </tr>\n",
       "    <tr>\n",
       "      <th>995</th>\n",
       "      <td>83</td>\n",
       "      <td>Anne Rice's The Vampire Lestat: A Graphic Novel</td>\n",
       "      <td>0</td>\n",
       "      <td>3.666667</td>\n",
       "    </tr>\n",
       "    <tr>\n",
       "      <th>996</th>\n",
       "      <td>808</td>\n",
       "      <td>The Natural Way to Draw</td>\n",
       "      <td>0</td>\n",
       "      <td>3.000000</td>\n",
       "    </tr>\n",
       "    <tr>\n",
       "      <th>997</th>\n",
       "      <td>672</td>\n",
       "      <td>The Cat in the Hat and Other Dr. Seuss Favorites</td>\n",
       "      <td>0</td>\n",
       "      <td>5.000000</td>\n",
       "    </tr>\n",
       "    <tr>\n",
       "      <th>998</th>\n",
       "      <td>221</td>\n",
       "      <td>Essential Tales and Poems</td>\n",
       "      <td>0</td>\n",
       "      <td>4.000000</td>\n",
       "    </tr>\n",
       "    <tr>\n",
       "      <th>999</th>\n",
       "      <td>191</td>\n",
       "      <td>Disney's Beauty and the Beast (A Little Golden...</td>\n",
       "      <td>0</td>\n",
       "      <td>4.000000</td>\n",
       "    </tr>\n",
       "  </tbody>\n",
       "</table>\n",
       "<p>1000 rows × 4 columns</p>\n",
       "</div>"
      ],
      "text/plain": [
       "     book_id                                              title  \\\n",
       "0        948                            Twilight (Twilight  #1)   \n",
       "1        963                                Water for Elephants   \n",
       "2        734                                   The Glass Castle   \n",
       "3        302  Harry Potter and the Prisoner of Azkaban (Harr...   \n",
       "4        695  The Curious Incident of the Dog in the Night-Time   \n",
       "..       ...                                                ...   \n",
       "995       83    Anne Rice's The Vampire Lestat: A Graphic Novel   \n",
       "996      808                            The Natural Way to Draw   \n",
       "997      672   The Cat in the Hat and Other Dr. Seuss Favorites   \n",
       "998      221                          Essential Tales and Poems   \n",
       "999      191  Disney's Beauty and the Beast (A Little Golden...   \n",
       "\n",
       "     number_of_review      mean  \n",
       "0                   7  3.662500  \n",
       "1                   6  3.977273  \n",
       "2                   6  4.206897  \n",
       "3                   6  4.414634  \n",
       "4                   6  4.081081  \n",
       "..                ...       ...  \n",
       "995                 0  3.666667  \n",
       "996                 0  3.000000  \n",
       "997                 0  5.000000  \n",
       "998                 0  4.000000  \n",
       "999                 0  4.000000  \n",
       "\n",
       "[1000 rows x 4 columns]"
      ]
     },
     "execution_count": 9,
     "metadata": {},
     "output_type": "execute_result"
    }
   ],
   "source": [
    "rating_by_books = '''\n",
    "SELECT \n",
    "    b.book_id,\n",
    "    title,\n",
    "    COUNT(DISTINCT review_id) as number_of_review ,             /* посчитаем количество оригинальных отзывов*/\n",
    "    AVG(rating) as mean                                         /* посчитаем среднюю оценку*/\n",
    "\n",
    "FROM books as b \n",
    "\n",
    "LEFT JOIN ratings as r ON b.book_id = r.book_id                 /* присоедними таблицы*/\n",
    "LEFT JOIN reviews as rew ON b.book_id = rew.book_id\n",
    "\n",
    "GROUP BY b.book_id\n",
    "\n",
    "ORDER BY number_of_review DESC                                  /* вывдим в порядке убывания по количеству отзывов*/\n",
    "\n",
    "\n",
    "\n",
    "'''\n",
    "\n",
    "select(rating_by_books)"
   ]
  },
  {
   "cell_type": "markdown",
   "metadata": {},
   "source": [
    "Итого, максимальное количество обзоров на книгу Twilight (Twilight #1)"
   ]
  },
  {
   "cell_type": "markdown",
   "metadata": {},
   "source": [
    "## Определим издательство, которое выпустило наибольшее число книг толще 50 страниц;"
   ]
  },
  {
   "cell_type": "markdown",
   "metadata": {},
   "source": [
    "Для определения издательства выпустившего наибольшее количество книг более 50 страниц, присоединим к таблице books таблицу publishers."
   ]
  },
  {
   "cell_type": "code",
   "execution_count": 10,
   "metadata": {},
   "outputs": [
    {
     "data": {
      "text/html": [
       "<div>\n",
       "<style scoped>\n",
       "    .dataframe tbody tr th:only-of-type {\n",
       "        vertical-align: middle;\n",
       "    }\n",
       "\n",
       "    .dataframe tbody tr th {\n",
       "        vertical-align: top;\n",
       "    }\n",
       "\n",
       "    .dataframe thead th {\n",
       "        text-align: right;\n",
       "    }\n",
       "</style>\n",
       "<table border=\"1\" class=\"dataframe\">\n",
       "  <thead>\n",
       "    <tr style=\"text-align: right;\">\n",
       "      <th></th>\n",
       "      <th>publisher</th>\n",
       "      <th>count</th>\n",
       "    </tr>\n",
       "  </thead>\n",
       "  <tbody>\n",
       "    <tr>\n",
       "      <th>0</th>\n",
       "      <td>Penguin Books</td>\n",
       "      <td>42</td>\n",
       "    </tr>\n",
       "  </tbody>\n",
       "</table>\n",
       "</div>"
      ],
      "text/plain": [
       "       publisher  count\n",
       "0  Penguin Books     42"
      ]
     },
     "execution_count": 10,
     "metadata": {},
     "output_type": "execute_result"
    }
   ],
   "source": [
    "thick_publisher = '''\n",
    "\n",
    "SELECT  \n",
    "    publisher,\n",
    "    COUNT(publisher)\n",
    "        \n",
    "    \n",
    "FROM books as b \n",
    "\n",
    "LEFT JOIN publishers as p ON b.publisher_id = p.publisher_id      /* присоединим таблицу publishers*/           \n",
    "\n",
    "WHERE num_pages > 50                                              /* установим условие \"более 50 страниц\"*/  \n",
    "\n",
    "GROUP BY publisher\n",
    "\n",
    "ORDER BY count DESC                                               /* выведем количество в порядке убывания*/ \n",
    "\n",
    "LIMIT (1)\n",
    "\n",
    "'''\n",
    "\n",
    "select(thick_publisher)"
   ]
  },
  {
   "cell_type": "markdown",
   "metadata": {},
   "source": [
    "Наибольшее количество книг более 50 страниц напечатало издательство Penguin Books - 42 книги. "
   ]
  },
  {
   "cell_type": "markdown",
   "metadata": {},
   "source": [
    "## Определим автора с самой высокой средней оценкой книг — учитываем только книги с 50 и более оценками;"
   ]
  },
  {
   "cell_type": "markdown",
   "metadata": {},
   "source": [
    "Для решения этой задачи нам понадобится присоединить к таблице books еще 2 таблицы: ratings и authors."
   ]
  },
  {
   "cell_type": "code",
   "execution_count": 11,
   "metadata": {},
   "outputs": [
    {
     "data": {
      "text/html": [
       "<div>\n",
       "<style scoped>\n",
       "    .dataframe tbody tr th:only-of-type {\n",
       "        vertical-align: middle;\n",
       "    }\n",
       "\n",
       "    .dataframe tbody tr th {\n",
       "        vertical-align: top;\n",
       "    }\n",
       "\n",
       "    .dataframe thead th {\n",
       "        text-align: right;\n",
       "    }\n",
       "</style>\n",
       "<table border=\"1\" class=\"dataframe\">\n",
       "  <thead>\n",
       "    <tr style=\"text-align: right;\">\n",
       "      <th></th>\n",
       "      <th>author</th>\n",
       "      <th>rating</th>\n",
       "    </tr>\n",
       "  </thead>\n",
       "  <tbody>\n",
       "    <tr>\n",
       "      <th>0</th>\n",
       "      <td>J.K. Rowling/Mary GrandPré</td>\n",
       "      <td>4.283844</td>\n",
       "    </tr>\n",
       "  </tbody>\n",
       "</table>\n",
       "</div>"
      ],
      "text/plain": [
       "                       author    rating\n",
       "0  J.K. Rowling/Mary GrandPré  4.283844"
      ]
     },
     "execution_count": 11,
     "metadata": {},
     "output_type": "execute_result"
    }
   ],
   "source": [
    "name_authors = '''\n",
    "\n",
    "SELECT \n",
    "    author,\n",
    "    AVG(rating) as rating                               /* считаем средний рейтинг*/\n",
    "    \n",
    "FROM books as b \n",
    "            LEFT JOIN(                                   /* сделаем подзапрос из таблицы ratings и присоединим*/\n",
    "                        SELECT \n",
    "                            book_id,\n",
    "                            AVG(rating) as rating,                   /*считаем средний рейтинг*/ \n",
    "                            COUNT(DISTINCT rating_id) as rating_id   /*считаем количество оценок*/\n",
    "                        FROM ratings\n",
    "                        GROUP BY book_id                    \n",
    "                        \n",
    "                        ) as r ON b.book_id = r.book_id\n",
    "\n",
    "          \n",
    "LEFT JOIN authors as a ON b.author_id = a.author_id       /* присоединим таблицу authors*/ \n",
    "\n",
    "WHERE rating_id >= 50                                     /* условие с 50 и более оценками*/\n",
    "\n",
    "\n",
    "GROUP BY author                                           /* группируем по автору*/\n",
    "\n",
    "\n",
    "\n",
    "ORDER BY rating DESC                                     /* выведем рейтинг в порядке убывания*/\n",
    "\n",
    "LIMIT (1)\n",
    "\n",
    "'''\n",
    "\n",
    "select(name_authors)"
   ]
  },
  {
   "cell_type": "markdown",
   "metadata": {},
   "source": [
    "Самая высокая средняя оценка среди книг с 50 и более оценками принадлежит автору J.K. Rowling/Mary GrandPré"
   ]
  },
  {
   "cell_type": "markdown",
   "metadata": {},
   "source": [
    "## Посчитаем среднее количество обзоров от пользователей, которые поставили больше 50 оценок."
   ]
  },
  {
   "cell_type": "markdown",
   "metadata": {},
   "source": [
    "Для данной цели воспользуемся временными таблицами:"
   ]
  },
  {
   "cell_type": "code",
   "execution_count": 12,
   "metadata": {},
   "outputs": [
    {
     "data": {
      "text/html": [
       "<div>\n",
       "<style scoped>\n",
       "    .dataframe tbody tr th:only-of-type {\n",
       "        vertical-align: middle;\n",
       "    }\n",
       "\n",
       "    .dataframe tbody tr th {\n",
       "        vertical-align: top;\n",
       "    }\n",
       "\n",
       "    .dataframe thead th {\n",
       "        text-align: right;\n",
       "    }\n",
       "</style>\n",
       "<table border=\"1\" class=\"dataframe\">\n",
       "  <thead>\n",
       "    <tr style=\"text-align: right;\">\n",
       "      <th></th>\n",
       "      <th>mean_review</th>\n",
       "    </tr>\n",
       "  </thead>\n",
       "  <tbody>\n",
       "    <tr>\n",
       "      <th>0</th>\n",
       "      <td>24.333333</td>\n",
       "    </tr>\n",
       "  </tbody>\n",
       "</table>\n",
       "</div>"
      ],
      "text/plain": [
       "   mean_review\n",
       "0    24.333333"
      ]
     },
     "execution_count": 12,
     "metadata": {},
     "output_type": "execute_result"
    }
   ],
   "source": [
    "mean_reviews_by_user = '''\n",
    "\n",
    "WITH                                                      /*создадим временную таблицу в которой будут храниться пользователи,\n",
    "                                                         который поставили больше 50 оценок*/ \n",
    "fifty AS ( \n",
    "\n",
    "       SELECT                                           \n",
    "           username,\n",
    "           COUNT(DISTINCT rating_id)\n",
    "\n",
    "       FROM ratings\n",
    "        \n",
    "       GROUP BY username\n",
    "        \n",
    "       HAVING COUNT(DISTINCT rating_id) > 50 \n",
    "),\n",
    "                                                          /*создадим временную таблицу в которой будет храниться информация о\n",
    "                                                          количестве сделаных обзоров по пользователям*/ \n",
    "number_of_reviews AS(\n",
    "\n",
    "        SELECT                                                 \n",
    "            username,\n",
    "            COUNT(DISTINCT review_id) as mean_review\n",
    "            \n",
    "        FROM reviews\n",
    "        \n",
    "        GROUP BY username\n",
    "       \n",
    "\n",
    ")\n",
    "\n",
    "\n",
    "SELECT AVG(mean_review) AS mean_review                      /*посчитаем среднее по основному запросу*/\n",
    "\n",
    "FROM fifty LEFT JOIN number_of_reviews ON  fifty.username=number_of_reviews.username  \n",
    "\n",
    "                                                           /*соединям две временные таблицы*/\n",
    "\n",
    "'''\n",
    "\n",
    "select(mean_reviews_by_user).head()"
   ]
  },
  {
   "cell_type": "markdown",
   "metadata": {},
   "source": [
    "Итак, среднее количество обзоров от пользователей, которые поставили больше 50 оценок составляет 24.33. "
   ]
  },
  {
   "cell_type": "markdown",
   "metadata": {},
   "source": [
    "## Заключение"
   ]
  },
  {
   "cell_type": "markdown",
   "metadata": {},
   "source": [
    "После изучения базы данных пришли к следующим заключениям:\n",
    "\n",
    "1) После 1 января 2000 года вышла 821 книга.\n",
    "\n",
    "2) Итого, максимальное количество обзоров на книгу Twilight (Twilight #1)\n",
    "\n",
    "3) Penguin Books выпустила 42 книги толще 50 страниц.\n",
    "\n",
    "4) Самая высокая средняя оценка среди книг с 50 и более оценками принадлежит автору J.K. Rowling/Mary GrandPré\n",
    "\n",
    "5) Среднее количество обзоров от пользователей, которые поставили больше 50 оценок составляет 24.33.\n",
    "\n",
    "6) В БД присутствует 2 книги c названием Memoirs of a Geisha"
   ]
  }
 ],
 "metadata": {
  "ExecuteTimeLog": [
   {
    "duration": 6785,
    "start_time": "2022-07-13T15:40:15.912Z"
   },
   {
    "duration": 282,
    "start_time": "2022-07-13T16:13:18.990Z"
   },
   {
    "duration": 77,
    "start_time": "2022-07-13T16:13:33.706Z"
   },
   {
    "duration": 83,
    "start_time": "2022-07-13T16:13:45.857Z"
   },
   {
    "duration": 7657,
    "start_time": "2022-07-13T16:15:55.043Z"
   },
   {
    "duration": 254,
    "start_time": "2022-07-13T16:16:02.702Z"
   },
   {
    "duration": 70,
    "start_time": "2022-07-13T16:16:02.958Z"
   },
   {
    "duration": 72,
    "start_time": "2022-07-13T16:16:03.030Z"
   },
   {
    "duration": 73,
    "start_time": "2022-07-13T16:16:03.103Z"
   },
   {
    "duration": 75,
    "start_time": "2022-07-13T16:16:03.177Z"
   },
   {
    "duration": 6889,
    "start_time": "2022-07-13T16:18:21.405Z"
   },
   {
    "duration": 264,
    "start_time": "2022-07-13T16:18:28.296Z"
   },
   {
    "duration": 73,
    "start_time": "2022-07-13T16:18:28.561Z"
   },
   {
    "duration": 74,
    "start_time": "2022-07-13T16:18:28.637Z"
   },
   {
    "duration": 74,
    "start_time": "2022-07-13T16:18:28.713Z"
   },
   {
    "duration": 73,
    "start_time": "2022-07-13T16:18:28.790Z"
   },
   {
    "duration": 74,
    "start_time": "2022-07-13T16:19:07.273Z"
   },
   {
    "duration": 6807,
    "start_time": "2022-07-13T16:19:49.556Z"
   },
   {
    "duration": 4,
    "start_time": "2022-07-13T16:19:56.366Z"
   },
   {
    "duration": 99,
    "start_time": "2022-07-13T16:19:56.372Z"
   },
   {
    "duration": 0,
    "start_time": "2022-07-13T16:19:56.474Z"
   },
   {
    "duration": 0,
    "start_time": "2022-07-13T16:19:56.475Z"
   },
   {
    "duration": 0,
    "start_time": "2022-07-13T16:19:56.476Z"
   },
   {
    "duration": 0,
    "start_time": "2022-07-13T16:19:56.478Z"
   },
   {
    "duration": 6572,
    "start_time": "2022-07-13T16:21:05.598Z"
   },
   {
    "duration": 3,
    "start_time": "2022-07-13T16:21:12.172Z"
   },
   {
    "duration": 263,
    "start_time": "2022-07-13T16:21:12.177Z"
   },
   {
    "duration": 71,
    "start_time": "2022-07-13T16:21:12.442Z"
   },
   {
    "duration": 70,
    "start_time": "2022-07-13T16:21:12.515Z"
   },
   {
    "duration": 71,
    "start_time": "2022-07-13T16:21:12.587Z"
   },
   {
    "duration": 70,
    "start_time": "2022-07-13T16:21:12.660Z"
   },
   {
    "duration": 16,
    "start_time": "2022-07-13T16:22:29.150Z"
   },
   {
    "duration": 104,
    "start_time": "2022-07-13T16:24:04.515Z"
   },
   {
    "duration": 3,
    "start_time": "2022-07-13T16:24:07.070Z"
   },
   {
    "duration": 14,
    "start_time": "2022-07-13T16:24:08.029Z"
   },
   {
    "duration": 12,
    "start_time": "2022-07-13T16:24:28.884Z"
   },
   {
    "duration": 8978,
    "start_time": "2022-07-13T16:24:57.181Z"
   },
   {
    "duration": 3,
    "start_time": "2022-07-13T16:25:06.161Z"
   },
   {
    "duration": 79,
    "start_time": "2022-07-13T16:25:06.165Z"
   },
   {
    "duration": 0,
    "start_time": "2022-07-13T16:25:06.246Z"
   },
   {
    "duration": 0,
    "start_time": "2022-07-13T16:25:06.247Z"
   },
   {
    "duration": 0,
    "start_time": "2022-07-13T16:25:06.248Z"
   },
   {
    "duration": 0,
    "start_time": "2022-07-13T16:25:06.249Z"
   },
   {
    "duration": 248,
    "start_time": "2022-07-13T16:25:16.893Z"
   },
   {
    "duration": 11,
    "start_time": "2022-07-13T16:26:17.870Z"
   },
   {
    "duration": 6434,
    "start_time": "2022-07-13T16:26:37.553Z"
   },
   {
    "duration": 4,
    "start_time": "2022-07-13T16:26:43.989Z"
   },
   {
    "duration": 286,
    "start_time": "2022-07-13T16:26:43.995Z"
   },
   {
    "duration": 72,
    "start_time": "2022-07-13T16:26:44.283Z"
   },
   {
    "duration": 75,
    "start_time": "2022-07-13T16:26:44.357Z"
   },
   {
    "duration": 80,
    "start_time": "2022-07-13T16:26:44.434Z"
   },
   {
    "duration": 78,
    "start_time": "2022-07-13T16:26:44.517Z"
   },
   {
    "duration": 3,
    "start_time": "2022-07-13T16:52:00.451Z"
   },
   {
    "duration": 68,
    "start_time": "2022-07-13T16:53:19.594Z"
   },
   {
    "duration": 6436,
    "start_time": "2022-07-13T16:53:35.103Z"
   },
   {
    "duration": 3,
    "start_time": "2022-07-13T16:53:41.541Z"
   },
   {
    "duration": 16,
    "start_time": "2022-07-13T16:53:41.546Z"
   },
   {
    "duration": 67,
    "start_time": "2022-07-13T16:53:41.564Z"
   },
   {
    "duration": 462,
    "start_time": "2022-07-13T16:53:57.335Z"
   },
   {
    "duration": 360,
    "start_time": "2022-07-13T16:54:08.523Z"
   },
   {
    "duration": 362,
    "start_time": "2022-07-13T16:54:47.200Z"
   },
   {
    "duration": 340,
    "start_time": "2022-07-13T16:54:56.694Z"
   },
   {
    "duration": 7409,
    "start_time": "2022-07-13T16:55:29.099Z"
   },
   {
    "duration": 3,
    "start_time": "2022-07-13T16:55:36.510Z"
   },
   {
    "duration": 7,
    "start_time": "2022-07-13T16:55:36.514Z"
   },
   {
    "duration": 619,
    "start_time": "2022-07-13T16:55:36.523Z"
   },
   {
    "duration": 3,
    "start_time": "2022-07-13T17:01:13.279Z"
   },
   {
    "duration": 206,
    "start_time": "2022-07-13T17:01:33.365Z"
   },
   {
    "duration": 151,
    "start_time": "2022-07-13T17:01:47.507Z"
   },
   {
    "duration": 138,
    "start_time": "2022-07-13T17:02:00.285Z"
   },
   {
    "duration": 143,
    "start_time": "2022-07-13T17:02:04.158Z"
   },
   {
    "duration": 138,
    "start_time": "2022-07-13T17:02:51.346Z"
   },
   {
    "duration": 150,
    "start_time": "2022-07-13T17:03:04.624Z"
   },
   {
    "duration": 142,
    "start_time": "2022-07-13T17:03:50.034Z"
   },
   {
    "duration": 284,
    "start_time": "2022-07-13T17:06:21.216Z"
   },
   {
    "duration": 149,
    "start_time": "2022-07-13T17:07:36.099Z"
   },
   {
    "duration": 231,
    "start_time": "2022-07-13T17:07:41.517Z"
   },
   {
    "duration": 183,
    "start_time": "2022-07-13T17:08:15.667Z"
   },
   {
    "duration": 7526,
    "start_time": "2022-07-13T17:08:34.883Z"
   },
   {
    "duration": 3,
    "start_time": "2022-07-13T17:08:42.411Z"
   },
   {
    "duration": 15,
    "start_time": "2022-07-13T17:08:42.416Z"
   },
   {
    "duration": 643,
    "start_time": "2022-07-13T17:08:42.433Z"
   },
   {
    "duration": 246,
    "start_time": "2022-07-13T17:08:43.078Z"
   },
   {
    "duration": 134,
    "start_time": "2022-07-13T17:09:43.827Z"
   },
   {
    "duration": 228,
    "start_time": "2022-07-13T17:12:23.486Z"
   },
   {
    "duration": 167,
    "start_time": "2022-07-13T17:12:27.657Z"
   },
   {
    "duration": 145,
    "start_time": "2022-07-13T17:12:31.590Z"
   },
   {
    "duration": 138,
    "start_time": "2022-07-13T17:12:49.533Z"
   },
   {
    "duration": 140,
    "start_time": "2022-07-13T17:13:55.485Z"
   },
   {
    "duration": 145,
    "start_time": "2022-07-13T17:14:24.718Z"
   },
   {
    "duration": 77,
    "start_time": "2022-07-13T17:14:28.087Z"
   },
   {
    "duration": 75,
    "start_time": "2022-07-13T17:14:45.342Z"
   },
   {
    "duration": 81,
    "start_time": "2022-07-13T17:14:50.652Z"
   },
   {
    "duration": 3,
    "start_time": "2022-07-13T17:24:35.790Z"
   },
   {
    "duration": 142,
    "start_time": "2022-07-13T17:24:53.618Z"
   },
   {
    "duration": 372,
    "start_time": "2022-07-13T17:25:52.991Z"
   },
   {
    "duration": 140,
    "start_time": "2022-07-13T17:28:23.582Z"
   },
   {
    "duration": 137,
    "start_time": "2022-07-13T17:28:40.259Z"
   },
   {
    "duration": 144,
    "start_time": "2022-07-13T17:28:59.184Z"
   },
   {
    "duration": 200,
    "start_time": "2022-07-13T17:29:02.525Z"
   },
   {
    "duration": 82,
    "start_time": "2022-07-13T17:29:18.030Z"
   },
   {
    "duration": 140,
    "start_time": "2022-07-13T17:30:14.654Z"
   },
   {
    "duration": 136,
    "start_time": "2022-07-13T17:30:18.802Z"
   },
   {
    "duration": 111,
    "start_time": "2022-07-13T17:31:36.552Z"
   },
   {
    "duration": 110,
    "start_time": "2022-07-13T17:31:47.294Z"
   },
   {
    "duration": 174,
    "start_time": "2022-07-13T17:31:59.893Z"
   },
   {
    "duration": 121,
    "start_time": "2022-07-13T17:32:02.623Z"
   },
   {
    "duration": 113,
    "start_time": "2022-07-13T17:33:13.710Z"
   },
   {
    "duration": 9,
    "start_time": "2022-07-13T17:33:55.536Z"
   },
   {
    "duration": 122,
    "start_time": "2022-07-13T17:34:04.417Z"
   },
   {
    "duration": 113,
    "start_time": "2022-07-13T17:35:33.031Z"
   },
   {
    "duration": 116,
    "start_time": "2022-07-13T17:39:49.708Z"
   },
   {
    "duration": 177,
    "start_time": "2022-07-13T17:40:42.014Z"
   },
   {
    "duration": 233,
    "start_time": "2022-07-13T17:40:51.429Z"
   },
   {
    "duration": 121,
    "start_time": "2022-07-13T17:40:56.463Z"
   },
   {
    "duration": 160,
    "start_time": "2022-07-13T17:43:59.010Z"
   },
   {
    "duration": 119,
    "start_time": "2022-07-13T17:44:04.044Z"
   },
   {
    "duration": 131,
    "start_time": "2022-07-13T17:44:17.448Z"
   },
   {
    "duration": 176,
    "start_time": "2022-07-13T17:47:30.270Z"
   },
   {
    "duration": 167,
    "start_time": "2022-07-13T17:47:36.582Z"
   },
   {
    "duration": 134,
    "start_time": "2022-07-13T17:48:31.042Z"
   },
   {
    "duration": 216,
    "start_time": "2022-07-13T17:48:46.289Z"
   },
   {
    "duration": 111,
    "start_time": "2022-07-13T17:48:50.385Z"
   },
   {
    "duration": 115,
    "start_time": "2022-07-13T17:55:09.459Z"
   },
   {
    "duration": 236,
    "start_time": "2022-07-13T18:00:19.055Z"
   },
   {
    "duration": 154,
    "start_time": "2022-07-13T18:01:11.101Z"
   },
   {
    "duration": 74,
    "start_time": "2022-07-13T18:01:42.659Z"
   },
   {
    "duration": 153,
    "start_time": "2022-07-13T18:03:01.939Z"
   },
   {
    "duration": 86,
    "start_time": "2022-07-13T18:03:24.006Z"
   },
   {
    "duration": 74,
    "start_time": "2022-07-13T18:03:46.150Z"
   },
   {
    "duration": 76,
    "start_time": "2022-07-13T18:09:23.588Z"
   },
   {
    "duration": 3,
    "start_time": "2022-07-13T18:18:01.766Z"
   },
   {
    "duration": 153,
    "start_time": "2022-07-13T18:18:14.693Z"
   },
   {
    "duration": 189,
    "start_time": "2022-07-13T18:18:59.906Z"
   },
   {
    "duration": 143,
    "start_time": "2022-07-13T18:20:11.848Z"
   },
   {
    "duration": 136,
    "start_time": "2022-07-13T18:20:36.896Z"
   },
   {
    "duration": 85,
    "start_time": "2022-07-13T18:22:24.394Z"
   },
   {
    "duration": 198,
    "start_time": "2022-07-13T18:22:54.212Z"
   },
   {
    "duration": 149,
    "start_time": "2022-07-13T18:22:57.882Z"
   },
   {
    "duration": 86,
    "start_time": "2022-07-13T18:23:01.700Z"
   },
   {
    "duration": 81,
    "start_time": "2022-07-13T18:24:11.370Z"
   },
   {
    "duration": 81,
    "start_time": "2022-07-13T18:24:21.889Z"
   },
   {
    "duration": 207,
    "start_time": "2022-07-13T19:06:20.795Z"
   },
   {
    "duration": 142,
    "start_time": "2022-07-13T19:10:46.998Z"
   },
   {
    "duration": 144,
    "start_time": "2022-07-13T19:10:51.591Z"
   },
   {
    "duration": 85,
    "start_time": "2022-07-13T19:10:54.322Z"
   },
   {
    "duration": 3,
    "start_time": "2022-07-13T19:12:20.570Z"
   },
   {
    "duration": 136,
    "start_time": "2022-07-13T19:12:33.231Z"
   },
   {
    "duration": 167,
    "start_time": "2022-07-13T19:14:22.025Z"
   },
   {
    "duration": 154,
    "start_time": "2022-07-13T19:15:02.630Z"
   },
   {
    "duration": 142,
    "start_time": "2022-07-13T19:15:15.846Z"
   },
   {
    "duration": 165,
    "start_time": "2022-07-13T19:16:11.808Z"
   },
   {
    "duration": 90,
    "start_time": "2022-07-13T19:16:31.066Z"
   },
   {
    "duration": 94,
    "start_time": "2022-07-13T19:16:58.478Z"
   },
   {
    "duration": 142,
    "start_time": "2022-07-13T19:22:05.212Z"
   },
   {
    "duration": 130,
    "start_time": "2022-07-13T19:22:12.700Z"
   },
   {
    "duration": 78,
    "start_time": "2022-07-13T19:25:40.251Z"
   },
   {
    "duration": 129,
    "start_time": "2022-07-13T19:27:08.153Z"
   },
   {
    "duration": 135,
    "start_time": "2022-07-13T19:27:19.656Z"
   },
   {
    "duration": 176,
    "start_time": "2022-07-13T19:43:10.835Z"
   },
   {
    "duration": 141,
    "start_time": "2022-07-13T19:44:23.841Z"
   },
   {
    "duration": 141,
    "start_time": "2022-07-13T19:46:36.467Z"
   },
   {
    "duration": 135,
    "start_time": "2022-07-13T19:47:49.742Z"
   },
   {
    "duration": 139,
    "start_time": "2022-07-13T19:48:06.765Z"
   },
   {
    "duration": 133,
    "start_time": "2022-07-13T19:48:37.982Z"
   },
   {
    "duration": 168,
    "start_time": "2022-07-13T19:48:56.269Z"
   },
   {
    "duration": 139,
    "start_time": "2022-07-13T19:51:23.277Z"
   },
   {
    "duration": 134,
    "start_time": "2022-07-13T19:51:39.974Z"
   },
   {
    "duration": 3,
    "start_time": "2022-07-13T19:58:34.576Z"
   },
   {
    "duration": 138,
    "start_time": "2022-07-13T19:58:57.173Z"
   },
   {
    "duration": 3,
    "start_time": "2022-07-13T19:59:17.901Z"
   },
   {
    "duration": 144,
    "start_time": "2022-07-13T19:59:24.152Z"
   },
   {
    "duration": 138,
    "start_time": "2022-07-13T19:59:51.288Z"
   },
   {
    "duration": 241,
    "start_time": "2022-07-13T20:00:29.936Z"
   },
   {
    "duration": 79,
    "start_time": "2022-07-13T20:00:42.158Z"
   },
   {
    "duration": 131,
    "start_time": "2022-07-13T20:01:29.075Z"
   },
   {
    "duration": 131,
    "start_time": "2022-07-13T20:02:36.458Z"
   },
   {
    "duration": 140,
    "start_time": "2022-07-13T20:03:08.835Z"
   },
   {
    "duration": 84,
    "start_time": "2022-07-13T20:04:24.632Z"
   },
   {
    "duration": 84,
    "start_time": "2022-07-13T20:09:27.666Z"
   },
   {
    "duration": 139,
    "start_time": "2022-07-13T20:10:35.764Z"
   },
   {
    "duration": 140,
    "start_time": "2022-07-13T20:10:53.273Z"
   },
   {
    "duration": 149,
    "start_time": "2022-07-13T20:11:27.439Z"
   },
   {
    "duration": 134,
    "start_time": "2022-07-13T20:12:03.318Z"
   },
   {
    "duration": 153,
    "start_time": "2022-07-13T20:12:33.046Z"
   },
   {
    "duration": 75,
    "start_time": "2022-07-13T20:12:49.455Z"
   },
   {
    "duration": 3,
    "start_time": "2022-07-13T20:17:17.354Z"
   },
   {
    "duration": 132,
    "start_time": "2022-07-13T20:17:30.572Z"
   },
   {
    "duration": 139,
    "start_time": "2022-07-13T20:17:55.145Z"
   },
   {
    "duration": 81,
    "start_time": "2022-07-13T20:19:23.616Z"
   },
   {
    "duration": 82,
    "start_time": "2022-07-13T20:20:51.748Z"
   },
   {
    "duration": 6935,
    "start_time": "2022-07-13T20:27:24.531Z"
   },
   {
    "duration": 3,
    "start_time": "2022-07-13T20:27:31.469Z"
   },
   {
    "duration": 12,
    "start_time": "2022-07-13T20:27:31.474Z"
   },
   {
    "duration": 651,
    "start_time": "2022-07-13T20:27:31.488Z"
   },
   {
    "duration": 70,
    "start_time": "2022-07-13T20:27:32.142Z"
   },
   {
    "duration": 91,
    "start_time": "2022-07-13T20:27:32.214Z"
   },
   {
    "duration": 74,
    "start_time": "2022-07-13T20:27:32.307Z"
   },
   {
    "duration": 79,
    "start_time": "2022-07-13T20:27:32.383Z"
   },
   {
    "duration": 80,
    "start_time": "2022-07-13T20:27:32.464Z"
   },
   {
    "duration": 81,
    "start_time": "2022-07-13T20:29:36.231Z"
   },
   {
    "duration": 5929,
    "start_time": "2022-07-14T18:27:21.456Z"
   },
   {
    "duration": 3,
    "start_time": "2022-07-14T18:27:27.387Z"
   },
   {
    "duration": 11,
    "start_time": "2022-07-14T18:27:27.392Z"
   },
   {
    "duration": 545,
    "start_time": "2022-07-14T18:27:27.405Z"
   },
   {
    "duration": 75,
    "start_time": "2022-07-14T18:27:27.952Z"
   },
   {
    "duration": 116,
    "start_time": "2022-07-14T18:27:28.030Z"
   },
   {
    "duration": 78,
    "start_time": "2022-07-14T18:27:28.148Z"
   },
   {
    "duration": 79,
    "start_time": "2022-07-14T18:27:28.229Z"
   },
   {
    "duration": 81,
    "start_time": "2022-07-14T18:27:28.311Z"
   },
   {
    "duration": 6190,
    "start_time": "2022-07-14T18:27:41.260Z"
   },
   {
    "duration": 4,
    "start_time": "2022-07-14T18:27:47.453Z"
   },
   {
    "duration": 14,
    "start_time": "2022-07-14T18:27:47.459Z"
   },
   {
    "duration": 520,
    "start_time": "2022-07-14T18:27:47.475Z"
   },
   {
    "duration": 69,
    "start_time": "2022-07-14T18:27:47.998Z"
   },
   {
    "duration": 116,
    "start_time": "2022-07-14T18:27:48.069Z"
   },
   {
    "duration": 73,
    "start_time": "2022-07-14T18:27:48.187Z"
   },
   {
    "duration": 81,
    "start_time": "2022-07-14T18:27:48.261Z"
   },
   {
    "duration": 76,
    "start_time": "2022-07-14T18:27:48.345Z"
   },
   {
    "duration": 53,
    "start_time": "2022-07-14T18:29:14.852Z"
   },
   {
    "duration": 107,
    "start_time": "2022-07-14T18:33:56.878Z"
   },
   {
    "duration": 133,
    "start_time": "2022-07-14T18:34:28.631Z"
   },
   {
    "duration": 96,
    "start_time": "2022-07-14T18:35:05.157Z"
   },
   {
    "duration": 206,
    "start_time": "2022-07-14T19:03:54.821Z"
   },
   {
    "duration": 152,
    "start_time": "2022-07-14T19:04:13.289Z"
   },
   {
    "duration": 134,
    "start_time": "2022-07-14T19:04:50.129Z"
   },
   {
    "duration": 154,
    "start_time": "2022-07-14T19:09:00.074Z"
   },
   {
    "duration": 129,
    "start_time": "2022-07-14T19:09:23.996Z"
   },
   {
    "duration": 80,
    "start_time": "2022-07-14T19:11:34.058Z"
   },
   {
    "duration": 89,
    "start_time": "2022-07-14T19:11:48.776Z"
   },
   {
    "duration": 80,
    "start_time": "2022-07-14T19:12:02.473Z"
   },
   {
    "duration": 130,
    "start_time": "2022-07-14T19:22:43.010Z"
   },
   {
    "duration": 93,
    "start_time": "2022-07-14T19:24:49.685Z"
   },
   {
    "duration": 149,
    "start_time": "2022-07-14T19:25:26.070Z"
   },
   {
    "duration": 137,
    "start_time": "2022-07-14T19:25:42.391Z"
   },
   {
    "duration": 75,
    "start_time": "2022-07-14T19:25:51.773Z"
   },
   {
    "duration": 53,
    "start_time": "2022-07-14T19:33:16.618Z"
   },
   {
    "duration": 96,
    "start_time": "2022-07-14T19:33:23.531Z"
   },
   {
    "duration": 99,
    "start_time": "2022-07-14T19:33:57.859Z"
   },
   {
    "duration": 133,
    "start_time": "2022-07-14T19:34:32.975Z"
   },
   {
    "duration": 73,
    "start_time": "2022-07-14T19:35:12.485Z"
   },
   {
    "duration": 71,
    "start_time": "2022-07-14T19:35:42.868Z"
   },
   {
    "duration": 130,
    "start_time": "2022-07-14T19:36:34.408Z"
   },
   {
    "duration": 126,
    "start_time": "2022-07-14T19:36:41.026Z"
   },
   {
    "duration": 127,
    "start_time": "2022-07-14T19:37:10.171Z"
   },
   {
    "duration": 75,
    "start_time": "2022-07-14T19:37:20.513Z"
   },
   {
    "duration": 137,
    "start_time": "2022-07-14T19:37:35.859Z"
   },
   {
    "duration": 73,
    "start_time": "2022-07-14T19:37:48.177Z"
   },
   {
    "duration": 73,
    "start_time": "2022-07-14T19:38:12.976Z"
   },
   {
    "duration": 146,
    "start_time": "2022-07-14T19:41:21.186Z"
   },
   {
    "duration": 128,
    "start_time": "2022-07-14T19:41:30.990Z"
   },
   {
    "duration": 122,
    "start_time": "2022-07-14T19:41:55.632Z"
   },
   {
    "duration": 75,
    "start_time": "2022-07-14T19:42:04.671Z"
   },
   {
    "duration": 73,
    "start_time": "2022-07-14T19:42:34.803Z"
   },
   {
    "duration": 72,
    "start_time": "2022-07-14T19:43:06.707Z"
   },
   {
    "duration": 70,
    "start_time": "2022-07-14T19:44:56.182Z"
   },
   {
    "duration": 122,
    "start_time": "2022-07-14T19:46:38.730Z"
   },
   {
    "duration": 3,
    "start_time": "2022-07-14T19:47:43.441Z"
   },
   {
    "duration": 69,
    "start_time": "2022-07-14T19:47:57.005Z"
   },
   {
    "duration": 106,
    "start_time": "2022-07-14T19:48:24.910Z"
   },
   {
    "duration": 73,
    "start_time": "2022-07-14T19:48:39.404Z"
   },
   {
    "duration": 70,
    "start_time": "2022-07-14T19:50:02.958Z"
   },
   {
    "duration": 71,
    "start_time": "2022-07-14T19:50:29.366Z"
   },
   {
    "duration": 70,
    "start_time": "2022-07-14T19:50:58.298Z"
   },
   {
    "duration": 3,
    "start_time": "2022-07-14T19:51:19.290Z"
   },
   {
    "duration": 66,
    "start_time": "2022-07-14T19:51:33.971Z"
   },
   {
    "duration": 99,
    "start_time": "2022-07-14T19:51:36.682Z"
   },
   {
    "duration": 71,
    "start_time": "2022-07-14T19:51:52.217Z"
   },
   {
    "duration": 83,
    "start_time": "2022-07-14T19:52:39.466Z"
   },
   {
    "duration": 95,
    "start_time": "2022-07-14T19:52:44.326Z"
   },
   {
    "duration": 69,
    "start_time": "2022-07-14T19:53:05.986Z"
   },
   {
    "duration": 115,
    "start_time": "2022-07-14T19:53:56.226Z"
   },
   {
    "duration": 110,
    "start_time": "2022-07-14T19:54:15.781Z"
   },
   {
    "duration": 109,
    "start_time": "2022-07-14T19:55:50.405Z"
   },
   {
    "duration": 111,
    "start_time": "2022-07-14T19:56:01.090Z"
   },
   {
    "duration": 110,
    "start_time": "2022-07-14T19:56:23.605Z"
   },
   {
    "duration": 113,
    "start_time": "2022-07-14T19:58:25.187Z"
   },
   {
    "duration": 104,
    "start_time": "2022-07-14T19:58:43.501Z"
   },
   {
    "duration": 106,
    "start_time": "2022-07-14T19:58:55.606Z"
   },
   {
    "duration": 106,
    "start_time": "2022-07-14T19:58:59.034Z"
   },
   {
    "duration": 105,
    "start_time": "2022-07-14T19:59:12.470Z"
   },
   {
    "duration": 112,
    "start_time": "2022-07-14T19:59:42.429Z"
   },
   {
    "duration": 106,
    "start_time": "2022-07-14T19:59:49.870Z"
   },
   {
    "duration": 105,
    "start_time": "2022-07-14T19:59:54.112Z"
   },
   {
    "duration": 104,
    "start_time": "2022-07-14T19:59:58.012Z"
   },
   {
    "duration": 107,
    "start_time": "2022-07-14T20:00:04.914Z"
   },
   {
    "duration": 102,
    "start_time": "2022-07-14T20:00:09.978Z"
   },
   {
    "duration": 111,
    "start_time": "2022-07-14T20:00:14.077Z"
   },
   {
    "duration": 101,
    "start_time": "2022-07-14T20:02:02.043Z"
   },
   {
    "duration": 94,
    "start_time": "2022-07-14T20:02:13.870Z"
   },
   {
    "duration": 87,
    "start_time": "2022-07-14T20:02:17.927Z"
   },
   {
    "duration": 95,
    "start_time": "2022-07-14T20:02:29.278Z"
   },
   {
    "duration": 92,
    "start_time": "2022-07-14T20:02:34.227Z"
   },
   {
    "duration": 55,
    "start_time": "2022-07-14T20:05:51.472Z"
   },
   {
    "duration": 3,
    "start_time": "2022-07-14T20:06:01.882Z"
   },
   {
    "duration": 145,
    "start_time": "2022-07-14T20:06:14.777Z"
   },
   {
    "duration": 208,
    "start_time": "2022-07-14T20:08:33.868Z"
   },
   {
    "duration": 165,
    "start_time": "2022-07-14T20:08:45.108Z"
   },
   {
    "duration": 71,
    "start_time": "2022-07-14T20:09:15.086Z"
   },
   {
    "duration": 70,
    "start_time": "2022-07-14T20:17:15.316Z"
   },
   {
    "duration": 127,
    "start_time": "2022-07-14T20:17:46.877Z"
   },
   {
    "duration": 124,
    "start_time": "2022-07-14T20:18:08.207Z"
   },
   {
    "duration": 70,
    "start_time": "2022-07-14T20:18:31.780Z"
   },
   {
    "duration": 101,
    "start_time": "2022-07-14T20:19:10.478Z"
   },
   {
    "duration": 99,
    "start_time": "2022-07-14T20:19:44.673Z"
   },
   {
    "duration": 5966,
    "start_time": "2022-07-14T20:27:48.003Z"
   },
   {
    "duration": 4,
    "start_time": "2022-07-14T20:27:53.972Z"
   },
   {
    "duration": 24,
    "start_time": "2022-07-14T20:27:53.978Z"
   },
   {
    "duration": 602,
    "start_time": "2022-07-14T20:27:54.004Z"
   },
   {
    "duration": 90,
    "start_time": "2022-07-14T20:27:54.608Z"
   },
   {
    "duration": 131,
    "start_time": "2022-07-14T20:27:54.700Z"
   },
   {
    "duration": 85,
    "start_time": "2022-07-14T20:27:54.833Z"
   },
   {
    "duration": 82,
    "start_time": "2022-07-14T20:27:54.920Z"
   },
   {
    "duration": 85,
    "start_time": "2022-07-14T20:27:55.004Z"
   },
   {
    "duration": 84,
    "start_time": "2022-07-14T20:27:55.091Z"
   },
   {
    "duration": 83,
    "start_time": "2022-07-14T20:27:55.176Z"
   },
   {
    "duration": 211,
    "start_time": "2022-07-14T20:35:54.284Z"
   },
   {
    "duration": 148,
    "start_time": "2022-07-14T20:35:59.695Z"
   },
   {
    "duration": 84,
    "start_time": "2022-07-14T20:36:10.388Z"
   },
   {
    "duration": 173,
    "start_time": "2022-07-14T20:38:10.622Z"
   },
   {
    "duration": 85,
    "start_time": "2022-07-14T20:38:29.138Z"
   },
   {
    "duration": 83,
    "start_time": "2022-07-14T20:38:37.589Z"
   },
   {
    "duration": 112,
    "start_time": "2022-07-14T20:38:55.779Z"
   },
   {
    "duration": 80,
    "start_time": "2022-07-14T20:39:01.306Z"
   },
   {
    "duration": 151,
    "start_time": "2022-07-14T20:41:37.614Z"
   },
   {
    "duration": 135,
    "start_time": "2022-07-14T20:41:59.443Z"
   },
   {
    "duration": 217,
    "start_time": "2022-07-14T20:42:53.813Z"
   },
   {
    "duration": 149,
    "start_time": "2022-07-14T20:43:09.151Z"
   },
   {
    "duration": 155,
    "start_time": "2022-07-14T20:43:12.318Z"
   },
   {
    "duration": 118,
    "start_time": "2022-07-14T20:43:54.323Z"
   },
   {
    "duration": 5850,
    "start_time": "2022-07-14T20:46:21.571Z"
   },
   {
    "duration": 2,
    "start_time": "2022-07-14T20:46:27.424Z"
   },
   {
    "duration": 5,
    "start_time": "2022-07-14T20:46:27.428Z"
   },
   {
    "duration": 603,
    "start_time": "2022-07-14T20:46:27.435Z"
   },
   {
    "duration": 84,
    "start_time": "2022-07-14T20:46:28.039Z"
   },
   {
    "duration": 129,
    "start_time": "2022-07-14T20:46:28.125Z"
   },
   {
    "duration": 76,
    "start_time": "2022-07-14T20:46:28.255Z"
   },
   {
    "duration": 83,
    "start_time": "2022-07-14T20:46:28.332Z"
   },
   {
    "duration": 116,
    "start_time": "2022-07-14T20:46:28.417Z"
   },
   {
    "duration": 84,
    "start_time": "2022-07-14T20:46:28.535Z"
   },
   {
    "duration": 82,
    "start_time": "2022-07-14T20:46:28.622Z"
   },
   {
    "duration": 87,
    "start_time": "2022-07-14T20:46:28.705Z"
   },
   {
    "duration": 47,
    "start_time": "2022-07-15T13:28:57.704Z"
   },
   {
    "duration": 16341,
    "start_time": "2022-07-15T13:29:02.409Z"
   },
   {
    "duration": 3,
    "start_time": "2022-07-15T13:29:18.753Z"
   },
   {
    "duration": 36,
    "start_time": "2022-07-15T13:29:18.758Z"
   },
   {
    "duration": 157,
    "start_time": "2022-07-15T13:29:18.796Z"
   },
   {
    "duration": 37,
    "start_time": "2022-07-15T13:29:18.955Z"
   },
   {
    "duration": 40,
    "start_time": "2022-07-15T13:29:18.994Z"
   },
   {
    "duration": 13,
    "start_time": "2022-07-15T13:29:19.036Z"
   },
   {
    "duration": 54,
    "start_time": "2022-07-15T13:29:19.055Z"
   },
   {
    "duration": 35,
    "start_time": "2022-07-15T13:29:19.111Z"
   },
   {
    "duration": 53,
    "start_time": "2022-07-15T13:29:19.148Z"
   },
   {
    "duration": 18,
    "start_time": "2022-07-15T13:29:19.203Z"
   },
   {
    "duration": 204,
    "start_time": "2022-07-15T13:29:19.223Z"
   },
   {
    "duration": 180,
    "start_time": "2022-07-15T13:29:29.441Z"
   },
   {
    "duration": 16,
    "start_time": "2022-07-15T13:29:41.182Z"
   },
   {
    "duration": 191,
    "start_time": "2022-07-15T13:34:21.045Z"
   },
   {
    "duration": 171,
    "start_time": "2022-07-15T13:34:50.021Z"
   },
   {
    "duration": 25,
    "start_time": "2022-07-15T13:35:04.741Z"
   },
   {
    "duration": 17,
    "start_time": "2022-07-15T13:35:53.493Z"
   },
   {
    "duration": 165,
    "start_time": "2022-07-15T13:36:40.133Z"
   },
   {
    "duration": 51,
    "start_time": "2022-07-15T13:36:43.945Z"
   },
   {
    "duration": 16,
    "start_time": "2022-07-15T13:37:30.135Z"
   }
  ],
  "kernelspec": {
   "display_name": "Python 3 (ipykernel)",
   "language": "python",
   "name": "python3"
  },
  "language_info": {
   "codemirror_mode": {
    "name": "ipython",
    "version": 3
   },
   "file_extension": ".py",
   "mimetype": "text/x-python",
   "name": "python",
   "nbconvert_exporter": "python",
   "pygments_lexer": "ipython3",
   "version": "3.9.5"
  },
  "toc": {
   "base_numbering": 1,
   "nav_menu": {},
   "number_sections": true,
   "sideBar": true,
   "skip_h1_title": true,
   "title_cell": "Table of Contents",
   "title_sidebar": "Contents",
   "toc_cell": false,
   "toc_position": {},
   "toc_section_display": true,
   "toc_window_display": false
  }
 },
 "nbformat": 4,
 "nbformat_minor": 2
}
