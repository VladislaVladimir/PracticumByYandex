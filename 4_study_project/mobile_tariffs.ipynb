{
 "cells": [
  {
   "cell_type": "code",
   "execution_count": 1,
   "metadata": {},
   "outputs": [],
   "source": [
    "from scipy import stats as st\n",
    "import pandas as pd\n",
    "import numpy as np \n",
    "import matplotlib.pyplot as plt\n",
    "import seaborn as sns"
   ]
  },
  {
   "cell_type": "markdown",
   "metadata": {},
   "source": [
    "# Тема: Определение перспективного тарифа для телеком-компании"
   ]
  },
  {
   "cell_type": "markdown",
   "metadata": {},
   "source": [
    "## Изучение данных"
   ]
  },
  {
   "cell_type": "markdown",
   "metadata": {},
   "source": [
    "Откроем и сохраним в переменные наши данные:"
   ]
  },
  {
   "cell_type": "code",
   "execution_count": 2,
   "metadata": {},
   "outputs": [],
   "source": [
    "calls = pd.read_csv('/datasets/calls.csv')\n",
    "internet = pd.read_csv('/datasets/internet.csv')\n",
    "messages = pd.read_csv('/datasets/messages.csv')\n",
    "tariffs = pd.read_csv('/datasets/tariffs.csv')\n",
    "users = pd.read_csv('/datasets/users.csv')"
   ]
  },
  {
   "cell_type": "markdown",
   "metadata": {},
   "source": [
    "Напишим цикл для того, чтобы сразу открыть первые 5 строк наших датасетов для изучения:"
   ]
  },
  {
   "cell_type": "code",
   "execution_count": 3,
   "metadata": {
    "scrolled": false
   },
   "outputs": [
    {
     "data": {
      "text/plain": [
       "'CALL_FRAME'"
      ]
     },
     "metadata": {},
     "output_type": "display_data"
    },
    {
     "name": "stdout",
     "output_type": "stream",
     "text": [
      "<class 'pandas.core.frame.DataFrame'>\n",
      "RangeIndex: 202607 entries, 0 to 202606\n",
      "Data columns (total 4 columns):\n",
      " #   Column     Non-Null Count   Dtype  \n",
      "---  ------     --------------   -----  \n",
      " 0   id         202607 non-null  object \n",
      " 1   call_date  202607 non-null  object \n",
      " 2   duration   202607 non-null  float64\n",
      " 3   user_id    202607 non-null  int64  \n",
      "dtypes: float64(1), int64(1), object(2)\n",
      "memory usage: 6.2+ MB\n"
     ]
    },
    {
     "data": {
      "text/html": [
       "<div>\n",
       "<style scoped>\n",
       "    .dataframe tbody tr th:only-of-type {\n",
       "        vertical-align: middle;\n",
       "    }\n",
       "\n",
       "    .dataframe tbody tr th {\n",
       "        vertical-align: top;\n",
       "    }\n",
       "\n",
       "    .dataframe thead th {\n",
       "        text-align: right;\n",
       "    }\n",
       "</style>\n",
       "<table border=\"1\" class=\"dataframe\">\n",
       "  <thead>\n",
       "    <tr style=\"text-align: right;\">\n",
       "      <th></th>\n",
       "      <th>id</th>\n",
       "      <th>call_date</th>\n",
       "      <th>duration</th>\n",
       "      <th>user_id</th>\n",
       "    </tr>\n",
       "  </thead>\n",
       "  <tbody>\n",
       "    <tr>\n",
       "      <th>0</th>\n",
       "      <td>1000_0</td>\n",
       "      <td>2018-07-25</td>\n",
       "      <td>0.00</td>\n",
       "      <td>1000</td>\n",
       "    </tr>\n",
       "    <tr>\n",
       "      <th>1</th>\n",
       "      <td>1000_1</td>\n",
       "      <td>2018-08-17</td>\n",
       "      <td>0.00</td>\n",
       "      <td>1000</td>\n",
       "    </tr>\n",
       "    <tr>\n",
       "      <th>2</th>\n",
       "      <td>1000_2</td>\n",
       "      <td>2018-06-11</td>\n",
       "      <td>2.85</td>\n",
       "      <td>1000</td>\n",
       "    </tr>\n",
       "    <tr>\n",
       "      <th>3</th>\n",
       "      <td>1000_3</td>\n",
       "      <td>2018-09-21</td>\n",
       "      <td>13.80</td>\n",
       "      <td>1000</td>\n",
       "    </tr>\n",
       "    <tr>\n",
       "      <th>4</th>\n",
       "      <td>1000_4</td>\n",
       "      <td>2018-12-15</td>\n",
       "      <td>5.18</td>\n",
       "      <td>1000</td>\n",
       "    </tr>\n",
       "  </tbody>\n",
       "</table>\n",
       "</div>"
      ],
      "text/plain": [
       "       id   call_date  duration  user_id\n",
       "0  1000_0  2018-07-25      0.00     1000\n",
       "1  1000_1  2018-08-17      0.00     1000\n",
       "2  1000_2  2018-06-11      2.85     1000\n",
       "3  1000_3  2018-09-21     13.80     1000\n",
       "4  1000_4  2018-12-15      5.18     1000"
      ]
     },
     "metadata": {},
     "output_type": "display_data"
    },
    {
     "data": {
      "text/plain": [
       "None"
      ]
     },
     "metadata": {},
     "output_type": "display_data"
    },
    {
     "data": {
      "text/plain": [
       "id           0\n",
       "call_date    0\n",
       "duration     0\n",
       "user_id      0\n",
       "dtype: int64"
      ]
     },
     "metadata": {},
     "output_type": "display_data"
    },
    {
     "data": {
      "text/plain": [
       "0"
      ]
     },
     "metadata": {},
     "output_type": "display_data"
    },
    {
     "data": {
      "text/plain": [
       "'INTERNET_FRAME'"
      ]
     },
     "metadata": {},
     "output_type": "display_data"
    },
    {
     "name": "stdout",
     "output_type": "stream",
     "text": [
      "<class 'pandas.core.frame.DataFrame'>\n",
      "RangeIndex: 149396 entries, 0 to 149395\n",
      "Data columns (total 5 columns):\n",
      " #   Column        Non-Null Count   Dtype  \n",
      "---  ------        --------------   -----  \n",
      " 0   Unnamed: 0    149396 non-null  int64  \n",
      " 1   id            149396 non-null  object \n",
      " 2   mb_used       149396 non-null  float64\n",
      " 3   session_date  149396 non-null  object \n",
      " 4   user_id       149396 non-null  int64  \n",
      "dtypes: float64(1), int64(2), object(2)\n",
      "memory usage: 5.7+ MB\n"
     ]
    },
    {
     "data": {
      "text/html": [
       "<div>\n",
       "<style scoped>\n",
       "    .dataframe tbody tr th:only-of-type {\n",
       "        vertical-align: middle;\n",
       "    }\n",
       "\n",
       "    .dataframe tbody tr th {\n",
       "        vertical-align: top;\n",
       "    }\n",
       "\n",
       "    .dataframe thead th {\n",
       "        text-align: right;\n",
       "    }\n",
       "</style>\n",
       "<table border=\"1\" class=\"dataframe\">\n",
       "  <thead>\n",
       "    <tr style=\"text-align: right;\">\n",
       "      <th></th>\n",
       "      <th>Unnamed: 0</th>\n",
       "      <th>id</th>\n",
       "      <th>mb_used</th>\n",
       "      <th>session_date</th>\n",
       "      <th>user_id</th>\n",
       "    </tr>\n",
       "  </thead>\n",
       "  <tbody>\n",
       "    <tr>\n",
       "      <th>0</th>\n",
       "      <td>0</td>\n",
       "      <td>1000_0</td>\n",
       "      <td>112.95</td>\n",
       "      <td>2018-11-25</td>\n",
       "      <td>1000</td>\n",
       "    </tr>\n",
       "    <tr>\n",
       "      <th>1</th>\n",
       "      <td>1</td>\n",
       "      <td>1000_1</td>\n",
       "      <td>1052.81</td>\n",
       "      <td>2018-09-07</td>\n",
       "      <td>1000</td>\n",
       "    </tr>\n",
       "    <tr>\n",
       "      <th>2</th>\n",
       "      <td>2</td>\n",
       "      <td>1000_2</td>\n",
       "      <td>1197.26</td>\n",
       "      <td>2018-06-25</td>\n",
       "      <td>1000</td>\n",
       "    </tr>\n",
       "    <tr>\n",
       "      <th>3</th>\n",
       "      <td>3</td>\n",
       "      <td>1000_3</td>\n",
       "      <td>550.27</td>\n",
       "      <td>2018-08-22</td>\n",
       "      <td>1000</td>\n",
       "    </tr>\n",
       "    <tr>\n",
       "      <th>4</th>\n",
       "      <td>4</td>\n",
       "      <td>1000_4</td>\n",
       "      <td>302.56</td>\n",
       "      <td>2018-09-24</td>\n",
       "      <td>1000</td>\n",
       "    </tr>\n",
       "  </tbody>\n",
       "</table>\n",
       "</div>"
      ],
      "text/plain": [
       "   Unnamed: 0      id  mb_used session_date  user_id\n",
       "0           0  1000_0   112.95   2018-11-25     1000\n",
       "1           1  1000_1  1052.81   2018-09-07     1000\n",
       "2           2  1000_2  1197.26   2018-06-25     1000\n",
       "3           3  1000_3   550.27   2018-08-22     1000\n",
       "4           4  1000_4   302.56   2018-09-24     1000"
      ]
     },
     "metadata": {},
     "output_type": "display_data"
    },
    {
     "data": {
      "text/plain": [
       "None"
      ]
     },
     "metadata": {},
     "output_type": "display_data"
    },
    {
     "data": {
      "text/plain": [
       "Unnamed: 0      0\n",
       "id              0\n",
       "mb_used         0\n",
       "session_date    0\n",
       "user_id         0\n",
       "dtype: int64"
      ]
     },
     "metadata": {},
     "output_type": "display_data"
    },
    {
     "data": {
      "text/plain": [
       "0"
      ]
     },
     "metadata": {},
     "output_type": "display_data"
    },
    {
     "data": {
      "text/plain": [
       "'MESSAGES_FRAME'"
      ]
     },
     "metadata": {},
     "output_type": "display_data"
    },
    {
     "name": "stdout",
     "output_type": "stream",
     "text": [
      "<class 'pandas.core.frame.DataFrame'>\n",
      "RangeIndex: 123036 entries, 0 to 123035\n",
      "Data columns (total 3 columns):\n",
      " #   Column        Non-Null Count   Dtype \n",
      "---  ------        --------------   ----- \n",
      " 0   id            123036 non-null  object\n",
      " 1   message_date  123036 non-null  object\n",
      " 2   user_id       123036 non-null  int64 \n",
      "dtypes: int64(1), object(2)\n",
      "memory usage: 2.8+ MB\n"
     ]
    },
    {
     "data": {
      "text/html": [
       "<div>\n",
       "<style scoped>\n",
       "    .dataframe tbody tr th:only-of-type {\n",
       "        vertical-align: middle;\n",
       "    }\n",
       "\n",
       "    .dataframe tbody tr th {\n",
       "        vertical-align: top;\n",
       "    }\n",
       "\n",
       "    .dataframe thead th {\n",
       "        text-align: right;\n",
       "    }\n",
       "</style>\n",
       "<table border=\"1\" class=\"dataframe\">\n",
       "  <thead>\n",
       "    <tr style=\"text-align: right;\">\n",
       "      <th></th>\n",
       "      <th>id</th>\n",
       "      <th>message_date</th>\n",
       "      <th>user_id</th>\n",
       "    </tr>\n",
       "  </thead>\n",
       "  <tbody>\n",
       "    <tr>\n",
       "      <th>0</th>\n",
       "      <td>1000_0</td>\n",
       "      <td>2018-06-27</td>\n",
       "      <td>1000</td>\n",
       "    </tr>\n",
       "    <tr>\n",
       "      <th>1</th>\n",
       "      <td>1000_1</td>\n",
       "      <td>2018-10-08</td>\n",
       "      <td>1000</td>\n",
       "    </tr>\n",
       "    <tr>\n",
       "      <th>2</th>\n",
       "      <td>1000_2</td>\n",
       "      <td>2018-08-04</td>\n",
       "      <td>1000</td>\n",
       "    </tr>\n",
       "    <tr>\n",
       "      <th>3</th>\n",
       "      <td>1000_3</td>\n",
       "      <td>2018-06-16</td>\n",
       "      <td>1000</td>\n",
       "    </tr>\n",
       "    <tr>\n",
       "      <th>4</th>\n",
       "      <td>1000_4</td>\n",
       "      <td>2018-12-05</td>\n",
       "      <td>1000</td>\n",
       "    </tr>\n",
       "  </tbody>\n",
       "</table>\n",
       "</div>"
      ],
      "text/plain": [
       "       id message_date  user_id\n",
       "0  1000_0   2018-06-27     1000\n",
       "1  1000_1   2018-10-08     1000\n",
       "2  1000_2   2018-08-04     1000\n",
       "3  1000_3   2018-06-16     1000\n",
       "4  1000_4   2018-12-05     1000"
      ]
     },
     "metadata": {},
     "output_type": "display_data"
    },
    {
     "data": {
      "text/plain": [
       "None"
      ]
     },
     "metadata": {},
     "output_type": "display_data"
    },
    {
     "data": {
      "text/plain": [
       "id              0\n",
       "message_date    0\n",
       "user_id         0\n",
       "dtype: int64"
      ]
     },
     "metadata": {},
     "output_type": "display_data"
    },
    {
     "data": {
      "text/plain": [
       "0"
      ]
     },
     "metadata": {},
     "output_type": "display_data"
    },
    {
     "data": {
      "text/plain": [
       "'USERS_FRAME'"
      ]
     },
     "metadata": {},
     "output_type": "display_data"
    },
    {
     "name": "stdout",
     "output_type": "stream",
     "text": [
      "<class 'pandas.core.frame.DataFrame'>\n",
      "RangeIndex: 500 entries, 0 to 499\n",
      "Data columns (total 8 columns):\n",
      " #   Column      Non-Null Count  Dtype \n",
      "---  ------      --------------  ----- \n",
      " 0   user_id     500 non-null    int64 \n",
      " 1   age         500 non-null    int64 \n",
      " 2   churn_date  38 non-null     object\n",
      " 3   city        500 non-null    object\n",
      " 4   first_name  500 non-null    object\n",
      " 5   last_name   500 non-null    object\n",
      " 6   reg_date    500 non-null    object\n",
      " 7   tariff      500 non-null    object\n",
      "dtypes: int64(2), object(6)\n",
      "memory usage: 31.4+ KB\n"
     ]
    },
    {
     "data": {
      "text/html": [
       "<div>\n",
       "<style scoped>\n",
       "    .dataframe tbody tr th:only-of-type {\n",
       "        vertical-align: middle;\n",
       "    }\n",
       "\n",
       "    .dataframe tbody tr th {\n",
       "        vertical-align: top;\n",
       "    }\n",
       "\n",
       "    .dataframe thead th {\n",
       "        text-align: right;\n",
       "    }\n",
       "</style>\n",
       "<table border=\"1\" class=\"dataframe\">\n",
       "  <thead>\n",
       "    <tr style=\"text-align: right;\">\n",
       "      <th></th>\n",
       "      <th>user_id</th>\n",
       "      <th>age</th>\n",
       "      <th>churn_date</th>\n",
       "      <th>city</th>\n",
       "      <th>first_name</th>\n",
       "      <th>last_name</th>\n",
       "      <th>reg_date</th>\n",
       "      <th>tariff</th>\n",
       "    </tr>\n",
       "  </thead>\n",
       "  <tbody>\n",
       "    <tr>\n",
       "      <th>0</th>\n",
       "      <td>1000</td>\n",
       "      <td>52</td>\n",
       "      <td>NaN</td>\n",
       "      <td>Краснодар</td>\n",
       "      <td>Рафаил</td>\n",
       "      <td>Верещагин</td>\n",
       "      <td>2018-05-25</td>\n",
       "      <td>ultra</td>\n",
       "    </tr>\n",
       "    <tr>\n",
       "      <th>1</th>\n",
       "      <td>1001</td>\n",
       "      <td>41</td>\n",
       "      <td>NaN</td>\n",
       "      <td>Москва</td>\n",
       "      <td>Иван</td>\n",
       "      <td>Ежов</td>\n",
       "      <td>2018-11-01</td>\n",
       "      <td>smart</td>\n",
       "    </tr>\n",
       "    <tr>\n",
       "      <th>2</th>\n",
       "      <td>1002</td>\n",
       "      <td>59</td>\n",
       "      <td>NaN</td>\n",
       "      <td>Стерлитамак</td>\n",
       "      <td>Евгений</td>\n",
       "      <td>Абрамович</td>\n",
       "      <td>2018-06-17</td>\n",
       "      <td>smart</td>\n",
       "    </tr>\n",
       "    <tr>\n",
       "      <th>3</th>\n",
       "      <td>1003</td>\n",
       "      <td>23</td>\n",
       "      <td>NaN</td>\n",
       "      <td>Москва</td>\n",
       "      <td>Белла</td>\n",
       "      <td>Белякова</td>\n",
       "      <td>2018-08-17</td>\n",
       "      <td>ultra</td>\n",
       "    </tr>\n",
       "    <tr>\n",
       "      <th>4</th>\n",
       "      <td>1004</td>\n",
       "      <td>68</td>\n",
       "      <td>NaN</td>\n",
       "      <td>Новокузнецк</td>\n",
       "      <td>Татьяна</td>\n",
       "      <td>Авдеенко</td>\n",
       "      <td>2018-05-14</td>\n",
       "      <td>ultra</td>\n",
       "    </tr>\n",
       "  </tbody>\n",
       "</table>\n",
       "</div>"
      ],
      "text/plain": [
       "   user_id  age churn_date         city first_name  last_name    reg_date  \\\n",
       "0     1000   52        NaN    Краснодар     Рафаил  Верещагин  2018-05-25   \n",
       "1     1001   41        NaN       Москва       Иван       Ежов  2018-11-01   \n",
       "2     1002   59        NaN  Стерлитамак    Евгений  Абрамович  2018-06-17   \n",
       "3     1003   23        NaN       Москва      Белла   Белякова  2018-08-17   \n",
       "4     1004   68        NaN  Новокузнецк    Татьяна   Авдеенко  2018-05-14   \n",
       "\n",
       "  tariff  \n",
       "0  ultra  \n",
       "1  smart  \n",
       "2  smart  \n",
       "3  ultra  \n",
       "4  ultra  "
      ]
     },
     "metadata": {},
     "output_type": "display_data"
    },
    {
     "data": {
      "text/plain": [
       "None"
      ]
     },
     "metadata": {},
     "output_type": "display_data"
    },
    {
     "data": {
      "text/plain": [
       "user_id         0\n",
       "age             0\n",
       "churn_date    462\n",
       "city            0\n",
       "first_name      0\n",
       "last_name       0\n",
       "reg_date        0\n",
       "tariff          0\n",
       "dtype: int64"
      ]
     },
     "metadata": {},
     "output_type": "display_data"
    },
    {
     "data": {
      "text/plain": [
       "0"
      ]
     },
     "metadata": {},
     "output_type": "display_data"
    },
    {
     "data": {
      "text/plain": [
       "'TARIFFS_FRAME'"
      ]
     },
     "metadata": {},
     "output_type": "display_data"
    },
    {
     "name": "stdout",
     "output_type": "stream",
     "text": [
      "<class 'pandas.core.frame.DataFrame'>\n",
      "RangeIndex: 2 entries, 0 to 1\n",
      "Data columns (total 8 columns):\n",
      " #   Column                 Non-Null Count  Dtype \n",
      "---  ------                 --------------  ----- \n",
      " 0   messages_included      2 non-null      int64 \n",
      " 1   mb_per_month_included  2 non-null      int64 \n",
      " 2   minutes_included       2 non-null      int64 \n",
      " 3   rub_monthly_fee        2 non-null      int64 \n",
      " 4   rub_per_gb             2 non-null      int64 \n",
      " 5   rub_per_message        2 non-null      int64 \n",
      " 6   rub_per_minute         2 non-null      int64 \n",
      " 7   tariff_name            2 non-null      object\n",
      "dtypes: int64(7), object(1)\n",
      "memory usage: 256.0+ bytes\n"
     ]
    },
    {
     "data": {
      "text/html": [
       "<div>\n",
       "<style scoped>\n",
       "    .dataframe tbody tr th:only-of-type {\n",
       "        vertical-align: middle;\n",
       "    }\n",
       "\n",
       "    .dataframe tbody tr th {\n",
       "        vertical-align: top;\n",
       "    }\n",
       "\n",
       "    .dataframe thead th {\n",
       "        text-align: right;\n",
       "    }\n",
       "</style>\n",
       "<table border=\"1\" class=\"dataframe\">\n",
       "  <thead>\n",
       "    <tr style=\"text-align: right;\">\n",
       "      <th></th>\n",
       "      <th>messages_included</th>\n",
       "      <th>mb_per_month_included</th>\n",
       "      <th>minutes_included</th>\n",
       "      <th>rub_monthly_fee</th>\n",
       "      <th>rub_per_gb</th>\n",
       "      <th>rub_per_message</th>\n",
       "      <th>rub_per_minute</th>\n",
       "      <th>tariff_name</th>\n",
       "    </tr>\n",
       "  </thead>\n",
       "  <tbody>\n",
       "    <tr>\n",
       "      <th>0</th>\n",
       "      <td>50</td>\n",
       "      <td>15360</td>\n",
       "      <td>500</td>\n",
       "      <td>550</td>\n",
       "      <td>200</td>\n",
       "      <td>3</td>\n",
       "      <td>3</td>\n",
       "      <td>smart</td>\n",
       "    </tr>\n",
       "    <tr>\n",
       "      <th>1</th>\n",
       "      <td>1000</td>\n",
       "      <td>30720</td>\n",
       "      <td>3000</td>\n",
       "      <td>1950</td>\n",
       "      <td>150</td>\n",
       "      <td>1</td>\n",
       "      <td>1</td>\n",
       "      <td>ultra</td>\n",
       "    </tr>\n",
       "  </tbody>\n",
       "</table>\n",
       "</div>"
      ],
      "text/plain": [
       "   messages_included  mb_per_month_included  minutes_included  \\\n",
       "0                 50                  15360               500   \n",
       "1               1000                  30720              3000   \n",
       "\n",
       "   rub_monthly_fee  rub_per_gb  rub_per_message  rub_per_minute tariff_name  \n",
       "0              550         200                3               3       smart  \n",
       "1             1950         150                1               1       ultra  "
      ]
     },
     "metadata": {},
     "output_type": "display_data"
    },
    {
     "data": {
      "text/plain": [
       "None"
      ]
     },
     "metadata": {},
     "output_type": "display_data"
    },
    {
     "data": {
      "text/plain": [
       "messages_included        0\n",
       "mb_per_month_included    0\n",
       "minutes_included         0\n",
       "rub_monthly_fee          0\n",
       "rub_per_gb               0\n",
       "rub_per_message          0\n",
       "rub_per_minute           0\n",
       "tariff_name              0\n",
       "dtype: int64"
      ]
     },
     "metadata": {},
     "output_type": "display_data"
    },
    {
     "data": {
      "text/plain": [
       "0"
      ]
     },
     "metadata": {},
     "output_type": "display_data"
    }
   ],
   "source": [
    "datas = { \"call_frame\":calls,\n",
    "         \"internet_frame\":internet,\n",
    "         \"messages_frame\":messages,\n",
    "         \"users_frame\":users,\n",
    "         \"tariffs_frame\":tariffs\n",
    "        } #создадим словарь для того, чтобы можно было по нему пробежаться\n",
    "\n",
    "for name, set in datas.items():\n",
    "    display(name.upper())\n",
    "    display(\n",
    "        set.head(), #открываем фрейм\n",
    "        set.info(), #выводим информацию о фрейме\n",
    "        set.isna().sum(), #посмотрим на пропуски\n",
    "        set.duplicated().sum() #выведем явные дубликаты для изучения\n",
    "    )"
   ]
  },
  {
   "cell_type": "markdown",
   "metadata": {},
   "source": [
    "**Вывод** "
   ]
  },
  {
   "cell_type": "markdown",
   "metadata": {},
   "source": [
    "Представлено 5 датасетов каждый из которых содержит:\n",
    "\n",
    "1) Информацию о звонках. Содержит 4 столбца:\n",
    "\n",
    "* `id` — уникальный номер звонка. Тип данных: `object`\n",
    "* `call_date` — дата звонка. Тип данных: `object`\n",
    "* `duration` — длительность звонка в минутах. Тип данных: `float64`\n",
    "* `user_id` — идентификатор пользователя, сделавшего звонок. Тип данных: `int64`\n",
    "\n",
    "2) Информацию об интернет-сессиях. Содержит 4 столбца:\n",
    "\n",
    "* `id` — уникальный номер сессии. Тип данных:  `object`\n",
    "* `mb_used` — объём потраченного за сессию интернет-трафика (в мегабайтах). Тип данных: `float64`\n",
    "* `session_date` — дата интернет-сессии. Тип данных: `object`\n",
    "* `user_id` — идентификатор пользователя. Тип данных: `int64`\n",
    "\n",
    "3) Информацию о сообщениях. Содержит 3 столбца:\n",
    "\n",
    "* `id` — уникальный номер сообщения. Тип данных: `object`\n",
    "* `message_date` — дата сообщения. Тип данных: `object`\n",
    "* `user_id` — идентификатор пользователя, отправившего сообщение. Тип данных: `int64`\n",
    "\n",
    "4) Информацию о тарифах. Содержит 8 столбцов:\n",
    "\n",
    "* `tariff_name` — название тарифа. Тип данных: `object`\n",
    "* `rub_monthly_fee` — ежемесячная абонентская плата в рублях. Тип данных: `int64`\n",
    "* `minutes_included` — количество минут разговора в месяц, включённых в абонентскую плату. Тип данных: `int64`\n",
    "* `messages_included` — количество сообщений в месяц, включённых в абонентскую плату. Тип данных: `int64`\n",
    "* `mb_per_month_included` — объём интернет-трафика, включённого в абонентскую плату (в мегабайтах). Тип данных: `int64`\n",
    "* `rub_per_minute` — стоимость минуты разговора сверх тарифного пакета (например, если в тарифе 100 минут разговора в месяц, то со 101 минуты будет взиматься плата). Тип данных: `int64`\n",
    "* `rub_per_message` — стоимость отправки сообщения сверх тарифного пакета. Тип данных: `int64`\n",
    "* `rub_per_gb` — стоимость дополнительного гигабайта интернет-трафика сверх тарифного пакета (1 гигабайт = 1024 мегабайта). Тип данных: `int64`\n",
    "\n",
    "5) Информацию о пользователях. Содержит 8 столбцов:\n",
    "\n",
    "* `user_id` — уникальный идентификатор пользователя. Тип данных: `int64`\n",
    "* `first_name` — имя пользователя. Тип данных: `object`\n",
    "* `last_name` — фамилия пользователя. Тип данных: `object`\n",
    "* `age` — возраст пользователя (годы). Тип данных: `int64`\n",
    "* `reg_date` — дата подключения тарифа (день, месяц, год). Тип данных: `object`\n",
    "* `churn_date` — дата прекращения пользования тарифом (если значение пропущено, то тариф ещё действовал на момент выгрузки данных). Тип данных: `object`\n",
    "* `city` — город проживания пользователя. Тип данных: `object`\n",
    "* `tarif` — название тарифного плана. Тип данных: `object`\n",
    "\n",
    "\n",
    "В датафрейме `users` имеются пропущенные значения в столбце `churn_date`, однако как сказано в описательной документации, если отсутвует значение, значит тариф еще работает. Пропуски не заполняем.\n",
    "\n",
    "Во всех датафреймах дата представена в формате `object`, переведем ее в формат `datetime`.\n",
    "\n",
    "Политика компании гласит, что все звонки округляются до минут в большую сторону, поэтому в датафреймме `calls`, округлим время всех звонков до минут в большую сторону. А мегабайты округдяются до гигабайт в большую сторону."
   ]
  },
  {
   "cell_type": "markdown",
   "metadata": {},
   "source": [
    "## Предобработка данных"
   ]
  },
  {
   "cell_type": "markdown",
   "metadata": {},
   "source": [
    "В фрейме содержащий информацию о интрнет-сессиях есть ненужный столбец `Unnamed: 0`, поэтому просто дропнем его:"
   ]
  },
  {
   "cell_type": "code",
   "execution_count": 4,
   "metadata": {},
   "outputs": [],
   "source": [
    "internet = internet.drop(['Unnamed: 0'], axis = 1)"
   ]
  },
  {
   "cell_type": "markdown",
   "metadata": {},
   "source": [
    "### Смена типа данных формата даты"
   ]
  },
  {
   "cell_type": "markdown",
   "metadata": {},
   "source": [
    "Изменим тип данных в столбцах с датой на datatime:"
   ]
  },
  {
   "cell_type": "code",
   "execution_count": 5,
   "metadata": {},
   "outputs": [],
   "source": [
    "columns_to_datetime = { \"call_date\":calls,\n",
    "                       \"session_date\":internet,\n",
    "                       \"message_date\":messages,\n",
    "                       \"reg_date\":users \n",
    "                      } #создаем словарь\n",
    "\n",
    "for date, frame in columns_to_datetime.items(): \n",
    "    frame[date] = pd.to_datetime(frame[date], format = '%Y-%m-%d')"
   ]
  },
  {
   "cell_type": "markdown",
   "metadata": {},
   "source": [
    "### Обработка времени звонков"
   ]
  },
  {
   "cell_type": "markdown",
   "metadata": {},
   "source": [
    "Округлим время звонков до целого числа в большую сторону, согласно политики компании Мегалайн:"
   ]
  },
  {
   "cell_type": "code",
   "execution_count": 6,
   "metadata": {},
   "outputs": [],
   "source": [
    "calls['duration'] = np.ceil(calls['duration'])"
   ]
  },
  {
   "cell_type": "markdown",
   "metadata": {},
   "source": [
    "### Обработка по пользователям"
   ]
  },
  {
   "cell_type": "markdown",
   "metadata": {},
   "source": [
    "#### Количество сделанных звонков и израсходованных минут разговора по месяцам"
   ]
  },
  {
   "cell_type": "markdown",
   "metadata": {},
   "source": [
    "Cгруппируем данные из датасета `calls` по столбцам `user_id`, `call_date` для того чтобы посчитать количество сделанных звонков и израсходованных минут по месяцам для каждого клиента. Для начала создадим новый столбец в котром будут значения месяцов в которые абоненты совершали звонки:"
   ]
  },
  {
   "cell_type": "code",
   "execution_count": 7,
   "metadata": {},
   "outputs": [],
   "source": [
    "calls['month'] = pd.DatetimeIndex(calls['call_date']).month #выделим месяца из полной даты"
   ]
  },
  {
   "cell_type": "markdown",
   "metadata": {},
   "source": [
    "Проведем группировку:"
   ]
  },
  {
   "cell_type": "code",
   "execution_count": 8,
   "metadata": {},
   "outputs": [
    {
     "data": {
      "text/html": [
       "<div>\n",
       "<style scoped>\n",
       "    .dataframe tbody tr th:only-of-type {\n",
       "        vertical-align: middle;\n",
       "    }\n",
       "\n",
       "    .dataframe tbody tr th {\n",
       "        vertical-align: top;\n",
       "    }\n",
       "\n",
       "    .dataframe thead tr th {\n",
       "        text-align: left;\n",
       "    }\n",
       "\n",
       "    .dataframe thead tr:last-of-type th {\n",
       "        text-align: right;\n",
       "    }\n",
       "</style>\n",
       "<table border=\"1\" class=\"dataframe\">\n",
       "  <thead>\n",
       "    <tr>\n",
       "      <th></th>\n",
       "      <th></th>\n",
       "      <th colspan=\"2\" halign=\"left\">duration</th>\n",
       "    </tr>\n",
       "    <tr>\n",
       "      <th></th>\n",
       "      <th></th>\n",
       "      <th>count</th>\n",
       "      <th>sum</th>\n",
       "    </tr>\n",
       "    <tr>\n",
       "      <th>user_id</th>\n",
       "      <th>month</th>\n",
       "      <th></th>\n",
       "      <th></th>\n",
       "    </tr>\n",
       "  </thead>\n",
       "  <tbody>\n",
       "    <tr>\n",
       "      <th rowspan=\"5\" valign=\"top\">1000</th>\n",
       "      <th>5</th>\n",
       "      <td>22</td>\n",
       "      <td>159.0</td>\n",
       "    </tr>\n",
       "    <tr>\n",
       "      <th>6</th>\n",
       "      <td>43</td>\n",
       "      <td>172.0</td>\n",
       "    </tr>\n",
       "    <tr>\n",
       "      <th>7</th>\n",
       "      <td>47</td>\n",
       "      <td>340.0</td>\n",
       "    </tr>\n",
       "    <tr>\n",
       "      <th>8</th>\n",
       "      <td>52</td>\n",
       "      <td>408.0</td>\n",
       "    </tr>\n",
       "    <tr>\n",
       "      <th>9</th>\n",
       "      <td>58</td>\n",
       "      <td>466.0</td>\n",
       "    </tr>\n",
       "    <tr>\n",
       "      <th>...</th>\n",
       "      <th>...</th>\n",
       "      <td>...</td>\n",
       "      <td>...</td>\n",
       "    </tr>\n",
       "    <tr>\n",
       "      <th>1498</th>\n",
       "      <th>10</th>\n",
       "      <td>41</td>\n",
       "      <td>247.0</td>\n",
       "    </tr>\n",
       "    <tr>\n",
       "      <th rowspan=\"4\" valign=\"top\">1499</th>\n",
       "      <th>9</th>\n",
       "      <td>9</td>\n",
       "      <td>70.0</td>\n",
       "    </tr>\n",
       "    <tr>\n",
       "      <th>10</th>\n",
       "      <td>68</td>\n",
       "      <td>449.0</td>\n",
       "    </tr>\n",
       "    <tr>\n",
       "      <th>11</th>\n",
       "      <td>74</td>\n",
       "      <td>612.0</td>\n",
       "    </tr>\n",
       "    <tr>\n",
       "      <th>12</th>\n",
       "      <td>69</td>\n",
       "      <td>492.0</td>\n",
       "    </tr>\n",
       "  </tbody>\n",
       "</table>\n",
       "<p>3174 rows × 2 columns</p>\n",
       "</div>"
      ],
      "text/plain": [
       "              duration       \n",
       "                 count    sum\n",
       "user_id month                \n",
       "1000    5           22  159.0\n",
       "        6           43  172.0\n",
       "        7           47  340.0\n",
       "        8           52  408.0\n",
       "        9           58  466.0\n",
       "...                ...    ...\n",
       "1498    10          41  247.0\n",
       "1499    9            9   70.0\n",
       "        10          68  449.0\n",
       "        11          74  612.0\n",
       "        12          69  492.0\n",
       "\n",
       "[3174 rows x 2 columns]"
      ]
     },
     "metadata": {},
     "output_type": "display_data"
    }
   ],
   "source": [
    "group_calls =  (calls\n",
    "    .groupby(['user_id', 'month'])\n",
    "    .agg({'duration': ['count', 'sum']})\n",
    "               )\n",
    "\n",
    "display(group_calls)"
   ]
  },
  {
   "cell_type": "markdown",
   "metadata": {},
   "source": [
    "Получили то, что и задумывали!"
   ]
  },
  {
   "cell_type": "markdown",
   "metadata": {},
   "source": [
    "#### Количество отправленных сообщений по месяцам"
   ]
  },
  {
   "cell_type": "code",
   "execution_count": 9,
   "metadata": {},
   "outputs": [],
   "source": [
    "messages['month'] = pd.DatetimeIndex(messages['message_date']).month"
   ]
  },
  {
   "cell_type": "code",
   "execution_count": 10,
   "metadata": {},
   "outputs": [
    {
     "data": {
      "text/html": [
       "<div>\n",
       "<style scoped>\n",
       "    .dataframe tbody tr th:only-of-type {\n",
       "        vertical-align: middle;\n",
       "    }\n",
       "\n",
       "    .dataframe tbody tr th {\n",
       "        vertical-align: top;\n",
       "    }\n",
       "\n",
       "    .dataframe thead th {\n",
       "        text-align: right;\n",
       "    }\n",
       "</style>\n",
       "<table border=\"1\" class=\"dataframe\">\n",
       "  <thead>\n",
       "    <tr style=\"text-align: right;\">\n",
       "      <th></th>\n",
       "      <th></th>\n",
       "      <th>id</th>\n",
       "    </tr>\n",
       "    <tr>\n",
       "      <th>user_id</th>\n",
       "      <th>month</th>\n",
       "      <th></th>\n",
       "    </tr>\n",
       "  </thead>\n",
       "  <tbody>\n",
       "    <tr>\n",
       "      <th rowspan=\"5\" valign=\"top\">1000</th>\n",
       "      <th>5</th>\n",
       "      <td>22</td>\n",
       "    </tr>\n",
       "    <tr>\n",
       "      <th>6</th>\n",
       "      <td>60</td>\n",
       "    </tr>\n",
       "    <tr>\n",
       "      <th>7</th>\n",
       "      <td>75</td>\n",
       "    </tr>\n",
       "    <tr>\n",
       "      <th>8</th>\n",
       "      <td>81</td>\n",
       "    </tr>\n",
       "    <tr>\n",
       "      <th>9</th>\n",
       "      <td>57</td>\n",
       "    </tr>\n",
       "    <tr>\n",
       "      <th>...</th>\n",
       "      <th>...</th>\n",
       "      <td>...</td>\n",
       "    </tr>\n",
       "    <tr>\n",
       "      <th>1498</th>\n",
       "      <th>10</th>\n",
       "      <td>42</td>\n",
       "    </tr>\n",
       "    <tr>\n",
       "      <th rowspan=\"4\" valign=\"top\">1499</th>\n",
       "      <th>9</th>\n",
       "      <td>11</td>\n",
       "    </tr>\n",
       "    <tr>\n",
       "      <th>10</th>\n",
       "      <td>48</td>\n",
       "    </tr>\n",
       "    <tr>\n",
       "      <th>11</th>\n",
       "      <td>59</td>\n",
       "    </tr>\n",
       "    <tr>\n",
       "      <th>12</th>\n",
       "      <td>66</td>\n",
       "    </tr>\n",
       "  </tbody>\n",
       "</table>\n",
       "<p>2717 rows × 1 columns</p>\n",
       "</div>"
      ],
      "text/plain": [
       "               id\n",
       "user_id month    \n",
       "1000    5      22\n",
       "        6      60\n",
       "        7      75\n",
       "        8      81\n",
       "        9      57\n",
       "...            ..\n",
       "1498    10     42\n",
       "1499    9      11\n",
       "        10     48\n",
       "        11     59\n",
       "        12     66\n",
       "\n",
       "[2717 rows x 1 columns]"
      ]
     },
     "metadata": {},
     "output_type": "display_data"
    }
   ],
   "source": [
    "group_messages =  (messages\n",
    "    .groupby(['user_id', 'month'])\n",
    "    .agg({'id': 'count'})\n",
    "     \n",
    "               )\n",
    "\n",
    "display(group_messages)"
   ]
  },
  {
   "cell_type": "markdown",
   "metadata": {},
   "source": [
    "#### Объем израсходованного интернет-трафика по месяцам"
   ]
  },
  {
   "cell_type": "code",
   "execution_count": 11,
   "metadata": {},
   "outputs": [],
   "source": [
    "internet['month'] = pd.DatetimeIndex(internet['session_date']).month"
   ]
  },
  {
   "cell_type": "markdown",
   "metadata": {},
   "source": [
    "Так как компания производит расчет стоимость услуг за использование интернета в гигабайтах, то для начала создадим новый столбик с переводом израсходованного трафика клиента из мегабайтов в гигагбайты:"
   ]
  },
  {
   "cell_type": "code",
   "execution_count": 12,
   "metadata": {},
   "outputs": [],
   "source": [
    "internet['gigabyte'] = internet['mb_used']/1024"
   ]
  },
  {
   "cell_type": "markdown",
   "metadata": {},
   "source": [
    "Затем произведем группировку по столбцам `user_id`, `month` и `gigabyte` для того, чтобы посчитать сколько израсходовал клиент интерент трафика в определенный месяц. Так как компания округляет интернет трафик в большую сторону, то после группировки сделаем округление суммарного трафика в большую сторону:"
   ]
  },
  {
   "cell_type": "code",
   "execution_count": 13,
   "metadata": {
    "scrolled": false
   },
   "outputs": [
    {
     "data": {
      "text/html": [
       "<div>\n",
       "<style scoped>\n",
       "    .dataframe tbody tr th:only-of-type {\n",
       "        vertical-align: middle;\n",
       "    }\n",
       "\n",
       "    .dataframe tbody tr th {\n",
       "        vertical-align: top;\n",
       "    }\n",
       "\n",
       "    .dataframe thead th {\n",
       "        text-align: right;\n",
       "    }\n",
       "</style>\n",
       "<table border=\"1\" class=\"dataframe\">\n",
       "  <thead>\n",
       "    <tr style=\"text-align: right;\">\n",
       "      <th></th>\n",
       "      <th></th>\n",
       "      <th>gigabyte</th>\n",
       "    </tr>\n",
       "    <tr>\n",
       "      <th>user_id</th>\n",
       "      <th>month</th>\n",
       "      <th></th>\n",
       "    </tr>\n",
       "  </thead>\n",
       "  <tbody>\n",
       "    <tr>\n",
       "      <th rowspan=\"5\" valign=\"top\">1000</th>\n",
       "      <th>5</th>\n",
       "      <td>3.0</td>\n",
       "    </tr>\n",
       "    <tr>\n",
       "      <th>6</th>\n",
       "      <td>23.0</td>\n",
       "    </tr>\n",
       "    <tr>\n",
       "      <th>7</th>\n",
       "      <td>14.0</td>\n",
       "    </tr>\n",
       "    <tr>\n",
       "      <th>8</th>\n",
       "      <td>14.0</td>\n",
       "    </tr>\n",
       "    <tr>\n",
       "      <th>9</th>\n",
       "      <td>15.0</td>\n",
       "    </tr>\n",
       "    <tr>\n",
       "      <th>...</th>\n",
       "      <th>...</th>\n",
       "      <td>...</td>\n",
       "    </tr>\n",
       "    <tr>\n",
       "      <th>1498</th>\n",
       "      <th>10</th>\n",
       "      <td>21.0</td>\n",
       "    </tr>\n",
       "    <tr>\n",
       "      <th rowspan=\"4\" valign=\"top\">1499</th>\n",
       "      <th>9</th>\n",
       "      <td>2.0</td>\n",
       "    </tr>\n",
       "    <tr>\n",
       "      <th>10</th>\n",
       "      <td>18.0</td>\n",
       "    </tr>\n",
       "    <tr>\n",
       "      <th>11</th>\n",
       "      <td>18.0</td>\n",
       "    </tr>\n",
       "    <tr>\n",
       "      <th>12</th>\n",
       "      <td>13.0</td>\n",
       "    </tr>\n",
       "  </tbody>\n",
       "</table>\n",
       "<p>3203 rows × 1 columns</p>\n",
       "</div>"
      ],
      "text/plain": [
       "               gigabyte\n",
       "user_id month          \n",
       "1000    5           3.0\n",
       "        6          23.0\n",
       "        7          14.0\n",
       "        8          14.0\n",
       "        9          15.0\n",
       "...                 ...\n",
       "1498    10         21.0\n",
       "1499    9           2.0\n",
       "        10         18.0\n",
       "        11         18.0\n",
       "        12         13.0\n",
       "\n",
       "[3203 rows x 1 columns]"
      ]
     },
     "metadata": {},
     "output_type": "display_data"
    }
   ],
   "source": [
    "group_internet =  (internet\n",
    "    .groupby(['user_id', 'month'])\n",
    "    .agg({'gigabyte': 'sum'})\n",
    "               )\n",
    "group_internet['gigabyte'] = np.ceil(group_internet['gigabyte'])  #округляем в большую сторону\n",
    "display(group_internet)"
   ]
  },
  {
   "cell_type": "markdown",
   "metadata": {},
   "source": [
    "#### Обработка фрейма tariffs"
   ]
  },
  {
   "cell_type": "markdown",
   "metadata": {},
   "source": [
    "Для дальнейшей корректной работы с фреймом `tariffs` сделаем следущее:\n",
    "\n",
    "1) переведем мегабайты в гигабайты в столбце `mb_per_month_included`\n",
    "\n",
    "2) переменуем столбцы `mb_per_month_included` в `gb_per_month_included` и `tariff_name` в `tariff`."
   ]
  },
  {
   "cell_type": "code",
   "execution_count": 14,
   "metadata": {},
   "outputs": [],
   "source": [
    "tariffs['mb_per_month_included'] = tariffs['mb_per_month_included']/1024 # переводим"
   ]
  },
  {
   "cell_type": "code",
   "execution_count": 15,
   "metadata": {},
   "outputs": [],
   "source": [
    "tariffs.rename(columns = {'mb_per_month_included': 'gb_per_month_included', 'tariff_name': 'tariff'}, inplace=True) #переименовываем"
   ]
  },
  {
   "cell_type": "code",
   "execution_count": 16,
   "metadata": {
    "scrolled": true
   },
   "outputs": [
    {
     "data": {
      "text/html": [
       "<div>\n",
       "<style scoped>\n",
       "    .dataframe tbody tr th:only-of-type {\n",
       "        vertical-align: middle;\n",
       "    }\n",
       "\n",
       "    .dataframe tbody tr th {\n",
       "        vertical-align: top;\n",
       "    }\n",
       "\n",
       "    .dataframe thead th {\n",
       "        text-align: right;\n",
       "    }\n",
       "</style>\n",
       "<table border=\"1\" class=\"dataframe\">\n",
       "  <thead>\n",
       "    <tr style=\"text-align: right;\">\n",
       "      <th></th>\n",
       "      <th>messages_included</th>\n",
       "      <th>gb_per_month_included</th>\n",
       "      <th>minutes_included</th>\n",
       "      <th>rub_monthly_fee</th>\n",
       "      <th>rub_per_gb</th>\n",
       "      <th>rub_per_message</th>\n",
       "      <th>rub_per_minute</th>\n",
       "      <th>tariff</th>\n",
       "    </tr>\n",
       "  </thead>\n",
       "  <tbody>\n",
       "    <tr>\n",
       "      <th>0</th>\n",
       "      <td>50</td>\n",
       "      <td>15.0</td>\n",
       "      <td>500</td>\n",
       "      <td>550</td>\n",
       "      <td>200</td>\n",
       "      <td>3</td>\n",
       "      <td>3</td>\n",
       "      <td>smart</td>\n",
       "    </tr>\n",
       "    <tr>\n",
       "      <th>1</th>\n",
       "      <td>1000</td>\n",
       "      <td>30.0</td>\n",
       "      <td>3000</td>\n",
       "      <td>1950</td>\n",
       "      <td>150</td>\n",
       "      <td>1</td>\n",
       "      <td>1</td>\n",
       "      <td>ultra</td>\n",
       "    </tr>\n",
       "  </tbody>\n",
       "</table>\n",
       "</div>"
      ],
      "text/plain": [
       "   messages_included  gb_per_month_included  minutes_included  \\\n",
       "0                 50                   15.0               500   \n",
       "1               1000                   30.0              3000   \n",
       "\n",
       "   rub_monthly_fee  rub_per_gb  rub_per_message  rub_per_minute tariff  \n",
       "0              550         200                3               3  smart  \n",
       "1             1950         150                1               1  ultra  "
      ]
     },
     "execution_count": 16,
     "metadata": {},
     "output_type": "execute_result"
    }
   ],
   "source": [
    "tariffs.head() #проверяем"
   ]
  },
  {
   "cell_type": "markdown",
   "metadata": {},
   "source": [
    "#### Объединение таблицы"
   ]
  },
  {
   "cell_type": "markdown",
   "metadata": {},
   "source": [
    "Объединим наши бейби-фреймы в один большой папа-фрейм для того, чтобы в дальнейшем узнать выручку с каждого пользователя."
   ]
  },
  {
   "cell_type": "code",
   "execution_count": 17,
   "metadata": {
    "scrolled": false
   },
   "outputs": [
    {
     "name": "stderr",
     "output_type": "stream",
     "text": [
      "/opt/conda/lib/python3.9/site-packages/pandas/core/reshape/merge.py:648: UserWarning: merging between different levels can give an unintended result (2 levels on the left,1 on the right)\n",
      "  warnings.warn(msg, UserWarning)\n"
     ]
    },
    {
     "data": {
      "text/html": [
       "<div>\n",
       "<style scoped>\n",
       "    .dataframe tbody tr th:only-of-type {\n",
       "        vertical-align: middle;\n",
       "    }\n",
       "\n",
       "    .dataframe tbody tr th {\n",
       "        vertical-align: top;\n",
       "    }\n",
       "\n",
       "    .dataframe thead th {\n",
       "        text-align: right;\n",
       "    }\n",
       "</style>\n",
       "<table border=\"1\" class=\"dataframe\">\n",
       "  <thead>\n",
       "    <tr style=\"text-align: right;\">\n",
       "      <th></th>\n",
       "      <th>user_id</th>\n",
       "      <th>month</th>\n",
       "      <th>number_of_calls</th>\n",
       "      <th>duration_of_calls</th>\n",
       "      <th>number_of_messages</th>\n",
       "      <th>gb_used</th>\n",
       "      <th>tariff</th>\n",
       "      <th>city</th>\n",
       "      <th>messages_included</th>\n",
       "      <th>gb_per_month_included</th>\n",
       "      <th>minutes_included</th>\n",
       "      <th>rub_monthly_fee</th>\n",
       "      <th>rub_per_gb</th>\n",
       "      <th>rub_per_message</th>\n",
       "      <th>rub_per_minute</th>\n",
       "    </tr>\n",
       "  </thead>\n",
       "  <tbody>\n",
       "    <tr>\n",
       "      <th>0</th>\n",
       "      <td>1000</td>\n",
       "      <td>5.0</td>\n",
       "      <td>22.0</td>\n",
       "      <td>159.0</td>\n",
       "      <td>22.0</td>\n",
       "      <td>3.0</td>\n",
       "      <td>ultra</td>\n",
       "      <td>Краснодар</td>\n",
       "      <td>1000</td>\n",
       "      <td>30.0</td>\n",
       "      <td>3000</td>\n",
       "      <td>1950</td>\n",
       "      <td>150</td>\n",
       "      <td>1</td>\n",
       "      <td>1</td>\n",
       "    </tr>\n",
       "    <tr>\n",
       "      <th>1</th>\n",
       "      <td>1000</td>\n",
       "      <td>6.0</td>\n",
       "      <td>43.0</td>\n",
       "      <td>172.0</td>\n",
       "      <td>60.0</td>\n",
       "      <td>23.0</td>\n",
       "      <td>ultra</td>\n",
       "      <td>Краснодар</td>\n",
       "      <td>1000</td>\n",
       "      <td>30.0</td>\n",
       "      <td>3000</td>\n",
       "      <td>1950</td>\n",
       "      <td>150</td>\n",
       "      <td>1</td>\n",
       "      <td>1</td>\n",
       "    </tr>\n",
       "    <tr>\n",
       "      <th>2</th>\n",
       "      <td>1000</td>\n",
       "      <td>7.0</td>\n",
       "      <td>47.0</td>\n",
       "      <td>340.0</td>\n",
       "      <td>75.0</td>\n",
       "      <td>14.0</td>\n",
       "      <td>ultra</td>\n",
       "      <td>Краснодар</td>\n",
       "      <td>1000</td>\n",
       "      <td>30.0</td>\n",
       "      <td>3000</td>\n",
       "      <td>1950</td>\n",
       "      <td>150</td>\n",
       "      <td>1</td>\n",
       "      <td>1</td>\n",
       "    </tr>\n",
       "    <tr>\n",
       "      <th>3</th>\n",
       "      <td>1000</td>\n",
       "      <td>8.0</td>\n",
       "      <td>52.0</td>\n",
       "      <td>408.0</td>\n",
       "      <td>81.0</td>\n",
       "      <td>14.0</td>\n",
       "      <td>ultra</td>\n",
       "      <td>Краснодар</td>\n",
       "      <td>1000</td>\n",
       "      <td>30.0</td>\n",
       "      <td>3000</td>\n",
       "      <td>1950</td>\n",
       "      <td>150</td>\n",
       "      <td>1</td>\n",
       "      <td>1</td>\n",
       "    </tr>\n",
       "    <tr>\n",
       "      <th>4</th>\n",
       "      <td>1000</td>\n",
       "      <td>9.0</td>\n",
       "      <td>58.0</td>\n",
       "      <td>466.0</td>\n",
       "      <td>57.0</td>\n",
       "      <td>15.0</td>\n",
       "      <td>ultra</td>\n",
       "      <td>Краснодар</td>\n",
       "      <td>1000</td>\n",
       "      <td>30.0</td>\n",
       "      <td>3000</td>\n",
       "      <td>1950</td>\n",
       "      <td>150</td>\n",
       "      <td>1</td>\n",
       "      <td>1</td>\n",
       "    </tr>\n",
       "    <tr>\n",
       "      <th>...</th>\n",
       "      <td>...</td>\n",
       "      <td>...</td>\n",
       "      <td>...</td>\n",
       "      <td>...</td>\n",
       "      <td>...</td>\n",
       "      <td>...</td>\n",
       "      <td>...</td>\n",
       "      <td>...</td>\n",
       "      <td>...</td>\n",
       "      <td>...</td>\n",
       "      <td>...</td>\n",
       "      <td>...</td>\n",
       "      <td>...</td>\n",
       "      <td>...</td>\n",
       "      <td>...</td>\n",
       "    </tr>\n",
       "    <tr>\n",
       "      <th>3211</th>\n",
       "      <td>1489</td>\n",
       "      <td>9.0</td>\n",
       "      <td>NaN</td>\n",
       "      <td>NaN</td>\n",
       "      <td>32.0</td>\n",
       "      <td>17.0</td>\n",
       "      <td>smart</td>\n",
       "      <td>Санкт-Петербург</td>\n",
       "      <td>50</td>\n",
       "      <td>15.0</td>\n",
       "      <td>500</td>\n",
       "      <td>550</td>\n",
       "      <td>200</td>\n",
       "      <td>3</td>\n",
       "      <td>3</td>\n",
       "    </tr>\n",
       "    <tr>\n",
       "      <th>3212</th>\n",
       "      <td>1489</td>\n",
       "      <td>10.0</td>\n",
       "      <td>NaN</td>\n",
       "      <td>NaN</td>\n",
       "      <td>21.0</td>\n",
       "      <td>20.0</td>\n",
       "      <td>smart</td>\n",
       "      <td>Санкт-Петербург</td>\n",
       "      <td>50</td>\n",
       "      <td>15.0</td>\n",
       "      <td>500</td>\n",
       "      <td>550</td>\n",
       "      <td>200</td>\n",
       "      <td>3</td>\n",
       "      <td>3</td>\n",
       "    </tr>\n",
       "    <tr>\n",
       "      <th>3213</th>\n",
       "      <td>1489</td>\n",
       "      <td>11.0</td>\n",
       "      <td>NaN</td>\n",
       "      <td>NaN</td>\n",
       "      <td>20.0</td>\n",
       "      <td>18.0</td>\n",
       "      <td>smart</td>\n",
       "      <td>Санкт-Петербург</td>\n",
       "      <td>50</td>\n",
       "      <td>15.0</td>\n",
       "      <td>500</td>\n",
       "      <td>550</td>\n",
       "      <td>200</td>\n",
       "      <td>3</td>\n",
       "      <td>3</td>\n",
       "    </tr>\n",
       "    <tr>\n",
       "      <th>3214</th>\n",
       "      <td>1489</td>\n",
       "      <td>12.0</td>\n",
       "      <td>NaN</td>\n",
       "      <td>NaN</td>\n",
       "      <td>35.0</td>\n",
       "      <td>17.0</td>\n",
       "      <td>smart</td>\n",
       "      <td>Санкт-Петербург</td>\n",
       "      <td>50</td>\n",
       "      <td>15.0</td>\n",
       "      <td>500</td>\n",
       "      <td>550</td>\n",
       "      <td>200</td>\n",
       "      <td>3</td>\n",
       "      <td>3</td>\n",
       "    </tr>\n",
       "    <tr>\n",
       "      <th>3215</th>\n",
       "      <td>1371</td>\n",
       "      <td>NaN</td>\n",
       "      <td>NaN</td>\n",
       "      <td>NaN</td>\n",
       "      <td>NaN</td>\n",
       "      <td>NaN</td>\n",
       "      <td>smart</td>\n",
       "      <td>Омск</td>\n",
       "      <td>50</td>\n",
       "      <td>15.0</td>\n",
       "      <td>500</td>\n",
       "      <td>550</td>\n",
       "      <td>200</td>\n",
       "      <td>3</td>\n",
       "      <td>3</td>\n",
       "    </tr>\n",
       "  </tbody>\n",
       "</table>\n",
       "<p>3216 rows × 15 columns</p>\n",
       "</div>"
      ],
      "text/plain": [
       "      user_id  month  number_of_calls  duration_of_calls  number_of_messages  \\\n",
       "0        1000    5.0             22.0              159.0                22.0   \n",
       "1        1000    6.0             43.0              172.0                60.0   \n",
       "2        1000    7.0             47.0              340.0                75.0   \n",
       "3        1000    8.0             52.0              408.0                81.0   \n",
       "4        1000    9.0             58.0              466.0                57.0   \n",
       "...       ...    ...              ...                ...                 ...   \n",
       "3211     1489    9.0              NaN                NaN                32.0   \n",
       "3212     1489   10.0              NaN                NaN                21.0   \n",
       "3213     1489   11.0              NaN                NaN                20.0   \n",
       "3214     1489   12.0              NaN                NaN                35.0   \n",
       "3215     1371    NaN              NaN                NaN                 NaN   \n",
       "\n",
       "      gb_used tariff             city  messages_included  \\\n",
       "0         3.0  ultra        Краснодар               1000   \n",
       "1        23.0  ultra        Краснодар               1000   \n",
       "2        14.0  ultra        Краснодар               1000   \n",
       "3        14.0  ultra        Краснодар               1000   \n",
       "4        15.0  ultra        Краснодар               1000   \n",
       "...       ...    ...              ...                ...   \n",
       "3211     17.0  smart  Санкт-Петербург                 50   \n",
       "3212     20.0  smart  Санкт-Петербург                 50   \n",
       "3213     18.0  smart  Санкт-Петербург                 50   \n",
       "3214     17.0  smart  Санкт-Петербург                 50   \n",
       "3215      NaN  smart             Омск                 50   \n",
       "\n",
       "      gb_per_month_included  minutes_included  rub_monthly_fee  rub_per_gb  \\\n",
       "0                      30.0              3000             1950         150   \n",
       "1                      30.0              3000             1950         150   \n",
       "2                      30.0              3000             1950         150   \n",
       "3                      30.0              3000             1950         150   \n",
       "4                      30.0              3000             1950         150   \n",
       "...                     ...               ...              ...         ...   \n",
       "3211                   15.0               500              550         200   \n",
       "3212                   15.0               500              550         200   \n",
       "3213                   15.0               500              550         200   \n",
       "3214                   15.0               500              550         200   \n",
       "3215                   15.0               500              550         200   \n",
       "\n",
       "      rub_per_message  rub_per_minute  \n",
       "0                   1               1  \n",
       "1                   1               1  \n",
       "2                   1               1  \n",
       "3                   1               1  \n",
       "4                   1               1  \n",
       "...               ...             ...  \n",
       "3211                3               3  \n",
       "3212                3               3  \n",
       "3213                3               3  \n",
       "3214                3               3  \n",
       "3215                3               3  \n",
       "\n",
       "[3216 rows x 15 columns]"
      ]
     },
     "metadata": {},
     "output_type": "display_data"
    }
   ],
   "source": [
    "big_set = group_calls.merge(group_messages, on = ['user_id', 'month'], how = 'outer') #объединяем\n",
    "\n",
    "big_set = (big_set\n",
    "           .merge(group_internet, on = ['user_id', 'month'], how = 'outer')\n",
    "           .reset_index(level='month')\n",
    "          ) #объединяем\n",
    "\n",
    "\n",
    "big_set.columns = ['month', 'number_of_calls', 'duration_of_calls', 'number_of_messages', 'gb_used'] #переменовываем\n",
    "\n",
    "big_set = big_set.merge(users[['user_id', 'tariff', 'city']], on = 'user_id', how = 'outer') #объединяем\n",
    "big_set = big_set.merge(tariffs, on = 'tariff', how = 'outer') #объединяем\n",
    "display(big_set)"
   ]
  },
  {
   "cell_type": "markdown",
   "metadata": {},
   "source": [
    "Посмотрим сколько пропусков есть в нашем фрейме"
   ]
  },
  {
   "cell_type": "code",
   "execution_count": 18,
   "metadata": {},
   "outputs": [
    {
     "data": {
      "text/plain": [
       "user_id                    0\n",
       "month                      2\n",
       "number_of_calls           42\n",
       "duration_of_calls         42\n",
       "number_of_messages       499\n",
       "gb_used                   13\n",
       "tariff                     0\n",
       "city                       0\n",
       "messages_included          0\n",
       "gb_per_month_included      0\n",
       "minutes_included           0\n",
       "rub_monthly_fee            0\n",
       "rub_per_gb                 0\n",
       "rub_per_message            0\n",
       "rub_per_minute             0\n",
       "dtype: int64"
      ]
     },
     "execution_count": 18,
     "metadata": {},
     "output_type": "execute_result"
    }
   ],
   "source": [
    "big_set.isna().sum()"
   ]
  },
  {
   "cell_type": "code",
   "execution_count": 19,
   "metadata": {},
   "outputs": [
    {
     "data": {
      "text/html": [
       "<div>\n",
       "<style scoped>\n",
       "    .dataframe tbody tr th:only-of-type {\n",
       "        vertical-align: middle;\n",
       "    }\n",
       "\n",
       "    .dataframe tbody tr th {\n",
       "        vertical-align: top;\n",
       "    }\n",
       "\n",
       "    .dataframe thead th {\n",
       "        text-align: right;\n",
       "    }\n",
       "</style>\n",
       "<table border=\"1\" class=\"dataframe\">\n",
       "  <thead>\n",
       "    <tr style=\"text-align: right;\">\n",
       "      <th></th>\n",
       "      <th>user_id</th>\n",
       "      <th>month</th>\n",
       "      <th>number_of_calls</th>\n",
       "      <th>duration_of_calls</th>\n",
       "      <th>number_of_messages</th>\n",
       "      <th>gb_used</th>\n",
       "      <th>tariff</th>\n",
       "      <th>city</th>\n",
       "      <th>messages_included</th>\n",
       "      <th>gb_per_month_included</th>\n",
       "      <th>minutes_included</th>\n",
       "      <th>rub_monthly_fee</th>\n",
       "      <th>rub_per_gb</th>\n",
       "      <th>rub_per_message</th>\n",
       "      <th>rub_per_minute</th>\n",
       "    </tr>\n",
       "  </thead>\n",
       "  <tbody>\n",
       "    <tr>\n",
       "      <th>985</th>\n",
       "      <td>1128</td>\n",
       "      <td>NaN</td>\n",
       "      <td>NaN</td>\n",
       "      <td>NaN</td>\n",
       "      <td>NaN</td>\n",
       "      <td>NaN</td>\n",
       "      <td>ultra</td>\n",
       "      <td>Волжский</td>\n",
       "      <td>1000</td>\n",
       "      <td>30.0</td>\n",
       "      <td>3000</td>\n",
       "      <td>1950</td>\n",
       "      <td>150</td>\n",
       "      <td>1</td>\n",
       "      <td>1</td>\n",
       "    </tr>\n",
       "    <tr>\n",
       "      <th>3215</th>\n",
       "      <td>1371</td>\n",
       "      <td>NaN</td>\n",
       "      <td>NaN</td>\n",
       "      <td>NaN</td>\n",
       "      <td>NaN</td>\n",
       "      <td>NaN</td>\n",
       "      <td>smart</td>\n",
       "      <td>Омск</td>\n",
       "      <td>50</td>\n",
       "      <td>15.0</td>\n",
       "      <td>500</td>\n",
       "      <td>550</td>\n",
       "      <td>200</td>\n",
       "      <td>3</td>\n",
       "      <td>3</td>\n",
       "    </tr>\n",
       "  </tbody>\n",
       "</table>\n",
       "</div>"
      ],
      "text/plain": [
       "      user_id  month  number_of_calls  duration_of_calls  number_of_messages  \\\n",
       "985      1128    NaN              NaN                NaN                 NaN   \n",
       "3215     1371    NaN              NaN                NaN                 NaN   \n",
       "\n",
       "      gb_used tariff      city  messages_included  gb_per_month_included  \\\n",
       "985       NaN  ultra  Волжский               1000                   30.0   \n",
       "3215      NaN  smart      Омск                 50                   15.0   \n",
       "\n",
       "      minutes_included  rub_monthly_fee  rub_per_gb  rub_per_message  \\\n",
       "985               3000             1950         150                1   \n",
       "3215               500              550         200                3   \n",
       "\n",
       "      rub_per_minute  \n",
       "985                1  \n",
       "3215               3  "
      ]
     },
     "execution_count": 19,
     "metadata": {},
     "output_type": "execute_result"
    }
   ],
   "source": [
    "big_set[big_set['month'].isna()]"
   ]
  },
  {
   "cell_type": "markdown",
   "metadata": {},
   "source": [
    "В столбце month есть два пропущенных значения, т.е. мы не знаем в какой месяц (причем единственный месяц) абонент пользовался услугами связи. В связи с этим принято решение удалить данные строки."
   ]
  },
  {
   "cell_type": "code",
   "execution_count": 20,
   "metadata": {},
   "outputs": [],
   "source": [
    "big_set = big_set.dropna(subset=['month'])"
   ]
  },
  {
   "cell_type": "markdown",
   "metadata": {},
   "source": [
    "#### Помесячная выручка с каждого клиента"
   ]
  },
  {
   "cell_type": "markdown",
   "metadata": {},
   "source": [
    "Для того, чтобы посчитать помесячную вырочку с каждого клиента напишем функцию, которая будет сравнивать количество потраченных минут, сообщений, интернета в месяц с включеными в тариф. Если потраченные значения будут превышать включенные в тариф значения, то функция будет подсчитывать траты сверх стоимости тарифа."
   ]
  },
  {
   "cell_type": "code",
   "execution_count": 21,
   "metadata": {},
   "outputs": [],
   "source": [
    "def give_my_money_dude(row):\n",
    "    \n",
    "    calls_over_the_tariff = 0\n",
    "    messages_over_the_tariff = 0\n",
    "    internet_over_the_tarif = 0\n",
    "    rub_monthly_fee= row['rub_monthly_fee']\n",
    "    \n",
    "    if row['duration_of_calls']>row['minutes_included']:\n",
    "        calls_over_the_tariff+=(row['duration_of_calls']-row['minutes_included'])*row['rub_per_minute']\n",
    "        \n",
    "    if row['number_of_messages']>row['messages_included']:\n",
    "        messages_over_the_tariff+=(row['number_of_messages']-row['messages_included'])*row['rub_per_message']\n",
    "        \n",
    "    if row['gb_used']>row['gb_per_month_included']:\n",
    "        internet_over_the_tarif+=(row['gb_used']-row['gb_per_month_included'])*row['rub_per_gb']\n",
    "        \n",
    "    return calls_over_the_tariff+messages_over_the_tariff+internet_over_the_tarif+rub_monthly_fee"
   ]
  },
  {
   "cell_type": "markdown",
   "metadata": {},
   "source": [
    "Применим функцию к нашему папа-фрейму и создадим столбец, где будет хранится выручка за каждый месяц с каждого клиента:"
   ]
  },
  {
   "cell_type": "code",
   "execution_count": 22,
   "metadata": {
    "scrolled": false
   },
   "outputs": [
    {
     "data": {
      "text/html": [
       "<div>\n",
       "<style scoped>\n",
       "    .dataframe tbody tr th:only-of-type {\n",
       "        vertical-align: middle;\n",
       "    }\n",
       "\n",
       "    .dataframe tbody tr th {\n",
       "        vertical-align: top;\n",
       "    }\n",
       "\n",
       "    .dataframe thead th {\n",
       "        text-align: right;\n",
       "    }\n",
       "</style>\n",
       "<table border=\"1\" class=\"dataframe\">\n",
       "  <thead>\n",
       "    <tr style=\"text-align: right;\">\n",
       "      <th></th>\n",
       "      <th>user_id</th>\n",
       "      <th>month</th>\n",
       "      <th>number_of_calls</th>\n",
       "      <th>duration_of_calls</th>\n",
       "      <th>number_of_messages</th>\n",
       "      <th>gb_used</th>\n",
       "      <th>tariff</th>\n",
       "      <th>city</th>\n",
       "      <th>messages_included</th>\n",
       "      <th>gb_per_month_included</th>\n",
       "      <th>minutes_included</th>\n",
       "      <th>rub_monthly_fee</th>\n",
       "      <th>rub_per_gb</th>\n",
       "      <th>rub_per_message</th>\n",
       "      <th>rub_per_minute</th>\n",
       "      <th>total_bill</th>\n",
       "    </tr>\n",
       "  </thead>\n",
       "  <tbody>\n",
       "    <tr>\n",
       "      <th>0</th>\n",
       "      <td>1000</td>\n",
       "      <td>5.0</td>\n",
       "      <td>22.0</td>\n",
       "      <td>159.0</td>\n",
       "      <td>22.0</td>\n",
       "      <td>3.0</td>\n",
       "      <td>ultra</td>\n",
       "      <td>Краснодар</td>\n",
       "      <td>1000</td>\n",
       "      <td>30.0</td>\n",
       "      <td>3000</td>\n",
       "      <td>1950</td>\n",
       "      <td>150</td>\n",
       "      <td>1</td>\n",
       "      <td>1</td>\n",
       "      <td>1950.0</td>\n",
       "    </tr>\n",
       "    <tr>\n",
       "      <th>1</th>\n",
       "      <td>1000</td>\n",
       "      <td>6.0</td>\n",
       "      <td>43.0</td>\n",
       "      <td>172.0</td>\n",
       "      <td>60.0</td>\n",
       "      <td>23.0</td>\n",
       "      <td>ultra</td>\n",
       "      <td>Краснодар</td>\n",
       "      <td>1000</td>\n",
       "      <td>30.0</td>\n",
       "      <td>3000</td>\n",
       "      <td>1950</td>\n",
       "      <td>150</td>\n",
       "      <td>1</td>\n",
       "      <td>1</td>\n",
       "      <td>1950.0</td>\n",
       "    </tr>\n",
       "    <tr>\n",
       "      <th>2</th>\n",
       "      <td>1000</td>\n",
       "      <td>7.0</td>\n",
       "      <td>47.0</td>\n",
       "      <td>340.0</td>\n",
       "      <td>75.0</td>\n",
       "      <td>14.0</td>\n",
       "      <td>ultra</td>\n",
       "      <td>Краснодар</td>\n",
       "      <td>1000</td>\n",
       "      <td>30.0</td>\n",
       "      <td>3000</td>\n",
       "      <td>1950</td>\n",
       "      <td>150</td>\n",
       "      <td>1</td>\n",
       "      <td>1</td>\n",
       "      <td>1950.0</td>\n",
       "    </tr>\n",
       "    <tr>\n",
       "      <th>3</th>\n",
       "      <td>1000</td>\n",
       "      <td>8.0</td>\n",
       "      <td>52.0</td>\n",
       "      <td>408.0</td>\n",
       "      <td>81.0</td>\n",
       "      <td>14.0</td>\n",
       "      <td>ultra</td>\n",
       "      <td>Краснодар</td>\n",
       "      <td>1000</td>\n",
       "      <td>30.0</td>\n",
       "      <td>3000</td>\n",
       "      <td>1950</td>\n",
       "      <td>150</td>\n",
       "      <td>1</td>\n",
       "      <td>1</td>\n",
       "      <td>1950.0</td>\n",
       "    </tr>\n",
       "    <tr>\n",
       "      <th>4</th>\n",
       "      <td>1000</td>\n",
       "      <td>9.0</td>\n",
       "      <td>58.0</td>\n",
       "      <td>466.0</td>\n",
       "      <td>57.0</td>\n",
       "      <td>15.0</td>\n",
       "      <td>ultra</td>\n",
       "      <td>Краснодар</td>\n",
       "      <td>1000</td>\n",
       "      <td>30.0</td>\n",
       "      <td>3000</td>\n",
       "      <td>1950</td>\n",
       "      <td>150</td>\n",
       "      <td>1</td>\n",
       "      <td>1</td>\n",
       "      <td>1950.0</td>\n",
       "    </tr>\n",
       "    <tr>\n",
       "      <th>...</th>\n",
       "      <td>...</td>\n",
       "      <td>...</td>\n",
       "      <td>...</td>\n",
       "      <td>...</td>\n",
       "      <td>...</td>\n",
       "      <td>...</td>\n",
       "      <td>...</td>\n",
       "      <td>...</td>\n",
       "      <td>...</td>\n",
       "      <td>...</td>\n",
       "      <td>...</td>\n",
       "      <td>...</td>\n",
       "      <td>...</td>\n",
       "      <td>...</td>\n",
       "      <td>...</td>\n",
       "      <td>...</td>\n",
       "    </tr>\n",
       "    <tr>\n",
       "      <th>3210</th>\n",
       "      <td>1489</td>\n",
       "      <td>8.0</td>\n",
       "      <td>NaN</td>\n",
       "      <td>NaN</td>\n",
       "      <td>17.0</td>\n",
       "      <td>11.0</td>\n",
       "      <td>smart</td>\n",
       "      <td>Санкт-Петербург</td>\n",
       "      <td>50</td>\n",
       "      <td>15.0</td>\n",
       "      <td>500</td>\n",
       "      <td>550</td>\n",
       "      <td>200</td>\n",
       "      <td>3</td>\n",
       "      <td>3</td>\n",
       "      <td>550.0</td>\n",
       "    </tr>\n",
       "    <tr>\n",
       "      <th>3211</th>\n",
       "      <td>1489</td>\n",
       "      <td>9.0</td>\n",
       "      <td>NaN</td>\n",
       "      <td>NaN</td>\n",
       "      <td>32.0</td>\n",
       "      <td>17.0</td>\n",
       "      <td>smart</td>\n",
       "      <td>Санкт-Петербург</td>\n",
       "      <td>50</td>\n",
       "      <td>15.0</td>\n",
       "      <td>500</td>\n",
       "      <td>550</td>\n",
       "      <td>200</td>\n",
       "      <td>3</td>\n",
       "      <td>3</td>\n",
       "      <td>950.0</td>\n",
       "    </tr>\n",
       "    <tr>\n",
       "      <th>3212</th>\n",
       "      <td>1489</td>\n",
       "      <td>10.0</td>\n",
       "      <td>NaN</td>\n",
       "      <td>NaN</td>\n",
       "      <td>21.0</td>\n",
       "      <td>20.0</td>\n",
       "      <td>smart</td>\n",
       "      <td>Санкт-Петербург</td>\n",
       "      <td>50</td>\n",
       "      <td>15.0</td>\n",
       "      <td>500</td>\n",
       "      <td>550</td>\n",
       "      <td>200</td>\n",
       "      <td>3</td>\n",
       "      <td>3</td>\n",
       "      <td>1550.0</td>\n",
       "    </tr>\n",
       "    <tr>\n",
       "      <th>3213</th>\n",
       "      <td>1489</td>\n",
       "      <td>11.0</td>\n",
       "      <td>NaN</td>\n",
       "      <td>NaN</td>\n",
       "      <td>20.0</td>\n",
       "      <td>18.0</td>\n",
       "      <td>smart</td>\n",
       "      <td>Санкт-Петербург</td>\n",
       "      <td>50</td>\n",
       "      <td>15.0</td>\n",
       "      <td>500</td>\n",
       "      <td>550</td>\n",
       "      <td>200</td>\n",
       "      <td>3</td>\n",
       "      <td>3</td>\n",
       "      <td>1150.0</td>\n",
       "    </tr>\n",
       "    <tr>\n",
       "      <th>3214</th>\n",
       "      <td>1489</td>\n",
       "      <td>12.0</td>\n",
       "      <td>NaN</td>\n",
       "      <td>NaN</td>\n",
       "      <td>35.0</td>\n",
       "      <td>17.0</td>\n",
       "      <td>smart</td>\n",
       "      <td>Санкт-Петербург</td>\n",
       "      <td>50</td>\n",
       "      <td>15.0</td>\n",
       "      <td>500</td>\n",
       "      <td>550</td>\n",
       "      <td>200</td>\n",
       "      <td>3</td>\n",
       "      <td>3</td>\n",
       "      <td>950.0</td>\n",
       "    </tr>\n",
       "  </tbody>\n",
       "</table>\n",
       "<p>3214 rows × 16 columns</p>\n",
       "</div>"
      ],
      "text/plain": [
       "      user_id  month  number_of_calls  duration_of_calls  number_of_messages  \\\n",
       "0        1000    5.0             22.0              159.0                22.0   \n",
       "1        1000    6.0             43.0              172.0                60.0   \n",
       "2        1000    7.0             47.0              340.0                75.0   \n",
       "3        1000    8.0             52.0              408.0                81.0   \n",
       "4        1000    9.0             58.0              466.0                57.0   \n",
       "...       ...    ...              ...                ...                 ...   \n",
       "3210     1489    8.0              NaN                NaN                17.0   \n",
       "3211     1489    9.0              NaN                NaN                32.0   \n",
       "3212     1489   10.0              NaN                NaN                21.0   \n",
       "3213     1489   11.0              NaN                NaN                20.0   \n",
       "3214     1489   12.0              NaN                NaN                35.0   \n",
       "\n",
       "      gb_used tariff             city  messages_included  \\\n",
       "0         3.0  ultra        Краснодар               1000   \n",
       "1        23.0  ultra        Краснодар               1000   \n",
       "2        14.0  ultra        Краснодар               1000   \n",
       "3        14.0  ultra        Краснодар               1000   \n",
       "4        15.0  ultra        Краснодар               1000   \n",
       "...       ...    ...              ...                ...   \n",
       "3210     11.0  smart  Санкт-Петербург                 50   \n",
       "3211     17.0  smart  Санкт-Петербург                 50   \n",
       "3212     20.0  smart  Санкт-Петербург                 50   \n",
       "3213     18.0  smart  Санкт-Петербург                 50   \n",
       "3214     17.0  smart  Санкт-Петербург                 50   \n",
       "\n",
       "      gb_per_month_included  minutes_included  rub_monthly_fee  rub_per_gb  \\\n",
       "0                      30.0              3000             1950         150   \n",
       "1                      30.0              3000             1950         150   \n",
       "2                      30.0              3000             1950         150   \n",
       "3                      30.0              3000             1950         150   \n",
       "4                      30.0              3000             1950         150   \n",
       "...                     ...               ...              ...         ...   \n",
       "3210                   15.0               500              550         200   \n",
       "3211                   15.0               500              550         200   \n",
       "3212                   15.0               500              550         200   \n",
       "3213                   15.0               500              550         200   \n",
       "3214                   15.0               500              550         200   \n",
       "\n",
       "      rub_per_message  rub_per_minute  total_bill  \n",
       "0                   1               1      1950.0  \n",
       "1                   1               1      1950.0  \n",
       "2                   1               1      1950.0  \n",
       "3                   1               1      1950.0  \n",
       "4                   1               1      1950.0  \n",
       "...               ...             ...         ...  \n",
       "3210                3               3       550.0  \n",
       "3211                3               3       950.0  \n",
       "3212                3               3      1550.0  \n",
       "3213                3               3      1150.0  \n",
       "3214                3               3       950.0  \n",
       "\n",
       "[3214 rows x 16 columns]"
      ]
     },
     "metadata": {},
     "output_type": "display_data"
    }
   ],
   "source": [
    "big_set['total_bill'] = big_set.apply(give_my_money_dude, axis=1)\n",
    "display(big_set)"
   ]
  },
  {
   "cell_type": "markdown",
   "metadata": {},
   "source": [
    "## Анализ данных"
   ]
  },
  {
   "cell_type": "markdown",
   "metadata": {},
   "source": [
    "### Сколько тратят минут в месяц"
   ]
  },
  {
   "cell_type": "markdown",
   "metadata": {},
   "source": [
    "Для того, чтобы посчитать сколько тартят клиенты минут на разговор помесячно по каждому тарифу создадим сводную таблицу:"
   ]
  },
  {
   "cell_type": "code",
   "execution_count": 23,
   "metadata": {
    "scrolled": false
   },
   "outputs": [
    {
     "data": {
      "text/html": [
       "<div>\n",
       "<style scoped>\n",
       "    .dataframe tbody tr th:only-of-type {\n",
       "        vertical-align: middle;\n",
       "    }\n",
       "\n",
       "    .dataframe tbody tr th {\n",
       "        vertical-align: top;\n",
       "    }\n",
       "\n",
       "    .dataframe thead th {\n",
       "        text-align: right;\n",
       "    }\n",
       "</style>\n",
       "<table border=\"1\" class=\"dataframe\">\n",
       "  <thead>\n",
       "    <tr style=\"text-align: right;\">\n",
       "      <th></th>\n",
       "      <th>month</th>\n",
       "      <th>tariff</th>\n",
       "      <th>duration_of_calls</th>\n",
       "    </tr>\n",
       "  </thead>\n",
       "  <tbody>\n",
       "    <tr>\n",
       "      <th>0</th>\n",
       "      <td>1.0</td>\n",
       "      <td>smart</td>\n",
       "      <td>6931.0</td>\n",
       "    </tr>\n",
       "    <tr>\n",
       "      <th>1</th>\n",
       "      <td>1.0</td>\n",
       "      <td>ultra</td>\n",
       "      <td>3853.0</td>\n",
       "    </tr>\n",
       "    <tr>\n",
       "      <th>2</th>\n",
       "      <td>2.0</td>\n",
       "      <td>smart</td>\n",
       "      <td>17324.0</td>\n",
       "    </tr>\n",
       "    <tr>\n",
       "      <th>3</th>\n",
       "      <td>2.0</td>\n",
       "      <td>ultra</td>\n",
       "      <td>7131.0</td>\n",
       "    </tr>\n",
       "    <tr>\n",
       "      <th>4</th>\n",
       "      <td>3.0</td>\n",
       "      <td>smart</td>\n",
       "      <td>30034.0</td>\n",
       "    </tr>\n",
       "    <tr>\n",
       "      <th>5</th>\n",
       "      <td>3.0</td>\n",
       "      <td>ultra</td>\n",
       "      <td>18117.0</td>\n",
       "    </tr>\n",
       "    <tr>\n",
       "      <th>6</th>\n",
       "      <td>4.0</td>\n",
       "      <td>smart</td>\n",
       "      <td>41119.0</td>\n",
       "    </tr>\n",
       "    <tr>\n",
       "      <th>7</th>\n",
       "      <td>4.0</td>\n",
       "      <td>ultra</td>\n",
       "      <td>25191.0</td>\n",
       "    </tr>\n",
       "    <tr>\n",
       "      <th>8</th>\n",
       "      <td>5.0</td>\n",
       "      <td>smart</td>\n",
       "      <td>54618.0</td>\n",
       "    </tr>\n",
       "    <tr>\n",
       "      <th>9</th>\n",
       "      <td>5.0</td>\n",
       "      <td>ultra</td>\n",
       "      <td>34192.0</td>\n",
       "    </tr>\n",
       "    <tr>\n",
       "      <th>10</th>\n",
       "      <td>6.0</td>\n",
       "      <td>smart</td>\n",
       "      <td>64885.0</td>\n",
       "    </tr>\n",
       "    <tr>\n",
       "      <th>11</th>\n",
       "      <td>6.0</td>\n",
       "      <td>ultra</td>\n",
       "      <td>40295.0</td>\n",
       "    </tr>\n",
       "    <tr>\n",
       "      <th>12</th>\n",
       "      <td>7.0</td>\n",
       "      <td>smart</td>\n",
       "      <td>82079.0</td>\n",
       "    </tr>\n",
       "    <tr>\n",
       "      <th>13</th>\n",
       "      <td>7.0</td>\n",
       "      <td>ultra</td>\n",
       "      <td>49667.0</td>\n",
       "    </tr>\n",
       "    <tr>\n",
       "      <th>14</th>\n",
       "      <td>8.0</td>\n",
       "      <td>smart</td>\n",
       "      <td>99045.0</td>\n",
       "    </tr>\n",
       "    <tr>\n",
       "      <th>15</th>\n",
       "      <td>8.0</td>\n",
       "      <td>ultra</td>\n",
       "      <td>54653.0</td>\n",
       "    </tr>\n",
       "    <tr>\n",
       "      <th>16</th>\n",
       "      <td>9.0</td>\n",
       "      <td>smart</td>\n",
       "      <td>111439.0</td>\n",
       "    </tr>\n",
       "    <tr>\n",
       "      <th>17</th>\n",
       "      <td>9.0</td>\n",
       "      <td>ultra</td>\n",
       "      <td>62036.0</td>\n",
       "    </tr>\n",
       "    <tr>\n",
       "      <th>18</th>\n",
       "      <td>10.0</td>\n",
       "      <td>smart</td>\n",
       "      <td>125284.0</td>\n",
       "    </tr>\n",
       "    <tr>\n",
       "      <th>19</th>\n",
       "      <td>10.0</td>\n",
       "      <td>ultra</td>\n",
       "      <td>68644.0</td>\n",
       "    </tr>\n",
       "    <tr>\n",
       "      <th>20</th>\n",
       "      <td>11.0</td>\n",
       "      <td>smart</td>\n",
       "      <td>137544.0</td>\n",
       "    </tr>\n",
       "    <tr>\n",
       "      <th>21</th>\n",
       "      <td>11.0</td>\n",
       "      <td>ultra</td>\n",
       "      <td>72545.0</td>\n",
       "    </tr>\n",
       "    <tr>\n",
       "      <th>22</th>\n",
       "      <td>12.0</td>\n",
       "      <td>smart</td>\n",
       "      <td>161275.0</td>\n",
       "    </tr>\n",
       "    <tr>\n",
       "      <th>23</th>\n",
       "      <td>12.0</td>\n",
       "      <td>ultra</td>\n",
       "      <td>82400.0</td>\n",
       "    </tr>\n",
       "  </tbody>\n",
       "</table>\n",
       "</div>"
      ],
      "text/plain": [
       "    month tariff  duration_of_calls\n",
       "0     1.0  smart             6931.0\n",
       "1     1.0  ultra             3853.0\n",
       "2     2.0  smart            17324.0\n",
       "3     2.0  ultra             7131.0\n",
       "4     3.0  smart            30034.0\n",
       "5     3.0  ultra            18117.0\n",
       "6     4.0  smart            41119.0\n",
       "7     4.0  ultra            25191.0\n",
       "8     5.0  smart            54618.0\n",
       "9     5.0  ultra            34192.0\n",
       "10    6.0  smart            64885.0\n",
       "11    6.0  ultra            40295.0\n",
       "12    7.0  smart            82079.0\n",
       "13    7.0  ultra            49667.0\n",
       "14    8.0  smart            99045.0\n",
       "15    8.0  ultra            54653.0\n",
       "16    9.0  smart           111439.0\n",
       "17    9.0  ultra            62036.0\n",
       "18   10.0  smart           125284.0\n",
       "19   10.0  ultra            68644.0\n",
       "20   11.0  smart           137544.0\n",
       "21   11.0  ultra            72545.0\n",
       "22   12.0  smart           161275.0\n",
       "23   12.0  ultra            82400.0"
      ]
     },
     "execution_count": 23,
     "metadata": {},
     "output_type": "execute_result"
    }
   ],
   "source": [
    "minutes_per_month = (big_set\n",
    "                     .pivot_table(index=['month', 'tariff'],\n",
    "                                         values = 'duration_of_calls',\n",
    "                                         aggfunc = sum)\n",
    "                    ).reset_index()\n",
    "\n",
    "minutes_per_month"
   ]
  },
  {
   "cell_type": "markdown",
   "metadata": {},
   "source": [
    "Визуализируем количество потраченных минут помесячно по каждому тарифу:"
   ]
  },
  {
   "cell_type": "code",
   "execution_count": 24,
   "metadata": {},
   "outputs": [
    {
     "data": {
      "text/plain": [
       "<AxesSubplot:title={'center':'ultra'}, xlabel='month'>"
      ]
     },
     "execution_count": 24,
     "metadata": {},
     "output_type": "execute_result"
    },
    {
     "data": {
      "image/png": "[encoded data removed]",
      "text/plain": [
       "<Figure size 1080x360 with 2 Axes>"
      ]
     },
     "metadata": {
      "needs_background": "light"
     },
     "output_type": "display_data"
    }
   ],
   "source": [
    "fig, axs = plt.subplots(1,2)\n",
    "\n",
    "(minutes_per_month\n",
    " .query('tariff == \"smart\"')\n",
    " .plot(x='month' , y='duration_of_calls', kind = 'bar', title='smart', ax=axs[0], figsize = (15, 5))\n",
    ")\n",
    "\n",
    "(minutes_per_month\n",
    " .query('tariff == \"ultra\"')\n",
    " .plot(x='month' , y='duration_of_calls', kind = 'bar', title='ultra', ax=axs[1], figsize = (15, 5))\n",
    ")"
   ]
  },
  {
   "cell_type": "markdown",
   "metadata": {},
   "source": [
    "На столбчатой диаграмме видно, что с каждым месяцем продолжительность звонков по каждому тарифу росло, скорее всего это связано с ежемесячным приростом абонентов за 2018 год. Однако, клиенты тарифа смарт на конец года потратили минут в 2 раза больше.\n",
    "\n",
    "Построим гистаграммы плотностей. Для начала выделим в отдельные перменные продолжительность звоков по тарифу смарт и ультра:"
   ]
  },
  {
   "cell_type": "code",
   "execution_count": 25,
   "metadata": {},
   "outputs": [],
   "source": [
    "smart_call = big_set[big_set['tariff']=='smart']['duration_of_calls'] #выделим отдельный датасет с продолжительностью звонков smart\n",
    "ultra_call = big_set[big_set['tariff']=='ultra']['duration_of_calls'] #выделим отдельный датасет с продолжительностью звонков ultra"
   ]
  },
  {
   "cell_type": "code",
   "execution_count": null,
   "metadata": {
    "scrolled": false
   },
   "outputs": [
    {
     "data": {
      "text/plain": [
       "<matplotlib.legend.Legend at 0x7f637b840130>"
      ]
     },
     "execution_count": 26,
     "metadata": {},
     "output_type": "execute_result"
    }
   ],
   "source": [
    "plt.figure(figsize=(14, 5))\n",
    "\n",
    "\n",
    "smart_call.hist( bins = 50,  color='green', label = 'smart')\n",
    "ultra_call.hist( bins = 50, color='red', alpha=0.6, label = 'ultra')\n",
    "\n",
    "plt.title('Распределение частоты по параметру duration_of_calls')\n",
    "plt.xlabel('duration_of_calls')\n",
    "plt.ylabel('Частота')\n",
    "plt.legend()"
   ]
  },
  {
   "cell_type": "markdown",
   "metadata": {},
   "source": [
    "Гистограмма тарифа смарт выглядит семитрично, без сильных скосов. Если посмотреть на медианное и средне значение (рассчитано ниже), то исходя из них можно сказать, что значения одинаковые и гистограмма семитрична. Гистограмма тарифа ультра скошена вправа, что подтверждают среднии и медианные значения (медианное значение меньше среднего.) Абоненты тарифа ультра не расходуют включеные минуты на звонки (3000 минут), в тарифе смарт, напротив, клиенты частенько тратят включенные минуты звонков сверх нормы (500 минут). \n",
    "\n",
    "Расчитаем дисперсию, среднее значение, стандартное отклонение и медиану по каждому тарифу:"
   ]
  },
  {
   "cell_type": "code",
   "execution_count": null,
   "metadata": {},
   "outputs": [],
   "source": [
    "var_call_smart = np.var(smart_call) # Дисперсия\n",
    "mean_smart_call = smart_call.describe()[1] # Среднее значение\n",
    "std_smart_call = smart_call.describe()[2] #Стандартное отклонение\n",
    "median_smart_call = smart_call.median()\n",
    "display(f'Среднее значение длительности звонков по тарифу smart составляет {mean_smart_call}') \n",
    "display(f'Стандратное отклонение длительности звонков по тарифу smart составляет {std_smart_call}')\n",
    "display(f'Дисперсия длительности звонков по тарифу smart составляет {var_call_smart}')\n",
    "display(f'Медианное знаение длительности звонков по тарифу smart составляет {median_smart_call}')\n",
    "\n",
    "smart_call.describe()"
   ]
  },
  {
   "cell_type": "code",
   "execution_count": null,
   "metadata": {
    "scrolled": true
   },
   "outputs": [],
   "source": [
    "var_call_ultra = np.var(ultra_call) # Дисперсия\n",
    "mean_ultra_call = ultra_call.describe()[1] # Среднее значение\n",
    "std_ultra_call = ultra_call.describe()[2] #Стандартное отклонение\n",
    "median_ultra_call = ultra_call.median()\n",
    "\n",
    "display(f'Среднее значение длительности звонков по тарифу smart составляет {mean_ultra_call}') \n",
    "display(f'Стандратное отклонение длительности звонков по тарифу smart составляет {std_ultra_call}')\n",
    "display(f'Дисперсия длительности звонков по тарифу smart составляет {var_call_ultra}')\n",
    "display(f'Медианное знаение длительности звонков по тарифу smart составляет {median_ultra_call}')\n",
    "\n",
    "ultra_call.describe()"
   ]
  },
  {
   "cell_type": "code",
   "execution_count": null,
   "metadata": {},
   "outputs": [],
   "source": [
    "plt.figure(figsize=(14, 5))\n",
    "smart_call.plot( kind='kde',   color='green', label = 'smart')\n",
    "ultra_call.plot( kind='kde',  color='red', alpha=0.6, label = 'ultra')\n",
    "\n",
    "plt.title('Распределение частоты по параметру duration_of_calls')\n",
    "plt.xlabel('duration_of_calls')\n",
    "plt.ylabel('Плотность частоты')\n",
    "plt.legend()\n",
    "plt.grid()\n",
    "plt.xlim([-100,1500])\n",
    "plt.show()"
   ]
  },
  {
   "cell_type": "markdown",
   "metadata": {},
   "source": [
    "### Сколько отправляют сообщенйи в месяц"
   ]
  },
  {
   "cell_type": "markdown",
   "metadata": {},
   "source": [
    "Создадим сводную таблицу по суммарному количеству отправленных сообщений по каждому месяцу и тарифу:"
   ]
  },
  {
   "cell_type": "code",
   "execution_count": null,
   "metadata": {},
   "outputs": [],
   "source": [
    "messages_per_month = (big_set\n",
    "                     .pivot_table(index=['month', 'tariff'],\n",
    "                                         values = 'number_of_messages',\n",
    "                                         aggfunc = sum)\n",
    "                    ).reset_index()\n",
    "\n",
    "minutes_per_month"
   ]
  },
  {
   "cell_type": "markdown",
   "metadata": {},
   "source": [
    "Визуализируем количество отправленных сообщений помесячно по каждому тарифу:"
   ]
  },
  {
   "cell_type": "code",
   "execution_count": null,
   "metadata": {
    "scrolled": false
   },
   "outputs": [],
   "source": [
    "fig, axs = plt.subplots(1,2)\n",
    "\n",
    "(messages_per_month\n",
    " .query('tariff == \"smart\"')\n",
    " .plot(x='month' , y='number_of_messages', kind = 'bar', title='smart', ax=axs[0], figsize = (15, 5))\n",
    ")\n",
    "\n",
    "(messages_per_month\n",
    " .query('tariff == \"ultra\"')\n",
    " .plot(x='month' , y='number_of_messages', kind = 'bar', title='ultra', ax=axs[1], figsize = (15, 5))\n",
    ")"
   ]
  },
  {
   "cell_type": "markdown",
   "metadata": {},
   "source": [
    "Видно, что с каждым месяцем количество отправленных сообщени становилось только больше.\n",
    "\n",
    "Построим гистограммы плотностей, для этого соберем в отдельные переменные количество отправленных сообщений по тарифам смарт и ультра:"
   ]
  },
  {
   "cell_type": "code",
   "execution_count": null,
   "metadata": {},
   "outputs": [],
   "source": [
    "smart_messages = big_set[big_set['tariff']=='smart']['number_of_messages']\n",
    "ultra_messages = big_set[big_set['tariff']=='ultra']['number_of_messages']"
   ]
  },
  {
   "cell_type": "code",
   "execution_count": null,
   "metadata": {},
   "outputs": [],
   "source": [
    "plt.figure(figsize=(14, 5))\n",
    " \n",
    "\n",
    "smart_messages.hist( bins = 50,  color='green', label = 'smart')\n",
    "ultra_messages.hist( bins = 50, color='red', alpha=0.6, label = 'ultra')\n",
    "\n",
    "\n",
    "plt.title('Распределение частоты по параметру number_of_messages')\n",
    "plt.xlabel('number_of_messages')\n",
    "plt.ylabel('Частота')\n",
    "plt.legend()"
   ]
  },
  {
   "cell_type": "code",
   "execution_count": null,
   "metadata": {},
   "outputs": [],
   "source": [
    "plt.figure(figsize=(14, 5))\n",
    "smart_messages.plot( kind='kde',   color='green', label = 'smart')\n",
    "ultra_messages.plot( kind='kde',  color='red', alpha=0.6, label = 'ultra')\n",
    "\n",
    "plt.title('Распределение частоты по параметру duration_of_calls')\n",
    "plt.xlabel('duration_of_calls')\n",
    "plt.ylabel('Плотность частоты')\n",
    "plt.legend()\n",
    "plt.grid()\n",
    "plt.xlim([-100,400])\n",
    "plt.show()"
   ]
  },
  {
   "cell_type": "markdown",
   "metadata": {},
   "source": [
    "Гистограмма плотностей отправленных сообщений тарифа смарт скошена вправо, о чем нам говорит сама гисограмма и медианное, и средние значение, которое расчитано снизу (медианное значение меньше среднего значения). Так же можно заметить, что присутсвуют значения, которые превышают включенные в тариф количество сообщений (50 сообщений в месяц).\n",
    "\n",
    "А вот гистограмма плотностей тарифа ультра скошена вправо уже более заметно это видно и на графике, и по средниму,, и медианному значению. В отличие от тарифа смарт, в тарифе ультра нет значений, котрые превышали бы лимит  включенных сообщений (1000 сообщений в месяц).\n",
    "\n",
    "Рассчитаем среднее, медианное, стандартное отклонение и дисперсию:"
   ]
  },
  {
   "cell_type": "code",
   "execution_count": null,
   "metadata": {
    "scrolled": true
   },
   "outputs": [],
   "source": [
    "(\n",
    "    big_set.pivot_table(\n",
    "        index = 'tariff',\n",
    "        values = 'number_of_messages',\n",
    "        aggfunc = ['mean', 'median', (np.var), (np.std)])\n",
    ")"
   ]
  },
  {
   "cell_type": "markdown",
   "metadata": {},
   "source": [
    "### Сколько тратят интернет трафика"
   ]
  },
  {
   "cell_type": "code",
   "execution_count": null,
   "metadata": {},
   "outputs": [],
   "source": [
    "gb_per_month = (big_set\n",
    "                     .pivot_table(index=['month', 'tariff'],\n",
    "                                         values = 'gb_used',\n",
    "                                         aggfunc = sum)\n",
    "                    ).reset_index()\n",
    "\n",
    "gb_per_month"
   ]
  },
  {
   "cell_type": "code",
   "execution_count": null,
   "metadata": {},
   "outputs": [],
   "source": [
    "fig, axs = plt.subplots(1,2)\n",
    "\n",
    "(gb_per_month\n",
    " .query('tariff == \"smart\"')\n",
    " .plot(x='month' , y='gb_used', kind = 'bar', title='smart', ax=axs[0], figsize = (15, 5))\n",
    ")\n",
    "\n",
    "(gb_per_month\n",
    " .query('tariff == \"ultra\"')\n",
    " .plot(x='month' , y='gb_used', kind = 'bar', title='ultra', ax=axs[1], figsize = (15, 5))\n",
    ")"
   ]
  },
  {
   "cell_type": "markdown",
   "metadata": {},
   "source": [
    "Визуализируем гистограммы плотностей потраченных гигабайтов. Но для начала выделим использованный трафик по кадому тарифу в отдельные переменные:"
   ]
  },
  {
   "cell_type": "code",
   "execution_count": null,
   "metadata": {},
   "outputs": [],
   "source": [
    "smart_gb = big_set[big_set['tariff']=='smart']['gb_used']\n",
    "ultra_gb = big_set[big_set['tariff']=='ultra']['gb_used']"
   ]
  },
  {
   "cell_type": "code",
   "execution_count": null,
   "metadata": {},
   "outputs": [],
   "source": [
    "plt.figure(figsize=(14, 5))\n",
    " \n",
    "\n",
    "smart_gb.hist( bins = 50,  color='green', label = 'smart')\n",
    "ultra_gb.hist( bins = 50, color='red', alpha=0.6, label = 'ultra')\n",
    "\n",
    "\n",
    "plt.title('Распределение частоты по параметру gb_used')\n",
    "plt.xlabel('gb_used')\n",
    "plt.ylabel('Частота')\n",
    "plt.legend()"
   ]
  },
  {
   "cell_type": "code",
   "execution_count": null,
   "metadata": {},
   "outputs": [],
   "source": [
    "plt.figure(figsize=(14, 5))\n",
    "smart_gb.plot( kind='kde',   color='green', label = 'smart')\n",
    "ultra_gb.plot( kind='kde',  color='red', alpha=0.6, label = 'ultra')\n",
    "\n",
    "plt.title('Распределение частоты по параметру duration_of_calls')\n",
    "plt.xlabel('duration_of_calls')\n",
    "plt.ylabel('Плотность частоты')\n",
    "plt.legend()\n",
    "plt.grid()\n",
    "plt.xlim([-25,75])\n",
    "plt.show()"
   ]
  },
  {
   "cell_type": "markdown",
   "metadata": {},
   "source": [
    "На гистограмме плотностей распределения частоты количества интернет трафика видно, что по тарифу смарт гистограмма без скосов. Многие пользователи превышают количество включенного в тарифф интернет траффика (15 Гб). Так же, можно отметить, что на гистограмме есть пропуски, что может говорить нам  о том, что пользователи используют интернет раффик неравномерно.\n",
    "\n",
    "По тарифу ультра гистограмма распределена равномерно. Только небольшое количесвто значений превышают количество включенного в тариф интернет-трафика (30 Гб). \n",
    "\n",
    "Рассчитаем среднее, медианное, стандартное отклонение и дисперсию:"
   ]
  },
  {
   "cell_type": "code",
   "execution_count": null,
   "metadata": {
    "scrolled": true
   },
   "outputs": [],
   "source": [
    "(\n",
    "    big_set.pivot_table(\n",
    "        index = 'tariff',\n",
    "        values = 'gb_used',\n",
    "        aggfunc = ['mean', 'median', (np.var), (np.std)])\n",
    ")"
   ]
  },
  {
   "cell_type": "markdown",
   "metadata": {},
   "source": [
    "### Вывод"
   ]
  },
  {
   "cell_type": "markdown",
   "metadata": {},
   "source": [
    "Посмотрим, как влияют вышерасмотренные параматеры на выручки комании, для этого выведем на экран гистограмму плотностей распределения потрченных денег клиентами при использовании того или иного тарифа. "
   ]
  },
  {
   "cell_type": "code",
   "execution_count": null,
   "metadata": {},
   "outputs": [],
   "source": [
    "big_money_smart = big_set[big_set['tariff']=='smart']['total_bill']\n",
    "big_money_ultra = big_set[big_set['tariff']=='ultra']['total_bill']\n",
    "\n",
    "plt.figure(figsize=(14, 5))\n",
    " \n",
    "\n",
    "big_money_smart.hist( bins = 50,  color='green', label = 'smart')\n",
    "big_money_ultra.hist( bins = 50, color='red', alpha=0.6, label = 'ultra')\n",
    "\n",
    "\n",
    "plt.title('Распределение частоты по параметру total_bill')\n",
    "plt.xlabel('total_bill')\n",
    "plt.ylabel('Частота')\n",
    "plt.legend()"
   ]
  },
  {
   "cell_type": "code",
   "execution_count": null,
   "metadata": {},
   "outputs": [],
   "source": [
    "(\n",
    "    big_set.pivot_table(\n",
    "        index = 'tariff',\n",
    "        values = 'total_bill',\n",
    "        aggfunc = ['mean', 'median', (np.var), (np.std)]))"
   ]
  },
  {
   "cell_type": "code",
   "execution_count": null,
   "metadata": {},
   "outputs": [],
   "source": [
    "sns.boxplot(x = 'total_bill', y = 'tariff', data =  big_set, orient = \"h\", palette=\"Set3\")"
   ]
  },
  {
   "cell_type": "markdown",
   "metadata": {},
   "source": [
    "На гистограмме видно, что пользователи тарифа ультра чаще всего укладываются в сумму стандартного тарифа, а вот пользователи тарифа смарт куда реже укладываются в стандартный пакет предусмотренный тарифом и в связи с этим, они чаще переплачивают за дополнительные минуты, смс и интернет-трафик.\n",
    "\n",
    "На боксплоте видно, что медианная выручка от тарифа смарт меньше, чем у тарифа ультра. Не смотря на то, что в тарифе ультра включено больше минут, смс и трафика, тариф ультра приносит больше приыбли, чем тариф смарт."
   ]
  },
  {
   "cell_type": "code",
   "execution_count": null,
   "metadata": {},
   "outputs": [],
   "source": [
    "plt.figure(figsize=(12,8))\n",
    "sns.violinplot(x='city', y='gb_used', hue='tariff', \n",
    "               data=big_set[big_set['city'].isin(users['city'].value_counts().head(3).index)],\n",
    "              split=True,\n",
    "              inner='quartile')\n",
    "plt.grid()"
   ]
  },
  {
   "cell_type": "markdown",
   "metadata": {},
   "source": [
    "## Проверка гипотиз"
   ]
  },
  {
   "cell_type": "markdown",
   "metadata": {},
   "source": [
    "Проверим гипотезы:\n",
    "1) Средняя выручка пользователей тарифов «Ультра» и «Смарт» различаются;\n",
    " \n",
    "2) Средняя выручка пользователей из Москвы отличается от выручки пользователей из других регионов"
   ]
  },
  {
   "cell_type": "markdown",
   "metadata": {},
   "source": [
    "### Средняя выручка пользователей тарифов «Ультра» и «Смарт» различаются"
   ]
  },
  {
   "cell_type": "markdown",
   "metadata": {},
   "source": [
    "Так как мы проверяем гипотезу о равенстве средних двух генеральных совокупностей, то будем использовать метод scipy.stats.ttest_ind().\n",
    "\n",
    "*Нулевая гипотеза H0*: Средняя выручка пользователей тарифов «Ультра» и «Смарт» одинаковые\n",
    "\n",
    "*Альтернативная гипотеза H1*: Средняя выручка пользователей тарифов «Ультра» и «Смарт» различаются.\n",
    "\n",
    "Критический уровень статистической значимости  alpha  принмаем равным 0,05 или 5%\n",
    "\n",
    "Для проверкигипотезы выделим два отдельных датасета."
   ]
  },
  {
   "cell_type": "code",
   "execution_count": null,
   "metadata": {},
   "outputs": [],
   "source": [
    "smart_tariff = big_set.query('tariff == \"smart\"')['total_bill'] #выделим отдельный датасет выручки по тарифу smart\n",
    "\n",
    "ultra_tariff = big_set.query('tariff == \"ultra\"')['total_bill'] #выделим отдельный датасет выручки по тарифу ultra"
   ]
  },
  {
   "cell_type": "code",
   "execution_count": null,
   "metadata": {},
   "outputs": [],
   "source": [
    "smart_tariff_var = np.var(smart_tariff)\n",
    "ultra_tariff_var = np.var(ultra_tariff)\n",
    "display(f'Дисперсия выборки total_bill по тарифу smart {smart_tariff_var}')\n",
    "display(f'Дисперсия выборки total_bill по тарифу ultra {ultra_tariff_var}')\n",
    "display(f'Отношение дисперсий  {smart_tariff_var/ultra_tariff_var}')"
   ]
  },
  {
   "cell_type": "markdown",
   "metadata": {},
   "source": [
    "Дисперсии не равны и отличаются в 4 раза. Поэтому в тесте будеи применять параметр equal_var = False, котрый задается, если дисперсии выборок не равны."
   ]
  },
  {
   "cell_type": "code",
   "execution_count": null,
   "metadata": {},
   "outputs": [],
   "source": [
    "alpha = 0.05\n",
    "\n",
    "results = st.ttest_ind(\n",
    "    ultra_tariff, \n",
    "    smart_tariff,\n",
    "    equal_var = False\n",
    ")\n",
    "    \n",
    "print('p-значение:', results.pvalue)\n",
    "\n",
    "if results.pvalue < alpha:\n",
    "    display(\"Отвергаем нулевую гипотезу\")\n",
    "else:\n",
    "    display(\"Не получилось отвергнуть нулевую гипотезу\")"
   ]
  },
  {
   "cell_type": "markdown",
   "metadata": {},
   "source": [
    "Значение p-value очень мало. В связи  с этим отвергаем нулевую гипотезу. Можем говорить, что средняя выручка пользователей тарифов «Ультра» и «Смарт» различаются и давольно сильно."
   ]
  },
  {
   "cell_type": "markdown",
   "metadata": {},
   "source": [
    "### Средняя выручка пользователей из Москвы отличается от выручки пользователей из других регионов"
   ]
  },
  {
   "cell_type": "markdown",
   "metadata": {},
   "source": [
    "Здесь так же проверяем гипотезу о равенстве средних двух генеральных совокупностей, поэтому будем использовать метод scipy.stats.ttest_ind().\n",
    "\n",
    "\n",
    "*Нулевая гипотеза H0*: Средняя выручка пользователей из Москвы и регионов одинаковая.\n",
    "\n",
    "*Альтернативная гипотеза H1*:  Средняя выручка пользователей из Москвы и регионов отличается.\n",
    "\n",
    "Критический уровень статистической значимости  alpha  принмаем равным 0,05 или 5%\n",
    "\n",
    "\n",
    "Для начала выделим два датасета:\n",
    "\n",
    "1) Датасет содердит выручку пользоователей из Московского региона\n",
    "\n",
    "2) Датасет содержит выручку со всех решиново, кроме Московского."
   ]
  },
  {
   "cell_type": "code",
   "execution_count": null,
   "metadata": {},
   "outputs": [],
   "source": [
    "moscow_region = big_set.query('city == \"Москва\"')['total_bill'] #выделим отдельный датасет выручки по Московскому региону\n",
    "\n",
    "other_region = big_set.query('city != \"Москва\"')['total_bill'] #выделим отдельный датасет выручки по остальным регионам"
   ]
  },
  {
   "cell_type": "code",
   "execution_count": null,
   "metadata": {},
   "outputs": [],
   "source": [
    "moscow_region_var = np.var(moscow_region)\n",
    "other_region_var = np.var(other_region)\n",
    "display(f'Дисперсия выборки total_bill по тарифу smart {moscow_region_var}')\n",
    "display(f'Дисперсия выборки total_bill по тарифу ultra {other_region_var}')\n",
    "display(f'Отношение дисперсий  {moscow_region_var/other_region_var}')"
   ]
  },
  {
   "cell_type": "code",
   "execution_count": null,
   "metadata": {},
   "outputs": [],
   "source": [
    "alpha = 0.05\n",
    "\n",
    "results = st.ttest_ind(\n",
    "    moscow_region, \n",
    "    other_region,\n",
    "    equal_var = False)\n",
    "    \n",
    "print('p-значение:', results.pvalue)\n",
    "\n",
    "if results.pvalue < alpha:\n",
    "    display(\"Отвергаем нулевую гипотезу\")\n",
    "else:\n",
    "    display(\"Не получилось отвергнуть нулевую гипотезу\")"
   ]
  },
  {
   "cell_type": "markdown",
   "metadata": {},
   "source": [
    "Полученное значение p-value показывает нам, что с вероятностью 53% средння выручка Москокого региона и остальных регионов равно, что значительно больше заданного значения в 5%. В связи с этим отвергать нулевую гипотезу мы не можем."
   ]
  },
  {
   "cell_type": "markdown",
   "metadata": {},
   "source": [
    "### Вывод"
   ]
  },
  {
   "cell_type": "markdown",
   "metadata": {},
   "source": [
    "Ппосле проверки гипотез можно сказать:\n",
    "\n",
    "1) Среднии выручки тарифов разлияаются и давольно сильно\n",
    "\n",
    "2) Средния выручка Московского региона и других регионов равно."
   ]
  },
  {
   "cell_type": "markdown",
   "metadata": {},
   "source": [
    "## Общий вывод"
   ]
  },
  {
   "cell_type": "markdown",
   "metadata": {},
   "source": [
    "Тариф ультра приносит болльше прибыли для компании, не смотря на то, что пользователи не покупают дополнительные минуты, сообщения и интернет-трафик в отличии от тарифа смарт. Так какв тарифе ультра клиентов меньше, то рекламные кампании выгоднее акцентировать на тарифе ультра. \n",
    "\n",
    "Медианная выручка по тарифу ультра больше практически на 1000 рублей, чем по тарифу смарт.\n",
    "\n",
    "Так же, в исследоваии были проверены несколько гипотез. По кторым можно сделать вывод, что среднии выручки по тарифам сильно разнятся и выручка Московского региона и других регионов равно. "
   ]
  }
 ],
 "metadata": {
  "ExecuteTimeLog": [
   {
    "duration": 130,
    "start_time": "2022-02-21T11:15:03.382Z"
   },
   {
    "duration": 1262,
    "start_time": "2022-02-21T11:15:05.677Z"
   },
   {
    "duration": 220,
    "start_time": "2022-02-21T11:15:18.946Z"
   },
   {
    "duration": 586,
    "start_time": "2022-02-21T11:20:08.619Z"
   },
   {
    "duration": 13,
    "start_time": "2022-02-21T11:20:31.796Z"
   },
   {
    "duration": 12,
    "start_time": "2022-02-21T11:20:54.002Z"
   },
   {
    "duration": 4,
    "start_time": "2022-02-21T11:31:27.721Z"
   },
   {
    "duration": 5,
    "start_time": "2022-02-21T11:31:58.100Z"
   },
   {
    "duration": 771,
    "start_time": "2022-02-21T11:32:14.302Z"
   },
   {
    "duration": 69,
    "start_time": "2022-02-21T11:32:28.307Z"
   },
   {
    "duration": 45,
    "start_time": "2022-02-21T11:32:42.103Z"
   },
   {
    "duration": 79,
    "start_time": "2022-02-21T11:33:52.606Z"
   },
   {
    "duration": 46,
    "start_time": "2022-02-21T11:34:06.945Z"
   },
   {
    "duration": 91,
    "start_time": "2022-02-21T11:35:58.888Z"
   },
   {
    "duration": 105,
    "start_time": "2022-02-21T11:43:10.637Z"
   },
   {
    "duration": 88,
    "start_time": "2022-02-21T11:43:21.285Z"
   },
   {
    "duration": 109,
    "start_time": "2022-02-21T11:45:59.077Z"
   },
   {
    "duration": 368,
    "start_time": "2022-02-21T11:48:02.099Z"
   },
   {
    "duration": 99,
    "start_time": "2022-02-21T11:49:10.357Z"
   },
   {
    "duration": 181,
    "start_time": "2022-02-22T09:12:03.152Z"
   },
   {
    "duration": 166,
    "start_time": "2022-02-22T09:12:25.263Z"
   },
   {
    "duration": 152,
    "start_time": "2022-02-22T09:12:37.030Z"
   },
   {
    "duration": 152,
    "start_time": "2022-02-22T09:12:40.127Z"
   },
   {
    "duration": 138,
    "start_time": "2022-02-22T09:12:42.850Z"
   },
   {
    "duration": 181,
    "start_time": "2022-02-22T09:12:45.150Z"
   },
   {
    "duration": 144,
    "start_time": "2022-02-22T09:12:47.080Z"
   },
   {
    "duration": 888,
    "start_time": "2022-02-22T09:12:51.196Z"
   },
   {
    "duration": 364,
    "start_time": "2022-02-22T09:12:52.086Z"
   },
   {
    "duration": 35,
    "start_time": "2022-02-22T09:12:52.452Z"
   },
   {
    "duration": 66,
    "start_time": "2022-02-22T09:12:52.489Z"
   },
   {
    "duration": 48,
    "start_time": "2022-02-22T09:12:52.556Z"
   },
   {
    "duration": 209,
    "start_time": "2022-02-22T09:12:52.631Z"
   },
   {
    "duration": 10,
    "start_time": "2022-02-22T09:12:52.842Z"
   },
   {
    "duration": 6,
    "start_time": "2022-02-22T09:41:38.184Z"
   },
   {
    "duration": 212,
    "start_time": "2022-02-22T09:41:52.071Z"
   },
   {
    "duration": 5,
    "start_time": "2022-02-22T09:42:01.771Z"
   },
   {
    "duration": 6,
    "start_time": "2022-02-22T09:42:09.324Z"
   },
   {
    "duration": 6,
    "start_time": "2022-02-22T09:42:13.771Z"
   },
   {
    "duration": 184,
    "start_time": "2022-02-22T09:42:35.889Z"
   },
   {
    "duration": 165,
    "start_time": "2022-02-22T09:42:41.989Z"
   },
   {
    "duration": 164,
    "start_time": "2022-02-22T09:50:27.138Z"
   },
   {
    "duration": 8,
    "start_time": "2022-02-22T09:51:17.423Z"
   },
   {
    "duration": 145,
    "start_time": "2022-02-22T09:51:36.870Z"
   },
   {
    "duration": 6,
    "start_time": "2022-02-22T09:51:40.715Z"
   },
   {
    "duration": 5,
    "start_time": "2022-02-22T10:06:22.011Z"
   },
   {
    "duration": 162,
    "start_time": "2022-02-22T10:06:28.272Z"
   },
   {
    "duration": 138,
    "start_time": "2022-02-22T10:06:46.475Z"
   },
   {
    "duration": 4,
    "start_time": "2022-02-22T10:06:55.794Z"
   },
   {
    "duration": 8,
    "start_time": "2022-02-22T10:06:59.269Z"
   },
   {
    "duration": 7,
    "start_time": "2022-02-22T10:08:41.952Z"
   },
   {
    "duration": 6,
    "start_time": "2022-02-22T10:09:08.678Z"
   },
   {
    "duration": 4,
    "start_time": "2022-02-22T10:09:23.828Z"
   },
   {
    "duration": 6,
    "start_time": "2022-02-22T10:09:36.185Z"
   },
   {
    "duration": 314,
    "start_time": "2022-02-22T10:09:44.110Z"
   },
   {
    "duration": 135,
    "start_time": "2022-02-22T10:10:10.296Z"
   },
   {
    "duration": 300,
    "start_time": "2022-02-22T10:10:18.080Z"
   },
   {
    "duration": 368,
    "start_time": "2022-02-22T10:10:27.736Z"
   },
   {
    "duration": 7,
    "start_time": "2022-02-22T10:10:37.078Z"
   },
   {
    "duration": 154,
    "start_time": "2022-02-22T10:10:46.659Z"
   },
   {
    "duration": 168,
    "start_time": "2022-02-22T10:11:08.646Z"
   },
   {
    "duration": 6,
    "start_time": "2022-02-22T10:11:17.363Z"
   },
   {
    "duration": 6,
    "start_time": "2022-02-22T10:24:22.556Z"
   },
   {
    "duration": 138,
    "start_time": "2022-02-22T10:24:33.375Z"
   },
   {
    "duration": 209,
    "start_time": "2022-02-22T10:24:37.273Z"
   },
   {
    "duration": 8,
    "start_time": "2022-02-22T10:24:43.722Z"
   },
   {
    "duration": 7,
    "start_time": "2022-02-22T10:25:00.260Z"
   },
   {
    "duration": 43,
    "start_time": "2022-02-22T10:27:54.721Z"
   },
   {
    "duration": 187,
    "start_time": "2022-02-22T10:28:55.654Z"
   },
   {
    "duration": 882,
    "start_time": "2022-02-22T10:29:01.013Z"
   },
   {
    "duration": 353,
    "start_time": "2022-02-22T10:29:01.897Z"
   },
   {
    "duration": 31,
    "start_time": "2022-02-22T10:29:02.254Z"
   },
   {
    "duration": 63,
    "start_time": "2022-02-22T10:29:02.287Z"
   },
   {
    "duration": 44,
    "start_time": "2022-02-22T10:29:02.352Z"
   },
   {
    "duration": 237,
    "start_time": "2022-02-22T10:29:02.398Z"
   },
   {
    "duration": 187,
    "start_time": "2022-02-22T10:29:26.308Z"
   },
   {
    "duration": 875,
    "start_time": "2022-02-22T10:29:30.556Z"
   },
   {
    "duration": 347,
    "start_time": "2022-02-22T10:29:31.434Z"
   },
   {
    "duration": 33,
    "start_time": "2022-02-22T10:29:31.783Z"
   },
   {
    "duration": 54,
    "start_time": "2022-02-22T10:29:31.818Z"
   },
   {
    "duration": 78,
    "start_time": "2022-02-22T10:29:31.873Z"
   },
   {
    "duration": 215,
    "start_time": "2022-02-22T10:29:31.952Z"
   },
   {
    "duration": 881,
    "start_time": "2022-02-22T10:30:58.944Z"
   },
   {
    "duration": 376,
    "start_time": "2022-02-22T10:30:59.827Z"
   },
   {
    "duration": 33,
    "start_time": "2022-02-22T10:31:00.205Z"
   },
   {
    "duration": 57,
    "start_time": "2022-02-22T10:31:00.240Z"
   },
   {
    "duration": 71,
    "start_time": "2022-02-22T10:31:00.298Z"
   },
   {
    "duration": 223,
    "start_time": "2022-02-22T10:31:00.370Z"
   },
   {
    "duration": 296,
    "start_time": "2022-02-22T10:31:00.594Z"
   },
   {
    "duration": 221,
    "start_time": "2022-02-22T10:31:08.873Z"
   },
   {
    "duration": 161,
    "start_time": "2022-02-22T10:31:50.445Z"
   },
   {
    "duration": 19,
    "start_time": "2022-02-22T10:33:57.280Z"
   },
   {
    "duration": 154,
    "start_time": "2022-02-22T10:34:04.788Z"
   },
   {
    "duration": 169,
    "start_time": "2022-02-22T10:35:04.855Z"
   },
   {
    "duration": 152,
    "start_time": "2022-02-22T10:35:13.397Z"
   },
   {
    "duration": 173,
    "start_time": "2022-02-22T10:42:26.482Z"
   },
   {
    "duration": 991,
    "start_time": "2022-02-22T10:42:30.571Z"
   },
   {
    "duration": 350,
    "start_time": "2022-02-22T10:42:31.564Z"
   },
   {
    "duration": 33,
    "start_time": "2022-02-22T10:42:31.916Z"
   },
   {
    "duration": 84,
    "start_time": "2022-02-22T10:42:31.950Z"
   },
   {
    "duration": 44,
    "start_time": "2022-02-22T10:42:32.036Z"
   },
   {
    "duration": 212,
    "start_time": "2022-02-22T10:42:32.082Z"
   },
   {
    "duration": 214,
    "start_time": "2022-02-22T10:42:32.296Z"
   },
   {
    "duration": 153,
    "start_time": "2022-02-22T10:42:32.359Z"
   },
   {
    "duration": 42,
    "start_time": "2022-02-22T10:43:16.339Z"
   },
   {
    "duration": 15,
    "start_time": "2022-02-22T10:43:22.676Z"
   },
   {
    "duration": 15,
    "start_time": "2022-02-22T10:43:33.083Z"
   },
   {
    "duration": 90,
    "start_time": "2022-02-22T11:02:12.041Z"
   },
   {
    "duration": 43,
    "start_time": "2022-02-22T11:02:19.405Z"
   },
   {
    "duration": 24,
    "start_time": "2022-02-22T11:02:55.663Z"
   },
   {
    "duration": 11,
    "start_time": "2022-02-22T11:05:27.420Z"
   },
   {
    "duration": 7,
    "start_time": "2022-02-22T11:05:56.302Z"
   },
   {
    "duration": 6,
    "start_time": "2022-02-22T11:06:25.264Z"
   },
   {
    "duration": 168,
    "start_time": "2022-02-22T11:08:02.184Z"
   },
   {
    "duration": 955,
    "start_time": "2022-02-22T11:08:06.773Z"
   },
   {
    "duration": 633,
    "start_time": "2022-02-22T11:08:07.730Z"
   },
   {
    "duration": 81,
    "start_time": "2022-02-22T11:08:08.366Z"
   },
   {
    "duration": 107,
    "start_time": "2022-02-22T11:08:08.448Z"
   },
   {
    "duration": 45,
    "start_time": "2022-02-22T11:08:08.556Z"
   },
   {
    "duration": 259,
    "start_time": "2022-02-22T11:08:08.602Z"
   },
   {
    "duration": 14,
    "start_time": "2022-02-22T11:08:08.862Z"
   },
   {
    "duration": 21,
    "start_time": "2022-02-22T11:08:08.878Z"
   },
   {
    "duration": 211,
    "start_time": "2022-02-22T11:08:08.902Z"
   },
   {
    "duration": 163,
    "start_time": "2022-02-22T11:08:08.952Z"
   },
   {
    "duration": 290,
    "start_time": "2022-02-22T11:08:39.788Z"
   },
   {
    "duration": 167,
    "start_time": "2022-02-22T11:10:41.034Z"
   },
   {
    "duration": 172,
    "start_time": "2022-02-22T11:12:42.449Z"
   },
   {
    "duration": 129,
    "start_time": "2022-02-22T11:12:51.875Z"
   },
   {
    "duration": 133,
    "start_time": "2022-02-22T11:13:11.033Z"
   },
   {
    "duration": 4,
    "start_time": "2022-02-22T11:13:22.663Z"
   },
   {
    "duration": 7,
    "start_time": "2022-02-22T11:13:33.278Z"
   },
   {
    "duration": 5,
    "start_time": "2022-02-22T11:14:49.440Z"
   },
   {
    "duration": 6,
    "start_time": "2022-02-22T11:14:56.987Z"
   },
   {
    "duration": 155,
    "start_time": "2022-02-22T11:19:25.737Z"
   },
   {
    "duration": 7,
    "start_time": "2022-02-22T11:20:55.898Z"
   },
   {
    "duration": 5,
    "start_time": "2022-02-22T11:21:16.748Z"
   },
   {
    "duration": 13,
    "start_time": "2022-02-22T11:32:31.684Z"
   },
   {
    "duration": 179,
    "start_time": "2022-02-22T11:43:30.365Z"
   },
   {
    "duration": 306,
    "start_time": "2022-02-22T11:45:32.070Z"
   },
   {
    "duration": 1346,
    "start_time": "2022-02-22T11:45:37.742Z"
   },
   {
    "duration": 520,
    "start_time": "2022-02-22T11:45:39.133Z"
   },
   {
    "duration": 39,
    "start_time": "2022-02-22T11:45:39.656Z"
   },
   {
    "duration": 78,
    "start_time": "2022-02-22T11:45:39.697Z"
   },
   {
    "duration": 81,
    "start_time": "2022-02-22T11:45:39.778Z"
   },
   {
    "duration": 239,
    "start_time": "2022-02-22T11:45:39.861Z"
   },
   {
    "duration": 30,
    "start_time": "2022-02-22T11:45:40.102Z"
   },
   {
    "duration": 11,
    "start_time": "2022-02-22T11:45:40.134Z"
   },
   {
    "duration": 247,
    "start_time": "2022-02-22T11:45:40.147Z"
   },
   {
    "duration": 163,
    "start_time": "2022-02-22T11:46:58.349Z"
   },
   {
    "duration": 230,
    "start_time": "2022-02-22T11:48:02.842Z"
   },
   {
    "duration": 1019,
    "start_time": "2022-02-22T11:48:07.043Z"
   },
   {
    "duration": 373,
    "start_time": "2022-02-22T11:48:08.064Z"
   },
   {
    "duration": 36,
    "start_time": "2022-02-22T11:48:08.440Z"
   },
   {
    "duration": 81,
    "start_time": "2022-02-22T11:48:08.478Z"
   },
   {
    "duration": 84,
    "start_time": "2022-02-22T11:48:08.561Z"
   },
   {
    "duration": 260,
    "start_time": "2022-02-22T11:48:08.646Z"
   },
   {
    "duration": 23,
    "start_time": "2022-02-22T11:48:08.908Z"
   },
   {
    "duration": 4,
    "start_time": "2022-02-22T11:48:08.934Z"
   },
   {
    "duration": 229,
    "start_time": "2022-02-22T11:48:08.940Z"
   },
   {
    "duration": 243,
    "start_time": "2022-02-22T12:17:42.540Z"
   },
   {
    "duration": 143,
    "start_time": "2022-02-22T12:17:53.986Z"
   },
   {
    "duration": 139,
    "start_time": "2022-02-22T12:18:01.306Z"
   },
   {
    "duration": 199,
    "start_time": "2022-02-22T12:18:20.950Z"
   },
   {
    "duration": 234,
    "start_time": "2022-02-22T12:19:01.281Z"
   },
   {
    "duration": 7,
    "start_time": "2022-02-22T12:19:30.864Z"
   },
   {
    "duration": 222,
    "start_time": "2022-02-22T12:19:33.729Z"
   },
   {
    "duration": 2,
    "start_time": "2022-02-22T13:24:31.270Z"
   },
   {
    "duration": 3,
    "start_time": "2022-02-22T13:25:03.895Z"
   },
   {
    "duration": 3,
    "start_time": "2022-02-22T13:33:21.797Z"
   },
   {
    "duration": 486,
    "start_time": "2022-02-23T11:44:46.811Z"
   },
   {
    "duration": 1231,
    "start_time": "2022-02-23T11:44:51.969Z"
   },
   {
    "duration": 975,
    "start_time": "2022-02-23T11:44:53.202Z"
   },
   {
    "duration": 147,
    "start_time": "2022-02-23T11:44:54.180Z"
   },
   {
    "duration": 118,
    "start_time": "2022-02-23T11:44:54.330Z"
   },
   {
    "duration": 100,
    "start_time": "2022-02-23T11:44:54.450Z"
   },
   {
    "duration": 305,
    "start_time": "2022-02-23T11:44:54.552Z"
   },
   {
    "duration": 10,
    "start_time": "2022-02-23T11:44:54.860Z"
   },
   {
    "duration": 9,
    "start_time": "2022-02-23T11:44:54.875Z"
   },
   {
    "duration": 12,
    "start_time": "2022-02-23T11:44:54.910Z"
   },
   {
    "duration": 573,
    "start_time": "2022-02-23T11:44:54.925Z"
   },
   {
    "duration": 86,
    "start_time": "2022-02-23T11:49:47.633Z"
   },
   {
    "duration": 27,
    "start_time": "2022-02-23T11:50:06.969Z"
   },
   {
    "duration": 400,
    "start_time": "2022-02-23T12:00:43.997Z"
   },
   {
    "duration": 379,
    "start_time": "2022-02-23T12:01:09.435Z"
   },
   {
    "duration": 513,
    "start_time": "2022-02-23T12:04:58.470Z"
   },
   {
    "duration": 87,
    "start_time": "2022-02-23T12:05:11.947Z"
   },
   {
    "duration": 398,
    "start_time": "2022-02-23T12:06:30.843Z"
   },
   {
    "duration": 85,
    "start_time": "2022-02-23T12:07:00.859Z"
   },
   {
    "duration": 1311,
    "start_time": "2022-02-23T12:07:56.759Z"
   },
   {
    "duration": 989,
    "start_time": "2022-02-23T12:07:58.073Z"
   },
   {
    "duration": 104,
    "start_time": "2022-02-23T12:07:59.066Z"
   },
   {
    "duration": 133,
    "start_time": "2022-02-23T12:07:59.212Z"
   },
   {
    "duration": 106,
    "start_time": "2022-02-23T12:07:59.348Z"
   },
   {
    "duration": 375,
    "start_time": "2022-02-23T12:07:59.457Z"
   },
   {
    "duration": 9,
    "start_time": "2022-02-23T12:07:59.834Z"
   },
   {
    "duration": 7,
    "start_time": "2022-02-23T12:07:59.847Z"
   },
   {
    "duration": 112,
    "start_time": "2022-02-23T12:07:59.857Z"
   },
   {
    "duration": 6,
    "start_time": "2022-02-23T12:07:59.972Z"
   },
   {
    "duration": 609,
    "start_time": "2022-02-23T12:07:59.981Z"
   },
   {
    "duration": 28,
    "start_time": "2022-02-23T12:08:12.546Z"
   },
   {
    "duration": 84,
    "start_time": "2022-02-23T12:13:13.249Z"
   },
   {
    "duration": 29,
    "start_time": "2022-02-23T12:13:40.862Z"
   },
   {
    "duration": 81,
    "start_time": "2022-02-23T12:14:09.400Z"
   },
   {
    "duration": 27,
    "start_time": "2022-02-23T12:14:10.125Z"
   },
   {
    "duration": 23,
    "start_time": "2022-02-23T12:14:43.176Z"
   },
   {
    "duration": 1336,
    "start_time": "2022-02-23T12:14:51.303Z"
   },
   {
    "duration": 943,
    "start_time": "2022-02-23T12:14:52.642Z"
   },
   {
    "duration": 61,
    "start_time": "2022-02-23T12:14:53.588Z"
   },
   {
    "duration": 200,
    "start_time": "2022-02-23T12:14:53.652Z"
   },
   {
    "duration": 192,
    "start_time": "2022-02-23T12:14:53.854Z"
   },
   {
    "duration": 569,
    "start_time": "2022-02-23T12:14:54.049Z"
   },
   {
    "duration": 11,
    "start_time": "2022-02-23T12:14:54.621Z"
   },
   {
    "duration": 4,
    "start_time": "2022-02-23T12:14:54.635Z"
   },
   {
    "duration": 117,
    "start_time": "2022-02-23T12:14:54.642Z"
   },
   {
    "duration": 22,
    "start_time": "2022-02-23T12:14:54.761Z"
   },
   {
    "duration": 26,
    "start_time": "2022-02-23T12:14:54.785Z"
   },
   {
    "duration": 457,
    "start_time": "2022-02-23T12:14:54.814Z"
   },
   {
    "duration": 101,
    "start_time": "2022-02-23T12:16:25.603Z"
   },
   {
    "duration": 17,
    "start_time": "2022-02-23T12:16:35.051Z"
   },
   {
    "duration": 348,
    "start_time": "2022-02-23T12:23:13.402Z"
   },
   {
    "duration": 422,
    "start_time": "2022-02-23T12:23:26.112Z"
   },
   {
    "duration": 21,
    "start_time": "2022-02-23T12:25:01.768Z"
   },
   {
    "duration": 935,
    "start_time": "2022-02-23T12:25:23.738Z"
   },
   {
    "duration": 26,
    "start_time": "2022-02-23T12:25:32.591Z"
   },
   {
    "duration": 12,
    "start_time": "2022-02-23T12:35:32.349Z"
   },
   {
    "duration": 22,
    "start_time": "2022-02-23T12:41:58.666Z"
   },
   {
    "duration": 8,
    "start_time": "2022-02-23T12:42:17.620Z"
   },
   {
    "duration": 393,
    "start_time": "2022-02-23T12:42:27.834Z"
   },
   {
    "duration": 8,
    "start_time": "2022-02-23T12:42:53.425Z"
   },
   {
    "duration": 324,
    "start_time": "2022-02-23T12:43:05.436Z"
   },
   {
    "duration": 5,
    "start_time": "2022-02-23T12:43:10.471Z"
   },
   {
    "duration": 7,
    "start_time": "2022-02-23T12:47:24.874Z"
   },
   {
    "duration": 322,
    "start_time": "2022-02-23T12:48:21.568Z"
   },
   {
    "duration": 12,
    "start_time": "2022-02-23T12:48:33.855Z"
   },
   {
    "duration": 333,
    "start_time": "2022-02-23T12:48:43.288Z"
   },
   {
    "duration": 379,
    "start_time": "2022-02-23T12:51:46.275Z"
   },
   {
    "duration": 24,
    "start_time": "2022-02-23T12:52:05.830Z"
   },
   {
    "duration": 318,
    "start_time": "2022-02-23T12:53:17.270Z"
   },
   {
    "duration": 575,
    "start_time": "2022-02-23T12:53:23.988Z"
   },
   {
    "duration": 13,
    "start_time": "2022-02-23T12:53:34.343Z"
   },
   {
    "duration": 393,
    "start_time": "2022-02-23T12:53:54.108Z"
   },
   {
    "duration": 12,
    "start_time": "2022-02-23T12:54:00.336Z"
   },
   {
    "duration": 65,
    "start_time": "2022-02-23T12:55:01.452Z"
   },
   {
    "duration": 50,
    "start_time": "2022-02-23T12:55:26.159Z"
   },
   {
    "duration": 49,
    "start_time": "2022-02-23T12:55:36.098Z"
   },
   {
    "duration": 91,
    "start_time": "2022-02-23T12:56:17.126Z"
   },
   {
    "duration": 122,
    "start_time": "2022-02-23T12:56:38.207Z"
   },
   {
    "duration": 110,
    "start_time": "2022-02-23T12:56:48.801Z"
   },
   {
    "duration": 79,
    "start_time": "2022-02-23T12:58:13.578Z"
   },
   {
    "duration": 82,
    "start_time": "2022-02-23T12:58:18.333Z"
   },
   {
    "duration": 65,
    "start_time": "2022-02-23T12:58:40.295Z"
   },
   {
    "duration": 85,
    "start_time": "2022-02-23T12:58:51.535Z"
   },
   {
    "duration": 120,
    "start_time": "2022-02-23T12:59:01.109Z"
   },
   {
    "duration": 85,
    "start_time": "2022-02-23T12:59:20.837Z"
   },
   {
    "duration": 87,
    "start_time": "2022-02-23T12:59:36.645Z"
   },
   {
    "duration": 107,
    "start_time": "2022-02-23T12:59:47.115Z"
   },
   {
    "duration": 69,
    "start_time": "2022-02-23T13:00:26.164Z"
   },
   {
    "duration": 13,
    "start_time": "2022-02-23T13:07:11.574Z"
   },
   {
    "duration": 29,
    "start_time": "2022-02-23T13:07:48.972Z"
   },
   {
    "duration": 37,
    "start_time": "2022-02-23T13:08:00.088Z"
   },
   {
    "duration": 107,
    "start_time": "2022-02-23T13:50:07.496Z"
   },
   {
    "duration": 84,
    "start_time": "2022-02-23T13:50:16.954Z"
   },
   {
    "duration": 23,
    "start_time": "2022-02-23T14:02:04.116Z"
   },
   {
    "duration": 18,
    "start_time": "2022-02-23T14:02:34.974Z"
   },
   {
    "duration": 77,
    "start_time": "2022-02-23T14:03:07.812Z"
   },
   {
    "duration": 118,
    "start_time": "2022-02-23T14:03:55.627Z"
   },
   {
    "duration": 84,
    "start_time": "2022-02-23T14:03:59.973Z"
   },
   {
    "duration": 86,
    "start_time": "2022-02-23T14:04:07.264Z"
   },
   {
    "duration": 72,
    "start_time": "2022-02-23T14:04:27.626Z"
   },
   {
    "duration": 124,
    "start_time": "2022-02-23T14:06:07.258Z"
   },
   {
    "duration": 138,
    "start_time": "2022-02-23T14:16:33.901Z"
   },
   {
    "duration": 124,
    "start_time": "2022-02-23T14:16:52.462Z"
   },
   {
    "duration": 16,
    "start_time": "2022-02-23T14:53:41.569Z"
   },
   {
    "duration": 91,
    "start_time": "2022-02-23T14:55:31.029Z"
   },
   {
    "duration": 62,
    "start_time": "2022-02-23T14:55:49.125Z"
   },
   {
    "duration": 12,
    "start_time": "2022-02-23T15:00:59.599Z"
   },
   {
    "duration": 62,
    "start_time": "2022-02-23T15:04:02.628Z"
   },
   {
    "duration": 331,
    "start_time": "2022-02-23T15:04:43.728Z"
   },
   {
    "duration": 360,
    "start_time": "2022-02-23T15:04:47.567Z"
   },
   {
    "duration": 18,
    "start_time": "2022-02-23T15:05:08.542Z"
   },
   {
    "duration": 123,
    "start_time": "2022-02-23T15:12:42.364Z"
   },
   {
    "duration": 410,
    "start_time": "2022-02-23T15:12:51.274Z"
   },
   {
    "duration": 352,
    "start_time": "2022-02-23T15:13:08.550Z"
   },
   {
    "duration": 65,
    "start_time": "2022-02-23T15:13:16.356Z"
   },
   {
    "duration": 369,
    "start_time": "2022-02-23T15:26:53.670Z"
   },
   {
    "duration": 117,
    "start_time": "2022-02-23T15:27:08.878Z"
   },
   {
    "duration": 52,
    "start_time": "2022-02-23T15:27:24.596Z"
   },
   {
    "duration": 140,
    "start_time": "2022-02-23T15:27:36.717Z"
   },
   {
    "duration": 56,
    "start_time": "2022-02-23T15:27:54.873Z"
   },
   {
    "duration": 61,
    "start_time": "2022-02-23T15:28:07.914Z"
   },
   {
    "duration": 69,
    "start_time": "2022-02-23T15:28:28.143Z"
   },
   {
    "duration": 59,
    "start_time": "2022-02-23T15:28:32.552Z"
   },
   {
    "duration": 100,
    "start_time": "2022-02-23T15:28:43.230Z"
   },
   {
    "duration": 61,
    "start_time": "2022-02-23T15:28:52.578Z"
   },
   {
    "duration": 4,
    "start_time": "2022-02-23T15:29:34.976Z"
   },
   {
    "duration": 126,
    "start_time": "2022-02-23T15:29:38.493Z"
   },
   {
    "duration": 356,
    "start_time": "2022-02-23T15:30:43.004Z"
   },
   {
    "duration": 335,
    "start_time": "2022-02-23T15:31:55.362Z"
   },
   {
    "duration": 380,
    "start_time": "2022-02-23T15:32:19.122Z"
   },
   {
    "duration": 1244,
    "start_time": "2022-02-23T15:32:39.586Z"
   },
   {
    "duration": 560,
    "start_time": "2022-02-23T15:32:40.833Z"
   },
   {
    "duration": 58,
    "start_time": "2022-02-23T15:32:41.396Z"
   },
   {
    "duration": 171,
    "start_time": "2022-02-23T15:32:41.459Z"
   },
   {
    "duration": 120,
    "start_time": "2022-02-23T15:32:41.633Z"
   },
   {
    "duration": 358,
    "start_time": "2022-02-23T15:32:41.755Z"
   },
   {
    "duration": 10,
    "start_time": "2022-02-23T15:32:42.116Z"
   },
   {
    "duration": 111,
    "start_time": "2022-02-23T15:32:42.130Z"
   },
   {
    "duration": 5,
    "start_time": "2022-02-23T15:32:42.243Z"
   },
   {
    "duration": 5,
    "start_time": "2022-02-23T15:32:42.251Z"
   },
   {
    "duration": 141,
    "start_time": "2022-02-23T15:32:42.258Z"
   },
   {
    "duration": 19,
    "start_time": "2022-02-23T15:32:42.402Z"
   },
   {
    "duration": 80,
    "start_time": "2022-02-23T15:32:42.423Z"
   },
   {
    "duration": 14,
    "start_time": "2022-02-23T15:32:42.505Z"
   },
   {
    "duration": 71,
    "start_time": "2022-02-23T15:32:42.522Z"
   },
   {
    "duration": 545,
    "start_time": "2022-02-23T15:32:42.596Z"
   },
   {
    "duration": 270,
    "start_time": "2022-02-23T15:32:42.874Z"
   },
   {
    "duration": 39,
    "start_time": "2022-02-23T15:33:20.774Z"
   },
   {
    "duration": 52,
    "start_time": "2022-02-23T15:34:23.202Z"
   },
   {
    "duration": 23,
    "start_time": "2022-02-23T15:35:43.764Z"
   },
   {
    "duration": 128,
    "start_time": "2022-02-23T15:38:54.211Z"
   },
   {
    "duration": 120,
    "start_time": "2022-02-23T15:39:03.642Z"
   },
   {
    "duration": 66,
    "start_time": "2022-02-23T15:39:08.240Z"
   },
   {
    "duration": 111,
    "start_time": "2022-02-23T15:39:48.213Z"
   },
   {
    "duration": 77,
    "start_time": "2022-02-23T15:39:58.583Z"
   },
   {
    "duration": 13,
    "start_time": "2022-02-23T18:05:43.961Z"
   },
   {
    "duration": 322,
    "start_time": "2022-02-23T18:07:30.612Z"
   },
   {
    "duration": 20388,
    "start_time": "2022-02-23T18:07:34.228Z"
   },
   {
    "duration": 53,
    "start_time": "2022-02-23T18:08:13.928Z"
   },
   {
    "duration": 47,
    "start_time": "2022-02-23T18:08:20.988Z"
   },
   {
    "duration": 25,
    "start_time": "2022-02-23T18:11:14.915Z"
   },
   {
    "duration": 1374,
    "start_time": "2022-02-23T18:19:44.594Z"
   },
   {
    "duration": 69,
    "start_time": "2022-02-23T18:19:58.136Z"
   },
   {
    "duration": 66,
    "start_time": "2022-02-23T18:20:30.561Z"
   },
   {
    "duration": 26,
    "start_time": "2022-02-23T18:22:32.720Z"
   },
   {
    "duration": 454,
    "start_time": "2022-02-23T18:23:03.440Z"
   },
   {
    "duration": 52,
    "start_time": "2022-02-23T18:23:44.329Z"
   },
   {
    "duration": 66,
    "start_time": "2022-02-23T18:42:32.298Z"
   },
   {
    "duration": 32,
    "start_time": "2022-02-23T18:43:44.279Z"
   },
   {
    "duration": 179,
    "start_time": "2022-02-23T18:44:54.590Z"
   },
   {
    "duration": 31,
    "start_time": "2022-02-23T18:44:58.624Z"
   },
   {
    "duration": 104,
    "start_time": "2022-02-23T18:45:14.873Z"
   },
   {
    "duration": 374,
    "start_time": "2022-02-23T18:45:20.102Z"
   },
   {
    "duration": 177,
    "start_time": "2022-02-23T18:45:37.580Z"
   },
   {
    "duration": 36,
    "start_time": "2022-02-23T18:46:12.458Z"
   },
   {
    "duration": 45,
    "start_time": "2022-02-23T18:46:14.354Z"
   },
   {
    "duration": 32,
    "start_time": "2022-02-23T18:47:54.727Z"
   },
   {
    "duration": 41,
    "start_time": "2022-02-23T18:47:56.183Z"
   },
   {
    "duration": 34,
    "start_time": "2022-02-23T18:48:07.557Z"
   },
   {
    "duration": 343,
    "start_time": "2022-02-23T18:49:07.301Z"
   },
   {
    "duration": 22,
    "start_time": "2022-02-23T18:49:09.496Z"
   },
   {
    "duration": 31,
    "start_time": "2022-02-23T18:49:33.301Z"
   },
   {
    "duration": 440,
    "start_time": "2022-02-23T18:50:24.313Z"
   },
   {
    "duration": 35,
    "start_time": "2022-02-23T18:50:36.427Z"
   },
   {
    "duration": 32,
    "start_time": "2022-02-23T18:53:11.079Z"
   },
   {
    "duration": 37,
    "start_time": "2022-02-23T18:53:12.698Z"
   },
   {
    "duration": 16,
    "start_time": "2022-02-23T19:12:15.760Z"
   },
   {
    "duration": 24,
    "start_time": "2022-02-23T19:12:33.713Z"
   },
   {
    "duration": 35,
    "start_time": "2022-02-23T19:13:31.933Z"
   },
   {
    "duration": 393,
    "start_time": "2022-02-23T19:13:51.544Z"
   },
   {
    "duration": 58,
    "start_time": "2022-02-23T19:14:39.123Z"
   },
   {
    "duration": 35,
    "start_time": "2022-02-23T19:14:51.009Z"
   },
   {
    "duration": 45,
    "start_time": "2022-02-23T19:15:16.363Z"
   },
   {
    "duration": 13,
    "start_time": "2022-02-23T19:16:00.238Z"
   },
   {
    "duration": 28,
    "start_time": "2022-02-23T19:16:18.555Z"
   },
   {
    "duration": 30,
    "start_time": "2022-02-23T19:16:27.813Z"
   },
   {
    "duration": 11,
    "start_time": "2022-02-23T19:17:01.318Z"
   },
   {
    "duration": 24,
    "start_time": "2022-02-23T19:17:25.145Z"
   },
   {
    "duration": 30,
    "start_time": "2022-02-23T19:17:25.650Z"
   },
   {
    "duration": 44,
    "start_time": "2022-02-23T19:17:30.692Z"
   },
   {
    "duration": 1271,
    "start_time": "2022-02-23T19:17:38.873Z"
   },
   {
    "duration": 591,
    "start_time": "2022-02-23T19:17:40.147Z"
   },
   {
    "duration": 56,
    "start_time": "2022-02-23T19:17:40.742Z"
   },
   {
    "duration": 130,
    "start_time": "2022-02-23T19:17:40.801Z"
   },
   {
    "duration": 126,
    "start_time": "2022-02-23T19:17:40.934Z"
   },
   {
    "duration": 325,
    "start_time": "2022-02-23T19:17:41.062Z"
   },
   {
    "duration": 21,
    "start_time": "2022-02-23T19:17:41.390Z"
   },
   {
    "duration": 113,
    "start_time": "2022-02-23T19:17:41.415Z"
   },
   {
    "duration": 5,
    "start_time": "2022-02-23T19:17:41.531Z"
   },
   {
    "duration": 32,
    "start_time": "2022-02-23T19:17:41.539Z"
   },
   {
    "duration": 64,
    "start_time": "2022-02-23T19:17:41.574Z"
   },
   {
    "duration": 21,
    "start_time": "2022-02-23T19:17:41.640Z"
   },
   {
    "duration": 54,
    "start_time": "2022-02-23T19:17:41.664Z"
   },
   {
    "duration": 24,
    "start_time": "2022-02-23T19:17:41.721Z"
   },
   {
    "duration": 31,
    "start_time": "2022-02-23T19:17:41.748Z"
   },
   {
    "duration": 70,
    "start_time": "2022-02-23T19:17:41.782Z"
   },
   {
    "duration": 45,
    "start_time": "2022-02-23T19:21:56.534Z"
   },
   {
    "duration": 15,
    "start_time": "2022-02-23T19:27:52.861Z"
   },
   {
    "duration": 47,
    "start_time": "2022-02-23T19:27:54.943Z"
   },
   {
    "duration": 14,
    "start_time": "2022-02-23T19:28:25.935Z"
   },
   {
    "duration": 6,
    "start_time": "2022-02-23T19:29:19.043Z"
   },
   {
    "duration": 14,
    "start_time": "2022-02-23T19:29:20.841Z"
   },
   {
    "duration": 5,
    "start_time": "2022-02-23T19:29:46.095Z"
   },
   {
    "duration": 14,
    "start_time": "2022-02-23T19:29:47.181Z"
   },
   {
    "duration": 30,
    "start_time": "2022-02-23T19:30:12.997Z"
   },
   {
    "duration": 483,
    "start_time": "2022-02-23T19:31:01.072Z"
   },
   {
    "duration": 27,
    "start_time": "2022-02-23T19:31:14.378Z"
   },
   {
    "duration": 6,
    "start_time": "2022-02-23T19:32:48.915Z"
   },
   {
    "duration": 212,
    "start_time": "2022-02-23T19:32:54.736Z"
   },
   {
    "duration": 36,
    "start_time": "2022-02-23T19:33:24.249Z"
   },
   {
    "duration": 5,
    "start_time": "2022-02-23T19:55:57.220Z"
   },
   {
    "duration": 44,
    "start_time": "2022-02-23T19:55:58.961Z"
   },
   {
    "duration": 34,
    "start_time": "2022-02-23T20:18:14.576Z"
   },
   {
    "duration": 14,
    "start_time": "2022-02-23T20:19:03.530Z"
   },
   {
    "duration": 360,
    "start_time": "2022-02-23T20:19:12.525Z"
   },
   {
    "duration": 12,
    "start_time": "2022-02-23T20:19:21.416Z"
   },
   {
    "duration": 1349,
    "start_time": "2022-02-23T20:33:23.806Z"
   },
   {
    "duration": 765,
    "start_time": "2022-02-23T20:33:25.210Z"
   },
   {
    "duration": 57,
    "start_time": "2022-02-23T20:33:25.981Z"
   },
   {
    "duration": 120,
    "start_time": "2022-02-23T20:33:26.040Z"
   },
   {
    "duration": 149,
    "start_time": "2022-02-23T20:33:26.163Z"
   },
   {
    "duration": 346,
    "start_time": "2022-02-23T20:33:26.314Z"
   },
   {
    "duration": 10,
    "start_time": "2022-02-23T20:33:26.664Z"
   },
   {
    "duration": 127,
    "start_time": "2022-02-23T20:33:26.677Z"
   },
   {
    "duration": 6,
    "start_time": "2022-02-23T20:33:26.806Z"
   },
   {
    "duration": 34,
    "start_time": "2022-02-23T20:33:26.814Z"
   },
   {
    "duration": 69,
    "start_time": "2022-02-23T20:33:26.850Z"
   },
   {
    "duration": 22,
    "start_time": "2022-02-23T20:33:26.922Z"
   },
   {
    "duration": 34,
    "start_time": "2022-02-23T20:33:26.947Z"
   },
   {
    "duration": 49,
    "start_time": "2022-02-23T20:33:26.983Z"
   },
   {
    "duration": 13,
    "start_time": "2022-02-23T20:33:27.034Z"
   },
   {
    "duration": 62,
    "start_time": "2022-02-23T20:33:27.050Z"
   },
   {
    "duration": 15,
    "start_time": "2022-02-23T20:33:27.114Z"
   },
   {
    "duration": 43,
    "start_time": "2022-02-23T20:33:27.131Z"
   },
   {
    "duration": 123,
    "start_time": "2022-02-23T20:33:27.177Z"
   },
   {
    "duration": 387,
    "start_time": "2022-02-23T20:33:26.915Z"
   },
   {
    "duration": 43,
    "start_time": "2022-02-23T20:36:02.279Z"
   },
   {
    "duration": 52,
    "start_time": "2022-02-23T21:20:52.451Z"
   },
   {
    "duration": 46,
    "start_time": "2022-02-23T21:21:06.190Z"
   },
   {
    "duration": 469,
    "start_time": "2022-02-23T21:22:53.017Z"
   },
   {
    "duration": 47,
    "start_time": "2022-02-23T21:22:58.626Z"
   },
   {
    "duration": 43,
    "start_time": "2022-02-23T21:23:14.204Z"
   },
   {
    "duration": 383,
    "start_time": "2022-02-23T21:23:34.129Z"
   },
   {
    "duration": 45,
    "start_time": "2022-02-23T21:23:49.743Z"
   },
   {
    "duration": 45,
    "start_time": "2022-02-23T21:25:15.512Z"
   },
   {
    "duration": 374,
    "start_time": "2022-02-23T21:25:23.781Z"
   },
   {
    "duration": 52,
    "start_time": "2022-02-23T21:25:27.517Z"
   },
   {
    "duration": 48,
    "start_time": "2022-02-23T21:25:34.025Z"
   },
   {
    "duration": 42,
    "start_time": "2022-02-23T21:28:04.321Z"
   },
   {
    "duration": 5,
    "start_time": "2022-02-23T21:28:54.717Z"
   },
   {
    "duration": 29,
    "start_time": "2022-02-23T21:28:57.403Z"
   },
   {
    "duration": 1284,
    "start_time": "2022-02-23T21:29:07.778Z"
   },
   {
    "duration": 562,
    "start_time": "2022-02-23T21:29:09.065Z"
   },
   {
    "duration": 52,
    "start_time": "2022-02-23T21:29:09.630Z"
   },
   {
    "duration": 141,
    "start_time": "2022-02-23T21:29:09.685Z"
   },
   {
    "duration": 113,
    "start_time": "2022-02-23T21:29:09.828Z"
   },
   {
    "duration": 329,
    "start_time": "2022-02-23T21:29:09.943Z"
   },
   {
    "duration": 9,
    "start_time": "2022-02-23T21:29:10.274Z"
   },
   {
    "duration": 115,
    "start_time": "2022-02-23T21:29:10.287Z"
   },
   {
    "duration": 7,
    "start_time": "2022-02-23T21:29:10.412Z"
   },
   {
    "duration": 31,
    "start_time": "2022-02-23T21:29:10.422Z"
   },
   {
    "duration": 69,
    "start_time": "2022-02-23T21:29:10.455Z"
   },
   {
    "duration": 21,
    "start_time": "2022-02-23T21:29:10.526Z"
   },
   {
    "duration": 33,
    "start_time": "2022-02-23T21:29:10.549Z"
   },
   {
    "duration": 49,
    "start_time": "2022-02-23T21:29:10.584Z"
   },
   {
    "duration": 13,
    "start_time": "2022-02-23T21:29:10.635Z"
   },
   {
    "duration": 36,
    "start_time": "2022-02-23T21:29:10.651Z"
   },
   {
    "duration": 48,
    "start_time": "2022-02-23T21:29:10.709Z"
   },
   {
    "duration": 17,
    "start_time": "2022-02-23T21:29:10.760Z"
   },
   {
    "duration": 108,
    "start_time": "2022-02-23T21:29:10.811Z"
   },
   {
    "duration": 402,
    "start_time": "2022-02-23T21:29:10.521Z"
   },
   {
    "duration": 1834,
    "start_time": "2022-02-23T21:36:03.564Z"
   },
   {
    "duration": 452,
    "start_time": "2022-02-23T21:36:20.277Z"
   },
   {
    "duration": 45,
    "start_time": "2022-02-23T21:37:17.553Z"
   },
   {
    "duration": 7988,
    "start_time": "2022-02-23T21:38:41.664Z"
   },
   {
    "duration": 52,
    "start_time": "2022-02-23T21:39:01.877Z"
   },
   {
    "duration": 367,
    "start_time": "2022-02-23T21:39:29.791Z"
   },
   {
    "duration": 44,
    "start_time": "2022-02-23T21:39:37.526Z"
   },
   {
    "duration": 46,
    "start_time": "2022-02-23T21:47:38.000Z"
   },
   {
    "duration": 8501,
    "start_time": "2022-02-23T21:55:20.510Z"
   },
   {
    "duration": 52,
    "start_time": "2022-02-23T21:55:40.988Z"
   },
   {
    "duration": 46,
    "start_time": "2022-02-23T21:55:55.412Z"
   },
   {
    "duration": 51,
    "start_time": "2022-02-23T21:56:00.723Z"
   },
   {
    "duration": 52,
    "start_time": "2022-02-23T21:56:19.310Z"
   },
   {
    "duration": 53,
    "start_time": "2022-02-23T21:56:49.421Z"
   },
   {
    "duration": 44,
    "start_time": "2022-02-23T21:57:24.613Z"
   },
   {
    "duration": 435,
    "start_time": "2022-02-23T21:58:11.785Z"
   },
   {
    "duration": 377,
    "start_time": "2022-02-23T21:58:18.221Z"
   },
   {
    "duration": 61,
    "start_time": "2022-02-23T21:58:30.867Z"
   },
   {
    "duration": 61,
    "start_time": "2022-02-23T21:58:57.552Z"
   },
   {
    "duration": 62,
    "start_time": "2022-02-23T21:59:08.806Z"
   },
   {
    "duration": 43,
    "start_time": "2022-02-23T21:59:59.825Z"
   },
   {
    "duration": 29,
    "start_time": "2022-02-23T22:02:51.551Z"
   },
   {
    "duration": 45,
    "start_time": "2022-02-23T22:03:05.777Z"
   },
   {
    "duration": 31,
    "start_time": "2022-02-23T22:03:13.133Z"
   },
   {
    "duration": 31,
    "start_time": "2022-02-23T22:03:19.980Z"
   },
   {
    "duration": 121,
    "start_time": "2022-02-23T22:03:37.174Z"
   },
   {
    "duration": 46,
    "start_time": "2022-02-23T22:03:47.416Z"
   },
   {
    "duration": 41,
    "start_time": "2022-02-23T22:03:59.146Z"
   },
   {
    "duration": 43,
    "start_time": "2022-02-23T22:06:58.441Z"
   },
   {
    "duration": 89,
    "start_time": "2022-02-24T20:03:27.504Z"
   },
   {
    "duration": 81,
    "start_time": "2022-02-24T20:03:38.459Z"
   },
   {
    "duration": -625,
    "start_time": "2022-02-24T20:03:39.167Z"
   },
   {
    "duration": -626,
    "start_time": "2022-02-24T20:03:39.169Z"
   },
   {
    "duration": -634,
    "start_time": "2022-02-24T20:03:39.178Z"
   },
   {
    "duration": -638,
    "start_time": "2022-02-24T20:03:39.182Z"
   },
   {
    "duration": -642,
    "start_time": "2022-02-24T20:03:39.187Z"
   },
   {
    "duration": -644,
    "start_time": "2022-02-24T20:03:39.190Z"
   },
   {
    "duration": -646,
    "start_time": "2022-02-24T20:03:39.192Z"
   },
   {
    "duration": -647,
    "start_time": "2022-02-24T20:03:39.194Z"
   },
   {
    "duration": -648,
    "start_time": "2022-02-24T20:03:39.196Z"
   },
   {
    "duration": -649,
    "start_time": "2022-02-24T20:03:39.198Z"
   },
   {
    "duration": -651,
    "start_time": "2022-02-24T20:03:39.200Z"
   },
   {
    "duration": -652,
    "start_time": "2022-02-24T20:03:39.202Z"
   },
   {
    "duration": -654,
    "start_time": "2022-02-24T20:03:39.204Z"
   },
   {
    "duration": -655,
    "start_time": "2022-02-24T20:03:39.206Z"
   },
   {
    "duration": -655,
    "start_time": "2022-02-24T20:03:39.207Z"
   },
   {
    "duration": -657,
    "start_time": "2022-02-24T20:03:39.210Z"
   },
   {
    "duration": -658,
    "start_time": "2022-02-24T20:03:39.212Z"
   },
   {
    "duration": -660,
    "start_time": "2022-02-24T20:03:39.214Z"
   },
   {
    "duration": -662,
    "start_time": "2022-02-24T20:03:39.217Z"
   },
   {
    "duration": -663,
    "start_time": "2022-02-24T20:03:39.219Z"
   },
   {
    "duration": 989,
    "start_time": "2022-02-27T16:01:52.649Z"
   },
   {
    "duration": 419,
    "start_time": "2022-02-27T16:01:53.640Z"
   },
   {
    "duration": 39,
    "start_time": "2022-02-27T16:01:54.062Z"
   },
   {
    "duration": 103,
    "start_time": "2022-02-27T16:01:54.103Z"
   },
   {
    "duration": 103,
    "start_time": "2022-02-27T16:01:54.208Z"
   },
   {
    "duration": 268,
    "start_time": "2022-02-27T16:01:54.313Z"
   },
   {
    "duration": 8,
    "start_time": "2022-02-27T16:01:54.582Z"
   },
   {
    "duration": 85,
    "start_time": "2022-02-27T16:01:54.592Z"
   },
   {
    "duration": 5,
    "start_time": "2022-02-27T16:01:54.680Z"
   },
   {
    "duration": 38,
    "start_time": "2022-02-27T16:01:54.687Z"
   },
   {
    "duration": 33,
    "start_time": "2022-02-27T16:01:54.727Z"
   },
   {
    "duration": 17,
    "start_time": "2022-02-27T16:01:54.776Z"
   },
   {
    "duration": 36,
    "start_time": "2022-02-27T16:01:54.795Z"
   },
   {
    "duration": 19,
    "start_time": "2022-02-27T16:01:54.834Z"
   },
   {
    "duration": 24,
    "start_time": "2022-02-27T16:01:54.854Z"
   },
   {
    "duration": 25,
    "start_time": "2022-02-27T16:01:54.879Z"
   },
   {
    "duration": 33,
    "start_time": "2022-02-27T16:01:54.907Z"
   },
   {
    "duration": 36,
    "start_time": "2022-02-27T16:01:54.942Z"
   },
   {
    "duration": 76,
    "start_time": "2022-02-27T16:01:54.980Z"
   },
   {
    "duration": 390,
    "start_time": "2022-02-27T16:01:54.668Z"
   },
   {
    "duration": 23,
    "start_time": "2022-02-27T16:17:36.192Z"
   },
   {
    "duration": 1034,
    "start_time": "2022-02-27T16:17:49.373Z"
   },
   {
    "duration": 450,
    "start_time": "2022-02-27T16:17:50.410Z"
   },
   {
    "duration": 40,
    "start_time": "2022-02-27T16:17:50.863Z"
   },
   {
    "duration": 100,
    "start_time": "2022-02-27T16:17:50.905Z"
   },
   {
    "duration": 172,
    "start_time": "2022-02-27T16:17:51.006Z"
   },
   {
    "duration": 448,
    "start_time": "2022-02-27T16:17:51.180Z"
   },
   {
    "duration": 10,
    "start_time": "2022-02-27T16:17:51.630Z"
   },
   {
    "duration": 111,
    "start_time": "2022-02-27T16:17:51.645Z"
   },
   {
    "duration": 18,
    "start_time": "2022-02-27T16:17:51.759Z"
   },
   {
    "duration": 25,
    "start_time": "2022-02-27T16:17:51.779Z"
   },
   {
    "duration": 35,
    "start_time": "2022-02-27T16:17:51.806Z"
   },
   {
    "duration": 46,
    "start_time": "2022-02-27T16:17:51.844Z"
   },
   {
    "duration": 27,
    "start_time": "2022-02-27T16:17:51.892Z"
   },
   {
    "duration": 20,
    "start_time": "2022-02-27T16:17:51.921Z"
   },
   {
    "duration": 6,
    "start_time": "2022-02-27T16:17:51.943Z"
   },
   {
    "duration": 28,
    "start_time": "2022-02-27T16:17:51.977Z"
   },
   {
    "duration": 35,
    "start_time": "2022-02-27T16:17:52.007Z"
   },
   {
    "duration": 35,
    "start_time": "2022-02-27T16:17:52.043Z"
   },
   {
    "duration": 77,
    "start_time": "2022-02-27T16:17:52.080Z"
   },
   {
    "duration": 435,
    "start_time": "2022-02-27T16:17:51.724Z"
   },
   {
    "duration": 1003,
    "start_time": "2022-02-27T16:20:14.007Z"
   },
   {
    "duration": 694,
    "start_time": "2022-02-27T16:20:19.319Z"
   },
   {
    "duration": 27,
    "start_time": "2022-02-27T16:20:26.288Z"
   },
   {
    "duration": 895,
    "start_time": "2022-02-27T16:21:06.413Z"
   },
   {
    "duration": 419,
    "start_time": "2022-02-27T16:21:07.310Z"
   },
   {
    "duration": 35,
    "start_time": "2022-02-27T16:21:07.731Z"
   },
   {
    "duration": 68,
    "start_time": "2022-02-27T16:21:07.768Z"
   },
   {
    "duration": 92,
    "start_time": "2022-02-27T16:21:07.837Z"
   },
   {
    "duration": 258,
    "start_time": "2022-02-27T16:21:07.930Z"
   },
   {
    "duration": 6,
    "start_time": "2022-02-27T16:21:08.190Z"
   },
   {
    "duration": 82,
    "start_time": "2022-02-27T16:21:08.198Z"
   },
   {
    "duration": 5,
    "start_time": "2022-02-27T16:21:08.283Z"
   },
   {
    "duration": 24,
    "start_time": "2022-02-27T16:21:08.290Z"
   },
   {
    "duration": 33,
    "start_time": "2022-02-27T16:21:08.316Z"
   },
   {
    "duration": 37,
    "start_time": "2022-02-27T16:21:08.350Z"
   },
   {
    "duration": 23,
    "start_time": "2022-02-27T16:21:08.389Z"
   },
   {
    "duration": 18,
    "start_time": "2022-02-27T16:21:08.413Z"
   },
   {
    "duration": 5,
    "start_time": "2022-02-27T16:21:08.433Z"
   },
   {
    "duration": 52,
    "start_time": "2022-02-27T16:21:08.440Z"
   },
   {
    "duration": 31,
    "start_time": "2022-02-27T16:21:08.493Z"
   },
   {
    "duration": 11,
    "start_time": "2022-02-27T16:21:08.526Z"
   },
   {
    "duration": 76,
    "start_time": "2022-02-27T16:21:08.539Z"
   },
   {
    "duration": 447,
    "start_time": "2022-02-27T16:21:08.171Z"
   },
   {
    "duration": 305,
    "start_time": "2022-02-28T09:15:48.099Z"
   },
   {
    "duration": 294,
    "start_time": "2022-02-28T09:15:51.189Z"
   },
   {
    "duration": 256,
    "start_time": "2022-02-28T09:15:51.965Z"
   },
   {
    "duration": 1515,
    "start_time": "2022-02-28T09:15:58.165Z"
   },
   {
    "duration": 706,
    "start_time": "2022-02-28T09:15:59.683Z"
   },
   {
    "duration": 62,
    "start_time": "2022-02-28T09:16:00.393Z"
   },
   {
    "duration": 137,
    "start_time": "2022-02-28T09:16:00.459Z"
   },
   {
    "duration": 161,
    "start_time": "2022-02-28T09:16:00.599Z"
   },
   {
    "duration": 317,
    "start_time": "2022-02-28T09:16:00.762Z"
   },
   {
    "duration": 11,
    "start_time": "2022-02-28T09:16:01.081Z"
   },
   {
    "duration": 115,
    "start_time": "2022-02-28T09:16:01.096Z"
   },
   {
    "duration": 5,
    "start_time": "2022-02-28T09:16:01.213Z"
   },
   {
    "duration": 49,
    "start_time": "2022-02-28T09:16:01.220Z"
   },
   {
    "duration": 43,
    "start_time": "2022-02-28T09:16:01.272Z"
   },
   {
    "duration": 41,
    "start_time": "2022-02-28T09:16:01.317Z"
   },
   {
    "duration": 33,
    "start_time": "2022-02-28T09:16:01.360Z"
   },
   {
    "duration": 24,
    "start_time": "2022-02-28T09:16:01.396Z"
   },
   {
    "duration": 29,
    "start_time": "2022-02-28T09:16:01.422Z"
   },
   {
    "duration": 35,
    "start_time": "2022-02-28T09:16:01.453Z"
   },
   {
    "duration": 13,
    "start_time": "2022-02-28T09:16:01.490Z"
   },
   {
    "duration": 76,
    "start_time": "2022-02-28T09:16:01.506Z"
   },
   {
    "duration": 14,
    "start_time": "2022-02-28T09:16:01.585Z"
   },
   {
    "duration": 105,
    "start_time": "2022-02-28T09:16:01.602Z"
   },
   {
    "duration": -509,
    "start_time": "2022-02-28T09:16:02.218Z"
   },
   {
    "duration": 15,
    "start_time": "2022-02-28T09:16:08.662Z"
   },
   {
    "duration": 6910,
    "start_time": "2022-02-28T09:22:19.750Z"
   },
   {
    "duration": 50,
    "start_time": "2022-02-28T09:22:39.233Z"
   },
   {
    "duration": 48,
    "start_time": "2022-02-28T09:22:53.393Z"
   },
   {
    "duration": 48,
    "start_time": "2022-02-28T09:24:59.506Z"
   },
   {
    "duration": 47,
    "start_time": "2022-02-28T09:25:22.267Z"
   },
   {
    "duration": 44,
    "start_time": "2022-02-28T09:26:08.464Z"
   },
   {
    "duration": 49,
    "start_time": "2022-02-28T09:26:11.530Z"
   },
   {
    "duration": 47,
    "start_time": "2022-02-28T09:26:25.453Z"
   },
   {
    "duration": 47,
    "start_time": "2022-02-28T09:26:38.473Z"
   },
   {
    "duration": 57,
    "start_time": "2022-02-28T09:46:05.511Z"
   },
   {
    "duration": 91,
    "start_time": "2022-02-28T09:46:30.702Z"
   },
   {
    "duration": 55,
    "start_time": "2022-02-28T09:46:47.572Z"
   },
   {
    "duration": 100,
    "start_time": "2022-02-28T09:47:22.916Z"
   },
   {
    "duration": 150,
    "start_time": "2022-02-28T09:47:28.419Z"
   },
   {
    "duration": 122,
    "start_time": "2022-02-28T09:47:44.672Z"
   },
   {
    "duration": 60,
    "start_time": "2022-02-28T09:48:04.356Z"
   },
   {
    "duration": 54,
    "start_time": "2022-02-28T09:48:22.159Z"
   },
   {
    "duration": 85,
    "start_time": "2022-02-28T09:48:39.203Z"
   },
   {
    "duration": 95,
    "start_time": "2022-02-28T09:49:11.185Z"
   },
   {
    "duration": 417,
    "start_time": "2022-02-28T09:49:22.056Z"
   },
   {
    "duration": 318,
    "start_time": "2022-02-28T09:49:29.335Z"
   },
   {
    "duration": 95,
    "start_time": "2022-02-28T09:49:49.484Z"
   },
   {
    "duration": 84,
    "start_time": "2022-02-28T09:49:56.975Z"
   },
   {
    "duration": 65,
    "start_time": "2022-02-28T09:50:00.521Z"
   },
   {
    "duration": 50,
    "start_time": "2022-02-28T09:50:19.765Z"
   },
   {
    "duration": 463,
    "start_time": "2022-02-28T09:51:52.355Z"
   },
   {
    "duration": 272,
    "start_time": "2022-02-28T09:52:05.578Z"
   },
   {
    "duration": 308,
    "start_time": "2022-02-28T09:52:11.727Z"
   },
   {
    "duration": 291,
    "start_time": "2022-02-28T09:52:27.876Z"
   },
   {
    "duration": 262,
    "start_time": "2022-02-28T09:52:36.735Z"
   },
   {
    "duration": 265,
    "start_time": "2022-02-28T09:52:42.018Z"
   },
   {
    "duration": 252,
    "start_time": "2022-02-28T09:52:51.929Z"
   },
   {
    "duration": 61,
    "start_time": "2022-02-28T09:53:00.644Z"
   },
   {
    "duration": 50,
    "start_time": "2022-02-28T09:53:09.477Z"
   },
   {
    "duration": 47,
    "start_time": "2022-02-28T09:58:53.710Z"
   },
   {
    "duration": 46,
    "start_time": "2022-02-28T09:59:03.775Z"
   },
   {
    "duration": 46,
    "start_time": "2022-02-28T09:59:10.643Z"
   },
   {
    "duration": 46,
    "start_time": "2022-02-28T09:59:18.612Z"
   },
   {
    "duration": 294,
    "start_time": "2022-02-28T09:59:44.487Z"
   },
   {
    "duration": 267,
    "start_time": "2022-02-28T10:00:13.108Z"
   },
   {
    "duration": 44,
    "start_time": "2022-02-28T10:00:21.138Z"
   },
   {
    "duration": 44,
    "start_time": "2022-02-28T10:00:32.884Z"
   },
   {
    "duration": 377,
    "start_time": "2022-02-28T10:01:00.924Z"
   },
   {
    "duration": 287,
    "start_time": "2022-02-28T10:01:06.503Z"
   },
   {
    "duration": 88,
    "start_time": "2022-02-28T10:01:48.703Z"
   },
   {
    "duration": 1064,
    "start_time": "2022-02-28T10:01:57.073Z"
   },
   {
    "duration": 52,
    "start_time": "2022-02-28T10:02:11.437Z"
   },
   {
    "duration": 37,
    "start_time": "2022-02-28T10:02:24.884Z"
   },
   {
    "duration": 92,
    "start_time": "2022-02-28T10:04:39.755Z"
   },
   {
    "duration": 1100,
    "start_time": "2022-02-28T10:04:44.713Z"
   },
   {
    "duration": 1010,
    "start_time": "2022-02-28T10:04:53.531Z"
   },
   {
    "duration": 40,
    "start_time": "2022-02-28T10:06:11.014Z"
   },
   {
    "duration": 41,
    "start_time": "2022-02-28T10:06:56.054Z"
   },
   {
    "duration": 41,
    "start_time": "2022-02-28T10:07:05.195Z"
   },
   {
    "duration": 84,
    "start_time": "2022-02-28T10:07:49.834Z"
   },
   {
    "duration": 40,
    "start_time": "2022-02-28T10:07:59.351Z"
   },
   {
    "duration": 409,
    "start_time": "2022-02-28T10:11:18.338Z"
   },
   {
    "duration": 346,
    "start_time": "2022-02-28T10:11:30.015Z"
   },
   {
    "duration": 50,
    "start_time": "2022-02-28T10:11:34.590Z"
   },
   {
    "duration": 5,
    "start_time": "2022-02-28T10:12:22.129Z"
   },
   {
    "duration": 20,
    "start_time": "2022-02-28T10:12:33.335Z"
   },
   {
    "duration": 455,
    "start_time": "2022-02-28T10:15:36.658Z"
   },
   {
    "duration": 454,
    "start_time": "2022-02-28T10:20:42.029Z"
   },
   {
    "duration": 418,
    "start_time": "2022-02-28T10:21:19.582Z"
   },
   {
    "duration": 1127,
    "start_time": "2022-02-28T10:23:45.276Z"
   },
   {
    "duration": 458,
    "start_time": "2022-02-28T10:23:46.406Z"
   },
   {
    "duration": 501,
    "start_time": "2022-02-28T10:23:46.870Z"
   },
   {
    "duration": 9,
    "start_time": "2022-02-28T10:23:47.373Z"
   },
   {
    "duration": 124,
    "start_time": "2022-02-28T10:23:47.384Z"
   },
   {
    "duration": 4,
    "start_time": "2022-02-28T10:23:47.511Z"
   },
   {
    "duration": 48,
    "start_time": "2022-02-28T10:23:47.519Z"
   },
   {
    "duration": 42,
    "start_time": "2022-02-28T10:23:47.569Z"
   },
   {
    "duration": 40,
    "start_time": "2022-02-28T10:23:47.613Z"
   },
   {
    "duration": 31,
    "start_time": "2022-02-28T10:23:47.656Z"
   },
   {
    "duration": 24,
    "start_time": "2022-02-28T10:23:47.689Z"
   },
   {
    "duration": 8,
    "start_time": "2022-02-28T10:23:47.715Z"
   },
   {
    "duration": 50,
    "start_time": "2022-02-28T10:23:47.725Z"
   },
   {
    "duration": 74,
    "start_time": "2022-02-28T10:23:47.777Z"
   },
   {
    "duration": 16,
    "start_time": "2022-02-28T10:23:47.853Z"
   },
   {
    "duration": 81,
    "start_time": "2022-02-28T10:23:47.871Z"
   },
   {
    "duration": -494,
    "start_time": "2022-02-28T10:23:48.448Z"
   },
   {
    "duration": 86,
    "start_time": "2022-02-28T10:35:03.473Z"
   },
   {
    "duration": 422,
    "start_time": "2022-02-28T10:35:38.801Z"
   },
   {
    "duration": 450,
    "start_time": "2022-02-28T10:35:46.135Z"
   },
   {
    "duration": 252,
    "start_time": "2022-02-28T10:38:59.052Z"
   },
   {
    "duration": 392,
    "start_time": "2022-02-28T10:39:32.772Z"
   },
   {
    "duration": 448,
    "start_time": "2022-02-28T10:40:26.231Z"
   },
   {
    "duration": 385,
    "start_time": "2022-02-28T10:41:34.676Z"
   },
   {
    "duration": 291,
    "start_time": "2022-02-28T10:43:32.836Z"
   },
   {
    "duration": 6152,
    "start_time": "2022-02-28T10:43:47.054Z"
   },
   {
    "duration": 8,
    "start_time": "2022-02-28T10:43:59.554Z"
   },
   {
    "duration": 368,
    "start_time": "2022-02-28T10:44:10.606Z"
   },
   {
    "duration": 4,
    "start_time": "2022-02-28T10:44:22.487Z"
   },
   {
    "duration": 272,
    "start_time": "2022-02-28T10:44:39.653Z"
   },
   {
    "duration": 4,
    "start_time": "2022-02-28T10:44:43.719Z"
   },
   {
    "duration": 7,
    "start_time": "2022-02-28T10:44:47.629Z"
   },
   {
    "duration": 10,
    "start_time": "2022-02-28T10:45:20.903Z"
   },
   {
    "duration": 8,
    "start_time": "2022-02-28T10:51:07.787Z"
   },
   {
    "duration": 1248,
    "start_time": "2022-02-28T11:07:28.710Z"
   },
   {
    "duration": 622,
    "start_time": "2022-02-28T11:07:29.961Z"
   },
   {
    "duration": 514,
    "start_time": "2022-02-28T11:07:30.586Z"
   },
   {
    "duration": 11,
    "start_time": "2022-02-28T11:07:31.103Z"
   },
   {
    "duration": 105,
    "start_time": "2022-02-28T11:07:31.152Z"
   },
   {
    "duration": 4,
    "start_time": "2022-02-28T11:07:31.260Z"
   },
   {
    "duration": 45,
    "start_time": "2022-02-28T11:07:31.267Z"
   },
   {
    "duration": 53,
    "start_time": "2022-02-28T11:07:31.314Z"
   },
   {
    "duration": 20,
    "start_time": "2022-02-28T11:07:31.371Z"
   },
   {
    "duration": 31,
    "start_time": "2022-02-28T11:07:31.394Z"
   },
   {
    "duration": 24,
    "start_time": "2022-02-28T11:07:31.451Z"
   },
   {
    "duration": 8,
    "start_time": "2022-02-28T11:07:31.478Z"
   },
   {
    "duration": 32,
    "start_time": "2022-02-28T11:07:31.488Z"
   },
   {
    "duration": 51,
    "start_time": "2022-02-28T11:07:31.551Z"
   },
   {
    "duration": 8,
    "start_time": "2022-02-28T11:07:31.605Z"
   },
   {
    "duration": 16,
    "start_time": "2022-02-28T11:11:16.545Z"
   },
   {
    "duration": 48,
    "start_time": "2022-02-28T11:11:44.581Z"
   },
   {
    "duration": 1096,
    "start_time": "2022-02-28T11:16:37.787Z"
   },
   {
    "duration": 457,
    "start_time": "2022-02-28T11:16:38.886Z"
   },
   {
    "duration": 459,
    "start_time": "2022-02-28T11:16:39.346Z"
   },
   {
    "duration": 9,
    "start_time": "2022-02-28T11:16:39.808Z"
   },
   {
    "duration": 113,
    "start_time": "2022-02-28T11:16:39.819Z"
   },
   {
    "duration": 18,
    "start_time": "2022-02-28T11:16:39.935Z"
   },
   {
    "duration": 32,
    "start_time": "2022-02-28T11:16:39.956Z"
   },
   {
    "duration": 67,
    "start_time": "2022-02-28T11:16:39.991Z"
   },
   {
    "duration": 20,
    "start_time": "2022-02-28T11:16:40.060Z"
   },
   {
    "duration": 30,
    "start_time": "2022-02-28T11:16:40.082Z"
   },
   {
    "duration": 48,
    "start_time": "2022-02-28T11:16:40.115Z"
   },
   {
    "duration": 11,
    "start_time": "2022-02-28T11:16:40.165Z"
   },
   {
    "duration": 32,
    "start_time": "2022-02-28T11:16:40.179Z"
   },
   {
    "duration": 81,
    "start_time": "2022-02-28T11:16:40.213Z"
   },
   {
    "duration": 8,
    "start_time": "2022-02-28T11:16:40.296Z"
   },
   {
    "duration": 1192,
    "start_time": "2022-02-28T11:51:24.851Z"
   },
   {
    "duration": 496,
    "start_time": "2022-02-28T11:51:26.045Z"
   },
   {
    "duration": 510,
    "start_time": "2022-02-28T11:51:26.544Z"
   },
   {
    "duration": 9,
    "start_time": "2022-02-28T11:51:27.056Z"
   },
   {
    "duration": 114,
    "start_time": "2022-02-28T11:51:27.067Z"
   },
   {
    "duration": 4,
    "start_time": "2022-02-28T11:51:27.184Z"
   },
   {
    "duration": 41,
    "start_time": "2022-02-28T11:51:27.191Z"
   },
   {
    "duration": 49,
    "start_time": "2022-02-28T11:51:27.235Z"
   },
   {
    "duration": 21,
    "start_time": "2022-02-28T11:51:27.287Z"
   },
   {
    "duration": 56,
    "start_time": "2022-02-28T11:51:27.310Z"
   },
   {
    "duration": 23,
    "start_time": "2022-02-28T11:51:27.368Z"
   },
   {
    "duration": 8,
    "start_time": "2022-02-28T11:51:27.393Z"
   },
   {
    "duration": 59,
    "start_time": "2022-02-28T11:51:27.403Z"
   },
   {
    "duration": 53,
    "start_time": "2022-02-28T11:51:27.464Z"
   },
   {
    "duration": 10,
    "start_time": "2022-02-28T11:51:27.519Z"
   },
   {
    "duration": 95,
    "start_time": "2022-02-28T11:55:50.624Z"
   },
   {
    "duration": 103,
    "start_time": "2022-02-28T12:20:00.255Z"
   },
   {
    "duration": 425,
    "start_time": "2022-02-28T12:20:07.955Z"
   },
   {
    "duration": 138,
    "start_time": "2022-02-28T12:21:44.996Z"
   },
   {
    "duration": 413,
    "start_time": "2022-02-28T12:24:24.824Z"
   },
   {
    "duration": 51,
    "start_time": "2022-02-28T12:24:56.990Z"
   },
   {
    "duration": 12,
    "start_time": "2022-02-28T12:26:23.599Z"
   },
   {
    "duration": 3,
    "start_time": "2022-02-28T12:40:41.408Z"
   },
   {
    "duration": 12,
    "start_time": "2022-02-28T12:41:17.946Z"
   },
   {
    "duration": 5,
    "start_time": "2022-02-28T12:42:18.108Z"
   },
   {
    "duration": 328,
    "start_time": "2022-02-28T12:42:33.303Z"
   },
   {
    "duration": 12,
    "start_time": "2022-02-28T12:42:36.627Z"
   },
   {
    "duration": 1144,
    "start_time": "2022-02-28T12:43:41.312Z"
   },
   {
    "duration": 12,
    "start_time": "2022-02-28T12:43:54.892Z"
   },
   {
    "duration": 5,
    "start_time": "2022-02-28T12:45:48.049Z"
   },
   {
    "duration": 14,
    "start_time": "2022-02-28T12:46:03.673Z"
   },
   {
    "duration": 4,
    "start_time": "2022-02-28T12:47:43.305Z"
   },
   {
    "duration": 12,
    "start_time": "2022-02-28T12:47:44.569Z"
   },
   {
    "duration": 66,
    "start_time": "2022-02-28T12:48:17.099Z"
   },
   {
    "duration": 50,
    "start_time": "2022-02-28T12:48:43.262Z"
   },
   {
    "duration": 67,
    "start_time": "2022-02-28T12:48:51.492Z"
   },
   {
    "duration": 51,
    "start_time": "2022-02-28T12:49:07.056Z"
   },
   {
    "duration": 67,
    "start_time": "2022-02-28T12:49:24.818Z"
   },
   {
    "duration": 48,
    "start_time": "2022-02-28T12:49:33.771Z"
   },
   {
    "duration": 293,
    "start_time": "2022-02-28T12:49:45.576Z"
   },
   {
    "duration": 66,
    "start_time": "2022-02-28T12:50:45.110Z"
   },
   {
    "duration": 48,
    "start_time": "2022-02-28T12:51:02.160Z"
   },
   {
    "duration": 64,
    "start_time": "2022-02-28T12:51:07.800Z"
   },
   {
    "duration": 9,
    "start_time": "2022-02-28T12:51:18.697Z"
   },
   {
    "duration": 64,
    "start_time": "2022-02-28T12:51:43.743Z"
   },
   {
    "duration": 6,
    "start_time": "2022-02-28T13:15:54.852Z"
   },
   {
    "duration": 13,
    "start_time": "2022-02-28T13:16:06.361Z"
   },
   {
    "duration": 5,
    "start_time": "2022-02-28T13:37:00.322Z"
   },
   {
    "duration": 7,
    "start_time": "2022-02-28T13:43:36.457Z"
   },
   {
    "duration": 516,
    "start_time": "2022-02-28T13:44:52.857Z"
   },
   {
    "duration": 6,
    "start_time": "2022-02-28T13:44:55.995Z"
   },
   {
    "duration": 553,
    "start_time": "2022-02-28T13:44:57.053Z"
   },
   {
    "duration": 5,
    "start_time": "2022-02-28T13:45:32.161Z"
   },
   {
    "duration": 519,
    "start_time": "2022-02-28T13:45:35.520Z"
   },
   {
    "duration": 514,
    "start_time": "2022-02-28T13:45:55.538Z"
   },
   {
    "duration": 6,
    "start_time": "2022-02-28T13:46:26.575Z"
   },
   {
    "duration": 353,
    "start_time": "2022-02-28T13:46:28.840Z"
   },
   {
    "duration": 347,
    "start_time": "2022-02-28T13:46:38.751Z"
   },
   {
    "duration": 429,
    "start_time": "2022-02-28T13:47:03.096Z"
   },
   {
    "duration": 8,
    "start_time": "2022-02-28T13:54:17.040Z"
   },
   {
    "duration": 267,
    "start_time": "2022-02-28T13:54:34.665Z"
   },
   {
    "duration": 230,
    "start_time": "2022-02-28T13:54:41.506Z"
   },
   {
    "duration": 85,
    "start_time": "2022-02-28T13:54:47.561Z"
   },
   {
    "duration": 260,
    "start_time": "2022-02-28T13:55:03.852Z"
   },
   {
    "duration": 283,
    "start_time": "2022-02-28T13:55:08.895Z"
   },
   {
    "duration": 21,
    "start_time": "2022-02-28T13:55:24.262Z"
   },
   {
    "duration": 22,
    "start_time": "2022-02-28T13:59:11.556Z"
   },
   {
    "duration": 352,
    "start_time": "2022-02-28T14:00:20.434Z"
   },
   {
    "duration": 1181,
    "start_time": "2022-02-28T14:00:25.265Z"
   },
   {
    "duration": 482,
    "start_time": "2022-02-28T14:00:26.449Z"
   },
   {
    "duration": 531,
    "start_time": "2022-02-28T14:00:26.937Z"
   },
   {
    "duration": 10,
    "start_time": "2022-02-28T14:00:27.471Z"
   },
   {
    "duration": 124,
    "start_time": "2022-02-28T14:00:27.484Z"
   },
   {
    "duration": 4,
    "start_time": "2022-02-28T14:00:27.611Z"
   },
   {
    "duration": 47,
    "start_time": "2022-02-28T14:00:27.619Z"
   },
   {
    "duration": 46,
    "start_time": "2022-02-28T14:00:27.669Z"
   },
   {
    "duration": 40,
    "start_time": "2022-02-28T14:00:27.717Z"
   },
   {
    "duration": 30,
    "start_time": "2022-02-28T14:00:27.760Z"
   },
   {
    "duration": 23,
    "start_time": "2022-02-28T14:00:27.792Z"
   },
   {
    "duration": 8,
    "start_time": "2022-02-28T14:00:27.818Z"
   },
   {
    "duration": 33,
    "start_time": "2022-02-28T14:00:27.853Z"
   },
   {
    "duration": 5,
    "start_time": "2022-02-28T14:00:27.889Z"
   },
   {
    "duration": 7,
    "start_time": "2022-02-28T14:00:27.897Z"
   },
   {
    "duration": 51,
    "start_time": "2022-02-28T14:00:27.907Z"
   },
   {
    "duration": 65,
    "start_time": "2022-02-28T14:00:27.960Z"
   },
   {
    "duration": 28,
    "start_time": "2022-02-28T14:00:28.027Z"
   },
   {
    "duration": 19,
    "start_time": "2022-02-28T14:00:28.057Z"
   },
   {
    "duration": 7,
    "start_time": "2022-02-28T14:00:28.078Z"
   },
   {
    "duration": 382,
    "start_time": "2022-02-28T14:00:28.087Z"
   },
   {
    "duration": 424,
    "start_time": "2022-02-28T14:04:53.929Z"
   },
   {
    "duration": 8,
    "start_time": "2022-02-28T14:07:05.140Z"
   },
   {
    "duration": 1222,
    "start_time": "2022-02-28T14:07:23.318Z"
   },
   {
    "duration": 555,
    "start_time": "2022-02-28T14:07:24.543Z"
   },
   {
    "duration": 507,
    "start_time": "2022-02-28T14:07:25.101Z"
   },
   {
    "duration": 47,
    "start_time": "2022-02-28T14:07:25.610Z"
   },
   {
    "duration": 107,
    "start_time": "2022-02-28T14:07:25.659Z"
   },
   {
    "duration": 5,
    "start_time": "2022-02-28T14:07:25.769Z"
   },
   {
    "duration": 34,
    "start_time": "2022-02-28T14:07:25.777Z"
   },
   {
    "duration": 72,
    "start_time": "2022-02-28T14:07:25.816Z"
   },
   {
    "duration": 20,
    "start_time": "2022-02-28T14:07:25.891Z"
   },
   {
    "duration": 50,
    "start_time": "2022-02-28T14:07:25.913Z"
   },
   {
    "duration": 23,
    "start_time": "2022-02-28T14:07:25.965Z"
   },
   {
    "duration": 7,
    "start_time": "2022-02-28T14:07:25.991Z"
   },
   {
    "duration": 60,
    "start_time": "2022-02-28T14:07:26.001Z"
   },
   {
    "duration": 5,
    "start_time": "2022-02-28T14:07:26.063Z"
   },
   {
    "duration": 6,
    "start_time": "2022-02-28T14:07:26.070Z"
   },
   {
    "duration": 15,
    "start_time": "2022-02-28T14:07:26.078Z"
   },
   {
    "duration": 96,
    "start_time": "2022-02-28T14:07:26.095Z"
   },
   {
    "duration": 9,
    "start_time": "2022-02-28T14:07:26.194Z"
   },
   {
    "duration": 18,
    "start_time": "2022-02-28T14:07:26.205Z"
   },
   {
    "duration": 8,
    "start_time": "2022-02-28T14:07:26.252Z"
   },
   {
    "duration": 7,
    "start_time": "2022-02-28T14:07:26.262Z"
   },
   {
    "duration": 383,
    "start_time": "2022-02-28T14:07:26.272Z"
   },
   {
    "duration": 423,
    "start_time": "2022-02-28T15:16:07.458Z"
   },
   {
    "duration": 16,
    "start_time": "2022-02-28T15:16:40.242Z"
   },
   {
    "duration": 18,
    "start_time": "2022-02-28T15:17:02.779Z"
   },
   {
    "duration": 428,
    "start_time": "2022-02-28T15:19:42.509Z"
   },
   {
    "duration": 418,
    "start_time": "2022-02-28T15:24:05.368Z"
   },
   {
    "duration": 426,
    "start_time": "2022-02-28T15:24:18.229Z"
   },
   {
    "duration": 14,
    "start_time": "2022-02-28T15:25:00.219Z"
   },
   {
    "duration": 313,
    "start_time": "2022-02-28T16:06:03.139Z"
   },
   {
    "duration": 291,
    "start_time": "2022-02-28T16:06:14.294Z"
   },
   {
    "duration": 24,
    "start_time": "2022-02-28T16:06:30.089Z"
   },
   {
    "duration": 292,
    "start_time": "2022-02-28T16:10:09.858Z"
   },
   {
    "duration": 88,
    "start_time": "2022-02-28T16:11:54.575Z"
   },
   {
    "duration": 18,
    "start_time": "2022-02-28T16:12:07.146Z"
   },
   {
    "duration": 230,
    "start_time": "2022-03-01T14:45:17.205Z"
   },
   {
    "duration": 1019,
    "start_time": "2022-03-01T14:45:22.769Z"
   },
   {
    "duration": 388,
    "start_time": "2022-03-01T14:45:23.790Z"
   },
   {
    "duration": 383,
    "start_time": "2022-03-01T14:45:24.180Z"
   },
   {
    "duration": 37,
    "start_time": "2022-03-01T14:45:24.565Z"
   },
   {
    "duration": 74,
    "start_time": "2022-03-01T14:45:24.604Z"
   },
   {
    "duration": 4,
    "start_time": "2022-03-01T14:45:24.680Z"
   },
   {
    "duration": 24,
    "start_time": "2022-03-01T14:45:24.702Z"
   },
   {
    "duration": 35,
    "start_time": "2022-03-01T14:45:24.728Z"
   },
   {
    "duration": 42,
    "start_time": "2022-03-01T14:45:24.766Z"
   },
   {
    "duration": 26,
    "start_time": "2022-03-01T14:45:24.810Z"
   },
   {
    "duration": 20,
    "start_time": "2022-03-01T14:45:24.838Z"
   },
   {
    "duration": 7,
    "start_time": "2022-03-01T14:45:24.859Z"
   },
   {
    "duration": 49,
    "start_time": "2022-03-01T14:45:24.868Z"
   },
   {
    "duration": 3,
    "start_time": "2022-03-01T14:45:24.919Z"
   },
   {
    "duration": 13,
    "start_time": "2022-03-01T14:45:24.924Z"
   },
   {
    "duration": 14,
    "start_time": "2022-03-01T14:45:24.939Z"
   },
   {
    "duration": 58,
    "start_time": "2022-03-01T14:45:24.955Z"
   },
   {
    "duration": 7,
    "start_time": "2022-03-01T14:45:25.015Z"
   },
   {
    "duration": 16,
    "start_time": "2022-03-01T14:45:25.024Z"
   },
   {
    "duration": 10,
    "start_time": "2022-03-01T14:45:25.042Z"
   },
   {
    "duration": 7,
    "start_time": "2022-03-01T14:45:25.054Z"
   },
   {
    "duration": 259,
    "start_time": "2022-03-01T14:45:25.064Z"
   },
   {
    "duration": 257,
    "start_time": "2022-03-01T14:45:25.326Z"
   },
   {
    "duration": -712,
    "start_time": "2022-03-01T14:45:26.297Z"
   },
   {
    "duration": 14,
    "start_time": "2022-03-01T14:45:27.278Z"
   },
   {
    "duration": 12,
    "start_time": "2022-03-01T14:46:07.519Z"
   },
   {
    "duration": 14,
    "start_time": "2022-03-01T14:51:20.892Z"
   },
   {
    "duration": 16,
    "start_time": "2022-03-01T14:51:29.370Z"
   },
   {
    "duration": 4,
    "start_time": "2022-03-01T14:56:11.532Z"
   },
   {
    "duration": 171,
    "start_time": "2022-03-01T14:57:32.585Z"
   },
   {
    "duration": 16,
    "start_time": "2022-03-01T14:58:15.602Z"
   },
   {
    "duration": 161,
    "start_time": "2022-03-01T14:58:52.302Z"
   },
   {
    "duration": 20,
    "start_time": "2022-03-01T14:58:56.766Z"
   },
   {
    "duration": 53,
    "start_time": "2022-03-01T15:05:46.093Z"
   },
   {
    "duration": 20,
    "start_time": "2022-03-01T15:05:58.089Z"
   },
   {
    "duration": 23,
    "start_time": "2022-03-01T15:06:35.883Z"
   },
   {
    "duration": 23,
    "start_time": "2022-03-01T15:07:56.070Z"
   },
   {
    "duration": 55,
    "start_time": "2022-03-01T15:15:06.595Z"
   },
   {
    "duration": 159,
    "start_time": "2022-03-01T15:15:11.599Z"
   },
   {
    "duration": 207,
    "start_time": "2022-03-01T15:15:19.311Z"
   },
   {
    "duration": 192,
    "start_time": "2022-03-01T15:15:36.602Z"
   },
   {
    "duration": 163,
    "start_time": "2022-03-01T15:17:16.702Z"
   },
   {
    "duration": 173,
    "start_time": "2022-03-01T15:17:30.738Z"
   },
   {
    "duration": 21,
    "start_time": "2022-03-01T15:18:24.951Z"
   },
   {
    "duration": 174,
    "start_time": "2022-03-01T15:26:21.904Z"
   },
   {
    "duration": 21,
    "start_time": "2022-03-01T15:26:26.407Z"
   },
   {
    "duration": 4196,
    "start_time": "2022-03-01T15:30:57.855Z"
   },
   {
    "duration": 17,
    "start_time": "2022-03-01T15:31:11.593Z"
   },
   {
    "duration": 59,
    "start_time": "2022-03-01T15:31:19.336Z"
   },
   {
    "duration": 4620,
    "start_time": "2022-03-01T15:31:25.512Z"
   },
   {
    "duration": 4169,
    "start_time": "2022-03-01T15:31:54.126Z"
   },
   {
    "duration": 3155,
    "start_time": "2022-03-01T15:32:02.952Z"
   },
   {
    "duration": 180,
    "start_time": "2022-03-01T15:32:25.227Z"
   },
   {
    "duration": 2638,
    "start_time": "2022-03-01T15:32:29.157Z"
   },
   {
    "duration": 4011,
    "start_time": "2022-03-01T15:32:55.858Z"
   },
   {
    "duration": 4326,
    "start_time": "2022-03-01T15:33:06.514Z"
   },
   {
    "duration": 4073,
    "start_time": "2022-03-01T15:33:19.500Z"
   },
   {
    "duration": 3049,
    "start_time": "2022-03-01T15:33:43.302Z"
   },
   {
    "duration": 14,
    "start_time": "2022-03-01T15:34:24.479Z"
   },
   {
    "duration": 14,
    "start_time": "2022-03-01T15:34:49.007Z"
   },
   {
    "duration": 832,
    "start_time": "2022-03-01T15:34:51.903Z"
   },
   {
    "duration": 21,
    "start_time": "2022-03-01T15:35:18.813Z"
   },
   {
    "duration": 1482,
    "start_time": "2022-03-01T15:35:22.038Z"
   },
   {
    "duration": 6236,
    "start_time": "2022-03-01T15:36:27.146Z"
   },
   {
    "duration": 14,
    "start_time": "2022-03-01T15:59:13.107Z"
   },
   {
    "duration": 5110,
    "start_time": "2022-03-01T15:59:21.234Z"
   },
   {
    "duration": 569,
    "start_time": "2022-03-01T15:59:40.979Z"
   },
   {
    "duration": 4318,
    "start_time": "2022-03-01T16:05:30.692Z"
   },
   {
    "duration": 484,
    "start_time": "2022-03-01T16:05:56.563Z"
   },
   {
    "duration": 3,
    "start_time": "2022-03-01T16:06:33.485Z"
   },
   {
    "duration": 1120,
    "start_time": "2022-03-01T16:06:37.588Z"
   },
   {
    "duration": 386,
    "start_time": "2022-03-01T16:06:38.710Z"
   },
   {
    "duration": 407,
    "start_time": "2022-03-01T16:06:39.099Z"
   },
   {
    "duration": 8,
    "start_time": "2022-03-01T16:06:39.508Z"
   },
   {
    "duration": 91,
    "start_time": "2022-03-01T16:06:39.518Z"
   },
   {
    "duration": 5,
    "start_time": "2022-03-01T16:06:39.610Z"
   },
   {
    "duration": 32,
    "start_time": "2022-03-01T16:06:39.617Z"
   },
   {
    "duration": 51,
    "start_time": "2022-03-01T16:06:39.652Z"
   },
   {
    "duration": 17,
    "start_time": "2022-03-01T16:06:39.705Z"
   },
   {
    "duration": 25,
    "start_time": "2022-03-01T16:06:39.724Z"
   },
   {
    "duration": 19,
    "start_time": "2022-03-01T16:06:39.751Z"
   },
   {
    "duration": 35,
    "start_time": "2022-03-01T16:06:39.772Z"
   },
   {
    "duration": 26,
    "start_time": "2022-03-01T16:06:39.809Z"
   },
   {
    "duration": 3,
    "start_time": "2022-03-01T16:06:39.837Z"
   },
   {
    "duration": 8,
    "start_time": "2022-03-01T16:06:39.843Z"
   },
   {
    "duration": 19,
    "start_time": "2022-03-01T16:06:39.853Z"
   },
   {
    "duration": 70,
    "start_time": "2022-03-01T16:06:39.874Z"
   },
   {
    "duration": 7,
    "start_time": "2022-03-01T16:06:39.946Z"
   },
   {
    "duration": 14,
    "start_time": "2022-03-01T16:06:39.955Z"
   },
   {
    "duration": 31,
    "start_time": "2022-03-01T16:06:39.970Z"
   },
   {
    "duration": 10,
    "start_time": "2022-03-01T16:06:40.004Z"
   },
   {
    "duration": 246,
    "start_time": "2022-03-01T16:06:40.016Z"
   },
   {
    "duration": 15,
    "start_time": "2022-03-01T16:06:40.264Z"
   },
   {
    "duration": 407,
    "start_time": "2022-03-01T16:06:40.282Z"
   },
   {
    "duration": 55,
    "start_time": "2022-03-01T16:06:40.691Z"
   },
   {
    "duration": 249,
    "start_time": "2022-03-01T17:47:14.917Z"
   },
   {
    "duration": 244,
    "start_time": "2022-03-01T18:03:11.269Z"
   },
   {
    "duration": 50,
    "start_time": "2022-03-01T18:14:40.807Z"
   },
   {
    "duration": 15,
    "start_time": "2022-03-01T18:14:59.230Z"
   },
   {
    "duration": 17,
    "start_time": "2022-03-01T18:15:14.186Z"
   },
   {
    "duration": 20,
    "start_time": "2022-03-01T18:15:20.799Z"
   },
   {
    "duration": 58,
    "start_time": "2022-03-01T18:16:00.797Z"
   },
   {
    "duration": 3,
    "start_time": "2022-03-01T18:16:05.324Z"
   },
   {
    "duration": 19,
    "start_time": "2022-03-01T18:16:18.261Z"
   },
   {
    "duration": 57,
    "start_time": "2022-03-01T18:18:32.213Z"
   },
   {
    "duration": 19,
    "start_time": "2022-03-01T18:18:45.203Z"
   },
   {
    "duration": 29,
    "start_time": "2022-03-01T18:19:52.885Z"
   },
   {
    "duration": 246,
    "start_time": "2022-03-01T18:20:12.153Z"
   },
   {
    "duration": 30,
    "start_time": "2022-03-01T18:20:27.586Z"
   },
   {
    "duration": 45,
    "start_time": "2022-03-01T18:21:10.174Z"
   },
   {
    "duration": 44,
    "start_time": "2022-03-01T18:27:27.088Z"
   },
   {
    "duration": 45,
    "start_time": "2022-03-01T18:28:16.977Z"
   },
   {
    "duration": 71,
    "start_time": "2022-03-01T18:31:10.701Z"
   },
   {
    "duration": 155,
    "start_time": "2022-03-01T18:31:13.823Z"
   },
   {
    "duration": 3,
    "start_time": "2022-03-01T18:31:21.662Z"
   },
   {
    "duration": 4,
    "start_time": "2022-03-01T18:31:45.112Z"
   },
   {
    "duration": 72,
    "start_time": "2022-03-01T18:32:47.975Z"
   },
   {
    "duration": 66,
    "start_time": "2022-03-01T18:32:54.253Z"
   },
   {
    "duration": 55,
    "start_time": "2022-03-01T18:33:07.967Z"
   },
   {
    "duration": 56,
    "start_time": "2022-03-01T18:33:15.965Z"
   },
   {
    "duration": 19,
    "start_time": "2022-03-01T18:33:27.313Z"
   },
   {
    "duration": 53,
    "start_time": "2022-03-01T18:37:42.270Z"
   },
   {
    "duration": 4,
    "start_time": "2022-03-01T18:37:45.641Z"
   },
   {
    "duration": 57,
    "start_time": "2022-03-01T18:37:55.055Z"
   },
   {
    "duration": 273,
    "start_time": "2022-03-01T18:37:59.920Z"
   },
   {
    "duration": 4,
    "start_time": "2022-03-01T18:38:21.341Z"
   },
   {
    "duration": 164,
    "start_time": "2022-03-01T18:38:38.643Z"
   },
   {
    "duration": 3,
    "start_time": "2022-03-01T18:38:49.106Z"
   },
   {
    "duration": 4,
    "start_time": "2022-03-01T18:38:58.204Z"
   },
   {
    "duration": 207,
    "start_time": "2022-03-01T18:40:39.366Z"
   },
   {
    "duration": 158,
    "start_time": "2022-03-01T18:41:33.895Z"
   },
   {
    "duration": 4376,
    "start_time": "2022-03-01T18:41:51.770Z"
   },
   {
    "duration": 4016,
    "start_time": "2022-03-01T18:42:58.378Z"
   },
   {
    "duration": 268,
    "start_time": "2022-03-01T18:44:12.378Z"
   },
   {
    "duration": 3,
    "start_time": "2022-03-01T18:46:13.651Z"
   },
   {
    "duration": 20,
    "start_time": "2022-03-01T18:52:55.546Z"
   },
   {
    "duration": 20,
    "start_time": "2022-03-01T19:04:08.683Z"
   },
   {
    "duration": 1109,
    "start_time": "2022-03-01T19:04:15.531Z"
   },
   {
    "duration": 403,
    "start_time": "2022-03-01T19:04:16.642Z"
   },
   {
    "duration": 556,
    "start_time": "2022-03-01T19:04:17.047Z"
   },
   {
    "duration": 9,
    "start_time": "2022-03-01T19:04:17.606Z"
   },
   {
    "duration": 202,
    "start_time": "2022-03-01T19:04:17.618Z"
   },
   {
    "duration": 5,
    "start_time": "2022-03-01T19:04:17.822Z"
   },
   {
    "duration": 79,
    "start_time": "2022-03-01T19:04:17.830Z"
   },
   {
    "duration": 88,
    "start_time": "2022-03-01T19:04:17.913Z"
   },
   {
    "duration": 17,
    "start_time": "2022-03-01T19:04:18.003Z"
   },
   {
    "duration": 84,
    "start_time": "2022-03-01T19:04:18.022Z"
   },
   {
    "duration": 20,
    "start_time": "2022-03-01T19:04:18.107Z"
   },
   {
    "duration": 12,
    "start_time": "2022-03-01T19:04:18.128Z"
   },
   {
    "duration": 61,
    "start_time": "2022-03-01T19:04:18.142Z"
   },
   {
    "duration": 4,
    "start_time": "2022-03-01T19:04:18.205Z"
   },
   {
    "duration": 20,
    "start_time": "2022-03-01T19:04:18.210Z"
   },
   {
    "duration": 40,
    "start_time": "2022-03-01T19:04:18.231Z"
   },
   {
    "duration": 68,
    "start_time": "2022-03-01T19:04:18.273Z"
   },
   {
    "duration": 8,
    "start_time": "2022-03-01T19:04:18.344Z"
   },
   {
    "duration": 14,
    "start_time": "2022-03-01T19:04:18.355Z"
   },
   {
    "duration": 30,
    "start_time": "2022-03-01T19:04:18.371Z"
   },
   {
    "duration": 9,
    "start_time": "2022-03-01T19:04:18.403Z"
   },
   {
    "duration": 260,
    "start_time": "2022-03-01T19:04:18.414Z"
   },
   {
    "duration": 28,
    "start_time": "2022-03-01T19:04:18.678Z"
   },
   {
    "duration": 2,
    "start_time": "2022-03-01T19:04:18.708Z"
   },
   {
    "duration": 31,
    "start_time": "2022-03-01T19:04:18.712Z"
   },
   {
    "duration": 86,
    "start_time": "2022-03-01T19:04:18.745Z"
   },
   {
    "duration": 20,
    "start_time": "2022-03-01T19:04:47.611Z"
   },
   {
    "duration": 4043,
    "start_time": "2022-03-01T19:17:49.947Z"
   },
   {
    "duration": 4143,
    "start_time": "2022-03-01T19:18:02.899Z"
   },
   {
    "duration": 58,
    "start_time": "2022-03-01T19:19:09.601Z"
   },
   {
    "duration": 4255,
    "start_time": "2022-03-01T19:19:14.112Z"
   },
   {
    "duration": 348,
    "start_time": "2022-03-01T19:20:00.160Z"
   },
   {
    "duration": 4039,
    "start_time": "2022-03-01T20:20:57.736Z"
   },
   {
    "duration": 259,
    "start_time": "2022-03-01T20:21:15.908Z"
   },
   {
    "duration": 350,
    "start_time": "2022-03-01T20:21:31.063Z"
   },
   {
    "duration": 246,
    "start_time": "2022-03-01T20:21:52.875Z"
   },
   {
    "duration": 246,
    "start_time": "2022-03-01T20:22:17.059Z"
   },
   {
    "duration": 240,
    "start_time": "2022-03-01T20:22:36.446Z"
   },
   {
    "duration": 56,
    "start_time": "2022-03-01T20:23:26.922Z"
   },
   {
    "duration": 445,
    "start_time": "2022-03-01T20:23:34.140Z"
   },
   {
    "duration": 187,
    "start_time": "2022-03-01T20:51:10.771Z"
   },
   {
    "duration": 493,
    "start_time": "2022-03-01T20:51:29.847Z"
   },
   {
    "duration": 62,
    "start_time": "2022-03-01T20:53:05.499Z"
   },
   {
    "duration": 165,
    "start_time": "2022-03-01T20:54:19.737Z"
   },
   {
    "duration": 205,
    "start_time": "2022-03-01T20:54:28.148Z"
   },
   {
    "duration": 156,
    "start_time": "2022-03-01T21:01:46.741Z"
   },
   {
    "duration": 21,
    "start_time": "2022-03-01T21:02:04.197Z"
   },
   {
    "duration": 163,
    "start_time": "2022-03-01T21:15:08.884Z"
   },
   {
    "duration": 356,
    "start_time": "2022-03-01T21:15:15.386Z"
   },
   {
    "duration": 327,
    "start_time": "2022-03-01T21:16:52.713Z"
   },
   {
    "duration": 213,
    "start_time": "2022-03-01T21:17:08.207Z"
   },
   {
    "duration": 258,
    "start_time": "2022-03-01T21:17:43.593Z"
   },
   {
    "duration": 259,
    "start_time": "2022-03-01T21:18:11.494Z"
   },
   {
    "duration": 274,
    "start_time": "2022-03-01T21:18:38.416Z"
   },
   {
    "duration": 58,
    "start_time": "2022-03-01T21:19:01.919Z"
   },
   {
    "duration": 263,
    "start_time": "2022-03-01T21:19:05.490Z"
   },
   {
    "duration": 401,
    "start_time": "2022-03-01T21:19:44.737Z"
   },
   {
    "duration": 341,
    "start_time": "2022-03-01T21:21:23.174Z"
   },
   {
    "duration": 285,
    "start_time": "2022-03-01T21:21:29.639Z"
   },
   {
    "duration": 268,
    "start_time": "2022-03-01T21:21:33.081Z"
   },
   {
    "duration": 317,
    "start_time": "2022-03-01T21:21:42.602Z"
   },
   {
    "duration": 179,
    "start_time": "2022-03-01T22:25:32.513Z"
   },
   {
    "duration": 169,
    "start_time": "2022-03-01T22:25:40.192Z"
   },
   {
    "duration": 5,
    "start_time": "2022-03-01T22:26:09.294Z"
   },
   {
    "duration": 170,
    "start_time": "2022-03-01T22:26:19.111Z"
   },
   {
    "duration": 5,
    "start_time": "2022-03-01T22:28:03.088Z"
   },
   {
    "duration": 12,
    "start_time": "2022-03-01T22:28:09.032Z"
   },
   {
    "duration": 8,
    "start_time": "2022-03-01T22:28:39.299Z"
   },
   {
    "duration": 7,
    "start_time": "2022-03-01T22:28:50.781Z"
   },
   {
    "duration": 13,
    "start_time": "2022-03-01T22:29:02.923Z"
   },
   {
    "duration": 10,
    "start_time": "2022-03-01T22:29:39.817Z"
   },
   {
    "duration": 11,
    "start_time": "2022-03-01T22:31:01.830Z"
   },
   {
    "duration": 11,
    "start_time": "2022-03-01T22:31:11.002Z"
   },
   {
    "duration": 189,
    "start_time": "2022-03-01T22:31:22.901Z"
   },
   {
    "duration": 178,
    "start_time": "2022-03-01T22:31:31.303Z"
   },
   {
    "duration": 165,
    "start_time": "2022-03-01T22:31:37.648Z"
   },
   {
    "duration": 9,
    "start_time": "2022-03-01T22:31:43.528Z"
   },
   {
    "duration": 168,
    "start_time": "2022-03-01T22:31:59.056Z"
   },
   {
    "duration": 156,
    "start_time": "2022-03-01T22:32:26.865Z"
   },
   {
    "duration": 179,
    "start_time": "2022-03-01T22:32:30.535Z"
   },
   {
    "duration": 10,
    "start_time": "2022-03-01T22:32:58.296Z"
   },
   {
    "duration": 9,
    "start_time": "2022-03-01T22:33:06.514Z"
   },
   {
    "duration": 11,
    "start_time": "2022-03-01T22:33:23.836Z"
   },
   {
    "duration": 9,
    "start_time": "2022-03-01T22:33:27.176Z"
   },
   {
    "duration": 168,
    "start_time": "2022-03-01T22:33:34.390Z"
   },
   {
    "duration": 10,
    "start_time": "2022-03-01T22:33:38.035Z"
   },
   {
    "duration": 11,
    "start_time": "2022-03-01T22:33:58.970Z"
   },
   {
    "duration": 12,
    "start_time": "2022-03-01T22:34:32.474Z"
   },
   {
    "duration": 7,
    "start_time": "2022-03-01T22:34:37.372Z"
   },
   {
    "duration": 6,
    "start_time": "2022-03-01T22:37:12.383Z"
   },
   {
    "duration": 8,
    "start_time": "2022-03-01T22:40:42.982Z"
   },
   {
    "duration": 8,
    "start_time": "2022-03-01T22:40:49.163Z"
   },
   {
    "duration": 66,
    "start_time": "2022-03-01T22:42:01.211Z"
   },
   {
    "duration": 66,
    "start_time": "2022-03-01T22:42:31.250Z"
   },
   {
    "duration": 10,
    "start_time": "2022-03-01T22:42:35.908Z"
   },
   {
    "duration": 8,
    "start_time": "2022-03-01T22:42:55.450Z"
   },
   {
    "duration": 7,
    "start_time": "2022-03-01T22:43:33.983Z"
   },
   {
    "duration": 10,
    "start_time": "2022-03-01T22:44:09.198Z"
   },
   {
    "duration": 11,
    "start_time": "2022-03-01T22:44:18.148Z"
   },
   {
    "duration": 172,
    "start_time": "2022-03-01T22:44:36.470Z"
   },
   {
    "duration": 11,
    "start_time": "2022-03-01T22:44:44.201Z"
   },
   {
    "duration": 12,
    "start_time": "2022-03-01T22:45:24.841Z"
   },
   {
    "duration": 14,
    "start_time": "2022-03-01T22:45:30.310Z"
   },
   {
    "duration": 19,
    "start_time": "2022-03-01T22:45:46.759Z"
   },
   {
    "duration": 22,
    "start_time": "2022-03-01T22:46:09.481Z"
   },
   {
    "duration": 13,
    "start_time": "2022-03-01T22:46:15.379Z"
   },
   {
    "duration": 9,
    "start_time": "2022-03-01T22:46:35.319Z"
   },
   {
    "duration": 8,
    "start_time": "2022-03-01T22:47:07.572Z"
   },
   {
    "duration": 6,
    "start_time": "2022-03-01T22:47:08.619Z"
   },
   {
    "duration": 9,
    "start_time": "2022-03-01T22:47:32.814Z"
   },
   {
    "duration": 6,
    "start_time": "2022-03-01T22:47:33.759Z"
   },
   {
    "duration": 10,
    "start_time": "2022-03-01T22:47:42.129Z"
   },
   {
    "duration": 10,
    "start_time": "2022-03-01T22:47:50.173Z"
   },
   {
    "duration": 6,
    "start_time": "2022-03-01T22:48:32.348Z"
   },
   {
    "duration": 8,
    "start_time": "2022-03-01T22:49:56.122Z"
   },
   {
    "duration": 8,
    "start_time": "2022-03-01T22:50:06.644Z"
   },
   {
    "duration": 9,
    "start_time": "2022-03-01T22:50:17.753Z"
   },
   {
    "duration": 9,
    "start_time": "2022-03-01T22:50:31.820Z"
   },
   {
    "duration": 6,
    "start_time": "2022-03-01T22:50:52.256Z"
   },
   {
    "duration": 6,
    "start_time": "2022-03-01T22:51:06.003Z"
   },
   {
    "duration": 5,
    "start_time": "2022-03-01T22:52:41.306Z"
   },
   {
    "duration": 1039,
    "start_time": "2022-03-01T22:52:52.346Z"
   },
   {
    "duration": 416,
    "start_time": "2022-03-01T22:52:53.387Z"
   },
   {
    "duration": 408,
    "start_time": "2022-03-01T22:52:53.805Z"
   },
   {
    "duration": 7,
    "start_time": "2022-03-01T22:52:54.215Z"
   },
   {
    "duration": 96,
    "start_time": "2022-03-01T22:52:54.224Z"
   },
   {
    "duration": 5,
    "start_time": "2022-03-01T22:52:54.321Z"
   },
   {
    "duration": 30,
    "start_time": "2022-03-01T22:52:54.328Z"
   },
   {
    "duration": 47,
    "start_time": "2022-03-01T22:52:54.362Z"
   },
   {
    "duration": 16,
    "start_time": "2022-03-01T22:52:54.412Z"
   },
   {
    "duration": 26,
    "start_time": "2022-03-01T22:52:54.430Z"
   },
   {
    "duration": 19,
    "start_time": "2022-03-01T22:52:54.458Z"
   },
   {
    "duration": 8,
    "start_time": "2022-03-01T22:52:54.502Z"
   },
   {
    "duration": 25,
    "start_time": "2022-03-01T22:52:54.512Z"
   },
   {
    "duration": 4,
    "start_time": "2022-03-01T22:52:54.538Z"
   },
   {
    "duration": 9,
    "start_time": "2022-03-01T22:52:54.543Z"
   },
   {
    "duration": 15,
    "start_time": "2022-03-01T22:52:54.554Z"
   },
   {
    "duration": 72,
    "start_time": "2022-03-01T22:52:54.571Z"
   },
   {
    "duration": 8,
    "start_time": "2022-03-01T22:52:54.646Z"
   },
   {
    "duration": 14,
    "start_time": "2022-03-01T22:52:54.657Z"
   },
   {
    "duration": 7,
    "start_time": "2022-03-01T22:52:54.701Z"
   },
   {
    "duration": 7,
    "start_time": "2022-03-01T22:52:54.710Z"
   },
   {
    "duration": 237,
    "start_time": "2022-03-01T22:52:54.719Z"
   },
   {
    "duration": 23,
    "start_time": "2022-03-01T22:52:54.959Z"
   },
   {
    "duration": 22,
    "start_time": "2022-03-01T22:52:54.984Z"
   },
   {
    "duration": 11,
    "start_time": "2022-03-01T22:52:55.008Z"
   },
   {
    "duration": 12,
    "start_time": "2022-03-01T22:54:19.294Z"
   },
   {
    "duration": 11,
    "start_time": "2022-03-01T22:54:39.967Z"
   },
   {
    "duration": 6,
    "start_time": "2022-03-01T22:54:42.056Z"
   },
   {
    "duration": 11,
    "start_time": "2022-03-01T22:54:47.046Z"
   },
   {
    "duration": 6,
    "start_time": "2022-03-01T22:54:47.725Z"
   },
   {
    "duration": 6,
    "start_time": "2022-03-01T22:55:09.584Z"
   },
   {
    "duration": 909,
    "start_time": "2022-03-03T16:48:39.439Z"
   },
   {
    "duration": 372,
    "start_time": "2022-03-03T16:48:40.350Z"
   },
   {
    "duration": 303,
    "start_time": "2022-03-03T16:48:40.724Z"
   },
   {
    "duration": 6,
    "start_time": "2022-03-03T16:48:41.029Z"
   },
   {
    "duration": 80,
    "start_time": "2022-03-03T16:48:41.036Z"
   },
   {
    "duration": 4,
    "start_time": "2022-03-03T16:48:41.117Z"
   },
   {
    "duration": 20,
    "start_time": "2022-03-03T16:48:41.122Z"
   },
   {
    "duration": 28,
    "start_time": "2022-03-03T16:48:41.144Z"
   },
   {
    "duration": 32,
    "start_time": "2022-03-03T16:48:41.173Z"
   },
   {
    "duration": 19,
    "start_time": "2022-03-03T16:48:41.206Z"
   },
   {
    "duration": 15,
    "start_time": "2022-03-03T16:48:41.226Z"
   },
   {
    "duration": 6,
    "start_time": "2022-03-03T16:48:41.242Z"
   },
   {
    "duration": 19,
    "start_time": "2022-03-03T16:48:41.249Z"
   },
   {
    "duration": 3,
    "start_time": "2022-03-03T16:48:41.269Z"
   },
   {
    "duration": 7,
    "start_time": "2022-03-03T16:48:41.273Z"
   },
   {
    "duration": 32,
    "start_time": "2022-03-03T16:48:41.281Z"
   },
   {
    "duration": 38,
    "start_time": "2022-03-03T16:48:41.315Z"
   },
   {
    "duration": 5,
    "start_time": "2022-03-03T16:48:41.355Z"
   },
   {
    "duration": 11,
    "start_time": "2022-03-03T16:48:41.361Z"
   },
   {
    "duration": 8,
    "start_time": "2022-03-03T16:48:41.374Z"
   },
   {
    "duration": 7,
    "start_time": "2022-03-03T16:48:41.383Z"
   },
   {
    "duration": 202,
    "start_time": "2022-03-03T16:48:41.391Z"
   },
   {
    "duration": 20,
    "start_time": "2022-03-03T16:48:41.596Z"
   },
   {
    "duration": 8,
    "start_time": "2022-03-03T16:48:41.617Z"
   },
   {
    "duration": 6,
    "start_time": "2022-03-03T16:48:41.626Z"
   },
   {
    "duration": 8,
    "start_time": "2022-03-03T16:50:37.322Z"
   },
   {
    "duration": 10,
    "start_time": "2022-03-03T16:53:19.384Z"
   },
   {
    "duration": 4,
    "start_time": "2022-03-03T16:53:22.532Z"
   },
   {
    "duration": 16,
    "start_time": "2022-03-03T16:53:50.204Z"
   },
   {
    "duration": 6,
    "start_time": "2022-03-03T16:53:55.979Z"
   },
   {
    "duration": 10,
    "start_time": "2022-03-03T16:56:12.028Z"
   },
   {
    "duration": 5,
    "start_time": "2022-03-03T16:56:13.647Z"
   },
   {
    "duration": 12,
    "start_time": "2022-03-03T16:57:10.336Z"
   },
   {
    "duration": 6,
    "start_time": "2022-03-03T16:57:16.473Z"
   },
   {
    "duration": 6,
    "start_time": "2022-03-03T16:57:23.544Z"
   },
   {
    "duration": 10,
    "start_time": "2022-03-03T16:57:31.554Z"
   },
   {
    "duration": 13,
    "start_time": "2022-03-03T16:57:44.317Z"
   },
   {
    "duration": 14,
    "start_time": "2022-03-03T16:58:11.418Z"
   },
   {
    "duration": 11,
    "start_time": "2022-03-03T16:58:19.609Z"
   },
   {
    "duration": 7,
    "start_time": "2022-03-03T16:58:25.678Z"
   },
   {
    "duration": 5,
    "start_time": "2022-03-03T17:32:41.506Z"
   },
   {
    "duration": 5,
    "start_time": "2022-03-03T17:32:51.995Z"
   },
   {
    "duration": 82,
    "start_time": "2022-03-03T17:35:48.031Z"
   },
   {
    "duration": 7,
    "start_time": "2022-03-03T18:13:16.963Z"
   },
   {
    "duration": 10,
    "start_time": "2022-03-03T18:13:24.657Z"
   },
   {
    "duration": 9,
    "start_time": "2022-03-03T18:14:18.078Z"
   },
   {
    "duration": 344,
    "start_time": "2022-03-03T18:14:22.403Z"
   },
   {
    "duration": 9,
    "start_time": "2022-03-03T18:14:27.185Z"
   },
   {
    "duration": 9,
    "start_time": "2022-03-03T18:14:36.582Z"
   },
   {
    "duration": 9,
    "start_time": "2022-03-03T18:15:11.571Z"
   },
   {
    "duration": 9,
    "start_time": "2022-03-03T18:15:17.232Z"
   },
   {
    "duration": 8,
    "start_time": "2022-03-03T18:15:59.424Z"
   },
   {
    "duration": 6,
    "start_time": "2022-03-03T18:19:25.572Z"
   },
   {
    "duration": 158,
    "start_time": "2022-03-03T19:03:28.756Z"
   },
   {
    "duration": 284,
    "start_time": "2022-03-03T19:03:43.833Z"
   },
   {
    "duration": 7,
    "start_time": "2022-03-03T19:10:29.461Z"
   },
   {
    "duration": 955,
    "start_time": "2022-03-03T19:10:35.024Z"
   },
   {
    "duration": 362,
    "start_time": "2022-03-03T19:10:35.981Z"
   },
   {
    "duration": 304,
    "start_time": "2022-03-03T19:10:36.344Z"
   },
   {
    "duration": 5,
    "start_time": "2022-03-03T19:10:36.650Z"
   },
   {
    "duration": 80,
    "start_time": "2022-03-03T19:10:36.657Z"
   },
   {
    "duration": 4,
    "start_time": "2022-03-03T19:10:36.738Z"
   },
   {
    "duration": 23,
    "start_time": "2022-03-03T19:10:36.743Z"
   },
   {
    "duration": 38,
    "start_time": "2022-03-03T19:10:36.768Z"
   },
   {
    "duration": 13,
    "start_time": "2022-03-03T19:10:36.808Z"
   },
   {
    "duration": 19,
    "start_time": "2022-03-03T19:10:36.822Z"
   },
   {
    "duration": 15,
    "start_time": "2022-03-03T19:10:36.842Z"
   },
   {
    "duration": 6,
    "start_time": "2022-03-03T19:10:36.859Z"
   },
   {
    "duration": 40,
    "start_time": "2022-03-03T19:10:36.867Z"
   },
   {
    "duration": 3,
    "start_time": "2022-03-03T19:10:36.908Z"
   },
   {
    "duration": 14,
    "start_time": "2022-03-03T19:10:36.912Z"
   },
   {
    "duration": 15,
    "start_time": "2022-03-03T19:10:36.928Z"
   },
   {
    "duration": 39,
    "start_time": "2022-03-03T19:10:36.944Z"
   },
   {
    "duration": 5,
    "start_time": "2022-03-03T19:10:36.985Z"
   },
   {
    "duration": 18,
    "start_time": "2022-03-03T19:10:36.992Z"
   },
   {
    "duration": 6,
    "start_time": "2022-03-03T19:10:37.012Z"
   },
   {
    "duration": 6,
    "start_time": "2022-03-03T19:10:37.019Z"
   },
   {
    "duration": 201,
    "start_time": "2022-03-03T19:10:37.027Z"
   },
   {
    "duration": 16,
    "start_time": "2022-03-03T19:10:37.230Z"
   },
   {
    "duration": 6,
    "start_time": "2022-03-03T19:10:37.248Z"
   },
   {
    "duration": 6,
    "start_time": "2022-03-03T19:10:37.256Z"
   },
   {
    "duration": 7,
    "start_time": "2022-03-03T19:10:37.263Z"
   },
   {
    "duration": 10,
    "start_time": "2022-03-03T19:10:37.271Z"
   },
   {
    "duration": 92,
    "start_time": "2022-03-03T19:15:14.047Z"
   },
   {
    "duration": 516,
    "start_time": "2022-03-03T19:15:30.327Z"
   },
   {
    "duration": 563,
    "start_time": "2022-03-03T19:16:04.725Z"
   },
   {
    "duration": 507,
    "start_time": "2022-03-03T19:16:52.271Z"
   },
   {
    "duration": 604,
    "start_time": "2022-03-03T19:16:58.791Z"
   },
   {
    "duration": 309,
    "start_time": "2022-03-03T19:24:53.858Z"
   },
   {
    "duration": 6055,
    "start_time": "2022-03-03T19:25:12.059Z"
   },
   {
    "duration": 517,
    "start_time": "2022-03-03T19:25:20.328Z"
   },
   {
    "duration": 1738,
    "start_time": "2022-03-03T19:25:42.656Z"
   },
   {
    "duration": 304,
    "start_time": "2022-03-03T19:25:52.937Z"
   },
   {
    "duration": 78,
    "start_time": "2022-03-03T19:26:12.004Z"
   },
   {
    "duration": 166,
    "start_time": "2022-03-03T19:26:14.578Z"
   },
   {
    "duration": 174,
    "start_time": "2022-03-03T19:26:20.432Z"
   },
   {
    "duration": 157,
    "start_time": "2022-03-03T19:28:27.083Z"
   },
   {
    "duration": 260,
    "start_time": "2022-03-03T19:32:33.301Z"
   },
   {
    "duration": 329,
    "start_time": "2022-03-03T19:34:10.959Z"
   },
   {
    "duration": 502,
    "start_time": "2022-03-03T19:34:54.554Z"
   },
   {
    "duration": 512,
    "start_time": "2022-03-03T19:35:26.408Z"
   },
   {
    "duration": 603,
    "start_time": "2022-03-03T19:35:36.132Z"
   },
   {
    "duration": 502,
    "start_time": "2022-03-03T19:35:50.301Z"
   },
   {
    "duration": 496,
    "start_time": "2022-03-03T19:35:55.345Z"
   },
   {
    "duration": 512,
    "start_time": "2022-03-03T19:36:56.589Z"
   },
   {
    "duration": 6,
    "start_time": "2022-03-03T19:38:31.262Z"
   },
   {
    "duration": 612,
    "start_time": "2022-03-03T19:38:55.395Z"
   },
   {
    "duration": 137,
    "start_time": "2022-03-03T20:17:51.330Z"
   },
   {
    "duration": 75,
    "start_time": "2022-03-03T20:20:29.546Z"
   },
   {
    "duration": 92,
    "start_time": "2022-03-03T20:20:46.922Z"
   },
   {
    "duration": 77,
    "start_time": "2022-03-03T20:20:56.427Z"
   },
   {
    "duration": 72,
    "start_time": "2022-03-03T20:21:10.276Z"
   },
   {
    "duration": 5,
    "start_time": "2022-03-03T20:21:39.745Z"
   },
   {
    "duration": 5,
    "start_time": "2022-03-03T20:22:15.718Z"
   },
   {
    "duration": 6,
    "start_time": "2022-03-03T20:22:18.189Z"
   },
   {
    "duration": 6,
    "start_time": "2022-03-03T20:22:27.204Z"
   },
   {
    "duration": 8,
    "start_time": "2022-03-03T20:22:30.998Z"
   },
   {
    "duration": 7,
    "start_time": "2022-03-03T20:23:07.814Z"
   },
   {
    "duration": 8,
    "start_time": "2022-03-03T20:23:20.578Z"
   },
   {
    "duration": 454,
    "start_time": "2022-03-03T20:30:18.518Z"
   },
   {
    "duration": 21655,
    "start_time": "2022-03-03T20:30:45.080Z"
   },
   {
    "duration": 18930,
    "start_time": "2022-03-03T20:31:30.576Z"
   },
   {
    "duration": 1060,
    "start_time": "2022-03-03T20:32:00.607Z"
   },
   {
    "duration": 417,
    "start_time": "2022-03-03T20:32:01.668Z"
   },
   {
    "duration": 340,
    "start_time": "2022-03-03T20:32:02.087Z"
   },
   {
    "duration": 5,
    "start_time": "2022-03-03T20:32:02.429Z"
   },
   {
    "duration": 90,
    "start_time": "2022-03-03T20:32:02.436Z"
   },
   {
    "duration": 5,
    "start_time": "2022-03-03T20:32:02.527Z"
   },
   {
    "duration": 22,
    "start_time": "2022-03-03T20:32:02.533Z"
   },
   {
    "duration": 30,
    "start_time": "2022-03-03T20:32:02.558Z"
   },
   {
    "duration": 30,
    "start_time": "2022-03-03T20:32:02.590Z"
   },
   {
    "duration": 20,
    "start_time": "2022-03-03T20:32:02.621Z"
   },
   {
    "duration": 15,
    "start_time": "2022-03-03T20:32:02.642Z"
   },
   {
    "duration": 6,
    "start_time": "2022-03-03T20:32:02.658Z"
   },
   {
    "duration": 43,
    "start_time": "2022-03-03T20:32:02.666Z"
   },
   {
    "duration": 3,
    "start_time": "2022-03-03T20:32:02.711Z"
   },
   {
    "duration": 6,
    "start_time": "2022-03-03T20:32:02.715Z"
   },
   {
    "duration": 10,
    "start_time": "2022-03-03T20:32:02.722Z"
   },
   {
    "duration": 38,
    "start_time": "2022-03-03T20:32:02.733Z"
   },
   {
    "duration": 6,
    "start_time": "2022-03-03T20:32:02.772Z"
   },
   {
    "duration": 31,
    "start_time": "2022-03-03T20:32:02.779Z"
   },
   {
    "duration": 6,
    "start_time": "2022-03-03T20:32:02.812Z"
   },
   {
    "duration": 4,
    "start_time": "2022-03-03T20:32:02.819Z"
   },
   {
    "duration": 207,
    "start_time": "2022-03-03T20:32:02.825Z"
   },
   {
    "duration": 15,
    "start_time": "2022-03-03T20:32:03.035Z"
   },
   {
    "duration": 154,
    "start_time": "2022-03-03T20:32:03.051Z"
   },
   {
    "duration": 6,
    "start_time": "2022-03-03T20:32:03.206Z"
   },
   {
    "duration": 19752,
    "start_time": "2022-03-03T20:32:03.213Z"
   },
   {
    "duration": 542,
    "start_time": "2022-03-03T20:32:22.967Z"
   },
   {
    "duration": 7,
    "start_time": "2022-03-03T20:32:23.511Z"
   },
   {
    "duration": 8,
    "start_time": "2022-03-03T20:32:23.520Z"
   },
   {
    "duration": 7,
    "start_time": "2022-03-03T20:32:23.530Z"
   },
   {
    "duration": 9,
    "start_time": "2022-03-03T20:32:23.539Z"
   },
   {
    "duration": 10,
    "start_time": "2022-03-03T20:33:05.340Z"
   },
   {
    "duration": 229,
    "start_time": "2022-03-03T20:33:14.939Z"
   },
   {
    "duration": 78,
    "start_time": "2022-03-03T20:42:28.625Z"
   },
   {
    "duration": 223,
    "start_time": "2022-03-03T20:42:48.631Z"
   },
   {
    "duration": 220,
    "start_time": "2022-03-03T20:43:37.209Z"
   },
   {
    "duration": 341,
    "start_time": "2022-03-03T20:44:00.106Z"
   },
   {
    "duration": 690,
    "start_time": "2022-03-03T20:47:10.456Z"
   },
   {
    "duration": 501,
    "start_time": "2022-03-03T20:50:39.506Z"
   },
   {
    "duration": 427,
    "start_time": "2022-03-03T20:52:35.297Z"
   },
   {
    "duration": 511,
    "start_time": "2022-03-03T20:53:01.055Z"
   },
   {
    "duration": 191,
    "start_time": "2022-03-03T20:53:47.822Z"
   },
   {
    "duration": 191,
    "start_time": "2022-03-03T20:54:15.873Z"
   },
   {
    "duration": 74,
    "start_time": "2022-03-03T20:55:10.323Z"
   },
   {
    "duration": 79,
    "start_time": "2022-03-03T20:55:47.047Z"
   },
   {
    "duration": 89,
    "start_time": "2022-03-03T20:56:05.105Z"
   },
   {
    "duration": 383,
    "start_time": "2022-03-03T20:56:12.934Z"
   },
   {
    "duration": 4191,
    "start_time": "2022-03-03T20:57:41.686Z"
   },
   {
    "duration": 409,
    "start_time": "2022-03-03T20:58:09.407Z"
   },
   {
    "duration": 494,
    "start_time": "2022-03-03T20:58:25.630Z"
   },
   {
    "duration": 501,
    "start_time": "2022-03-03T20:59:50.356Z"
   },
   {
    "duration": 849,
    "start_time": "2022-03-03T21:00:27.233Z"
   },
   {
    "duration": 362,
    "start_time": "2022-03-03T21:00:50.750Z"
   },
   {
    "duration": 735,
    "start_time": "2022-03-03T21:02:13.556Z"
   },
   {
    "duration": 498,
    "start_time": "2022-03-03T21:02:53.114Z"
   },
   {
    "duration": 563,
    "start_time": "2022-03-03T21:03:24.037Z"
   },
   {
    "duration": 507,
    "start_time": "2022-03-03T21:03:31.521Z"
   },
   {
    "duration": 211,
    "start_time": "2022-03-03T21:06:01.559Z"
   },
   {
    "duration": 183,
    "start_time": "2022-03-03T21:06:18.741Z"
   },
   {
    "duration": 180,
    "start_time": "2022-03-03T21:06:29.713Z"
   },
   {
    "duration": 342,
    "start_time": "2022-03-03T21:06:44.965Z"
   },
   {
    "duration": 326,
    "start_time": "2022-03-03T21:07:49.220Z"
   },
   {
    "duration": 339,
    "start_time": "2022-03-03T21:08:44.042Z"
   },
   {
    "duration": 709,
    "start_time": "2022-03-03T21:09:01.988Z"
   },
   {
    "duration": 343,
    "start_time": "2022-03-03T21:09:08.286Z"
   },
   {
    "duration": 381,
    "start_time": "2022-03-03T21:09:19.305Z"
   },
   {
    "duration": 381,
    "start_time": "2022-03-03T21:10:04.570Z"
   },
   {
    "duration": 469,
    "start_time": "2022-03-03T21:10:15.987Z"
   },
   {
    "duration": 459,
    "start_time": "2022-03-03T21:10:30.150Z"
   },
   {
    "duration": 383,
    "start_time": "2022-03-03T21:10:53.291Z"
   },
   {
    "duration": 388,
    "start_time": "2022-03-03T21:10:58.960Z"
   },
   {
    "duration": 396,
    "start_time": "2022-03-03T21:11:05.341Z"
   },
   {
    "duration": 386,
    "start_time": "2022-03-03T21:11:15.248Z"
   },
   {
    "duration": 383,
    "start_time": "2022-03-03T21:11:21.471Z"
   },
   {
    "duration": 374,
    "start_time": "2022-03-03T21:11:26.014Z"
   },
   {
    "duration": 489,
    "start_time": "2022-03-03T21:11:30.985Z"
   },
   {
    "duration": 720,
    "start_time": "2022-03-03T21:11:41.894Z"
   },
   {
    "duration": 381,
    "start_time": "2022-03-03T21:11:56.187Z"
   },
   {
    "duration": 384,
    "start_time": "2022-03-03T21:16:18.623Z"
   },
   {
    "duration": 381,
    "start_time": "2022-03-03T21:16:28.110Z"
   },
   {
    "duration": 18,
    "start_time": "2022-03-03T21:26:08.098Z"
   },
   {
    "duration": 6,
    "start_time": "2022-03-03T21:26:37.173Z"
   },
   {
    "duration": 373,
    "start_time": "2022-03-03T21:27:09.573Z"
   },
   {
    "duration": 947,
    "start_time": "2022-03-03T21:29:20.327Z"
   },
   {
    "duration": 3590,
    "start_time": "2022-03-03T21:29:21.276Z"
   },
   {
    "duration": 345,
    "start_time": "2022-03-03T21:29:24.868Z"
   },
   {
    "duration": 8,
    "start_time": "2022-03-03T21:29:25.215Z"
   },
   {
    "duration": 60,
    "start_time": "2022-03-03T21:29:25.225Z"
   },
   {
    "duration": 21,
    "start_time": "2022-03-03T21:29:25.286Z"
   },
   {
    "duration": 22,
    "start_time": "2022-03-03T21:29:25.309Z"
   },
   {
    "duration": 28,
    "start_time": "2022-03-03T21:29:25.333Z"
   },
   {
    "duration": 13,
    "start_time": "2022-03-03T21:29:25.363Z"
   },
   {
    "duration": 54,
    "start_time": "2022-03-03T21:29:25.377Z"
   },
   {
    "duration": 16,
    "start_time": "2022-03-03T21:29:25.432Z"
   },
   {
    "duration": 10,
    "start_time": "2022-03-03T21:29:25.450Z"
   },
   {
    "duration": 20,
    "start_time": "2022-03-03T21:29:25.461Z"
   },
   {
    "duration": 3,
    "start_time": "2022-03-03T21:29:25.482Z"
   },
   {
    "duration": 21,
    "start_time": "2022-03-03T21:29:25.486Z"
   },
   {
    "duration": 23,
    "start_time": "2022-03-03T21:29:25.509Z"
   },
   {
    "duration": 38,
    "start_time": "2022-03-03T21:29:25.533Z"
   },
   {
    "duration": 5,
    "start_time": "2022-03-03T21:29:25.572Z"
   },
   {
    "duration": 10,
    "start_time": "2022-03-03T21:29:25.579Z"
   },
   {
    "duration": 18,
    "start_time": "2022-03-03T21:29:25.590Z"
   },
   {
    "duration": 15,
    "start_time": "2022-03-03T21:29:25.610Z"
   },
   {
    "duration": 207,
    "start_time": "2022-03-03T21:29:25.626Z"
   },
   {
    "duration": 15,
    "start_time": "2022-03-03T21:29:25.835Z"
   },
   {
    "duration": 4,
    "start_time": "2022-03-03T21:29:25.852Z"
   },
   {
    "duration": 435,
    "start_time": "2022-03-03T21:29:25.858Z"
   },
   {
    "duration": 12,
    "start_time": "2022-03-03T21:29:26.295Z"
   },
   {
    "duration": 413,
    "start_time": "2022-03-03T21:29:26.308Z"
   },
   {
    "duration": 8,
    "start_time": "2022-03-03T21:29:26.723Z"
   },
   {
    "duration": 6,
    "start_time": "2022-03-03T21:29:26.733Z"
   },
   {
    "duration": 6,
    "start_time": "2022-03-03T21:29:26.740Z"
   },
   {
    "duration": 7,
    "start_time": "2022-03-03T21:29:26.747Z"
   },
   {
    "duration": 240,
    "start_time": "2022-03-03T22:06:28.659Z"
   },
   {
    "duration": 275,
    "start_time": "2022-03-03T22:06:40.250Z"
   },
   {
    "duration": 379,
    "start_time": "2022-03-03T22:06:52.573Z"
   },
   {
    "duration": 426,
    "start_time": "2022-03-03T22:07:04.848Z"
   },
   {
    "duration": 360,
    "start_time": "2022-03-03T22:07:14.181Z"
   },
   {
    "duration": 967,
    "start_time": "2022-03-03T22:07:27.977Z"
   },
   {
    "duration": 365,
    "start_time": "2022-03-03T22:07:28.946Z"
   },
   {
    "duration": 306,
    "start_time": "2022-03-03T22:07:29.313Z"
   },
   {
    "duration": 6,
    "start_time": "2022-03-03T22:07:29.620Z"
   },
   {
    "duration": 78,
    "start_time": "2022-03-03T22:07:29.627Z"
   },
   {
    "duration": 3,
    "start_time": "2022-03-03T22:07:29.707Z"
   },
   {
    "duration": 22,
    "start_time": "2022-03-03T22:07:29.712Z"
   },
   {
    "duration": 28,
    "start_time": "2022-03-03T22:07:29.737Z"
   },
   {
    "duration": 13,
    "start_time": "2022-03-03T22:07:29.767Z"
   },
   {
    "duration": 42,
    "start_time": "2022-03-03T22:07:29.781Z"
   },
   {
    "duration": 16,
    "start_time": "2022-03-03T22:07:29.824Z"
   },
   {
    "duration": 6,
    "start_time": "2022-03-03T22:07:29.841Z"
   },
   {
    "duration": 20,
    "start_time": "2022-03-03T22:07:29.849Z"
   },
   {
    "duration": 3,
    "start_time": "2022-03-03T22:07:29.870Z"
   },
   {
    "duration": 5,
    "start_time": "2022-03-03T22:07:29.875Z"
   },
   {
    "duration": 29,
    "start_time": "2022-03-03T22:07:29.881Z"
   },
   {
    "duration": 36,
    "start_time": "2022-03-03T22:07:29.912Z"
   },
   {
    "duration": 5,
    "start_time": "2022-03-03T22:07:29.949Z"
   },
   {
    "duration": 10,
    "start_time": "2022-03-03T22:07:29.955Z"
   },
   {
    "duration": 6,
    "start_time": "2022-03-03T22:07:29.966Z"
   },
   {
    "duration": 4,
    "start_time": "2022-03-03T22:07:29.973Z"
   },
   {
    "duration": 222,
    "start_time": "2022-03-03T22:07:29.979Z"
   },
   {
    "duration": 16,
    "start_time": "2022-03-03T22:07:30.204Z"
   },
   {
    "duration": 6,
    "start_time": "2022-03-03T22:07:30.222Z"
   },
   {
    "duration": 410,
    "start_time": "2022-03-03T22:07:30.229Z"
   },
   {
    "duration": 6,
    "start_time": "2022-03-03T22:07:30.640Z"
   },
   {
    "duration": 393,
    "start_time": "2022-03-03T22:07:30.647Z"
   },
   {
    "duration": 8,
    "start_time": "2022-03-03T22:07:31.041Z"
   },
   {
    "duration": 9,
    "start_time": "2022-03-03T22:07:31.050Z"
   },
   {
    "duration": 9,
    "start_time": "2022-03-03T22:07:31.060Z"
   },
   {
    "duration": 9,
    "start_time": "2022-03-03T22:07:31.070Z"
   },
   {
    "duration": 667,
    "start_time": "2022-03-03T22:09:33.704Z"
   },
   {
    "duration": 705,
    "start_time": "2022-03-03T22:09:47.085Z"
   },
   {
    "duration": 616,
    "start_time": "2022-03-03T22:10:08.712Z"
   },
   {
    "duration": 375,
    "start_time": "2022-03-03T22:10:21.568Z"
   },
   {
    "duration": 372,
    "start_time": "2022-03-03T22:10:33.839Z"
   },
   {
    "duration": 375,
    "start_time": "2022-03-03T22:10:53.287Z"
   },
   {
    "duration": 377,
    "start_time": "2022-03-03T22:10:56.792Z"
   },
   {
    "duration": 445,
    "start_time": "2022-03-03T22:10:59.301Z"
   },
   {
    "duration": 1045,
    "start_time": "2022-03-03T22:11:03.765Z"
   },
   {
    "duration": 401,
    "start_time": "2022-03-03T22:11:04.812Z"
   },
   {
    "duration": 532,
    "start_time": "2022-03-03T22:11:05.215Z"
   },
   {
    "duration": 59,
    "start_time": "2022-03-03T22:11:05.749Z"
   },
   {
    "duration": 109,
    "start_time": "2022-03-03T22:11:05.810Z"
   },
   {
    "duration": 4,
    "start_time": "2022-03-03T22:11:05.921Z"
   },
   {
    "duration": 25,
    "start_time": "2022-03-03T22:11:05.926Z"
   },
   {
    "duration": 31,
    "start_time": "2022-03-03T22:11:05.953Z"
   },
   {
    "duration": 16,
    "start_time": "2022-03-03T22:11:06.006Z"
   },
   {
    "duration": 22,
    "start_time": "2022-03-03T22:11:06.023Z"
   },
   {
    "duration": 17,
    "start_time": "2022-03-03T22:11:06.046Z"
   },
   {
    "duration": 6,
    "start_time": "2022-03-03T22:11:06.065Z"
   },
   {
    "duration": 45,
    "start_time": "2022-03-03T22:11:06.073Z"
   },
   {
    "duration": 4,
    "start_time": "2022-03-03T22:11:06.120Z"
   },
   {
    "duration": 5,
    "start_time": "2022-03-03T22:11:06.126Z"
   },
   {
    "duration": 9,
    "start_time": "2022-03-03T22:11:06.132Z"
   },
   {
    "duration": 37,
    "start_time": "2022-03-03T22:11:06.143Z"
   },
   {
    "duration": 6,
    "start_time": "2022-03-03T22:11:06.206Z"
   },
   {
    "duration": 10,
    "start_time": "2022-03-03T22:11:06.214Z"
   },
   {
    "duration": 6,
    "start_time": "2022-03-03T22:11:06.226Z"
   },
   {
    "duration": 5,
    "start_time": "2022-03-03T22:11:06.233Z"
   },
   {
    "duration": 310,
    "start_time": "2022-03-03T22:11:06.239Z"
   },
   {
    "duration": 15,
    "start_time": "2022-03-03T22:11:06.553Z"
   },
   {
    "duration": 4,
    "start_time": "2022-03-03T22:11:06.570Z"
   },
   {
    "duration": 407,
    "start_time": "2022-03-03T22:11:06.575Z"
   },
   {
    "duration": 6,
    "start_time": "2022-03-03T22:11:06.983Z"
   },
   {
    "duration": 391,
    "start_time": "2022-03-03T22:11:06.990Z"
   },
   {
    "duration": 6,
    "start_time": "2022-03-03T22:11:07.383Z"
   },
   {
    "duration": 16,
    "start_time": "2022-03-03T22:11:07.391Z"
   },
   {
    "duration": 6,
    "start_time": "2022-03-03T22:11:07.408Z"
   },
   {
    "duration": 6,
    "start_time": "2022-03-03T22:11:07.415Z"
   },
   {
    "duration": 363,
    "start_time": "2022-03-03T22:11:26.198Z"
   },
   {
    "duration": 91,
    "start_time": "2022-03-03T22:13:32.827Z"
   },
   {
    "duration": 315,
    "start_time": "2022-03-03T22:13:36.593Z"
   },
   {
    "duration": 477,
    "start_time": "2022-03-03T22:13:46.655Z"
   },
   {
    "duration": 408,
    "start_time": "2022-03-03T22:14:08.841Z"
   },
   {
    "duration": 382,
    "start_time": "2022-03-03T22:14:21.265Z"
   },
   {
    "duration": 239,
    "start_time": "2022-03-03T22:17:01.171Z"
   },
   {
    "duration": 1012,
    "start_time": "2022-03-03T22:17:17.093Z"
   },
   {
    "duration": 368,
    "start_time": "2022-03-03T22:17:18.107Z"
   },
   {
    "duration": 328,
    "start_time": "2022-03-03T22:17:18.477Z"
   },
   {
    "duration": 7,
    "start_time": "2022-03-03T22:17:18.807Z"
   },
   {
    "duration": 64,
    "start_time": "2022-03-03T22:17:18.816Z"
   },
   {
    "duration": 3,
    "start_time": "2022-03-03T22:17:18.882Z"
   },
   {
    "duration": 32,
    "start_time": "2022-03-03T22:17:18.887Z"
   },
   {
    "duration": 28,
    "start_time": "2022-03-03T22:17:18.922Z"
   },
   {
    "duration": 13,
    "start_time": "2022-03-03T22:17:18.952Z"
   },
   {
    "duration": 40,
    "start_time": "2022-03-03T22:17:18.966Z"
   },
   {
    "duration": 15,
    "start_time": "2022-03-03T22:17:19.007Z"
   },
   {
    "duration": 6,
    "start_time": "2022-03-03T22:17:19.024Z"
   },
   {
    "duration": 19,
    "start_time": "2022-03-03T22:17:19.031Z"
   },
   {
    "duration": 3,
    "start_time": "2022-03-03T22:17:19.052Z"
   },
   {
    "duration": 5,
    "start_time": "2022-03-03T22:17:19.056Z"
   },
   {
    "duration": 8,
    "start_time": "2022-03-03T22:17:19.062Z"
   },
   {
    "duration": 69,
    "start_time": "2022-03-03T22:17:19.072Z"
   },
   {
    "duration": 5,
    "start_time": "2022-03-03T22:17:19.143Z"
   },
   {
    "duration": 10,
    "start_time": "2022-03-03T22:17:19.149Z"
   },
   {
    "duration": 5,
    "start_time": "2022-03-03T22:17:19.161Z"
   },
   {
    "duration": 4,
    "start_time": "2022-03-03T22:17:19.168Z"
   },
   {
    "duration": 212,
    "start_time": "2022-03-03T22:17:19.174Z"
   },
   {
    "duration": 22,
    "start_time": "2022-03-03T22:17:19.389Z"
   },
   {
    "duration": 5,
    "start_time": "2022-03-03T22:17:19.412Z"
   },
   {
    "duration": 389,
    "start_time": "2022-03-03T22:17:19.418Z"
   },
   {
    "duration": 464,
    "start_time": "2022-03-03T22:17:19.808Z"
   },
   {
    "duration": -800,
    "start_time": "2022-03-03T22:17:21.073Z"
   },
   {
    "duration": -801,
    "start_time": "2022-03-03T22:17:21.075Z"
   },
   {
    "duration": -804,
    "start_time": "2022-03-03T22:17:21.079Z"
   },
   {
    "duration": -805,
    "start_time": "2022-03-03T22:17:21.081Z"
   },
   {
    "duration": -807,
    "start_time": "2022-03-03T22:17:21.084Z"
   },
   {
    "duration": -815,
    "start_time": "2022-03-03T22:17:21.093Z"
   },
   {
    "duration": 383,
    "start_time": "2022-03-03T22:18:17.190Z"
   },
   {
    "duration": 364,
    "start_time": "2022-03-03T22:18:31.489Z"
   },
   {
    "duration": 200,
    "start_time": "2022-03-03T22:18:54.473Z"
   },
   {
    "duration": 280,
    "start_time": "2022-03-03T22:20:22.840Z"
   },
   {
    "duration": 15,
    "start_time": "2022-03-03T22:20:28.739Z"
   },
   {
    "duration": 16,
    "start_time": "2022-03-03T22:20:43.159Z"
   },
   {
    "duration": 219,
    "start_time": "2022-03-04T16:34:19.708Z"
   },
   {
    "duration": 1144,
    "start_time": "2022-03-04T16:34:26.865Z"
   },
   {
    "duration": 386,
    "start_time": "2022-03-04T16:34:28.011Z"
   },
   {
    "duration": 429,
    "start_time": "2022-03-04T16:34:28.402Z"
   },
   {
    "duration": 9,
    "start_time": "2022-03-04T16:34:28.833Z"
   },
   {
    "duration": 106,
    "start_time": "2022-03-04T16:34:28.844Z"
   },
   {
    "duration": 4,
    "start_time": "2022-03-04T16:34:28.953Z"
   },
   {
    "duration": 34,
    "start_time": "2022-03-04T16:34:28.960Z"
   },
   {
    "duration": 38,
    "start_time": "2022-03-04T16:34:28.997Z"
   },
   {
    "duration": 17,
    "start_time": "2022-03-04T16:34:29.038Z"
   },
   {
    "duration": 49,
    "start_time": "2022-03-04T16:34:29.058Z"
   },
   {
    "duration": 19,
    "start_time": "2022-03-04T16:34:29.109Z"
   },
   {
    "duration": 9,
    "start_time": "2022-03-04T16:34:29.130Z"
   },
   {
    "duration": 27,
    "start_time": "2022-03-04T16:34:29.141Z"
   },
   {
    "duration": 4,
    "start_time": "2022-03-04T16:34:29.170Z"
   },
   {
    "duration": 26,
    "start_time": "2022-03-04T16:34:29.175Z"
   },
   {
    "duration": 10,
    "start_time": "2022-03-04T16:34:29.203Z"
   },
   {
    "duration": 50,
    "start_time": "2022-03-04T16:34:29.215Z"
   },
   {
    "duration": 36,
    "start_time": "2022-03-04T16:34:29.267Z"
   },
   {
    "duration": 14,
    "start_time": "2022-03-04T16:34:29.305Z"
   },
   {
    "duration": 7,
    "start_time": "2022-03-04T16:34:29.321Z"
   },
   {
    "duration": 7,
    "start_time": "2022-03-04T16:34:29.330Z"
   },
   {
    "duration": 250,
    "start_time": "2022-03-04T16:34:29.340Z"
   },
   {
    "duration": 27,
    "start_time": "2022-03-04T16:34:29.592Z"
   },
   {
    "duration": 213,
    "start_time": "2022-03-04T16:34:29.621Z"
   },
   {
    "duration": 7,
    "start_time": "2022-03-04T16:34:29.836Z"
   },
   {
    "duration": 494,
    "start_time": "2022-03-04T16:34:29.844Z"
   },
   {
    "duration": 6,
    "start_time": "2022-03-04T16:34:30.340Z"
   },
   {
    "duration": 484,
    "start_time": "2022-03-04T16:34:30.348Z"
   },
   {
    "duration": 10,
    "start_time": "2022-03-04T16:34:30.834Z"
   },
   {
    "duration": 20,
    "start_time": "2022-03-04T16:34:30.845Z"
   },
   {
    "duration": 21,
    "start_time": "2022-03-04T16:34:30.867Z"
   },
   {
    "duration": 28,
    "start_time": "2022-03-04T16:34:30.890Z"
   },
   {
    "duration": 61,
    "start_time": "2022-03-04T16:35:01.985Z"
   },
   {
    "duration": 277,
    "start_time": "2022-03-04T16:35:05.082Z"
   },
   {
    "duration": 209,
    "start_time": "2022-03-04T16:35:08.864Z"
   },
   {
    "duration": 395,
    "start_time": "2022-03-04T16:35:49.828Z"
   },
   {
    "duration": 193,
    "start_time": "2022-03-04T16:36:22.844Z"
   },
   {
    "duration": 379,
    "start_time": "2022-03-04T16:36:37.309Z"
   },
   {
    "duration": 20,
    "start_time": "2022-03-04T16:38:18.561Z"
   },
   {
    "duration": 375,
    "start_time": "2022-03-04T16:38:46.971Z"
   },
   {
    "duration": 4707,
    "start_time": "2022-03-04T16:40:46.276Z"
   },
   {
    "duration": 4342,
    "start_time": "2022-03-04T16:41:51.852Z"
   },
   {
    "duration": 196,
    "start_time": "2022-03-04T16:42:17.827Z"
   },
   {
    "duration": 184,
    "start_time": "2022-03-04T16:42:43.164Z"
   },
   {
    "duration": 4235,
    "start_time": "2022-03-04T16:43:21.550Z"
   },
   {
    "duration": 4344,
    "start_time": "2022-03-04T16:43:37.839Z"
   },
   {
    "duration": 1250,
    "start_time": "2022-03-04T16:43:48.271Z"
   },
   {
    "duration": 404,
    "start_time": "2022-03-04T16:43:49.523Z"
   },
   {
    "duration": 408,
    "start_time": "2022-03-04T16:43:49.929Z"
   },
   {
    "duration": 10,
    "start_time": "2022-03-04T16:43:50.340Z"
   },
   {
    "duration": 112,
    "start_time": "2022-03-04T16:43:50.352Z"
   },
   {
    "duration": 4,
    "start_time": "2022-03-04T16:43:50.467Z"
   },
   {
    "duration": 39,
    "start_time": "2022-03-04T16:43:50.473Z"
   },
   {
    "duration": 34,
    "start_time": "2022-03-04T16:43:50.515Z"
   },
   {
    "duration": 16,
    "start_time": "2022-03-04T16:43:50.552Z"
   },
   {
    "duration": 43,
    "start_time": "2022-03-04T16:43:50.570Z"
   },
   {
    "duration": 19,
    "start_time": "2022-03-04T16:43:50.615Z"
   },
   {
    "duration": 18,
    "start_time": "2022-03-04T16:43:50.636Z"
   },
   {
    "duration": 28,
    "start_time": "2022-03-04T16:43:50.656Z"
   },
   {
    "duration": 15,
    "start_time": "2022-03-04T16:43:50.686Z"
   },
   {
    "duration": 5,
    "start_time": "2022-03-04T16:43:50.703Z"
   },
   {
    "duration": 42,
    "start_time": "2022-03-04T16:43:50.710Z"
   },
   {
    "duration": 55,
    "start_time": "2022-03-04T16:43:50.754Z"
   },
   {
    "duration": 7,
    "start_time": "2022-03-04T16:43:50.811Z"
   },
   {
    "duration": 29,
    "start_time": "2022-03-04T16:43:50.820Z"
   },
   {
    "duration": 25,
    "start_time": "2022-03-04T16:43:50.852Z"
   },
   {
    "duration": 10,
    "start_time": "2022-03-04T16:43:50.879Z"
   },
   {
    "duration": 235,
    "start_time": "2022-03-04T16:43:50.891Z"
   },
   {
    "duration": 19,
    "start_time": "2022-03-04T16:43:51.130Z"
   },
   {
    "duration": 450,
    "start_time": "2022-03-04T16:43:51.151Z"
   },
   {
    "duration": 6,
    "start_time": "2022-03-04T16:43:51.603Z"
   },
   {
    "duration": 490,
    "start_time": "2022-03-04T16:43:51.611Z"
   },
   {
    "duration": 6,
    "start_time": "2022-03-04T16:43:52.103Z"
   },
   {
    "duration": 467,
    "start_time": "2022-03-04T16:43:52.111Z"
   },
   {
    "duration": 9,
    "start_time": "2022-03-04T16:43:52.580Z"
   },
   {
    "duration": 20,
    "start_time": "2022-03-04T16:43:52.590Z"
   },
   {
    "duration": 13,
    "start_time": "2022-03-04T16:43:52.611Z"
   },
   {
    "duration": 8,
    "start_time": "2022-03-04T16:43:52.626Z"
   },
   {
    "duration": 482,
    "start_time": "2022-03-04T16:44:36.021Z"
   },
   {
    "duration": 696,
    "start_time": "2022-03-04T16:44:50.605Z"
   },
   {
    "duration": 386,
    "start_time": "2022-03-04T16:45:09.850Z"
   },
   {
    "duration": 60,
    "start_time": "2022-03-04T16:45:42.672Z"
   },
   {
    "duration": 61,
    "start_time": "2022-03-04T16:45:46.068Z"
   },
   {
    "duration": 60,
    "start_time": "2022-03-04T16:45:49.342Z"
   },
   {
    "duration": 431,
    "start_time": "2022-03-04T16:45:52.873Z"
   },
   {
    "duration": 440,
    "start_time": "2022-03-04T16:47:11.580Z"
   },
   {
    "duration": 111,
    "start_time": "2022-03-04T16:47:26.172Z"
   },
   {
    "duration": 476,
    "start_time": "2022-03-04T16:47:43.102Z"
   },
   {
    "duration": 627,
    "start_time": "2022-03-04T16:47:56.921Z"
   },
   {
    "duration": 447,
    "start_time": "2022-03-04T16:48:01.113Z"
   },
   {
    "duration": 156,
    "start_time": "2022-03-04T16:50:24.905Z"
   },
   {
    "duration": 4,
    "start_time": "2022-03-04T16:50:37.366Z"
   },
   {
    "duration": 176,
    "start_time": "2022-03-04T16:50:46.739Z"
   },
   {
    "duration": 5,
    "start_time": "2022-03-04T16:50:52.059Z"
   },
   {
    "duration": 10,
    "start_time": "2022-03-04T16:53:45.076Z"
   },
   {
    "duration": 10,
    "start_time": "2022-03-04T16:54:55.350Z"
   },
   {
    "duration": 5,
    "start_time": "2022-03-04T16:56:59.952Z"
   },
   {
    "duration": 7,
    "start_time": "2022-03-04T16:57:08.909Z"
   },
   {
    "duration": 7,
    "start_time": "2022-03-04T16:57:27.171Z"
   },
   {
    "duration": 55,
    "start_time": "2022-03-04T16:58:36.255Z"
   },
   {
    "duration": 183,
    "start_time": "2022-03-04T16:58:46.784Z"
   },
   {
    "duration": 10,
    "start_time": "2022-03-04T17:17:13.326Z"
   },
   {
    "duration": 10,
    "start_time": "2022-03-04T17:17:43.844Z"
   },
   {
    "duration": 8,
    "start_time": "2022-03-04T17:19:41.877Z"
   },
   {
    "duration": 11,
    "start_time": "2022-03-04T17:20:15.970Z"
   },
   {
    "duration": 175,
    "start_time": "2022-03-04T17:22:57.641Z"
   },
   {
    "duration": 187,
    "start_time": "2022-03-04T17:23:03.671Z"
   },
   {
    "duration": 2196,
    "start_time": "2022-03-04T17:23:29.044Z"
   },
   {
    "duration": 10,
    "start_time": "2022-03-04T17:23:50.110Z"
   },
   {
    "duration": 187,
    "start_time": "2022-03-04T17:24:20.631Z"
   },
   {
    "duration": 169,
    "start_time": "2022-03-04T17:25:44.584Z"
   },
   {
    "duration": 20,
    "start_time": "2022-03-04T17:25:49.839Z"
   },
   {
    "duration": 422,
    "start_time": "2022-03-04T17:25:57.601Z"
   },
   {
    "duration": 20,
    "start_time": "2022-03-04T17:26:15.412Z"
   },
   {
    "duration": 427,
    "start_time": "2022-03-04T17:26:18.364Z"
   },
   {
    "duration": 7,
    "start_time": "2022-03-04T17:26:27.640Z"
   },
   {
    "duration": 7,
    "start_time": "2022-03-04T17:27:24.904Z"
   },
   {
    "duration": 10,
    "start_time": "2022-03-04T17:32:15.538Z"
   },
   {
    "duration": 9,
    "start_time": "2022-03-04T17:32:21.656Z"
   },
   {
    "duration": 11,
    "start_time": "2022-03-04T17:32:47.388Z"
   },
   {
    "duration": 8,
    "start_time": "2022-03-04T17:36:20.510Z"
   },
   {
    "duration": 9,
    "start_time": "2022-03-04T17:36:24.334Z"
   },
   {
    "duration": 9,
    "start_time": "2022-03-04T17:36:32.256Z"
   },
   {
    "duration": 63,
    "start_time": "2022-03-04T17:40:21.074Z"
   },
   {
    "duration": 14,
    "start_time": "2022-03-04T17:41:29.089Z"
   },
   {
    "duration": 13,
    "start_time": "2022-03-04T17:42:25.117Z"
   },
   {
    "duration": 189,
    "start_time": "2022-03-04T17:42:50.459Z"
   },
   {
    "duration": 189,
    "start_time": "2022-03-04T17:42:59.353Z"
   },
   {
    "duration": 21,
    "start_time": "2022-03-04T17:43:02.945Z"
   },
   {
    "duration": 349,
    "start_time": "2022-03-06T18:57:49.124Z"
   },
   {
    "duration": 1507,
    "start_time": "2022-03-06T18:57:54.381Z"
   },
   {
    "duration": 500,
    "start_time": "2022-03-06T18:57:55.891Z"
   },
   {
    "duration": 782,
    "start_time": "2022-03-06T18:57:56.395Z"
   },
   {
    "duration": 12,
    "start_time": "2022-03-06T18:57:57.180Z"
   },
   {
    "duration": 278,
    "start_time": "2022-03-06T18:57:57.195Z"
   },
   {
    "duration": 5,
    "start_time": "2022-03-06T18:57:57.476Z"
   },
   {
    "duration": 36,
    "start_time": "2022-03-06T18:57:57.483Z"
   },
   {
    "duration": 97,
    "start_time": "2022-03-06T18:57:57.521Z"
   },
   {
    "duration": 21,
    "start_time": "2022-03-06T18:57:57.623Z"
   },
   {
    "duration": 54,
    "start_time": "2022-03-06T18:57:57.647Z"
   },
   {
    "duration": 25,
    "start_time": "2022-03-06T18:57:57.703Z"
   },
   {
    "duration": 10,
    "start_time": "2022-03-06T18:57:57.730Z"
   },
   {
    "duration": 52,
    "start_time": "2022-03-06T18:57:57.743Z"
   },
   {
    "duration": 4,
    "start_time": "2022-03-06T18:57:57.798Z"
   },
   {
    "duration": 7,
    "start_time": "2022-03-06T18:57:57.804Z"
   },
   {
    "duration": 15,
    "start_time": "2022-03-06T18:57:57.813Z"
   },
   {
    "duration": 107,
    "start_time": "2022-03-06T18:57:57.831Z"
   },
   {
    "duration": 33,
    "start_time": "2022-03-06T18:57:57.940Z"
   },
   {
    "duration": 20,
    "start_time": "2022-03-06T18:57:57.975Z"
   },
   {
    "duration": 13,
    "start_time": "2022-03-06T18:57:57.998Z"
   },
   {
    "duration": 9,
    "start_time": "2022-03-06T18:57:58.014Z"
   },
   {
    "duration": 496,
    "start_time": "2022-03-06T18:57:58.026Z"
   },
   {
    "duration": 48,
    "start_time": "2022-03-06T18:57:58.525Z"
   },
   {
    "duration": 917,
    "start_time": "2022-03-06T18:57:58.577Z"
   },
   {
    "duration": 13,
    "start_time": "2022-03-06T18:57:59.497Z"
   },
   {
    "duration": 798,
    "start_time": "2022-03-06T18:57:59.513Z"
   },
   {
    "duration": 30,
    "start_time": "2022-03-06T18:58:00.316Z"
   },
   {
    "duration": 39,
    "start_time": "2022-03-06T18:58:00.375Z"
   },
   {
    "duration": 56,
    "start_time": "2022-03-06T18:58:00.418Z"
   },
   {
    "duration": 10,
    "start_time": "2022-03-06T18:58:00.477Z"
   },
   {
    "duration": 871,
    "start_time": "2022-03-06T18:58:00.490Z"
   },
   {
    "duration": 17,
    "start_time": "2022-03-06T18:58:01.363Z"
   },
   {
    "duration": 20,
    "start_time": "2022-03-06T18:58:01.383Z"
   },
   {
    "duration": 15,
    "start_time": "2022-03-06T18:58:01.406Z"
   },
   {
    "duration": 13,
    "start_time": "2022-03-06T18:58:01.424Z"
   },
   {
    "duration": 29,
    "start_time": "2022-03-06T18:58:12.826Z"
   },
   {
    "duration": 7709,
    "start_time": "2022-03-06T18:58:48.209Z"
   },
   {
    "duration": 7524,
    "start_time": "2022-03-06T18:59:02.250Z"
   },
   {
    "duration": 783,
    "start_time": "2022-03-06T18:59:15.481Z"
   },
   {
    "duration": 5,
    "start_time": "2022-03-06T19:14:58.328Z"
   },
   {
    "duration": 9,
    "start_time": "2022-03-06T19:15:09.686Z"
   },
   {
    "duration": 10,
    "start_time": "2022-03-06T19:16:10.788Z"
   },
   {
    "duration": 481,
    "start_time": "2022-03-06T19:16:20.076Z"
   },
   {
    "duration": 12,
    "start_time": "2022-03-06T19:16:37.338Z"
   },
   {
    "duration": 10,
    "start_time": "2022-03-06T19:16:48.873Z"
   },
   {
    "duration": 295,
    "start_time": "2022-03-06T19:17:01.596Z"
   },
   {
    "duration": 295,
    "start_time": "2022-03-06T19:17:05.185Z"
   },
   {
    "duration": 300,
    "start_time": "2022-03-06T19:17:10.235Z"
   },
   {
    "duration": 8,
    "start_time": "2022-03-06T19:17:20.260Z"
   },
   {
    "duration": 12,
    "start_time": "2022-03-06T19:17:43.328Z"
   },
   {
    "duration": 99,
    "start_time": "2022-03-06T19:18:24.289Z"
   },
   {
    "duration": 12,
    "start_time": "2022-03-06T19:18:40.951Z"
   },
   {
    "duration": 282,
    "start_time": "2022-03-06T19:20:46.555Z"
   },
   {
    "duration": 296,
    "start_time": "2022-03-06T19:20:58.565Z"
   },
   {
    "duration": 12,
    "start_time": "2022-03-06T19:21:10.113Z"
   },
   {
    "duration": 301,
    "start_time": "2022-03-06T19:23:01.522Z"
   },
   {
    "duration": 295,
    "start_time": "2022-03-06T19:23:07.826Z"
   },
   {
    "duration": 289,
    "start_time": "2022-03-06T19:25:30.827Z"
   },
   {
    "duration": 302,
    "start_time": "2022-03-06T19:25:35.859Z"
   },
   {
    "duration": 480,
    "start_time": "2022-03-06T19:25:43.687Z"
   },
   {
    "duration": 482,
    "start_time": "2022-03-06T19:26:00.749Z"
   },
   {
    "duration": 16,
    "start_time": "2022-03-06T19:26:11.136Z"
   },
   {
    "duration": 310,
    "start_time": "2022-03-06T19:29:38.998Z"
   },
   {
    "duration": 275,
    "start_time": "2022-03-06T19:29:57.445Z"
   },
   {
    "duration": 378,
    "start_time": "2022-03-06T19:30:04.524Z"
   },
   {
    "duration": 303,
    "start_time": "2022-03-06T19:30:26.670Z"
   },
   {
    "duration": 31,
    "start_time": "2022-03-06T19:32:06.142Z"
   },
   {
    "duration": 303,
    "start_time": "2022-03-06T19:33:15.595Z"
   },
   {
    "duration": 6,
    "start_time": "2022-03-06T19:36:10.822Z"
   },
   {
    "duration": 39,
    "start_time": "2022-03-06T19:36:15.007Z"
   },
   {
    "duration": 91,
    "start_time": "2022-03-06T19:36:21.430Z"
   },
   {
    "duration": 6,
    "start_time": "2022-03-06T19:36:25.001Z"
   },
   {
    "duration": 39,
    "start_time": "2022-03-06T19:36:35.485Z"
   },
   {
    "duration": 90,
    "start_time": "2022-03-06T19:39:09.885Z"
   },
   {
    "duration": 332,
    "start_time": "2022-03-06T19:39:29.210Z"
   },
   {
    "duration": 22,
    "start_time": "2022-03-06T19:39:41.599Z"
   },
   {
    "duration": 27,
    "start_time": "2022-03-06T19:39:52.127Z"
   },
   {
    "duration": 28,
    "start_time": "2022-03-06T19:40:37.162Z"
   },
   {
    "duration": 23,
    "start_time": "2022-03-06T19:41:16.446Z"
   },
   {
    "duration": 336,
    "start_time": "2022-03-06T19:41:36.218Z"
   },
   {
    "duration": 296,
    "start_time": "2022-03-06T19:41:47.573Z"
   },
   {
    "duration": 30,
    "start_time": "2022-03-06T19:42:30.564Z"
   },
   {
    "duration": 88,
    "start_time": "2022-03-06T19:42:56.849Z"
   },
   {
    "duration": 300,
    "start_time": "2022-03-06T19:43:06.646Z"
   },
   {
    "duration": 1210,
    "start_time": "2022-03-06T19:43:11.637Z"
   },
   {
    "duration": 106,
    "start_time": "2022-03-06T19:44:12.603Z"
   },
   {
    "duration": 100,
    "start_time": "2022-03-06T19:44:19.658Z"
   },
   {
    "duration": 100,
    "start_time": "2022-03-06T19:44:24.852Z"
   },
   {
    "duration": 95,
    "start_time": "2022-03-06T19:44:32.362Z"
   },
   {
    "duration": 98,
    "start_time": "2022-03-06T19:44:39.718Z"
   },
   {
    "duration": 100,
    "start_time": "2022-03-06T19:44:43.192Z"
   },
   {
    "duration": 24,
    "start_time": "2022-03-06T19:45:02.459Z"
   },
   {
    "duration": 296,
    "start_time": "2022-03-06T19:45:16.760Z"
   },
   {
    "duration": 1233,
    "start_time": "2022-03-06T19:45:22.366Z"
   },
   {
    "duration": 90,
    "start_time": "2022-03-06T19:45:30.786Z"
   },
   {
    "duration": 5429,
    "start_time": "2022-03-06T19:45:35.205Z"
   },
   {
    "duration": 22,
    "start_time": "2022-03-06T19:46:47.771Z"
   },
   {
    "duration": 103,
    "start_time": "2022-03-06T19:47:09.458Z"
   },
   {
    "duration": 1172,
    "start_time": "2022-03-06T19:47:14.412Z"
   },
   {
    "duration": 29,
    "start_time": "2022-03-06T19:47:54.362Z"
   },
   {
    "duration": 1399,
    "start_time": "2022-03-06T19:48:24.567Z"
   },
   {
    "duration": 32,
    "start_time": "2022-03-06T19:48:35.438Z"
   },
   {
    "duration": 33,
    "start_time": "2022-03-06T19:49:38.263Z"
   },
   {
    "duration": 318,
    "start_time": "2022-03-06T19:49:50.396Z"
   },
   {
    "duration": 44,
    "start_time": "2022-03-06T19:50:47.293Z"
   },
   {
    "duration": 80,
    "start_time": "2022-03-06T19:52:34.279Z"
   },
   {
    "duration": 65,
    "start_time": "2022-03-06T19:52:51.612Z"
   },
   {
    "duration": 103,
    "start_time": "2022-03-06T19:52:59.558Z"
   },
   {
    "duration": 140,
    "start_time": "2022-03-06T19:53:09.940Z"
   },
   {
    "duration": 376,
    "start_time": "2022-03-06T19:53:23.582Z"
   },
   {
    "duration": 204,
    "start_time": "2022-03-06T19:53:40.369Z"
   },
   {
    "duration": 315,
    "start_time": "2022-03-06T19:56:56.369Z"
   },
   {
    "duration": 314,
    "start_time": "2022-03-06T19:57:20.150Z"
   },
   {
    "duration": 282,
    "start_time": "2022-03-06T19:57:54.136Z"
   },
   {
    "duration": 289,
    "start_time": "2022-03-06T19:58:32.207Z"
   },
   {
    "duration": 274,
    "start_time": "2022-03-06T19:59:30.590Z"
   },
   {
    "duration": 136,
    "start_time": "2022-03-06T19:59:49.449Z"
   },
   {
    "duration": 108,
    "start_time": "2022-03-06T20:00:12.624Z"
   },
   {
    "duration": 345,
    "start_time": "2022-03-06T20:00:26.194Z"
   },
   {
    "duration": 142,
    "start_time": "2022-03-06T20:00:36.354Z"
   },
   {
    "duration": 283,
    "start_time": "2022-03-06T20:04:17.542Z"
   },
   {
    "duration": 297,
    "start_time": "2022-03-06T20:04:36.706Z"
   },
   {
    "duration": 354,
    "start_time": "2022-03-06T20:04:52.246Z"
   },
   {
    "duration": 278,
    "start_time": "2022-03-06T20:05:23.619Z"
   },
   {
    "duration": 299,
    "start_time": "2022-03-06T20:05:56.410Z"
   },
   {
    "duration": 294,
    "start_time": "2022-03-06T20:07:19.996Z"
   },
   {
    "duration": 84,
    "start_time": "2022-03-06T20:09:10.967Z"
   },
   {
    "duration": 124,
    "start_time": "2022-03-06T20:09:19.177Z"
   },
   {
    "duration": 347,
    "start_time": "2022-03-06T20:09:48.879Z"
   },
   {
    "duration": 128,
    "start_time": "2022-03-06T20:09:54.356Z"
   },
   {
    "duration": 136,
    "start_time": "2022-03-06T20:11:59.082Z"
   },
   {
    "duration": 187,
    "start_time": "2022-03-06T20:12:06.010Z"
   },
   {
    "duration": 176,
    "start_time": "2022-03-06T20:12:28.808Z"
   },
   {
    "duration": 95,
    "start_time": "2022-03-06T20:13:11.805Z"
   },
   {
    "duration": 110,
    "start_time": "2022-03-06T20:13:20.448Z"
   },
   {
    "duration": 328,
    "start_time": "2022-03-06T20:13:38.139Z"
   },
   {
    "duration": 295,
    "start_time": "2022-03-06T20:14:02.057Z"
   },
   {
    "duration": 379,
    "start_time": "2022-03-06T20:14:18.546Z"
   },
   {
    "duration": 363,
    "start_time": "2022-03-06T20:14:28.578Z"
   },
   {
    "duration": 462,
    "start_time": "2022-03-06T20:14:43.348Z"
   },
   {
    "duration": 107,
    "start_time": "2022-03-06T20:15:13.252Z"
   },
   {
    "duration": 190,
    "start_time": "2022-03-06T20:15:30.053Z"
   },
   {
    "duration": 112,
    "start_time": "2022-03-06T20:15:49.342Z"
   },
   {
    "duration": 113,
    "start_time": "2022-03-06T20:17:58.316Z"
   },
   {
    "duration": 1603,
    "start_time": "2022-03-06T20:18:04.136Z"
   },
   {
    "duration": 524,
    "start_time": "2022-03-06T20:18:05.741Z"
   },
   {
    "duration": 633,
    "start_time": "2022-03-06T20:18:06.268Z"
   },
   {
    "duration": 12,
    "start_time": "2022-03-06T20:18:06.906Z"
   },
   {
    "duration": 141,
    "start_time": "2022-03-06T20:18:06.921Z"
   },
   {
    "duration": 11,
    "start_time": "2022-03-06T20:18:07.064Z"
   },
   {
    "duration": 32,
    "start_time": "2022-03-06T20:18:07.079Z"
   },
   {
    "duration": 78,
    "start_time": "2022-03-06T20:18:07.113Z"
   },
   {
    "duration": 23,
    "start_time": "2022-03-06T20:18:07.196Z"
   },
   {
    "duration": 61,
    "start_time": "2022-03-06T20:18:07.222Z"
   },
   {
    "duration": 31,
    "start_time": "2022-03-06T20:18:07.286Z"
   },
   {
    "duration": 10,
    "start_time": "2022-03-06T20:18:07.319Z"
   },
   {
    "duration": 62,
    "start_time": "2022-03-06T20:18:07.331Z"
   },
   {
    "duration": 5,
    "start_time": "2022-03-06T20:18:07.395Z"
   },
   {
    "duration": 9,
    "start_time": "2022-03-06T20:18:07.403Z"
   },
   {
    "duration": 15,
    "start_time": "2022-03-06T20:18:07.415Z"
   },
   {
    "duration": 109,
    "start_time": "2022-03-06T20:18:07.432Z"
   },
   {
    "duration": 9,
    "start_time": "2022-03-06T20:18:07.545Z"
   },
   {
    "duration": 21,
    "start_time": "2022-03-06T20:18:07.574Z"
   },
   {
    "duration": 13,
    "start_time": "2022-03-06T20:18:07.598Z"
   },
   {
    "duration": 10,
    "start_time": "2022-03-06T20:18:07.613Z"
   },
   {
    "duration": 482,
    "start_time": "2022-03-06T20:18:07.625Z"
   },
   {
    "duration": 28,
    "start_time": "2022-03-06T20:18:08.109Z"
   },
   {
    "duration": 769,
    "start_time": "2022-03-06T20:18:08.139Z"
   },
   {
    "duration": 9,
    "start_time": "2022-03-06T20:18:08.911Z"
   },
   {
    "duration": 924,
    "start_time": "2022-03-06T20:18:08.922Z"
   },
   {
    "duration": 35,
    "start_time": "2022-03-06T20:18:09.851Z"
   },
   {
    "duration": 32,
    "start_time": "2022-03-06T20:18:09.890Z"
   },
   {
    "duration": 29,
    "start_time": "2022-03-06T20:18:09.924Z"
   },
   {
    "duration": 842,
    "start_time": "2022-03-06T20:18:09.955Z"
   },
   {
    "duration": 11,
    "start_time": "2022-03-06T20:18:10.800Z"
   },
   {
    "duration": 1119,
    "start_time": "2022-03-06T20:18:10.814Z"
   },
   {
    "duration": 147,
    "start_time": "2022-03-06T20:18:11.935Z"
   },
   {
    "duration": 15,
    "start_time": "2022-03-06T20:18:12.085Z"
   },
   {
    "duration": 11,
    "start_time": "2022-03-06T20:18:12.102Z"
   },
   {
    "duration": 11,
    "start_time": "2022-03-06T20:18:12.115Z"
   },
   {
    "duration": 50,
    "start_time": "2022-03-06T20:18:12.128Z"
   },
   {
    "duration": 41,
    "start_time": "2022-03-06T20:20:33.915Z"
   },
   {
    "duration": 29,
    "start_time": "2022-03-06T20:21:43.486Z"
   },
   {
    "duration": 43,
    "start_time": "2022-03-06T20:22:17.755Z"
   },
   {
    "duration": 7932,
    "start_time": "2022-03-06T20:22:32.488Z"
   },
   {
    "duration": 727,
    "start_time": "2022-03-06T20:22:57.449Z"
   },
   {
    "duration": 9,
    "start_time": "2022-03-06T20:26:42.500Z"
   },
   {
    "duration": 991,
    "start_time": "2022-03-06T20:26:56.978Z"
   },
   {
    "duration": 43,
    "start_time": "2022-03-06T21:17:36.861Z"
   },
   {
    "duration": 381,
    "start_time": "2022-03-06T21:19:36.904Z"
   },
   {
    "duration": 116,
    "start_time": "2022-03-06T21:19:41.771Z"
   },
   {
    "duration": 155,
    "start_time": "2022-03-06T21:20:00.721Z"
   },
   {
    "duration": 144,
    "start_time": "2022-03-06T21:20:12.864Z"
   },
   {
    "duration": 143,
    "start_time": "2022-03-06T21:20:37.086Z"
   },
   {
    "duration": 146,
    "start_time": "2022-03-06T21:20:58.251Z"
   },
   {
    "duration": 43,
    "start_time": "2022-03-06T21:21:56.169Z"
   },
   {
    "duration": 23,
    "start_time": "2022-03-06T21:22:35.529Z"
   },
   {
    "duration": 286,
    "start_time": "2022-03-06T21:24:23.088Z"
   },
   {
    "duration": 22,
    "start_time": "2022-03-06T21:24:39.583Z"
   },
   {
    "duration": 29,
    "start_time": "2022-03-06T21:25:00.864Z"
   },
   {
    "duration": 110,
    "start_time": "2022-03-06T21:26:37.164Z"
   },
   {
    "duration": 14,
    "start_time": "2022-03-06T21:26:45.905Z"
   },
   {
    "duration": 19,
    "start_time": "2022-03-06T21:26:53.795Z"
   },
   {
    "duration": 38,
    "start_time": "2022-03-06T21:27:09.380Z"
   },
   {
    "duration": 40,
    "start_time": "2022-03-06T21:28:24.096Z"
   },
   {
    "duration": 28,
    "start_time": "2022-03-06T21:28:29.987Z"
   },
   {
    "duration": 27,
    "start_time": "2022-03-06T21:29:01.283Z"
   },
   {
    "duration": 27,
    "start_time": "2022-03-06T21:29:17.004Z"
   },
   {
    "duration": 41,
    "start_time": "2022-03-06T21:29:32.175Z"
   },
   {
    "duration": 26,
    "start_time": "2022-03-06T21:29:37.770Z"
   },
   {
    "duration": 7489,
    "start_time": "2022-03-06T21:30:43.794Z"
   },
   {
    "duration": 8499,
    "start_time": "2022-03-06T21:31:15.331Z"
   },
   {
    "duration": 25,
    "start_time": "2022-03-06T21:31:49.096Z"
   },
   {
    "duration": 25,
    "start_time": "2022-03-06T21:32:12.520Z"
   },
   {
    "duration": 33,
    "start_time": "2022-03-06T21:32:35.578Z"
   },
   {
    "duration": 773,
    "start_time": "2022-03-06T21:32:53.430Z"
   },
   {
    "duration": 612,
    "start_time": "2022-03-06T21:33:56.317Z"
   },
   {
    "duration": 26,
    "start_time": "2022-03-06T21:34:54.962Z"
   },
   {
    "duration": 321,
    "start_time": "2022-03-06T21:35:26.085Z"
   },
   {
    "duration": 28,
    "start_time": "2022-03-06T21:35:51.883Z"
   },
   {
    "duration": 32,
    "start_time": "2022-03-06T21:36:30.249Z"
   },
   {
    "duration": 25,
    "start_time": "2022-03-06T21:39:08.124Z"
   },
   {
    "duration": 35,
    "start_time": "2022-03-06T22:01:36.203Z"
   },
   {
    "duration": 24,
    "start_time": "2022-03-06T22:01:47.568Z"
   },
   {
    "duration": 24,
    "start_time": "2022-03-06T22:02:17.911Z"
   },
   {
    "duration": 35,
    "start_time": "2022-03-06T22:03:05.662Z"
   },
   {
    "duration": 48,
    "start_time": "2022-03-06T22:03:17.543Z"
   },
   {
    "duration": 292,
    "start_time": "2022-03-06T22:03:51.600Z"
   },
   {
    "duration": 329,
    "start_time": "2022-03-06T22:03:58.249Z"
   },
   {
    "duration": 37,
    "start_time": "2022-03-06T22:04:34.351Z"
   },
   {
    "duration": 168,
    "start_time": "2022-03-07T19:30:56.385Z"
   },
   {
    "duration": 1094,
    "start_time": "2022-03-07T19:31:03.298Z"
   },
   {
    "duration": 390,
    "start_time": "2022-03-07T19:31:04.394Z"
   },
   {
    "duration": 391,
    "start_time": "2022-03-07T19:31:04.786Z"
   },
   {
    "duration": 10,
    "start_time": "2022-03-07T19:31:05.179Z"
   },
   {
    "duration": 111,
    "start_time": "2022-03-07T19:31:05.191Z"
   },
   {
    "duration": 4,
    "start_time": "2022-03-07T19:31:05.304Z"
   },
   {
    "duration": 43,
    "start_time": "2022-03-07T19:31:05.310Z"
   },
   {
    "duration": 32,
    "start_time": "2022-03-07T19:31:05.356Z"
   },
   {
    "duration": 14,
    "start_time": "2022-03-07T19:31:05.390Z"
   },
   {
    "duration": 51,
    "start_time": "2022-03-07T19:31:05.406Z"
   },
   {
    "duration": 17,
    "start_time": "2022-03-07T19:31:05.459Z"
   },
   {
    "duration": 7,
    "start_time": "2022-03-07T19:31:05.478Z"
   },
   {
    "duration": 52,
    "start_time": "2022-03-07T19:31:05.487Z"
   },
   {
    "duration": 4,
    "start_time": "2022-03-07T19:31:05.541Z"
   },
   {
    "duration": 8,
    "start_time": "2022-03-07T19:31:05.547Z"
   },
   {
    "duration": 12,
    "start_time": "2022-03-07T19:31:05.557Z"
   },
   {
    "duration": 49,
    "start_time": "2022-03-07T19:31:05.571Z"
   },
   {
    "duration": 11,
    "start_time": "2022-03-07T19:31:05.635Z"
   },
   {
    "duration": 20,
    "start_time": "2022-03-07T19:31:05.648Z"
   },
   {
    "duration": 9,
    "start_time": "2022-03-07T19:31:05.670Z"
   },
   {
    "duration": 6,
    "start_time": "2022-03-07T19:31:05.681Z"
   },
   {
    "duration": 231,
    "start_time": "2022-03-07T19:31:05.688Z"
   },
   {
    "duration": 29,
    "start_time": "2022-03-07T19:31:05.922Z"
   },
   {
    "duration": 419,
    "start_time": "2022-03-07T19:31:05.953Z"
   },
   {
    "duration": 6,
    "start_time": "2022-03-07T19:31:06.373Z"
   },
   {
    "duration": 474,
    "start_time": "2022-03-07T19:31:06.381Z"
   },
   {
    "duration": 18,
    "start_time": "2022-03-07T19:31:06.857Z"
   },
   {
    "duration": 17,
    "start_time": "2022-03-07T19:31:06.876Z"
   },
   {
    "duration": 60,
    "start_time": "2022-03-07T19:31:06.894Z"
   },
   {
    "duration": 433,
    "start_time": "2022-03-07T19:31:06.956Z"
   },
   {
    "duration": 9,
    "start_time": "2022-03-07T19:31:07.392Z"
   },
   {
    "duration": 521,
    "start_time": "2022-03-07T19:31:07.404Z"
   },
   {
    "duration": 32,
    "start_time": "2022-03-07T19:31:07.927Z"
   },
   {
    "duration": 19,
    "start_time": "2022-03-07T19:31:07.961Z"
   },
   {
    "duration": 470,
    "start_time": "2022-03-07T19:31:07.982Z"
   },
   {
    "duration": 10,
    "start_time": "2022-03-07T19:31:08.454Z"
   },
   {
    "duration": 876,
    "start_time": "2022-03-07T19:31:08.466Z"
   },
   {
    "duration": 45,
    "start_time": "2022-03-07T19:31:09.345Z"
   },
   {
    "duration": 58,
    "start_time": "2022-03-07T19:31:09.392Z"
   },
   {
    "duration": 593,
    "start_time": "2022-03-07T19:31:09.453Z"
   },
   {
    "duration": 322,
    "start_time": "2022-03-07T19:31:09.729Z"
   },
   {
    "duration": 322,
    "start_time": "2022-03-07T19:31:09.731Z"
   },
   {
    "duration": 321,
    "start_time": "2022-03-07T19:31:09.734Z"
   },
   {
    "duration": 320,
    "start_time": "2022-03-07T19:31:09.738Z"
   },
   {
    "duration": 319,
    "start_time": "2022-03-07T19:31:09.741Z"
   },
   {
    "duration": 21,
    "start_time": "2022-03-07T19:31:23.553Z"
   },
   {
    "duration": 655,
    "start_time": "2022-03-07T19:32:23.140Z"
   },
   {
    "duration": 628,
    "start_time": "2022-03-07T19:32:34.700Z"
   },
   {
    "duration": 1146,
    "start_time": "2022-03-07T19:32:41.504Z"
   },
   {
    "duration": 398,
    "start_time": "2022-03-07T19:32:42.652Z"
   },
   {
    "duration": 404,
    "start_time": "2022-03-07T19:32:43.052Z"
   },
   {
    "duration": 7,
    "start_time": "2022-03-07T19:32:43.458Z"
   },
   {
    "duration": 98,
    "start_time": "2022-03-07T19:32:43.466Z"
   },
   {
    "duration": 5,
    "start_time": "2022-03-07T19:32:43.566Z"
   },
   {
    "duration": 25,
    "start_time": "2022-03-07T19:32:43.573Z"
   },
   {
    "duration": 54,
    "start_time": "2022-03-07T19:32:43.600Z"
   },
   {
    "duration": 20,
    "start_time": "2022-03-07T19:32:43.657Z"
   },
   {
    "duration": 55,
    "start_time": "2022-03-07T19:32:43.679Z"
   },
   {
    "duration": 25,
    "start_time": "2022-03-07T19:32:43.736Z"
   },
   {
    "duration": 7,
    "start_time": "2022-03-07T19:32:43.764Z"
   },
   {
    "duration": 23,
    "start_time": "2022-03-07T19:32:43.773Z"
   },
   {
    "duration": 4,
    "start_time": "2022-03-07T19:32:43.798Z"
   },
   {
    "duration": 36,
    "start_time": "2022-03-07T19:32:43.804Z"
   },
   {
    "duration": 20,
    "start_time": "2022-03-07T19:32:43.842Z"
   },
   {
    "duration": 44,
    "start_time": "2022-03-07T19:32:43.864Z"
   },
   {
    "duration": 6,
    "start_time": "2022-03-07T19:32:43.910Z"
   },
   {
    "duration": 27,
    "start_time": "2022-03-07T19:32:43.918Z"
   },
   {
    "duration": 8,
    "start_time": "2022-03-07T19:32:43.947Z"
   },
   {
    "duration": 7,
    "start_time": "2022-03-07T19:32:43.957Z"
   },
   {
    "duration": 234,
    "start_time": "2022-03-07T19:32:43.966Z"
   },
   {
    "duration": 18,
    "start_time": "2022-03-07T19:32:44.204Z"
   },
   {
    "duration": 543,
    "start_time": "2022-03-07T19:32:44.224Z"
   },
   {
    "duration": 7,
    "start_time": "2022-03-07T19:32:44.770Z"
   },
   {
    "duration": 475,
    "start_time": "2022-03-07T19:32:44.779Z"
   },
   {
    "duration": 19,
    "start_time": "2022-03-07T19:32:45.256Z"
   },
   {
    "duration": 18,
    "start_time": "2022-03-07T19:32:45.276Z"
   },
   {
    "duration": 57,
    "start_time": "2022-03-07T19:32:45.296Z"
   },
   {
    "duration": 427,
    "start_time": "2022-03-07T19:32:45.355Z"
   },
   {
    "duration": 6,
    "start_time": "2022-03-07T19:32:45.784Z"
   },
   {
    "duration": 522,
    "start_time": "2022-03-07T19:32:45.792Z"
   },
   {
    "duration": 39,
    "start_time": "2022-03-07T19:32:46.316Z"
   },
   {
    "duration": 19,
    "start_time": "2022-03-07T19:32:46.358Z"
   },
   {
    "duration": 418,
    "start_time": "2022-03-07T19:32:46.378Z"
   },
   {
    "duration": 7,
    "start_time": "2022-03-07T19:32:46.798Z"
   },
   {
    "duration": 455,
    "start_time": "2022-03-07T19:32:46.807Z"
   },
   {
    "duration": 27,
    "start_time": "2022-03-07T19:32:47.265Z"
   },
   {
    "duration": 43,
    "start_time": "2022-03-07T19:32:47.294Z"
   },
   {
    "duration": 508,
    "start_time": "2022-03-07T19:32:47.339Z"
   },
   {
    "duration": 312,
    "start_time": "2022-03-07T19:32:47.537Z"
   },
   {
    "duration": 311,
    "start_time": "2022-03-07T19:32:47.540Z"
   },
   {
    "duration": 309,
    "start_time": "2022-03-07T19:32:47.543Z"
   },
   {
    "duration": 299,
    "start_time": "2022-03-07T19:32:47.554Z"
   },
   {
    "duration": 296,
    "start_time": "2022-03-07T19:32:47.558Z"
   },
   {
    "duration": 20,
    "start_time": "2022-03-07T20:48:43.399Z"
   },
   {
    "duration": 21,
    "start_time": "2022-03-07T20:48:48.154Z"
   },
   {
    "duration": 18,
    "start_time": "2022-03-07T20:49:43.608Z"
   },
   {
    "duration": 165,
    "start_time": "2022-03-07T20:59:29.916Z"
   },
   {
    "duration": 320,
    "start_time": "2022-03-08T19:40:45.135Z"
   },
   {
    "duration": 664,
    "start_time": "2022-03-08T19:40:49.336Z"
   },
   {
    "duration": 1182,
    "start_time": "2022-03-08T19:40:55.083Z"
   },
   {
    "duration": 476,
    "start_time": "2022-03-08T19:40:56.267Z"
   },
   {
    "duration": 360,
    "start_time": "2022-03-08T19:40:56.745Z"
   },
   {
    "duration": 7,
    "start_time": "2022-03-08T19:40:57.107Z"
   },
   {
    "duration": 101,
    "start_time": "2022-03-08T19:40:57.116Z"
   },
   {
    "duration": 5,
    "start_time": "2022-03-08T19:40:57.218Z"
   },
   {
    "duration": 26,
    "start_time": "2022-03-08T19:40:57.224Z"
   },
   {
    "duration": 47,
    "start_time": "2022-03-08T19:40:57.252Z"
   },
   {
    "duration": 16,
    "start_time": "2022-03-08T19:40:57.301Z"
   },
   {
    "duration": 23,
    "start_time": "2022-03-08T19:40:57.319Z"
   },
   {
    "duration": 40,
    "start_time": "2022-03-08T19:40:57.344Z"
   },
   {
    "duration": 5,
    "start_time": "2022-03-08T19:40:57.386Z"
   },
   {
    "duration": 26,
    "start_time": "2022-03-08T19:40:57.393Z"
   },
   {
    "duration": 3,
    "start_time": "2022-03-08T19:40:57.421Z"
   },
   {
    "duration": 6,
    "start_time": "2022-03-08T19:40:57.426Z"
   },
   {
    "duration": 12,
    "start_time": "2022-03-08T19:40:57.434Z"
   },
   {
    "duration": 71,
    "start_time": "2022-03-08T19:40:57.448Z"
   },
   {
    "duration": 6,
    "start_time": "2022-03-08T19:40:57.521Z"
   },
   {
    "duration": 16,
    "start_time": "2022-03-08T19:40:57.529Z"
   },
   {
    "duration": 30,
    "start_time": "2022-03-08T19:40:57.547Z"
   },
   {
    "duration": 4,
    "start_time": "2022-03-08T19:40:57.579Z"
   },
   {
    "duration": 240,
    "start_time": "2022-03-08T19:40:57.585Z"
   },
   {
    "duration": 20,
    "start_time": "2022-03-08T19:40:57.829Z"
   },
   {
    "duration": 502,
    "start_time": "2022-03-08T19:40:57.852Z"
   },
   {
    "duration": 7,
    "start_time": "2022-03-08T19:40:58.355Z"
   },
   {
    "duration": 531,
    "start_time": "2022-03-08T19:40:58.363Z"
   },
   {
    "duration": 337,
    "start_time": "2022-03-08T19:40:58.896Z"
   },
   {
    "duration": 96,
    "start_time": "2022-03-08T19:40:59.139Z"
   },
   {
    "duration": 93,
    "start_time": "2022-03-08T19:40:59.143Z"
   },
   {
    "duration": 91,
    "start_time": "2022-03-08T19:40:59.146Z"
   },
   {
    "duration": 88,
    "start_time": "2022-03-08T19:40:59.150Z"
   },
   {
    "duration": 86,
    "start_time": "2022-03-08T19:40:59.153Z"
   },
   {
    "duration": 84,
    "start_time": "2022-03-08T19:40:59.156Z"
   },
   {
    "duration": 80,
    "start_time": "2022-03-08T19:40:59.160Z"
   },
   {
    "duration": 78,
    "start_time": "2022-03-08T19:40:59.163Z"
   },
   {
    "duration": 76,
    "start_time": "2022-03-08T19:40:59.166Z"
   },
   {
    "duration": 74,
    "start_time": "2022-03-08T19:40:59.169Z"
   },
   {
    "duration": 72,
    "start_time": "2022-03-08T19:40:59.172Z"
   },
   {
    "duration": 70,
    "start_time": "2022-03-08T19:40:59.175Z"
   },
   {
    "duration": 67,
    "start_time": "2022-03-08T19:40:59.178Z"
   },
   {
    "duration": 64,
    "start_time": "2022-03-08T19:40:59.182Z"
   },
   {
    "duration": 62,
    "start_time": "2022-03-08T19:40:59.185Z"
   },
   {
    "duration": 59,
    "start_time": "2022-03-08T19:40:59.189Z"
   },
   {
    "duration": 58,
    "start_time": "2022-03-08T19:40:59.191Z"
   },
   {
    "duration": 55,
    "start_time": "2022-03-08T19:40:59.195Z"
   },
   {
    "duration": 46,
    "start_time": "2022-03-08T19:40:59.205Z"
   },
   {
    "duration": 226,
    "start_time": "2022-03-08T19:42:00.971Z"
   },
   {
    "duration": 224,
    "start_time": "2022-03-08T19:42:24.641Z"
   },
   {
    "duration": 1170,
    "start_time": "2022-03-08T19:47:59.605Z"
   },
   {
    "duration": 448,
    "start_time": "2022-03-08T19:48:00.777Z"
   },
   {
    "duration": 388,
    "start_time": "2022-03-08T19:48:01.228Z"
   },
   {
    "duration": 9,
    "start_time": "2022-03-08T19:48:01.618Z"
   },
   {
    "duration": 113,
    "start_time": "2022-03-08T19:48:01.629Z"
   },
   {
    "duration": 5,
    "start_time": "2022-03-08T19:48:01.744Z"
   },
   {
    "duration": 36,
    "start_time": "2022-03-08T19:48:01.750Z"
   },
   {
    "duration": 37,
    "start_time": "2022-03-08T19:48:01.788Z"
   },
   {
    "duration": 16,
    "start_time": "2022-03-08T19:48:01.828Z"
   },
   {
    "duration": 46,
    "start_time": "2022-03-08T19:48:01.846Z"
   },
   {
    "duration": 19,
    "start_time": "2022-03-08T19:48:01.894Z"
   },
   {
    "duration": 5,
    "start_time": "2022-03-08T19:48:01.915Z"
   },
   {
    "duration": 26,
    "start_time": "2022-03-08T19:48:01.922Z"
   },
   {
    "duration": 28,
    "start_time": "2022-03-08T19:48:01.949Z"
   },
   {
    "duration": 4,
    "start_time": "2022-03-08T19:48:01.979Z"
   },
   {
    "duration": 15,
    "start_time": "2022-03-08T19:48:01.985Z"
   },
   {
    "duration": 51,
    "start_time": "2022-03-08T19:48:02.003Z"
   },
   {
    "duration": 28,
    "start_time": "2022-03-08T19:48:02.056Z"
   },
   {
    "duration": 16,
    "start_time": "2022-03-08T19:48:02.086Z"
   },
   {
    "duration": 9,
    "start_time": "2022-03-08T19:48:02.104Z"
   },
   {
    "duration": 21,
    "start_time": "2022-03-08T19:48:02.115Z"
   },
   {
    "duration": 549,
    "start_time": "2022-03-08T19:48:02.139Z"
   },
   {
    "duration": 21,
    "start_time": "2022-03-08T19:48:02.690Z"
   },
   {
    "duration": 505,
    "start_time": "2022-03-08T19:48:02.713Z"
   },
   {
    "duration": 6,
    "start_time": "2022-03-08T19:48:03.220Z"
   },
   {
    "duration": 549,
    "start_time": "2022-03-08T19:48:03.227Z"
   },
   {
    "duration": 20,
    "start_time": "2022-03-08T19:48:03.779Z"
   },
   {
    "duration": 18,
    "start_time": "2022-03-08T19:48:03.801Z"
   },
   {
    "duration": 56,
    "start_time": "2022-03-08T19:48:03.821Z"
   },
   {
    "duration": 486,
    "start_time": "2022-03-08T19:48:03.879Z"
   },
   {
    "duration": 11,
    "start_time": "2022-03-08T19:48:04.366Z"
   },
   {
    "duration": 582,
    "start_time": "2022-03-08T19:48:04.379Z"
   },
   {
    "duration": 34,
    "start_time": "2022-03-08T19:48:04.962Z"
   },
   {
    "duration": 20,
    "start_time": "2022-03-08T19:48:04.998Z"
   },
   {
    "duration": 510,
    "start_time": "2022-03-08T19:48:05.019Z"
   },
   {
    "duration": 7,
    "start_time": "2022-03-08T19:48:05.530Z"
   },
   {
    "duration": 827,
    "start_time": "2022-03-08T19:48:05.539Z"
   },
   {
    "duration": 33,
    "start_time": "2022-03-08T19:48:06.367Z"
   },
   {
    "duration": 24,
    "start_time": "2022-03-08T19:48:06.402Z"
   },
   {
    "duration": 678,
    "start_time": "2022-03-08T19:48:06.428Z"
   },
   {
    "duration": 83,
    "start_time": "2022-03-08T19:48:07.025Z"
   },
   {
    "duration": 81,
    "start_time": "2022-03-08T19:48:07.029Z"
   },
   {
    "duration": 80,
    "start_time": "2022-03-08T19:48:07.032Z"
   },
   {
    "duration": 78,
    "start_time": "2022-03-08T19:48:07.035Z"
   },
   {
    "duration": 77,
    "start_time": "2022-03-08T19:48:07.038Z"
   },
   {
    "duration": 62,
    "start_time": "2022-03-09T09:27:09.044Z"
   },
   {
    "duration": 204,
    "start_time": "2022-03-09T09:45:12.056Z"
   },
   {
    "duration": 1210,
    "start_time": "2022-03-09T09:45:18.971Z"
   },
   {
    "duration": 376,
    "start_time": "2022-03-09T09:45:20.183Z"
   },
   {
    "duration": 367,
    "start_time": "2022-03-09T09:45:20.561Z"
   },
   {
    "duration": 10,
    "start_time": "2022-03-09T09:45:20.930Z"
   },
   {
    "duration": 103,
    "start_time": "2022-03-09T09:45:20.942Z"
   },
   {
    "duration": 4,
    "start_time": "2022-03-09T09:45:21.047Z"
   },
   {
    "duration": 30,
    "start_time": "2022-03-09T09:45:21.053Z"
   },
   {
    "duration": 42,
    "start_time": "2022-03-09T09:45:21.086Z"
   },
   {
    "duration": 16,
    "start_time": "2022-03-09T09:45:21.130Z"
   },
   {
    "duration": 25,
    "start_time": "2022-03-09T09:45:21.148Z"
   },
   {
    "duration": 44,
    "start_time": "2022-03-09T09:45:21.175Z"
   },
   {
    "duration": 8,
    "start_time": "2022-03-09T09:45:21.221Z"
   },
   {
    "duration": 28,
    "start_time": "2022-03-09T09:45:21.231Z"
   },
   {
    "duration": 4,
    "start_time": "2022-03-09T09:45:21.260Z"
   },
   {
    "duration": 9,
    "start_time": "2022-03-09T09:45:21.265Z"
   },
   {
    "duration": 32,
    "start_time": "2022-03-09T09:45:21.276Z"
   },
   {
    "duration": 47,
    "start_time": "2022-03-09T09:45:21.310Z"
   },
   {
    "duration": 8,
    "start_time": "2022-03-09T09:45:21.359Z"
   },
   {
    "duration": 44,
    "start_time": "2022-03-09T09:45:21.369Z"
   },
   {
    "duration": 7,
    "start_time": "2022-03-09T09:45:21.415Z"
   },
   {
    "duration": 8,
    "start_time": "2022-03-09T09:45:21.424Z"
   },
   {
    "duration": 259,
    "start_time": "2022-03-09T09:45:21.434Z"
   },
   {
    "duration": 22,
    "start_time": "2022-03-09T09:45:21.697Z"
   },
   {
    "duration": 460,
    "start_time": "2022-03-09T09:45:21.721Z"
   },
   {
    "duration": 21,
    "start_time": "2022-03-09T09:45:22.183Z"
   },
   {
    "duration": 478,
    "start_time": "2022-03-09T09:45:22.206Z"
   },
   {
    "duration": 35,
    "start_time": "2022-03-09T09:45:22.687Z"
   },
   {
    "duration": 23,
    "start_time": "2022-03-09T09:45:22.724Z"
   },
   {
    "duration": 53,
    "start_time": "2022-03-09T09:45:22.749Z"
   },
   {
    "duration": 449,
    "start_time": "2022-03-09T09:45:22.804Z"
   },
   {
    "duration": 7,
    "start_time": "2022-03-09T09:45:23.255Z"
   },
   {
    "duration": 547,
    "start_time": "2022-03-09T09:45:23.263Z"
   },
   {
    "duration": 36,
    "start_time": "2022-03-09T09:45:23.812Z"
   },
   {
    "duration": 21,
    "start_time": "2022-03-09T09:45:23.850Z"
   },
   {
    "duration": 435,
    "start_time": "2022-03-09T09:45:23.901Z"
   },
   {
    "duration": 8,
    "start_time": "2022-03-09T09:45:24.338Z"
   },
   {
    "duration": 758,
    "start_time": "2022-03-09T09:45:24.348Z"
   },
   {
    "duration": 29,
    "start_time": "2022-03-09T09:45:25.108Z"
   },
   {
    "duration": 21,
    "start_time": "2022-03-09T09:45:25.139Z"
   },
   {
    "duration": 592,
    "start_time": "2022-03-09T09:45:25.162Z"
   },
   {
    "duration": -676,
    "start_time": "2022-03-09T09:45:26.432Z"
   },
   {
    "duration": -679,
    "start_time": "2022-03-09T09:45:26.436Z"
   },
   {
    "duration": -681,
    "start_time": "2022-03-09T09:45:26.439Z"
   },
   {
    "duration": -683,
    "start_time": "2022-03-09T09:45:26.442Z"
   },
   {
    "duration": -685,
    "start_time": "2022-03-09T09:45:26.446Z"
   },
   {
    "duration": 34,
    "start_time": "2022-03-09T09:45:49.580Z"
   },
   {
    "duration": 468,
    "start_time": "2022-03-09T10:25:35.263Z"
   },
   {
    "duration": 663,
    "start_time": "2022-03-09T10:31:56.480Z"
   },
   {
    "duration": 388,
    "start_time": "2022-03-09T10:32:01.081Z"
   },
   {
    "duration": 470,
    "start_time": "2022-03-09T10:32:05.047Z"
   },
   {
    "duration": 1291,
    "start_time": "2022-03-09T10:35:17.215Z"
   },
   {
    "duration": 386,
    "start_time": "2022-03-09T10:35:18.508Z"
   },
   {
    "duration": 406,
    "start_time": "2022-03-09T10:35:18.898Z"
   },
   {
    "duration": 10,
    "start_time": "2022-03-09T10:35:19.306Z"
   },
   {
    "duration": 99,
    "start_time": "2022-03-09T10:35:19.318Z"
   },
   {
    "duration": 4,
    "start_time": "2022-03-09T10:35:19.419Z"
   },
   {
    "duration": 26,
    "start_time": "2022-03-09T10:35:19.426Z"
   },
   {
    "duration": 53,
    "start_time": "2022-03-09T10:35:19.454Z"
   },
   {
    "duration": 17,
    "start_time": "2022-03-09T10:35:19.509Z"
   },
   {
    "duration": 25,
    "start_time": "2022-03-09T10:35:19.527Z"
   },
   {
    "duration": 18,
    "start_time": "2022-03-09T10:35:19.554Z"
   },
   {
    "duration": 33,
    "start_time": "2022-03-09T10:35:19.574Z"
   },
   {
    "duration": 27,
    "start_time": "2022-03-09T10:35:19.609Z"
   },
   {
    "duration": 3,
    "start_time": "2022-03-09T10:35:19.638Z"
   },
   {
    "duration": 8,
    "start_time": "2022-03-09T10:35:19.643Z"
   },
   {
    "duration": 17,
    "start_time": "2022-03-09T10:35:19.653Z"
   },
   {
    "duration": 71,
    "start_time": "2022-03-09T10:35:19.672Z"
   },
   {
    "duration": 7,
    "start_time": "2022-03-09T10:35:19.745Z"
   },
   {
    "duration": 14,
    "start_time": "2022-03-09T10:35:19.753Z"
   },
   {
    "duration": 32,
    "start_time": "2022-03-09T10:35:19.769Z"
   },
   {
    "duration": 5,
    "start_time": "2022-03-09T10:35:19.803Z"
   },
   {
    "duration": 241,
    "start_time": "2022-03-09T10:35:19.812Z"
   },
   {
    "duration": 21,
    "start_time": "2022-03-09T10:35:20.055Z"
   },
   {
    "duration": 459,
    "start_time": "2022-03-09T10:35:20.078Z"
   },
   {
    "duration": 7,
    "start_time": "2022-03-09T10:35:20.539Z"
   },
   {
    "duration": 486,
    "start_time": "2022-03-09T10:35:20.548Z"
   },
   {
    "duration": 19,
    "start_time": "2022-03-09T10:35:21.036Z"
   },
   {
    "duration": 46,
    "start_time": "2022-03-09T10:35:21.057Z"
   },
   {
    "duration": 19,
    "start_time": "2022-03-09T10:35:21.104Z"
   },
   {
    "duration": 439,
    "start_time": "2022-03-09T10:35:21.125Z"
   },
   {
    "duration": 6,
    "start_time": "2022-03-09T10:35:21.566Z"
   },
   {
    "duration": 527,
    "start_time": "2022-03-09T10:35:21.573Z"
   },
   {
    "duration": 37,
    "start_time": "2022-03-09T10:35:22.103Z"
   },
   {
    "duration": 21,
    "start_time": "2022-03-09T10:35:22.142Z"
   },
   {
    "duration": 464,
    "start_time": "2022-03-09T10:35:22.165Z"
   },
   {
    "duration": 7,
    "start_time": "2022-03-09T10:35:22.630Z"
   },
   {
    "duration": 464,
    "start_time": "2022-03-09T10:35:22.639Z"
   },
   {
    "duration": 34,
    "start_time": "2022-03-09T10:35:23.105Z"
   },
   {
    "duration": 9,
    "start_time": "2022-03-09T10:35:23.140Z"
   },
   {
    "duration": 9,
    "start_time": "2022-03-09T10:35:23.151Z"
   },
   {
    "duration": 11,
    "start_time": "2022-03-09T10:35:23.162Z"
   },
   {
    "duration": 7,
    "start_time": "2022-03-09T10:35:23.202Z"
   },
   {
    "duration": 261,
    "start_time": "2022-03-09T10:55:35.141Z"
   },
   {
    "duration": 7,
    "start_time": "2022-03-09T10:55:41.863Z"
   },
   {
    "duration": 481,
    "start_time": "2022-03-09T10:55:44.664Z"
   },
   {
    "duration": 504,
    "start_time": "2022-03-09T10:56:03.887Z"
   },
   {
    "duration": 239,
    "start_time": "2022-03-09T11:24:52.280Z"
   },
   {
    "duration": 6,
    "start_time": "2022-03-09T11:25:08.429Z"
   },
   {
    "duration": 245,
    "start_time": "2022-03-09T11:26:36.237Z"
   },
   {
    "duration": 220,
    "start_time": "2022-03-09T11:26:57.570Z"
   },
   {
    "duration": 338,
    "start_time": "2022-03-09T11:27:35.614Z"
   },
   {
    "duration": 188,
    "start_time": "2022-03-09T11:27:49.026Z"
   },
   {
    "duration": 173,
    "start_time": "2022-03-09T11:28:32.063Z"
   },
   {
    "duration": 13,
    "start_time": "2022-03-09T11:43:52.606Z"
   },
   {
    "duration": 12,
    "start_time": "2022-03-09T11:44:03.376Z"
   },
   {
    "duration": 33,
    "start_time": "2022-03-09T11:45:52.209Z"
   },
   {
    "duration": 2180,
    "start_time": "2022-03-17T14:43:30.099Z"
   },
   {
    "duration": 577,
    "start_time": "2022-03-17T14:43:32.282Z"
   },
   {
    "duration": 649,
    "start_time": "2022-03-17T14:43:32.861Z"
   },
   {
    "duration": 13,
    "start_time": "2022-03-17T14:43:33.545Z"
   },
   {
    "duration": 142,
    "start_time": "2022-03-17T14:43:33.560Z"
   },
   {
    "duration": 7,
    "start_time": "2022-03-17T14:43:33.704Z"
   },
   {
    "duration": 48,
    "start_time": "2022-03-17T14:43:33.713Z"
   },
   {
    "duration": 51,
    "start_time": "2022-03-17T14:43:33.763Z"
   },
   {
    "duration": 41,
    "start_time": "2022-03-17T14:43:33.817Z"
   },
   {
    "duration": 36,
    "start_time": "2022-03-17T14:43:33.862Z"
   },
   {
    "duration": 54,
    "start_time": "2022-03-17T14:43:33.900Z"
   },
   {
    "duration": 11,
    "start_time": "2022-03-17T14:43:33.957Z"
   },
   {
    "duration": 43,
    "start_time": "2022-03-17T14:43:33.970Z"
   },
   {
    "duration": 5,
    "start_time": "2022-03-17T14:43:34.015Z"
   },
   {
    "duration": 7,
    "start_time": "2022-03-17T14:43:34.043Z"
   },
   {
    "duration": 19,
    "start_time": "2022-03-17T14:43:34.052Z"
   },
   {
    "duration": 93,
    "start_time": "2022-03-17T14:43:34.073Z"
   },
   {
    "duration": 11,
    "start_time": "2022-03-17T14:43:34.168Z"
   },
   {
    "duration": 20,
    "start_time": "2022-03-17T14:43:34.182Z"
   },
   {
    "duration": 7,
    "start_time": "2022-03-17T14:43:34.207Z"
   },
   {
    "duration": 7,
    "start_time": "2022-03-17T14:43:34.243Z"
   },
   {
    "duration": 227,
    "start_time": "2022-03-17T14:43:34.253Z"
   },
   {
    "duration": 41,
    "start_time": "2022-03-17T14:43:34.483Z"
   },
   {
    "duration": 692,
    "start_time": "2022-03-17T14:43:34.527Z"
   },
   {
    "duration": 9,
    "start_time": "2022-03-17T14:43:35.221Z"
   },
   {
    "duration": 579,
    "start_time": "2022-03-17T14:43:35.243Z"
   },
   {
    "duration": 41,
    "start_time": "2022-03-17T14:43:35.825Z"
   },
   {
    "duration": 27,
    "start_time": "2022-03-17T14:43:35.871Z"
   },
   {
    "duration": 70,
    "start_time": "2022-03-17T14:43:35.901Z"
   },
   {
    "duration": 563,
    "start_time": "2022-03-17T14:43:35.974Z"
   },
   {
    "duration": 8,
    "start_time": "2022-03-17T14:43:36.544Z"
   },
   {
    "duration": 574,
    "start_time": "2022-03-17T14:43:36.555Z"
   },
   {
    "duration": 56,
    "start_time": "2022-03-17T14:43:37.132Z"
   },
   {
    "duration": 53,
    "start_time": "2022-03-17T14:43:37.190Z"
   },
   {
    "duration": 621,
    "start_time": "2022-03-17T14:43:37.246Z"
   },
   {
    "duration": 8,
    "start_time": "2022-03-17T14:43:37.870Z"
   },
   {
    "duration": 556,
    "start_time": "2022-03-17T14:43:37.881Z"
   },
   {
    "duration": 62,
    "start_time": "2022-03-17T14:43:38.443Z"
   },
   {
    "duration": 591,
    "start_time": "2022-03-17T14:43:38.508Z"
   },
   {
    "duration": 64,
    "start_time": "2022-03-17T14:43:39.101Z"
   },
   {
    "duration": 278,
    "start_time": "2022-03-17T14:43:39.167Z"
   },
   {
    "duration": 13,
    "start_time": "2022-03-17T14:43:39.447Z"
   },
   {
    "duration": 30,
    "start_time": "2022-03-17T14:43:39.462Z"
   },
   {
    "duration": 58,
    "start_time": "2022-03-17T14:43:39.495Z"
   },
   {
    "duration": 25,
    "start_time": "2022-03-17T14:43:39.556Z"
   },
   {
    "duration": 138,
    "start_time": "2022-03-18T14:38:36.567Z"
   },
   {
    "duration": 66,
    "start_time": "2022-03-18T14:38:40.226Z"
   },
   {
    "duration": 1645,
    "start_time": "2022-03-18T14:38:47.217Z"
   },
   {
    "duration": 480,
    "start_time": "2022-03-18T14:38:48.864Z"
   },
   {
    "duration": 1052,
    "start_time": "2022-03-18T14:38:49.346Z"
   },
   {
    "duration": 10,
    "start_time": "2022-03-18T14:38:50.401Z"
   },
   {
    "duration": 212,
    "start_time": "2022-03-18T14:38:50.413Z"
   },
   {
    "duration": 6,
    "start_time": "2022-03-18T14:38:50.682Z"
   },
   {
    "duration": 35,
    "start_time": "2022-03-18T14:38:50.690Z"
   },
   {
    "duration": 100,
    "start_time": "2022-03-18T14:38:50.728Z"
   },
   {
    "duration": 21,
    "start_time": "2022-03-18T14:38:50.882Z"
   },
   {
    "duration": 87,
    "start_time": "2022-03-18T14:38:50.907Z"
   },
   {
    "duration": 23,
    "start_time": "2022-03-18T14:38:50.997Z"
   },
   {
    "duration": 62,
    "start_time": "2022-03-18T14:38:51.022Z"
   },
   {
    "duration": 35,
    "start_time": "2022-03-18T14:38:51.086Z"
   },
   {
    "duration": 5,
    "start_time": "2022-03-18T14:38:51.123Z"
   },
   {
    "duration": 54,
    "start_time": "2022-03-18T14:38:51.130Z"
   },
   {
    "duration": 19,
    "start_time": "2022-03-18T14:38:51.186Z"
   },
   {
    "duration": 114,
    "start_time": "2022-03-18T14:38:51.207Z"
   },
   {
    "duration": 64,
    "start_time": "2022-03-18T14:38:51.323Z"
   },
   {
    "duration": 24,
    "start_time": "2022-03-18T14:38:51.389Z"
   },
   {
    "duration": 7,
    "start_time": "2022-03-18T14:38:51.415Z"
   },
   {
    "duration": 59,
    "start_time": "2022-03-18T14:38:51.424Z"
   },
   {
    "duration": 397,
    "start_time": "2022-03-18T14:38:51.485Z"
   },
   {
    "duration": 29,
    "start_time": "2022-03-18T14:38:51.885Z"
   },
   {
    "duration": 868,
    "start_time": "2022-03-18T14:38:51.917Z"
   },
   {
    "duration": 8,
    "start_time": "2022-03-18T14:38:52.788Z"
   },
   {
    "duration": 568,
    "start_time": "2022-03-18T14:38:52.798Z"
   },
   {
    "duration": 37,
    "start_time": "2022-03-18T14:38:53.368Z"
   },
   {
    "duration": 27,
    "start_time": "2022-03-18T14:38:53.409Z"
   },
   {
    "duration": 439,
    "start_time": "2022-03-18T14:38:53.437Z"
   },
   {
    "duration": 28,
    "start_time": "2022-03-18T14:38:53.883Z"
   },
   {
    "duration": 564,
    "start_time": "2022-03-18T14:38:53.913Z"
   },
   {
    "duration": 8,
    "start_time": "2022-03-18T14:38:54.483Z"
   },
   {
    "duration": 607,
    "start_time": "2022-03-18T14:38:54.493Z"
   },
   {
    "duration": 48,
    "start_time": "2022-03-18T14:38:55.102Z"
   },
   {
    "duration": 50,
    "start_time": "2022-03-18T14:38:55.153Z"
   },
   {
    "duration": 609,
    "start_time": "2022-03-18T14:38:55.206Z"
   },
   {
    "duration": 8,
    "start_time": "2022-03-18T14:38:55.818Z"
   },
   {
    "duration": 532,
    "start_time": "2022-03-18T14:38:55.828Z"
   },
   {
    "duration": 58,
    "start_time": "2022-03-18T14:38:56.362Z"
   },
   {
    "duration": 564,
    "start_time": "2022-03-18T14:38:56.423Z"
   },
   {
    "duration": 45,
    "start_time": "2022-03-18T14:38:56.989Z"
   },
   {
    "duration": 212,
    "start_time": "2022-03-18T14:38:57.036Z"
   },
   {
    "duration": 13,
    "start_time": "2022-03-18T14:38:57.251Z"
   },
   {
    "duration": 21,
    "start_time": "2022-03-18T14:38:57.266Z"
   },
   {
    "duration": 13,
    "start_time": "2022-03-18T14:38:57.290Z"
   },
   {
    "duration": 8,
    "start_time": "2022-03-18T14:38:57.306Z"
   },
   {
    "duration": 552,
    "start_time": "2022-03-18T14:43:30.440Z"
   },
   {
    "duration": 504,
    "start_time": "2022-03-18T14:44:10.845Z"
   },
   {
    "duration": 508,
    "start_time": "2022-03-18T14:45:17.749Z"
   },
   {
    "duration": 470,
    "start_time": "2022-03-18T14:45:27.680Z"
   },
   {
    "duration": 522,
    "start_time": "2022-03-18T15:17:06.127Z"
   },
   {
    "duration": 378,
    "start_time": "2022-03-18T15:17:15.375Z"
   },
   {
    "duration": 379,
    "start_time": "2022-03-18T15:17:44.774Z"
   },
   {
    "duration": 378,
    "start_time": "2022-03-18T15:17:50.915Z"
   },
   {
    "duration": 369,
    "start_time": "2022-03-18T15:18:00.731Z"
   },
   {
    "duration": 533,
    "start_time": "2022-03-18T15:18:25.139Z"
   },
   {
    "duration": 533,
    "start_time": "2022-03-18T15:19:04.197Z"
   },
   {
    "duration": 466,
    "start_time": "2022-03-18T15:19:54.988Z"
   },
   {
    "duration": 142,
    "start_time": "2022-03-18T15:20:40.633Z"
   },
   {
    "duration": 44,
    "start_time": "2022-03-19T09:57:32.781Z"
   },
   {
    "duration": 997,
    "start_time": "2022-03-19T09:57:39.442Z"
   },
   {
    "duration": 371,
    "start_time": "2022-03-19T09:57:40.441Z"
   },
   {
    "duration": 343,
    "start_time": "2022-03-19T09:57:40.813Z"
   },
   {
    "duration": 6,
    "start_time": "2022-03-19T09:57:41.158Z"
   },
   {
    "duration": 91,
    "start_time": "2022-03-19T09:57:41.165Z"
   },
   {
    "duration": 4,
    "start_time": "2022-03-19T09:57:41.257Z"
   },
   {
    "duration": 21,
    "start_time": "2022-03-19T09:57:41.263Z"
   },
   {
    "duration": 39,
    "start_time": "2022-03-19T09:57:41.286Z"
   },
   {
    "duration": 13,
    "start_time": "2022-03-19T09:57:41.327Z"
   },
   {
    "duration": 22,
    "start_time": "2022-03-19T09:57:41.343Z"
   },
   {
    "duration": 41,
    "start_time": "2022-03-19T09:57:41.366Z"
   },
   {
    "duration": 7,
    "start_time": "2022-03-19T09:57:41.408Z"
   },
   {
    "duration": 22,
    "start_time": "2022-03-19T09:57:41.416Z"
   },
   {
    "duration": 2,
    "start_time": "2022-03-19T09:57:41.440Z"
   },
   {
    "duration": 5,
    "start_time": "2022-03-19T09:57:41.443Z"
   },
   {
    "duration": 10,
    "start_time": "2022-03-19T09:57:41.450Z"
   },
   {
    "duration": 55,
    "start_time": "2022-03-19T09:57:41.461Z"
   },
   {
    "duration": 5,
    "start_time": "2022-03-19T09:57:41.518Z"
   },
   {
    "duration": 13,
    "start_time": "2022-03-19T09:57:41.524Z"
   },
   {
    "duration": 4,
    "start_time": "2022-03-19T09:57:41.538Z"
   },
   {
    "duration": 4,
    "start_time": "2022-03-19T09:57:41.544Z"
   },
   {
    "duration": 120,
    "start_time": "2022-03-19T09:57:41.549Z"
   },
   {
    "duration": 17,
    "start_time": "2022-03-19T09:57:41.671Z"
   },
   {
    "duration": 298,
    "start_time": "2022-03-19T09:57:41.689Z"
   },
   {
    "duration": 5,
    "start_time": "2022-03-19T09:57:41.988Z"
   },
   {
    "duration": 289,
    "start_time": "2022-03-19T09:57:42.001Z"
   },
   {
    "duration": 22,
    "start_time": "2022-03-19T09:57:42.292Z"
   },
   {
    "duration": 15,
    "start_time": "2022-03-19T09:57:42.317Z"
   },
   {
    "duration": 237,
    "start_time": "2022-03-19T09:57:42.334Z"
   },
   {
    "duration": 16,
    "start_time": "2022-03-19T09:57:42.573Z"
   },
   {
    "duration": 377,
    "start_time": "2022-03-19T09:57:42.601Z"
   },
   {
    "duration": 6,
    "start_time": "2022-03-19T09:57:42.979Z"
   },
   {
    "duration": 260,
    "start_time": "2022-03-19T09:57:42.986Z"
   },
   {
    "duration": 270,
    "start_time": "2022-03-19T09:57:43.248Z"
   },
   {
    "duration": 25,
    "start_time": "2022-03-19T09:57:43.519Z"
   },
   {
    "duration": 15,
    "start_time": "2022-03-19T09:57:43.546Z"
   },
   {
    "duration": 279,
    "start_time": "2022-03-19T09:57:43.562Z"
   },
   {
    "duration": 5,
    "start_time": "2022-03-19T09:57:43.843Z"
   },
   {
    "duration": 290,
    "start_time": "2022-03-19T09:57:43.849Z"
   },
   {
    "duration": 206,
    "start_time": "2022-03-19T09:57:44.141Z"
   },
   {
    "duration": 28,
    "start_time": "2022-03-19T09:57:44.349Z"
   },
   {
    "duration": 302,
    "start_time": "2022-03-19T09:57:44.379Z"
   },
   {
    "duration": 30,
    "start_time": "2022-03-19T09:57:44.682Z"
   },
   {
    "duration": 108,
    "start_time": "2022-03-19T09:57:44.714Z"
   },
   {
    "duration": 185,
    "start_time": "2022-03-19T09:57:44.823Z"
   },
   {
    "duration": 8,
    "start_time": "2022-03-19T09:57:45.009Z"
   },
   {
    "duration": 20,
    "start_time": "2022-03-19T09:57:45.019Z"
   },
   {
    "duration": 8,
    "start_time": "2022-03-19T09:57:45.040Z"
   },
   {
    "duration": 6,
    "start_time": "2022-03-19T09:57:45.050Z"
   },
   {
    "duration": 89,
    "start_time": "2022-03-19T10:41:03.919Z"
   },
   {
    "duration": 9,
    "start_time": "2022-03-19T10:41:06.021Z"
   },
   {
    "duration": 5,
    "start_time": "2022-03-19T10:41:30.044Z"
   },
   {
    "duration": 11,
    "start_time": "2022-03-19T10:41:57.763Z"
   },
   {
    "duration": 7,
    "start_time": "2022-03-19T10:42:03.064Z"
   },
   {
    "duration": 11,
    "start_time": "2022-03-19T10:43:01.420Z"
   },
   {
    "duration": 6,
    "start_time": "2022-03-19T10:43:07.156Z"
   },
   {
    "duration": 4,
    "start_time": "2022-03-19T10:43:22.713Z"
   },
   {
    "duration": 150,
    "start_time": "2022-03-19T10:44:47.245Z"
   },
   {
    "duration": 4,
    "start_time": "2022-03-19T10:44:58.418Z"
   },
   {
    "duration": 4,
    "start_time": "2022-03-19T10:45:07.615Z"
   },
   {
    "duration": 4,
    "start_time": "2022-03-19T10:45:16.101Z"
   },
   {
    "duration": 7,
    "start_time": "2022-03-19T10:45:38.377Z"
   },
   {
    "duration": 5,
    "start_time": "2022-03-19T10:47:40.388Z"
   },
   {
    "duration": 5,
    "start_time": "2022-03-19T10:48:23.423Z"
   },
   {
    "duration": 7,
    "start_time": "2022-03-19T10:49:19.506Z"
   },
   {
    "duration": 6,
    "start_time": "2022-03-19T10:50:27.058Z"
   },
   {
    "duration": 6,
    "start_time": "2022-03-19T10:50:39.118Z"
   },
   {
    "duration": 6,
    "start_time": "2022-03-19T10:50:46.042Z"
   },
   {
    "duration": 8,
    "start_time": "2022-03-19T10:52:10.265Z"
   },
   {
    "duration": 5,
    "start_time": "2022-03-19T10:56:49.920Z"
   },
   {
    "duration": 6,
    "start_time": "2022-03-19T11:05:04.409Z"
   },
   {
    "duration": 114,
    "start_time": "2022-03-23T07:51:02.424Z"
   },
   {
    "duration": 1967,
    "start_time": "2022-03-23T07:51:11.293Z"
   },
   {
    "duration": 707,
    "start_time": "2022-03-23T07:51:13.263Z"
   },
   {
    "duration": 625,
    "start_time": "2022-03-23T07:51:13.973Z"
   },
   {
    "duration": 9,
    "start_time": "2022-03-23T07:51:14.601Z"
   },
   {
    "duration": 162,
    "start_time": "2022-03-23T07:51:14.612Z"
   },
   {
    "duration": 6,
    "start_time": "2022-03-23T07:51:14.777Z"
   },
   {
    "duration": 39,
    "start_time": "2022-03-23T07:51:14.786Z"
   },
   {
    "duration": 86,
    "start_time": "2022-03-23T07:51:14.828Z"
   },
   {
    "duration": 26,
    "start_time": "2022-03-23T07:51:14.918Z"
   },
   {
    "duration": 50,
    "start_time": "2022-03-23T07:51:14.967Z"
   },
   {
    "duration": 47,
    "start_time": "2022-03-23T07:51:15.020Z"
   },
   {
    "duration": 10,
    "start_time": "2022-03-23T07:51:15.071Z"
   },
   {
    "duration": 36,
    "start_time": "2022-03-23T07:51:15.084Z"
   },
   {
    "duration": 6,
    "start_time": "2022-03-23T07:51:15.123Z"
   },
   {
    "duration": 37,
    "start_time": "2022-03-23T07:51:15.131Z"
   },
   {
    "duration": 25,
    "start_time": "2022-03-23T07:51:15.171Z"
   },
   {
    "duration": 108,
    "start_time": "2022-03-23T07:51:15.199Z"
   },
   {
    "duration": 11,
    "start_time": "2022-03-23T07:51:15.310Z"
   },
   {
    "duration": 45,
    "start_time": "2022-03-23T07:51:15.324Z"
   },
   {
    "duration": 7,
    "start_time": "2022-03-23T07:51:15.372Z"
   },
   {
    "duration": 7,
    "start_time": "2022-03-23T07:51:15.381Z"
   },
   {
    "duration": 222,
    "start_time": "2022-03-23T07:51:15.390Z"
   },
   {
    "duration": 30,
    "start_time": "2022-03-23T07:51:15.614Z"
   },
   {
    "duration": 556,
    "start_time": "2022-03-23T07:51:15.647Z"
   },
   {
    "duration": 9,
    "start_time": "2022-03-23T07:51:16.205Z"
   },
   {
    "duration": 528,
    "start_time": "2022-03-23T07:51:16.216Z"
   },
   {
    "duration": 39,
    "start_time": "2022-03-23T07:51:16.746Z"
   },
   {
    "duration": 27,
    "start_time": "2022-03-23T07:51:16.790Z"
   },
   {
    "duration": 434,
    "start_time": "2022-03-23T07:51:16.819Z"
   },
   {
    "duration": 36,
    "start_time": "2022-03-23T07:51:17.255Z"
   },
   {
    "duration": 534,
    "start_time": "2022-03-23T07:51:17.293Z"
   },
   {
    "duration": 8,
    "start_time": "2022-03-23T07:51:17.829Z"
   },
   {
    "duration": 860,
    "start_time": "2022-03-23T07:51:17.841Z"
   },
   {
    "duration": 506,
    "start_time": "2022-03-23T07:51:18.704Z"
   },
   {
    "duration": 57,
    "start_time": "2022-03-23T07:51:19.212Z"
   },
   {
    "duration": 33,
    "start_time": "2022-03-23T07:51:19.272Z"
   },
   {
    "duration": 534,
    "start_time": "2022-03-23T07:51:19.307Z"
   },
   {
    "duration": 8,
    "start_time": "2022-03-23T07:51:19.843Z"
   },
   {
    "duration": 530,
    "start_time": "2022-03-23T07:51:19.867Z"
   },
   {
    "duration": 400,
    "start_time": "2022-03-23T07:51:20.399Z"
   },
   {
    "duration": 46,
    "start_time": "2022-03-23T07:51:20.801Z"
   },
   {
    "duration": 583,
    "start_time": "2022-03-23T07:51:20.849Z"
   },
   {
    "duration": 57,
    "start_time": "2022-03-23T07:51:21.435Z"
   },
   {
    "duration": 208,
    "start_time": "2022-03-23T07:51:21.494Z"
   },
   {
    "duration": 353,
    "start_time": "2022-03-23T07:51:21.705Z"
   },
   {
    "duration": 13,
    "start_time": "2022-03-23T07:51:22.068Z"
   },
   {
    "duration": 15,
    "start_time": "2022-03-23T07:51:22.083Z"
   },
   {
    "duration": 10,
    "start_time": "2022-03-23T07:51:22.101Z"
   },
   {
    "duration": 56,
    "start_time": "2022-03-23T07:51:22.114Z"
   },
   {
    "duration": 13,
    "start_time": "2022-03-23T07:51:22.173Z"
   },
   {
    "duration": 8,
    "start_time": "2022-03-23T07:51:22.189Z"
   },
   {
    "duration": 15,
    "start_time": "2022-03-23T07:51:29.262Z"
   },
   {
    "duration": 11,
    "start_time": "2022-03-23T07:51:33.855Z"
   },
   {
    "duration": 51,
    "start_time": "2022-04-24T13:07:35.684Z"
   },
   {
    "duration": 7,
    "start_time": "2022-04-24T13:08:52.745Z"
   },
   {
    "duration": 1162,
    "start_time": "2022-04-24T13:08:56.479Z"
   },
   {
    "duration": 394,
    "start_time": "2022-04-24T13:08:57.643Z"
   },
   {
    "duration": 453,
    "start_time": "2022-04-24T13:08:58.039Z"
   },
   {
    "duration": 7,
    "start_time": "2022-04-24T13:08:58.494Z"
   },
   {
    "duration": 102,
    "start_time": "2022-04-24T13:08:58.503Z"
   },
   {
    "duration": 6,
    "start_time": "2022-04-24T13:08:58.606Z"
   },
   {
    "duration": 25,
    "start_time": "2022-04-24T13:08:58.613Z"
   },
   {
    "duration": 55,
    "start_time": "2022-04-24T13:08:58.640Z"
   },
   {
    "duration": 15,
    "start_time": "2022-04-24T13:08:58.697Z"
   },
   {
    "duration": 30,
    "start_time": "2022-04-24T13:08:58.715Z"
   },
   {
    "duration": 37,
    "start_time": "2022-04-24T13:08:58.747Z"
   },
   {
    "duration": 16,
    "start_time": "2022-04-24T13:08:58.786Z"
   },
   {
    "duration": 31,
    "start_time": "2022-04-24T13:08:58.804Z"
   },
   {
    "duration": 3,
    "start_time": "2022-04-24T13:08:58.838Z"
   },
   {
    "duration": 10,
    "start_time": "2022-04-24T13:08:58.844Z"
   },
   {
    "duration": 40,
    "start_time": "2022-04-24T13:08:58.855Z"
   },
   {
    "duration": 51,
    "start_time": "2022-04-24T13:08:58.898Z"
   },
   {
    "duration": 8,
    "start_time": "2022-04-24T13:08:58.951Z"
   },
   {
    "duration": 17,
    "start_time": "2022-04-24T13:08:58.978Z"
   },
   {
    "duration": 6,
    "start_time": "2022-04-24T13:08:58.997Z"
   },
   {
    "duration": 4,
    "start_time": "2022-04-24T13:08:59.005Z"
   },
   {
    "duration": 140,
    "start_time": "2022-04-24T13:08:59.011Z"
   },
   {
    "duration": 34,
    "start_time": "2022-04-24T13:08:59.153Z"
   },
   {
    "duration": 374,
    "start_time": "2022-04-24T13:08:59.189Z"
   },
   {
    "duration": 19,
    "start_time": "2022-04-24T13:08:59.565Z"
   },
   {
    "duration": 363,
    "start_time": "2022-04-24T13:08:59.587Z"
   },
   {
    "duration": 38,
    "start_time": "2022-04-24T13:08:59.952Z"
   },
   {
    "duration": 26,
    "start_time": "2022-04-24T13:08:59.994Z"
   },
   {
    "duration": 304,
    "start_time": "2022-04-24T13:09:00.022Z"
   },
   {
    "duration": 22,
    "start_time": "2022-04-24T13:09:00.327Z"
   },
   {
    "duration": 370,
    "start_time": "2022-04-24T13:09:00.352Z"
   },
   {
    "duration": 6,
    "start_time": "2022-04-24T13:09:00.724Z"
   },
   {
    "duration": 354,
    "start_time": "2022-04-24T13:09:00.731Z"
   },
   {
    "duration": 349,
    "start_time": "2022-04-24T13:09:01.088Z"
   },
   {
    "duration": 42,
    "start_time": "2022-04-24T13:09:01.439Z"
   },
   {
    "duration": 21,
    "start_time": "2022-04-24T13:09:01.483Z"
   },
   {
    "duration": 372,
    "start_time": "2022-04-24T13:09:01.506Z"
   },
   {
    "duration": 7,
    "start_time": "2022-04-24T13:09:01.880Z"
   },
   {
    "duration": 371,
    "start_time": "2022-04-24T13:09:01.889Z"
   },
   {
    "duration": 253,
    "start_time": "2022-04-24T13:09:02.261Z"
   },
   {
    "duration": 30,
    "start_time": "2022-04-24T13:09:02.516Z"
   },
   {
    "duration": 369,
    "start_time": "2022-04-24T13:09:02.548Z"
   },
   {
    "duration": 31,
    "start_time": "2022-04-24T13:09:02.919Z"
   },
   {
    "duration": 145,
    "start_time": "2022-04-24T13:09:02.952Z"
   },
   {
    "duration": 228,
    "start_time": "2022-04-24T13:09:03.098Z"
   },
   {
    "duration": 10,
    "start_time": "2022-04-24T13:09:03.327Z"
   },
   {
    "duration": 15,
    "start_time": "2022-04-24T13:09:03.338Z"
   },
   {
    "duration": 28,
    "start_time": "2022-04-24T13:09:03.354Z"
   },
   {
    "duration": 17,
    "start_time": "2022-04-24T13:09:03.384Z"
   },
   {
    "duration": 20,
    "start_time": "2022-04-24T13:09:03.403Z"
   },
   {
    "duration": 8,
    "start_time": "2022-04-24T13:09:03.425Z"
   },
   {
    "duration": 972,
    "start_time": "2022-08-10T13:11:35.202Z"
   },
   {
    "duration": 1535,
    "start_time": "2022-08-10T13:11:36.176Z"
   },
   {
    "duration": 348,
    "start_time": "2022-08-10T13:11:37.712Z"
   },
   {
    "duration": 6,
    "start_time": "2022-08-10T13:11:38.062Z"
   },
   {
    "duration": 92,
    "start_time": "2022-08-10T13:11:38.070Z"
   },
   {
    "duration": 6,
    "start_time": "2022-08-10T13:11:38.163Z"
   },
   {
    "duration": 25,
    "start_time": "2022-08-10T13:11:38.170Z"
   },
   {
    "duration": 36,
    "start_time": "2022-08-10T13:11:38.197Z"
   },
   {
    "duration": 33,
    "start_time": "2022-08-10T13:11:38.235Z"
   },
   {
    "duration": 22,
    "start_time": "2022-08-10T13:11:38.270Z"
   },
   {
    "duration": 16,
    "start_time": "2022-08-10T13:11:38.293Z"
   },
   {
    "duration": 5,
    "start_time": "2022-08-10T13:11:38.311Z"
   },
   {
    "duration": 51,
    "start_time": "2022-08-10T13:11:38.318Z"
   },
   {
    "duration": 3,
    "start_time": "2022-08-10T13:11:38.371Z"
   },
   {
    "duration": 6,
    "start_time": "2022-08-10T13:11:38.375Z"
   },
   {
    "duration": 10,
    "start_time": "2022-08-10T13:11:38.383Z"
   },
   {
    "duration": 41,
    "start_time": "2022-08-10T13:11:38.395Z"
   },
   {
    "duration": 7,
    "start_time": "2022-08-10T13:11:38.455Z"
   },
   {
    "duration": 15,
    "start_time": "2022-08-10T13:11:38.464Z"
   },
   {
    "duration": 4,
    "start_time": "2022-08-10T13:11:38.481Z"
   },
   {
    "duration": 6,
    "start_time": "2022-08-10T13:11:38.487Z"
   },
   {
    "duration": 132,
    "start_time": "2022-08-10T13:11:38.495Z"
   },
   {
    "duration": 29,
    "start_time": "2022-08-10T13:11:38.629Z"
   },
   {
    "duration": 346,
    "start_time": "2022-08-10T13:11:38.660Z"
   },
   {
    "duration": 5,
    "start_time": "2022-08-10T13:11:39.008Z"
   },
   {
    "duration": 332,
    "start_time": "2022-08-10T13:11:39.015Z"
   },
   {
    "duration": 20,
    "start_time": "2022-08-10T13:11:39.355Z"
   },
   {
    "duration": 17,
    "start_time": "2022-08-10T13:11:39.379Z"
   },
   {
    "duration": 253,
    "start_time": "2022-08-10T13:11:39.397Z"
   },
   {
    "duration": 18,
    "start_time": "2022-08-10T13:11:39.651Z"
   },
   {
    "duration": 295,
    "start_time": "2022-08-10T13:11:39.670Z"
   },
   {
    "duration": 6,
    "start_time": "2022-08-10T13:11:39.966Z"
   },
   {
    "duration": 277,
    "start_time": "2022-08-10T13:11:39.973Z"
   },
   {
    "duration": 321,
    "start_time": "2022-08-10T13:11:40.252Z"
   },
   {
    "duration": 27,
    "start_time": "2022-08-10T13:11:40.575Z"
   },
   {
    "duration": 16,
    "start_time": "2022-08-10T13:11:40.603Z"
   },
   {
    "duration": 301,
    "start_time": "2022-08-10T13:11:40.621Z"
   },
   {
    "duration": 5,
    "start_time": "2022-08-10T13:11:40.923Z"
   },
   {
    "duration": 297,
    "start_time": "2022-08-10T13:11:40.930Z"
   },
   {
    "duration": 210,
    "start_time": "2022-08-10T13:11:41.228Z"
   },
   {
    "duration": 33,
    "start_time": "2022-08-10T13:11:41.440Z"
   },
   {
    "duration": 285,
    "start_time": "2022-08-10T13:11:41.475Z"
   },
   {
    "duration": 27,
    "start_time": "2022-08-10T13:11:41.762Z"
   },
   {
    "duration": 113,
    "start_time": "2022-08-10T13:11:41.791Z"
   },
   {
    "duration": 199,
    "start_time": "2022-08-10T13:11:41.905Z"
   },
   {
    "duration": 9,
    "start_time": "2022-08-10T13:11:42.105Z"
   },
   {
    "duration": 16,
    "start_time": "2022-08-10T13:11:42.115Z"
   },
   {
    "duration": 10,
    "start_time": "2022-08-10T13:11:42.133Z"
   },
   {
    "duration": 14,
    "start_time": "2022-08-10T13:11:42.144Z"
   },
   {
    "duration": 7,
    "start_time": "2022-08-10T13:11:42.159Z"
   },
   {
    "duration": 7,
    "start_time": "2022-08-10T13:11:42.167Z"
   },
   {
    "duration": 1168,
    "start_time": "2022-08-10T13:13:52.150Z"
   },
   {
    "duration": 408,
    "start_time": "2022-08-10T13:13:53.320Z"
   },
   {
    "duration": 377,
    "start_time": "2022-08-10T13:13:53.729Z"
   },
   {
    "duration": 8,
    "start_time": "2022-08-10T13:13:54.107Z"
   },
   {
    "duration": 93,
    "start_time": "2022-08-10T13:13:54.116Z"
   },
   {
    "duration": 4,
    "start_time": "2022-08-10T13:13:54.210Z"
   },
   {
    "duration": 24,
    "start_time": "2022-08-10T13:13:54.216Z"
   },
   {
    "duration": 50,
    "start_time": "2022-08-10T13:13:54.241Z"
   },
   {
    "duration": 17,
    "start_time": "2022-08-10T13:13:54.293Z"
   },
   {
    "duration": 26,
    "start_time": "2022-08-10T13:13:54.312Z"
   },
   {
    "duration": 16,
    "start_time": "2022-08-10T13:13:54.355Z"
   },
   {
    "duration": 6,
    "start_time": "2022-08-10T13:13:54.373Z"
   },
   {
    "duration": 28,
    "start_time": "2022-08-10T13:13:54.380Z"
   },
   {
    "duration": 3,
    "start_time": "2022-08-10T13:13:54.412Z"
   },
   {
    "duration": 9,
    "start_time": "2022-08-10T13:13:54.417Z"
   },
   {
    "duration": 30,
    "start_time": "2022-08-10T13:13:54.428Z"
   },
   {
    "duration": 47,
    "start_time": "2022-08-10T13:13:54.460Z"
   },
   {
    "duration": 6,
    "start_time": "2022-08-10T13:13:54.509Z"
   },
   {
    "duration": 14,
    "start_time": "2022-08-10T13:13:54.516Z"
   },
   {
    "duration": 5,
    "start_time": "2022-08-10T13:13:54.531Z"
   },
   {
    "duration": 19,
    "start_time": "2022-08-10T13:13:54.537Z"
   },
   {
    "duration": 123,
    "start_time": "2022-08-10T13:13:54.557Z"
   },
   {
    "duration": 20,
    "start_time": "2022-08-10T13:13:54.682Z"
   },
   {
    "duration": 333,
    "start_time": "2022-08-10T13:13:54.704Z"
   },
   {
    "duration": 5,
    "start_time": "2022-08-10T13:13:55.038Z"
   },
   {
    "duration": 313,
    "start_time": "2022-08-10T13:13:55.044Z"
   },
   {
    "duration": 18,
    "start_time": "2022-08-10T13:13:55.358Z"
   },
   {
    "duration": 17,
    "start_time": "2022-08-10T13:13:55.377Z"
   },
   {
    "duration": 255,
    "start_time": "2022-08-10T13:13:55.395Z"
   },
   {
    "duration": 21,
    "start_time": "2022-08-10T13:13:55.651Z"
   },
   {
    "duration": 296,
    "start_time": "2022-08-10T13:13:55.673Z"
   },
   {
    "duration": 5,
    "start_time": "2022-08-10T13:13:55.970Z"
   },
   {
    "duration": 282,
    "start_time": "2022-08-10T13:13:55.977Z"
   },
   {
    "duration": 293,
    "start_time": "2022-08-10T13:13:56.260Z"
   },
   {
    "duration": 26,
    "start_time": "2022-08-10T13:13:56.555Z"
   },
   {
    "duration": 17,
    "start_time": "2022-08-10T13:13:56.582Z"
   },
   {
    "duration": 337,
    "start_time": "2022-08-10T13:13:56.600Z"
   },
   {
    "duration": 5,
    "start_time": "2022-08-10T13:13:56.938Z"
   },
   {
    "duration": 301,
    "start_time": "2022-08-10T13:13:56.944Z"
   },
   {
    "duration": 258,
    "start_time": "2022-08-10T13:13:57.247Z"
   },
   {
    "duration": 34,
    "start_time": "2022-08-10T13:13:57.509Z"
   },
   {
    "duration": 331,
    "start_time": "2022-08-10T13:13:57.545Z"
   },
   {
    "duration": 28,
    "start_time": "2022-08-10T13:13:57.878Z"
   },
   {
    "duration": 120,
    "start_time": "2022-08-10T13:13:57.907Z"
   },
   {
    "duration": 200,
    "start_time": "2022-08-10T13:13:58.028Z"
   },
   {
    "duration": 8,
    "start_time": "2022-08-10T13:13:58.229Z"
   },
   {
    "duration": 18,
    "start_time": "2022-08-10T13:13:58.239Z"
   },
   {
    "duration": 6,
    "start_time": "2022-08-10T13:13:58.259Z"
   },
   {
    "duration": 9,
    "start_time": "2022-08-10T13:13:58.266Z"
   },
   {
    "duration": 6,
    "start_time": "2022-08-10T13:13:58.276Z"
   },
   {
    "duration": 5,
    "start_time": "2022-08-10T13:13:58.284Z"
   },
   {
    "duration": 1245,
    "start_time": "2022-08-13T16:13:09.200Z"
   },
   {
    "duration": 1021,
    "start_time": "2022-08-13T16:13:10.447Z"
   },
   {
    "duration": 457,
    "start_time": "2022-08-13T16:13:11.470Z"
   },
   {
    "duration": 6,
    "start_time": "2022-08-13T16:13:11.929Z"
   },
   {
    "duration": 138,
    "start_time": "2022-08-13T16:13:11.938Z"
   },
   {
    "duration": 19,
    "start_time": "2022-08-13T16:13:12.078Z"
   },
   {
    "duration": 24,
    "start_time": "2022-08-13T16:13:12.101Z"
   },
   {
    "duration": 33,
    "start_time": "2022-08-13T16:13:12.126Z"
   },
   {
    "duration": 40,
    "start_time": "2022-08-13T16:13:12.161Z"
   },
   {
    "duration": 25,
    "start_time": "2022-08-13T16:13:12.204Z"
   },
   {
    "duration": 16,
    "start_time": "2022-08-13T16:13:12.231Z"
   },
   {
    "duration": 6,
    "start_time": "2022-08-13T16:13:12.248Z"
   },
   {
    "duration": 51,
    "start_time": "2022-08-13T16:13:12.255Z"
   },
   {
    "duration": 3,
    "start_time": "2022-08-13T16:13:12.309Z"
   },
   {
    "duration": 13,
    "start_time": "2022-08-13T16:13:12.314Z"
   },
   {
    "duration": 10,
    "start_time": "2022-08-13T16:13:12.329Z"
   },
   {
    "duration": 70,
    "start_time": "2022-08-13T16:13:12.341Z"
   },
   {
    "duration": 9,
    "start_time": "2022-08-13T16:13:12.413Z"
   },
   {
    "duration": 20,
    "start_time": "2022-08-13T16:13:12.423Z"
   },
   {
    "duration": 6,
    "start_time": "2022-08-13T16:13:12.445Z"
   },
   {
    "duration": 14,
    "start_time": "2022-08-13T16:13:12.452Z"
   },
   {
    "duration": 147,
    "start_time": "2022-08-13T16:13:12.467Z"
   },
   {
    "duration": 21,
    "start_time": "2022-08-13T16:13:12.615Z"
   },
   {
    "duration": 394,
    "start_time": "2022-08-13T16:13:12.637Z"
   },
   {
    "duration": 6,
    "start_time": "2022-08-13T16:13:13.033Z"
   },
   {
    "duration": 369,
    "start_time": "2022-08-13T16:13:13.040Z"
   },
   {
    "duration": 26,
    "start_time": "2022-08-13T16:13:13.411Z"
   },
   {
    "duration": 49,
    "start_time": "2022-08-13T16:13:13.439Z"
   },
   {
    "duration": 261,
    "start_time": "2022-08-13T16:13:13.490Z"
   },
   {
    "duration": 20,
    "start_time": "2022-08-13T16:13:13.753Z"
   },
   {
    "duration": 383,
    "start_time": "2022-08-13T16:13:13.774Z"
   },
   {
    "duration": 8,
    "start_time": "2022-08-13T16:13:14.160Z"
   },
   {
    "duration": 344,
    "start_time": "2022-08-13T16:13:14.170Z"
   },
   {
    "duration": 347,
    "start_time": "2022-08-13T16:13:14.516Z"
   },
   {
    "duration": 46,
    "start_time": "2022-08-13T16:13:14.865Z"
   },
   {
    "duration": 20,
    "start_time": "2022-08-13T16:13:14.912Z"
   },
   {
    "duration": 372,
    "start_time": "2022-08-13T16:13:14.933Z"
   },
   {
    "duration": 6,
    "start_time": "2022-08-13T16:13:15.306Z"
   },
   {
    "duration": 344,
    "start_time": "2022-08-13T16:13:15.314Z"
   },
   {
    "duration": 242,
    "start_time": "2022-08-13T16:13:15.660Z"
   },
   {
    "duration": 31,
    "start_time": "2022-08-13T16:13:15.906Z"
   },
   {
    "duration": 404,
    "start_time": "2022-08-13T16:13:15.938Z"
   },
   {
    "duration": 59,
    "start_time": "2022-08-13T16:13:16.345Z"
   },
   {
    "duration": 164,
    "start_time": "2022-08-13T16:13:16.405Z"
   },
   {
    "duration": 238,
    "start_time": "2022-08-13T16:13:16.571Z"
   },
   {
    "duration": 8,
    "start_time": "2022-08-13T16:13:16.811Z"
   },
   {
    "duration": 19,
    "start_time": "2022-08-13T16:13:16.821Z"
   },
   {
    "duration": 12,
    "start_time": "2022-08-13T16:13:16.842Z"
   },
   {
    "duration": 15,
    "start_time": "2022-08-13T16:13:16.856Z"
   },
   {
    "duration": 19,
    "start_time": "2022-08-13T16:13:16.873Z"
   },
   {
    "duration": 16,
    "start_time": "2022-08-13T16:13:16.893Z"
   }
  ],
  "kernelspec": {
   "display_name": "Python 3 (ipykernel)",
   "language": "python",
   "name": "python3"
  },
  "language_info": {
   "codemirror_mode": {
    "name": "ipython",
    "version": 3
   },
   "file_extension": ".py",
   "mimetype": "text/x-python",
   "name": "python",
   "nbconvert_exporter": "python",
   "pygments_lexer": "ipython3",
   "version": "3.9.5"
  },
  "toc": {
   "base_numbering": 1,
   "nav_menu": {},
   "number_sections": true,
   "sideBar": true,
   "skip_h1_title": true,
   "title_cell": "Table of Contents",
   "title_sidebar": "Contents",
   "toc_cell": false,
   "toc_position": {
    "height": "calc(100% - 180px)",
    "left": "10px",
    "top": "150px",
    "width": "301.181px"
   },
   "toc_section_display": true,
   "toc_window_display": true
  }
 },
 "nbformat": 4,
 "nbformat_minor": 2
}
