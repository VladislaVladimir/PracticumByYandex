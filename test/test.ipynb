{
 "cells": [
  {
   "cell_type": "code",
   "execution_count": null,
   "id": "226b8c84",
   "metadata": {},
   "outputs": [],
   "source": [
    "import pandas as pd\n",
    "import numpy as np\n",
    "import seaborn as sns\n",
    "import matplotlib.pyplot as plt\n",
    "import math as mth\n",
    "import scipy.stats as stats\n",
    "from scipy import stats as st\n",
    "from plotly import graph_objects as go\n",
    "from datetime import datetime\n"
   ]
  },
  {
   "cell_type": "code",
   "execution_count": null,
   "id": "dbe96a15",
   "metadata": {},
   "outputs": [],
   "source": [
    "import plotly.io as pio\n",
    "pio.renderers.default='notebook'"
   ]
  },
  {
   "cell_type": "markdown",
   "id": "e737a290",
   "metadata": {},
   "source": [
    "# Тема: оценка результатов проведения А/В теста"
   ]
  },
  {
   "cell_type": "markdown",
   "id": "590a9d3e",
   "metadata": {},
   "source": [
    "**Описание данных**\n",
    "\n",
    "`ab_project_marketing_events.csv` — календарь маркетинговых событий на 2020 год.\n",
    "\n",
    "Структура файла:\n",
    "* `name` — название маркетингового события;\n",
    "* `regions` — регионы, в которых будет проводиться рекламная кампания;\n",
    "* `start_dt` — дата начала кампании;\n",
    "* `finish_dt` — дата завершения кампании.\n",
    "\n",
    "`final_ab_new_users.csv` — пользователи, зарегистрировавшиеся с 7 по 21 декабря 2020 года.\n",
    " \n",
    "Структура файла:\n",
    "* `user_id` — идентификатор пользователя;\n",
    "* `first_date` — дата регистрации;\n",
    "* `region` — регион пользователя;\n",
    "* `device` — устройство, с которого происходила регистрация.\n",
    "\n",
    "`final_ab_events.csv` — действия новых пользователей в период с 7 декабря 2020 по 4 января 2021 года.\n",
    "\n",
    "Структура файла:\n",
    "* `user_id` — идентификатор пользователя;\n",
    "* `event_dt` — дата и время покупки;\n",
    "* `event_name` — тип события;\n",
    "* `details` — дополнительные данные о событии. Например, для покупок, `purchase`, в этом поле хранится стоимость покупки в долларах.\n",
    "\n",
    "\n",
    "`final_ab_participants.csv` — таблица участников тестов.\n",
    "\n",
    "Структура файла:\n",
    "\n",
    "* `user_id` — идентификатор пользователя;\n",
    "* `ab_test` — название теста;\n",
    "* `group` — группа пользователя.\n"
   ]
  },
  {
   "cell_type": "markdown",
   "id": "268880c9",
   "metadata": {},
   "source": [
    " ## Исследование данных "
   ]
  },
  {
   "cell_type": "code",
   "execution_count": null,
   "id": "07574be6",
   "metadata": {
    "scrolled": false
   },
   "outputs": [],
   "source": [
    "events = pd.read_csv('/datasets/final_ab_events.csv')\n",
    "new_users = pd.read_csv('/datasets/final_ab_new_users.csv')\n",
    "participants = pd.read_csv('/datasets/final_ab_participants.csv')\n",
    "project_marketing_events = pd.read_csv('/datasets/ab_project_marketing_events.csv')\n"
   ]
  },
  {
   "cell_type": "code",
   "execution_count": null,
   "id": "bd4bfdc4",
   "metadata": {
    "scrolled": false
   },
   "outputs": [],
   "source": [
    "frame = {\"ab_events\":events,\n",
    "         \"ab_new_users\":new_users,\n",
    "         \"ab_participants\":participants,\n",
    "         \"marketing_events\":project_marketing_events\n",
    "        }  #создадим словарь для того, чтобы можно было по нему пробежаться\n",
    "\n",
    "for name, information in frame.items():\n",
    "    print('\\033[1m' + name.upper() + '\\033[0m')\n",
    "    display(information.head()) #открываем фрейм\n",
    "    print()\n",
    "    print(information.info())   #выводим информацию о фрейме\n",
    "    print()\n",
    "    print(\"Количество пропусков по столбцам\")\n",
    "    print(information.isna().sum()) #посмотрим на пропуски\n",
    "    print()\n",
    "    print(f'Количество явных дубликатов - {information.duplicated().sum()} ') #выведим явные дубликаты для изучения\n",
    "    print()"
   ]
  },
  {
   "cell_type": "markdown",
   "id": "a5a8036a",
   "metadata": {},
   "source": [
    "В датасете final_ab_events:\n",
    "- По столбцу details присутствует 377577 пропусков. Пропуски связаны с тем, что в данном столбце отображается дополнительная информация только о покупках, если покупка не было совершена, то данный столбец не заполняется.\n",
    "- Столбец event_dt нужно привести к формату datatime\n",
    "\n",
    "В датасете final_ab_new_users:\n",
    "- Столбец first_date нужно привести к формату datatime\n",
    "\n",
    "В датасете final_ab_project_marketing_events:\n",
    "- Столбец start_dt и finish_dt нужно привести к формату datatime"
   ]
  },
  {
   "cell_type": "markdown",
   "id": "4e41f1f9",
   "metadata": {},
   "source": [
    "Приведем даты к формату datatime:"
   ]
  },
  {
   "cell_type": "code",
   "execution_count": null,
   "id": "aa4cfe5b",
   "metadata": {},
   "outputs": [],
   "source": [
    "events['event_dt'] = pd.to_datetime(events['event_dt'], format='%Y-%m-%d %H:%M:%S')\n",
    "new_users['first_date'] = pd.to_datetime(new_users['first_date'], format='%Y-%m-%d')\n",
    "project_marketing_events['start_dt'] = pd.to_datetime(project_marketing_events['start_dt'], format='%Y-%m-%d')\n",
    "project_marketing_events['finish_dt'] = pd.to_datetime(project_marketing_events['finish_dt'], format='%Y-%m-%d')"
   ]
  },
  {
   "cell_type": "markdown",
   "id": "f6feb4e0",
   "metadata": {},
   "source": [
    "## Оценка корректности проведения теста"
   ]
  },
  {
   "cell_type": "markdown",
   "id": "207fa65a",
   "metadata": {},
   "source": [
    "### Соответствие данных требованиям технического задания. "
   ]
  },
  {
   "cell_type": "markdown",
   "id": "e1bd6bf5",
   "metadata": {},
   "source": [
    " **Название теста**: recommender_system_test "
   ]
  },
  {
   "cell_type": "code",
   "execution_count": null,
   "id": "0e737bd1",
   "metadata": {},
   "outputs": [],
   "source": [
    "participants['ab_test'].value_counts()"
   ]
  },
  {
   "cell_type": "markdown",
   "id": "f8878122",
   "metadata": {},
   "source": [
    "В данных присутствует помимо нужного нам теста recommender_system_test, еще дополнительный тест interface_eu_test. Сгруппируем по тестам и посмотрим сколько пользоввателей находятся в разных тестах"
   ]
  },
  {
   "cell_type": "code",
   "execution_count": null,
   "id": "eee52c4b",
   "metadata": {},
   "outputs": [],
   "source": [
    "participants.groupby(['ab_test', 'group']).agg({'user_id':'nunique'})"
   ]
  },
  {
   "cell_type": "markdown",
   "id": "3130a303",
   "metadata": {},
   "source": [
    "Сделаем отдельную переменную  с нужным нам тестом"
   ]
  },
  {
   "cell_type": "code",
   "execution_count": null,
   "id": "a8446f38",
   "metadata": {},
   "outputs": [],
   "source": [
    "recommender_system_test = participants.query('ab_test == \"recommender_system_test\"')"
   ]
  },
  {
   "cell_type": "code",
   "execution_count": null,
   "id": "3965df17",
   "metadata": {},
   "outputs": [],
   "source": [
    "recommender_system_test.groupby('group').agg({'user_id':'nunique'})"
   ]
  },
  {
   "cell_type": "markdown",
   "id": "042e38c3",
   "metadata": {},
   "source": [
    "**Группы**: А — контрольная, B — новая платёжная воронка;"
   ]
  },
  {
   "cell_type": "markdown",
   "id": "cb424762",
   "metadata": {},
   "source": [
    "- дата запуска: 2020-12-07;\n",
    "\n",
    "- дата остановки набора новых пользователей: 2020-12-21;\n",
    "\n",
    "- дата остановки: 2021-01-04;"
   ]
  },
  {
   "cell_type": "code",
   "execution_count": null,
   "id": "8a121745",
   "metadata": {
    "scrolled": true
   },
   "outputs": [],
   "source": [
    "print('Дата запуска:', new_users['first_date'].min())\n",
    "print('Дата остановки набора новых пользователей:', new_users['first_date'].max())"
   ]
  },
  {
   "cell_type": "markdown",
   "id": "188792d4",
   "metadata": {},
   "source": [
    "Попало 2 лишних дня. Срезаем согласно ТЗ."
   ]
  },
  {
   "cell_type": "code",
   "execution_count": null,
   "id": "0434fe7c",
   "metadata": {},
   "outputs": [],
   "source": [
    "new_users = new_users.query('first_date <= \"2020-12-21\" and region == \"EU\"') #срезаем по ТЗ"
   ]
  },
  {
   "cell_type": "markdown",
   "id": "cd13f3e2",
   "metadata": {},
   "source": [
    "**аудитория**: 15% новых пользователей из региона EU"
   ]
  },
  {
   "cell_type": "markdown",
   "id": "b305e81b",
   "metadata": {},
   "source": [
    "Посмотрим,  сколько попало в тест из региона EU."
   ]
  },
  {
   "cell_type": "code",
   "execution_count": null,
   "id": "e4ac0266",
   "metadata": {},
   "outputs": [],
   "source": [
    "#присоединям к таблицу участников теста, новых участников из EU\n",
    "eu_test = recommender_system_test.merge(new_users, on = 'user_id', how = \"left\")\n",
    "#дропнем участников, которые не относятся к EU\n",
    "eu_test.dropna(inplace = True)"
   ]
  },
  {
   "cell_type": "code",
   "execution_count": null,
   "id": "ef893b1d",
   "metadata": {},
   "outputs": [],
   "source": [
    "print('Доля пользователей из EU региона попавших в тест: {:.2f}%'.format(len(eu_test)/len(new_users)*100))"
   ]
  },
  {
   "cell_type": "markdown",
   "id": "9223e71c",
   "metadata": {},
   "source": [
    "Действительно, 15% попадает в тест."
   ]
  },
  {
   "cell_type": "markdown",
   "id": "8de76fd0",
   "metadata": {},
   "source": [
    "В ТЗ стоит задача улучшить параметры конверсии за 14 дней. В связи с этим, всех пользователей, которые \"прожили\" меньше удалим из данных для достоверности анализа:"
   ]
  },
  {
   "cell_type": "code",
   "execution_count": null,
   "id": "4875c049",
   "metadata": {},
   "outputs": [],
   "source": [
    "events_by_user = recommender_system_test.merge(events, on = 'user_id', how = 'left') #сгруппируем участников теста и события\n",
    "\n",
    "events_by_user = events_by_user.merge(new_users, on = 'user_id', how = 'left') #присоединим к участникам новых пользователей\n",
    "\n",
    "\n",
    "# вычисляем лайфтайм для каждой сессии в днях\n",
    "\n",
    "events_by_user['lifetime'] = (\n",
    "    events_by_user['event_dt'] - events_by_user['first_date']\n",
    ").dt.days\n"
   ]
  },
  {
   "cell_type": "code",
   "execution_count": null,
   "id": "278ff2d5",
   "metadata": {},
   "outputs": [],
   "source": [
    "result_grouped = events_by_user.pivot_table(\n",
    "    index=['first_date'], columns='lifetime', values='user_id', aggfunc='nunique'\n",
    ")\n",
    "\n",
    "result_grouped"
   ]
  },
  {
   "cell_type": "markdown",
   "id": "3411cf38",
   "metadata": {},
   "source": [
    "Видим, что пользователи, которые попали в тест после 2020-12-15 не успевают \"прожить\" 14 дней. Поэтому обрезаем данные по 2020-12-15."
   ]
  },
  {
   "cell_type": "code",
   "execution_count": null,
   "id": "00b6c800",
   "metadata": {},
   "outputs": [],
   "source": [
    "events_by_user = events_by_user.query('first_date <= \"2020-12-15\"')"
   ]
  },
  {
   "cell_type": "markdown",
   "id": "6060f289",
   "metadata": {},
   "source": [
    "### Время проведения теста. Убедимся, что оно не совпадает с маркетинговыми и другими активностями"
   ]
  },
  {
   "cell_type": "markdown",
   "id": "f04e614a",
   "metadata": {},
   "source": [
    "Посмотрим на таблицу с маркетинговыми активносями и проверим, выпадают ли они на наше тест. Согласно ТЗ тест проводился в интервале с 7 декабря 2020 по 4 января 2021 года (2020-12-07 по 2021-01-04)"
   ]
  },
  {
   "cell_type": "code",
   "execution_count": null,
   "id": "ac1ae7d8",
   "metadata": {},
   "outputs": [],
   "source": [
    "#посмоотрим на таблицу с маркетинговыми активностями\n",
    "project_marketing_events.sort_values(by='start_dt').reset_index(drop = True) "
   ]
  },
  {
   "cell_type": "code",
   "execution_count": null,
   "id": "36f8c3b1",
   "metadata": {},
   "outputs": [],
   "source": [
    "cross_events = project_marketing_events.query('start_dt <= \"2021-01-04\" and finish_dt >= \"2020-12-07\"')\n",
    "cross_events               "
   ]
  },
  {
   "cell_type": "markdown",
   "id": "9d48e0a5",
   "metadata": {},
   "source": [
    "Время теста совпадает с Рождественским и Новогодним промо (Christmas&New Year Promo) и Новогодней лотереей (CIS New Year Gift Lottery). Данные промо, определенно будут влиять на результаты теста."
   ]
  },
  {
   "cell_type": "markdown",
   "id": "bc6d8614",
   "metadata": {},
   "source": [
    "### Аудитория теста. "
   ]
  },
  {
   "cell_type": "markdown",
   "id": "6b32b1f9",
   "metadata": {},
   "source": [
    "Удостоверимся, что нет пересечений с конкурирующим тестом и нет пользователей, участвующих в двух группах теста одновременно. Проверим равномерность распределения по тестовым группам и правильность их формирования."
   ]
  },
  {
   "cell_type": "markdown",
   "id": "4ef0522e",
   "metadata": {},
   "source": [
    "Как мы узнали выше, в данных присутствует еще один тест помимо того, который мы изучаем. Посмотрим, пеерсекаются ли пользователи в этих тестах."
   ]
  },
  {
   "cell_type": "code",
   "execution_count": null,
   "id": "94915ec9",
   "metadata": {},
   "outputs": [],
   "source": [
    "participants.groupby(['ab_test', 'group']).nunique() "
   ]
  },
  {
   "cell_type": "code",
   "execution_count": null,
   "id": "79beaf3b",
   "metadata": {},
   "outputs": [],
   "source": [
    "# Посмотрим пересечение пользователей в тестах.\n",
    "cross_users = len(participants\n",
    "                  .groupby('user_id') #сгруппируем по  поьзоваьелям\n",
    "                  .agg({'ab_test':'nunique'}) #посчитаем уникальные тесты\n",
    "                  .query('ab_test > 1') #дропнем тех, кто присутсвуют в обоих тестах\n",
    "               \n",
    "              )\n",
    "print(f'Число пользователей попавших в пересекающиеся тесты составляет {cross_users}')"
   ]
  },
  {
   "cell_type": "markdown",
   "id": "e26a7927",
   "metadata": {},
   "source": [
    "Ранее мы уже фильтровали нужный нам тест в переменной events_by_user. Проверим уже по фильтрованому и проверим не попали ли пользователеи в обе группы:"
   ]
  },
  {
   "cell_type": "code",
   "execution_count": null,
   "id": "12cea025",
   "metadata": {},
   "outputs": [],
   "source": [
    "events_by_user.groupby(['ab_test', 'group'])['user_id'].nunique() "
   ]
  },
  {
   "cell_type": "markdown",
   "id": "328f3ee7",
   "metadata": {},
   "source": [
    "Позьзователи по группам распределены не равномерно. Это говорит нам о неоптимальности разбиения данных по группам. Для будущих тестов следует несколько поработать с механикой выделения групп и, возможно, изменить подход к их выделению."
   ]
  },
  {
   "cell_type": "code",
   "execution_count": null,
   "id": "606d5186",
   "metadata": {},
   "outputs": [],
   "source": [
    "# Посмотрим пересечение пользователей в тестах.\n",
    "cross_users_target_test = len(events_by_user\n",
    "                              .groupby('user_id') #сгруппируем по  поьзоваьелям\n",
    "                              .agg({'group':'nunique'}) #посчитаем уникальные группы\n",
    "                              .query('group > 1') #дропнем тех, кто присутсвуют в обоих тестах\n",
    "                             )\n",
    "print(f'Число пересекающихся пользователей в группах {cross_users_target_test}')"
   ]
  },
  {
   "cell_type": "markdown",
   "id": "a0061d4d",
   "metadata": {},
   "source": [
    "### Вывод"
   ]
  },
  {
   "cell_type": "markdown",
   "id": "9dff11e2",
   "metadata": {},
   "source": [
    "1) В данные попал еще один тест (interface_eu_test) не указаный в ТЗ , произвели фильтрацию.\n",
    "\n",
    "2) В данных находятся 2 лишних дня, которые не указаны в ТЗ провели фильрацию.\n",
    "\n",
    "3) Убрали пользователей, которые не \"прожили\" 14 дней.\n",
    "\n",
    "4) Группы разбиты неравномерно."
   ]
  },
  {
   "cell_type": "markdown",
   "id": "a965ba84",
   "metadata": {},
   "source": [
    "## Исследовательский анализ данных"
   ]
  },
  {
   "cell_type": "markdown",
   "id": "bb08a16b",
   "metadata": {},
   "source": [
    "### Распределение количества событий на пользователя  в выборках"
   ]
  },
  {
   "cell_type": "markdown",
   "id": "60773c05",
   "metadata": {},
   "source": [
    "Посчитаем сколько событий приходится на пользователя."
   ]
  },
  {
   "cell_type": "code",
   "execution_count": null,
   "id": "aa10da9c",
   "metadata": {
    "scrolled": true
   },
   "outputs": [],
   "source": [
    "#events_by_user = recommender_system_test.merge(events, on = 'user_id', how = 'left') #сгруппируем участников теста и события"
   ]
  },
  {
   "cell_type": "code",
   "execution_count": null,
   "id": "736a652e",
   "metadata": {},
   "outputs": [],
   "source": [
    "#Выделим отдельно группы\n",
    "group_A = events_by_user.query('group == \"A\"')\n",
    "group_B = events_by_user.query('group == \"B\"')"
   ]
  },
  {
   "cell_type": "code",
   "execution_count": null,
   "id": "f0352e84",
   "metadata": {},
   "outputs": [],
   "source": [
    "#сгруппируем события и посчитаем количество по тестовым группам\n",
    "event_by_group = (events_by_user\n",
    "                  .pivot_table(index = 'event_name', \n",
    "                               columns = 'group', \n",
    "                               values = 'user_id', \n",
    "                               aggfunc = 'count')\n",
    "                  .reset_index()\n",
    "                 )\n",
    "#сгруппируем события по группе А и посчитаем количество уникальных пользователей\n",
    "a = group_A.groupby('event_name').agg({'user_id':'nunique'}).reset_index() \n",
    "#сгруппируем события по группе В и посчитаем количество уникальных пользователей\n",
    "b = group_B.groupby('event_name').agg({'user_id':'nunique'}).reset_index()\n",
    "\n",
    "event_by_group['mean_A'] = (event_by_group['A']/a['user_id']).round(2) #добавим среднее событие на пользователя по группе А\n",
    "event_by_group['mean_B'] = (event_by_group['B']/b['user_id']).round(2) #добавим среднее событие на пользователя по группе В\n",
    "event_by_group['ratio_mean'] = event_by_group['mean_A']/event_by_group['mean_B']\n",
    "display(event_by_group)"
   ]
  },
  {
   "cell_type": "markdown",
   "id": "950695ac",
   "metadata": {},
   "source": [
    "Среднее количество событий на человека в группе В на 9%-12% меньше чем в группе А. "
   ]
  },
  {
   "cell_type": "markdown",
   "id": "07aba003",
   "metadata": {},
   "source": [
    "Посчитаем среднее количество всех событий на пользователя по группам:"
   ]
  },
  {
   "cell_type": "code",
   "execution_count": null,
   "id": "5a00ac0f",
   "metadata": {},
   "outputs": [],
   "source": [
    "print('Среднее количество событий на пользователя в группе A:', \n",
    "      (event_by_group['A'].sum()/group_A['user_id'].nunique()).round(2))\n",
    "print('Среднее количество событий на пользователя в группе B:', \n",
    "      (event_by_group['B'].sum()/group_B['user_id'].nunique()).round(2))"
   ]
  },
  {
   "cell_type": "markdown",
   "id": "b1c161a1",
   "metadata": {},
   "source": [
    "Среднее количество всех событий на пользователя в группе A в 2 раза больше, чем в группе В."
   ]
  },
  {
   "cell_type": "markdown",
   "id": "b9bf8ee0",
   "metadata": {},
   "source": [
    "### Распределение числа событий по дням"
   ]
  },
  {
   "cell_type": "markdown",
   "id": "4164d41c",
   "metadata": {},
   "source": [
    "Посмотрим на распределение событий по дням."
   ]
  },
  {
   "cell_type": "code",
   "execution_count": null,
   "id": "769095b6",
   "metadata": {},
   "outputs": [],
   "source": [
    "events_by_user['day'] = events_by_user['event_dt'].dt.strftime('%Y-%m-%d') #выделим дни"
   ]
  },
  {
   "cell_type": "code",
   "execution_count": null,
   "id": "c8556950",
   "metadata": {
    "scrolled": false
   },
   "outputs": [],
   "source": [
    "events_by_day = (events_by_user\n",
    "                 .pivot_table(index = 'day', \n",
    "                              values='event_name', \n",
    "                              columns = 'group', \n",
    "                              aggfunc = 'count') # сгруппируем количество событий по дням\n",
    "                 .reset_index()\n",
    "                )\n",
    "events_by_day"
   ]
  },
  {
   "cell_type": "code",
   "execution_count": null,
   "id": "7a792d26",
   "metadata": {
    "scrolled": false
   },
   "outputs": [],
   "source": [
    "plt.figure(figsize = (14,5))\n",
    "\n",
    "events_by_day.plot(x = 'day', kind = \"bar\", figsize = (15, 10))\n",
    "\n",
    "plt.title('Распределение событий по датам')\n",
    "plt.xlabel('Дата')\n",
    "plt.ylabel('Количество событий')\n",
    "plt.grid()\n",
    "\n",
    "plt.show()\n"
   ]
  },
  {
   "cell_type": "markdown",
   "id": "0751002f",
   "metadata": {},
   "source": [
    "Видно, что распределение по группам неравномерное. С 2020-12-07 по 2020-12-10 пользователи попадали в группы примерно одинаково, однако после группа А стала преобладать над группой В. В 2020-12-14 происходит всплеск в группе А."
   ]
  },
  {
   "cell_type": "markdown",
   "id": "019c178c",
   "metadata": {},
   "source": [
    "### Изменение конверсии в воронке в выборках на разных этапах"
   ]
  },
  {
   "cell_type": "markdown",
   "id": "9cbf954d",
   "metadata": {},
   "source": [
    "Для начала вспомним с какими событиями работаем и расположим их в порядке логического прохождения этапов:\n",
    "- login - вход\n",
    "- product_page - просмотр карточек товаров\n",
    "- product_cart - просмотры корзины\t\n",
    "- purchase - покупка"
   ]
  },
  {
   "cell_type": "markdown",
   "id": "b138f2c2",
   "metadata": {},
   "source": [
    "Посмотрим сколько у нас всего событий сделали пользователи:"
   ]
  },
  {
   "cell_type": "code",
   "execution_count": null,
   "id": "667e47a5",
   "metadata": {},
   "outputs": [],
   "source": [
    "events_funnel = (events_by_user\n",
    "                  .pivot_table(index = 'event_name', \n",
    "                               columns = 'group', \n",
    "                               values = 'user_id', \n",
    "                               aggfunc = 'count')\n",
    "                  .reset_index()\n",
    "                 )\n",
    "events_funnel #общее количество сделаных событий"
   ]
  },
  {
   "cell_type": "markdown",
   "id": "d979bf4a",
   "metadata": {},
   "source": [
    "Наблюдательно, что просмотривают корзину меньше, чем совершают покупки. Такое может быть, если реализована функция быстрой покупки без просмотра корзины. В связи с эти, конверсию до корзины не будем рассматривать в серьез и отфильтруем ее. \n"
   ]
  },
  {
   "cell_type": "code",
   "execution_count": null,
   "id": "cbbf10c5",
   "metadata": {},
   "outputs": [],
   "source": [
    "events_funnel.query('event_name != \"product_cart\"', inplace = True)"
   ]
  },
  {
   "cell_type": "markdown",
   "id": "2f70a6d9",
   "metadata": {},
   "source": [
    "Посчитаем сколько пользователей совершали каждое из этих событий и  долю пользователей, которые хоть раз совершали событие:"
   ]
  },
  {
   "cell_type": "code",
   "execution_count": null,
   "id": "965e3ed7",
   "metadata": {},
   "outputs": [],
   "source": [
    "event_user = (events_by_user\n",
    "              .query('event_name != \"product_cart\"') #убираем корзину\n",
    "              .pivot_table(\n",
    "                  index = 'event_name',\n",
    "                  columns = 'group',\n",
    "                  values = 'user_id',\n",
    "                  aggfunc = 'nunique' #считаем сколько уникальных пользователей совершали\n",
    "              )\n",
    "              .sort_values('A', ascending = False)\n",
    "              .reset_index()\n",
    "             )\n",
    "\n",
    "\n",
    "event_user['ratio_by_user_A'] = (event_user ['A']/group_A['user_id'].nunique())*100 #считаем долю событий к пользователям \n",
    "event_user['ratio_by_user_B'] = (event_user ['B']/group_B['user_id'].nunique())*100 #считаем долю событий к пользователям \n",
    "\n",
    "event_user"
   ]
  },
  {
   "cell_type": "markdown",
   "id": "8d14c1ef",
   "metadata": {},
   "source": [
    "Выведим воронку событий:"
   ]
  },
  {
   "cell_type": "code",
   "execution_count": null,
   "id": "9c2ef8dd",
   "metadata": {},
   "outputs": [],
   "source": [
    "fig = go.Figure()\n",
    "\n",
    "\n",
    "fig.add_trace(go.Funnel(\n",
    "    name = 'Group A',\n",
    "    y = event_user['event_name'],\n",
    "    x = event_user['A'],\n",
    "    textinfo = \"value+percent initial\"\n",
    ")\n",
    ")\n",
    "\n",
    "fig.add_trace(go.Funnel(\n",
    "    name = 'Group B',\n",
    "    y = event_user['event_name'],\n",
    "    x = event_user['B'],\n",
    "    textinfo = \"value+percent initial\"\n",
    ")\n",
    ")\n",
    "\n",
    "fig.update_layout(title = 'Воронка событий групп А и В')\n",
    "\n",
    "fig.show()"
   ]
  },
  {
   "cell_type": "code",
   "execution_count": null,
   "id": "8d39eddd",
   "metadata": {},
   "outputs": [],
   "source": [
    "#соберем таблички вместе и добавим конврсию в таблицу\n",
    "event_count = events_funnel.merge(event_user, on ='event_name', how = 'left')\n",
    "event_count.rename(columns = ({'A_x': 'total_event_A',\n",
    "                              'B_x': 'total_event_B',\n",
    "                              'A_y': 'number_of_users_by_event_A',\n",
    "                              'B_y': 'number_of_users_by_event_B'}), inplace = True)\n",
    "event_count ['ratio_by_step_A'] =  event_count['number_of_users_by_event_A']/event_count['number_of_users_by_event_A'].shift(1)\n",
    "event_count ['ratio_by_step_B'] =  event_count['number_of_users_by_event_B']/event_count['number_of_users_by_event_B'].shift(1)\n",
    "event_count.fillna(1, inplace = True)\n",
    "\n",
    "event_count"
   ]
  },
  {
   "cell_type": "markdown",
   "id": "a5683553",
   "metadata": {},
   "source": [
    "Соединим таблички с конверсиями пгруппы А и группы В и посмотрим на результаты как изменилась конверсия в группе В относительно группы А:"
   ]
  },
  {
   "cell_type": "code",
   "execution_count": null,
   "id": "b17192ea",
   "metadata": {},
   "outputs": [],
   "source": [
    "total_convers = event_count[['event_name', 'ratio_by_step_A', 'ratio_by_step_B']]\n",
    "                \n",
    "total_convers['ratio_by_group'] = (\n",
    "    total_convers['ratio_by_step_B']/total_convers['ratio_by_step_A']*100-100) \n",
    "total_convers"
   ]
  },
  {
   "cell_type": "markdown",
   "id": "f5623a72",
   "metadata": {},
   "source": [
    "Из таблицы видно, что отношение конверсии между контрольной и тестовой по большей части не является положительной. Конверсия в группе В от страницы **login** до старницы **product_page** упала на 11%. А вот конверсия между **product_page** и **purchase** напротив увеличилась на 10%. "
   ]
  },
  {
   "cell_type": "markdown",
   "id": "d74000d3",
   "metadata": {},
   "source": [
    "### Выводы"
   ]
  },
  {
   "cell_type": "markdown",
   "id": "75f039ff",
   "metadata": {},
   "source": [
    "1) Среднее количество всех событий на пользователя в группе A в 2 раза больше, чем в группе В:\n",
    "\n",
    "- Среднее количество событий на пользователя в группе A: 3.75\n",
    "- Среднее количество событий на пользователя в группе B: 1.89\n",
    "\n",
    "2) Распределение по группам неравномерное. С 2020-12-07 по 2020-12-10 пользователи попадали в группы примерно одинаково, однако после группа А стала преобладать над группой В. В 2020-12-14 происходит всплеск в группе А.\n",
    "\n",
    "3) Глобального улучшения в конверсии через 14 дней не произошло. Конверсия между login и product_page упала на 11%. А вот product_page и purchase напротив увеличилась на 10%.\n",
    "\n",
    "4) От логина до покупки в группе А доходит 14,9% пользователей,  в группе В - 15,2%.\n",
    "\n",
    "5) Корзину просматривают меньше, чем совершают покупки. Скорее всего реализована функция быстрой покупки без просмотра корзины. "
   ]
  },
  {
   "cell_type": "markdown",
   "id": "79f8e7f1",
   "metadata": {},
   "source": [
    "## Оцените результаты A/B-тестирования"
   ]
  },
  {
   "cell_type": "markdown",
   "id": "8cda51d3",
   "metadata": {},
   "source": [
    "### Что можно сказать про результаты A/В-тестирования?"
   ]
  },
  {
   "cell_type": "markdown",
   "id": "dee1d4a7",
   "metadata": {},
   "source": [
    "Данное А/В тестировние не корректно по нескольким причинам:\n",
    "\n",
    "1) На А/В тестирование накладывается 2 промоакции, которые могут искажать события.\n",
    "\n",
    "2) Деление на группы происходит не равномерно, что сразу бросается в глазах. Деление по группам отличается примерно в 2 раза.\n",
    "\n",
    "3) Произошло наложение еще одного А/В теста, некоторые пользователи попали в 2 теста сразу."
   ]
  },
  {
   "cell_type": "markdown",
   "id": "0ab83f55",
   "metadata": {},
   "source": [
    "### Проверим статистическую разницу долей z-критерием."
   ]
  },
  {
   "cell_type": "markdown",
   "id": "94411c70",
   "metadata": {},
   "source": [
    "Проверим статистическую разницу долей:"
   ]
  },
  {
   "cell_type": "code",
   "execution_count": null,
   "id": "b9bd94fe",
   "metadata": {},
   "outputs": [],
   "source": [
    "event_by_group = (events_by_user    #сгруппируем события по группам по уникальным пользователям\n",
    "                  .query('event_name != \"product_cart\"')\n",
    "                  .pivot_table(\n",
    "                      index = 'event_name', \n",
    "                      columns = 'group',\n",
    "                      values = 'user_id',\n",
    "                      aggfunc = 'nunique'\n",
    "                     )\n",
    "                  .sort_values(by = 'A', ascending=False)\n",
    "                  .reset_index()\n",
    "                 )\n",
    "event_by_group"
   ]
  },
  {
   "cell_type": "code",
   "execution_count": null,
   "id": "e599ec15",
   "metadata": {},
   "outputs": [],
   "source": [
    "count_users_by_group = (events_by_user\n",
    "                        .query('event_name != \"product_cart\"')\n",
    "                        .groupby('group')['user_id'].nunique()\n",
    "                       )#посчитаем количество пользователей по группам\n",
    "count_users_by_group"
   ]
  },
  {
   "cell_type": "markdown",
   "id": "269cd6dc",
   "metadata": {},
   "source": [
    "Сформулируем нулевую и альтернативную гипотезы:\n",
    "\n",
    "*Нулевая гипотеза H₀*: Между долями нет значительной разности.\n",
    "\n",
    "*Альтернативная гипотеза H₁*: Между долями есть значительная разность."
   ]
  },
  {
   "cell_type": "markdown",
   "id": "1a0a88f9",
   "metadata": {},
   "source": [
    "Напишем функцию для определения разницы в долях между пользователями на каждом этапе использования сайта и общим количеством пользователей:"
   ]
  },
  {
   "cell_type": "code",
   "execution_count": null,
   "id": "d4fc24c0",
   "metadata": {},
   "outputs": [],
   "source": [
    "def z_ratio (group1, group2, alpha): #сделаем функцию, чтобы не писать это для кадлого случая\n",
    "    \n",
    "    for i in event_by_group.index: #окутаем это все в цикл, чтобы не выводить для каждого события отдельно \n",
    "        \n",
    "        alpha = alpha  # критический уровень статистической значимости\n",
    "    \n",
    "        # пропорция успехов в первой группе:\n",
    "        p1 = event_by_group[group1][i]/count_users_by_group[group1] \n",
    "        \n",
    "        # пропорция успехов во второй группе:\n",
    "        p2 = event_by_group[group2][i]/count_users_by_group[group2]\n",
    "        \n",
    "        # пропорция успехов в комбинированном датасете:\n",
    "        p_combined = (\n",
    "            (event_by_group[group1][i] + event_by_group[group2][i]) \n",
    "            / (count_users_by_group[group1]  + count_users_by_group[group2] )\n",
    "        )\n",
    "        \n",
    "        # разница пропорций в датасетах\n",
    "        difference = p1 - p2 \n",
    "\n",
    "        z_value = difference/mth.sqrt(\n",
    "            p_combined * (1 - p_combined) * (1/count_users_by_group[group1]  + 1/count_users_by_group[group2] )\n",
    "        ) \n",
    "        \n",
    "        # задаем стандартное нормальное распределение (среднее 0, ст.отклонение 1)\n",
    "        distr = st.norm(0, 1)\n",
    "        \n",
    "\n",
    "        p_value = (1 - distr.cdf(abs(z_value))) * 2 \n",
    "        \n",
    "        print('{} p-значение:{}' .format(event_by_group['event_name'][i], p_value))\n",
    "        \n",
    "    \n",
    "        if p_value < alpha:\n",
    "            print('Отвергаем нулевую гипотезу: между долями есть значимая разница')\n",
    "        else:\n",
    "            print(\n",
    "            'Не получилось отвергнуть нулевую гипотезу, нет оснований считать доли разными'\n",
    "            )"
   ]
  },
  {
   "cell_type": "code",
   "execution_count": null,
   "id": "f2f4bc6a",
   "metadata": {
    "scrolled": false
   },
   "outputs": [],
   "source": [
    "z_ratio ('A', 'B', 0.05)"
   ]
  },
  {
   "cell_type": "markdown",
   "id": "d8740fe8",
   "metadata": {},
   "source": [
    "Напишем функцию для определения разницы в долях между числом пользователей на определенном этапе и числом пользователей на предыдущем этапе:"
   ]
  },
  {
   "cell_type": "code",
   "execution_count": null,
   "id": "32f61c31",
   "metadata": {},
   "outputs": [],
   "source": [
    "def z_ratio2 (group1, group2, alpha): #сделаем функцию, чтобы не писать это для кадлого случая\n",
    "    \n",
    "    \n",
    "    for i in event_by_group.index: #окутаем это все в цикл, чтобы не выводить для каждого события отдельно \n",
    "        \n",
    "        try:\n",
    "            print('Шаг воронки: {} -> {}:'.format(event_by_group['event_name'][i], event_by_group['event_name'][i+1]))\n",
    "            \n",
    "            alpha = alpha  # критический уровень статистической значимости\n",
    "    \n",
    "            # пропорция успехов в первой группе:\n",
    "            p1 = event_by_group[group1][i+1]/event_by_group[group1][i]\n",
    "\n",
    "            # пропорция успехов во второй группе:\n",
    "            p2 = event_by_group[group2][i+1]/event_by_group[group2][i]\n",
    "\n",
    "            # пропорция успехов в комбинированном датасете:\n",
    "            p_combined = (\n",
    "                (event_by_group[group1][i+1] + event_by_group[group2][i+1]) \n",
    "                / (event_by_group[group1][i]  + event_by_group[group2][i] )\n",
    "            )\n",
    "            # разница пропорций в датасетах\n",
    "            difference = p1 - p2 \n",
    "\n",
    "            z_value = difference/mth.sqrt(\n",
    "                p_combined * (1 - p_combined) * (1/event_by_group[group1][i]  + 1/event_by_group[group2][i] )\n",
    "            ) \n",
    "\n",
    "            # задаем стандартное нормальное распределение (среднее 0, ст.отклонение 1)\n",
    "            distr = st.norm(0, 1)\n",
    "        \n",
    "\n",
    "            p_value = (1 - distr.cdf(abs(z_value))) * 2 \n",
    "\n",
    "            print(' p-значение:', p_value.round(2))\n",
    "        \n",
    "            if p_value < alpha:\n",
    "                print('Отвергаем нулевую гипотезу: между долями есть значимая разница')\n",
    "            \n",
    "            else:\n",
    "                print('Не получилось отвергнуть нулевую гипотезу, нет оснований считать доли разными')\n",
    "            \n",
    "        except:\n",
    "            print('\\033[1m  Конец теста   \\033[0m')  "
   ]
  },
  {
   "cell_type": "code",
   "execution_count": null,
   "id": "675973db",
   "metadata": {},
   "outputs": [],
   "source": [
    "z_ratio2('A', 'B', 0.05)"
   ]
  },
  {
   "cell_type": "markdown",
   "id": "ad68d7a6",
   "metadata": {},
   "source": [
    "Между долями групп конверсии:\n",
    "\n",
    "- login -> product_page - есть значимая разница. \n",
    "\n",
    "- product_page -> purchase - нет значимой разницы (доли одинаковые)"
   ]
  },
  {
   "cell_type": "markdown",
   "id": "cb3d1c73",
   "metadata": {},
   "source": [
    "Напишем функцию, котрая нам будет сравнивать конверсии между группами от события к покупке (login -> purchase; product_page -> purchase):"
   ]
  },
  {
   "cell_type": "code",
   "execution_count": null,
   "id": "71f3df2b",
   "metadata": {},
   "outputs": [],
   "source": [
    "def z_ratio3 (group1, group2, alpha): #сделаем функцию, чтобы не писать это для кадлого случая\n",
    "    \n",
    "        \n",
    "    for i in event_by_group.index: #окутаем это все в цикл, чтобы не выводить для каждого события отдельно\n",
    "        \n",
    "            \n",
    "        print('Шаг воронки: {} -> {}:'.format(event_by_group['event_name'][i], event_by_group['event_name'][2]))\n",
    "            \n",
    "        alpha = alpha  # критический уровень статистической значимости\n",
    "    \n",
    "         # пропорция успехов в первой группе:\n",
    "        p1 = event_by_group[group1][i]/event_by_group[group1][2]\n",
    "\n",
    "         # пропорция успехов во второй группе:\n",
    "        p2 = event_by_group[group2][i]/event_by_group[group2][2]\n",
    "\n",
    "         # пропорция успехов в комбинированном датасете:\n",
    "        p_combined = (\n",
    "              (event_by_group[group1][2] + event_by_group[group2][2]) \n",
    "              / (event_by_group[group1][i]  + event_by_group[group2][i] )\n",
    "        )\n",
    "\n",
    "        # разница пропорций в датасетах\n",
    "        difference = p1 - p2\n",
    "\n",
    "        z_value = difference/mth.sqrt(\n",
    "                  p_combined * (1 - p_combined) * (1/event_by_group[group1][2]  + 1/event_by_group[group2][2] )\n",
    "        ) \n",
    "\n",
    "        # задаем стандартное нормальное распределение (среднее 0, ст.отклонение 1)\n",
    "        distr = st.norm(0, 1)\n",
    "        \n",
    "\n",
    "        p_value = (1 - distr.cdf(abs(z_value))) * 2 \n",
    "\n",
    "        print(' p-значение:', p_value.round(2))\n",
    "        \n",
    "        if p_value < alpha:\n",
    "            print('Отвергаем нулевую гипотезу: между долями есть значимая разница')\n",
    "            \n",
    "        else:\n",
    "            print('Не получилось отвергнуть нулевую гипотезу, нет оснований считать доли разными')\n",
    " "
   ]
  },
  {
   "cell_type": "code",
   "execution_count": null,
   "id": "7d1e8f8c",
   "metadata": {},
   "outputs": [],
   "source": [
    "z_ratio3('A', 'B', 0.05)"
   ]
  },
  {
   "cell_type": "markdown",
   "id": "15974b8b",
   "metadata": {},
   "source": [
    "Между долями групп конверсии:\n",
    "\n",
    "- login -> purchase - нет значимой разницы (доли одинаковые) \n",
    "\n",
    "- product_page -> purchase - есть значимая разница"
   ]
  },
  {
   "cell_type": "markdown",
   "id": "68748bf7",
   "metadata": {},
   "source": [
    "###  Вывод"
   ]
  },
  {
   "cell_type": "markdown",
   "id": "0400bcb6",
   "metadata": {},
   "source": [
    "По результатам Z- теста подтвердили, что между долями групп есть значительная статистическая разница.\n",
    "\n",
    "***После сравнения долей конверсии между группами пришли к выводу***:\n",
    "\n",
    "- login -> product_page - есть значимая разница.\n",
    "\n",
    "- product_page -> purchase - нет значимой разницы (доли одинаковые)\n",
    "\n",
    "\n",
    "***После сравнения долей конверсии событий к покупкам пришли к выводу***:\n",
    "\n",
    "- login -> purchase - нет значимой разницы (доли одинаковые) \n",
    "\n",
    "- product_page -> purchase - есть значимая разница\n"
   ]
  },
  {
   "cell_type": "markdown",
   "id": "0a993555",
   "metadata": {},
   "source": [
    "## Вывод и заключение о корректности проведения теста."
   ]
  },
  {
   "cell_type": "markdown",
   "id": "b336f15e",
   "metadata": {},
   "source": [
    "**Общие выводы**\n",
    "\n",
    "После изучения А/В теста были отмечаны следущие моменты:\n",
    "\n",
    "1) Согласно ТЗ проведенный тест называется recommender_system_test, однако в данные попал еще один тест interface_eu_test, который не был указан в ТЗ.\n",
    "\n",
    "2) В данные попали 2 лишних дня, которые не указаны в ТЗ провели фильрацию. Данные дни относятся к другому тесту.\n",
    "\n",
    "3) Согласно ТЗ 15% новых пользователей из региона EU. После изучения файла, это подтверждается.\n",
    "\n",
    "4) На А/В тест накладывается 2 промоакции, которые заведомо могут влиять на корректность проведения теста. \n",
    "\n",
    "5) Пользователи из целевого теста пересекаются с конкурирующим тестом.\n",
    "\n",
    "6) Пользователи по группам распределены не равномерно. Это говорит нам о неоптимальности разбиения данных по группам. Для будущих тестов следует несколько поработать с механикой выделения групп и, возможно, изменить подход к их выделению\n",
    "\n",
    "7) Среднее количество всех событий на пользователя в группе A в 2 раза больше, чем в группе В:\n",
    "\n",
    "- Среднее количество событий на пользователя в группе A: 3.75\n",
    "- Среднее количество событий на пользователя в группе B: 1.89\n",
    "\n",
    "8) Глобального улучшения в конверсии через 14 дней не произошло. Конверсия между login и product_page упала на 11%. А вот product_page и purchase напротив увеличилась на 10%.\n",
    "\n",
    "9) От логина до покупки в группе А доходит 14,9% пользователей, в группе В - 15,2%.\n",
    "\n",
    "10) По результатам Z- теста подтвердили, что между долями групп есть значительная статистическая разница.\n",
    "\n",
    "11) По результатам Z- теста конверсии между группами пришли к выводу:\n",
    "\n",
    "- login -> product_page - есть значимая разница.\n",
    "\n",
    "- product_page -> purchase - нет значимой разницы (доли одинаковые)\n",
    "\n",
    "\n",
    "12) По результатам Z- теста конверсии событий к покупкам пришли к выводу:\n",
    "\n",
    "- login -> purchase - нет значимой разницы (доли одинаковые) \n",
    "\n",
    "- product_page -> purchase - есть значимая разница\n",
    "\n",
    "\n",
    "\n",
    "**Заключение**\n",
    "\n",
    "Тест проведен ***некорректно***:\n",
    "\n",
    "1) На тест влияют наложившиеся промоакции\n",
    "\n",
    "2) Разбиение на группы происходит некооректно. В группе А значительно больше пользователей, чем в группе В.\n",
    "\n",
    "3) Тест следует оставновить и признать несостоявшимся\n"
   ]
  }
 ],
 "metadata": {
  "ExecuteTimeLog": [
   {
    "duration": 490,
    "start_time": "2022-07-09T08:36:55.223Z"
   },
   {
    "duration": 60,
    "start_time": "2022-07-09T08:37:28.229Z"
   },
   {
    "duration": 111,
    "start_time": "2022-07-09T08:37:32.089Z"
   },
   {
    "duration": 610,
    "start_time": "2022-07-09T08:39:59.439Z"
   },
   {
    "duration": 472,
    "start_time": "2022-07-09T08:40:03.522Z"
   },
   {
    "duration": 474,
    "start_time": "2022-07-09T08:46:47.003Z"
   },
   {
    "duration": 451,
    "start_time": "2022-07-09T08:46:57.284Z"
   },
   {
    "duration": 658,
    "start_time": "2022-07-09T08:47:24.267Z"
   },
   {
    "duration": 715,
    "start_time": "2022-07-09T08:49:03.644Z"
   },
   {
    "duration": 493,
    "start_time": "2022-07-09T08:59:18.476Z"
   },
   {
    "duration": 555,
    "start_time": "2022-07-09T09:07:23.216Z"
   },
   {
    "duration": 576,
    "start_time": "2022-07-09T09:07:42.510Z"
   },
   {
    "duration": 40,
    "start_time": "2022-07-09T09:07:45.872Z"
   },
   {
    "duration": 29,
    "start_time": "2022-07-09T09:07:57.364Z"
   },
   {
    "duration": 44,
    "start_time": "2022-07-09T09:09:10.587Z"
   },
   {
    "duration": 1218,
    "start_time": "2022-07-09T09:09:30.641Z"
   },
   {
    "duration": 27,
    "start_time": "2022-07-09T09:14:04.280Z"
   },
   {
    "duration": 28,
    "start_time": "2022-07-09T09:14:36.829Z"
   },
   {
    "duration": 32,
    "start_time": "2022-07-09T09:15:11.321Z"
   },
   {
    "duration": 27,
    "start_time": "2022-07-09T09:16:23.700Z"
   },
   {
    "duration": 42,
    "start_time": "2022-07-09T09:16:48.404Z"
   },
   {
    "duration": 695,
    "start_time": "2022-07-09T09:16:56.284Z"
   },
   {
    "duration": 9,
    "start_time": "2022-07-09T09:17:01.971Z"
   },
   {
    "duration": 520,
    "start_time": "2022-07-09T09:20:10.671Z"
   },
   {
    "duration": 520,
    "start_time": "2022-07-09T09:20:52.032Z"
   },
   {
    "duration": 590,
    "start_time": "2022-07-09T09:21:02.051Z"
   },
   {
    "duration": 530,
    "start_time": "2022-07-09T09:21:36.856Z"
   },
   {
    "duration": 493,
    "start_time": "2022-07-09T09:22:15.516Z"
   },
   {
    "duration": 87,
    "start_time": "2022-07-09T09:24:38.240Z"
   },
   {
    "duration": 285,
    "start_time": "2022-07-09T09:24:49.286Z"
   },
   {
    "duration": 543,
    "start_time": "2022-07-09T09:24:59.264Z"
   },
   {
    "duration": 380,
    "start_time": "2022-07-09T09:25:36.792Z"
   },
   {
    "duration": 361,
    "start_time": "2022-07-09T09:27:29.671Z"
   },
   {
    "duration": 388,
    "start_time": "2022-07-09T09:27:53.839Z"
   },
   {
    "duration": 376,
    "start_time": "2022-07-09T09:28:14.057Z"
   },
   {
    "duration": 47,
    "start_time": "2022-07-09T09:28:57.040Z"
   },
   {
    "duration": 382,
    "start_time": "2022-07-09T09:29:06.648Z"
   },
   {
    "duration": 386,
    "start_time": "2022-07-09T09:29:37.034Z"
   },
   {
    "duration": 378,
    "start_time": "2022-07-09T09:30:12.165Z"
   },
   {
    "duration": 383,
    "start_time": "2022-07-09T09:30:30.130Z"
   },
   {
    "duration": 470,
    "start_time": "2022-07-09T09:30:46.023Z"
   },
   {
    "duration": 66,
    "start_time": "2022-07-09T09:30:59.689Z"
   },
   {
    "duration": 495,
    "start_time": "2022-07-09T09:31:03.212Z"
   },
   {
    "duration": 393,
    "start_time": "2022-07-09T09:31:28.001Z"
   },
   {
    "duration": 449,
    "start_time": "2022-07-09T09:31:40.877Z"
   },
   {
    "duration": 511,
    "start_time": "2022-07-09T09:34:20.107Z"
   },
   {
    "duration": 591,
    "start_time": "2022-07-09T09:34:47.059Z"
   },
   {
    "duration": 666,
    "start_time": "2022-07-09T09:35:20.508Z"
   },
   {
    "duration": 494,
    "start_time": "2022-07-09T09:35:49.280Z"
   },
   {
    "duration": 514,
    "start_time": "2022-07-09T09:36:20.717Z"
   },
   {
    "duration": 539,
    "start_time": "2022-07-09T09:37:09.753Z"
   },
   {
    "duration": 1286,
    "start_time": "2022-07-09T09:48:35.335Z"
   },
   {
    "duration": 106,
    "start_time": "2022-07-09T09:48:57.077Z"
   },
   {
    "duration": 29,
    "start_time": "2022-07-09T09:49:35.187Z"
   },
   {
    "duration": 60,
    "start_time": "2022-07-09T10:08:29.561Z"
   },
   {
    "duration": 18,
    "start_time": "2022-07-09T10:08:31.607Z"
   },
   {
    "duration": 44,
    "start_time": "2022-07-09T10:09:42.803Z"
   },
   {
    "duration": 89,
    "start_time": "2022-07-09T10:09:52.355Z"
   },
   {
    "duration": 15,
    "start_time": "2022-07-09T10:10:03.797Z"
   },
   {
    "duration": 28,
    "start_time": "2022-07-09T10:10:24.519Z"
   },
   {
    "duration": 8,
    "start_time": "2022-07-09T10:10:51.946Z"
   },
   {
    "duration": 6,
    "start_time": "2022-07-09T10:11:51.787Z"
   },
   {
    "duration": 39,
    "start_time": "2022-07-09T10:11:57.280Z"
   },
   {
    "duration": 74,
    "start_time": "2022-07-09T10:12:51.536Z"
   },
   {
    "duration": 14,
    "start_time": "2022-07-09T10:13:59.537Z"
   },
   {
    "duration": 8,
    "start_time": "2022-07-09T10:24:37.384Z"
   },
   {
    "duration": 5,
    "start_time": "2022-07-09T10:29:50.435Z"
   },
   {
    "duration": 6,
    "start_time": "2022-07-09T10:30:33.714Z"
   },
   {
    "duration": 24,
    "start_time": "2022-07-09T10:34:26.259Z"
   },
   {
    "duration": 14,
    "start_time": "2022-07-09T10:41:21.518Z"
   },
   {
    "duration": 317,
    "start_time": "2022-07-09T10:41:42.238Z"
   },
   {
    "duration": 328,
    "start_time": "2022-07-09T10:43:18.749Z"
   },
   {
    "duration": 475,
    "start_time": "2022-07-09T10:46:06.852Z"
   },
   {
    "duration": 719,
    "start_time": "2022-07-09T10:46:07.330Z"
   },
   {
    "duration": 716,
    "start_time": "2022-07-09T10:46:08.051Z"
   },
   {
    "duration": 169,
    "start_time": "2022-07-09T10:46:08.770Z"
   },
   {
    "duration": 524,
    "start_time": "2022-07-09T10:46:08.941Z"
   },
   {
    "duration": 11,
    "start_time": "2022-07-09T10:46:09.467Z"
   },
   {
    "duration": 36,
    "start_time": "2022-07-09T10:46:09.480Z"
   },
   {
    "duration": 50,
    "start_time": "2022-07-09T10:51:43.257Z"
   },
   {
    "duration": 13,
    "start_time": "2022-07-09T10:55:26.292Z"
   },
   {
    "duration": 8,
    "start_time": "2022-07-09T10:56:20.948Z"
   },
   {
    "duration": 100,
    "start_time": "2022-07-09T11:12:26.404Z"
   },
   {
    "duration": 6,
    "start_time": "2022-07-09T11:12:30.605Z"
   },
   {
    "duration": 7,
    "start_time": "2022-07-09T11:12:39.431Z"
   },
   {
    "duration": 10,
    "start_time": "2022-07-09T11:16:33.160Z"
   },
   {
    "duration": 102,
    "start_time": "2022-07-09T11:17:16.225Z"
   },
   {
    "duration": 373,
    "start_time": "2022-07-09T11:17:26.359Z"
   },
   {
    "duration": 14,
    "start_time": "2022-07-09T11:20:01.364Z"
   },
   {
    "duration": 110,
    "start_time": "2022-07-09T11:20:43.081Z"
   },
   {
    "duration": 7,
    "start_time": "2022-07-09T11:21:25.603Z"
   },
   {
    "duration": 75,
    "start_time": "2022-07-09T11:21:38.341Z"
   },
   {
    "duration": 98,
    "start_time": "2022-07-09T11:22:01.140Z"
   },
   {
    "duration": 121,
    "start_time": "2022-07-09T11:22:26.660Z"
   },
   {
    "duration": 69,
    "start_time": "2022-07-09T11:22:28.588Z"
   },
   {
    "duration": 98,
    "start_time": "2022-07-09T11:22:46.131Z"
   },
   {
    "duration": 7,
    "start_time": "2022-07-09T11:23:13.818Z"
   },
   {
    "duration": 52,
    "start_time": "2022-07-09T11:26:36.176Z"
   },
   {
    "duration": 7,
    "start_time": "2022-07-09T11:26:52.022Z"
   },
   {
    "duration": 73,
    "start_time": "2022-07-09T11:27:21.835Z"
   },
   {
    "duration": 64,
    "start_time": "2022-07-09T11:27:54.043Z"
   },
   {
    "duration": 24,
    "start_time": "2022-07-09T11:28:37.461Z"
   },
   {
    "duration": 119,
    "start_time": "2022-07-09T11:29:42.587Z"
   },
   {
    "duration": 61,
    "start_time": "2022-07-09T11:29:52.085Z"
   },
   {
    "duration": 66,
    "start_time": "2022-07-09T11:30:14.050Z"
   },
   {
    "duration": 66,
    "start_time": "2022-07-09T11:30:24.845Z"
   },
   {
    "duration": 47,
    "start_time": "2022-07-09T11:30:26.712Z"
   },
   {
    "duration": 53,
    "start_time": "2022-07-09T11:30:30.151Z"
   },
   {
    "duration": 38,
    "start_time": "2022-07-09T11:30:42.131Z"
   },
   {
    "duration": 46,
    "start_time": "2022-07-09T11:32:27.980Z"
   },
   {
    "duration": 193,
    "start_time": "2022-07-09T11:32:53.384Z"
   },
   {
    "duration": 42,
    "start_time": "2022-07-09T11:36:17.460Z"
   },
   {
    "duration": 29,
    "start_time": "2022-07-09T11:36:50.173Z"
   },
   {
    "duration": 62,
    "start_time": "2022-07-09T11:38:33.511Z"
   },
   {
    "duration": 28,
    "start_time": "2022-07-09T11:38:41.198Z"
   },
   {
    "duration": 12,
    "start_time": "2022-07-09T11:38:53.549Z"
   },
   {
    "duration": 64,
    "start_time": "2022-07-09T11:39:13.138Z"
   },
   {
    "duration": 233,
    "start_time": "2022-07-09T11:39:22.378Z"
   },
   {
    "duration": 118,
    "start_time": "2022-07-09T11:40:19.230Z"
   },
   {
    "duration": 9,
    "start_time": "2022-07-09T11:43:09.337Z"
   },
   {
    "duration": 18,
    "start_time": "2022-07-09T11:47:46.254Z"
   },
   {
    "duration": 17,
    "start_time": "2022-07-09T11:47:58.759Z"
   },
   {
    "duration": 14,
    "start_time": "2022-07-09T11:48:49.559Z"
   },
   {
    "duration": 55,
    "start_time": "2022-07-09T11:49:07.389Z"
   },
   {
    "duration": 39,
    "start_time": "2022-07-09T11:49:16.660Z"
   },
   {
    "duration": 9,
    "start_time": "2022-07-09T11:49:39.709Z"
   },
   {
    "duration": 32,
    "start_time": "2022-07-09T11:50:00.675Z"
   },
   {
    "duration": 19,
    "start_time": "2022-07-09T12:02:33.189Z"
   },
   {
    "duration": 41,
    "start_time": "2022-07-09T12:02:58.035Z"
   },
   {
    "duration": 83,
    "start_time": "2022-07-09T12:03:01.755Z"
   },
   {
    "duration": 16,
    "start_time": "2022-07-09T12:04:25.738Z"
   },
   {
    "duration": 408,
    "start_time": "2022-07-09T12:04:34.123Z"
   },
   {
    "duration": 688,
    "start_time": "2022-07-09T12:04:34.533Z"
   },
   {
    "duration": 665,
    "start_time": "2022-07-09T12:04:35.223Z"
   },
   {
    "duration": 125,
    "start_time": "2022-07-09T12:04:35.893Z"
   },
   {
    "duration": 508,
    "start_time": "2022-07-09T12:04:36.020Z"
   },
   {
    "duration": 249,
    "start_time": "2022-07-09T12:04:36.531Z"
   },
   {
    "duration": 119,
    "start_time": "2022-07-09T12:04:36.782Z"
   },
   {
    "duration": 5,
    "start_time": "2022-07-09T12:04:36.902Z"
   },
   {
    "duration": 20,
    "start_time": "2022-07-09T12:04:36.909Z"
   },
   {
    "duration": 39,
    "start_time": "2022-07-09T12:04:36.931Z"
   },
   {
    "duration": 41,
    "start_time": "2022-07-09T12:04:36.972Z"
   },
   {
    "duration": 7,
    "start_time": "2022-07-09T12:06:20.856Z"
   },
   {
    "duration": 81,
    "start_time": "2022-07-09T12:07:29.450Z"
   },
   {
    "duration": 56,
    "start_time": "2022-07-09T12:07:37.994Z"
   },
   {
    "duration": 9,
    "start_time": "2022-07-09T12:07:47.888Z"
   },
   {
    "duration": 77,
    "start_time": "2022-07-09T12:07:57.934Z"
   },
   {
    "duration": 6,
    "start_time": "2022-07-09T12:08:07.442Z"
   },
   {
    "duration": 7,
    "start_time": "2022-07-09T12:08:22.934Z"
   },
   {
    "duration": 401,
    "start_time": "2022-07-09T12:08:34.706Z"
   },
   {
    "duration": 743,
    "start_time": "2022-07-09T12:08:35.109Z"
   },
   {
    "duration": 679,
    "start_time": "2022-07-09T12:08:35.854Z"
   },
   {
    "duration": 163,
    "start_time": "2022-07-09T12:08:36.535Z"
   },
   {
    "duration": 426,
    "start_time": "2022-07-09T12:08:36.702Z"
   },
   {
    "duration": 203,
    "start_time": "2022-07-09T12:08:37.130Z"
   },
   {
    "duration": 118,
    "start_time": "2022-07-09T12:08:37.335Z"
   },
   {
    "duration": 8,
    "start_time": "2022-07-09T12:08:37.455Z"
   },
   {
    "duration": 45,
    "start_time": "2022-07-09T12:08:37.465Z"
   },
   {
    "duration": 30,
    "start_time": "2022-07-09T12:08:37.512Z"
   },
   {
    "duration": 6,
    "start_time": "2022-07-09T12:08:48.950Z"
   },
   {
    "duration": 72,
    "start_time": "2022-07-09T12:08:56.719Z"
   },
   {
    "duration": 7,
    "start_time": "2022-07-09T12:09:01.048Z"
   },
   {
    "duration": 8,
    "start_time": "2022-07-09T12:09:31.494Z"
   },
   {
    "duration": 6,
    "start_time": "2022-07-09T12:09:48.506Z"
   },
   {
    "duration": 5,
    "start_time": "2022-07-09T12:09:49.849Z"
   },
   {
    "duration": 7,
    "start_time": "2022-07-09T12:09:56.282Z"
   },
   {
    "duration": 495,
    "start_time": "2022-07-09T12:10:01.425Z"
   },
   {
    "duration": 803,
    "start_time": "2022-07-09T12:10:01.924Z"
   },
   {
    "duration": 700,
    "start_time": "2022-07-09T12:10:02.729Z"
   },
   {
    "duration": 158,
    "start_time": "2022-07-09T12:10:03.431Z"
   },
   {
    "duration": 516,
    "start_time": "2022-07-09T12:10:03.593Z"
   },
   {
    "duration": 231,
    "start_time": "2022-07-09T12:10:04.113Z"
   },
   {
    "duration": 128,
    "start_time": "2022-07-09T12:10:04.347Z"
   },
   {
    "duration": 5,
    "start_time": "2022-07-09T12:10:04.477Z"
   },
   {
    "duration": 38,
    "start_time": "2022-07-09T12:10:04.483Z"
   },
   {
    "duration": 17,
    "start_time": "2022-07-09T12:10:04.524Z"
   },
   {
    "duration": 414,
    "start_time": "2022-07-09T12:11:35.313Z"
   },
   {
    "duration": 722,
    "start_time": "2022-07-09T12:11:35.729Z"
   },
   {
    "duration": 758,
    "start_time": "2022-07-09T12:11:36.453Z"
   },
   {
    "duration": 137,
    "start_time": "2022-07-09T12:11:37.215Z"
   },
   {
    "duration": 505,
    "start_time": "2022-07-09T12:11:37.354Z"
   },
   {
    "duration": 221,
    "start_time": "2022-07-09T12:11:37.861Z"
   },
   {
    "duration": 10,
    "start_time": "2022-07-09T12:11:38.083Z"
   },
   {
    "duration": 56,
    "start_time": "2022-07-09T12:11:38.094Z"
   },
   {
    "duration": 67,
    "start_time": "2022-07-09T12:17:06.787Z"
   },
   {
    "duration": 479,
    "start_time": "2022-07-09T12:18:28.547Z"
   },
   {
    "duration": 722,
    "start_time": "2022-07-09T12:18:29.029Z"
   },
   {
    "duration": 761,
    "start_time": "2022-07-09T12:18:29.753Z"
   },
   {
    "duration": 208,
    "start_time": "2022-07-09T12:18:30.516Z"
   },
   {
    "duration": 616,
    "start_time": "2022-07-09T12:18:30.727Z"
   },
   {
    "duration": 255,
    "start_time": "2022-07-09T12:18:31.344Z"
   },
   {
    "duration": 19,
    "start_time": "2022-07-09T12:18:31.602Z"
   },
   {
    "duration": 27,
    "start_time": "2022-07-09T12:18:31.623Z"
   },
   {
    "duration": 20,
    "start_time": "2022-07-09T12:21:08.106Z"
   },
   {
    "duration": 52,
    "start_time": "2022-07-09T12:21:48.758Z"
   },
   {
    "duration": 53,
    "start_time": "2022-07-09T12:21:59.213Z"
   },
   {
    "duration": 23,
    "start_time": "2022-07-09T12:22:13.905Z"
   },
   {
    "duration": 38,
    "start_time": "2022-07-09T12:22:28.582Z"
   },
   {
    "duration": 27,
    "start_time": "2022-07-09T12:22:35.725Z"
   },
   {
    "duration": 28,
    "start_time": "2022-07-09T12:22:57.396Z"
   },
   {
    "duration": 45,
    "start_time": "2022-07-09T12:23:12.427Z"
   },
   {
    "duration": 52,
    "start_time": "2022-07-09T12:23:19.259Z"
   },
   {
    "duration": 54,
    "start_time": "2022-07-09T12:23:28.385Z"
   },
   {
    "duration": 10,
    "start_time": "2022-07-09T12:25:23.683Z"
   },
   {
    "duration": 30,
    "start_time": "2022-07-09T12:26:06.683Z"
   },
   {
    "duration": 143,
    "start_time": "2022-07-09T12:26:20.746Z"
   },
   {
    "duration": 102,
    "start_time": "2022-07-09T12:29:07.239Z"
   },
   {
    "duration": 7,
    "start_time": "2022-07-09T12:29:18.123Z"
   },
   {
    "duration": 70,
    "start_time": "2022-07-09T12:29:29.121Z"
   },
   {
    "duration": 222,
    "start_time": "2022-07-09T12:30:04.449Z"
   },
   {
    "duration": 564,
    "start_time": "2022-07-09T12:31:00.369Z"
   },
   {
    "duration": 466,
    "start_time": "2022-07-09T12:31:07.824Z"
   },
   {
    "duration": 374,
    "start_time": "2022-07-09T12:31:16.595Z"
   },
   {
    "duration": 334,
    "start_time": "2022-07-09T12:32:31.217Z"
   },
   {
    "duration": 10,
    "start_time": "2022-07-09T12:33:17.197Z"
   },
   {
    "duration": 9,
    "start_time": "2022-07-09T12:33:31.487Z"
   },
   {
    "duration": 24,
    "start_time": "2022-07-09T12:33:34.789Z"
   },
   {
    "duration": 22,
    "start_time": "2022-07-09T12:33:40.692Z"
   },
   {
    "duration": 360,
    "start_time": "2022-07-09T12:33:45.525Z"
   },
   {
    "duration": 8,
    "start_time": "2022-07-09T12:33:46.622Z"
   },
   {
    "duration": 10,
    "start_time": "2022-07-09T12:34:03.907Z"
   },
   {
    "duration": 8,
    "start_time": "2022-07-09T12:34:16.296Z"
   },
   {
    "duration": 540,
    "start_time": "2022-07-09T12:34:58.766Z"
   },
   {
    "duration": 512,
    "start_time": "2022-07-09T12:35:24.988Z"
   },
   {
    "duration": 95,
    "start_time": "2022-07-09T12:36:41.486Z"
   },
   {
    "duration": 375,
    "start_time": "2022-07-09T12:36:47.424Z"
   },
   {
    "duration": 634,
    "start_time": "2022-07-09T12:36:47.801Z"
   },
   {
    "duration": 572,
    "start_time": "2022-07-09T12:36:48.437Z"
   },
   {
    "duration": 131,
    "start_time": "2022-07-09T12:36:49.011Z"
   },
   {
    "duration": 399,
    "start_time": "2022-07-09T12:36:49.145Z"
   },
   {
    "duration": 549,
    "start_time": "2022-07-09T12:36:49.546Z"
   },
   {
    "duration": 191,
    "start_time": "2022-07-09T12:36:50.096Z"
   },
   {
    "duration": 118,
    "start_time": "2022-07-09T12:36:50.289Z"
   },
   {
    "duration": 5,
    "start_time": "2022-07-09T12:36:50.409Z"
   },
   {
    "duration": 28,
    "start_time": "2022-07-09T12:36:50.416Z"
   },
   {
    "duration": 25,
    "start_time": "2022-07-09T12:36:50.446Z"
   },
   {
    "duration": 50,
    "start_time": "2022-07-09T12:36:50.473Z"
   },
   {
    "duration": 17,
    "start_time": "2022-07-09T12:38:01.891Z"
   },
   {
    "duration": 97,
    "start_time": "2022-07-09T12:38:02.735Z"
   },
   {
    "duration": 14,
    "start_time": "2022-07-09T12:38:23.257Z"
   },
   {
    "duration": 398,
    "start_time": "2022-07-09T12:38:41.795Z"
   },
   {
    "duration": 641,
    "start_time": "2022-07-09T12:38:42.199Z"
   },
   {
    "duration": 564,
    "start_time": "2022-07-09T12:38:42.842Z"
   },
   {
    "duration": 139,
    "start_time": "2022-07-09T12:38:43.408Z"
   },
   {
    "duration": 436,
    "start_time": "2022-07-09T12:38:43.549Z"
   },
   {
    "duration": 537,
    "start_time": "2022-07-09T12:38:43.991Z"
   },
   {
    "duration": 206,
    "start_time": "2022-07-09T12:38:44.530Z"
   },
   {
    "duration": 130,
    "start_time": "2022-07-09T12:38:44.738Z"
   },
   {
    "duration": 12,
    "start_time": "2022-07-09T12:38:44.874Z"
   },
   {
    "duration": 16,
    "start_time": "2022-07-09T12:38:44.891Z"
   },
   {
    "duration": 25,
    "start_time": "2022-07-09T12:38:44.909Z"
   },
   {
    "duration": 31,
    "start_time": "2022-07-09T12:38:44.935Z"
   },
   {
    "duration": 12,
    "start_time": "2022-07-09T12:40:48.573Z"
   },
   {
    "duration": 9,
    "start_time": "2022-07-09T12:42:41.086Z"
   },
   {
    "duration": 5,
    "start_time": "2022-07-09T12:43:02.382Z"
   },
   {
    "duration": 11,
    "start_time": "2022-07-09T12:43:14.683Z"
   },
   {
    "duration": 4,
    "start_time": "2022-07-09T12:43:22.733Z"
   },
   {
    "duration": 5,
    "start_time": "2022-07-09T12:43:41.931Z"
   },
   {
    "duration": 424,
    "start_time": "2022-07-09T12:44:08.858Z"
   },
   {
    "duration": 617,
    "start_time": "2022-07-09T12:44:09.284Z"
   },
   {
    "duration": 540,
    "start_time": "2022-07-09T12:44:09.904Z"
   },
   {
    "duration": 145,
    "start_time": "2022-07-09T12:44:10.463Z"
   },
   {
    "duration": 393,
    "start_time": "2022-07-09T12:44:10.611Z"
   },
   {
    "duration": 509,
    "start_time": "2022-07-09T12:44:11.006Z"
   },
   {
    "duration": 187,
    "start_time": "2022-07-09T12:44:11.517Z"
   },
   {
    "duration": 111,
    "start_time": "2022-07-09T12:44:11.706Z"
   },
   {
    "duration": 6,
    "start_time": "2022-07-09T12:44:11.819Z"
   },
   {
    "duration": 56,
    "start_time": "2022-07-09T12:44:11.828Z"
   },
   {
    "duration": 5,
    "start_time": "2022-07-09T12:44:11.886Z"
   },
   {
    "duration": 17,
    "start_time": "2022-07-09T12:44:11.893Z"
   },
   {
    "duration": 31,
    "start_time": "2022-07-09T12:46:11.759Z"
   },
   {
    "duration": 23,
    "start_time": "2022-07-09T12:46:38.493Z"
   },
   {
    "duration": 198,
    "start_time": "2022-07-09T12:46:54.954Z"
   },
   {
    "duration": 22,
    "start_time": "2022-07-09T12:53:58.293Z"
   },
   {
    "duration": 700,
    "start_time": "2022-07-09T12:54:04.232Z"
   },
   {
    "duration": 410,
    "start_time": "2022-07-09T12:54:14.192Z"
   },
   {
    "duration": 685,
    "start_time": "2022-07-09T12:54:14.604Z"
   },
   {
    "duration": 620,
    "start_time": "2022-07-09T12:54:15.293Z"
   },
   {
    "duration": 151,
    "start_time": "2022-07-09T12:54:15.916Z"
   },
   {
    "duration": 480,
    "start_time": "2022-07-09T12:54:16.069Z"
   },
   {
    "duration": 640,
    "start_time": "2022-07-09T12:54:16.551Z"
   },
   {
    "duration": 37,
    "start_time": "2022-07-09T12:54:17.193Z"
   },
   {
    "duration": 96,
    "start_time": "2022-07-09T12:54:17.231Z"
   },
   {
    "duration": 0,
    "start_time": "2022-07-09T12:54:17.329Z"
   },
   {
    "duration": 0,
    "start_time": "2022-07-09T12:54:17.330Z"
   },
   {
    "duration": 0,
    "start_time": "2022-07-09T12:54:17.331Z"
   },
   {
    "duration": 0,
    "start_time": "2022-07-09T12:54:17.332Z"
   },
   {
    "duration": 0,
    "start_time": "2022-07-09T12:54:17.333Z"
   },
   {
    "duration": 620,
    "start_time": "2022-07-09T12:55:03.829Z"
   },
   {
    "duration": 450,
    "start_time": "2022-07-09T12:55:23.686Z"
   },
   {
    "duration": 606,
    "start_time": "2022-07-09T12:55:24.138Z"
   },
   {
    "duration": 616,
    "start_time": "2022-07-09T12:55:24.745Z"
   },
   {
    "duration": 133,
    "start_time": "2022-07-09T12:55:25.365Z"
   },
   {
    "duration": 379,
    "start_time": "2022-07-09T12:55:25.500Z"
   },
   {
    "duration": 606,
    "start_time": "2022-07-09T12:55:25.881Z"
   },
   {
    "duration": 302,
    "start_time": "2022-07-09T12:55:26.490Z"
   },
   {
    "duration": 0,
    "start_time": "2022-07-09T12:55:26.794Z"
   },
   {
    "duration": 0,
    "start_time": "2022-07-09T12:55:26.795Z"
   },
   {
    "duration": 0,
    "start_time": "2022-07-09T12:55:26.796Z"
   },
   {
    "duration": 0,
    "start_time": "2022-07-09T12:55:26.797Z"
   },
   {
    "duration": 0,
    "start_time": "2022-07-09T12:55:26.799Z"
   },
   {
    "duration": 0,
    "start_time": "2022-07-09T12:55:26.800Z"
   },
   {
    "duration": 181,
    "start_time": "2022-07-09T12:55:37.978Z"
   },
   {
    "duration": 402,
    "start_time": "2022-07-09T12:55:42.117Z"
   },
   {
    "duration": 632,
    "start_time": "2022-07-09T12:55:42.521Z"
   },
   {
    "duration": 557,
    "start_time": "2022-07-09T12:55:43.155Z"
   },
   {
    "duration": 140,
    "start_time": "2022-07-09T12:55:43.714Z"
   },
   {
    "duration": 374,
    "start_time": "2022-07-09T12:55:43.856Z"
   },
   {
    "duration": 554,
    "start_time": "2022-07-09T12:55:44.232Z"
   },
   {
    "duration": 167,
    "start_time": "2022-07-09T12:55:44.788Z"
   },
   {
    "duration": 0,
    "start_time": "2022-07-09T12:55:44.967Z"
   },
   {
    "duration": 0,
    "start_time": "2022-07-09T12:55:44.968Z"
   },
   {
    "duration": 0,
    "start_time": "2022-07-09T12:55:44.968Z"
   },
   {
    "duration": 0,
    "start_time": "2022-07-09T12:55:44.969Z"
   },
   {
    "duration": 0,
    "start_time": "2022-07-09T12:55:44.969Z"
   },
   {
    "duration": 0,
    "start_time": "2022-07-09T12:55:44.970Z"
   },
   {
    "duration": 12,
    "start_time": "2022-07-09T12:56:33.023Z"
   },
   {
    "duration": 367,
    "start_time": "2022-07-09T12:56:42.221Z"
   },
   {
    "duration": 588,
    "start_time": "2022-07-09T12:56:42.590Z"
   },
   {
    "duration": 548,
    "start_time": "2022-07-09T12:56:43.180Z"
   },
   {
    "duration": 144,
    "start_time": "2022-07-09T12:56:43.730Z"
   },
   {
    "duration": 352,
    "start_time": "2022-07-09T12:56:43.877Z"
   },
   {
    "duration": 517,
    "start_time": "2022-07-09T12:56:44.231Z"
   },
   {
    "duration": 74,
    "start_time": "2022-07-09T12:56:44.749Z"
   },
   {
    "duration": 0,
    "start_time": "2022-07-09T12:56:44.824Z"
   },
   {
    "duration": 0,
    "start_time": "2022-07-09T12:56:44.825Z"
   },
   {
    "duration": 0,
    "start_time": "2022-07-09T12:56:44.826Z"
   },
   {
    "duration": 0,
    "start_time": "2022-07-09T12:56:44.827Z"
   },
   {
    "duration": 0,
    "start_time": "2022-07-09T12:56:44.828Z"
   },
   {
    "duration": 0,
    "start_time": "2022-07-09T12:56:44.829Z"
   },
   {
    "duration": 23,
    "start_time": "2022-07-09T12:56:53.253Z"
   },
   {
    "duration": 15,
    "start_time": "2022-07-09T12:58:09.925Z"
   },
   {
    "duration": 148,
    "start_time": "2022-07-09T12:59:59.129Z"
   },
   {
    "duration": 49,
    "start_time": "2022-07-09T13:00:14.692Z"
   },
   {
    "duration": 43,
    "start_time": "2022-07-09T13:00:27.027Z"
   },
   {
    "duration": 24,
    "start_time": "2022-07-09T13:00:34.153Z"
   },
   {
    "duration": 31,
    "start_time": "2022-07-09T13:01:07.517Z"
   },
   {
    "duration": 33,
    "start_time": "2022-07-09T13:01:13.782Z"
   },
   {
    "duration": 39,
    "start_time": "2022-07-09T13:01:19.693Z"
   },
   {
    "duration": 46,
    "start_time": "2022-07-09T13:01:27.585Z"
   },
   {
    "duration": 35,
    "start_time": "2022-07-09T13:01:40.743Z"
   },
   {
    "duration": 19,
    "start_time": "2022-07-09T13:01:46.134Z"
   },
   {
    "duration": 26,
    "start_time": "2022-07-09T13:02:01.246Z"
   },
   {
    "duration": 451,
    "start_time": "2022-07-09T13:02:05.936Z"
   },
   {
    "duration": 698,
    "start_time": "2022-07-09T13:02:06.390Z"
   },
   {
    "duration": 600,
    "start_time": "2022-07-09T13:02:07.090Z"
   },
   {
    "duration": 138,
    "start_time": "2022-07-09T13:02:07.693Z"
   },
   {
    "duration": 419,
    "start_time": "2022-07-09T13:02:07.832Z"
   },
   {
    "duration": 628,
    "start_time": "2022-07-09T13:02:08.254Z"
   },
   {
    "duration": 170,
    "start_time": "2022-07-09T13:02:08.884Z"
   },
   {
    "duration": 66,
    "start_time": "2022-07-09T13:02:09.056Z"
   },
   {
    "duration": 16,
    "start_time": "2022-07-09T13:02:09.123Z"
   },
   {
    "duration": 25,
    "start_time": "2022-07-09T13:02:09.143Z"
   },
   {
    "duration": 23,
    "start_time": "2022-07-09T13:02:09.169Z"
   },
   {
    "duration": 5,
    "start_time": "2022-07-09T13:02:09.194Z"
   },
   {
    "duration": 21,
    "start_time": "2022-07-09T13:02:09.201Z"
   },
   {
    "duration": 9,
    "start_time": "2022-07-09T13:02:52.959Z"
   },
   {
    "duration": 20,
    "start_time": "2022-07-09T14:16:25.801Z"
   },
   {
    "duration": 19,
    "start_time": "2022-07-09T14:18:09.585Z"
   },
   {
    "duration": 57,
    "start_time": "2022-07-09T14:18:26.800Z"
   },
   {
    "duration": 9,
    "start_time": "2022-07-09T14:18:32.807Z"
   },
   {
    "duration": 13,
    "start_time": "2022-07-09T14:23:38.818Z"
   },
   {
    "duration": 525,
    "start_time": "2022-07-09T14:23:45.958Z"
   },
   {
    "duration": 809,
    "start_time": "2022-07-09T14:23:46.493Z"
   },
   {
    "duration": 618,
    "start_time": "2022-07-09T14:23:47.304Z"
   },
   {
    "duration": 153,
    "start_time": "2022-07-09T14:23:47.924Z"
   },
   {
    "duration": 421,
    "start_time": "2022-07-09T14:23:48.081Z"
   },
   {
    "duration": 591,
    "start_time": "2022-07-09T14:23:48.508Z"
   },
   {
    "duration": 129,
    "start_time": "2022-07-09T14:23:49.107Z"
   },
   {
    "duration": 61,
    "start_time": "2022-07-09T14:23:49.238Z"
   },
   {
    "duration": 18,
    "start_time": "2022-07-09T14:23:49.301Z"
   },
   {
    "duration": 10,
    "start_time": "2022-07-09T14:23:49.321Z"
   },
   {
    "duration": 39,
    "start_time": "2022-07-09T14:23:49.333Z"
   },
   {
    "duration": 50,
    "start_time": "2022-07-09T14:23:49.374Z"
   },
   {
    "duration": 39,
    "start_time": "2022-07-09T14:23:49.426Z"
   },
   {
    "duration": 16,
    "start_time": "2022-07-09T14:24:15.312Z"
   },
   {
    "duration": 70,
    "start_time": "2022-07-09T14:27:27.396Z"
   },
   {
    "duration": 88,
    "start_time": "2022-07-09T14:27:42.760Z"
   },
   {
    "duration": 45,
    "start_time": "2022-07-09T14:27:52.999Z"
   },
   {
    "duration": 12,
    "start_time": "2022-07-09T14:27:58.329Z"
   },
   {
    "duration": 72,
    "start_time": "2022-07-09T14:28:03.850Z"
   },
   {
    "duration": 45,
    "start_time": "2022-07-09T14:28:08.608Z"
   },
   {
    "duration": 17,
    "start_time": "2022-07-09T14:28:12.712Z"
   },
   {
    "duration": 479,
    "start_time": "2022-07-09T14:28:19.962Z"
   },
   {
    "duration": 776,
    "start_time": "2022-07-09T14:28:20.444Z"
   },
   {
    "duration": 783,
    "start_time": "2022-07-09T14:28:21.222Z"
   },
   {
    "duration": 180,
    "start_time": "2022-07-09T14:28:22.007Z"
   },
   {
    "duration": 498,
    "start_time": "2022-07-09T14:28:22.190Z"
   },
   {
    "duration": 794,
    "start_time": "2022-07-09T14:28:22.690Z"
   },
   {
    "duration": 164,
    "start_time": "2022-07-09T14:28:23.486Z"
   },
   {
    "duration": 89,
    "start_time": "2022-07-09T14:28:23.651Z"
   },
   {
    "duration": 28,
    "start_time": "2022-07-09T14:28:23.743Z"
   },
   {
    "duration": 57,
    "start_time": "2022-07-09T14:28:23.776Z"
   },
   {
    "duration": 15,
    "start_time": "2022-07-09T14:28:23.836Z"
   },
   {
    "duration": 23,
    "start_time": "2022-07-09T14:28:23.852Z"
   },
   {
    "duration": 59,
    "start_time": "2022-07-09T14:28:23.878Z"
   },
   {
    "duration": 30,
    "start_time": "2022-07-09T14:28:23.940Z"
   },
   {
    "duration": 11,
    "start_time": "2022-07-09T14:28:45.132Z"
   },
   {
    "duration": 27,
    "start_time": "2022-07-09T14:29:14.987Z"
   },
   {
    "duration": 493,
    "start_time": "2022-07-09T14:29:34.851Z"
   },
   {
    "duration": 744,
    "start_time": "2022-07-09T14:29:35.345Z"
   },
   {
    "duration": 816,
    "start_time": "2022-07-09T14:29:36.092Z"
   },
   {
    "duration": 175,
    "start_time": "2022-07-09T14:29:36.910Z"
   },
   {
    "duration": 524,
    "start_time": "2022-07-09T14:29:37.088Z"
   },
   {
    "duration": 635,
    "start_time": "2022-07-09T14:29:37.613Z"
   },
   {
    "duration": 162,
    "start_time": "2022-07-09T14:29:38.250Z"
   },
   {
    "duration": 60,
    "start_time": "2022-07-09T14:29:38.415Z"
   },
   {
    "duration": 17,
    "start_time": "2022-07-09T14:29:38.479Z"
   },
   {
    "duration": 46,
    "start_time": "2022-07-09T14:29:38.498Z"
   },
   {
    "duration": 85,
    "start_time": "2022-07-09T14:29:38.546Z"
   },
   {
    "duration": 19,
    "start_time": "2022-07-09T14:29:38.633Z"
   },
   {
    "duration": 77,
    "start_time": "2022-07-09T14:29:38.654Z"
   },
   {
    "duration": 16,
    "start_time": "2022-07-09T14:29:38.734Z"
   },
   {
    "duration": 20,
    "start_time": "2022-07-09T14:31:19.152Z"
   },
   {
    "duration": 17,
    "start_time": "2022-07-09T14:31:32.449Z"
   },
   {
    "duration": 23,
    "start_time": "2022-07-09T14:34:41.099Z"
   },
   {
    "duration": 510,
    "start_time": "2022-07-09T14:34:47.939Z"
   },
   {
    "duration": 774,
    "start_time": "2022-07-09T14:34:48.452Z"
   },
   {
    "duration": 715,
    "start_time": "2022-07-09T14:34:49.228Z"
   },
   {
    "duration": 169,
    "start_time": "2022-07-09T14:34:49.945Z"
   },
   {
    "duration": 495,
    "start_time": "2022-07-09T14:34:50.116Z"
   },
   {
    "duration": 687,
    "start_time": "2022-07-09T14:34:50.615Z"
   },
   {
    "duration": 163,
    "start_time": "2022-07-09T14:34:51.306Z"
   },
   {
    "duration": 82,
    "start_time": "2022-07-09T14:34:51.471Z"
   },
   {
    "duration": 17,
    "start_time": "2022-07-09T14:34:51.555Z"
   },
   {
    "duration": 57,
    "start_time": "2022-07-09T14:34:51.574Z"
   },
   {
    "duration": 23,
    "start_time": "2022-07-09T14:34:51.633Z"
   },
   {
    "duration": 46,
    "start_time": "2022-07-09T14:34:51.658Z"
   },
   {
    "duration": 17,
    "start_time": "2022-07-09T14:34:51.711Z"
   },
   {
    "duration": 12,
    "start_time": "2022-07-09T14:34:51.729Z"
   },
   {
    "duration": 28,
    "start_time": "2022-07-09T14:34:51.743Z"
   },
   {
    "duration": 8,
    "start_time": "2022-07-09T14:35:40.510Z"
   },
   {
    "duration": 9,
    "start_time": "2022-07-09T14:35:47.841Z"
   },
   {
    "duration": 6,
    "start_time": "2022-07-09T14:36:02.800Z"
   },
   {
    "duration": 8,
    "start_time": "2022-07-09T14:36:14.112Z"
   },
   {
    "duration": 13,
    "start_time": "2022-07-09T14:36:21.865Z"
   },
   {
    "duration": 5,
    "start_time": "2022-07-09T14:37:05.815Z"
   },
   {
    "duration": 17,
    "start_time": "2022-07-09T14:37:11.912Z"
   },
   {
    "duration": 488,
    "start_time": "2022-07-09T14:43:13.163Z"
   },
   {
    "duration": 739,
    "start_time": "2022-07-09T14:43:13.653Z"
   },
   {
    "duration": 715,
    "start_time": "2022-07-09T14:43:14.395Z"
   },
   {
    "duration": 180,
    "start_time": "2022-07-09T14:43:15.112Z"
   },
   {
    "duration": 515,
    "start_time": "2022-07-09T14:43:15.295Z"
   },
   {
    "duration": 631,
    "start_time": "2022-07-09T14:43:15.814Z"
   },
   {
    "duration": 3,
    "start_time": "2022-07-09T14:43:16.447Z"
   },
   {
    "duration": 380,
    "start_time": "2022-07-09T14:43:16.463Z"
   },
   {
    "duration": 176,
    "start_time": "2022-07-09T14:43:16.845Z"
   },
   {
    "duration": 9,
    "start_time": "2022-07-09T14:43:17.023Z"
   },
   {
    "duration": 12,
    "start_time": "2022-07-09T14:43:17.034Z"
   },
   {
    "duration": 65,
    "start_time": "2022-07-09T14:43:17.048Z"
   },
   {
    "duration": 11,
    "start_time": "2022-07-09T14:43:17.114Z"
   },
   {
    "duration": 23,
    "start_time": "2022-07-09T14:43:17.127Z"
   },
   {
    "duration": 5,
    "start_time": "2022-07-09T14:48:32.909Z"
   },
   {
    "duration": 10,
    "start_time": "2022-07-09T14:48:46.153Z"
   },
   {
    "duration": 63,
    "start_time": "2022-07-09T14:50:01.055Z"
   },
   {
    "duration": 376,
    "start_time": "2022-07-09T14:50:12.020Z"
   },
   {
    "duration": 710,
    "start_time": "2022-07-09T14:50:12.399Z"
   },
   {
    "duration": 598,
    "start_time": "2022-07-09T14:50:13.110Z"
   },
   {
    "duration": 165,
    "start_time": "2022-07-09T14:50:13.710Z"
   },
   {
    "duration": 433,
    "start_time": "2022-07-09T14:50:13.877Z"
   },
   {
    "duration": 595,
    "start_time": "2022-07-09T14:50:14.311Z"
   },
   {
    "duration": 139,
    "start_time": "2022-07-09T14:50:14.908Z"
   },
   {
    "duration": 74,
    "start_time": "2022-07-09T14:50:15.049Z"
   },
   {
    "duration": 10,
    "start_time": "2022-07-09T14:50:15.125Z"
   },
   {
    "duration": 5,
    "start_time": "2022-07-09T14:50:15.137Z"
   },
   {
    "duration": 18,
    "start_time": "2022-07-09T14:50:15.144Z"
   },
   {
    "duration": 52,
    "start_time": "2022-07-09T14:50:15.165Z"
   },
   {
    "duration": 12,
    "start_time": "2022-07-09T14:50:15.219Z"
   },
   {
    "duration": 18,
    "start_time": "2022-07-09T14:50:15.234Z"
   },
   {
    "duration": 5,
    "start_time": "2022-07-09T14:52:43.995Z"
   },
   {
    "duration": 958,
    "start_time": "2022-07-09T14:52:47.832Z"
   },
   {
    "duration": 699,
    "start_time": "2022-07-09T14:52:48.798Z"
   },
   {
    "duration": 639,
    "start_time": "2022-07-09T14:52:49.499Z"
   },
   {
    "duration": 204,
    "start_time": "2022-07-09T14:52:50.140Z"
   },
   {
    "duration": 665,
    "start_time": "2022-07-09T14:52:50.347Z"
   },
   {
    "duration": 818,
    "start_time": "2022-07-09T14:52:51.014Z"
   },
   {
    "duration": 3,
    "start_time": "2022-07-09T14:52:51.834Z"
   },
   {
    "duration": 276,
    "start_time": "2022-07-09T14:52:51.839Z"
   },
   {
    "duration": 119,
    "start_time": "2022-07-09T14:52:52.118Z"
   },
   {
    "duration": 5,
    "start_time": "2022-07-09T14:52:52.240Z"
   },
   {
    "duration": 59,
    "start_time": "2022-07-09T14:52:52.247Z"
   },
   {
    "duration": 25,
    "start_time": "2022-07-09T14:52:52.308Z"
   },
   {
    "duration": 16,
    "start_time": "2022-07-09T14:52:52.335Z"
   },
   {
    "duration": 69,
    "start_time": "2022-07-09T14:52:52.353Z"
   },
   {
    "duration": 71,
    "start_time": "2022-07-09T14:54:02.407Z"
   },
   {
    "duration": 165,
    "start_time": "2022-07-09T14:54:22.376Z"
   },
   {
    "duration": 11,
    "start_time": "2022-07-09T14:54:32.193Z"
   },
   {
    "duration": 447,
    "start_time": "2022-07-09T14:55:46.959Z"
   },
   {
    "duration": 693,
    "start_time": "2022-07-09T14:55:47.409Z"
   },
   {
    "duration": 704,
    "start_time": "2022-07-09T14:55:48.104Z"
   },
   {
    "duration": 141,
    "start_time": "2022-07-09T14:55:48.810Z"
   },
   {
    "duration": 475,
    "start_time": "2022-07-09T14:55:48.961Z"
   },
   {
    "duration": 561,
    "start_time": "2022-07-09T14:55:49.438Z"
   },
   {
    "duration": 137,
    "start_time": "2022-07-09T14:55:50.001Z"
   },
   {
    "duration": 65,
    "start_time": "2022-07-09T14:55:50.140Z"
   },
   {
    "duration": 11,
    "start_time": "2022-07-09T14:55:50.207Z"
   },
   {
    "duration": 10,
    "start_time": "2022-07-09T14:55:50.220Z"
   },
   {
    "duration": 9,
    "start_time": "2022-07-09T14:55:50.231Z"
   },
   {
    "duration": 20,
    "start_time": "2022-07-09T14:55:50.241Z"
   },
   {
    "duration": 43,
    "start_time": "2022-07-09T14:55:50.268Z"
   },
   {
    "duration": 10,
    "start_time": "2022-07-09T14:55:50.313Z"
   },
   {
    "duration": 29,
    "start_time": "2022-07-09T14:55:50.325Z"
   },
   {
    "duration": 406,
    "start_time": "2022-07-09T14:56:37.896Z"
   },
   {
    "duration": 699,
    "start_time": "2022-07-09T14:56:38.304Z"
   },
   {
    "duration": 693,
    "start_time": "2022-07-09T14:56:39.005Z"
   },
   {
    "duration": 126,
    "start_time": "2022-07-09T14:56:39.700Z"
   },
   {
    "duration": 3,
    "start_time": "2022-07-09T14:56:39.828Z"
   },
   {
    "duration": 9,
    "start_time": "2022-07-09T14:56:39.832Z"
   },
   {
    "duration": 6,
    "start_time": "2022-07-09T14:56:39.842Z"
   },
   {
    "duration": 19,
    "start_time": "2022-07-09T14:56:39.849Z"
   },
   {
    "duration": 19,
    "start_time": "2022-07-09T14:56:39.877Z"
   },
   {
    "duration": 6,
    "start_time": "2022-07-09T14:56:39.898Z"
   },
   {
    "duration": 5,
    "start_time": "2022-07-09T14:56:39.907Z"
   },
   {
    "duration": 6,
    "start_time": "2022-07-09T14:56:39.913Z"
   },
   {
    "duration": 5,
    "start_time": "2022-07-09T14:56:39.920Z"
   },
   {
    "duration": 4,
    "start_time": "2022-07-09T14:56:39.928Z"
   },
   {
    "duration": 4,
    "start_time": "2022-07-09T14:56:39.934Z"
   },
   {
    "duration": 13,
    "start_time": "2022-07-09T14:56:59.606Z"
   },
   {
    "duration": 77,
    "start_time": "2022-07-09T14:57:57.818Z"
   },
   {
    "duration": 65,
    "start_time": "2022-07-09T14:58:02.592Z"
   },
   {
    "duration": 494,
    "start_time": "2022-07-09T14:58:53.362Z"
   },
   {
    "duration": 786,
    "start_time": "2022-07-09T14:58:53.858Z"
   },
   {
    "duration": 799,
    "start_time": "2022-07-09T14:58:54.646Z"
   },
   {
    "duration": 213,
    "start_time": "2022-07-09T14:58:55.449Z"
   },
   {
    "duration": 521,
    "start_time": "2022-07-09T14:58:55.664Z"
   },
   {
    "duration": 4,
    "start_time": "2022-07-09T14:58:56.187Z"
   },
   {
    "duration": 3,
    "start_time": "2022-07-09T14:58:56.192Z"
   },
   {
    "duration": 125,
    "start_time": "2022-07-09T14:58:56.197Z"
   },
   {
    "duration": 3,
    "start_time": "2022-07-09T14:58:56.328Z"
   },
   {
    "duration": 97,
    "start_time": "2022-07-09T14:58:56.335Z"
   },
   {
    "duration": 43,
    "start_time": "2022-07-09T14:58:56.434Z"
   },
   {
    "duration": 41,
    "start_time": "2022-07-09T14:58:56.479Z"
   },
   {
    "duration": 16,
    "start_time": "2022-07-09T14:58:56.523Z"
   },
   {
    "duration": 8,
    "start_time": "2022-07-09T14:58:56.540Z"
   },
   {
    "duration": 21,
    "start_time": "2022-07-09T14:59:06.316Z"
   },
   {
    "duration": 434,
    "start_time": "2022-07-09T14:59:59.539Z"
   },
   {
    "duration": 730,
    "start_time": "2022-07-09T14:59:59.975Z"
   },
   {
    "duration": 649,
    "start_time": "2022-07-09T15:00:00.707Z"
   },
   {
    "duration": 181,
    "start_time": "2022-07-09T15:00:01.361Z"
   },
   {
    "duration": 229,
    "start_time": "2022-07-09T15:00:01.544Z"
   },
   {
    "duration": 3,
    "start_time": "2022-07-09T15:00:01.775Z"
   },
   {
    "duration": 43,
    "start_time": "2022-07-09T15:00:01.779Z"
   },
   {
    "duration": 23,
    "start_time": "2022-07-09T15:00:01.824Z"
   },
   {
    "duration": 40,
    "start_time": "2022-07-09T15:00:01.850Z"
   },
   {
    "duration": 16,
    "start_time": "2022-07-09T15:00:01.902Z"
   },
   {
    "duration": 88,
    "start_time": "2022-07-09T15:00:01.921Z"
   },
   {
    "duration": 17,
    "start_time": "2022-07-09T15:00:02.011Z"
   },
   {
    "duration": 23,
    "start_time": "2022-07-09T15:00:02.030Z"
   },
   {
    "duration": 60,
    "start_time": "2022-07-09T15:00:02.057Z"
   },
   {
    "duration": 397,
    "start_time": "2022-07-09T15:00:12.118Z"
   },
   {
    "duration": 681,
    "start_time": "2022-07-09T15:00:12.517Z"
   },
   {
    "duration": 604,
    "start_time": "2022-07-09T15:00:13.200Z"
   },
   {
    "duration": 167,
    "start_time": "2022-07-09T15:00:13.807Z"
   },
   {
    "duration": 399,
    "start_time": "2022-07-09T15:00:13.976Z"
   },
   {
    "duration": 3,
    "start_time": "2022-07-09T15:00:14.377Z"
   },
   {
    "duration": 25,
    "start_time": "2022-07-09T15:00:14.384Z"
   },
   {
    "duration": 7,
    "start_time": "2022-07-09T15:00:14.411Z"
   },
   {
    "duration": 5,
    "start_time": "2022-07-09T15:00:14.420Z"
   },
   {
    "duration": 6,
    "start_time": "2022-07-09T15:00:14.427Z"
   },
   {
    "duration": 6,
    "start_time": "2022-07-09T15:00:14.435Z"
   },
   {
    "duration": 5,
    "start_time": "2022-07-09T15:00:14.443Z"
   },
   {
    "duration": 24,
    "start_time": "2022-07-09T15:00:14.450Z"
   },
   {
    "duration": 25,
    "start_time": "2022-07-09T15:00:14.476Z"
   },
   {
    "duration": 437,
    "start_time": "2022-07-09T15:02:37.073Z"
   },
   {
    "duration": 712,
    "start_time": "2022-07-09T15:02:37.512Z"
   },
   {
    "duration": 685,
    "start_time": "2022-07-09T15:02:38.226Z"
   },
   {
    "duration": 186,
    "start_time": "2022-07-09T15:02:38.913Z"
   },
   {
    "duration": 520,
    "start_time": "2022-07-09T15:02:39.105Z"
   },
   {
    "duration": 3,
    "start_time": "2022-07-09T15:02:39.628Z"
   },
   {
    "duration": 10,
    "start_time": "2022-07-09T15:02:39.633Z"
   },
   {
    "duration": 21,
    "start_time": "2022-07-09T15:02:39.645Z"
   },
   {
    "duration": 161,
    "start_time": "2022-07-09T15:02:39.668Z"
   },
   {
    "duration": 2,
    "start_time": "2022-07-09T15:02:39.832Z"
   },
   {
    "duration": 10,
    "start_time": "2022-07-09T15:02:39.836Z"
   },
   {
    "duration": 17,
    "start_time": "2022-07-09T15:02:39.848Z"
   },
   {
    "duration": 44,
    "start_time": "2022-07-09T15:02:39.867Z"
   },
   {
    "duration": 5,
    "start_time": "2022-07-09T15:02:39.912Z"
   },
   {
    "duration": 20,
    "start_time": "2022-07-09T15:02:54.484Z"
   },
   {
    "duration": 17,
    "start_time": "2022-07-09T15:03:08.260Z"
   },
   {
    "duration": 24,
    "start_time": "2022-07-09T15:03:14.756Z"
   },
   {
    "duration": 22,
    "start_time": "2022-07-09T15:06:09.966Z"
   },
   {
    "duration": 18,
    "start_time": "2022-07-09T15:06:20.860Z"
   },
   {
    "duration": 15,
    "start_time": "2022-07-09T15:17:52.018Z"
   },
   {
    "duration": 1311,
    "start_time": "2022-07-09T15:32:05.133Z"
   },
   {
    "duration": 16,
    "start_time": "2022-07-09T15:32:23.861Z"
   },
   {
    "duration": 7,
    "start_time": "2022-07-09T15:33:09.799Z"
   },
   {
    "duration": 9,
    "start_time": "2022-07-09T15:33:23.690Z"
   },
   {
    "duration": 6,
    "start_time": "2022-07-09T15:33:39.588Z"
   },
   {
    "duration": 10,
    "start_time": "2022-07-09T15:34:40.339Z"
   },
   {
    "duration": 16,
    "start_time": "2022-07-09T15:34:57.812Z"
   },
   {
    "duration": 14,
    "start_time": "2022-07-09T15:35:24.182Z"
   },
   {
    "duration": 13,
    "start_time": "2022-07-09T15:37:00.236Z"
   },
   {
    "duration": 46,
    "start_time": "2022-07-09T15:37:43.296Z"
   },
   {
    "duration": 6,
    "start_time": "2022-07-09T15:37:52.215Z"
   },
   {
    "duration": 16,
    "start_time": "2022-07-09T15:37:58.587Z"
   },
   {
    "duration": 18,
    "start_time": "2022-07-09T15:38:07.079Z"
   },
   {
    "duration": 483,
    "start_time": "2022-07-09T15:40:25.119Z"
   },
   {
    "duration": 708,
    "start_time": "2022-07-09T15:40:25.607Z"
   },
   {
    "duration": 710,
    "start_time": "2022-07-09T15:40:26.317Z"
   },
   {
    "duration": 162,
    "start_time": "2022-07-09T15:40:27.029Z"
   },
   {
    "duration": 4,
    "start_time": "2022-07-09T15:40:27.196Z"
   },
   {
    "duration": 7,
    "start_time": "2022-07-09T15:40:27.202Z"
   },
   {
    "duration": 5,
    "start_time": "2022-07-09T15:40:27.211Z"
   },
   {
    "duration": 17,
    "start_time": "2022-07-09T15:40:27.217Z"
   },
   {
    "duration": 103,
    "start_time": "2022-07-09T15:40:27.235Z"
   },
   {
    "duration": 0,
    "start_time": "2022-07-09T15:40:27.341Z"
   },
   {
    "duration": 0,
    "start_time": "2022-07-09T15:40:27.342Z"
   },
   {
    "duration": 0,
    "start_time": "2022-07-09T15:40:27.342Z"
   },
   {
    "duration": 18,
    "start_time": "2022-07-09T15:42:14.048Z"
   },
   {
    "duration": 19,
    "start_time": "2022-07-09T15:42:27.318Z"
   },
   {
    "duration": 481,
    "start_time": "2022-07-09T15:42:52.519Z"
   },
   {
    "duration": 187,
    "start_time": "2022-07-09T15:42:55.594Z"
   },
   {
    "duration": 25,
    "start_time": "2022-07-09T15:43:49.797Z"
   },
   {
    "duration": 7,
    "start_time": "2022-07-09T15:44:31.430Z"
   },
   {
    "duration": 11,
    "start_time": "2022-07-09T15:44:52.104Z"
   },
   {
    "duration": 7,
    "start_time": "2022-07-09T15:46:18.287Z"
   },
   {
    "duration": 187,
    "start_time": "2022-07-09T15:47:00.098Z"
   },
   {
    "duration": 191,
    "start_time": "2022-07-09T15:47:18.485Z"
   },
   {
    "duration": 8,
    "start_time": "2022-07-09T15:48:35.519Z"
   },
   {
    "duration": 53,
    "start_time": "2022-07-09T15:48:38.803Z"
   },
   {
    "duration": 248,
    "start_time": "2022-07-09T15:50:17.653Z"
   },
   {
    "duration": 295,
    "start_time": "2022-07-09T15:50:21.408Z"
   },
   {
    "duration": 191,
    "start_time": "2022-07-09T15:50:46.952Z"
   },
   {
    "duration": 25,
    "start_time": "2022-07-09T15:50:51.583Z"
   },
   {
    "duration": 24,
    "start_time": "2022-07-09T15:51:28.358Z"
   },
   {
    "duration": 226,
    "start_time": "2022-07-09T15:51:49.588Z"
   },
   {
    "duration": 135,
    "start_time": "2022-07-09T15:52:02.646Z"
   },
   {
    "duration": 20,
    "start_time": "2022-07-09T15:52:12.653Z"
   },
   {
    "duration": 35,
    "start_time": "2022-07-09T15:52:31.613Z"
   },
   {
    "duration": 40,
    "start_time": "2022-07-09T15:52:42.885Z"
   },
   {
    "duration": 11,
    "start_time": "2022-07-09T15:52:54.302Z"
   },
   {
    "duration": 8,
    "start_time": "2022-07-09T15:53:11.178Z"
   },
   {
    "duration": 18,
    "start_time": "2022-07-09T15:53:38.493Z"
   },
   {
    "duration": 5,
    "start_time": "2022-07-09T15:53:46.092Z"
   },
   {
    "duration": 10,
    "start_time": "2022-07-09T15:54:05.283Z"
   },
   {
    "duration": 15,
    "start_time": "2022-07-09T15:54:32.823Z"
   },
   {
    "duration": 12,
    "start_time": "2022-07-09T15:55:24.778Z"
   },
   {
    "duration": 10,
    "start_time": "2022-07-09T15:55:32.041Z"
   },
   {
    "duration": 11,
    "start_time": "2022-07-09T15:56:15.987Z"
   },
   {
    "duration": 8,
    "start_time": "2022-07-09T15:56:23.101Z"
   },
   {
    "duration": 8,
    "start_time": "2022-07-09T15:56:28.300Z"
   },
   {
    "duration": 7,
    "start_time": "2022-07-09T15:56:40.191Z"
   },
   {
    "duration": 11,
    "start_time": "2022-07-09T15:56:49.200Z"
   },
   {
    "duration": 75,
    "start_time": "2022-07-09T15:57:06.641Z"
   },
   {
    "duration": 18,
    "start_time": "2022-07-09T15:57:09.345Z"
   },
   {
    "duration": 10,
    "start_time": "2022-07-09T15:57:19.193Z"
   },
   {
    "duration": 5,
    "start_time": "2022-07-09T15:57:34.305Z"
   },
   {
    "duration": 23,
    "start_time": "2022-07-09T15:57:39.457Z"
   },
   {
    "duration": 36,
    "start_time": "2022-07-09T15:57:46.256Z"
   },
   {
    "duration": 435,
    "start_time": "2022-07-09T15:59:24.782Z"
   },
   {
    "duration": 695,
    "start_time": "2022-07-09T15:59:25.219Z"
   },
   {
    "duration": 626,
    "start_time": "2022-07-09T15:59:25.916Z"
   },
   {
    "duration": 170,
    "start_time": "2022-07-09T15:59:26.545Z"
   },
   {
    "duration": 2,
    "start_time": "2022-07-09T15:59:26.719Z"
   },
   {
    "duration": 19,
    "start_time": "2022-07-09T15:59:26.723Z"
   },
   {
    "duration": 101,
    "start_time": "2022-07-09T15:59:26.744Z"
   },
   {
    "duration": 0,
    "start_time": "2022-07-09T15:59:26.847Z"
   },
   {
    "duration": 0,
    "start_time": "2022-07-09T15:59:26.848Z"
   },
   {
    "duration": 395,
    "start_time": "2022-07-09T16:44:36.608Z"
   },
   {
    "duration": 619,
    "start_time": "2022-07-09T16:44:37.005Z"
   },
   {
    "duration": 586,
    "start_time": "2022-07-09T16:44:37.626Z"
   },
   {
    "duration": 82,
    "start_time": "2022-07-09T16:44:38.214Z"
   },
   {
    "duration": 0,
    "start_time": "2022-07-09T16:44:38.298Z"
   },
   {
    "duration": 8,
    "start_time": "2022-07-09T16:46:19.299Z"
   },
   {
    "duration": 187,
    "start_time": "2022-07-09T16:46:46.787Z"
   },
   {
    "duration": 21,
    "start_time": "2022-07-09T16:47:02.360Z"
   },
   {
    "duration": 11,
    "start_time": "2022-07-09T16:47:10.905Z"
   },
   {
    "duration": 410,
    "start_time": "2022-07-09T16:47:35.215Z"
   },
   {
    "duration": 727,
    "start_time": "2022-07-09T16:47:35.627Z"
   },
   {
    "duration": 741,
    "start_time": "2022-07-09T16:47:36.356Z"
   },
   {
    "duration": 145,
    "start_time": "2022-07-09T16:47:38.319Z"
   },
   {
    "duration": 17,
    "start_time": "2022-07-09T16:47:38.469Z"
   },
   {
    "duration": 93,
    "start_time": "2022-07-09T16:47:38.487Z"
   },
   {
    "duration": 10,
    "start_time": "2022-07-09T16:49:58.830Z"
   },
   {
    "duration": 24,
    "start_time": "2022-07-09T16:50:37.654Z"
   },
   {
    "duration": 7,
    "start_time": "2022-07-09T16:51:18.088Z"
   },
   {
    "duration": 8,
    "start_time": "2022-07-09T16:53:48.314Z"
   },
   {
    "duration": 24,
    "start_time": "2022-07-09T16:55:53.489Z"
   },
   {
    "duration": 5,
    "start_time": "2022-07-09T16:56:22.815Z"
   },
   {
    "duration": 18,
    "start_time": "2022-07-09T16:57:38.979Z"
   },
   {
    "duration": 6,
    "start_time": "2022-07-09T16:57:53.015Z"
   },
   {
    "duration": 36,
    "start_time": "2022-07-09T16:58:17.453Z"
   },
   {
    "duration": 13,
    "start_time": "2022-07-09T16:59:15.253Z"
   },
   {
    "duration": 69,
    "start_time": "2022-07-09T16:59:18.663Z"
   },
   {
    "duration": 29,
    "start_time": "2022-07-09T17:01:38.653Z"
   },
   {
    "duration": 12,
    "start_time": "2022-07-09T17:01:44.889Z"
   },
   {
    "duration": 11,
    "start_time": "2022-07-09T17:02:20.298Z"
   },
   {
    "duration": 25,
    "start_time": "2022-07-09T17:02:24.752Z"
   },
   {
    "duration": 69,
    "start_time": "2022-07-09T17:02:34.035Z"
   },
   {
    "duration": 16,
    "start_time": "2022-07-09T17:02:35.885Z"
   },
   {
    "duration": 14,
    "start_time": "2022-07-09T17:04:09.108Z"
   },
   {
    "duration": 13,
    "start_time": "2022-07-09T17:04:19.385Z"
   },
   {
    "duration": 11,
    "start_time": "2022-07-09T17:04:25.143Z"
   },
   {
    "duration": 4,
    "start_time": "2022-07-09T17:05:22.515Z"
   },
   {
    "duration": 53,
    "start_time": "2022-07-09T17:06:29.935Z"
   },
   {
    "duration": 21,
    "start_time": "2022-07-09T17:06:44.032Z"
   },
   {
    "duration": 107,
    "start_time": "2022-07-09T17:07:15.851Z"
   },
   {
    "duration": 11,
    "start_time": "2022-07-09T17:07:18.132Z"
   },
   {
    "duration": 8,
    "start_time": "2022-07-09T17:07:22.932Z"
   },
   {
    "duration": 32,
    "start_time": "2022-07-09T17:11:45.463Z"
   },
   {
    "duration": 28,
    "start_time": "2022-07-09T17:12:20.296Z"
   },
   {
    "duration": 34,
    "start_time": "2022-07-09T17:12:39.807Z"
   },
   {
    "duration": 32,
    "start_time": "2022-07-09T17:12:54.414Z"
   },
   {
    "duration": 35,
    "start_time": "2022-07-09T17:13:19.147Z"
   },
   {
    "duration": 24,
    "start_time": "2022-07-09T17:13:39.966Z"
   },
   {
    "duration": 17,
    "start_time": "2022-07-09T17:13:54.059Z"
   },
   {
    "duration": 29,
    "start_time": "2022-07-09T17:13:58.465Z"
   },
   {
    "duration": 26,
    "start_time": "2022-07-09T17:14:19.760Z"
   },
   {
    "duration": 34,
    "start_time": "2022-07-09T17:14:51.124Z"
   },
   {
    "duration": 36,
    "start_time": "2022-07-09T17:15:05.470Z"
   },
   {
    "duration": 762,
    "start_time": "2022-07-09T17:18:56.473Z"
   },
   {
    "duration": 1000,
    "start_time": "2022-07-09T17:18:57.241Z"
   },
   {
    "duration": 817,
    "start_time": "2022-07-09T17:18:58.251Z"
   },
   {
    "duration": 215,
    "start_time": "2022-07-09T17:18:59.073Z"
   },
   {
    "duration": 53,
    "start_time": "2022-07-09T17:18:59.295Z"
   },
   {
    "duration": 34,
    "start_time": "2022-07-09T17:18:59.349Z"
   },
   {
    "duration": 52,
    "start_time": "2022-07-09T17:18:59.389Z"
   },
   {
    "duration": 12,
    "start_time": "2022-07-09T17:18:59.444Z"
   },
   {
    "duration": 16,
    "start_time": "2022-07-09T17:18:59.458Z"
   },
   {
    "duration": 54,
    "start_time": "2022-07-09T17:18:59.478Z"
   },
   {
    "duration": 62,
    "start_time": "2022-07-09T17:18:59.535Z"
   },
   {
    "duration": 17,
    "start_time": "2022-07-09T17:18:59.599Z"
   },
   {
    "duration": 30,
    "start_time": "2022-07-09T17:22:31.407Z"
   },
   {
    "duration": 216,
    "start_time": "2022-07-09T17:23:43.606Z"
   },
   {
    "duration": 65,
    "start_time": "2022-07-09T17:24:44.312Z"
   },
   {
    "duration": 26,
    "start_time": "2022-07-09T17:25:29.904Z"
   },
   {
    "duration": 16,
    "start_time": "2022-07-09T17:26:22.925Z"
   },
   {
    "duration": 14,
    "start_time": "2022-07-09T17:26:32.434Z"
   },
   {
    "duration": 19,
    "start_time": "2022-07-09T17:27:07.432Z"
   },
   {
    "duration": 19,
    "start_time": "2022-07-09T17:27:24.811Z"
   },
   {
    "duration": 88,
    "start_time": "2022-07-09T17:27:29.628Z"
   },
   {
    "duration": 87,
    "start_time": "2022-07-09T17:27:32.327Z"
   },
   {
    "duration": 45,
    "start_time": "2022-07-09T17:27:36.545Z"
   },
   {
    "duration": 14,
    "start_time": "2022-07-09T17:28:10.108Z"
   },
   {
    "duration": 10,
    "start_time": "2022-07-09T17:28:57.064Z"
   },
   {
    "duration": 10,
    "start_time": "2022-07-09T17:29:30.912Z"
   },
   {
    "duration": 13,
    "start_time": "2022-07-09T17:29:38.053Z"
   },
   {
    "duration": 509,
    "start_time": "2022-07-09T17:29:48.045Z"
   },
   {
    "duration": 1059,
    "start_time": "2022-07-09T17:29:48.557Z"
   },
   {
    "duration": 1004,
    "start_time": "2022-07-09T17:29:49.622Z"
   },
   {
    "duration": 193,
    "start_time": "2022-07-09T17:29:50.637Z"
   },
   {
    "duration": 25,
    "start_time": "2022-07-09T17:29:50.838Z"
   },
   {
    "duration": 114,
    "start_time": "2022-07-09T17:29:50.865Z"
   },
   {
    "duration": 17,
    "start_time": "2022-07-09T17:29:50.981Z"
   },
   {
    "duration": 50,
    "start_time": "2022-07-09T17:29:51.003Z"
   },
   {
    "duration": 48,
    "start_time": "2022-07-09T17:29:51.058Z"
   },
   {
    "duration": 43,
    "start_time": "2022-07-09T17:29:51.110Z"
   },
   {
    "duration": 124,
    "start_time": "2022-07-09T17:29:51.155Z"
   },
   {
    "duration": 15,
    "start_time": "2022-07-09T17:29:51.283Z"
   },
   {
    "duration": 82,
    "start_time": "2022-07-09T17:29:51.301Z"
   },
   {
    "duration": 76,
    "start_time": "2022-07-09T17:29:51.385Z"
   },
   {
    "duration": 27,
    "start_time": "2022-07-09T17:30:27.304Z"
   },
   {
    "duration": 11,
    "start_time": "2022-07-09T17:30:54.242Z"
   },
   {
    "duration": 27,
    "start_time": "2022-07-09T17:31:06.086Z"
   },
   {
    "duration": 4,
    "start_time": "2022-07-09T17:32:50.126Z"
   },
   {
    "duration": 472,
    "start_time": "2022-07-09T17:32:53.838Z"
   },
   {
    "duration": 835,
    "start_time": "2022-07-09T17:32:54.312Z"
   },
   {
    "duration": 792,
    "start_time": "2022-07-09T17:32:55.149Z"
   },
   {
    "duration": 197,
    "start_time": "2022-07-09T17:32:55.943Z"
   },
   {
    "duration": 7,
    "start_time": "2022-07-09T17:32:56.143Z"
   },
   {
    "duration": 44,
    "start_time": "2022-07-09T17:32:56.152Z"
   },
   {
    "duration": 53,
    "start_time": "2022-07-09T17:32:56.203Z"
   },
   {
    "duration": 133,
    "start_time": "2022-07-09T17:32:56.259Z"
   },
   {
    "duration": 56,
    "start_time": "2022-07-09T17:32:56.400Z"
   },
   {
    "duration": 99,
    "start_time": "2022-07-09T17:32:56.459Z"
   },
   {
    "duration": 152,
    "start_time": "2022-07-09T17:32:56.560Z"
   },
   {
    "duration": 14,
    "start_time": "2022-07-09T17:35:30.033Z"
   },
   {
    "duration": 6,
    "start_time": "2022-07-09T17:35:39.211Z"
   },
   {
    "duration": 101,
    "start_time": "2022-07-09T17:36:06.404Z"
   },
   {
    "duration": 61,
    "start_time": "2022-07-09T17:36:10.389Z"
   },
   {
    "duration": 25,
    "start_time": "2022-07-09T17:36:13.798Z"
   },
   {
    "duration": 24,
    "start_time": "2022-07-09T17:36:27.858Z"
   },
   {
    "duration": 10,
    "start_time": "2022-07-09T17:39:52.903Z"
   },
   {
    "duration": 22,
    "start_time": "2022-07-09T17:40:13.451Z"
   },
   {
    "duration": 31,
    "start_time": "2022-07-09T17:43:46.401Z"
   },
   {
    "duration": 32,
    "start_time": "2022-07-09T17:43:50.784Z"
   },
   {
    "duration": 15,
    "start_time": "2022-07-09T17:43:59.747Z"
   },
   {
    "duration": 24,
    "start_time": "2022-07-09T17:44:05.126Z"
   },
   {
    "duration": 10,
    "start_time": "2022-07-09T17:44:43.411Z"
   },
   {
    "duration": 9,
    "start_time": "2022-07-09T17:45:20.815Z"
   },
   {
    "duration": 12,
    "start_time": "2022-07-09T17:45:25.324Z"
   },
   {
    "duration": 414,
    "start_time": "2022-07-09T17:47:48.348Z"
   },
   {
    "duration": 757,
    "start_time": "2022-07-09T17:47:48.765Z"
   },
   {
    "duration": 734,
    "start_time": "2022-07-09T17:47:49.524Z"
   },
   {
    "duration": 157,
    "start_time": "2022-07-09T17:47:50.261Z"
   },
   {
    "duration": 10,
    "start_time": "2022-07-09T17:47:50.424Z"
   },
   {
    "duration": 50,
    "start_time": "2022-07-09T17:47:50.435Z"
   },
   {
    "duration": 10,
    "start_time": "2022-07-09T17:47:50.487Z"
   },
   {
    "duration": 35,
    "start_time": "2022-07-09T17:47:50.500Z"
   },
   {
    "duration": 6,
    "start_time": "2022-07-09T17:47:50.538Z"
   },
   {
    "duration": 5,
    "start_time": "2022-07-09T17:47:50.547Z"
   },
   {
    "duration": 6,
    "start_time": "2022-07-09T17:47:50.553Z"
   },
   {
    "duration": 103,
    "start_time": "2022-07-09T17:49:01.184Z"
   },
   {
    "duration": 60,
    "start_time": "2022-07-09T17:49:07.741Z"
   },
   {
    "duration": 82,
    "start_time": "2022-07-09T17:49:11.741Z"
   },
   {
    "duration": 425,
    "start_time": "2022-07-09T17:49:34.524Z"
   },
   {
    "duration": 776,
    "start_time": "2022-07-09T17:49:34.951Z"
   },
   {
    "duration": 694,
    "start_time": "2022-07-09T17:49:35.729Z"
   },
   {
    "duration": 197,
    "start_time": "2022-07-09T17:49:36.424Z"
   },
   {
    "duration": 27,
    "start_time": "2022-07-09T17:49:36.627Z"
   },
   {
    "duration": 94,
    "start_time": "2022-07-09T17:49:36.656Z"
   },
   {
    "duration": 48,
    "start_time": "2022-07-09T17:49:36.757Z"
   },
   {
    "duration": 114,
    "start_time": "2022-07-09T17:49:36.819Z"
   },
   {
    "duration": 106,
    "start_time": "2022-07-09T17:49:36.936Z"
   },
   {
    "duration": 87,
    "start_time": "2022-07-09T17:49:37.044Z"
   },
   {
    "duration": 254,
    "start_time": "2022-07-09T17:49:37.133Z"
   },
   {
    "duration": 0,
    "start_time": "2022-07-09T17:49:37.397Z"
   },
   {
    "duration": 73,
    "start_time": "2022-07-09T17:50:15.445Z"
   },
   {
    "duration": 85,
    "start_time": "2022-07-09T17:50:39.546Z"
   },
   {
    "duration": 75,
    "start_time": "2022-07-09T17:50:48.306Z"
   },
   {
    "duration": 73,
    "start_time": "2022-07-09T17:50:58.119Z"
   },
   {
    "duration": 445,
    "start_time": "2022-07-09T17:51:18.957Z"
   },
   {
    "duration": 692,
    "start_time": "2022-07-09T17:51:19.404Z"
   },
   {
    "duration": 661,
    "start_time": "2022-07-09T17:51:20.098Z"
   },
   {
    "duration": 148,
    "start_time": "2022-07-09T17:51:20.763Z"
   },
   {
    "duration": 6,
    "start_time": "2022-07-09T17:51:20.914Z"
   },
   {
    "duration": 17,
    "start_time": "2022-07-09T17:51:20.922Z"
   },
   {
    "duration": 56,
    "start_time": "2022-07-09T17:51:20.940Z"
   },
   {
    "duration": 26,
    "start_time": "2022-07-09T17:51:20.997Z"
   },
   {
    "duration": 5,
    "start_time": "2022-07-09T17:51:21.024Z"
   },
   {
    "duration": 9,
    "start_time": "2022-07-09T17:51:21.031Z"
   },
   {
    "duration": 150,
    "start_time": "2022-07-09T17:51:21.042Z"
   },
   {
    "duration": 0,
    "start_time": "2022-07-09T17:51:21.194Z"
   },
   {
    "duration": 69,
    "start_time": "2022-07-09T17:52:49.385Z"
   },
   {
    "duration": 109,
    "start_time": "2022-07-09T17:52:56.981Z"
   },
   {
    "duration": 92,
    "start_time": "2022-07-09T17:52:59.551Z"
   },
   {
    "duration": 72,
    "start_time": "2022-07-09T17:53:01.508Z"
   },
   {
    "duration": 70,
    "start_time": "2022-07-09T17:55:01.838Z"
   },
   {
    "duration": 17,
    "start_time": "2022-07-09T17:56:05.003Z"
   },
   {
    "duration": 15,
    "start_time": "2022-07-09T17:56:45.155Z"
   },
   {
    "duration": 21,
    "start_time": "2022-07-09T17:57:25.050Z"
   },
   {
    "duration": 16,
    "start_time": "2022-07-09T17:57:42.085Z"
   },
   {
    "duration": 7,
    "start_time": "2022-07-09T17:58:12.844Z"
   },
   {
    "duration": 61,
    "start_time": "2022-07-09T17:58:37.731Z"
   },
   {
    "duration": 10,
    "start_time": "2022-07-09T17:58:38.803Z"
   },
   {
    "duration": 25,
    "start_time": "2022-07-09T17:59:12.080Z"
   },
   {
    "duration": 13,
    "start_time": "2022-07-09T17:59:26.443Z"
   },
   {
    "duration": 8,
    "start_time": "2022-07-09T18:02:43.497Z"
   },
   {
    "duration": 40,
    "start_time": "2022-07-09T18:02:48.854Z"
   },
   {
    "duration": 521,
    "start_time": "2022-07-09T18:03:08.400Z"
   },
   {
    "duration": 846,
    "start_time": "2022-07-09T18:03:08.924Z"
   },
   {
    "duration": 755,
    "start_time": "2022-07-09T18:03:09.775Z"
   },
   {
    "duration": 206,
    "start_time": "2022-07-09T18:03:10.532Z"
   },
   {
    "duration": 45,
    "start_time": "2022-07-09T18:03:10.741Z"
   },
   {
    "duration": 60,
    "start_time": "2022-07-09T18:03:10.788Z"
   },
   {
    "duration": 7,
    "start_time": "2022-07-09T18:03:10.850Z"
   },
   {
    "duration": 67,
    "start_time": "2022-07-09T18:03:10.859Z"
   },
   {
    "duration": 11,
    "start_time": "2022-07-09T18:03:10.928Z"
   },
   {
    "duration": 27,
    "start_time": "2022-07-09T18:03:10.941Z"
   },
   {
    "duration": 33,
    "start_time": "2022-07-09T18:05:36.677Z"
   },
   {
    "duration": 24,
    "start_time": "2022-07-09T18:16:02.502Z"
   },
   {
    "duration": 56,
    "start_time": "2022-07-09T18:16:06.464Z"
   },
   {
    "duration": 32,
    "start_time": "2022-07-09T18:16:27.086Z"
   },
   {
    "duration": 34,
    "start_time": "2022-07-09T18:16:49.991Z"
   },
   {
    "duration": 34,
    "start_time": "2022-07-09T18:17:11.494Z"
   },
   {
    "duration": 10,
    "start_time": "2022-07-09T18:17:59.239Z"
   },
   {
    "duration": 45,
    "start_time": "2022-07-09T18:20:52.885Z"
   },
   {
    "duration": 38,
    "start_time": "2022-07-09T18:21:04.246Z"
   },
   {
    "duration": 29,
    "start_time": "2022-07-09T18:21:21.858Z"
   },
   {
    "duration": 4,
    "start_time": "2022-07-09T18:21:30.377Z"
   },
   {
    "duration": 5,
    "start_time": "2022-07-09T18:21:54.477Z"
   },
   {
    "duration": 4,
    "start_time": "2022-07-09T18:23:23.090Z"
   },
   {
    "duration": 90,
    "start_time": "2022-07-09T18:24:36.713Z"
   },
   {
    "duration": 159,
    "start_time": "2022-07-09T18:24:41.654Z"
   },
   {
    "duration": 5,
    "start_time": "2022-07-09T18:25:07.398Z"
   },
   {
    "duration": 3,
    "start_time": "2022-07-09T18:25:21.395Z"
   },
   {
    "duration": 16,
    "start_time": "2022-07-09T18:27:56.520Z"
   },
   {
    "duration": 51,
    "start_time": "2022-07-09T18:36:37.983Z"
   },
   {
    "duration": 93,
    "start_time": "2022-07-09T18:36:50.353Z"
   },
   {
    "duration": 8,
    "start_time": "2022-07-09T18:36:53.285Z"
   },
   {
    "duration": 6,
    "start_time": "2022-07-09T18:36:59.410Z"
   },
   {
    "duration": 6,
    "start_time": "2022-07-09T18:37:05.518Z"
   },
   {
    "duration": 6,
    "start_time": "2022-07-09T18:37:09.456Z"
   },
   {
    "duration": 74,
    "start_time": "2022-07-09T18:41:21.698Z"
   },
   {
    "duration": 15,
    "start_time": "2022-07-09T18:41:24.585Z"
   },
   {
    "duration": 215,
    "start_time": "2022-07-09T18:44:34.397Z"
   },
   {
    "duration": 293,
    "start_time": "2022-07-09T18:59:44.400Z"
   },
   {
    "duration": 24,
    "start_time": "2022-07-09T19:03:40.623Z"
   },
   {
    "duration": 309,
    "start_time": "2022-07-09T19:15:58.462Z"
   },
   {
    "duration": 34,
    "start_time": "2022-07-09T19:16:01.043Z"
   },
   {
    "duration": 231,
    "start_time": "2022-07-09T19:17:17.115Z"
   },
   {
    "duration": 353,
    "start_time": "2022-07-09T19:17:44.221Z"
   },
   {
    "duration": 207,
    "start_time": "2022-07-09T19:18:45.423Z"
   },
   {
    "duration": 492,
    "start_time": "2022-07-09T19:18:56.818Z"
   },
   {
    "duration": 9,
    "start_time": "2022-07-09T19:34:16.712Z"
   },
   {
    "duration": 7,
    "start_time": "2022-07-09T19:34:43.187Z"
   },
   {
    "duration": 13,
    "start_time": "2022-07-09T19:34:47.316Z"
   },
   {
    "duration": 162,
    "start_time": "2022-07-09T19:35:30.497Z"
   },
   {
    "duration": 34,
    "start_time": "2022-07-09T19:35:30.660Z"
   },
   {
    "duration": 146,
    "start_time": "2022-07-09T19:36:08.209Z"
   },
   {
    "duration": 168,
    "start_time": "2022-07-09T19:36:46.630Z"
   },
   {
    "duration": 6,
    "start_time": "2022-07-09T19:38:39.949Z"
   },
   {
    "duration": 1428,
    "start_time": "2022-07-09T19:39:13.051Z"
   },
   {
    "duration": 721,
    "start_time": "2022-07-09T19:39:14.483Z"
   },
   {
    "duration": 626,
    "start_time": "2022-07-09T19:39:15.207Z"
   },
   {
    "duration": 149,
    "start_time": "2022-07-09T19:39:15.836Z"
   },
   {
    "duration": 36,
    "start_time": "2022-07-09T19:39:15.987Z"
   },
   {
    "duration": 48,
    "start_time": "2022-07-09T19:39:16.024Z"
   },
   {
    "duration": 43,
    "start_time": "2022-07-09T19:39:16.075Z"
   },
   {
    "duration": 36,
    "start_time": "2022-07-09T19:39:16.119Z"
   },
   {
    "duration": 61,
    "start_time": "2022-07-09T19:39:16.157Z"
   },
   {
    "duration": 45,
    "start_time": "2022-07-09T19:39:16.223Z"
   },
   {
    "duration": 135,
    "start_time": "2022-07-09T19:39:16.270Z"
   },
   {
    "duration": 88,
    "start_time": "2022-07-09T19:39:16.413Z"
   },
   {
    "duration": 234,
    "start_time": "2022-07-09T19:39:16.504Z"
   },
   {
    "duration": 265,
    "start_time": "2022-07-09T19:39:16.739Z"
   },
   {
    "duration": 10,
    "start_time": "2022-07-09T19:42:28.821Z"
   },
   {
    "duration": 229,
    "start_time": "2022-07-09T19:42:34.849Z"
   },
   {
    "duration": 29,
    "start_time": "2022-07-09T19:42:37.698Z"
   },
   {
    "duration": 28,
    "start_time": "2022-07-09T19:42:54.252Z"
   },
   {
    "duration": 15,
    "start_time": "2022-07-09T19:44:16.943Z"
   },
   {
    "duration": 32,
    "start_time": "2022-07-09T19:44:51.985Z"
   },
   {
    "duration": 29,
    "start_time": "2022-07-09T19:45:04.239Z"
   },
   {
    "duration": 25,
    "start_time": "2022-07-09T19:45:29.119Z"
   },
   {
    "duration": 27,
    "start_time": "2022-07-09T19:46:03.041Z"
   },
   {
    "duration": 1334,
    "start_time": "2022-07-10T04:38:44.631Z"
   },
   {
    "duration": 844,
    "start_time": "2022-07-10T04:38:45.967Z"
   },
   {
    "duration": 526,
    "start_time": "2022-07-10T04:38:46.812Z"
   },
   {
    "duration": 122,
    "start_time": "2022-07-10T04:38:47.341Z"
   },
   {
    "duration": 5,
    "start_time": "2022-07-10T04:38:47.464Z"
   },
   {
    "duration": 19,
    "start_time": "2022-07-10T04:38:47.470Z"
   },
   {
    "duration": 6,
    "start_time": "2022-07-10T04:38:47.490Z"
   },
   {
    "duration": 33,
    "start_time": "2022-07-10T04:38:47.497Z"
   },
   {
    "duration": 5,
    "start_time": "2022-07-10T04:38:47.531Z"
   },
   {
    "duration": 9,
    "start_time": "2022-07-10T04:38:47.539Z"
   },
   {
    "duration": 22,
    "start_time": "2022-07-10T04:38:47.550Z"
   },
   {
    "duration": 3,
    "start_time": "2022-07-10T04:38:47.574Z"
   },
   {
    "duration": 159,
    "start_time": "2022-07-10T04:38:47.578Z"
   },
   {
    "duration": 21,
    "start_time": "2022-07-10T04:38:47.738Z"
   },
   {
    "duration": 21,
    "start_time": "2022-07-10T04:40:42.417Z"
   },
   {
    "duration": 20,
    "start_time": "2022-07-10T04:40:49.465Z"
   },
   {
    "duration": 19,
    "start_time": "2022-07-10T04:40:55.809Z"
   },
   {
    "duration": 21,
    "start_time": "2022-07-10T04:41:05.280Z"
   },
   {
    "duration": 110,
    "start_time": "2022-07-10T04:42:16.327Z"
   },
   {
    "duration": 24,
    "start_time": "2022-07-10T04:42:20.839Z"
   },
   {
    "duration": 20,
    "start_time": "2022-07-10T04:42:36.855Z"
   },
   {
    "duration": 21,
    "start_time": "2022-07-10T04:48:51.296Z"
   },
   {
    "duration": 44,
    "start_time": "2022-07-10T04:49:30.319Z"
   },
   {
    "duration": 55,
    "start_time": "2022-07-10T12:05:34.052Z"
   },
   {
    "duration": 82,
    "start_time": "2022-07-10T12:05:38.670Z"
   },
   {
    "duration": 50,
    "start_time": "2022-07-10T12:05:47.110Z"
   },
   {
    "duration": 17,
    "start_time": "2022-07-10T12:05:58.756Z"
   },
   {
    "duration": 60,
    "start_time": "2022-07-10T12:06:19.085Z"
   },
   {
    "duration": 46,
    "start_time": "2022-07-10T12:07:40.915Z"
   },
   {
    "duration": 9,
    "start_time": "2022-07-10T12:08:45.010Z"
   },
   {
    "duration": 23,
    "start_time": "2022-07-10T12:08:47.944Z"
   },
   {
    "duration": 160,
    "start_time": "2022-07-10T12:08:48.744Z"
   },
   {
    "duration": 33,
    "start_time": "2022-07-10T12:08:55.440Z"
   },
   {
    "duration": 109,
    "start_time": "2022-07-10T12:09:36.437Z"
   },
   {
    "duration": 14,
    "start_time": "2022-07-10T12:09:39.107Z"
   },
   {
    "duration": 14,
    "start_time": "2022-07-10T12:09:52.368Z"
   },
   {
    "duration": 161,
    "start_time": "2022-07-10T12:09:56.731Z"
   },
   {
    "duration": 144,
    "start_time": "2022-07-10T12:11:18.807Z"
   },
   {
    "duration": 17,
    "start_time": "2022-07-10T12:13:26.854Z"
   },
   {
    "duration": 73,
    "start_time": "2022-07-10T12:13:30.581Z"
   },
   {
    "duration": 29,
    "start_time": "2022-07-10T12:13:33.509Z"
   },
   {
    "duration": 24,
    "start_time": "2022-07-10T12:41:05.051Z"
   },
   {
    "duration": 21,
    "start_time": "2022-07-10T12:41:23.090Z"
   },
   {
    "duration": 28,
    "start_time": "2022-07-10T12:42:37.970Z"
   },
   {
    "duration": 47,
    "start_time": "2022-07-10T12:44:09.520Z"
   },
   {
    "duration": 94,
    "start_time": "2022-07-10T12:45:07.355Z"
   },
   {
    "duration": 23,
    "start_time": "2022-07-10T12:45:13.147Z"
   },
   {
    "duration": 36,
    "start_time": "2022-07-10T12:45:27.653Z"
   },
   {
    "duration": 71,
    "start_time": "2022-07-10T12:49:26.804Z"
   },
   {
    "duration": 18,
    "start_time": "2022-07-10T12:50:13.555Z"
   },
   {
    "duration": 14,
    "start_time": "2022-07-10T12:50:29.385Z"
   },
   {
    "duration": 14,
    "start_time": "2022-07-10T12:50:44.699Z"
   },
   {
    "duration": 24,
    "start_time": "2022-07-10T12:50:51.608Z"
   },
   {
    "duration": 178,
    "start_time": "2022-07-10T12:50:58.376Z"
   },
   {
    "duration": 328,
    "start_time": "2022-07-10T12:51:09.347Z"
   },
   {
    "duration": 172,
    "start_time": "2022-07-10T12:53:28.190Z"
   },
   {
    "duration": 262,
    "start_time": "2022-07-10T12:53:51.485Z"
   },
   {
    "duration": 50,
    "start_time": "2022-07-10T12:58:21.691Z"
   },
   {
    "duration": 197,
    "start_time": "2022-07-10T12:58:38.044Z"
   },
   {
    "duration": 232,
    "start_time": "2022-07-10T12:59:02.308Z"
   },
   {
    "duration": 266,
    "start_time": "2022-07-10T12:59:08.432Z"
   },
   {
    "duration": 317,
    "start_time": "2022-07-10T12:59:14.265Z"
   },
   {
    "duration": 6,
    "start_time": "2022-07-10T13:00:45.719Z"
   },
   {
    "duration": 12,
    "start_time": "2022-07-10T13:01:10.461Z"
   },
   {
    "duration": 12,
    "start_time": "2022-07-10T13:01:13.263Z"
   },
   {
    "duration": 13,
    "start_time": "2022-07-10T13:02:07.085Z"
   },
   {
    "duration": 14,
    "start_time": "2022-07-10T13:02:23.065Z"
   },
   {
    "duration": 13,
    "start_time": "2022-07-10T13:02:37.204Z"
   },
   {
    "duration": 19,
    "start_time": "2022-07-10T13:02:44.917Z"
   },
   {
    "duration": 44,
    "start_time": "2022-07-10T13:03:43.707Z"
   },
   {
    "duration": 235,
    "start_time": "2022-07-10T13:03:55.950Z"
   },
   {
    "duration": 228,
    "start_time": "2022-07-10T13:04:05.948Z"
   },
   {
    "duration": 19,
    "start_time": "2022-07-10T13:04:15.246Z"
   },
   {
    "duration": 26,
    "start_time": "2022-07-10T13:04:21.412Z"
   },
   {
    "duration": 65,
    "start_time": "2022-07-10T13:04:25.100Z"
   },
   {
    "duration": 308,
    "start_time": "2022-07-10T13:04:28.451Z"
   },
   {
    "duration": 12,
    "start_time": "2022-07-10T13:06:13.194Z"
   },
   {
    "duration": 32,
    "start_time": "2022-07-10T13:07:37.959Z"
   },
   {
    "duration": 16,
    "start_time": "2022-07-10T13:07:38.800Z"
   },
   {
    "duration": 1289,
    "start_time": "2022-07-10T16:09:22.992Z"
   },
   {
    "duration": 882,
    "start_time": "2022-07-10T16:09:24.283Z"
   },
   {
    "duration": 522,
    "start_time": "2022-07-10T16:09:25.167Z"
   },
   {
    "duration": 120,
    "start_time": "2022-07-10T16:09:25.691Z"
   },
   {
    "duration": 5,
    "start_time": "2022-07-10T16:09:25.813Z"
   },
   {
    "duration": 28,
    "start_time": "2022-07-10T16:09:25.820Z"
   },
   {
    "duration": 15,
    "start_time": "2022-07-10T16:09:25.850Z"
   },
   {
    "duration": 12,
    "start_time": "2022-07-10T16:09:25.867Z"
   },
   {
    "duration": 4,
    "start_time": "2022-07-10T16:09:25.881Z"
   },
   {
    "duration": 12,
    "start_time": "2022-07-10T16:09:25.887Z"
   },
   {
    "duration": 25,
    "start_time": "2022-07-10T16:09:25.902Z"
   },
   {
    "duration": 3,
    "start_time": "2022-07-10T16:09:25.929Z"
   },
   {
    "duration": 194,
    "start_time": "2022-07-10T16:09:25.934Z"
   },
   {
    "duration": 9,
    "start_time": "2022-07-10T16:09:26.130Z"
   },
   {
    "duration": 28,
    "start_time": "2022-07-10T16:09:26.140Z"
   },
   {
    "duration": 52,
    "start_time": "2022-07-10T16:09:26.169Z"
   },
   {
    "duration": 361,
    "start_time": "2022-07-10T16:09:26.224Z"
   },
   {
    "duration": 16,
    "start_time": "2022-07-10T16:12:09.052Z"
   },
   {
    "duration": 10,
    "start_time": "2022-07-10T16:12:48.397Z"
   },
   {
    "duration": 97,
    "start_time": "2022-07-10T16:13:14.852Z"
   },
   {
    "duration": 9,
    "start_time": "2022-07-10T16:13:21.833Z"
   },
   {
    "duration": 12,
    "start_time": "2022-07-10T16:13:27.180Z"
   },
   {
    "duration": 11,
    "start_time": "2022-07-10T16:13:57.293Z"
   },
   {
    "duration": 11,
    "start_time": "2022-07-10T16:14:08.815Z"
   },
   {
    "duration": 6,
    "start_time": "2022-07-10T16:21:39.178Z"
   },
   {
    "duration": 14,
    "start_time": "2022-07-10T16:21:44.640Z"
   },
   {
    "duration": 46,
    "start_time": "2022-07-10T16:25:12.372Z"
   },
   {
    "duration": 9,
    "start_time": "2022-07-10T16:25:20.072Z"
   },
   {
    "duration": 10,
    "start_time": "2022-07-10T16:26:14.532Z"
   },
   {
    "duration": 9,
    "start_time": "2022-07-10T16:26:59.392Z"
   },
   {
    "duration": 1113,
    "start_time": "2022-07-10T16:38:34.584Z"
   },
   {
    "duration": 597,
    "start_time": "2022-07-10T16:38:35.699Z"
   },
   {
    "duration": 632,
    "start_time": "2022-07-10T16:38:36.298Z"
   },
   {
    "duration": 136,
    "start_time": "2022-07-10T16:38:36.933Z"
   },
   {
    "duration": 5,
    "start_time": "2022-07-10T16:38:37.071Z"
   },
   {
    "duration": 34,
    "start_time": "2022-07-10T16:38:37.078Z"
   },
   {
    "duration": 25,
    "start_time": "2022-07-10T16:38:37.113Z"
   },
   {
    "duration": 28,
    "start_time": "2022-07-10T16:38:37.139Z"
   },
   {
    "duration": 30,
    "start_time": "2022-07-10T16:38:37.169Z"
   },
   {
    "duration": 26,
    "start_time": "2022-07-10T16:38:37.201Z"
   },
   {
    "duration": 44,
    "start_time": "2022-07-10T16:38:37.228Z"
   },
   {
    "duration": 14,
    "start_time": "2022-07-10T16:38:37.273Z"
   },
   {
    "duration": 19,
    "start_time": "2022-07-10T16:38:37.288Z"
   },
   {
    "duration": 28,
    "start_time": "2022-07-10T16:38:37.309Z"
   },
   {
    "duration": 174,
    "start_time": "2022-07-10T16:38:37.339Z"
   },
   {
    "duration": 11,
    "start_time": "2022-07-10T16:38:37.515Z"
   },
   {
    "duration": 34,
    "start_time": "2022-07-10T16:38:37.528Z"
   },
   {
    "duration": 63,
    "start_time": "2022-07-10T16:38:37.564Z"
   },
   {
    "duration": 251,
    "start_time": "2022-07-10T16:38:37.629Z"
   },
   {
    "duration": 16,
    "start_time": "2022-07-10T16:49:57.893Z"
   },
   {
    "duration": 25,
    "start_time": "2022-07-10T16:51:40.503Z"
   },
   {
    "duration": 33,
    "start_time": "2022-07-10T16:52:04.963Z"
   },
   {
    "duration": 30,
    "start_time": "2022-07-10T16:53:25.237Z"
   },
   {
    "duration": 23,
    "start_time": "2022-07-10T16:53:39.982Z"
   },
   {
    "duration": 25,
    "start_time": "2022-07-10T16:54:32.373Z"
   },
   {
    "duration": 37,
    "start_time": "2022-07-10T16:54:36.352Z"
   },
   {
    "duration": 27,
    "start_time": "2022-07-10T16:54:59.212Z"
   },
   {
    "duration": 46,
    "start_time": "2022-07-10T16:56:44.230Z"
   },
   {
    "duration": 117,
    "start_time": "2022-07-10T16:57:33.443Z"
   },
   {
    "duration": 38,
    "start_time": "2022-07-10T16:57:39.121Z"
   },
   {
    "duration": 26,
    "start_time": "2022-07-10T16:57:50.443Z"
   },
   {
    "duration": 25,
    "start_time": "2022-07-10T16:57:58.034Z"
   },
   {
    "duration": 5,
    "start_time": "2022-07-10T16:58:12.689Z"
   },
   {
    "duration": 33,
    "start_time": "2022-07-10T16:58:20.544Z"
   },
   {
    "duration": 10,
    "start_time": "2022-07-10T16:58:28.087Z"
   },
   {
    "duration": 9,
    "start_time": "2022-07-10T16:59:18.288Z"
   },
   {
    "duration": 11,
    "start_time": "2022-07-10T17:00:27.076Z"
   },
   {
    "duration": 9,
    "start_time": "2022-07-10T17:00:30.647Z"
   },
   {
    "duration": 9,
    "start_time": "2022-07-10T17:06:19.803Z"
   },
   {
    "duration": 9,
    "start_time": "2022-07-10T17:06:25.353Z"
   },
   {
    "duration": 32,
    "start_time": "2022-07-10T17:07:37.045Z"
   },
   {
    "duration": 9,
    "start_time": "2022-07-10T17:07:49.797Z"
   },
   {
    "duration": 36,
    "start_time": "2022-07-10T17:07:59.303Z"
   },
   {
    "duration": 9,
    "start_time": "2022-07-10T17:08:06.853Z"
   },
   {
    "duration": 32,
    "start_time": "2022-07-10T17:08:09.984Z"
   },
   {
    "duration": 9,
    "start_time": "2022-07-10T17:08:24.625Z"
   },
   {
    "duration": 8,
    "start_time": "2022-07-10T17:08:38.586Z"
   },
   {
    "duration": 9,
    "start_time": "2022-07-10T17:08:48.881Z"
   },
   {
    "duration": 36,
    "start_time": "2022-07-10T17:09:12.706Z"
   },
   {
    "duration": 32,
    "start_time": "2022-07-10T17:10:16.563Z"
   },
   {
    "duration": 51,
    "start_time": "2022-07-10T17:10:24.533Z"
   },
   {
    "duration": 30,
    "start_time": "2022-07-10T17:10:59.352Z"
   },
   {
    "duration": 14,
    "start_time": "2022-07-10T17:17:07.297Z"
   },
   {
    "duration": 11,
    "start_time": "2022-07-10T17:17:26.333Z"
   },
   {
    "duration": 18,
    "start_time": "2022-07-10T17:18:33.776Z"
   },
   {
    "duration": 25,
    "start_time": "2022-07-10T17:19:02.069Z"
   },
   {
    "duration": 9,
    "start_time": "2022-07-10T17:39:09.545Z"
   },
   {
    "duration": 12,
    "start_time": "2022-07-10T17:39:19.573Z"
   },
   {
    "duration": 11,
    "start_time": "2022-07-10T17:42:13.496Z"
   },
   {
    "duration": 1124,
    "start_time": "2022-07-10T17:44:24.956Z"
   },
   {
    "duration": 612,
    "start_time": "2022-07-10T17:44:26.082Z"
   },
   {
    "duration": 476,
    "start_time": "2022-07-10T17:44:26.696Z"
   },
   {
    "duration": 115,
    "start_time": "2022-07-10T17:44:27.173Z"
   },
   {
    "duration": 5,
    "start_time": "2022-07-10T17:44:27.290Z"
   },
   {
    "duration": 27,
    "start_time": "2022-07-10T17:44:27.296Z"
   },
   {
    "duration": 6,
    "start_time": "2022-07-10T17:44:27.324Z"
   },
   {
    "duration": 20,
    "start_time": "2022-07-10T17:44:27.331Z"
   },
   {
    "duration": 10,
    "start_time": "2022-07-10T17:44:27.352Z"
   },
   {
    "duration": 11,
    "start_time": "2022-07-10T17:44:27.364Z"
   },
   {
    "duration": 22,
    "start_time": "2022-07-10T17:44:27.377Z"
   },
   {
    "duration": 4,
    "start_time": "2022-07-10T17:44:27.400Z"
   },
   {
    "duration": 8,
    "start_time": "2022-07-10T17:44:27.405Z"
   },
   {
    "duration": 12,
    "start_time": "2022-07-10T17:44:27.414Z"
   },
   {
    "duration": 33,
    "start_time": "2022-07-10T17:44:27.428Z"
   },
   {
    "duration": 15,
    "start_time": "2022-07-10T17:44:27.463Z"
   },
   {
    "duration": 24,
    "start_time": "2022-07-10T17:44:27.480Z"
   },
   {
    "duration": 13,
    "start_time": "2022-07-10T17:44:27.505Z"
   },
   {
    "duration": 11,
    "start_time": "2022-07-10T17:44:27.519Z"
   },
   {
    "duration": 165,
    "start_time": "2022-07-10T17:44:27.531Z"
   },
   {
    "duration": 10,
    "start_time": "2022-07-10T17:44:27.697Z"
   },
   {
    "duration": 20,
    "start_time": "2022-07-10T17:44:27.708Z"
   },
   {
    "duration": 47,
    "start_time": "2022-07-10T17:44:27.730Z"
   },
   {
    "duration": 253,
    "start_time": "2022-07-10T17:44:27.779Z"
   },
   {
    "duration": 128,
    "start_time": "2022-07-10T17:46:28.347Z"
   },
   {
    "duration": 93,
    "start_time": "2022-07-10T17:48:51.828Z"
   },
   {
    "duration": 19,
    "start_time": "2022-07-10T17:49:05.472Z"
   },
   {
    "duration": 11,
    "start_time": "2022-07-10T17:49:31.644Z"
   },
   {
    "duration": 16,
    "start_time": "2022-07-10T17:49:39.635Z"
   },
   {
    "duration": 11,
    "start_time": "2022-07-10T17:49:52.114Z"
   },
   {
    "duration": 95,
    "start_time": "2022-07-10T17:50:31.938Z"
   },
   {
    "duration": 14,
    "start_time": "2022-07-10T17:51:10.305Z"
   },
   {
    "duration": 5,
    "start_time": "2022-07-10T17:51:29.955Z"
   },
   {
    "duration": 5,
    "start_time": "2022-07-10T17:51:54.689Z"
   },
   {
    "duration": 3,
    "start_time": "2022-07-10T17:51:59.025Z"
   },
   {
    "duration": 14,
    "start_time": "2022-07-10T17:54:22.306Z"
   },
   {
    "duration": 19,
    "start_time": "2022-07-10T17:55:19.446Z"
   },
   {
    "duration": 14,
    "start_time": "2022-07-10T17:55:32.445Z"
   },
   {
    "duration": 19,
    "start_time": "2022-07-10T17:55:43.843Z"
   },
   {
    "duration": 24,
    "start_time": "2022-07-10T17:55:46.346Z"
   },
   {
    "duration": 15,
    "start_time": "2022-07-10T17:55:57.661Z"
   },
   {
    "duration": 15,
    "start_time": "2022-07-10T17:56:21.804Z"
   },
   {
    "duration": 16,
    "start_time": "2022-07-10T17:56:40.571Z"
   },
   {
    "duration": 20,
    "start_time": "2022-07-10T17:58:20.838Z"
   },
   {
    "duration": 21,
    "start_time": "2022-07-10T17:58:34.708Z"
   },
   {
    "duration": 10,
    "start_time": "2022-07-10T17:58:54.767Z"
   },
   {
    "duration": 16,
    "start_time": "2022-07-10T17:58:59.941Z"
   },
   {
    "duration": 4,
    "start_time": "2022-07-10T17:59:01.257Z"
   },
   {
    "duration": 4,
    "start_time": "2022-07-10T17:59:07.411Z"
   },
   {
    "duration": 22,
    "start_time": "2022-07-10T17:59:12.251Z"
   },
   {
    "duration": 9,
    "start_time": "2022-07-10T17:59:49.547Z"
   },
   {
    "duration": 11,
    "start_time": "2022-07-10T18:01:04.778Z"
   },
   {
    "duration": 16,
    "start_time": "2022-07-10T18:14:17.797Z"
   },
   {
    "duration": 10,
    "start_time": "2022-07-10T18:14:26.246Z"
   },
   {
    "duration": 63,
    "start_time": "2022-07-10T18:14:40.934Z"
   },
   {
    "duration": 17,
    "start_time": "2022-07-10T18:14:50.732Z"
   },
   {
    "duration": 9,
    "start_time": "2022-07-10T18:15:06.825Z"
   },
   {
    "duration": 21,
    "start_time": "2022-07-10T18:15:51.986Z"
   },
   {
    "duration": 20,
    "start_time": "2022-07-10T18:16:44.888Z"
   },
   {
    "duration": 33,
    "start_time": "2022-07-10T18:17:00.560Z"
   },
   {
    "duration": 27,
    "start_time": "2022-07-10T18:17:08.962Z"
   },
   {
    "duration": 13,
    "start_time": "2022-07-10T18:17:34.257Z"
   },
   {
    "duration": 66,
    "start_time": "2022-07-10T18:19:00.657Z"
   },
   {
    "duration": 50,
    "start_time": "2022-07-10T18:19:32.217Z"
   },
   {
    "duration": 8,
    "start_time": "2022-07-10T18:20:13.377Z"
   },
   {
    "duration": 8,
    "start_time": "2022-07-10T18:20:25.244Z"
   },
   {
    "duration": 22,
    "start_time": "2022-07-10T18:20:36.816Z"
   },
   {
    "duration": 8,
    "start_time": "2022-07-10T18:20:38.446Z"
   },
   {
    "duration": 8,
    "start_time": "2022-07-10T18:21:39.801Z"
   },
   {
    "duration": 1086,
    "start_time": "2022-07-10T18:21:48.678Z"
   },
   {
    "duration": 549,
    "start_time": "2022-07-10T18:21:49.766Z"
   },
   {
    "duration": 472,
    "start_time": "2022-07-10T18:21:50.317Z"
   },
   {
    "duration": 128,
    "start_time": "2022-07-10T18:21:50.791Z"
   },
   {
    "duration": 5,
    "start_time": "2022-07-10T18:21:50.920Z"
   },
   {
    "duration": 17,
    "start_time": "2022-07-10T18:21:50.927Z"
   },
   {
    "duration": 20,
    "start_time": "2022-07-10T18:21:50.945Z"
   },
   {
    "duration": 10,
    "start_time": "2022-07-10T18:21:50.967Z"
   },
   {
    "duration": 4,
    "start_time": "2022-07-10T18:21:50.979Z"
   },
   {
    "duration": 10,
    "start_time": "2022-07-10T18:21:50.986Z"
   },
   {
    "duration": 22,
    "start_time": "2022-07-10T18:21:50.998Z"
   },
   {
    "duration": 3,
    "start_time": "2022-07-10T18:21:51.022Z"
   },
   {
    "duration": 34,
    "start_time": "2022-07-10T18:21:51.027Z"
   },
   {
    "duration": 11,
    "start_time": "2022-07-10T18:21:51.062Z"
   },
   {
    "duration": 12,
    "start_time": "2022-07-10T18:21:51.074Z"
   },
   {
    "duration": 17,
    "start_time": "2022-07-10T18:21:51.088Z"
   },
   {
    "duration": 24,
    "start_time": "2022-07-10T18:21:51.107Z"
   },
   {
    "duration": 33,
    "start_time": "2022-07-10T18:21:51.132Z"
   },
   {
    "duration": 13,
    "start_time": "2022-07-10T18:21:51.167Z"
   },
   {
    "duration": 140,
    "start_time": "2022-07-10T18:21:51.181Z"
   },
   {
    "duration": 11,
    "start_time": "2022-07-10T18:21:51.322Z"
   },
   {
    "duration": 914,
    "start_time": "2022-07-10T18:21:51.334Z"
   },
   {
    "duration": 0,
    "start_time": "2022-07-10T18:21:52.249Z"
   },
   {
    "duration": 0,
    "start_time": "2022-07-10T18:21:52.251Z"
   },
   {
    "duration": 0,
    "start_time": "2022-07-10T18:21:52.252Z"
   },
   {
    "duration": 10,
    "start_time": "2022-07-10T18:21:57.449Z"
   },
   {
    "duration": 10,
    "start_time": "2022-07-10T18:22:08.703Z"
   },
   {
    "duration": 8,
    "start_time": "2022-07-10T18:22:19.649Z"
   },
   {
    "duration": 12,
    "start_time": "2022-07-10T18:22:32.544Z"
   },
   {
    "duration": 12,
    "start_time": "2022-07-10T18:22:47.348Z"
   },
   {
    "duration": 9,
    "start_time": "2022-07-10T18:23:19.492Z"
   },
   {
    "duration": 10,
    "start_time": "2022-07-10T18:23:26.273Z"
   },
   {
    "duration": 4,
    "start_time": "2022-07-10T18:24:10.869Z"
   },
   {
    "duration": 24,
    "start_time": "2022-07-10T18:24:13.156Z"
   },
   {
    "duration": 27,
    "start_time": "2022-07-10T18:25:12.549Z"
   },
   {
    "duration": 56,
    "start_time": "2022-07-10T18:25:19.882Z"
   },
   {
    "duration": 21,
    "start_time": "2022-07-10T18:25:24.522Z"
   },
   {
    "duration": 19,
    "start_time": "2022-07-10T18:25:55.147Z"
   },
   {
    "duration": 21,
    "start_time": "2022-07-10T18:25:57.995Z"
   },
   {
    "duration": 21,
    "start_time": "2022-07-10T18:26:13.714Z"
   },
   {
    "duration": 23,
    "start_time": "2022-07-10T18:26:26.074Z"
   },
   {
    "duration": 16,
    "start_time": "2022-07-10T18:26:44.967Z"
   },
   {
    "duration": 11,
    "start_time": "2022-07-10T18:28:05.811Z"
   },
   {
    "duration": 3,
    "start_time": "2022-07-10T18:29:05.708Z"
   },
   {
    "duration": 567,
    "start_time": "2022-07-10T18:29:05.712Z"
   },
   {
    "duration": 524,
    "start_time": "2022-07-10T18:29:06.281Z"
   },
   {
    "duration": 110,
    "start_time": "2022-07-10T18:29:06.806Z"
   },
   {
    "duration": 4,
    "start_time": "2022-07-10T18:29:06.918Z"
   },
   {
    "duration": 30,
    "start_time": "2022-07-10T18:29:06.924Z"
   },
   {
    "duration": 5,
    "start_time": "2022-07-10T18:29:06.961Z"
   },
   {
    "duration": 13,
    "start_time": "2022-07-10T18:29:06.968Z"
   },
   {
    "duration": 4,
    "start_time": "2022-07-10T18:29:06.983Z"
   },
   {
    "duration": 11,
    "start_time": "2022-07-10T18:29:06.989Z"
   },
   {
    "duration": 22,
    "start_time": "2022-07-10T18:29:07.001Z"
   },
   {
    "duration": 3,
    "start_time": "2022-07-10T18:29:07.024Z"
   },
   {
    "duration": 32,
    "start_time": "2022-07-10T18:29:07.029Z"
   },
   {
    "duration": 11,
    "start_time": "2022-07-10T18:29:07.063Z"
   },
   {
    "duration": 13,
    "start_time": "2022-07-10T18:29:07.075Z"
   },
   {
    "duration": 30,
    "start_time": "2022-07-10T18:29:07.090Z"
   },
   {
    "duration": 28,
    "start_time": "2022-07-10T18:29:07.122Z"
   },
   {
    "duration": 12,
    "start_time": "2022-07-10T18:29:07.160Z"
   },
   {
    "duration": 15,
    "start_time": "2022-07-10T18:29:07.174Z"
   },
   {
    "duration": 129,
    "start_time": "2022-07-10T18:29:07.195Z"
   },
   {
    "duration": 11,
    "start_time": "2022-07-10T18:29:07.325Z"
   },
   {
    "duration": 37,
    "start_time": "2022-07-10T18:29:07.338Z"
   },
   {
    "duration": 11,
    "start_time": "2022-07-10T18:29:07.377Z"
   },
   {
    "duration": 11,
    "start_time": "2022-07-10T18:29:07.390Z"
   },
   {
    "duration": 37,
    "start_time": "2022-07-10T18:29:07.402Z"
   },
   {
    "duration": 283,
    "start_time": "2022-07-10T18:29:07.441Z"
   },
   {
    "duration": 9,
    "start_time": "2022-07-10T18:32:51.874Z"
   },
   {
    "duration": 28,
    "start_time": "2022-07-10T18:32:53.088Z"
   },
   {
    "duration": 12,
    "start_time": "2022-07-10T18:32:55.908Z"
   },
   {
    "duration": 21,
    "start_time": "2022-07-10T18:33:07.710Z"
   },
   {
    "duration": 14,
    "start_time": "2022-07-10T18:35:09.861Z"
   },
   {
    "duration": 102,
    "start_time": "2022-07-10T18:36:03.867Z"
   },
   {
    "duration": 8,
    "start_time": "2022-07-10T18:36:14.968Z"
   },
   {
    "duration": 8,
    "start_time": "2022-07-10T18:36:23.498Z"
   },
   {
    "duration": 8,
    "start_time": "2022-07-10T18:36:29.745Z"
   },
   {
    "duration": 8,
    "start_time": "2022-07-10T18:36:52.284Z"
   },
   {
    "duration": 5,
    "start_time": "2022-07-10T18:37:04.272Z"
   },
   {
    "duration": 4,
    "start_time": "2022-07-10T18:37:25.856Z"
   },
   {
    "duration": 7,
    "start_time": "2022-07-10T18:37:35.112Z"
   },
   {
    "duration": 8,
    "start_time": "2022-07-10T18:37:54.587Z"
   },
   {
    "duration": 24,
    "start_time": "2022-07-10T18:38:02.059Z"
   },
   {
    "duration": 27,
    "start_time": "2022-07-10T18:38:09.178Z"
   },
   {
    "duration": 7,
    "start_time": "2022-07-10T18:38:28.604Z"
   },
   {
    "duration": 10,
    "start_time": "2022-07-10T18:39:26.078Z"
   },
   {
    "duration": 13,
    "start_time": "2022-07-10T18:39:55.382Z"
   },
   {
    "duration": 40,
    "start_time": "2022-07-10T18:40:45.747Z"
   },
   {
    "duration": 7,
    "start_time": "2022-07-10T18:40:53.048Z"
   },
   {
    "duration": 6,
    "start_time": "2022-07-10T18:41:01.849Z"
   },
   {
    "duration": 38,
    "start_time": "2022-07-10T18:43:07.555Z"
   },
   {
    "duration": 40,
    "start_time": "2022-07-10T18:43:29.256Z"
   },
   {
    "duration": 12,
    "start_time": "2022-07-10T18:45:35.994Z"
   },
   {
    "duration": 14,
    "start_time": "2022-07-10T18:45:49.459Z"
   },
   {
    "duration": 30,
    "start_time": "2022-07-10T18:46:22.449Z"
   },
   {
    "duration": 9,
    "start_time": "2022-07-10T18:46:28.972Z"
   },
   {
    "duration": 32,
    "start_time": "2022-07-10T18:49:40.393Z"
   },
   {
    "duration": 34,
    "start_time": "2022-07-10T18:50:00.648Z"
   },
   {
    "duration": 44,
    "start_time": "2022-07-10T18:52:32.451Z"
   },
   {
    "duration": 46,
    "start_time": "2022-07-10T18:53:08.762Z"
   },
   {
    "duration": 35,
    "start_time": "2022-07-10T18:53:28.605Z"
   },
   {
    "duration": 34,
    "start_time": "2022-07-10T18:53:34.190Z"
   },
   {
    "duration": 34,
    "start_time": "2022-07-10T18:53:38.312Z"
   },
   {
    "duration": 1062,
    "start_time": "2022-07-10T18:58:30.812Z"
   },
   {
    "duration": 554,
    "start_time": "2022-07-10T18:58:31.876Z"
   },
   {
    "duration": 530,
    "start_time": "2022-07-10T18:58:32.431Z"
   },
   {
    "duration": 116,
    "start_time": "2022-07-10T18:58:32.963Z"
   },
   {
    "duration": 4,
    "start_time": "2022-07-10T18:58:33.082Z"
   },
   {
    "duration": 15,
    "start_time": "2022-07-10T18:58:33.088Z"
   },
   {
    "duration": 6,
    "start_time": "2022-07-10T18:58:33.104Z"
   },
   {
    "duration": 10,
    "start_time": "2022-07-10T18:58:33.111Z"
   },
   {
    "duration": 3,
    "start_time": "2022-07-10T18:58:33.123Z"
   },
   {
    "duration": 36,
    "start_time": "2022-07-10T18:58:33.128Z"
   },
   {
    "duration": 21,
    "start_time": "2022-07-10T18:58:33.165Z"
   },
   {
    "duration": 3,
    "start_time": "2022-07-10T18:58:33.187Z"
   },
   {
    "duration": 4,
    "start_time": "2022-07-10T18:58:33.192Z"
   },
   {
    "duration": 11,
    "start_time": "2022-07-10T18:58:33.199Z"
   },
   {
    "duration": 11,
    "start_time": "2022-07-10T18:58:33.212Z"
   },
   {
    "duration": 39,
    "start_time": "2022-07-10T18:58:33.224Z"
   },
   {
    "duration": 25,
    "start_time": "2022-07-10T18:58:33.264Z"
   },
   {
    "duration": 12,
    "start_time": "2022-07-10T18:58:33.290Z"
   },
   {
    "duration": 13,
    "start_time": "2022-07-10T18:58:33.303Z"
   },
   {
    "duration": 148,
    "start_time": "2022-07-10T18:58:33.317Z"
   },
   {
    "duration": 10,
    "start_time": "2022-07-10T18:58:33.466Z"
   },
   {
    "duration": 34,
    "start_time": "2022-07-10T18:58:33.477Z"
   },
   {
    "duration": 8,
    "start_time": "2022-07-10T18:58:33.513Z"
   },
   {
    "duration": 49,
    "start_time": "2022-07-10T18:58:33.523Z"
   },
   {
    "duration": 260,
    "start_time": "2022-07-10T18:58:33.574Z"
   },
   {
    "duration": 106,
    "start_time": "2022-07-10T19:01:56.447Z"
   },
   {
    "duration": 106,
    "start_time": "2022-07-10T19:04:23.357Z"
   },
   {
    "duration": 29,
    "start_time": "2022-07-10T19:05:05.445Z"
   },
   {
    "duration": 23,
    "start_time": "2022-07-10T19:05:57.571Z"
   },
   {
    "duration": 25,
    "start_time": "2022-07-10T19:06:32.519Z"
   },
   {
    "duration": 16,
    "start_time": "2022-07-10T19:13:06.034Z"
   },
   {
    "duration": 14,
    "start_time": "2022-07-10T19:14:05.337Z"
   },
   {
    "duration": 16,
    "start_time": "2022-07-10T19:14:41.468Z"
   },
   {
    "duration": 103,
    "start_time": "2022-07-10T19:17:07.970Z"
   },
   {
    "duration": 105,
    "start_time": "2022-07-10T19:17:13.760Z"
   },
   {
    "duration": 213,
    "start_time": "2022-07-10T19:17:19.450Z"
   },
   {
    "duration": 152,
    "start_time": "2022-07-10T19:17:32.892Z"
   },
   {
    "duration": 13,
    "start_time": "2022-07-10T19:17:54.355Z"
   },
   {
    "duration": 13,
    "start_time": "2022-07-10T19:18:07.912Z"
   },
   {
    "duration": 155,
    "start_time": "2022-07-10T19:18:14.238Z"
   },
   {
    "duration": 13,
    "start_time": "2022-07-10T19:22:06.372Z"
   },
   {
    "duration": 16,
    "start_time": "2022-07-10T19:22:38.645Z"
   },
   {
    "duration": 9,
    "start_time": "2022-07-10T19:22:52.810Z"
   },
   {
    "duration": 119,
    "start_time": "2022-07-10T19:24:29.164Z"
   },
   {
    "duration": 218,
    "start_time": "2022-07-10T19:24:37.510Z"
   },
   {
    "duration": 11,
    "start_time": "2022-07-10T19:24:53.034Z"
   },
   {
    "duration": 326,
    "start_time": "2022-07-10T19:25:08.539Z"
   },
   {
    "duration": 257,
    "start_time": "2022-07-10T19:28:44.638Z"
   },
   {
    "duration": 12,
    "start_time": "2022-07-10T19:29:37.383Z"
   },
   {
    "duration": 133,
    "start_time": "2022-07-10T19:29:40.716Z"
   },
   {
    "duration": 8,
    "start_time": "2022-07-10T19:31:14.268Z"
   },
   {
    "duration": 241,
    "start_time": "2022-07-10T19:31:20.128Z"
   },
   {
    "duration": 182,
    "start_time": "2022-07-10T19:34:26.159Z"
   },
   {
    "duration": 251,
    "start_time": "2022-07-10T19:34:38.112Z"
   },
   {
    "duration": 263,
    "start_time": "2022-07-10T19:35:59.084Z"
   },
   {
    "duration": 1119,
    "start_time": "2022-07-10T19:36:23.624Z"
   },
   {
    "duration": 554,
    "start_time": "2022-07-10T19:36:24.745Z"
   },
   {
    "duration": 507,
    "start_time": "2022-07-10T19:36:25.301Z"
   },
   {
    "duration": 119,
    "start_time": "2022-07-10T19:36:25.810Z"
   },
   {
    "duration": 5,
    "start_time": "2022-07-10T19:36:25.930Z"
   },
   {
    "duration": 35,
    "start_time": "2022-07-10T19:36:25.937Z"
   },
   {
    "duration": 5,
    "start_time": "2022-07-10T19:36:25.974Z"
   },
   {
    "duration": 9,
    "start_time": "2022-07-10T19:36:25.981Z"
   },
   {
    "duration": 5,
    "start_time": "2022-07-10T19:36:25.992Z"
   },
   {
    "duration": 11,
    "start_time": "2022-07-10T19:36:25.999Z"
   },
   {
    "duration": 49,
    "start_time": "2022-07-10T19:36:26.012Z"
   },
   {
    "duration": 4,
    "start_time": "2022-07-10T19:36:26.062Z"
   },
   {
    "duration": 5,
    "start_time": "2022-07-10T19:36:26.068Z"
   },
   {
    "duration": 13,
    "start_time": "2022-07-10T19:36:26.074Z"
   },
   {
    "duration": 12,
    "start_time": "2022-07-10T19:36:26.088Z"
   },
   {
    "duration": 22,
    "start_time": "2022-07-10T19:36:26.102Z"
   },
   {
    "duration": 54,
    "start_time": "2022-07-10T19:36:26.125Z"
   },
   {
    "duration": 19,
    "start_time": "2022-07-10T19:36:26.181Z"
   },
   {
    "duration": 42,
    "start_time": "2022-07-10T19:36:26.202Z"
   },
   {
    "duration": 182,
    "start_time": "2022-07-10T19:36:26.246Z"
   },
   {
    "duration": 12,
    "start_time": "2022-07-10T19:36:26.431Z"
   },
   {
    "duration": 32,
    "start_time": "2022-07-10T19:36:26.540Z"
   },
   {
    "duration": 7,
    "start_time": "2022-07-10T19:36:26.574Z"
   },
   {
    "duration": 102,
    "start_time": "2022-07-10T19:36:26.582Z"
   },
   {
    "duration": 28,
    "start_time": "2022-07-10T19:36:26.686Z"
   },
   {
    "duration": 370,
    "start_time": "2022-07-10T19:36:26.716Z"
   },
   {
    "duration": 282,
    "start_time": "2022-07-10T19:36:57.499Z"
   },
   {
    "duration": 268,
    "start_time": "2022-07-10T19:37:51.338Z"
   },
   {
    "duration": 50,
    "start_time": "2022-07-10T19:39:50.452Z"
   },
   {
    "duration": 113,
    "start_time": "2022-07-10T19:39:58.927Z"
   },
   {
    "duration": 259,
    "start_time": "2022-07-10T19:40:34.514Z"
   },
   {
    "duration": 328,
    "start_time": "2022-07-10T19:40:46.707Z"
   },
   {
    "duration": 337,
    "start_time": "2022-07-10T19:41:19.802Z"
   },
   {
    "duration": 332,
    "start_time": "2022-07-10T19:41:26.410Z"
   },
   {
    "duration": 14,
    "start_time": "2022-07-10T19:51:47.204Z"
   },
   {
    "duration": 24,
    "start_time": "2022-07-10T19:51:59.899Z"
   },
   {
    "duration": 1113,
    "start_time": "2022-07-10T19:52:07.380Z"
   },
   {
    "duration": 606,
    "start_time": "2022-07-10T19:52:08.495Z"
   },
   {
    "duration": 496,
    "start_time": "2022-07-10T19:52:09.103Z"
   },
   {
    "duration": 126,
    "start_time": "2022-07-10T19:52:09.601Z"
   },
   {
    "duration": 5,
    "start_time": "2022-07-10T19:52:09.729Z"
   },
   {
    "duration": 34,
    "start_time": "2022-07-10T19:52:09.736Z"
   },
   {
    "duration": 5,
    "start_time": "2022-07-10T19:52:09.772Z"
   },
   {
    "duration": 11,
    "start_time": "2022-07-10T19:52:09.778Z"
   },
   {
    "duration": 4,
    "start_time": "2022-07-10T19:52:09.791Z"
   },
   {
    "duration": 9,
    "start_time": "2022-07-10T19:52:09.797Z"
   },
   {
    "duration": 22,
    "start_time": "2022-07-10T19:52:10.244Z"
   },
   {
    "duration": 3,
    "start_time": "2022-07-10T19:52:10.268Z"
   },
   {
    "duration": 2,
    "start_time": "2022-07-10T19:52:10.968Z"
   },
   {
    "duration": 15,
    "start_time": "2022-07-10T19:52:10.972Z"
   },
   {
    "duration": 13,
    "start_time": "2022-07-10T19:52:10.988Z"
   },
   {
    "duration": 17,
    "start_time": "2022-07-10T19:52:14.471Z"
   },
   {
    "duration": 26,
    "start_time": "2022-07-10T19:52:14.490Z"
   },
   {
    "duration": 11,
    "start_time": "2022-07-10T19:52:14.518Z"
   },
   {
    "duration": 17,
    "start_time": "2022-07-10T19:52:14.665Z"
   },
   {
    "duration": 136,
    "start_time": "2022-07-10T19:52:14.685Z"
   },
   {
    "duration": 10,
    "start_time": "2022-07-10T19:52:14.822Z"
   },
   {
    "duration": 34,
    "start_time": "2022-07-10T19:52:14.954Z"
   },
   {
    "duration": 8,
    "start_time": "2022-07-10T19:52:14.990Z"
   },
   {
    "duration": 108,
    "start_time": "2022-07-10T19:52:15.000Z"
   },
   {
    "duration": 27,
    "start_time": "2022-07-10T19:52:15.201Z"
   },
   {
    "duration": 341,
    "start_time": "2022-07-10T19:52:15.231Z"
   },
   {
    "duration": 271,
    "start_time": "2022-07-10T19:52:15.573Z"
   },
   {
    "duration": 1344,
    "start_time": "2022-07-11T05:58:59.740Z"
   },
   {
    "duration": 857,
    "start_time": "2022-07-11T05:59:01.086Z"
   },
   {
    "duration": 470,
    "start_time": "2022-07-11T05:59:01.945Z"
   },
   {
    "duration": 120,
    "start_time": "2022-07-11T05:59:02.417Z"
   },
   {
    "duration": 27,
    "start_time": "2022-07-11T05:59:02.538Z"
   },
   {
    "duration": 19,
    "start_time": "2022-07-11T05:59:02.567Z"
   },
   {
    "duration": 8,
    "start_time": "2022-07-11T05:59:02.590Z"
   },
   {
    "duration": 18,
    "start_time": "2022-07-11T05:59:02.600Z"
   },
   {
    "duration": 5,
    "start_time": "2022-07-11T05:59:02.620Z"
   },
   {
    "duration": 38,
    "start_time": "2022-07-11T05:59:02.628Z"
   },
   {
    "duration": 32,
    "start_time": "2022-07-11T05:59:02.670Z"
   },
   {
    "duration": 4,
    "start_time": "2022-07-11T05:59:02.704Z"
   },
   {
    "duration": 13,
    "start_time": "2022-07-11T05:59:02.711Z"
   },
   {
    "duration": 16,
    "start_time": "2022-07-11T05:59:02.727Z"
   },
   {
    "duration": 34,
    "start_time": "2022-07-11T05:59:02.745Z"
   },
   {
    "duration": 18,
    "start_time": "2022-07-11T05:59:02.780Z"
   },
   {
    "duration": 25,
    "start_time": "2022-07-11T05:59:02.799Z"
   },
   {
    "duration": 11,
    "start_time": "2022-07-11T05:59:02.826Z"
   },
   {
    "duration": 35,
    "start_time": "2022-07-11T05:59:02.838Z"
   },
   {
    "duration": 133,
    "start_time": "2022-07-11T05:59:02.874Z"
   },
   {
    "duration": 10,
    "start_time": "2022-07-11T05:59:03.009Z"
   },
   {
    "duration": 46,
    "start_time": "2022-07-11T05:59:03.021Z"
   },
   {
    "duration": 8,
    "start_time": "2022-07-11T05:59:03.069Z"
   },
   {
    "duration": 101,
    "start_time": "2022-07-11T05:59:03.078Z"
   },
   {
    "duration": 26,
    "start_time": "2022-07-11T05:59:03.180Z"
   },
   {
    "duration": 360,
    "start_time": "2022-07-11T05:59:03.208Z"
   },
   {
    "duration": 271,
    "start_time": "2022-07-11T05:59:03.569Z"
   },
   {
    "duration": 103,
    "start_time": "2022-07-11T06:01:11.129Z"
   },
   {
    "duration": 3,
    "start_time": "2022-07-11T06:01:52.544Z"
   },
   {
    "duration": 639,
    "start_time": "2022-07-11T06:01:52.549Z"
   },
   {
    "duration": 597,
    "start_time": "2022-07-11T06:01:53.190Z"
   },
   {
    "duration": 112,
    "start_time": "2022-07-11T06:01:53.788Z"
   },
   {
    "duration": 5,
    "start_time": "2022-07-11T06:01:53.902Z"
   },
   {
    "duration": 21,
    "start_time": "2022-07-11T06:01:53.908Z"
   },
   {
    "duration": 5,
    "start_time": "2022-07-11T06:01:53.931Z"
   },
   {
    "duration": 38,
    "start_time": "2022-07-11T06:01:53.938Z"
   },
   {
    "duration": 15,
    "start_time": "2022-07-11T06:01:53.978Z"
   },
   {
    "duration": 10,
    "start_time": "2022-07-11T06:01:53.994Z"
   },
   {
    "duration": 22,
    "start_time": "2022-07-11T06:01:54.006Z"
   },
   {
    "duration": 4,
    "start_time": "2022-07-11T06:01:54.029Z"
   },
   {
    "duration": 6,
    "start_time": "2022-07-11T06:01:54.034Z"
   },
   {
    "duration": 35,
    "start_time": "2022-07-11T06:01:54.041Z"
   },
   {
    "duration": 19,
    "start_time": "2022-07-11T06:01:54.079Z"
   },
   {
    "duration": 18,
    "start_time": "2022-07-11T06:01:54.100Z"
   },
   {
    "duration": 24,
    "start_time": "2022-07-11T06:01:54.120Z"
   },
   {
    "duration": 32,
    "start_time": "2022-07-11T06:01:54.146Z"
   },
   {
    "duration": 17,
    "start_time": "2022-07-11T06:01:54.179Z"
   },
   {
    "duration": 158,
    "start_time": "2022-07-11T06:01:54.198Z"
   },
   {
    "duration": 20,
    "start_time": "2022-07-11T06:01:54.358Z"
   },
   {
    "duration": 35,
    "start_time": "2022-07-11T06:01:54.380Z"
   },
   {
    "duration": 8,
    "start_time": "2022-07-11T06:01:54.416Z"
   },
   {
    "duration": 117,
    "start_time": "2022-07-11T06:01:54.426Z"
   },
   {
    "duration": 50,
    "start_time": "2022-07-11T06:01:54.544Z"
   },
   {
    "duration": 359,
    "start_time": "2022-07-11T06:01:54.596Z"
   },
   {
    "duration": 296,
    "start_time": "2022-07-11T06:01:54.956Z"
   },
   {
    "duration": 351,
    "start_time": "2022-07-11T06:02:35.861Z"
   },
   {
    "duration": 278,
    "start_time": "2022-07-11T06:02:54.677Z"
   },
   {
    "duration": 269,
    "start_time": "2022-07-11T06:03:06.660Z"
   },
   {
    "duration": 1259,
    "start_time": "2022-07-11T06:04:00.844Z"
   },
   {
    "duration": 651,
    "start_time": "2022-07-11T06:04:02.105Z"
   },
   {
    "duration": 549,
    "start_time": "2022-07-11T06:04:02.758Z"
   },
   {
    "duration": 125,
    "start_time": "2022-07-11T06:04:03.310Z"
   },
   {
    "duration": 5,
    "start_time": "2022-07-11T06:04:03.437Z"
   },
   {
    "duration": 16,
    "start_time": "2022-07-11T06:04:03.464Z"
   },
   {
    "duration": 6,
    "start_time": "2022-07-11T06:04:03.481Z"
   },
   {
    "duration": 11,
    "start_time": "2022-07-11T06:04:03.488Z"
   },
   {
    "duration": 6,
    "start_time": "2022-07-11T06:04:03.501Z"
   },
   {
    "duration": 11,
    "start_time": "2022-07-11T06:04:03.509Z"
   },
   {
    "duration": 60,
    "start_time": "2022-07-11T06:04:03.521Z"
   },
   {
    "duration": 4,
    "start_time": "2022-07-11T06:04:03.584Z"
   },
   {
    "duration": 6,
    "start_time": "2022-07-11T06:04:03.589Z"
   },
   {
    "duration": 15,
    "start_time": "2022-07-11T06:04:03.596Z"
   },
   {
    "duration": 12,
    "start_time": "2022-07-11T06:04:03.613Z"
   },
   {
    "duration": 45,
    "start_time": "2022-07-11T06:04:03.626Z"
   },
   {
    "duration": 26,
    "start_time": "2022-07-11T06:04:03.672Z"
   },
   {
    "duration": 12,
    "start_time": "2022-07-11T06:04:03.700Z"
   },
   {
    "duration": 15,
    "start_time": "2022-07-11T06:04:03.714Z"
   },
   {
    "duration": 161,
    "start_time": "2022-07-11T06:04:03.730Z"
   },
   {
    "duration": 11,
    "start_time": "2022-07-11T06:04:03.893Z"
   },
   {
    "duration": 37,
    "start_time": "2022-07-11T06:04:03.905Z"
   },
   {
    "duration": 10,
    "start_time": "2022-07-11T06:04:03.963Z"
   },
   {
    "duration": 104,
    "start_time": "2022-07-11T06:04:03.974Z"
   },
   {
    "duration": 31,
    "start_time": "2022-07-11T06:04:04.080Z"
   },
   {
    "duration": 379,
    "start_time": "2022-07-11T06:04:04.113Z"
   },
   {
    "duration": 287,
    "start_time": "2022-07-11T06:04:04.493Z"
   },
   {
    "duration": 99,
    "start_time": "2022-07-11T06:04:33.859Z"
   },
   {
    "duration": 12,
    "start_time": "2022-07-11T06:05:21.581Z"
   },
   {
    "duration": 130,
    "start_time": "2022-07-11T06:05:54.179Z"
   },
   {
    "duration": 142,
    "start_time": "2022-07-11T06:06:02.074Z"
   },
   {
    "duration": 404,
    "start_time": "2022-07-11T06:06:09.018Z"
   },
   {
    "duration": 287,
    "start_time": "2022-07-11T06:07:26.351Z"
   },
   {
    "duration": 11,
    "start_time": "2022-07-11T06:08:35.711Z"
   },
   {
    "duration": 35,
    "start_time": "2022-07-11T06:08:44.353Z"
   },
   {
    "duration": 27,
    "start_time": "2022-07-11T06:09:04.431Z"
   },
   {
    "duration": 19,
    "start_time": "2022-07-11T06:10:05.195Z"
   },
   {
    "duration": 121,
    "start_time": "2022-07-11T06:10:08.978Z"
   },
   {
    "duration": 14,
    "start_time": "2022-07-11T06:10:24.812Z"
   },
   {
    "duration": 265,
    "start_time": "2022-07-11T06:10:53.859Z"
   },
   {
    "duration": 30,
    "start_time": "2022-07-11T06:11:08.906Z"
   },
   {
    "duration": 241,
    "start_time": "2022-07-11T06:11:15.805Z"
   },
   {
    "duration": 340,
    "start_time": "2022-07-11T06:13:24.081Z"
   },
   {
    "duration": 472,
    "start_time": "2022-07-11T06:13:38.587Z"
   },
   {
    "duration": 316,
    "start_time": "2022-07-11T06:14:16.959Z"
   },
   {
    "duration": 309,
    "start_time": "2022-07-11T06:16:23.614Z"
   },
   {
    "duration": 333,
    "start_time": "2022-07-11T06:16:30.862Z"
   },
   {
    "duration": 306,
    "start_time": "2022-07-11T06:16:43.358Z"
   },
   {
    "duration": 442,
    "start_time": "2022-07-11T06:16:54.293Z"
   },
   {
    "duration": 334,
    "start_time": "2022-07-11T06:17:03.293Z"
   },
   {
    "duration": 12,
    "start_time": "2022-07-11T06:22:22.614Z"
   },
   {
    "duration": 15,
    "start_time": "2022-07-11T06:22:27.590Z"
   },
   {
    "duration": 14,
    "start_time": "2022-07-11T06:27:45.205Z"
   },
   {
    "duration": 13,
    "start_time": "2022-07-11T06:27:54.835Z"
   },
   {
    "duration": 15,
    "start_time": "2022-07-11T06:28:15.105Z"
   },
   {
    "duration": 21,
    "start_time": "2022-07-11T06:28:21.561Z"
   },
   {
    "duration": 14,
    "start_time": "2022-07-11T06:28:58.008Z"
   },
   {
    "duration": 57,
    "start_time": "2022-07-11T06:29:22.153Z"
   },
   {
    "duration": 54,
    "start_time": "2022-07-11T06:29:44.792Z"
   },
   {
    "duration": 5,
    "start_time": "2022-07-11T06:29:53.876Z"
   },
   {
    "duration": 14,
    "start_time": "2022-07-11T06:29:57.346Z"
   },
   {
    "duration": 19,
    "start_time": "2022-07-11T06:30:10.264Z"
   },
   {
    "duration": 23,
    "start_time": "2022-07-11T06:33:22.580Z"
   },
   {
    "duration": 25,
    "start_time": "2022-07-11T06:33:26.048Z"
   },
   {
    "duration": 28,
    "start_time": "2022-07-11T06:34:04.815Z"
   },
   {
    "duration": 19,
    "start_time": "2022-07-11T07:10:26.502Z"
   },
   {
    "duration": 16,
    "start_time": "2022-07-11T07:11:13.325Z"
   },
   {
    "duration": 1435,
    "start_time": "2022-07-11T07:12:21.487Z"
   },
   {
    "duration": 21,
    "start_time": "2022-07-11T07:12:38.239Z"
   },
   {
    "duration": 14,
    "start_time": "2022-07-11T07:13:57.093Z"
   },
   {
    "duration": 12,
    "start_time": "2022-07-11T07:15:05.826Z"
   },
   {
    "duration": 26,
    "start_time": "2022-07-11T07:17:32.800Z"
   },
   {
    "duration": 10,
    "start_time": "2022-07-11T07:19:32.273Z"
   },
   {
    "duration": 1114,
    "start_time": "2022-07-11T07:19:51.307Z"
   },
   {
    "duration": 660,
    "start_time": "2022-07-11T07:19:52.423Z"
   },
   {
    "duration": 547,
    "start_time": "2022-07-11T07:19:53.085Z"
   },
   {
    "duration": 174,
    "start_time": "2022-07-11T07:19:53.634Z"
   },
   {
    "duration": 6,
    "start_time": "2022-07-11T07:19:53.810Z"
   },
   {
    "duration": 20,
    "start_time": "2022-07-11T07:19:53.818Z"
   },
   {
    "duration": 11,
    "start_time": "2022-07-11T07:19:53.840Z"
   },
   {
    "duration": 18,
    "start_time": "2022-07-11T07:19:53.865Z"
   },
   {
    "duration": 6,
    "start_time": "2022-07-11T07:19:53.885Z"
   },
   {
    "duration": 12,
    "start_time": "2022-07-11T07:19:53.893Z"
   },
   {
    "duration": 26,
    "start_time": "2022-07-11T07:19:53.907Z"
   },
   {
    "duration": 4,
    "start_time": "2022-07-11T07:19:53.934Z"
   },
   {
    "duration": 36,
    "start_time": "2022-07-11T07:19:53.939Z"
   },
   {
    "duration": 16,
    "start_time": "2022-07-11T07:19:53.977Z"
   },
   {
    "duration": 13,
    "start_time": "2022-07-11T07:19:53.995Z"
   },
   {
    "duration": 17,
    "start_time": "2022-07-11T07:19:54.010Z"
   },
   {
    "duration": 26,
    "start_time": "2022-07-11T07:19:54.028Z"
   },
   {
    "duration": 21,
    "start_time": "2022-07-11T07:19:54.055Z"
   },
   {
    "duration": 25,
    "start_time": "2022-07-11T07:19:54.081Z"
   },
   {
    "duration": 162,
    "start_time": "2022-07-11T07:19:54.108Z"
   },
   {
    "duration": 14,
    "start_time": "2022-07-11T07:19:54.276Z"
   },
   {
    "duration": 36,
    "start_time": "2022-07-11T07:19:54.292Z"
   },
   {
    "duration": 12,
    "start_time": "2022-07-11T07:19:54.329Z"
   },
   {
    "duration": 125,
    "start_time": "2022-07-11T07:19:54.343Z"
   },
   {
    "duration": 31,
    "start_time": "2022-07-11T07:19:54.475Z"
   },
   {
    "duration": 378,
    "start_time": "2022-07-11T07:19:54.508Z"
   },
   {
    "duration": 372,
    "start_time": "2022-07-11T07:19:54.887Z"
   },
   {
    "duration": 283,
    "start_time": "2022-07-11T07:19:55.267Z"
   },
   {
    "duration": 27,
    "start_time": "2022-07-11T07:19:55.552Z"
   },
   {
    "duration": 22,
    "start_time": "2022-07-11T07:19:55.581Z"
   },
   {
    "duration": 175,
    "start_time": "2022-07-11T07:19:55.605Z"
   },
   {
    "duration": 25,
    "start_time": "2022-07-11T07:19:55.782Z"
   },
   {
    "duration": 23,
    "start_time": "2022-07-11T07:22:15.670Z"
   },
   {
    "duration": 9,
    "start_time": "2022-07-11T07:23:23.881Z"
   },
   {
    "duration": 11,
    "start_time": "2022-07-11T07:26:39.414Z"
   },
   {
    "duration": 52,
    "start_time": "2022-07-11T07:27:42.704Z"
   },
   {
    "duration": 21,
    "start_time": "2022-07-11T07:27:55.325Z"
   },
   {
    "duration": 9,
    "start_time": "2022-07-11T07:27:56.500Z"
   },
   {
    "duration": 16,
    "start_time": "2022-07-11T07:27:59.852Z"
   },
   {
    "duration": 1134,
    "start_time": "2022-07-11T07:28:06.033Z"
   },
   {
    "duration": 614,
    "start_time": "2022-07-11T07:28:07.169Z"
   },
   {
    "duration": 535,
    "start_time": "2022-07-11T07:28:07.785Z"
   },
   {
    "duration": 133,
    "start_time": "2022-07-11T07:28:08.322Z"
   },
   {
    "duration": 17,
    "start_time": "2022-07-11T07:28:08.457Z"
   },
   {
    "duration": 27,
    "start_time": "2022-07-11T07:28:08.477Z"
   },
   {
    "duration": 11,
    "start_time": "2022-07-11T07:28:08.505Z"
   },
   {
    "duration": 25,
    "start_time": "2022-07-11T07:28:08.517Z"
   },
   {
    "duration": 15,
    "start_time": "2022-07-11T07:28:08.543Z"
   },
   {
    "duration": 27,
    "start_time": "2022-07-11T07:28:08.560Z"
   },
   {
    "duration": 25,
    "start_time": "2022-07-11T07:28:08.589Z"
   },
   {
    "duration": 4,
    "start_time": "2022-07-11T07:28:08.616Z"
   },
   {
    "duration": 8,
    "start_time": "2022-07-11T07:28:08.621Z"
   },
   {
    "duration": 27,
    "start_time": "2022-07-11T07:28:08.630Z"
   },
   {
    "duration": 35,
    "start_time": "2022-07-11T07:28:08.658Z"
   },
   {
    "duration": 31,
    "start_time": "2022-07-11T07:28:08.694Z"
   },
   {
    "duration": 34,
    "start_time": "2022-07-11T07:28:08.727Z"
   },
   {
    "duration": 20,
    "start_time": "2022-07-11T07:28:08.763Z"
   },
   {
    "duration": 36,
    "start_time": "2022-07-11T07:28:08.785Z"
   },
   {
    "duration": 154,
    "start_time": "2022-07-11T07:28:08.823Z"
   },
   {
    "duration": 12,
    "start_time": "2022-07-11T07:28:08.979Z"
   },
   {
    "duration": 41,
    "start_time": "2022-07-11T07:28:08.993Z"
   },
   {
    "duration": 9,
    "start_time": "2022-07-11T07:28:09.035Z"
   },
   {
    "duration": 142,
    "start_time": "2022-07-11T07:28:09.046Z"
   },
   {
    "duration": 34,
    "start_time": "2022-07-11T07:28:09.190Z"
   },
   {
    "duration": 422,
    "start_time": "2022-07-11T07:28:09.226Z"
   },
   {
    "duration": 368,
    "start_time": "2022-07-11T07:28:09.650Z"
   },
   {
    "duration": 299,
    "start_time": "2022-07-11T07:28:10.022Z"
   },
   {
    "duration": 14,
    "start_time": "2022-07-11T07:28:10.323Z"
   },
   {
    "duration": 43,
    "start_time": "2022-07-11T07:28:10.339Z"
   },
   {
    "duration": 176,
    "start_time": "2022-07-11T07:28:10.384Z"
   },
   {
    "duration": 13,
    "start_time": "2022-07-11T07:28:10.562Z"
   },
   {
    "duration": 28,
    "start_time": "2022-07-11T07:28:10.577Z"
   },
   {
    "duration": 1199,
    "start_time": "2022-07-11T07:33:00.934Z"
   },
   {
    "duration": 15,
    "start_time": "2022-07-11T07:33:29.039Z"
   },
   {
    "duration": 1171,
    "start_time": "2022-07-11T07:33:33.724Z"
   },
   {
    "duration": 633,
    "start_time": "2022-07-11T07:33:34.896Z"
   },
   {
    "duration": 559,
    "start_time": "2022-07-11T07:33:35.530Z"
   },
   {
    "duration": 142,
    "start_time": "2022-07-11T07:33:36.091Z"
   },
   {
    "duration": 5,
    "start_time": "2022-07-11T07:33:36.234Z"
   },
   {
    "duration": 45,
    "start_time": "2022-07-11T07:33:36.241Z"
   },
   {
    "duration": 7,
    "start_time": "2022-07-11T07:33:36.288Z"
   },
   {
    "duration": 12,
    "start_time": "2022-07-11T07:33:36.296Z"
   },
   {
    "duration": 5,
    "start_time": "2022-07-11T07:33:36.310Z"
   },
   {
    "duration": 15,
    "start_time": "2022-07-11T07:33:36.319Z"
   },
   {
    "duration": 59,
    "start_time": "2022-07-11T07:33:36.336Z"
   },
   {
    "duration": 4,
    "start_time": "2022-07-11T07:33:36.397Z"
   },
   {
    "duration": 6,
    "start_time": "2022-07-11T07:33:36.403Z"
   },
   {
    "duration": 24,
    "start_time": "2022-07-11T07:33:36.411Z"
   },
   {
    "duration": 13,
    "start_time": "2022-07-11T07:33:36.437Z"
   },
   {
    "duration": 28,
    "start_time": "2022-07-11T07:33:36.452Z"
   },
   {
    "duration": 29,
    "start_time": "2022-07-11T07:33:36.482Z"
   },
   {
    "duration": 12,
    "start_time": "2022-07-11T07:33:36.513Z"
   },
   {
    "duration": 13,
    "start_time": "2022-07-11T07:33:36.527Z"
   },
   {
    "duration": 149,
    "start_time": "2022-07-11T07:33:36.568Z"
   },
   {
    "duration": 9,
    "start_time": "2022-07-11T07:33:36.719Z"
   },
   {
    "duration": 52,
    "start_time": "2022-07-11T07:33:36.730Z"
   },
   {
    "duration": 8,
    "start_time": "2022-07-11T07:33:36.783Z"
   },
   {
    "duration": 103,
    "start_time": "2022-07-11T07:33:36.793Z"
   },
   {
    "duration": 27,
    "start_time": "2022-07-11T07:33:36.898Z"
   },
   {
    "duration": 390,
    "start_time": "2022-07-11T07:33:36.927Z"
   },
   {
    "duration": 405,
    "start_time": "2022-07-11T07:33:37.319Z"
   },
   {
    "duration": 296,
    "start_time": "2022-07-11T07:33:37.728Z"
   },
   {
    "duration": 15,
    "start_time": "2022-07-11T07:33:38.026Z"
   },
   {
    "duration": 38,
    "start_time": "2022-07-11T07:33:38.043Z"
   },
   {
    "duration": 178,
    "start_time": "2022-07-11T07:33:38.083Z"
   },
   {
    "duration": 16,
    "start_time": "2022-07-11T07:33:38.263Z"
   },
   {
    "duration": 86,
    "start_time": "2022-07-11T07:33:38.281Z"
   },
   {
    "duration": 1005,
    "start_time": "2022-07-11T07:34:11.109Z"
   },
   {
    "duration": 15,
    "start_time": "2022-07-11T07:34:21.493Z"
   },
   {
    "duration": 1222,
    "start_time": "2022-07-11T07:34:32.761Z"
   },
   {
    "duration": 637,
    "start_time": "2022-07-11T07:34:33.985Z"
   },
   {
    "duration": 565,
    "start_time": "2022-07-11T07:34:34.624Z"
   },
   {
    "duration": 120,
    "start_time": "2022-07-11T07:34:35.191Z"
   },
   {
    "duration": 4,
    "start_time": "2022-07-11T07:34:35.313Z"
   },
   {
    "duration": 20,
    "start_time": "2022-07-11T07:34:35.319Z"
   },
   {
    "duration": 31,
    "start_time": "2022-07-11T07:34:35.340Z"
   },
   {
    "duration": 23,
    "start_time": "2022-07-11T07:34:35.372Z"
   },
   {
    "duration": 19,
    "start_time": "2022-07-11T07:34:35.397Z"
   },
   {
    "duration": 14,
    "start_time": "2022-07-11T07:34:35.420Z"
   },
   {
    "duration": 43,
    "start_time": "2022-07-11T07:34:35.437Z"
   },
   {
    "duration": 4,
    "start_time": "2022-07-11T07:34:35.482Z"
   },
   {
    "duration": 5,
    "start_time": "2022-07-11T07:34:35.488Z"
   },
   {
    "duration": 17,
    "start_time": "2022-07-11T07:34:35.495Z"
   },
   {
    "duration": 17,
    "start_time": "2022-07-11T07:34:35.514Z"
   },
   {
    "duration": 48,
    "start_time": "2022-07-11T07:34:35.533Z"
   },
   {
    "duration": 28,
    "start_time": "2022-07-11T07:34:35.582Z"
   },
   {
    "duration": 13,
    "start_time": "2022-07-11T07:34:35.612Z"
   },
   {
    "duration": 40,
    "start_time": "2022-07-11T07:34:35.627Z"
   },
   {
    "duration": 146,
    "start_time": "2022-07-11T07:34:35.671Z"
   },
   {
    "duration": 11,
    "start_time": "2022-07-11T07:34:35.819Z"
   },
   {
    "duration": 57,
    "start_time": "2022-07-11T07:34:35.832Z"
   },
   {
    "duration": 10,
    "start_time": "2022-07-11T07:34:35.891Z"
   },
   {
    "duration": 110,
    "start_time": "2022-07-11T07:34:35.903Z"
   },
   {
    "duration": 28,
    "start_time": "2022-07-11T07:34:36.015Z"
   },
   {
    "duration": 381,
    "start_time": "2022-07-11T07:34:36.046Z"
   },
   {
    "duration": 375,
    "start_time": "2022-07-11T07:34:36.429Z"
   },
   {
    "duration": 288,
    "start_time": "2022-07-11T07:34:36.808Z"
   },
   {
    "duration": 14,
    "start_time": "2022-07-11T07:34:37.097Z"
   },
   {
    "duration": 20,
    "start_time": "2022-07-11T07:34:37.113Z"
   },
   {
    "duration": 201,
    "start_time": "2022-07-11T07:34:37.135Z"
   },
   {
    "duration": 20,
    "start_time": "2022-07-11T07:34:37.339Z"
   },
   {
    "duration": 60,
    "start_time": "2022-07-11T07:34:37.361Z"
   },
   {
    "duration": 1019,
    "start_time": "2022-07-11T07:35:09.748Z"
   },
   {
    "duration": 1201,
    "start_time": "2022-07-11T07:35:16.153Z"
   },
   {
    "duration": 640,
    "start_time": "2022-07-11T07:35:17.356Z"
   },
   {
    "duration": 577,
    "start_time": "2022-07-11T07:35:17.997Z"
   },
   {
    "duration": 121,
    "start_time": "2022-07-11T07:35:18.580Z"
   },
   {
    "duration": 6,
    "start_time": "2022-07-11T07:35:18.702Z"
   },
   {
    "duration": 19,
    "start_time": "2022-07-11T07:35:18.709Z"
   },
   {
    "duration": 6,
    "start_time": "2022-07-11T07:35:18.730Z"
   },
   {
    "duration": 37,
    "start_time": "2022-07-11T07:35:18.737Z"
   },
   {
    "duration": 9,
    "start_time": "2022-07-11T07:35:18.775Z"
   },
   {
    "duration": 14,
    "start_time": "2022-07-11T07:35:18.787Z"
   },
   {
    "duration": 27,
    "start_time": "2022-07-11T07:35:18.803Z"
   },
   {
    "duration": 3,
    "start_time": "2022-07-11T07:35:18.832Z"
   },
   {
    "duration": 12,
    "start_time": "2022-07-11T07:35:18.837Z"
   },
   {
    "duration": 25,
    "start_time": "2022-07-11T07:35:18.850Z"
   },
   {
    "duration": 24,
    "start_time": "2022-07-11T07:35:18.877Z"
   },
   {
    "duration": 21,
    "start_time": "2022-07-11T07:35:18.903Z"
   },
   {
    "duration": 41,
    "start_time": "2022-07-11T07:35:18.926Z"
   },
   {
    "duration": 22,
    "start_time": "2022-07-11T07:35:18.968Z"
   },
   {
    "duration": 13,
    "start_time": "2022-07-11T07:35:18.992Z"
   },
   {
    "duration": 172,
    "start_time": "2022-07-11T07:35:19.007Z"
   },
   {
    "duration": 12,
    "start_time": "2022-07-11T07:35:19.183Z"
   },
   {
    "duration": 36,
    "start_time": "2022-07-11T07:35:19.197Z"
   },
   {
    "duration": 33,
    "start_time": "2022-07-11T07:35:19.235Z"
   },
   {
    "duration": 99,
    "start_time": "2022-07-11T07:35:19.274Z"
   },
   {
    "duration": 39,
    "start_time": "2022-07-11T07:35:19.376Z"
   },
   {
    "duration": 393,
    "start_time": "2022-07-11T07:35:19.417Z"
   },
   {
    "duration": 406,
    "start_time": "2022-07-11T07:35:19.811Z"
   },
   {
    "duration": 303,
    "start_time": "2022-07-11T07:35:20.220Z"
   },
   {
    "duration": 14,
    "start_time": "2022-07-11T07:35:20.524Z"
   },
   {
    "duration": 70,
    "start_time": "2022-07-11T07:35:20.540Z"
   },
   {
    "duration": 171,
    "start_time": "2022-07-11T07:35:20.611Z"
   },
   {
    "duration": 15,
    "start_time": "2022-07-11T07:35:20.784Z"
   },
   {
    "duration": 68,
    "start_time": "2022-07-11T07:35:20.800Z"
   },
   {
    "duration": 1180,
    "start_time": "2022-07-11T07:35:46.443Z"
   },
   {
    "duration": 643,
    "start_time": "2022-07-11T07:35:47.625Z"
   },
   {
    "duration": 543,
    "start_time": "2022-07-11T07:35:48.269Z"
   },
   {
    "duration": 129,
    "start_time": "2022-07-11T07:35:48.814Z"
   },
   {
    "duration": 26,
    "start_time": "2022-07-11T07:35:48.945Z"
   },
   {
    "duration": 40,
    "start_time": "2022-07-11T07:35:48.972Z"
   },
   {
    "duration": 9,
    "start_time": "2022-07-11T07:35:49.013Z"
   },
   {
    "duration": 33,
    "start_time": "2022-07-11T07:35:49.023Z"
   },
   {
    "duration": 26,
    "start_time": "2022-07-11T07:35:49.057Z"
   },
   {
    "duration": 26,
    "start_time": "2022-07-11T07:35:49.086Z"
   },
   {
    "duration": 25,
    "start_time": "2022-07-11T07:35:49.114Z"
   },
   {
    "duration": 30,
    "start_time": "2022-07-11T07:35:49.140Z"
   },
   {
    "duration": 24,
    "start_time": "2022-07-11T07:35:49.172Z"
   },
   {
    "duration": 28,
    "start_time": "2022-07-11T07:35:49.198Z"
   },
   {
    "duration": 47,
    "start_time": "2022-07-11T07:35:49.227Z"
   },
   {
    "duration": 34,
    "start_time": "2022-07-11T07:35:49.278Z"
   },
   {
    "duration": 55,
    "start_time": "2022-07-11T07:35:49.314Z"
   },
   {
    "duration": 15,
    "start_time": "2022-07-11T07:35:49.371Z"
   },
   {
    "duration": 24,
    "start_time": "2022-07-11T07:35:49.388Z"
   },
   {
    "duration": 162,
    "start_time": "2022-07-11T07:35:49.414Z"
   },
   {
    "duration": 12,
    "start_time": "2022-07-11T07:35:49.579Z"
   },
   {
    "duration": 40,
    "start_time": "2022-07-11T07:35:49.593Z"
   },
   {
    "duration": 9,
    "start_time": "2022-07-11T07:35:49.634Z"
   },
   {
    "duration": 116,
    "start_time": "2022-07-11T07:35:49.645Z"
   },
   {
    "duration": 60,
    "start_time": "2022-07-11T07:35:49.763Z"
   },
   {
    "duration": 389,
    "start_time": "2022-07-11T07:35:49.824Z"
   },
   {
    "duration": 389,
    "start_time": "2022-07-11T07:35:50.215Z"
   },
   {
    "duration": 300,
    "start_time": "2022-07-11T07:35:50.607Z"
   },
   {
    "duration": 14,
    "start_time": "2022-07-11T07:35:50.909Z"
   },
   {
    "duration": 30,
    "start_time": "2022-07-11T07:35:50.925Z"
   },
   {
    "duration": 192,
    "start_time": "2022-07-11T07:35:50.957Z"
   },
   {
    "duration": 19,
    "start_time": "2022-07-11T07:35:51.151Z"
   },
   {
    "duration": 42,
    "start_time": "2022-07-11T07:35:51.172Z"
   },
   {
    "duration": 15,
    "start_time": "2022-07-11T07:37:23.938Z"
   },
   {
    "duration": 119,
    "start_time": "2022-07-11T07:41:38.419Z"
   },
   {
    "duration": 12,
    "start_time": "2022-07-11T07:41:47.106Z"
   },
   {
    "duration": 25,
    "start_time": "2022-07-11T07:44:55.058Z"
   },
   {
    "duration": 19,
    "start_time": "2022-07-11T07:46:15.137Z"
   },
   {
    "duration": 20,
    "start_time": "2022-07-11T07:46:19.136Z"
   },
   {
    "duration": 1398,
    "start_time": "2022-07-11T15:57:39.566Z"
   },
   {
    "duration": 2148,
    "start_time": "2022-07-11T15:57:40.967Z"
   },
   {
    "duration": 520,
    "start_time": "2022-07-11T15:57:43.117Z"
   },
   {
    "duration": 126,
    "start_time": "2022-07-11T15:57:43.639Z"
   },
   {
    "duration": 6,
    "start_time": "2022-07-11T15:57:43.766Z"
   },
   {
    "duration": 50,
    "start_time": "2022-07-11T15:57:43.774Z"
   },
   {
    "duration": 7,
    "start_time": "2022-07-11T15:57:43.826Z"
   },
   {
    "duration": 11,
    "start_time": "2022-07-11T15:57:43.834Z"
   },
   {
    "duration": 4,
    "start_time": "2022-07-11T15:57:43.847Z"
   },
   {
    "duration": 21,
    "start_time": "2022-07-11T15:57:43.854Z"
   },
   {
    "duration": 48,
    "start_time": "2022-07-11T15:57:43.877Z"
   },
   {
    "duration": 4,
    "start_time": "2022-07-11T15:57:43.927Z"
   },
   {
    "duration": 10,
    "start_time": "2022-07-11T15:57:43.933Z"
   },
   {
    "duration": 17,
    "start_time": "2022-07-11T15:57:43.945Z"
   },
   {
    "duration": 17,
    "start_time": "2022-07-11T15:57:43.964Z"
   },
   {
    "duration": 36,
    "start_time": "2022-07-11T15:57:43.984Z"
   },
   {
    "duration": 27,
    "start_time": "2022-07-11T15:57:44.022Z"
   },
   {
    "duration": 14,
    "start_time": "2022-07-11T15:57:44.051Z"
   },
   {
    "duration": 47,
    "start_time": "2022-07-11T15:57:44.067Z"
   },
   {
    "duration": 146,
    "start_time": "2022-07-11T15:57:44.116Z"
   },
   {
    "duration": 11,
    "start_time": "2022-07-11T15:57:44.264Z"
   },
   {
    "duration": 49,
    "start_time": "2022-07-11T15:57:44.277Z"
   },
   {
    "duration": 9,
    "start_time": "2022-07-11T15:57:44.327Z"
   },
   {
    "duration": 115,
    "start_time": "2022-07-11T15:57:44.338Z"
   },
   {
    "duration": 28,
    "start_time": "2022-07-11T15:57:44.455Z"
   },
   {
    "duration": 392,
    "start_time": "2022-07-11T15:57:44.485Z"
   },
   {
    "duration": 386,
    "start_time": "2022-07-11T15:57:44.879Z"
   },
   {
    "duration": 320,
    "start_time": "2022-07-11T15:57:45.267Z"
   },
   {
    "duration": 22,
    "start_time": "2022-07-11T15:57:45.589Z"
   },
   {
    "duration": 34,
    "start_time": "2022-07-11T15:57:45.613Z"
   },
   {
    "duration": 165,
    "start_time": "2022-07-11T15:57:45.649Z"
   },
   {
    "duration": 20,
    "start_time": "2022-07-11T15:57:45.816Z"
   },
   {
    "duration": 70,
    "start_time": "2022-07-11T15:57:45.838Z"
   },
   {
    "duration": 20,
    "start_time": "2022-07-11T15:57:45.910Z"
   },
   {
    "duration": 15,
    "start_time": "2022-07-11T15:57:45.932Z"
   },
   {
    "duration": 18,
    "start_time": "2022-07-11T16:01:29.131Z"
   },
   {
    "duration": 20,
    "start_time": "2022-07-11T16:03:27.259Z"
   },
   {
    "duration": 22,
    "start_time": "2022-07-11T16:04:06.648Z"
   },
   {
    "duration": 1241,
    "start_time": "2022-07-11T16:12:02.426Z"
   },
   {
    "duration": 674,
    "start_time": "2022-07-11T16:12:03.669Z"
   },
   {
    "duration": 668,
    "start_time": "2022-07-11T16:12:04.345Z"
   },
   {
    "duration": 168,
    "start_time": "2022-07-11T16:12:05.017Z"
   },
   {
    "duration": 17,
    "start_time": "2022-07-11T16:12:05.187Z"
   },
   {
    "duration": 19,
    "start_time": "2022-07-11T16:12:05.206Z"
   },
   {
    "duration": 7,
    "start_time": "2022-07-11T16:12:05.227Z"
   },
   {
    "duration": 13,
    "start_time": "2022-07-11T16:12:05.236Z"
   },
   {
    "duration": 53,
    "start_time": "2022-07-11T16:12:05.251Z"
   },
   {
    "duration": 11,
    "start_time": "2022-07-11T16:12:05.308Z"
   },
   {
    "duration": 39,
    "start_time": "2022-07-11T16:12:05.322Z"
   },
   {
    "duration": 4,
    "start_time": "2022-07-11T16:12:05.363Z"
   },
   {
    "duration": 19,
    "start_time": "2022-07-11T16:12:05.369Z"
   },
   {
    "duration": 28,
    "start_time": "2022-07-11T16:12:05.391Z"
   },
   {
    "duration": 19,
    "start_time": "2022-07-11T16:12:05.421Z"
   },
   {
    "duration": 22,
    "start_time": "2022-07-11T16:12:05.442Z"
   },
   {
    "duration": 50,
    "start_time": "2022-07-11T16:12:05.466Z"
   },
   {
    "duration": 16,
    "start_time": "2022-07-11T16:12:05.518Z"
   },
   {
    "duration": 23,
    "start_time": "2022-07-11T16:12:05.537Z"
   },
   {
    "duration": 234,
    "start_time": "2022-07-11T16:12:05.563Z"
   },
   {
    "duration": 18,
    "start_time": "2022-07-11T16:12:05.800Z"
   },
   {
    "duration": 44,
    "start_time": "2022-07-11T16:12:05.820Z"
   },
   {
    "duration": 11,
    "start_time": "2022-07-11T16:12:05.866Z"
   },
   {
    "duration": 143,
    "start_time": "2022-07-11T16:12:05.906Z"
   },
   {
    "duration": 32,
    "start_time": "2022-07-11T16:12:06.051Z"
   },
   {
    "duration": 459,
    "start_time": "2022-07-11T16:12:06.085Z"
   },
   {
    "duration": 449,
    "start_time": "2022-07-11T16:12:06.547Z"
   },
   {
    "duration": 303,
    "start_time": "2022-07-11T16:12:07.003Z"
   },
   {
    "duration": 16,
    "start_time": "2022-07-11T16:12:07.309Z"
   },
   {
    "duration": 73,
    "start_time": "2022-07-11T16:12:07.328Z"
   },
   {
    "duration": 0,
    "start_time": "2022-07-11T16:12:07.404Z"
   },
   {
    "duration": 0,
    "start_time": "2022-07-11T16:12:07.406Z"
   },
   {
    "duration": 1,
    "start_time": "2022-07-11T16:12:07.407Z"
   },
   {
    "duration": 0,
    "start_time": "2022-07-11T16:12:07.409Z"
   },
   {
    "duration": 1,
    "start_time": "2022-07-11T16:12:07.411Z"
   },
   {
    "duration": 0,
    "start_time": "2022-07-11T16:12:07.413Z"
   },
   {
    "duration": 0,
    "start_time": "2022-07-11T16:12:07.415Z"
   },
   {
    "duration": 121,
    "start_time": "2022-07-11T16:12:48.653Z"
   },
   {
    "duration": 13,
    "start_time": "2022-07-11T16:13:08.275Z"
   },
   {
    "duration": 1402,
    "start_time": "2022-07-11T16:19:38.896Z"
   },
   {
    "duration": 699,
    "start_time": "2022-07-11T16:19:40.305Z"
   },
   {
    "duration": 658,
    "start_time": "2022-07-11T16:19:41.011Z"
   },
   {
    "duration": 156,
    "start_time": "2022-07-11T16:19:41.672Z"
   },
   {
    "duration": 6,
    "start_time": "2022-07-11T16:19:41.829Z"
   },
   {
    "duration": 29,
    "start_time": "2022-07-11T16:19:41.838Z"
   },
   {
    "duration": 8,
    "start_time": "2022-07-11T16:19:41.869Z"
   },
   {
    "duration": 15,
    "start_time": "2022-07-11T16:19:41.903Z"
   },
   {
    "duration": 11,
    "start_time": "2022-07-11T16:19:41.920Z"
   },
   {
    "duration": 12,
    "start_time": "2022-07-11T16:19:41.935Z"
   },
   {
    "duration": 68,
    "start_time": "2022-07-11T16:19:41.949Z"
   },
   {
    "duration": 4,
    "start_time": "2022-07-11T16:19:42.019Z"
   },
   {
    "duration": 8,
    "start_time": "2022-07-11T16:19:42.025Z"
   },
   {
    "duration": 20,
    "start_time": "2022-07-11T16:19:42.035Z"
   },
   {
    "duration": 20,
    "start_time": "2022-07-11T16:19:42.058Z"
   },
   {
    "duration": 45,
    "start_time": "2022-07-11T16:19:42.080Z"
   },
   {
    "duration": 46,
    "start_time": "2022-07-11T16:19:42.127Z"
   },
   {
    "duration": 40,
    "start_time": "2022-07-11T16:19:42.176Z"
   },
   {
    "duration": 21,
    "start_time": "2022-07-11T16:19:42.218Z"
   },
   {
    "duration": 392,
    "start_time": "2022-07-11T16:19:42.241Z"
   },
   {
    "duration": 27,
    "start_time": "2022-07-11T16:19:42.637Z"
   },
   {
    "duration": 123,
    "start_time": "2022-07-11T16:19:42.668Z"
   },
   {
    "duration": 26,
    "start_time": "2022-07-11T16:19:42.794Z"
   },
   {
    "duration": 197,
    "start_time": "2022-07-11T16:19:42.823Z"
   },
   {
    "duration": 50,
    "start_time": "2022-07-11T16:19:43.023Z"
   },
   {
    "duration": 632,
    "start_time": "2022-07-11T16:19:43.076Z"
   },
   {
    "duration": 596,
    "start_time": "2022-07-11T16:19:43.711Z"
   },
   {
    "duration": 606,
    "start_time": "2022-07-11T16:19:44.311Z"
   },
   {
    "duration": 41,
    "start_time": "2022-07-11T16:19:44.920Z"
   },
   {
    "duration": 63,
    "start_time": "2022-07-11T16:19:44.965Z"
   },
   {
    "duration": 286,
    "start_time": "2022-07-11T16:19:45.031Z"
   },
   {
    "duration": 26,
    "start_time": "2022-07-11T16:19:45.323Z"
   },
   {
    "duration": 65,
    "start_time": "2022-07-11T16:19:45.353Z"
   },
   {
    "duration": 85,
    "start_time": "2022-07-11T16:19:45.421Z"
   },
   {
    "duration": 22,
    "start_time": "2022-07-11T16:19:45.508Z"
   },
   {
    "duration": 80,
    "start_time": "2022-07-11T16:19:45.532Z"
   },
   {
    "duration": 13,
    "start_time": "2022-07-11T16:23:24.291Z"
   },
   {
    "duration": 9,
    "start_time": "2022-07-11T16:23:43.754Z"
   },
   {
    "duration": 21,
    "start_time": "2022-07-11T16:25:07.399Z"
   },
   {
    "duration": 11,
    "start_time": "2022-07-11T16:25:16.115Z"
   },
   {
    "duration": 15,
    "start_time": "2022-07-11T16:27:10.300Z"
   },
   {
    "duration": 1298,
    "start_time": "2022-07-11T16:29:26.092Z"
   },
   {
    "duration": 689,
    "start_time": "2022-07-11T16:29:27.392Z"
   },
   {
    "duration": 602,
    "start_time": "2022-07-11T16:29:28.084Z"
   },
   {
    "duration": 143,
    "start_time": "2022-07-11T16:29:28.688Z"
   },
   {
    "duration": 5,
    "start_time": "2022-07-11T16:29:28.833Z"
   },
   {
    "duration": 23,
    "start_time": "2022-07-11T16:29:28.840Z"
   },
   {
    "duration": 7,
    "start_time": "2022-07-11T16:29:28.864Z"
   },
   {
    "duration": 38,
    "start_time": "2022-07-11T16:29:28.873Z"
   },
   {
    "duration": 5,
    "start_time": "2022-07-11T16:29:28.913Z"
   },
   {
    "duration": 16,
    "start_time": "2022-07-11T16:29:28.921Z"
   },
   {
    "duration": 30,
    "start_time": "2022-07-11T16:29:28.939Z"
   },
   {
    "duration": 4,
    "start_time": "2022-07-11T16:29:28.971Z"
   },
   {
    "duration": 2,
    "start_time": "2022-07-11T16:29:29.004Z"
   },
   {
    "duration": 15,
    "start_time": "2022-07-11T16:29:29.008Z"
   },
   {
    "duration": 13,
    "start_time": "2022-07-11T16:29:29.025Z"
   },
   {
    "duration": 19,
    "start_time": "2022-07-11T16:29:29.040Z"
   },
   {
    "duration": 63,
    "start_time": "2022-07-11T16:29:29.060Z"
   },
   {
    "duration": 14,
    "start_time": "2022-07-11T16:29:29.125Z"
   },
   {
    "duration": 15,
    "start_time": "2022-07-11T16:29:29.141Z"
   },
   {
    "duration": 175,
    "start_time": "2022-07-11T16:29:29.158Z"
   },
   {
    "duration": 11,
    "start_time": "2022-07-11T16:29:29.335Z"
   },
   {
    "duration": 56,
    "start_time": "2022-07-11T16:29:29.348Z"
   },
   {
    "duration": 9,
    "start_time": "2022-07-11T16:29:29.406Z"
   },
   {
    "duration": 114,
    "start_time": "2022-07-11T16:29:29.416Z"
   },
   {
    "duration": 30,
    "start_time": "2022-07-11T16:29:29.532Z"
   },
   {
    "duration": 440,
    "start_time": "2022-07-11T16:29:29.564Z"
   },
   {
    "duration": 421,
    "start_time": "2022-07-11T16:29:30.006Z"
   },
   {
    "duration": 303,
    "start_time": "2022-07-11T16:29:30.431Z"
   },
   {
    "duration": 15,
    "start_time": "2022-07-11T16:29:30.735Z"
   },
   {
    "duration": 34,
    "start_time": "2022-07-11T16:29:30.751Z"
   },
   {
    "duration": 181,
    "start_time": "2022-07-11T16:29:30.786Z"
   },
   {
    "duration": 16,
    "start_time": "2022-07-11T16:29:30.969Z"
   },
   {
    "duration": 26,
    "start_time": "2022-07-11T16:29:30.987Z"
   },
   {
    "duration": 27,
    "start_time": "2022-07-11T16:29:31.014Z"
   },
   {
    "duration": 65,
    "start_time": "2022-07-11T16:29:31.042Z"
   },
   {
    "duration": 21,
    "start_time": "2022-07-11T16:29:31.109Z"
   },
   {
    "duration": 27,
    "start_time": "2022-07-11T16:29:31.132Z"
   },
   {
    "duration": 51,
    "start_time": "2022-07-11T16:29:31.162Z"
   },
   {
    "duration": 12,
    "start_time": "2022-07-11T16:29:31.215Z"
   },
   {
    "duration": 1254,
    "start_time": "2022-07-11T16:31:34.513Z"
   },
   {
    "duration": 661,
    "start_time": "2022-07-11T16:31:35.769Z"
   },
   {
    "duration": 630,
    "start_time": "2022-07-11T16:31:36.432Z"
   },
   {
    "duration": 146,
    "start_time": "2022-07-11T16:31:37.065Z"
   },
   {
    "duration": 5,
    "start_time": "2022-07-11T16:31:37.213Z"
   },
   {
    "duration": 25,
    "start_time": "2022-07-11T16:31:37.220Z"
   },
   {
    "duration": 8,
    "start_time": "2022-07-11T16:31:37.247Z"
   },
   {
    "duration": 19,
    "start_time": "2022-07-11T16:31:37.257Z"
   },
   {
    "duration": 30,
    "start_time": "2022-07-11T16:31:37.278Z"
   },
   {
    "duration": 11,
    "start_time": "2022-07-11T16:31:37.311Z"
   },
   {
    "duration": 29,
    "start_time": "2022-07-11T16:31:37.325Z"
   },
   {
    "duration": 4,
    "start_time": "2022-07-11T16:31:37.357Z"
   },
   {
    "duration": 7,
    "start_time": "2022-07-11T16:31:37.363Z"
   },
   {
    "duration": 13,
    "start_time": "2022-07-11T16:31:37.403Z"
   },
   {
    "duration": 15,
    "start_time": "2022-07-11T16:31:37.418Z"
   },
   {
    "duration": 18,
    "start_time": "2022-07-11T16:31:37.435Z"
   },
   {
    "duration": 58,
    "start_time": "2022-07-11T16:31:37.456Z"
   },
   {
    "duration": 15,
    "start_time": "2022-07-11T16:31:37.516Z"
   },
   {
    "duration": 19,
    "start_time": "2022-07-11T16:31:37.533Z"
   },
   {
    "duration": 192,
    "start_time": "2022-07-11T16:31:37.553Z"
   },
   {
    "duration": 11,
    "start_time": "2022-07-11T16:31:37.747Z"
   },
   {
    "duration": 56,
    "start_time": "2022-07-11T16:31:37.760Z"
   },
   {
    "duration": 9,
    "start_time": "2022-07-11T16:31:37.818Z"
   },
   {
    "duration": 124,
    "start_time": "2022-07-11T16:31:37.829Z"
   },
   {
    "duration": 30,
    "start_time": "2022-07-11T16:31:37.955Z"
   },
   {
    "duration": 436,
    "start_time": "2022-07-11T16:31:37.987Z"
   },
   {
    "duration": 422,
    "start_time": "2022-07-11T16:31:38.425Z"
   },
   {
    "duration": 310,
    "start_time": "2022-07-11T16:31:38.851Z"
   },
   {
    "duration": 16,
    "start_time": "2022-07-11T16:31:39.162Z"
   },
   {
    "duration": 42,
    "start_time": "2022-07-11T16:31:39.180Z"
   },
   {
    "duration": 182,
    "start_time": "2022-07-11T16:31:39.225Z"
   },
   {
    "duration": 17,
    "start_time": "2022-07-11T16:31:39.408Z"
   },
   {
    "duration": 14,
    "start_time": "2022-07-11T16:31:39.426Z"
   },
   {
    "duration": 73,
    "start_time": "2022-07-11T16:31:39.441Z"
   },
   {
    "duration": 14,
    "start_time": "2022-07-11T16:31:39.516Z"
   },
   {
    "duration": 73,
    "start_time": "2022-07-11T16:31:39.532Z"
   },
   {
    "duration": 12,
    "start_time": "2022-07-11T16:31:39.607Z"
   },
   {
    "duration": 22,
    "start_time": "2022-07-11T16:31:39.621Z"
   },
   {
    "duration": 62,
    "start_time": "2022-07-11T16:31:39.645Z"
   },
   {
    "duration": 1667,
    "start_time": "2022-07-11T16:31:39.709Z"
   },
   {
    "duration": 19,
    "start_time": "2022-07-11T16:32:02.055Z"
   },
   {
    "duration": 1213,
    "start_time": "2022-07-11T16:32:10.026Z"
   },
   {
    "duration": 668,
    "start_time": "2022-07-11T16:32:11.241Z"
   },
   {
    "duration": 576,
    "start_time": "2022-07-11T16:32:11.911Z"
   },
   {
    "duration": 136,
    "start_time": "2022-07-11T16:32:12.505Z"
   },
   {
    "duration": 7,
    "start_time": "2022-07-11T16:32:12.643Z"
   },
   {
    "duration": 27,
    "start_time": "2022-07-11T16:32:12.652Z"
   },
   {
    "duration": 24,
    "start_time": "2022-07-11T16:32:12.681Z"
   },
   {
    "duration": 13,
    "start_time": "2022-07-11T16:32:12.707Z"
   },
   {
    "duration": 7,
    "start_time": "2022-07-11T16:32:12.722Z"
   },
   {
    "duration": 27,
    "start_time": "2022-07-11T16:32:12.732Z"
   },
   {
    "duration": 43,
    "start_time": "2022-07-11T16:32:12.761Z"
   },
   {
    "duration": 4,
    "start_time": "2022-07-11T16:32:12.806Z"
   },
   {
    "duration": 14,
    "start_time": "2022-07-11T16:32:12.812Z"
   },
   {
    "duration": 27,
    "start_time": "2022-07-11T16:32:12.827Z"
   },
   {
    "duration": 26,
    "start_time": "2022-07-11T16:32:12.856Z"
   },
   {
    "duration": 29,
    "start_time": "2022-07-11T16:32:12.883Z"
   },
   {
    "duration": 29,
    "start_time": "2022-07-11T16:32:12.913Z"
   },
   {
    "duration": 16,
    "start_time": "2022-07-11T16:32:12.944Z"
   },
   {
    "duration": 43,
    "start_time": "2022-07-11T16:32:12.962Z"
   },
   {
    "duration": 172,
    "start_time": "2022-07-11T16:32:13.008Z"
   },
   {
    "duration": 12,
    "start_time": "2022-07-11T16:32:13.182Z"
   },
   {
    "duration": 48,
    "start_time": "2022-07-11T16:32:13.195Z"
   },
   {
    "duration": 28,
    "start_time": "2022-07-11T16:32:13.245Z"
   },
   {
    "duration": 129,
    "start_time": "2022-07-11T16:32:13.275Z"
   },
   {
    "duration": 32,
    "start_time": "2022-07-11T16:32:13.406Z"
   },
   {
    "duration": 414,
    "start_time": "2022-07-11T16:32:13.441Z"
   },
   {
    "duration": 402,
    "start_time": "2022-07-11T16:32:13.857Z"
   },
   {
    "duration": 329,
    "start_time": "2022-07-11T16:32:14.261Z"
   },
   {
    "duration": 24,
    "start_time": "2022-07-11T16:32:14.592Z"
   },
   {
    "duration": 31,
    "start_time": "2022-07-11T16:32:14.619Z"
   },
   {
    "duration": 190,
    "start_time": "2022-07-11T16:32:14.653Z"
   },
   {
    "duration": 19,
    "start_time": "2022-07-11T16:32:14.844Z"
   },
   {
    "duration": 49,
    "start_time": "2022-07-11T16:32:14.865Z"
   },
   {
    "duration": 31,
    "start_time": "2022-07-11T16:32:14.916Z"
   },
   {
    "duration": 55,
    "start_time": "2022-07-11T16:32:14.949Z"
   },
   {
    "duration": 18,
    "start_time": "2022-07-11T16:32:15.006Z"
   },
   {
    "duration": 32,
    "start_time": "2022-07-11T16:32:15.025Z"
   },
   {
    "duration": 40,
    "start_time": "2022-07-11T16:32:15.059Z"
   },
   {
    "duration": 27,
    "start_time": "2022-07-11T16:32:15.101Z"
   },
   {
    "duration": 23,
    "start_time": "2022-07-11T16:32:15.130Z"
   },
   {
    "duration": 80,
    "start_time": "2022-07-11T16:42:10.436Z"
   },
   {
    "duration": 1282,
    "start_time": "2022-07-11T16:42:15.099Z"
   },
   {
    "duration": 19,
    "start_time": "2022-07-11T16:42:39.401Z"
   },
   {
    "duration": 1485,
    "start_time": "2022-07-11T16:42:55.537Z"
   },
   {
    "duration": 23,
    "start_time": "2022-07-11T16:43:07.613Z"
   },
   {
    "duration": 1202,
    "start_time": "2022-07-11T16:43:13.171Z"
   },
   {
    "duration": 624,
    "start_time": "2022-07-11T16:43:14.375Z"
   },
   {
    "duration": 554,
    "start_time": "2022-07-11T16:43:15.001Z"
   },
   {
    "duration": 148,
    "start_time": "2022-07-11T16:43:15.556Z"
   },
   {
    "duration": 5,
    "start_time": "2022-07-11T16:43:15.705Z"
   },
   {
    "duration": 19,
    "start_time": "2022-07-11T16:43:15.712Z"
   },
   {
    "duration": 5,
    "start_time": "2022-07-11T16:43:15.733Z"
   },
   {
    "duration": 12,
    "start_time": "2022-07-11T16:43:15.740Z"
   },
   {
    "duration": 4,
    "start_time": "2022-07-11T16:43:15.754Z"
   },
   {
    "duration": 10,
    "start_time": "2022-07-11T16:43:15.760Z"
   },
   {
    "duration": 56,
    "start_time": "2022-07-11T16:43:15.772Z"
   },
   {
    "duration": 4,
    "start_time": "2022-07-11T16:43:15.830Z"
   },
   {
    "duration": 8,
    "start_time": "2022-07-11T16:43:15.836Z"
   },
   {
    "duration": 20,
    "start_time": "2022-07-11T16:43:15.846Z"
   },
   {
    "duration": 17,
    "start_time": "2022-07-11T16:43:15.867Z"
   },
   {
    "duration": 36,
    "start_time": "2022-07-11T16:43:15.885Z"
   },
   {
    "duration": 29,
    "start_time": "2022-07-11T16:43:15.923Z"
   },
   {
    "duration": 12,
    "start_time": "2022-07-11T16:43:15.954Z"
   },
   {
    "duration": 39,
    "start_time": "2022-07-11T16:43:15.968Z"
   },
   {
    "duration": 160,
    "start_time": "2022-07-11T16:43:16.008Z"
   },
   {
    "duration": 11,
    "start_time": "2022-07-11T16:43:16.170Z"
   },
   {
    "duration": 49,
    "start_time": "2022-07-11T16:43:16.183Z"
   },
   {
    "duration": 8,
    "start_time": "2022-07-11T16:43:16.234Z"
   },
   {
    "duration": 123,
    "start_time": "2022-07-11T16:43:16.243Z"
   },
   {
    "duration": 37,
    "start_time": "2022-07-11T16:43:16.368Z"
   },
   {
    "duration": 466,
    "start_time": "2022-07-11T16:43:16.407Z"
   },
   {
    "duration": 409,
    "start_time": "2022-07-11T16:43:16.875Z"
   },
   {
    "duration": 314,
    "start_time": "2022-07-11T16:43:17.287Z"
   },
   {
    "duration": 15,
    "start_time": "2022-07-11T16:43:17.604Z"
   },
   {
    "duration": 22,
    "start_time": "2022-07-11T16:43:17.621Z"
   },
   {
    "duration": 176,
    "start_time": "2022-07-11T16:43:17.645Z"
   },
   {
    "duration": 15,
    "start_time": "2022-07-11T16:43:17.823Z"
   },
   {
    "duration": 21,
    "start_time": "2022-07-11T16:43:17.840Z"
   },
   {
    "duration": 51,
    "start_time": "2022-07-11T16:43:17.863Z"
   },
   {
    "duration": 11,
    "start_time": "2022-07-11T16:43:17.916Z"
   },
   {
    "duration": 18,
    "start_time": "2022-07-11T16:43:17.928Z"
   },
   {
    "duration": 61,
    "start_time": "2022-07-11T16:43:17.948Z"
   },
   {
    "duration": 20,
    "start_time": "2022-07-11T16:43:18.011Z"
   },
   {
    "duration": 8,
    "start_time": "2022-07-11T16:43:18.033Z"
   },
   {
    "duration": 15,
    "start_time": "2022-07-11T16:43:18.042Z"
   },
   {
    "duration": 1424,
    "start_time": "2022-07-11T16:45:24.458Z"
   },
   {
    "duration": 18,
    "start_time": "2022-07-11T16:45:47.251Z"
   },
   {
    "duration": 1222,
    "start_time": "2022-07-11T16:45:58.961Z"
   },
   {
    "duration": 677,
    "start_time": "2022-07-11T16:46:00.186Z"
   },
   {
    "duration": 576,
    "start_time": "2022-07-11T16:46:00.866Z"
   },
   {
    "duration": 138,
    "start_time": "2022-07-11T16:46:01.444Z"
   },
   {
    "duration": 22,
    "start_time": "2022-07-11T16:46:01.584Z"
   },
   {
    "duration": 37,
    "start_time": "2022-07-11T16:46:01.608Z"
   },
   {
    "duration": 19,
    "start_time": "2022-07-11T16:46:01.647Z"
   },
   {
    "duration": 59,
    "start_time": "2022-07-11T16:46:01.668Z"
   },
   {
    "duration": 6,
    "start_time": "2022-07-11T16:46:01.729Z"
   },
   {
    "duration": 23,
    "start_time": "2022-07-11T16:46:01.738Z"
   },
   {
    "duration": 33,
    "start_time": "2022-07-11T16:46:01.763Z"
   },
   {
    "duration": 4,
    "start_time": "2022-07-11T16:46:01.798Z"
   },
   {
    "duration": 23,
    "start_time": "2022-07-11T16:46:01.804Z"
   },
   {
    "duration": 34,
    "start_time": "2022-07-11T16:46:01.829Z"
   },
   {
    "duration": 50,
    "start_time": "2022-07-11T16:46:01.865Z"
   },
   {
    "duration": 53,
    "start_time": "2022-07-11T16:46:01.917Z"
   },
   {
    "duration": 30,
    "start_time": "2022-07-11T16:46:01.972Z"
   },
   {
    "duration": 13,
    "start_time": "2022-07-11T16:46:02.004Z"
   },
   {
    "duration": 18,
    "start_time": "2022-07-11T16:46:02.019Z"
   },
   {
    "duration": 201,
    "start_time": "2022-07-11T16:46:02.039Z"
   },
   {
    "duration": 16,
    "start_time": "2022-07-11T16:46:02.242Z"
   },
   {
    "duration": 64,
    "start_time": "2022-07-11T16:46:02.260Z"
   },
   {
    "duration": 24,
    "start_time": "2022-07-11T16:46:02.327Z"
   },
   {
    "duration": 126,
    "start_time": "2022-07-11T16:46:02.354Z"
   },
   {
    "duration": 39,
    "start_time": "2022-07-11T16:46:02.482Z"
   },
   {
    "duration": 404,
    "start_time": "2022-07-11T16:46:04.122Z"
   },
   {
    "duration": 406,
    "start_time": "2022-07-11T16:46:04.528Z"
   },
   {
    "duration": 313,
    "start_time": "2022-07-11T16:46:04.935Z"
   },
   {
    "duration": 15,
    "start_time": "2022-07-11T16:46:05.250Z"
   },
   {
    "duration": 39,
    "start_time": "2022-07-11T16:46:05.268Z"
   },
   {
    "duration": 181,
    "start_time": "2022-07-11T16:46:05.309Z"
   },
   {
    "duration": 19,
    "start_time": "2022-07-11T16:46:05.492Z"
   },
   {
    "duration": 19,
    "start_time": "2022-07-11T16:46:05.513Z"
   },
   {
    "duration": 72,
    "start_time": "2022-07-11T16:46:05.533Z"
   },
   {
    "duration": 10,
    "start_time": "2022-07-11T16:46:05.607Z"
   },
   {
    "duration": 18,
    "start_time": "2022-07-11T16:46:05.619Z"
   },
   {
    "duration": 18,
    "start_time": "2022-07-11T16:46:05.639Z"
   },
   {
    "duration": 58,
    "start_time": "2022-07-11T16:46:05.659Z"
   },
   {
    "duration": 9,
    "start_time": "2022-07-11T16:46:05.719Z"
   },
   {
    "duration": 17,
    "start_time": "2022-07-11T16:46:05.730Z"
   },
   {
    "duration": 122,
    "start_time": "2022-07-11T16:47:06.003Z"
   },
   {
    "duration": 1232,
    "start_time": "2022-07-11T16:47:50.185Z"
   },
   {
    "duration": 626,
    "start_time": "2022-07-11T16:47:51.419Z"
   },
   {
    "duration": 566,
    "start_time": "2022-07-11T16:47:52.047Z"
   },
   {
    "duration": 131,
    "start_time": "2022-07-11T16:47:52.615Z"
   },
   {
    "duration": 6,
    "start_time": "2022-07-11T16:47:52.747Z"
   },
   {
    "duration": 21,
    "start_time": "2022-07-11T16:47:52.754Z"
   },
   {
    "duration": 29,
    "start_time": "2022-07-11T16:47:52.778Z"
   },
   {
    "duration": 16,
    "start_time": "2022-07-11T16:47:52.809Z"
   },
   {
    "duration": 6,
    "start_time": "2022-07-11T16:47:52.827Z"
   },
   {
    "duration": 10,
    "start_time": "2022-07-11T16:47:52.838Z"
   },
   {
    "duration": 56,
    "start_time": "2022-07-11T16:47:52.850Z"
   },
   {
    "duration": 4,
    "start_time": "2022-07-11T16:47:52.908Z"
   },
   {
    "duration": 5,
    "start_time": "2022-07-11T16:47:52.914Z"
   },
   {
    "duration": 13,
    "start_time": "2022-07-11T16:47:52.921Z"
   },
   {
    "duration": 15,
    "start_time": "2022-07-11T16:47:52.936Z"
   },
   {
    "duration": 52,
    "start_time": "2022-07-11T16:47:52.953Z"
   },
   {
    "duration": 28,
    "start_time": "2022-07-11T16:47:53.007Z"
   },
   {
    "duration": 14,
    "start_time": "2022-07-11T16:47:53.037Z"
   },
   {
    "duration": 20,
    "start_time": "2022-07-11T16:47:53.053Z"
   },
   {
    "duration": 186,
    "start_time": "2022-07-11T16:47:53.075Z"
   },
   {
    "duration": 11,
    "start_time": "2022-07-11T16:47:53.263Z"
   },
   {
    "duration": 47,
    "start_time": "2022-07-11T16:47:53.276Z"
   },
   {
    "duration": 9,
    "start_time": "2022-07-11T16:47:53.325Z"
   },
   {
    "duration": 132,
    "start_time": "2022-07-11T16:47:53.336Z"
   },
   {
    "duration": 38,
    "start_time": "2022-07-11T16:47:53.469Z"
   },
   {
    "duration": 401,
    "start_time": "2022-07-11T16:47:53.509Z"
   },
   {
    "duration": 393,
    "start_time": "2022-07-11T16:47:53.913Z"
   },
   {
    "duration": 297,
    "start_time": "2022-07-11T16:47:54.308Z"
   },
   {
    "duration": 16,
    "start_time": "2022-07-11T16:47:54.607Z"
   },
   {
    "duration": 25,
    "start_time": "2022-07-11T16:47:54.624Z"
   },
   {
    "duration": 1264,
    "start_time": "2022-07-11T16:48:17.310Z"
   },
   {
    "duration": 1237,
    "start_time": "2022-07-11T16:49:30.157Z"
   },
   {
    "duration": 671,
    "start_time": "2022-07-11T16:49:31.396Z"
   },
   {
    "duration": 559,
    "start_time": "2022-07-11T16:49:32.069Z"
   },
   {
    "duration": 140,
    "start_time": "2022-07-11T16:49:32.629Z"
   },
   {
    "duration": 5,
    "start_time": "2022-07-11T16:49:32.771Z"
   },
   {
    "duration": 39,
    "start_time": "2022-07-11T16:49:32.778Z"
   },
   {
    "duration": 7,
    "start_time": "2022-07-11T16:49:32.819Z"
   },
   {
    "duration": 10,
    "start_time": "2022-07-11T16:49:32.828Z"
   },
   {
    "duration": 5,
    "start_time": "2022-07-11T16:49:32.840Z"
   },
   {
    "duration": 12,
    "start_time": "2022-07-11T16:49:32.846Z"
   },
   {
    "duration": 62,
    "start_time": "2022-07-11T16:49:32.860Z"
   },
   {
    "duration": 4,
    "start_time": "2022-07-11T16:49:32.924Z"
   },
   {
    "duration": 9,
    "start_time": "2022-07-11T16:49:32.929Z"
   },
   {
    "duration": 14,
    "start_time": "2022-07-11T16:49:32.941Z"
   },
   {
    "duration": 16,
    "start_time": "2022-07-11T16:49:32.957Z"
   },
   {
    "duration": 43,
    "start_time": "2022-07-11T16:49:32.975Z"
   },
   {
    "duration": 28,
    "start_time": "2022-07-11T16:49:33.020Z"
   },
   {
    "duration": 14,
    "start_time": "2022-07-11T16:49:33.050Z"
   },
   {
    "duration": 50,
    "start_time": "2022-07-11T16:49:33.066Z"
   },
   {
    "duration": 167,
    "start_time": "2022-07-11T16:49:33.118Z"
   },
   {
    "duration": 21,
    "start_time": "2022-07-11T16:49:33.287Z"
   },
   {
    "duration": 41,
    "start_time": "2022-07-11T16:49:33.310Z"
   },
   {
    "duration": 10,
    "start_time": "2022-07-11T16:49:33.353Z"
   },
   {
    "duration": 125,
    "start_time": "2022-07-11T16:49:33.364Z"
   },
   {
    "duration": 39,
    "start_time": "2022-07-11T16:49:33.490Z"
   },
   {
    "duration": 407,
    "start_time": "2022-07-11T16:49:33.531Z"
   },
   {
    "duration": 405,
    "start_time": "2022-07-11T16:49:33.940Z"
   },
   {
    "duration": 302,
    "start_time": "2022-07-11T16:49:34.347Z"
   },
   {
    "duration": 16,
    "start_time": "2022-07-11T16:49:34.650Z"
   },
   {
    "duration": 38,
    "start_time": "2022-07-11T16:49:34.668Z"
   },
   {
    "duration": 179,
    "start_time": "2022-07-11T16:49:34.708Z"
   },
   {
    "duration": 18,
    "start_time": "2022-07-11T16:49:34.888Z"
   },
   {
    "duration": 15,
    "start_time": "2022-07-11T16:49:34.908Z"
   },
   {
    "duration": 19,
    "start_time": "2022-07-11T16:49:34.925Z"
   },
   {
    "duration": 63,
    "start_time": "2022-07-11T16:49:34.946Z"
   },
   {
    "duration": 19,
    "start_time": "2022-07-11T16:49:35.011Z"
   },
   {
    "duration": 17,
    "start_time": "2022-07-11T16:49:35.032Z"
   },
   {
    "duration": 60,
    "start_time": "2022-07-11T16:49:35.051Z"
   },
   {
    "duration": 14,
    "start_time": "2022-07-11T16:49:35.114Z"
   },
   {
    "duration": 21,
    "start_time": "2022-07-11T16:49:35.130Z"
   },
   {
    "duration": 5,
    "start_time": "2022-07-11T16:56:36.536Z"
   },
   {
    "duration": 935,
    "start_time": "2022-07-11T16:56:36.544Z"
   },
   {
    "duration": 472,
    "start_time": "2022-07-11T16:56:37.481Z"
   },
   {
    "duration": 135,
    "start_time": "2022-07-11T16:56:37.955Z"
   },
   {
    "duration": 12,
    "start_time": "2022-07-11T16:56:38.092Z"
   },
   {
    "duration": 18,
    "start_time": "2022-07-11T16:56:38.106Z"
   },
   {
    "duration": 7,
    "start_time": "2022-07-11T16:56:38.127Z"
   },
   {
    "duration": 25,
    "start_time": "2022-07-11T16:56:38.136Z"
   },
   {
    "duration": 6,
    "start_time": "2022-07-11T16:56:38.163Z"
   },
   {
    "duration": 35,
    "start_time": "2022-07-11T16:56:38.172Z"
   },
   {
    "duration": 26,
    "start_time": "2022-07-11T16:56:38.209Z"
   },
   {
    "duration": 4,
    "start_time": "2022-07-11T16:56:38.237Z"
   },
   {
    "duration": 11,
    "start_time": "2022-07-11T16:56:38.243Z"
   },
   {
    "duration": 18,
    "start_time": "2022-07-11T16:56:38.256Z"
   },
   {
    "duration": 12,
    "start_time": "2022-07-11T16:56:38.276Z"
   },
   {
    "duration": 16,
    "start_time": "2022-07-11T16:56:38.305Z"
   },
   {
    "duration": 27,
    "start_time": "2022-07-11T16:56:38.323Z"
   },
   {
    "duration": 11,
    "start_time": "2022-07-11T16:56:38.352Z"
   },
   {
    "duration": 41,
    "start_time": "2022-07-11T16:56:38.365Z"
   },
   {
    "duration": 148,
    "start_time": "2022-07-11T16:56:38.408Z"
   },
   {
    "duration": 14,
    "start_time": "2022-07-11T16:56:38.558Z"
   },
   {
    "duration": 62,
    "start_time": "2022-07-11T16:56:38.574Z"
   },
   {
    "duration": 10,
    "start_time": "2022-07-11T16:56:38.638Z"
   },
   {
    "duration": 141,
    "start_time": "2022-07-11T16:56:38.650Z"
   },
   {
    "duration": 41,
    "start_time": "2022-07-11T16:56:38.793Z"
   },
   {
    "duration": 608,
    "start_time": "2022-07-11T16:56:38.837Z"
   },
   {
    "duration": 378,
    "start_time": "2022-07-11T16:56:39.447Z"
   },
   {
    "duration": 298,
    "start_time": "2022-07-11T16:56:39.827Z"
   },
   {
    "duration": 18,
    "start_time": "2022-07-11T16:56:40.127Z"
   },
   {
    "duration": 69,
    "start_time": "2022-07-11T16:56:40.148Z"
   },
   {
    "duration": 13,
    "start_time": "2022-07-11T16:56:40.220Z"
   },
   {
    "duration": 28,
    "start_time": "2022-07-11T16:56:40.235Z"
   },
   {
    "duration": 23,
    "start_time": "2022-07-11T16:56:40.265Z"
   },
   {
    "duration": 28,
    "start_time": "2022-07-11T16:56:40.290Z"
   },
   {
    "duration": 8,
    "start_time": "2022-07-11T16:56:40.320Z"
   },
   {
    "duration": 18,
    "start_time": "2022-07-11T16:56:40.329Z"
   },
   {
    "duration": 19,
    "start_time": "2022-07-11T16:56:40.349Z"
   },
   {
    "duration": 40,
    "start_time": "2022-07-11T16:56:40.370Z"
   },
   {
    "duration": 12,
    "start_time": "2022-07-11T16:56:40.412Z"
   },
   {
    "duration": 19,
    "start_time": "2022-07-11T16:56:40.427Z"
   },
   {
    "duration": 8,
    "start_time": "2022-07-11T17:02:23.294Z"
   },
   {
    "duration": 14,
    "start_time": "2022-07-11T17:02:27.465Z"
   },
   {
    "duration": 89,
    "start_time": "2022-07-11T17:05:27.490Z"
   },
   {
    "duration": 424,
    "start_time": "2022-07-11T17:05:38.321Z"
   },
   {
    "duration": 289,
    "start_time": "2022-07-11T17:05:48.006Z"
   },
   {
    "duration": 15,
    "start_time": "2022-07-11T17:05:53.014Z"
   },
   {
    "duration": 319,
    "start_time": "2022-07-11T17:07:27.453Z"
   },
   {
    "duration": 14,
    "start_time": "2022-07-11T17:07:38.633Z"
   },
   {
    "duration": 15,
    "start_time": "2022-07-11T17:08:33.878Z"
   },
   {
    "duration": 70,
    "start_time": "2022-07-11T17:08:40.303Z"
   },
   {
    "duration": 13,
    "start_time": "2022-07-11T17:08:42.821Z"
   },
   {
    "duration": 15,
    "start_time": "2022-07-11T17:08:58.414Z"
   },
   {
    "duration": 18,
    "start_time": "2022-07-11T17:10:03.540Z"
   },
   {
    "duration": 17,
    "start_time": "2022-07-11T17:10:28.475Z"
   },
   {
    "duration": 18,
    "start_time": "2022-07-11T17:10:33.194Z"
   },
   {
    "duration": 18,
    "start_time": "2022-07-11T17:10:38.511Z"
   },
   {
    "duration": 29,
    "start_time": "2022-07-11T17:11:00.481Z"
   },
   {
    "duration": 17,
    "start_time": "2022-07-11T17:11:12.075Z"
   },
   {
    "duration": 20,
    "start_time": "2022-07-11T17:11:16.304Z"
   },
   {
    "duration": 17,
    "start_time": "2022-07-11T19:15:48.562Z"
   },
   {
    "duration": 14,
    "start_time": "2022-07-11T19:16:55.550Z"
   },
   {
    "duration": 21,
    "start_time": "2022-07-11T19:17:11.848Z"
   },
   {
    "duration": 34,
    "start_time": "2022-07-11T19:17:16.656Z"
   },
   {
    "duration": 71,
    "start_time": "2022-07-11T19:19:55.960Z"
   },
   {
    "duration": 4,
    "start_time": "2022-07-11T19:19:58.633Z"
   },
   {
    "duration": 9,
    "start_time": "2022-07-11T19:20:03.558Z"
   },
   {
    "duration": 4,
    "start_time": "2022-07-11T19:20:06.889Z"
   },
   {
    "duration": 11,
    "start_time": "2022-07-11T19:22:04.605Z"
   },
   {
    "duration": 12,
    "start_time": "2022-07-11T19:22:10.883Z"
   },
   {
    "duration": 13,
    "start_time": "2022-07-11T19:22:40.281Z"
   },
   {
    "duration": 10,
    "start_time": "2022-07-11T19:25:02.243Z"
   },
   {
    "duration": 6,
    "start_time": "2022-07-11T19:25:23.621Z"
   },
   {
    "duration": 14,
    "start_time": "2022-07-11T19:26:08.321Z"
   },
   {
    "duration": 1240,
    "start_time": "2022-07-11T19:26:39.110Z"
   },
   {
    "duration": 626,
    "start_time": "2022-07-11T19:26:40.352Z"
   },
   {
    "duration": 541,
    "start_time": "2022-07-11T19:26:40.980Z"
   },
   {
    "duration": 127,
    "start_time": "2022-07-11T19:26:41.523Z"
   },
   {
    "duration": 5,
    "start_time": "2022-07-11T19:26:41.653Z"
   },
   {
    "duration": 20,
    "start_time": "2022-07-11T19:26:41.660Z"
   },
   {
    "duration": 27,
    "start_time": "2022-07-11T19:26:41.682Z"
   },
   {
    "duration": 12,
    "start_time": "2022-07-11T19:26:41.711Z"
   },
   {
    "duration": 5,
    "start_time": "2022-07-11T19:26:41.724Z"
   },
   {
    "duration": 13,
    "start_time": "2022-07-11T19:26:41.730Z"
   },
   {
    "duration": 26,
    "start_time": "2022-07-11T19:26:41.745Z"
   },
   {
    "duration": 4,
    "start_time": "2022-07-11T19:26:41.772Z"
   },
   {
    "duration": 3,
    "start_time": "2022-07-11T19:26:41.804Z"
   },
   {
    "duration": 14,
    "start_time": "2022-07-11T19:26:41.810Z"
   },
   {
    "duration": 15,
    "start_time": "2022-07-11T19:26:41.826Z"
   },
   {
    "duration": 19,
    "start_time": "2022-07-11T19:26:41.843Z"
   },
   {
    "duration": 59,
    "start_time": "2022-07-11T19:26:41.864Z"
   },
   {
    "duration": 13,
    "start_time": "2022-07-11T19:26:41.925Z"
   },
   {
    "duration": 16,
    "start_time": "2022-07-11T19:26:41.939Z"
   },
   {
    "duration": 175,
    "start_time": "2022-07-11T19:26:41.956Z"
   },
   {
    "duration": 13,
    "start_time": "2022-07-11T19:26:42.132Z"
   },
   {
    "duration": 58,
    "start_time": "2022-07-11T19:26:42.147Z"
   },
   {
    "duration": 10,
    "start_time": "2022-07-11T19:26:42.207Z"
   },
   {
    "duration": 115,
    "start_time": "2022-07-11T19:26:42.219Z"
   },
   {
    "duration": 30,
    "start_time": "2022-07-11T19:26:42.336Z"
   },
   {
    "duration": 404,
    "start_time": "2022-07-11T19:26:42.368Z"
   },
   {
    "duration": 385,
    "start_time": "2022-07-11T19:26:42.774Z"
   },
   {
    "duration": 303,
    "start_time": "2022-07-11T19:26:43.161Z"
   },
   {
    "duration": 16,
    "start_time": "2022-07-11T19:26:43.467Z"
   },
   {
    "duration": 40,
    "start_time": "2022-07-11T19:26:43.486Z"
   },
   {
    "duration": 225,
    "start_time": "2022-07-11T19:26:43.528Z"
   },
   {
    "duration": 16,
    "start_time": "2022-07-11T19:26:43.755Z"
   },
   {
    "duration": 33,
    "start_time": "2022-07-11T19:26:43.772Z"
   },
   {
    "duration": 20,
    "start_time": "2022-07-11T19:26:43.806Z"
   },
   {
    "duration": 9,
    "start_time": "2022-07-11T19:26:43.828Z"
   },
   {
    "duration": 67,
    "start_time": "2022-07-11T19:26:43.838Z"
   },
   {
    "duration": 12,
    "start_time": "2022-07-11T19:26:43.908Z"
   },
   {
    "duration": 18,
    "start_time": "2022-07-11T19:26:43.922Z"
   },
   {
    "duration": 8,
    "start_time": "2022-07-11T19:26:43.942Z"
   },
   {
    "duration": 15,
    "start_time": "2022-07-11T19:26:43.951Z"
   },
   {
    "duration": 48,
    "start_time": "2022-07-11T19:26:43.970Z"
   },
   {
    "duration": 21,
    "start_time": "2022-07-11T19:26:44.020Z"
   },
   {
    "duration": 30,
    "start_time": "2022-07-11T19:26:44.043Z"
   },
   {
    "duration": 34,
    "start_time": "2022-07-11T19:26:44.075Z"
   },
   {
    "duration": 8,
    "start_time": "2022-07-11T19:26:44.111Z"
   },
   {
    "duration": 132,
    "start_time": "2022-07-11T19:26:44.121Z"
   },
   {
    "duration": 1103,
    "start_time": "2022-07-11T19:27:47.309Z"
   },
   {
    "duration": 694,
    "start_time": "2022-07-11T19:27:48.414Z"
   },
   {
    "duration": 609,
    "start_time": "2022-07-11T19:27:49.110Z"
   },
   {
    "duration": 129,
    "start_time": "2022-07-11T19:27:49.721Z"
   },
   {
    "duration": 5,
    "start_time": "2022-07-11T19:27:49.853Z"
   },
   {
    "duration": 29,
    "start_time": "2022-07-11T19:27:49.859Z"
   },
   {
    "duration": 14,
    "start_time": "2022-07-11T19:27:49.890Z"
   },
   {
    "duration": 12,
    "start_time": "2022-07-11T19:27:49.905Z"
   },
   {
    "duration": 8,
    "start_time": "2022-07-11T19:27:49.918Z"
   },
   {
    "duration": 18,
    "start_time": "2022-07-11T19:27:49.927Z"
   },
   {
    "duration": 39,
    "start_time": "2022-07-11T19:27:49.947Z"
   },
   {
    "duration": 4,
    "start_time": "2022-07-11T19:27:49.988Z"
   },
   {
    "duration": 20,
    "start_time": "2022-07-11T19:27:49.994Z"
   },
   {
    "duration": 20,
    "start_time": "2022-07-11T19:27:50.018Z"
   },
   {
    "duration": 27,
    "start_time": "2022-07-11T19:27:50.040Z"
   },
   {
    "duration": 25,
    "start_time": "2022-07-11T19:27:50.068Z"
   },
   {
    "duration": 26,
    "start_time": "2022-07-11T19:27:50.094Z"
   },
   {
    "duration": 15,
    "start_time": "2022-07-11T19:27:50.122Z"
   },
   {
    "duration": 20,
    "start_time": "2022-07-11T19:27:50.139Z"
   },
   {
    "duration": 166,
    "start_time": "2022-07-11T19:27:50.161Z"
   },
   {
    "duration": 11,
    "start_time": "2022-07-11T19:27:50.329Z"
   },
   {
    "duration": 36,
    "start_time": "2022-07-11T19:27:50.341Z"
   },
   {
    "duration": 26,
    "start_time": "2022-07-11T19:27:50.378Z"
   },
   {
    "duration": 99,
    "start_time": "2022-07-11T19:27:50.406Z"
   },
   {
    "duration": 28,
    "start_time": "2022-07-11T19:27:50.506Z"
   },
   {
    "duration": 381,
    "start_time": "2022-07-11T19:27:50.535Z"
   },
   {
    "duration": 373,
    "start_time": "2022-07-11T19:27:50.918Z"
   },
   {
    "duration": 276,
    "start_time": "2022-07-11T19:27:51.293Z"
   },
   {
    "duration": 13,
    "start_time": "2022-07-11T19:27:51.571Z"
   },
   {
    "duration": 34,
    "start_time": "2022-07-11T19:27:51.586Z"
   },
   {
    "duration": 167,
    "start_time": "2022-07-11T19:27:51.621Z"
   },
   {
    "duration": 15,
    "start_time": "2022-07-11T19:27:51.790Z"
   },
   {
    "duration": 16,
    "start_time": "2022-07-11T19:27:51.806Z"
   },
   {
    "duration": 17,
    "start_time": "2022-07-11T19:27:51.824Z"
   },
   {
    "duration": 8,
    "start_time": "2022-07-11T19:27:51.842Z"
   },
   {
    "duration": 65,
    "start_time": "2022-07-11T19:27:51.852Z"
   },
   {
    "duration": 12,
    "start_time": "2022-07-11T19:27:51.919Z"
   },
   {
    "duration": 17,
    "start_time": "2022-07-11T19:27:51.933Z"
   },
   {
    "duration": 9,
    "start_time": "2022-07-11T19:27:51.952Z"
   },
   {
    "duration": 55,
    "start_time": "2022-07-11T19:27:51.962Z"
   },
   {
    "duration": 17,
    "start_time": "2022-07-11T19:27:52.021Z"
   },
   {
    "duration": 19,
    "start_time": "2022-07-11T19:27:52.040Z"
   },
   {
    "duration": 50,
    "start_time": "2022-07-11T19:27:52.061Z"
   },
   {
    "duration": 10,
    "start_time": "2022-07-11T19:27:52.112Z"
   },
   {
    "duration": 8,
    "start_time": "2022-07-11T19:27:52.124Z"
   },
   {
    "duration": 13,
    "start_time": "2022-07-11T19:27:52.134Z"
   },
   {
    "duration": 5,
    "start_time": "2022-07-11T19:28:25.147Z"
   },
   {
    "duration": 9,
    "start_time": "2022-07-11T19:28:25.856Z"
   },
   {
    "duration": 1221,
    "start_time": "2022-07-11T19:32:47.705Z"
   },
   {
    "duration": 605,
    "start_time": "2022-07-11T19:32:48.927Z"
   },
   {
    "duration": 517,
    "start_time": "2022-07-11T19:32:49.533Z"
   },
   {
    "duration": 144,
    "start_time": "2022-07-11T19:32:50.052Z"
   },
   {
    "duration": 9,
    "start_time": "2022-07-11T19:32:50.198Z"
   },
   {
    "duration": 46,
    "start_time": "2022-07-11T19:32:50.208Z"
   },
   {
    "duration": 8,
    "start_time": "2022-07-11T19:32:50.256Z"
   },
   {
    "duration": 15,
    "start_time": "2022-07-11T19:32:50.266Z"
   },
   {
    "duration": 16,
    "start_time": "2022-07-11T19:32:50.283Z"
   },
   {
    "duration": 10,
    "start_time": "2022-07-11T19:32:50.301Z"
   },
   {
    "duration": 26,
    "start_time": "2022-07-11T19:32:50.313Z"
   },
   {
    "duration": 4,
    "start_time": "2022-07-11T19:32:50.341Z"
   },
   {
    "duration": 12,
    "start_time": "2022-07-11T19:32:50.346Z"
   },
   {
    "duration": 14,
    "start_time": "2022-07-11T19:32:50.360Z"
   },
   {
    "duration": 33,
    "start_time": "2022-07-11T19:32:50.375Z"
   },
   {
    "duration": 21,
    "start_time": "2022-07-11T19:32:50.410Z"
   },
   {
    "duration": 24,
    "start_time": "2022-07-11T19:32:50.433Z"
   },
   {
    "duration": 11,
    "start_time": "2022-07-11T19:32:50.459Z"
   },
   {
    "duration": 38,
    "start_time": "2022-07-11T19:32:50.471Z"
   },
   {
    "duration": 136,
    "start_time": "2022-07-11T19:32:50.511Z"
   },
   {
    "duration": 10,
    "start_time": "2022-07-11T19:32:50.649Z"
   },
   {
    "duration": 46,
    "start_time": "2022-07-11T19:32:50.660Z"
   },
   {
    "duration": 9,
    "start_time": "2022-07-11T19:32:50.708Z"
   },
   {
    "duration": 115,
    "start_time": "2022-07-11T19:32:50.719Z"
   },
   {
    "duration": 28,
    "start_time": "2022-07-11T19:32:50.836Z"
   },
   {
    "duration": 382,
    "start_time": "2022-07-11T19:32:50.865Z"
   },
   {
    "duration": 362,
    "start_time": "2022-07-11T19:32:51.248Z"
   },
   {
    "duration": 280,
    "start_time": "2022-07-11T19:32:51.613Z"
   },
   {
    "duration": 20,
    "start_time": "2022-07-11T19:32:51.894Z"
   },
   {
    "duration": 21,
    "start_time": "2022-07-11T19:32:51.915Z"
   },
   {
    "duration": 168,
    "start_time": "2022-07-11T19:32:51.937Z"
   },
   {
    "duration": 15,
    "start_time": "2022-07-11T19:32:52.107Z"
   },
   {
    "duration": 30,
    "start_time": "2022-07-11T19:32:52.124Z"
   },
   {
    "duration": 66,
    "start_time": "2022-07-11T19:32:52.156Z"
   },
   {
    "duration": 9,
    "start_time": "2022-07-11T19:32:52.224Z"
   },
   {
    "duration": 15,
    "start_time": "2022-07-11T19:32:52.234Z"
   },
   {
    "duration": 61,
    "start_time": "2022-07-11T19:32:52.251Z"
   },
   {
    "duration": 15,
    "start_time": "2022-07-11T19:32:52.314Z"
   },
   {
    "duration": 8,
    "start_time": "2022-07-11T19:32:52.331Z"
   },
   {
    "duration": 33,
    "start_time": "2022-07-11T19:32:52.340Z"
   },
   {
    "duration": 38,
    "start_time": "2022-07-11T19:32:52.375Z"
   },
   {
    "duration": 22,
    "start_time": "2022-07-11T19:32:52.414Z"
   },
   {
    "duration": 24,
    "start_time": "2022-07-11T19:32:52.438Z"
   },
   {
    "duration": 9,
    "start_time": "2022-07-11T19:32:52.464Z"
   },
   {
    "duration": 8,
    "start_time": "2022-07-11T19:32:52.474Z"
   },
   {
    "duration": 9,
    "start_time": "2022-07-11T19:32:52.504Z"
   },
   {
    "duration": 6,
    "start_time": "2022-07-11T19:40:03.996Z"
   },
   {
    "duration": 9,
    "start_time": "2022-07-11T19:40:04.763Z"
   },
   {
    "duration": 1236,
    "start_time": "2022-07-12T06:29:08.773Z"
   },
   {
    "duration": 876,
    "start_time": "2022-07-12T06:29:10.011Z"
   },
   {
    "duration": 485,
    "start_time": "2022-07-12T06:29:10.888Z"
   },
   {
    "duration": 129,
    "start_time": "2022-07-12T06:29:11.375Z"
   },
   {
    "duration": 6,
    "start_time": "2022-07-12T06:29:11.506Z"
   },
   {
    "duration": 41,
    "start_time": "2022-07-12T06:29:11.515Z"
   },
   {
    "duration": 13,
    "start_time": "2022-07-12T06:29:11.558Z"
   },
   {
    "duration": 13,
    "start_time": "2022-07-12T06:29:11.573Z"
   },
   {
    "duration": 5,
    "start_time": "2022-07-12T06:29:11.588Z"
   },
   {
    "duration": 13,
    "start_time": "2022-07-12T06:29:11.597Z"
   },
   {
    "duration": 33,
    "start_time": "2022-07-12T06:29:11.612Z"
   },
   {
    "duration": 4,
    "start_time": "2022-07-12T06:29:11.647Z"
   },
   {
    "duration": 15,
    "start_time": "2022-07-12T06:29:11.652Z"
   },
   {
    "duration": 12,
    "start_time": "2022-07-12T06:29:11.668Z"
   },
   {
    "duration": 11,
    "start_time": "2022-07-12T06:29:11.682Z"
   },
   {
    "duration": 18,
    "start_time": "2022-07-12T06:29:11.694Z"
   },
   {
    "duration": 45,
    "start_time": "2022-07-12T06:29:11.713Z"
   },
   {
    "duration": 13,
    "start_time": "2022-07-12T06:29:11.759Z"
   },
   {
    "duration": 14,
    "start_time": "2022-07-12T06:29:11.774Z"
   },
   {
    "duration": 143,
    "start_time": "2022-07-12T06:29:11.790Z"
   },
   {
    "duration": 21,
    "start_time": "2022-07-12T06:29:11.935Z"
   },
   {
    "duration": 49,
    "start_time": "2022-07-12T06:29:11.958Z"
   },
   {
    "duration": 9,
    "start_time": "2022-07-12T06:29:12.009Z"
   },
   {
    "duration": 117,
    "start_time": "2022-07-12T06:29:12.020Z"
   },
   {
    "duration": 33,
    "start_time": "2022-07-12T06:29:12.139Z"
   },
   {
    "duration": 363,
    "start_time": "2022-07-12T06:29:12.174Z"
   },
   {
    "duration": 341,
    "start_time": "2022-07-12T06:29:12.539Z"
   },
   {
    "duration": 278,
    "start_time": "2022-07-12T06:29:12.884Z"
   },
   {
    "duration": 15,
    "start_time": "2022-07-12T06:29:13.163Z"
   },
   {
    "duration": 26,
    "start_time": "2022-07-12T06:29:13.179Z"
   },
   {
    "duration": 167,
    "start_time": "2022-07-12T06:29:13.206Z"
   },
   {
    "duration": 14,
    "start_time": "2022-07-12T06:29:13.374Z"
   },
   {
    "duration": 15,
    "start_time": "2022-07-12T06:29:13.390Z"
   },
   {
    "duration": 53,
    "start_time": "2022-07-12T06:29:13.406Z"
   },
   {
    "duration": 14,
    "start_time": "2022-07-12T06:29:13.461Z"
   },
   {
    "duration": 70,
    "start_time": "2022-07-12T06:29:13.477Z"
   },
   {
    "duration": 14,
    "start_time": "2022-07-12T06:29:13.550Z"
   },
   {
    "duration": 23,
    "start_time": "2022-07-12T06:29:13.566Z"
   },
   {
    "duration": 7,
    "start_time": "2022-07-12T06:29:13.591Z"
   },
   {
    "duration": 13,
    "start_time": "2022-07-12T06:29:13.600Z"
   },
   {
    "duration": 45,
    "start_time": "2022-07-12T06:29:13.614Z"
   },
   {
    "duration": 19,
    "start_time": "2022-07-12T06:29:13.661Z"
   },
   {
    "duration": 25,
    "start_time": "2022-07-12T06:29:13.682Z"
   },
   {
    "duration": 9,
    "start_time": "2022-07-12T06:29:13.709Z"
   },
   {
    "duration": 14,
    "start_time": "2022-07-12T06:29:13.744Z"
   },
   {
    "duration": 15,
    "start_time": "2022-07-12T06:29:13.760Z"
   },
   {
    "duration": 7,
    "start_time": "2022-07-12T06:48:50.917Z"
   },
   {
    "duration": 14,
    "start_time": "2022-07-12T06:53:18.611Z"
   },
   {
    "duration": 14,
    "start_time": "2022-07-12T06:53:23.317Z"
   },
   {
    "duration": 13,
    "start_time": "2022-07-12T06:53:57.564Z"
   },
   {
    "duration": 8,
    "start_time": "2022-07-12T06:54:03.076Z"
   },
   {
    "duration": 6,
    "start_time": "2022-07-12T07:02:03.306Z"
   },
   {
    "duration": 5,
    "start_time": "2022-07-12T07:03:49.678Z"
   },
   {
    "duration": 8,
    "start_time": "2022-07-12T07:03:54.893Z"
   },
   {
    "duration": 7,
    "start_time": "2022-07-12T07:04:15.036Z"
   },
   {
    "duration": 11,
    "start_time": "2022-07-12T07:04:17.908Z"
   },
   {
    "duration": 6,
    "start_time": "2022-07-12T07:04:50.284Z"
   },
   {
    "duration": 9,
    "start_time": "2022-07-12T07:04:50.878Z"
   },
   {
    "duration": 1172,
    "start_time": "2022-07-12T07:06:25.375Z"
   },
   {
    "duration": 849,
    "start_time": "2022-07-12T07:06:26.557Z"
   },
   {
    "duration": 579,
    "start_time": "2022-07-12T07:06:27.408Z"
   },
   {
    "duration": 139,
    "start_time": "2022-07-12T07:06:27.990Z"
   },
   {
    "duration": 15,
    "start_time": "2022-07-12T07:06:28.131Z"
   },
   {
    "duration": 41,
    "start_time": "2022-07-12T07:06:28.147Z"
   },
   {
    "duration": 8,
    "start_time": "2022-07-12T07:06:28.190Z"
   },
   {
    "duration": 27,
    "start_time": "2022-07-12T07:06:28.200Z"
   },
   {
    "duration": 14,
    "start_time": "2022-07-12T07:06:28.229Z"
   },
   {
    "duration": 21,
    "start_time": "2022-07-12T07:06:28.253Z"
   },
   {
    "duration": 37,
    "start_time": "2022-07-12T07:06:28.277Z"
   },
   {
    "duration": 6,
    "start_time": "2022-07-12T07:06:28.317Z"
   },
   {
    "duration": 7,
    "start_time": "2022-07-12T07:06:28.326Z"
   },
   {
    "duration": 35,
    "start_time": "2022-07-12T07:06:28.344Z"
   },
   {
    "duration": 17,
    "start_time": "2022-07-12T07:06:28.381Z"
   },
   {
    "duration": 21,
    "start_time": "2022-07-12T07:06:28.400Z"
   },
   {
    "duration": 37,
    "start_time": "2022-07-12T07:06:28.422Z"
   },
   {
    "duration": 16,
    "start_time": "2022-07-12T07:06:28.465Z"
   },
   {
    "duration": 21,
    "start_time": "2022-07-12T07:06:28.483Z"
   },
   {
    "duration": 166,
    "start_time": "2022-07-12T07:06:28.506Z"
   },
   {
    "duration": 13,
    "start_time": "2022-07-12T07:06:28.674Z"
   },
   {
    "duration": 39,
    "start_time": "2022-07-12T07:06:28.689Z"
   },
   {
    "duration": 16,
    "start_time": "2022-07-12T07:06:28.743Z"
   },
   {
    "duration": 148,
    "start_time": "2022-07-12T07:06:28.762Z"
   },
   {
    "duration": 53,
    "start_time": "2022-07-12T07:06:28.912Z"
   },
   {
    "duration": 463,
    "start_time": "2022-07-12T07:06:28.969Z"
   },
   {
    "duration": 467,
    "start_time": "2022-07-12T07:06:29.434Z"
   },
   {
    "duration": 379,
    "start_time": "2022-07-12T07:06:29.904Z"
   },
   {
    "duration": 22,
    "start_time": "2022-07-12T07:06:30.286Z"
   },
   {
    "duration": 52,
    "start_time": "2022-07-12T07:06:30.310Z"
   },
   {
    "duration": 194,
    "start_time": "2022-07-12T07:06:30.364Z"
   },
   {
    "duration": 28,
    "start_time": "2022-07-12T07:06:30.560Z"
   },
   {
    "duration": 68,
    "start_time": "2022-07-12T07:06:30.590Z"
   },
   {
    "duration": 33,
    "start_time": "2022-07-12T07:06:30.660Z"
   },
   {
    "duration": 58,
    "start_time": "2022-07-12T07:06:30.695Z"
   },
   {
    "duration": 69,
    "start_time": "2022-07-12T07:06:30.756Z"
   },
   {
    "duration": 56,
    "start_time": "2022-07-12T07:06:30.828Z"
   },
   {
    "duration": 31,
    "start_time": "2022-07-12T07:06:30.886Z"
   },
   {
    "duration": 14,
    "start_time": "2022-07-12T07:06:30.919Z"
   },
   {
    "duration": 59,
    "start_time": "2022-07-12T07:06:30.935Z"
   },
   {
    "duration": 31,
    "start_time": "2022-07-12T07:06:30.997Z"
   },
   {
    "duration": 113,
    "start_time": "2022-07-12T07:06:31.032Z"
   },
   {
    "duration": 16,
    "start_time": "2022-07-12T07:06:31.147Z"
   },
   {
    "duration": 18,
    "start_time": "2022-07-12T07:06:31.165Z"
   },
   {
    "duration": 17,
    "start_time": "2022-07-12T07:06:31.185Z"
   },
   {
    "duration": 45,
    "start_time": "2022-07-12T07:06:31.204Z"
   },
   {
    "duration": 13,
    "start_time": "2022-07-12T07:07:08.360Z"
   },
   {
    "duration": 12,
    "start_time": "2022-07-12T07:07:09.299Z"
   },
   {
    "duration": 7,
    "start_time": "2022-07-12T07:07:13.106Z"
   },
   {
    "duration": 7,
    "start_time": "2022-07-12T07:08:21.710Z"
   },
   {
    "duration": 10,
    "start_time": "2022-07-12T07:08:23.063Z"
   },
   {
    "duration": 9,
    "start_time": "2022-07-12T07:08:49.224Z"
   },
   {
    "duration": 16,
    "start_time": "2022-07-12T07:08:50.962Z"
   },
   {
    "duration": 6,
    "start_time": "2022-07-12T07:09:55.236Z"
   },
   {
    "duration": 9,
    "start_time": "2022-07-12T07:09:55.768Z"
   },
   {
    "duration": 1365,
    "start_time": "2022-07-12T07:13:16.442Z"
   },
   {
    "duration": 798,
    "start_time": "2022-07-12T07:13:17.809Z"
   },
   {
    "duration": 640,
    "start_time": "2022-07-12T07:13:18.610Z"
   },
   {
    "duration": 146,
    "start_time": "2022-07-12T07:13:19.255Z"
   },
   {
    "duration": 6,
    "start_time": "2022-07-12T07:13:19.402Z"
   },
   {
    "duration": 37,
    "start_time": "2022-07-12T07:13:19.410Z"
   },
   {
    "duration": 13,
    "start_time": "2022-07-12T07:13:19.449Z"
   },
   {
    "duration": 28,
    "start_time": "2022-07-12T07:13:19.466Z"
   },
   {
    "duration": 10,
    "start_time": "2022-07-12T07:13:19.497Z"
   },
   {
    "duration": 22,
    "start_time": "2022-07-12T07:13:19.512Z"
   },
   {
    "duration": 33,
    "start_time": "2022-07-12T07:13:19.536Z"
   },
   {
    "duration": 8,
    "start_time": "2022-07-12T07:13:19.571Z"
   },
   {
    "duration": 13,
    "start_time": "2022-07-12T07:13:19.581Z"
   },
   {
    "duration": 14,
    "start_time": "2022-07-12T07:13:19.597Z"
   },
   {
    "duration": 17,
    "start_time": "2022-07-12T07:13:19.613Z"
   },
   {
    "duration": 27,
    "start_time": "2022-07-12T07:13:19.633Z"
   },
   {
    "duration": 52,
    "start_time": "2022-07-12T07:13:19.665Z"
   },
   {
    "duration": 12,
    "start_time": "2022-07-12T07:13:19.719Z"
   },
   {
    "duration": 23,
    "start_time": "2022-07-12T07:13:19.733Z"
   },
   {
    "duration": 178,
    "start_time": "2022-07-12T07:13:19.758Z"
   },
   {
    "duration": 18,
    "start_time": "2022-07-12T07:13:19.938Z"
   },
   {
    "duration": 51,
    "start_time": "2022-07-12T07:13:19.958Z"
   },
   {
    "duration": 12,
    "start_time": "2022-07-12T07:13:20.011Z"
   },
   {
    "duration": 122,
    "start_time": "2022-07-12T07:13:20.025Z"
   },
   {
    "duration": 37,
    "start_time": "2022-07-12T07:13:20.148Z"
   },
   {
    "duration": 473,
    "start_time": "2022-07-12T07:13:20.187Z"
   },
   {
    "duration": 385,
    "start_time": "2022-07-12T07:13:20.662Z"
   },
   {
    "duration": 293,
    "start_time": "2022-07-12T07:13:21.055Z"
   },
   {
    "duration": 21,
    "start_time": "2022-07-12T07:13:21.351Z"
   },
   {
    "duration": 20,
    "start_time": "2022-07-12T07:13:21.374Z"
   },
   {
    "duration": 189,
    "start_time": "2022-07-12T07:13:21.395Z"
   },
   {
    "duration": 17,
    "start_time": "2022-07-12T07:13:21.586Z"
   },
   {
    "duration": 16,
    "start_time": "2022-07-12T07:13:21.605Z"
   },
   {
    "duration": 47,
    "start_time": "2022-07-12T07:13:21.622Z"
   },
   {
    "duration": 12,
    "start_time": "2022-07-12T07:13:21.670Z"
   },
   {
    "duration": 62,
    "start_time": "2022-07-12T07:13:21.684Z"
   },
   {
    "duration": 24,
    "start_time": "2022-07-12T07:13:21.747Z"
   },
   {
    "duration": 20,
    "start_time": "2022-07-12T07:13:21.772Z"
   },
   {
    "duration": 9,
    "start_time": "2022-07-12T07:13:21.793Z"
   },
   {
    "duration": 14,
    "start_time": "2022-07-12T07:13:21.804Z"
   },
   {
    "duration": 32,
    "start_time": "2022-07-12T07:13:21.819Z"
   },
   {
    "duration": 34,
    "start_time": "2022-07-12T07:13:21.855Z"
   },
   {
    "duration": 10,
    "start_time": "2022-07-12T07:13:21.891Z"
   },
   {
    "duration": 7,
    "start_time": "2022-07-12T07:13:21.902Z"
   },
   {
    "duration": 10,
    "start_time": "2022-07-12T07:13:21.910Z"
   },
   {
    "duration": 29,
    "start_time": "2022-07-12T07:13:21.922Z"
   },
   {
    "duration": 5,
    "start_time": "2022-07-12T07:16:51.410Z"
   },
   {
    "duration": 8,
    "start_time": "2022-07-12T07:16:51.809Z"
   },
   {
    "duration": 6,
    "start_time": "2022-07-12T07:16:59.302Z"
   },
   {
    "duration": 12,
    "start_time": "2022-07-12T07:16:59.639Z"
   },
   {
    "duration": 1595,
    "start_time": "2022-07-12T11:32:19.908Z"
   },
   {
    "duration": 1110,
    "start_time": "2022-07-12T11:32:21.506Z"
   },
   {
    "duration": 638,
    "start_time": "2022-07-12T11:32:22.618Z"
   },
   {
    "duration": 152,
    "start_time": "2022-07-12T11:32:23.258Z"
   },
   {
    "duration": 16,
    "start_time": "2022-07-12T11:32:23.411Z"
   },
   {
    "duration": 35,
    "start_time": "2022-07-12T11:32:23.429Z"
   },
   {
    "duration": 9,
    "start_time": "2022-07-12T11:32:23.466Z"
   },
   {
    "duration": 17,
    "start_time": "2022-07-12T11:32:23.477Z"
   },
   {
    "duration": 14,
    "start_time": "2022-07-12T11:32:23.496Z"
   },
   {
    "duration": 24,
    "start_time": "2022-07-12T11:32:23.513Z"
   },
   {
    "duration": 55,
    "start_time": "2022-07-12T11:32:23.540Z"
   },
   {
    "duration": 5,
    "start_time": "2022-07-12T11:32:23.596Z"
   },
   {
    "duration": 9,
    "start_time": "2022-07-12T11:32:23.602Z"
   },
   {
    "duration": 23,
    "start_time": "2022-07-12T11:32:23.613Z"
   },
   {
    "duration": 20,
    "start_time": "2022-07-12T11:32:23.637Z"
   },
   {
    "duration": 21,
    "start_time": "2022-07-12T11:32:23.660Z"
   },
   {
    "duration": 60,
    "start_time": "2022-07-12T11:32:23.683Z"
   },
   {
    "duration": 18,
    "start_time": "2022-07-12T11:32:23.745Z"
   },
   {
    "duration": 20,
    "start_time": "2022-07-12T11:32:23.766Z"
   },
   {
    "duration": 186,
    "start_time": "2022-07-12T11:32:23.788Z"
   },
   {
    "duration": 15,
    "start_time": "2022-07-12T11:32:23.976Z"
   },
   {
    "duration": 71,
    "start_time": "2022-07-12T11:32:23.993Z"
   },
   {
    "duration": 12,
    "start_time": "2022-07-12T11:32:24.068Z"
   },
   {
    "duration": 133,
    "start_time": "2022-07-12T11:32:24.083Z"
   },
   {
    "duration": 53,
    "start_time": "2022-07-12T11:32:24.218Z"
   },
   {
    "duration": 470,
    "start_time": "2022-07-12T11:32:24.273Z"
   },
   {
    "duration": 475,
    "start_time": "2022-07-12T11:32:24.745Z"
   },
   {
    "duration": 351,
    "start_time": "2022-07-12T11:32:25.227Z"
   },
   {
    "duration": 15,
    "start_time": "2022-07-12T11:32:25.580Z"
   },
   {
    "duration": 38,
    "start_time": "2022-07-12T11:32:25.597Z"
   },
   {
    "duration": 202,
    "start_time": "2022-07-12T11:32:25.641Z"
   },
   {
    "duration": 19,
    "start_time": "2022-07-12T11:32:25.848Z"
   },
   {
    "duration": 58,
    "start_time": "2022-07-12T11:32:25.869Z"
   },
   {
    "duration": 27,
    "start_time": "2022-07-12T11:32:25.929Z"
   },
   {
    "duration": 13,
    "start_time": "2022-07-12T11:32:25.958Z"
   },
   {
    "duration": 43,
    "start_time": "2022-07-12T11:32:26.023Z"
   },
   {
    "duration": 21,
    "start_time": "2022-07-12T11:32:26.068Z"
   },
   {
    "duration": 42,
    "start_time": "2022-07-12T11:32:26.091Z"
   },
   {
    "duration": 10,
    "start_time": "2022-07-12T11:32:26.135Z"
   },
   {
    "duration": 21,
    "start_time": "2022-07-12T11:32:26.150Z"
   },
   {
    "duration": 22,
    "start_time": "2022-07-12T11:32:26.173Z"
   },
   {
    "duration": 54,
    "start_time": "2022-07-12T11:32:26.197Z"
   },
   {
    "duration": 13,
    "start_time": "2022-07-12T11:32:26.253Z"
   },
   {
    "duration": 18,
    "start_time": "2022-07-12T11:32:26.268Z"
   },
   {
    "duration": 11,
    "start_time": "2022-07-12T11:32:26.288Z"
   },
   {
    "duration": 41,
    "start_time": "2022-07-12T11:32:26.300Z"
   },
   {
    "duration": 80,
    "start_time": "2022-07-12T11:34:00.816Z"
   },
   {
    "duration": 7,
    "start_time": "2022-07-12T11:34:15.968Z"
   },
   {
    "duration": 11,
    "start_time": "2022-07-12T11:34:16.990Z"
   },
   {
    "duration": 148,
    "start_time": "2022-07-12T11:37:00.739Z"
   },
   {
    "duration": 17,
    "start_time": "2022-07-12T11:37:12.822Z"
   },
   {
    "duration": 6,
    "start_time": "2022-07-12T11:37:17.218Z"
   },
   {
    "duration": 46,
    "start_time": "2022-07-12T11:37:31.875Z"
   },
   {
    "duration": 8,
    "start_time": "2022-07-12T11:37:34.770Z"
   },
   {
    "duration": 5,
    "start_time": "2022-07-12T11:37:38.242Z"
   },
   {
    "duration": 5,
    "start_time": "2022-07-12T11:38:13.839Z"
   },
   {
    "duration": 7,
    "start_time": "2022-07-12T11:38:28.951Z"
   },
   {
    "duration": 12,
    "start_time": "2022-07-12T11:38:30.039Z"
   },
   {
    "duration": 6,
    "start_time": "2022-07-12T11:38:36.104Z"
   },
   {
    "duration": 9,
    "start_time": "2022-07-12T11:39:47.283Z"
   },
   {
    "duration": 4,
    "start_time": "2022-07-12T11:40:07.683Z"
   },
   {
    "duration": 3,
    "start_time": "2022-07-12T11:40:12.619Z"
   },
   {
    "duration": 5,
    "start_time": "2022-07-12T11:40:17.731Z"
   },
   {
    "duration": 7,
    "start_time": "2022-07-12T11:42:14.241Z"
   },
   {
    "duration": 12,
    "start_time": "2022-07-12T11:42:14.836Z"
   },
   {
    "duration": 17,
    "start_time": "2022-07-12T11:50:47.275Z"
   },
   {
    "duration": 9,
    "start_time": "2022-07-12T11:52:22.294Z"
   },
   {
    "duration": 10,
    "start_time": "2022-07-12T11:52:26.941Z"
   },
   {
    "duration": 12,
    "start_time": "2022-07-12T11:52:32.241Z"
   },
   {
    "duration": 13,
    "start_time": "2022-07-12T11:52:43.747Z"
   },
   {
    "duration": 11,
    "start_time": "2022-07-12T11:52:54.945Z"
   },
   {
    "duration": 15,
    "start_time": "2022-07-12T11:53:15.613Z"
   },
   {
    "duration": 14,
    "start_time": "2022-07-12T11:57:26.805Z"
   },
   {
    "duration": 9,
    "start_time": "2022-07-12T12:01:50.103Z"
   },
   {
    "duration": 768,
    "start_time": "2022-07-12T12:02:08.639Z"
   },
   {
    "duration": 454,
    "start_time": "2022-07-12T12:02:20.050Z"
   },
   {
    "duration": 471,
    "start_time": "2022-07-12T12:02:28.498Z"
   },
   {
    "duration": 463,
    "start_time": "2022-07-12T12:02:32.897Z"
   },
   {
    "duration": 449,
    "start_time": "2022-07-12T12:04:17.170Z"
   },
   {
    "duration": 558,
    "start_time": "2022-07-12T12:06:20.578Z"
   },
   {
    "duration": 691,
    "start_time": "2022-07-12T12:06:54.837Z"
   },
   {
    "duration": 409,
    "start_time": "2022-07-12T12:07:54.322Z"
   },
   {
    "duration": 429,
    "start_time": "2022-07-12T12:08:14.059Z"
   },
   {
    "duration": 551,
    "start_time": "2022-07-12T12:08:31.866Z"
   },
   {
    "duration": 467,
    "start_time": "2022-07-12T12:08:38.538Z"
   },
   {
    "duration": 576,
    "start_time": "2022-07-12T12:09:45.199Z"
   },
   {
    "duration": 431,
    "start_time": "2022-07-12T12:10:17.054Z"
   },
   {
    "duration": 398,
    "start_time": "2022-07-12T12:10:33.475Z"
   },
   {
    "duration": 428,
    "start_time": "2022-07-12T12:10:41.231Z"
   },
   {
    "duration": 1346,
    "start_time": "2022-07-12T12:11:07.735Z"
   },
   {
    "duration": 715,
    "start_time": "2022-07-12T12:11:09.084Z"
   },
   {
    "duration": 574,
    "start_time": "2022-07-12T12:11:09.801Z"
   },
   {
    "duration": 157,
    "start_time": "2022-07-12T12:11:10.378Z"
   },
   {
    "duration": 7,
    "start_time": "2022-07-12T12:11:10.538Z"
   },
   {
    "duration": 23,
    "start_time": "2022-07-12T12:11:10.547Z"
   },
   {
    "duration": 7,
    "start_time": "2022-07-12T12:11:10.571Z"
   },
   {
    "duration": 11,
    "start_time": "2022-07-12T12:11:10.579Z"
   },
   {
    "duration": 33,
    "start_time": "2022-07-12T12:11:10.592Z"
   },
   {
    "duration": 13,
    "start_time": "2022-07-12T12:11:10.629Z"
   },
   {
    "duration": 31,
    "start_time": "2022-07-12T12:11:10.645Z"
   },
   {
    "duration": 4,
    "start_time": "2022-07-12T12:11:10.677Z"
   },
   {
    "duration": 5,
    "start_time": "2022-07-12T12:11:10.682Z"
   },
   {
    "duration": 41,
    "start_time": "2022-07-12T12:11:10.689Z"
   },
   {
    "duration": 22,
    "start_time": "2022-07-12T12:11:10.732Z"
   },
   {
    "duration": 22,
    "start_time": "2022-07-12T12:11:10.757Z"
   },
   {
    "duration": 48,
    "start_time": "2022-07-12T12:11:10.781Z"
   },
   {
    "duration": 17,
    "start_time": "2022-07-12T12:11:10.831Z"
   },
   {
    "duration": 21,
    "start_time": "2022-07-12T12:11:10.850Z"
   },
   {
    "duration": 192,
    "start_time": "2022-07-12T12:11:10.873Z"
   },
   {
    "duration": 13,
    "start_time": "2022-07-12T12:11:11.067Z"
   },
   {
    "duration": 61,
    "start_time": "2022-07-12T12:11:11.082Z"
   },
   {
    "duration": 11,
    "start_time": "2022-07-12T12:11:11.145Z"
   },
   {
    "duration": 135,
    "start_time": "2022-07-12T12:11:11.158Z"
   },
   {
    "duration": 38,
    "start_time": "2022-07-12T12:11:11.295Z"
   },
   {
    "duration": 571,
    "start_time": "2022-07-12T12:11:11.335Z"
   },
   {
    "duration": 0,
    "start_time": "2022-07-12T12:11:11.908Z"
   },
   {
    "duration": 0,
    "start_time": "2022-07-12T12:11:11.910Z"
   },
   {
    "duration": 0,
    "start_time": "2022-07-12T12:11:11.911Z"
   },
   {
    "duration": 0,
    "start_time": "2022-07-12T12:11:11.912Z"
   },
   {
    "duration": 0,
    "start_time": "2022-07-12T12:11:11.924Z"
   },
   {
    "duration": 0,
    "start_time": "2022-07-12T12:11:11.926Z"
   },
   {
    "duration": 0,
    "start_time": "2022-07-12T12:11:11.928Z"
   },
   {
    "duration": 0,
    "start_time": "2022-07-12T12:11:11.929Z"
   },
   {
    "duration": 0,
    "start_time": "2022-07-12T12:11:11.932Z"
   },
   {
    "duration": 0,
    "start_time": "2022-07-12T12:11:11.933Z"
   },
   {
    "duration": 0,
    "start_time": "2022-07-12T12:11:11.935Z"
   },
   {
    "duration": 0,
    "start_time": "2022-07-12T12:11:11.936Z"
   },
   {
    "duration": 0,
    "start_time": "2022-07-12T12:11:11.938Z"
   },
   {
    "duration": 0,
    "start_time": "2022-07-12T12:11:11.940Z"
   },
   {
    "duration": 1,
    "start_time": "2022-07-12T12:11:11.941Z"
   },
   {
    "duration": 0,
    "start_time": "2022-07-12T12:11:11.943Z"
   },
   {
    "duration": 0,
    "start_time": "2022-07-12T12:11:11.945Z"
   },
   {
    "duration": 580,
    "start_time": "2022-07-12T12:12:04.359Z"
   },
   {
    "duration": 423,
    "start_time": "2022-07-12T12:12:14.968Z"
   },
   {
    "duration": 1276,
    "start_time": "2022-07-12T12:12:40.755Z"
   },
   {
    "duration": 670,
    "start_time": "2022-07-12T12:12:42.034Z"
   },
   {
    "duration": 588,
    "start_time": "2022-07-12T12:12:42.706Z"
   },
   {
    "duration": 160,
    "start_time": "2022-07-12T12:12:43.297Z"
   },
   {
    "duration": 5,
    "start_time": "2022-07-12T12:12:43.459Z"
   },
   {
    "duration": 18,
    "start_time": "2022-07-12T12:12:43.466Z"
   },
   {
    "duration": 6,
    "start_time": "2022-07-12T12:12:43.485Z"
   },
   {
    "duration": 35,
    "start_time": "2022-07-12T12:12:43.493Z"
   },
   {
    "duration": 6,
    "start_time": "2022-07-12T12:12:43.530Z"
   },
   {
    "duration": 15,
    "start_time": "2022-07-12T12:12:43.539Z"
   },
   {
    "duration": 26,
    "start_time": "2022-07-12T12:12:43.556Z"
   },
   {
    "duration": 4,
    "start_time": "2022-07-12T12:12:43.584Z"
   },
   {
    "duration": 35,
    "start_time": "2022-07-12T12:12:43.590Z"
   },
   {
    "duration": 18,
    "start_time": "2022-07-12T12:12:43.627Z"
   },
   {
    "duration": 16,
    "start_time": "2022-07-12T12:12:43.648Z"
   },
   {
    "duration": 20,
    "start_time": "2022-07-12T12:12:43.666Z"
   },
   {
    "duration": 57,
    "start_time": "2022-07-12T12:12:43.687Z"
   },
   {
    "duration": 16,
    "start_time": "2022-07-12T12:12:43.746Z"
   },
   {
    "duration": 17,
    "start_time": "2022-07-12T12:12:43.764Z"
   },
   {
    "duration": 175,
    "start_time": "2022-07-12T12:12:43.783Z"
   },
   {
    "duration": 11,
    "start_time": "2022-07-12T12:12:43.960Z"
   },
   {
    "duration": 35,
    "start_time": "2022-07-12T12:12:43.973Z"
   },
   {
    "duration": 12,
    "start_time": "2022-07-12T12:12:44.024Z"
   },
   {
    "duration": 134,
    "start_time": "2022-07-12T12:12:44.038Z"
   },
   {
    "duration": 32,
    "start_time": "2022-07-12T12:12:44.174Z"
   },
   {
    "duration": 471,
    "start_time": "2022-07-12T12:12:44.207Z"
   },
   {
    "duration": 16,
    "start_time": "2022-07-12T12:12:44.680Z"
   },
   {
    "duration": 48,
    "start_time": "2022-07-12T12:12:44.701Z"
   },
   {
    "duration": 182,
    "start_time": "2022-07-12T12:12:44.751Z"
   },
   {
    "duration": 18,
    "start_time": "2022-07-12T12:12:44.936Z"
   },
   {
    "duration": 21,
    "start_time": "2022-07-12T12:12:44.956Z"
   },
   {
    "duration": 25,
    "start_time": "2022-07-12T12:12:45.024Z"
   },
   {
    "duration": 13,
    "start_time": "2022-07-12T12:12:45.051Z"
   },
   {
    "duration": 72,
    "start_time": "2022-07-12T12:12:45.066Z"
   },
   {
    "duration": 16,
    "start_time": "2022-07-12T12:12:45.139Z"
   },
   {
    "duration": 18,
    "start_time": "2022-07-12T12:12:45.157Z"
   },
   {
    "duration": 51,
    "start_time": "2022-07-12T12:12:45.177Z"
   },
   {
    "duration": 21,
    "start_time": "2022-07-12T12:12:45.231Z"
   },
   {
    "duration": 18,
    "start_time": "2022-07-12T12:12:45.254Z"
   },
   {
    "duration": 56,
    "start_time": "2022-07-12T12:12:45.274Z"
   },
   {
    "duration": 13,
    "start_time": "2022-07-12T12:12:45.332Z"
   },
   {
    "duration": 10,
    "start_time": "2022-07-12T12:12:45.347Z"
   },
   {
    "duration": 27,
    "start_time": "2022-07-12T12:12:45.359Z"
   },
   {
    "duration": 272,
    "start_time": "2022-07-12T12:14:42.573Z"
   },
   {
    "duration": 18,
    "start_time": "2022-07-12T12:15:03.927Z"
   },
   {
    "duration": 325,
    "start_time": "2022-07-12T12:15:21.638Z"
   },
   {
    "duration": 192,
    "start_time": "2022-07-12T12:15:24.374Z"
   },
   {
    "duration": 116,
    "start_time": "2022-07-12T12:15:29.882Z"
   },
   {
    "duration": 357,
    "start_time": "2022-07-12T12:15:48.233Z"
   },
   {
    "duration": 179,
    "start_time": "2022-07-12T12:15:56.718Z"
   },
   {
    "duration": 180,
    "start_time": "2022-07-12T12:16:06.231Z"
   },
   {
    "duration": 174,
    "start_time": "2022-07-12T12:16:11.156Z"
   },
   {
    "duration": 92,
    "start_time": "2022-07-12T12:16:28.175Z"
   },
   {
    "duration": 18,
    "start_time": "2022-07-12T12:19:40.291Z"
   },
   {
    "duration": 1340,
    "start_time": "2022-07-12T12:20:40.026Z"
   },
   {
    "duration": 680,
    "start_time": "2022-07-12T12:20:41.369Z"
   },
   {
    "duration": 573,
    "start_time": "2022-07-12T12:20:42.051Z"
   },
   {
    "duration": 138,
    "start_time": "2022-07-12T12:20:42.627Z"
   },
   {
    "duration": 5,
    "start_time": "2022-07-12T12:20:42.767Z"
   },
   {
    "duration": 18,
    "start_time": "2022-07-12T12:20:42.774Z"
   },
   {
    "duration": 6,
    "start_time": "2022-07-12T12:20:42.794Z"
   },
   {
    "duration": 13,
    "start_time": "2022-07-12T12:20:42.824Z"
   },
   {
    "duration": 6,
    "start_time": "2022-07-12T12:20:42.839Z"
   },
   {
    "duration": 13,
    "start_time": "2022-07-12T12:20:42.849Z"
   },
   {
    "duration": 25,
    "start_time": "2022-07-12T12:20:42.864Z"
   },
   {
    "duration": 4,
    "start_time": "2022-07-12T12:20:42.891Z"
   },
   {
    "duration": 3,
    "start_time": "2022-07-12T12:20:42.925Z"
   },
   {
    "duration": 15,
    "start_time": "2022-07-12T12:20:42.930Z"
   },
   {
    "duration": 17,
    "start_time": "2022-07-12T12:20:42.947Z"
   },
   {
    "duration": 34,
    "start_time": "2022-07-12T12:20:42.966Z"
   },
   {
    "duration": 51,
    "start_time": "2022-07-12T12:20:43.002Z"
   },
   {
    "duration": 15,
    "start_time": "2022-07-12T12:20:43.055Z"
   },
   {
    "duration": 16,
    "start_time": "2022-07-12T12:20:43.072Z"
   },
   {
    "duration": 174,
    "start_time": "2022-07-12T12:20:43.089Z"
   },
   {
    "duration": 11,
    "start_time": "2022-07-12T12:20:43.265Z"
   },
   {
    "duration": 55,
    "start_time": "2022-07-12T12:20:43.278Z"
   },
   {
    "duration": 10,
    "start_time": "2022-07-12T12:20:43.335Z"
   },
   {
    "duration": 135,
    "start_time": "2022-07-12T12:20:43.347Z"
   },
   {
    "duration": 27,
    "start_time": "2022-07-12T12:20:43.484Z"
   },
   {
    "duration": 468,
    "start_time": "2022-07-12T12:20:43.523Z"
   },
   {
    "duration": 14,
    "start_time": "2022-07-12T12:20:43.993Z"
   },
   {
    "duration": 39,
    "start_time": "2022-07-12T12:20:44.010Z"
   },
   {
    "duration": 176,
    "start_time": "2022-07-12T12:20:44.051Z"
   },
   {
    "duration": 20,
    "start_time": "2022-07-12T12:20:44.229Z"
   },
   {
    "duration": 73,
    "start_time": "2022-07-12T12:20:44.252Z"
   },
   {
    "duration": 43,
    "start_time": "2022-07-12T12:20:44.328Z"
   },
   {
    "duration": 55,
    "start_time": "2022-07-12T12:20:44.373Z"
   },
   {
    "duration": 18,
    "start_time": "2022-07-12T12:20:44.431Z"
   },
   {
    "duration": 17,
    "start_time": "2022-07-12T12:20:44.451Z"
   },
   {
    "duration": 15,
    "start_time": "2022-07-12T12:20:44.470Z"
   },
   {
    "duration": 36,
    "start_time": "2022-07-12T12:20:44.487Z"
   },
   {
    "duration": 22,
    "start_time": "2022-07-12T12:20:44.525Z"
   },
   {
    "duration": 24,
    "start_time": "2022-07-12T12:20:44.549Z"
   },
   {
    "duration": 26,
    "start_time": "2022-07-12T12:20:44.575Z"
   },
   {
    "duration": 30,
    "start_time": "2022-07-12T12:20:44.603Z"
   },
   {
    "duration": 9,
    "start_time": "2022-07-12T12:20:44.636Z"
   },
   {
    "duration": 15,
    "start_time": "2022-07-12T12:20:44.647Z"
   },
   {
    "duration": 17,
    "start_time": "2022-07-12T12:24:05.960Z"
   },
   {
    "duration": 18,
    "start_time": "2022-07-12T12:24:14.709Z"
   },
   {
    "duration": 1312,
    "start_time": "2022-07-12T12:24:31.422Z"
   },
   {
    "duration": 650,
    "start_time": "2022-07-12T12:24:32.736Z"
   },
   {
    "duration": 563,
    "start_time": "2022-07-12T12:24:33.388Z"
   },
   {
    "duration": 146,
    "start_time": "2022-07-12T12:24:33.954Z"
   },
   {
    "duration": 5,
    "start_time": "2022-07-12T12:24:34.102Z"
   },
   {
    "duration": 33,
    "start_time": "2022-07-12T12:24:34.109Z"
   },
   {
    "duration": 11,
    "start_time": "2022-07-12T12:24:34.145Z"
   },
   {
    "duration": 17,
    "start_time": "2022-07-12T12:24:34.158Z"
   },
   {
    "duration": 5,
    "start_time": "2022-07-12T12:24:34.176Z"
   },
   {
    "duration": 11,
    "start_time": "2022-07-12T12:24:34.184Z"
   },
   {
    "duration": 53,
    "start_time": "2022-07-12T12:24:34.197Z"
   },
   {
    "duration": 4,
    "start_time": "2022-07-12T12:24:34.253Z"
   },
   {
    "duration": 3,
    "start_time": "2022-07-12T12:24:34.259Z"
   },
   {
    "duration": 12,
    "start_time": "2022-07-12T12:24:34.264Z"
   },
   {
    "duration": 46,
    "start_time": "2022-07-12T12:24:34.279Z"
   },
   {
    "duration": 21,
    "start_time": "2022-07-12T12:24:34.327Z"
   },
   {
    "duration": 31,
    "start_time": "2022-07-12T12:24:34.351Z"
   },
   {
    "duration": 13,
    "start_time": "2022-07-12T12:24:34.384Z"
   },
   {
    "duration": 42,
    "start_time": "2022-07-12T12:24:34.398Z"
   },
   {
    "duration": 174,
    "start_time": "2022-07-12T12:24:34.442Z"
   },
   {
    "duration": 12,
    "start_time": "2022-07-12T12:24:34.618Z"
   },
   {
    "duration": 45,
    "start_time": "2022-07-12T12:24:34.632Z"
   },
   {
    "duration": 9,
    "start_time": "2022-07-12T12:24:34.679Z"
   },
   {
    "duration": 144,
    "start_time": "2022-07-12T12:24:34.689Z"
   },
   {
    "duration": 35,
    "start_time": "2022-07-12T12:24:34.835Z"
   },
   {
    "duration": 469,
    "start_time": "2022-07-12T12:24:34.872Z"
   },
   {
    "duration": 19,
    "start_time": "2022-07-12T12:24:35.343Z"
   },
   {
    "duration": 28,
    "start_time": "2022-07-12T12:24:35.365Z"
   },
   {
    "duration": 178,
    "start_time": "2022-07-12T12:24:35.395Z"
   },
   {
    "duration": 15,
    "start_time": "2022-07-12T12:24:35.575Z"
   },
   {
    "duration": 44,
    "start_time": "2022-07-12T12:24:35.592Z"
   },
   {
    "duration": 49,
    "start_time": "2022-07-12T12:24:35.638Z"
   },
   {
    "duration": 46,
    "start_time": "2022-07-12T12:24:35.688Z"
   },
   {
    "duration": 26,
    "start_time": "2022-07-12T12:24:35.736Z"
   },
   {
    "duration": 27,
    "start_time": "2022-07-12T12:24:35.763Z"
   },
   {
    "duration": 23,
    "start_time": "2022-07-12T12:24:35.791Z"
   },
   {
    "duration": 12,
    "start_time": "2022-07-12T12:24:35.816Z"
   },
   {
    "duration": 38,
    "start_time": "2022-07-12T12:24:35.830Z"
   },
   {
    "duration": 25,
    "start_time": "2022-07-12T12:24:35.869Z"
   },
   {
    "duration": 53,
    "start_time": "2022-07-12T12:24:35.896Z"
   },
   {
    "duration": 15,
    "start_time": "2022-07-12T12:24:35.952Z"
   },
   {
    "duration": 29,
    "start_time": "2022-07-12T12:24:35.970Z"
   },
   {
    "duration": 25,
    "start_time": "2022-07-12T12:24:36.001Z"
   },
   {
    "duration": 9,
    "start_time": "2022-07-12T12:26:28.873Z"
   },
   {
    "duration": 127,
    "start_time": "2022-07-12T12:32:56.234Z"
   },
   {
    "duration": 13,
    "start_time": "2022-07-12T12:33:02.806Z"
   },
   {
    "duration": 307,
    "start_time": "2022-07-12T12:33:09.076Z"
   },
   {
    "duration": 157,
    "start_time": "2022-07-12T12:33:30.379Z"
   },
   {
    "duration": 161,
    "start_time": "2022-07-12T12:33:46.859Z"
   },
   {
    "duration": 227,
    "start_time": "2022-07-12T12:33:59.821Z"
   },
   {
    "duration": 9,
    "start_time": "2022-07-12T12:34:58.694Z"
   },
   {
    "duration": 545,
    "start_time": "2022-07-12T12:36:22.128Z"
   },
   {
    "duration": 24,
    "start_time": "2022-07-12T12:51:28.416Z"
   },
   {
    "duration": 32,
    "start_time": "2022-07-12T12:51:33.237Z"
   },
   {
    "duration": 27,
    "start_time": "2022-07-12T12:51:44.325Z"
   },
   {
    "duration": 9,
    "start_time": "2022-07-12T12:51:51.961Z"
   },
   {
    "duration": 1097,
    "start_time": "2022-07-12T12:52:11.771Z"
   },
   {
    "duration": 25,
    "start_time": "2022-07-12T12:52:37.942Z"
   },
   {
    "duration": 1281,
    "start_time": "2022-07-12T12:53:24.040Z"
   },
   {
    "duration": 658,
    "start_time": "2022-07-12T12:53:25.324Z"
   },
   {
    "duration": 593,
    "start_time": "2022-07-12T12:53:25.984Z"
   },
   {
    "duration": 150,
    "start_time": "2022-07-12T12:53:26.579Z"
   },
   {
    "duration": 8,
    "start_time": "2022-07-12T12:53:26.731Z"
   },
   {
    "duration": 24,
    "start_time": "2022-07-12T12:53:26.741Z"
   },
   {
    "duration": 7,
    "start_time": "2022-07-12T12:53:26.767Z"
   },
   {
    "duration": 11,
    "start_time": "2022-07-12T12:53:26.775Z"
   },
   {
    "duration": 5,
    "start_time": "2022-07-12T12:53:26.787Z"
   },
   {
    "duration": 12,
    "start_time": "2022-07-12T12:53:26.825Z"
   },
   {
    "duration": 31,
    "start_time": "2022-07-12T12:53:26.840Z"
   },
   {
    "duration": 4,
    "start_time": "2022-07-12T12:53:26.873Z"
   },
   {
    "duration": 45,
    "start_time": "2022-07-12T12:53:26.879Z"
   },
   {
    "duration": 22,
    "start_time": "2022-07-12T12:53:26.926Z"
   },
   {
    "duration": 29,
    "start_time": "2022-07-12T12:53:26.951Z"
   },
   {
    "duration": 28,
    "start_time": "2022-07-12T12:53:26.982Z"
   },
   {
    "duration": 26,
    "start_time": "2022-07-12T12:53:27.012Z"
   },
   {
    "duration": 19,
    "start_time": "2022-07-12T12:53:27.040Z"
   },
   {
    "duration": 189,
    "start_time": "2022-07-12T12:53:27.061Z"
   },
   {
    "duration": 12,
    "start_time": "2022-07-12T12:53:27.252Z"
   },
   {
    "duration": 49,
    "start_time": "2022-07-12T12:53:27.265Z"
   },
   {
    "duration": 19,
    "start_time": "2022-07-12T12:53:27.315Z"
   },
   {
    "duration": 133,
    "start_time": "2022-07-12T12:53:27.336Z"
   },
   {
    "duration": 28,
    "start_time": "2022-07-12T12:53:27.471Z"
   },
   {
    "duration": 484,
    "start_time": "2022-07-12T12:53:27.500Z"
   },
   {
    "duration": 15,
    "start_time": "2022-07-12T12:53:27.987Z"
   },
   {
    "duration": 44,
    "start_time": "2022-07-12T12:53:28.004Z"
   },
   {
    "duration": 192,
    "start_time": "2022-07-12T12:53:28.053Z"
   },
   {
    "duration": 20,
    "start_time": "2022-07-12T12:53:28.247Z"
   },
   {
    "duration": 18,
    "start_time": "2022-07-12T12:53:28.269Z"
   },
   {
    "duration": 57,
    "start_time": "2022-07-12T12:53:28.289Z"
   },
   {
    "duration": 14,
    "start_time": "2022-07-12T12:53:28.349Z"
   },
   {
    "duration": 76,
    "start_time": "2022-07-12T12:53:28.365Z"
   },
   {
    "duration": 24,
    "start_time": "2022-07-12T12:53:28.443Z"
   },
   {
    "duration": 26,
    "start_time": "2022-07-12T12:53:28.469Z"
   },
   {
    "duration": 32,
    "start_time": "2022-07-12T12:53:28.496Z"
   },
   {
    "duration": 28,
    "start_time": "2022-07-12T12:53:28.530Z"
   },
   {
    "duration": 28,
    "start_time": "2022-07-12T12:53:28.560Z"
   },
   {
    "duration": 40,
    "start_time": "2022-07-12T12:53:28.590Z"
   },
   {
    "duration": 13,
    "start_time": "2022-07-12T12:53:28.632Z"
   },
   {
    "duration": 13,
    "start_time": "2022-07-12T12:53:28.647Z"
   },
   {
    "duration": 37,
    "start_time": "2022-07-12T12:53:28.663Z"
   },
   {
    "duration": 1240,
    "start_time": "2022-07-12T16:06:11.580Z"
   },
   {
    "duration": 856,
    "start_time": "2022-07-12T16:06:12.822Z"
   },
   {
    "duration": 469,
    "start_time": "2022-07-12T16:06:13.680Z"
   },
   {
    "duration": 119,
    "start_time": "2022-07-12T16:06:14.151Z"
   },
   {
    "duration": 6,
    "start_time": "2022-07-12T16:06:14.272Z"
   },
   {
    "duration": 18,
    "start_time": "2022-07-12T16:06:14.279Z"
   },
   {
    "duration": 6,
    "start_time": "2022-07-12T16:06:14.299Z"
   },
   {
    "duration": 10,
    "start_time": "2022-07-12T16:06:14.306Z"
   },
   {
    "duration": 26,
    "start_time": "2022-07-12T16:06:14.317Z"
   },
   {
    "duration": 11,
    "start_time": "2022-07-12T16:06:14.346Z"
   },
   {
    "duration": 38,
    "start_time": "2022-07-12T16:06:14.358Z"
   },
   {
    "duration": 4,
    "start_time": "2022-07-12T16:06:14.398Z"
   },
   {
    "duration": 30,
    "start_time": "2022-07-12T16:06:14.404Z"
   },
   {
    "duration": 11,
    "start_time": "2022-07-12T16:06:14.442Z"
   },
   {
    "duration": 28,
    "start_time": "2022-07-12T16:06:14.455Z"
   },
   {
    "duration": 28,
    "start_time": "2022-07-12T16:06:14.485Z"
   },
   {
    "duration": 28,
    "start_time": "2022-07-12T16:06:14.515Z"
   },
   {
    "duration": 15,
    "start_time": "2022-07-12T16:06:14.545Z"
   },
   {
    "duration": 162,
    "start_time": "2022-07-12T16:06:14.562Z"
   },
   {
    "duration": 19,
    "start_time": "2022-07-12T16:06:14.725Z"
   },
   {
    "duration": 34,
    "start_time": "2022-07-12T16:06:14.745Z"
   },
   {
    "duration": 9,
    "start_time": "2022-07-12T16:06:14.780Z"
   },
   {
    "duration": 110,
    "start_time": "2022-07-12T16:06:14.790Z"
   },
   {
    "duration": 26,
    "start_time": "2022-07-12T16:06:14.901Z"
   },
   {
    "duration": 382,
    "start_time": "2022-07-12T16:06:14.928Z"
   },
   {
    "duration": 12,
    "start_time": "2022-07-12T16:06:15.311Z"
   },
   {
    "duration": 31,
    "start_time": "2022-07-12T16:06:15.325Z"
   },
   {
    "duration": 159,
    "start_time": "2022-07-12T16:06:15.359Z"
   },
   {
    "duration": 13,
    "start_time": "2022-07-12T16:06:15.520Z"
   },
   {
    "duration": 22,
    "start_time": "2022-07-12T16:06:15.535Z"
   },
   {
    "duration": 22,
    "start_time": "2022-07-12T16:06:15.558Z"
   },
   {
    "duration": 65,
    "start_time": "2022-07-12T16:06:15.581Z"
   },
   {
    "duration": 22,
    "start_time": "2022-07-12T16:06:15.647Z"
   },
   {
    "duration": 12,
    "start_time": "2022-07-12T16:06:15.671Z"
   },
   {
    "duration": 14,
    "start_time": "2022-07-12T16:06:15.684Z"
   },
   {
    "duration": 8,
    "start_time": "2022-07-12T16:06:15.700Z"
   },
   {
    "duration": 40,
    "start_time": "2022-07-12T16:06:15.710Z"
   },
   {
    "duration": 16,
    "start_time": "2022-07-12T16:06:15.752Z"
   },
   {
    "duration": 26,
    "start_time": "2022-07-12T16:06:15.769Z"
   },
   {
    "duration": 9,
    "start_time": "2022-07-12T16:06:15.797Z"
   },
   {
    "duration": 5,
    "start_time": "2022-07-12T16:06:15.807Z"
   },
   {
    "duration": 33,
    "start_time": "2022-07-12T16:06:15.814Z"
   },
   {
    "duration": 11,
    "start_time": "2022-07-12T16:13:39.310Z"
   },
   {
    "duration": 92,
    "start_time": "2022-07-12T16:17:19.897Z"
   },
   {
    "duration": 10,
    "start_time": "2022-07-12T16:17:30.747Z"
   },
   {
    "duration": 15,
    "start_time": "2022-07-12T16:18:02.870Z"
   },
   {
    "duration": 10,
    "start_time": "2022-07-12T16:19:09.890Z"
   },
   {
    "duration": 1098,
    "start_time": "2022-07-12T16:19:44.458Z"
   },
   {
    "duration": 556,
    "start_time": "2022-07-12T16:19:45.558Z"
   },
   {
    "duration": 514,
    "start_time": "2022-07-12T16:19:46.116Z"
   },
   {
    "duration": 130,
    "start_time": "2022-07-12T16:19:46.643Z"
   },
   {
    "duration": 7,
    "start_time": "2022-07-12T16:19:46.776Z"
   },
   {
    "duration": 27,
    "start_time": "2022-07-12T16:19:46.785Z"
   },
   {
    "duration": 6,
    "start_time": "2022-07-12T16:19:46.814Z"
   },
   {
    "duration": 39,
    "start_time": "2022-07-12T16:19:46.823Z"
   },
   {
    "duration": 5,
    "start_time": "2022-07-12T16:19:46.865Z"
   },
   {
    "duration": 13,
    "start_time": "2022-07-12T16:19:46.873Z"
   },
   {
    "duration": 36,
    "start_time": "2022-07-12T16:19:46.887Z"
   },
   {
    "duration": 27,
    "start_time": "2022-07-12T16:19:46.925Z"
   },
   {
    "duration": 31,
    "start_time": "2022-07-12T16:19:46.954Z"
   },
   {
    "duration": 19,
    "start_time": "2022-07-12T16:19:46.987Z"
   },
   {
    "duration": 20,
    "start_time": "2022-07-12T16:19:47.008Z"
   },
   {
    "duration": 32,
    "start_time": "2022-07-12T16:19:47.030Z"
   },
   {
    "duration": 15,
    "start_time": "2022-07-12T16:19:47.064Z"
   },
   {
    "duration": 17,
    "start_time": "2022-07-12T16:19:47.082Z"
   },
   {
    "duration": 158,
    "start_time": "2022-07-12T16:19:47.101Z"
   },
   {
    "duration": 12,
    "start_time": "2022-07-12T16:19:47.263Z"
   },
   {
    "duration": 53,
    "start_time": "2022-07-12T16:19:47.277Z"
   },
   {
    "duration": 22,
    "start_time": "2022-07-12T16:19:47.333Z"
   },
   {
    "duration": 99,
    "start_time": "2022-07-12T16:19:47.361Z"
   },
   {
    "duration": 33,
    "start_time": "2022-07-12T16:19:47.462Z"
   },
   {
    "duration": 433,
    "start_time": "2022-07-12T16:19:47.497Z"
   },
   {
    "duration": 21,
    "start_time": "2022-07-12T16:19:47.932Z"
   },
   {
    "duration": 35,
    "start_time": "2022-07-12T16:19:47.954Z"
   },
   {
    "duration": 166,
    "start_time": "2022-07-12T16:19:47.992Z"
   },
   {
    "duration": 14,
    "start_time": "2022-07-12T16:19:48.160Z"
   },
   {
    "duration": 22,
    "start_time": "2022-07-12T16:19:48.175Z"
   },
   {
    "duration": 61,
    "start_time": "2022-07-12T16:19:48.199Z"
   },
   {
    "duration": 17,
    "start_time": "2022-07-12T16:19:48.264Z"
   },
   {
    "duration": 17,
    "start_time": "2022-07-12T16:19:48.283Z"
   },
   {
    "duration": 14,
    "start_time": "2022-07-12T16:19:48.344Z"
   },
   {
    "duration": 31,
    "start_time": "2022-07-12T16:19:48.359Z"
   },
   {
    "duration": 10,
    "start_time": "2022-07-12T16:19:48.393Z"
   },
   {
    "duration": 20,
    "start_time": "2022-07-12T16:19:48.405Z"
   },
   {
    "duration": 34,
    "start_time": "2022-07-12T16:19:48.427Z"
   },
   {
    "duration": 25,
    "start_time": "2022-07-12T16:19:48.464Z"
   },
   {
    "duration": 12,
    "start_time": "2022-07-12T16:19:48.491Z"
   },
   {
    "duration": 6,
    "start_time": "2022-07-12T16:19:48.505Z"
   },
   {
    "duration": 38,
    "start_time": "2022-07-12T16:19:48.512Z"
   },
   {
    "duration": 23,
    "start_time": "2022-07-12T16:22:08.844Z"
   },
   {
    "duration": 10,
    "start_time": "2022-07-12T16:22:38.167Z"
   },
   {
    "duration": 1275,
    "start_time": "2022-07-12T16:22:47.094Z"
   },
   {
    "duration": 14,
    "start_time": "2022-07-12T16:23:36.507Z"
   },
   {
    "duration": 15,
    "start_time": "2022-07-12T16:23:46.863Z"
   },
   {
    "duration": 20,
    "start_time": "2022-07-12T16:24:09.102Z"
   },
   {
    "duration": 13,
    "start_time": "2022-07-12T16:24:17.372Z"
   },
   {
    "duration": 13,
    "start_time": "2022-07-12T16:25:29.205Z"
   },
   {
    "duration": 16,
    "start_time": "2022-07-12T16:25:42.212Z"
   },
   {
    "duration": 9,
    "start_time": "2022-07-12T16:25:44.766Z"
   },
   {
    "duration": 10,
    "start_time": "2022-07-12T16:26:00.911Z"
   },
   {
    "duration": 1099,
    "start_time": "2022-07-12T16:26:12.158Z"
   },
   {
    "duration": 19,
    "start_time": "2022-07-12T16:26:29.457Z"
   },
   {
    "duration": 1255,
    "start_time": "2022-07-12T16:26:42.858Z"
   },
   {
    "duration": 1075,
    "start_time": "2022-07-12T16:26:52.096Z"
   },
   {
    "duration": 526,
    "start_time": "2022-07-12T16:26:53.173Z"
   },
   {
    "duration": 488,
    "start_time": "2022-07-12T16:26:53.701Z"
   },
   {
    "duration": 124,
    "start_time": "2022-07-12T16:26:54.191Z"
   },
   {
    "duration": 5,
    "start_time": "2022-07-12T16:26:54.317Z"
   },
   {
    "duration": 36,
    "start_time": "2022-07-12T16:26:54.324Z"
   },
   {
    "duration": 7,
    "start_time": "2022-07-12T16:26:54.362Z"
   },
   {
    "duration": 18,
    "start_time": "2022-07-12T16:26:54.370Z"
   },
   {
    "duration": 28,
    "start_time": "2022-07-12T16:26:54.389Z"
   },
   {
    "duration": 15,
    "start_time": "2022-07-12T16:26:54.420Z"
   },
   {
    "duration": 32,
    "start_time": "2022-07-12T16:26:54.437Z"
   },
   {
    "duration": 6,
    "start_time": "2022-07-12T16:26:54.471Z"
   },
   {
    "duration": 23,
    "start_time": "2022-07-12T16:26:54.479Z"
   },
   {
    "duration": 20,
    "start_time": "2022-07-12T16:26:54.503Z"
   },
   {
    "duration": 29,
    "start_time": "2022-07-12T16:26:54.525Z"
   },
   {
    "duration": 35,
    "start_time": "2022-07-12T16:26:54.559Z"
   },
   {
    "duration": 16,
    "start_time": "2022-07-12T16:26:54.597Z"
   },
   {
    "duration": 14,
    "start_time": "2022-07-12T16:26:54.615Z"
   },
   {
    "duration": 136,
    "start_time": "2022-07-12T16:26:54.644Z"
   },
   {
    "duration": 11,
    "start_time": "2022-07-12T16:26:54.782Z"
   },
   {
    "duration": 32,
    "start_time": "2022-07-12T16:26:54.795Z"
   },
   {
    "duration": 16,
    "start_time": "2022-07-12T16:26:54.845Z"
   },
   {
    "duration": 101,
    "start_time": "2022-07-12T16:26:54.864Z"
   },
   {
    "duration": 25,
    "start_time": "2022-07-12T16:26:54.967Z"
   },
   {
    "duration": 386,
    "start_time": "2022-07-12T16:26:54.993Z"
   },
   {
    "duration": 13,
    "start_time": "2022-07-12T16:26:55.380Z"
   },
   {
    "duration": 18,
    "start_time": "2022-07-12T16:26:55.395Z"
   },
   {
    "duration": 168,
    "start_time": "2022-07-12T16:26:55.414Z"
   },
   {
    "duration": 15,
    "start_time": "2022-07-12T16:26:55.583Z"
   },
   {
    "duration": 15,
    "start_time": "2022-07-12T16:26:55.600Z"
   },
   {
    "duration": 17,
    "start_time": "2022-07-12T16:26:55.643Z"
   },
   {
    "duration": 11,
    "start_time": "2022-07-12T16:26:55.662Z"
   },
   {
    "duration": 12,
    "start_time": "2022-07-12T16:26:55.675Z"
   },
   {
    "duration": 62,
    "start_time": "2022-07-12T16:26:55.689Z"
   },
   {
    "duration": 27,
    "start_time": "2022-07-12T16:26:55.753Z"
   },
   {
    "duration": 8,
    "start_time": "2022-07-12T16:26:55.781Z"
   },
   {
    "duration": 16,
    "start_time": "2022-07-12T16:26:55.791Z"
   },
   {
    "duration": 54,
    "start_time": "2022-07-12T16:26:55.808Z"
   },
   {
    "duration": 24,
    "start_time": "2022-07-12T16:26:55.864Z"
   },
   {
    "duration": 10,
    "start_time": "2022-07-12T16:26:55.889Z"
   },
   {
    "duration": 5,
    "start_time": "2022-07-12T16:26:56.178Z"
   },
   {
    "duration": 14,
    "start_time": "2022-07-12T16:26:56.185Z"
   },
   {
    "duration": 16,
    "start_time": "2022-07-12T16:29:00.862Z"
   },
   {
    "duration": 130,
    "start_time": "2022-07-12T16:29:14.522Z"
   },
   {
    "duration": 13,
    "start_time": "2022-07-12T16:29:44.924Z"
   },
   {
    "duration": 10,
    "start_time": "2022-07-12T16:35:30.604Z"
   },
   {
    "duration": 9,
    "start_time": "2022-07-12T16:36:16.962Z"
   },
   {
    "duration": 28,
    "start_time": "2022-07-12T16:36:52.787Z"
   },
   {
    "duration": 47,
    "start_time": "2022-07-12T16:37:48.655Z"
   },
   {
    "duration": 28,
    "start_time": "2022-07-12T16:38:32.276Z"
   },
   {
    "duration": 44,
    "start_time": "2022-07-12T16:38:35.715Z"
   },
   {
    "duration": 17,
    "start_time": "2022-07-12T16:39:11.460Z"
   },
   {
    "duration": 20,
    "start_time": "2022-07-12T16:40:22.821Z"
   },
   {
    "duration": 14,
    "start_time": "2022-07-12T16:40:31.290Z"
   },
   {
    "duration": 6,
    "start_time": "2022-07-12T16:40:50.056Z"
   },
   {
    "duration": 49,
    "start_time": "2022-07-12T16:41:36.357Z"
   },
   {
    "duration": 38,
    "start_time": "2022-07-12T16:46:00.724Z"
   },
   {
    "duration": 36,
    "start_time": "2022-07-12T16:46:05.441Z"
   },
   {
    "duration": 27,
    "start_time": "2022-07-12T16:56:33.608Z"
   },
   {
    "duration": 147,
    "start_time": "2022-07-12T16:56:48.169Z"
   },
   {
    "duration": 38,
    "start_time": "2022-07-12T16:56:53.961Z"
   },
   {
    "duration": 16,
    "start_time": "2022-07-12T16:57:16.154Z"
   },
   {
    "duration": 7,
    "start_time": "2022-07-12T16:57:37.154Z"
   },
   {
    "duration": 1210,
    "start_time": "2022-07-12T16:57:43.716Z"
   },
   {
    "duration": 529,
    "start_time": "2022-07-12T16:57:44.928Z"
   },
   {
    "duration": 460,
    "start_time": "2022-07-12T16:57:45.458Z"
   },
   {
    "duration": 135,
    "start_time": "2022-07-12T16:57:45.920Z"
   },
   {
    "duration": 7,
    "start_time": "2022-07-12T16:57:46.057Z"
   },
   {
    "duration": 16,
    "start_time": "2022-07-12T16:57:46.066Z"
   },
   {
    "duration": 6,
    "start_time": "2022-07-12T16:57:46.083Z"
   },
   {
    "duration": 12,
    "start_time": "2022-07-12T16:57:46.090Z"
   },
   {
    "duration": 4,
    "start_time": "2022-07-12T16:57:46.104Z"
   },
   {
    "duration": 41,
    "start_time": "2022-07-12T16:57:46.110Z"
   },
   {
    "duration": 24,
    "start_time": "2022-07-12T16:57:46.153Z"
   },
   {
    "duration": 5,
    "start_time": "2022-07-12T16:57:46.178Z"
   },
   {
    "duration": 215,
    "start_time": "2022-07-12T16:57:46.185Z"
   },
   {
    "duration": 46,
    "start_time": "2022-07-12T16:57:46.402Z"
   },
   {
    "duration": 8,
    "start_time": "2022-07-12T16:57:46.449Z"
   },
   {
    "duration": 19,
    "start_time": "2022-07-12T16:57:46.459Z"
   },
   {
    "duration": 16,
    "start_time": "2022-07-12T16:57:46.480Z"
   },
   {
    "duration": 20,
    "start_time": "2022-07-12T16:57:46.498Z"
   },
   {
    "duration": 24,
    "start_time": "2022-07-12T16:57:46.543Z"
   },
   {
    "duration": 16,
    "start_time": "2022-07-12T16:57:46.569Z"
   },
   {
    "duration": 19,
    "start_time": "2022-07-12T16:57:46.587Z"
   },
   {
    "duration": 3,
    "start_time": "2022-07-12T16:57:46.609Z"
   },
   {
    "duration": 41,
    "start_time": "2022-07-12T16:57:46.613Z"
   },
   {
    "duration": 46,
    "start_time": "2022-07-12T16:57:46.656Z"
   },
   {
    "duration": 9,
    "start_time": "2022-07-12T16:57:46.705Z"
   },
   {
    "duration": 53,
    "start_time": "2022-07-12T16:57:46.741Z"
   },
   {
    "duration": 45,
    "start_time": "2022-07-12T16:57:46.796Z"
   },
   {
    "duration": 411,
    "start_time": "2022-07-12T16:57:46.844Z"
   },
   {
    "duration": 16,
    "start_time": "2022-07-12T16:57:47.258Z"
   },
   {
    "duration": 26,
    "start_time": "2022-07-12T16:57:47.276Z"
   },
   {
    "duration": 183,
    "start_time": "2022-07-12T16:57:47.303Z"
   },
   {
    "duration": 21,
    "start_time": "2022-07-12T16:57:47.488Z"
   },
   {
    "duration": 18,
    "start_time": "2022-07-12T16:57:47.542Z"
   },
   {
    "duration": 15,
    "start_time": "2022-07-12T16:57:47.562Z"
   },
   {
    "duration": 63,
    "start_time": "2022-07-12T16:57:47.579Z"
   },
   {
    "duration": 18,
    "start_time": "2022-07-12T16:57:47.645Z"
   },
   {
    "duration": 17,
    "start_time": "2022-07-12T16:57:47.664Z"
   },
   {
    "duration": 21,
    "start_time": "2022-07-12T16:57:47.683Z"
   },
   {
    "duration": 14,
    "start_time": "2022-07-12T16:57:47.707Z"
   },
   {
    "duration": 18,
    "start_time": "2022-07-12T16:57:47.741Z"
   },
   {
    "duration": 23,
    "start_time": "2022-07-12T16:57:47.761Z"
   },
   {
    "duration": 24,
    "start_time": "2022-07-12T16:57:47.786Z"
   },
   {
    "duration": 7,
    "start_time": "2022-07-12T16:57:47.811Z"
   },
   {
    "duration": 31,
    "start_time": "2022-07-12T16:57:47.820Z"
   },
   {
    "duration": 16,
    "start_time": "2022-07-12T16:57:47.853Z"
   },
   {
    "duration": 17,
    "start_time": "2022-07-12T16:58:26.558Z"
   },
   {
    "duration": 8,
    "start_time": "2022-07-12T16:58:27.257Z"
   },
   {
    "duration": 8,
    "start_time": "2022-07-12T16:58:35.446Z"
   },
   {
    "duration": 17,
    "start_time": "2022-07-12T16:58:50.921Z"
   },
   {
    "duration": 9,
    "start_time": "2022-07-12T16:58:51.587Z"
   },
   {
    "duration": 7,
    "start_time": "2022-07-12T16:58:53.276Z"
   },
   {
    "duration": 8,
    "start_time": "2022-07-12T16:58:54.027Z"
   },
   {
    "duration": 66,
    "start_time": "2022-07-12T17:01:20.595Z"
   },
   {
    "duration": 1071,
    "start_time": "2022-07-12T17:01:36.291Z"
   },
   {
    "duration": 545,
    "start_time": "2022-07-12T17:01:37.364Z"
   },
   {
    "duration": 482,
    "start_time": "2022-07-12T17:01:37.910Z"
   },
   {
    "duration": 129,
    "start_time": "2022-07-12T17:01:38.394Z"
   },
   {
    "duration": 17,
    "start_time": "2022-07-12T17:01:38.525Z"
   },
   {
    "duration": 15,
    "start_time": "2022-07-12T17:01:38.543Z"
   },
   {
    "duration": 6,
    "start_time": "2022-07-12T17:01:38.559Z"
   },
   {
    "duration": 10,
    "start_time": "2022-07-12T17:01:38.566Z"
   },
   {
    "duration": 4,
    "start_time": "2022-07-12T17:01:38.577Z"
   },
   {
    "duration": 9,
    "start_time": "2022-07-12T17:01:38.584Z"
   },
   {
    "duration": 68,
    "start_time": "2022-07-12T17:01:38.595Z"
   },
   {
    "duration": 3,
    "start_time": "2022-07-12T17:01:38.665Z"
   },
   {
    "duration": 194,
    "start_time": "2022-07-12T17:01:38.670Z"
   },
   {
    "duration": 64,
    "start_time": "2022-07-12T17:01:38.866Z"
   },
   {
    "duration": 9,
    "start_time": "2022-07-12T17:01:38.941Z"
   },
   {
    "duration": 21,
    "start_time": "2022-07-12T17:01:38.953Z"
   },
   {
    "duration": 26,
    "start_time": "2022-07-12T17:01:38.977Z"
   },
   {
    "duration": 36,
    "start_time": "2022-07-12T17:01:39.005Z"
   },
   {
    "duration": 28,
    "start_time": "2022-07-12T17:01:39.043Z"
   },
   {
    "duration": 16,
    "start_time": "2022-07-12T17:01:39.073Z"
   },
   {
    "duration": 15,
    "start_time": "2022-07-12T17:01:39.091Z"
   },
   {
    "duration": 3,
    "start_time": "2022-07-12T17:01:39.108Z"
   },
   {
    "duration": 13,
    "start_time": "2022-07-12T17:01:39.142Z"
   },
   {
    "duration": 34,
    "start_time": "2022-07-12T17:01:39.162Z"
   },
   {
    "duration": 6,
    "start_time": "2022-07-12T17:01:39.198Z"
   },
   {
    "duration": 76,
    "start_time": "2022-07-12T17:01:39.205Z"
   },
   {
    "duration": 24,
    "start_time": "2022-07-12T17:01:39.283Z"
   },
   {
    "duration": 441,
    "start_time": "2022-07-12T17:01:39.310Z"
   },
   {
    "duration": 15,
    "start_time": "2022-07-12T17:01:39.753Z"
   },
   {
    "duration": 25,
    "start_time": "2022-07-12T17:01:39.770Z"
   },
   {
    "duration": 166,
    "start_time": "2022-07-12T17:01:39.797Z"
   },
   {
    "duration": 17,
    "start_time": "2022-07-12T17:01:39.965Z"
   },
   {
    "duration": 14,
    "start_time": "2022-07-12T17:01:39.983Z"
   },
   {
    "duration": 14,
    "start_time": "2022-07-12T17:01:40.043Z"
   },
   {
    "duration": 13,
    "start_time": "2022-07-12T17:01:40.059Z"
   },
   {
    "duration": 70,
    "start_time": "2022-07-12T17:01:40.074Z"
   },
   {
    "duration": 17,
    "start_time": "2022-07-12T17:01:40.146Z"
   },
   {
    "duration": 19,
    "start_time": "2022-07-12T17:01:40.165Z"
   },
   {
    "duration": 8,
    "start_time": "2022-07-12T17:01:40.187Z"
   },
   {
    "duration": 57,
    "start_time": "2022-07-12T17:01:40.196Z"
   },
   {
    "duration": 18,
    "start_time": "2022-07-12T17:01:40.255Z"
   },
   {
    "duration": 28,
    "start_time": "2022-07-12T17:01:40.275Z"
   },
   {
    "duration": 11,
    "start_time": "2022-07-12T17:01:40.305Z"
   },
   {
    "duration": 29,
    "start_time": "2022-07-12T17:01:40.318Z"
   },
   {
    "duration": 12,
    "start_time": "2022-07-12T17:01:40.349Z"
   },
   {
    "duration": 11,
    "start_time": "2022-07-12T17:04:44.697Z"
   },
   {
    "duration": 11,
    "start_time": "2022-07-12T17:04:49.777Z"
   },
   {
    "duration": 11,
    "start_time": "2022-07-12T17:05:05.691Z"
   },
   {
    "duration": 103,
    "start_time": "2022-07-12T17:05:18.518Z"
   },
   {
    "duration": 13,
    "start_time": "2022-07-12T17:05:35.199Z"
   },
   {
    "duration": 34,
    "start_time": "2022-07-12T17:06:27.814Z"
   },
   {
    "duration": 15,
    "start_time": "2022-07-12T17:06:34.672Z"
   },
   {
    "duration": 48,
    "start_time": "2022-07-12T17:07:09.392Z"
   },
   {
    "duration": 20,
    "start_time": "2022-07-12T17:07:13.242Z"
   },
   {
    "duration": 9,
    "start_time": "2022-07-12T17:07:15.994Z"
   },
   {
    "duration": 17,
    "start_time": "2022-07-12T17:09:55.343Z"
   },
   {
    "duration": 19,
    "start_time": "2022-07-12T17:09:59.343Z"
   },
   {
    "duration": 16,
    "start_time": "2022-07-12T17:11:22.154Z"
   },
   {
    "duration": 8,
    "start_time": "2022-07-12T17:19:41.210Z"
   },
   {
    "duration": 21,
    "start_time": "2022-07-12T17:19:44.919Z"
   },
   {
    "duration": 28,
    "start_time": "2022-07-12T17:19:47.560Z"
   },
   {
    "duration": 5,
    "start_time": "2022-07-12T17:20:02.761Z"
   },
   {
    "duration": 16,
    "start_time": "2022-07-12T17:23:57.460Z"
   },
   {
    "duration": 29,
    "start_time": "2022-07-12T17:27:38.680Z"
   },
   {
    "duration": 25,
    "start_time": "2022-07-12T17:28:13.870Z"
   },
   {
    "duration": 21,
    "start_time": "2022-07-12T17:28:22.898Z"
   },
   {
    "duration": 50,
    "start_time": "2022-07-12T17:28:44.456Z"
   },
   {
    "duration": 22,
    "start_time": "2022-07-12T17:28:48.854Z"
   },
   {
    "duration": 23,
    "start_time": "2022-07-12T17:29:11.286Z"
   },
   {
    "duration": 939,
    "start_time": "2022-07-12T17:30:54.399Z"
   },
   {
    "duration": 36,
    "start_time": "2022-07-12T17:31:14.760Z"
   },
   {
    "duration": 23,
    "start_time": "2022-07-12T17:32:04.744Z"
   },
   {
    "duration": 833,
    "start_time": "2022-07-12T17:32:41.457Z"
   },
   {
    "duration": 16,
    "start_time": "2022-07-12T17:33:09.208Z"
   },
   {
    "duration": 32,
    "start_time": "2022-07-12T17:34:01.544Z"
   },
   {
    "duration": 1205,
    "start_time": "2022-07-12T17:34:15.175Z"
   },
   {
    "duration": 29,
    "start_time": "2022-07-12T17:34:29.254Z"
   },
   {
    "duration": 9,
    "start_time": "2022-07-12T17:36:08.812Z"
   },
   {
    "duration": 32,
    "start_time": "2022-07-12T17:37:04.402Z"
   },
   {
    "duration": 6,
    "start_time": "2022-07-12T17:37:08.607Z"
   },
   {
    "duration": 27,
    "start_time": "2022-07-12T17:37:12.551Z"
   },
   {
    "duration": 32,
    "start_time": "2022-07-12T17:39:04.046Z"
   },
   {
    "duration": 11,
    "start_time": "2022-07-12T17:40:08.902Z"
   },
   {
    "duration": 61,
    "start_time": "2022-07-12T17:44:54.258Z"
   },
   {
    "duration": 60,
    "start_time": "2022-07-12T17:45:04.451Z"
   },
   {
    "duration": 12,
    "start_time": "2022-07-12T17:45:58.770Z"
   },
   {
    "duration": 9,
    "start_time": "2022-07-12T17:46:13.591Z"
   },
   {
    "duration": 12,
    "start_time": "2022-07-12T17:46:58.878Z"
   },
   {
    "duration": 12,
    "start_time": "2022-07-12T17:47:24.853Z"
   },
   {
    "duration": 11,
    "start_time": "2022-07-12T17:47:30.658Z"
   },
   {
    "duration": 7,
    "start_time": "2022-07-12T17:49:02.370Z"
   },
   {
    "duration": 8,
    "start_time": "2022-07-12T17:49:08.708Z"
   },
   {
    "duration": 1129,
    "start_time": "2022-07-12T17:49:27.419Z"
   },
   {
    "duration": 551,
    "start_time": "2022-07-12T17:49:28.550Z"
   },
   {
    "duration": 473,
    "start_time": "2022-07-12T17:49:29.102Z"
   },
   {
    "duration": 136,
    "start_time": "2022-07-12T17:49:29.577Z"
   },
   {
    "duration": 6,
    "start_time": "2022-07-12T17:49:29.715Z"
   },
   {
    "duration": 30,
    "start_time": "2022-07-12T17:49:29.722Z"
   },
   {
    "duration": 6,
    "start_time": "2022-07-12T17:49:29.753Z"
   },
   {
    "duration": 10,
    "start_time": "2022-07-12T17:49:29.761Z"
   },
   {
    "duration": 5,
    "start_time": "2022-07-12T17:49:29.773Z"
   },
   {
    "duration": 9,
    "start_time": "2022-07-12T17:49:29.782Z"
   },
   {
    "duration": 59,
    "start_time": "2022-07-12T17:49:29.793Z"
   },
   {
    "duration": 3,
    "start_time": "2022-07-12T17:49:29.854Z"
   },
   {
    "duration": 163,
    "start_time": "2022-07-12T17:49:29.858Z"
   },
   {
    "duration": 61,
    "start_time": "2022-07-12T17:49:30.022Z"
   },
   {
    "duration": 7,
    "start_time": "2022-07-12T17:49:30.085Z"
   },
   {
    "duration": 14,
    "start_time": "2022-07-12T17:49:30.093Z"
   },
   {
    "duration": 14,
    "start_time": "2022-07-12T17:49:30.108Z"
   },
   {
    "duration": 28,
    "start_time": "2022-07-12T17:49:30.124Z"
   },
   {
    "duration": 25,
    "start_time": "2022-07-12T17:49:30.154Z"
   },
   {
    "duration": 13,
    "start_time": "2022-07-12T17:49:30.181Z"
   },
   {
    "duration": 47,
    "start_time": "2022-07-12T17:49:30.197Z"
   },
   {
    "duration": 2,
    "start_time": "2022-07-12T17:49:30.246Z"
   },
   {
    "duration": 18,
    "start_time": "2022-07-12T17:49:30.250Z"
   },
   {
    "duration": 33,
    "start_time": "2022-07-12T17:49:30.269Z"
   },
   {
    "duration": 7,
    "start_time": "2022-07-12T17:49:30.304Z"
   },
   {
    "duration": 80,
    "start_time": "2022-07-12T17:49:30.313Z"
   },
   {
    "duration": 24,
    "start_time": "2022-07-12T17:49:30.394Z"
   },
   {
    "duration": 437,
    "start_time": "2022-07-12T17:49:30.421Z"
   },
   {
    "duration": 26,
    "start_time": "2022-07-12T17:49:30.860Z"
   },
   {
    "duration": 9,
    "start_time": "2022-07-12T17:49:30.888Z"
   },
   {
    "duration": 51,
    "start_time": "2022-07-12T17:49:30.899Z"
   },
   {
    "duration": 131,
    "start_time": "2022-07-12T17:49:30.952Z"
   },
   {
    "duration": 9,
    "start_time": "2022-07-12T17:49:31.085Z"
   },
   {
    "duration": 201,
    "start_time": "2022-07-12T17:49:31.096Z"
   },
   {
    "duration": 0,
    "start_time": "2022-07-12T17:49:31.298Z"
   },
   {
    "duration": 0,
    "start_time": "2022-07-12T17:49:31.299Z"
   },
   {
    "duration": 0,
    "start_time": "2022-07-12T17:49:31.300Z"
   },
   {
    "duration": 0,
    "start_time": "2022-07-12T17:49:31.301Z"
   },
   {
    "duration": 0,
    "start_time": "2022-07-12T17:49:31.302Z"
   },
   {
    "duration": 0,
    "start_time": "2022-07-12T17:49:31.303Z"
   },
   {
    "duration": 0,
    "start_time": "2022-07-12T17:49:31.304Z"
   },
   {
    "duration": 0,
    "start_time": "2022-07-12T17:49:31.306Z"
   },
   {
    "duration": 0,
    "start_time": "2022-07-12T17:49:31.307Z"
   },
   {
    "duration": 0,
    "start_time": "2022-07-12T17:49:31.309Z"
   },
   {
    "duration": 0,
    "start_time": "2022-07-12T17:49:31.343Z"
   },
   {
    "duration": 0,
    "start_time": "2022-07-12T17:49:31.344Z"
   },
   {
    "duration": 0,
    "start_time": "2022-07-12T17:49:31.345Z"
   },
   {
    "duration": 0,
    "start_time": "2022-07-12T17:49:31.347Z"
   },
   {
    "duration": 9,
    "start_time": "2022-07-12T17:50:03.993Z"
   },
   {
    "duration": 1085,
    "start_time": "2022-07-12T17:51:49.751Z"
   },
   {
    "duration": 1362,
    "start_time": "2022-07-12T17:52:00.011Z"
   },
   {
    "duration": 12,
    "start_time": "2022-07-12T17:52:17.012Z"
   },
   {
    "duration": 14,
    "start_time": "2022-07-12T17:55:42.303Z"
   },
   {
    "duration": 17,
    "start_time": "2022-07-12T17:55:44.657Z"
   },
   {
    "duration": 14,
    "start_time": "2022-07-12T17:55:47.653Z"
   },
   {
    "duration": 932,
    "start_time": "2022-07-12T17:57:18.773Z"
   },
   {
    "duration": 17,
    "start_time": "2022-07-12T17:57:41.695Z"
   },
   {
    "duration": 1162,
    "start_time": "2022-07-12T18:01:38.671Z"
   },
   {
    "duration": 555,
    "start_time": "2022-07-12T18:01:39.835Z"
   },
   {
    "duration": 508,
    "start_time": "2022-07-12T18:01:40.392Z"
   },
   {
    "duration": 126,
    "start_time": "2022-07-12T18:01:40.902Z"
   },
   {
    "duration": 15,
    "start_time": "2022-07-12T18:01:41.029Z"
   },
   {
    "duration": 20,
    "start_time": "2022-07-12T18:01:41.045Z"
   },
   {
    "duration": 6,
    "start_time": "2022-07-12T18:01:41.067Z"
   },
   {
    "duration": 10,
    "start_time": "2022-07-12T18:01:41.075Z"
   },
   {
    "duration": 5,
    "start_time": "2022-07-12T18:01:41.087Z"
   },
   {
    "duration": 9,
    "start_time": "2022-07-12T18:01:41.094Z"
   },
   {
    "duration": 23,
    "start_time": "2022-07-12T18:01:41.142Z"
   },
   {
    "duration": 4,
    "start_time": "2022-07-12T18:01:41.166Z"
   },
   {
    "duration": 172,
    "start_time": "2022-07-12T18:01:41.172Z"
   },
   {
    "duration": 51,
    "start_time": "2022-07-12T18:01:41.346Z"
   },
   {
    "duration": 7,
    "start_time": "2022-07-12T18:01:41.400Z"
   },
   {
    "duration": 33,
    "start_time": "2022-07-12T18:01:41.409Z"
   },
   {
    "duration": 27,
    "start_time": "2022-07-12T18:01:41.444Z"
   },
   {
    "duration": 32,
    "start_time": "2022-07-12T18:01:41.474Z"
   },
   {
    "duration": 35,
    "start_time": "2022-07-12T18:01:41.507Z"
   },
   {
    "duration": 13,
    "start_time": "2022-07-12T18:01:41.544Z"
   },
   {
    "duration": 19,
    "start_time": "2022-07-12T18:01:41.559Z"
   },
   {
    "duration": 11,
    "start_time": "2022-07-12T18:01:41.580Z"
   },
   {
    "duration": 15,
    "start_time": "2022-07-12T18:01:41.593Z"
   },
   {
    "duration": 56,
    "start_time": "2022-07-12T18:01:41.610Z"
   },
   {
    "duration": 9,
    "start_time": "2022-07-12T18:01:41.668Z"
   },
   {
    "duration": 84,
    "start_time": "2022-07-12T18:01:41.679Z"
   },
   {
    "duration": 33,
    "start_time": "2022-07-12T18:01:41.766Z"
   },
   {
    "duration": 384,
    "start_time": "2022-07-12T18:01:41.804Z"
   },
   {
    "duration": 18,
    "start_time": "2022-07-12T18:01:42.190Z"
   },
   {
    "duration": 4,
    "start_time": "2022-07-12T18:01:42.210Z"
   },
   {
    "duration": 49,
    "start_time": "2022-07-12T18:01:42.216Z"
   },
   {
    "duration": 132,
    "start_time": "2022-07-12T18:01:42.267Z"
   },
   {
    "duration": 9,
    "start_time": "2022-07-12T18:01:42.401Z"
   },
   {
    "duration": 37,
    "start_time": "2022-07-12T18:01:42.412Z"
   },
   {
    "duration": 1188,
    "start_time": "2022-07-12T18:01:42.451Z"
   },
   {
    "duration": 0,
    "start_time": "2022-07-12T18:01:43.641Z"
   },
   {
    "duration": 0,
    "start_time": "2022-07-12T18:01:43.642Z"
   },
   {
    "duration": 0,
    "start_time": "2022-07-12T18:01:43.644Z"
   },
   {
    "duration": 0,
    "start_time": "2022-07-12T18:01:43.646Z"
   },
   {
    "duration": 0,
    "start_time": "2022-07-12T18:01:43.647Z"
   },
   {
    "duration": 0,
    "start_time": "2022-07-12T18:01:43.648Z"
   },
   {
    "duration": 0,
    "start_time": "2022-07-12T18:01:43.650Z"
   },
   {
    "duration": 0,
    "start_time": "2022-07-12T18:01:43.651Z"
   },
   {
    "duration": 0,
    "start_time": "2022-07-12T18:01:43.652Z"
   },
   {
    "duration": 0,
    "start_time": "2022-07-12T18:01:43.654Z"
   },
   {
    "duration": 0,
    "start_time": "2022-07-12T18:01:43.655Z"
   },
   {
    "duration": 0,
    "start_time": "2022-07-12T18:01:43.657Z"
   },
   {
    "duration": 0,
    "start_time": "2022-07-12T18:01:43.658Z"
   },
   {
    "duration": 19,
    "start_time": "2022-07-12T18:02:31.260Z"
   },
   {
    "duration": 12,
    "start_time": "2022-07-12T18:04:24.832Z"
   },
   {
    "duration": 11,
    "start_time": "2022-07-12T18:04:42.869Z"
   },
   {
    "duration": 15,
    "start_time": "2022-07-12T18:05:14.513Z"
   },
   {
    "duration": 13,
    "start_time": "2022-07-12T18:05:23.162Z"
   },
   {
    "duration": 13,
    "start_time": "2022-07-12T18:05:35.464Z"
   },
   {
    "duration": 885,
    "start_time": "2022-07-12T18:05:59.884Z"
   },
   {
    "duration": 1115,
    "start_time": "2022-07-12T18:06:38.384Z"
   },
   {
    "duration": 602,
    "start_time": "2022-07-12T18:06:39.502Z"
   },
   {
    "duration": 540,
    "start_time": "2022-07-12T18:06:40.106Z"
   },
   {
    "duration": 126,
    "start_time": "2022-07-12T18:06:40.649Z"
   },
   {
    "duration": 7,
    "start_time": "2022-07-12T18:06:40.777Z"
   },
   {
    "duration": 19,
    "start_time": "2022-07-12T18:06:40.786Z"
   },
   {
    "duration": 6,
    "start_time": "2022-07-12T18:06:40.807Z"
   },
   {
    "duration": 34,
    "start_time": "2022-07-12T18:06:40.815Z"
   },
   {
    "duration": 13,
    "start_time": "2022-07-12T18:06:40.851Z"
   },
   {
    "duration": 10,
    "start_time": "2022-07-12T18:06:40.866Z"
   },
   {
    "duration": 24,
    "start_time": "2022-07-12T18:06:40.878Z"
   },
   {
    "duration": 3,
    "start_time": "2022-07-12T18:06:40.904Z"
   },
   {
    "duration": 181,
    "start_time": "2022-07-12T18:06:40.908Z"
   },
   {
    "duration": 71,
    "start_time": "2022-07-12T18:06:41.091Z"
   },
   {
    "duration": 8,
    "start_time": "2022-07-12T18:06:41.163Z"
   },
   {
    "duration": 11,
    "start_time": "2022-07-12T18:06:41.172Z"
   },
   {
    "duration": 23,
    "start_time": "2022-07-12T18:06:41.185Z"
   },
   {
    "duration": 15,
    "start_time": "2022-07-12T18:06:41.210Z"
   },
   {
    "duration": 28,
    "start_time": "2022-07-12T18:06:41.242Z"
   },
   {
    "duration": 11,
    "start_time": "2022-07-12T18:06:41.272Z"
   },
   {
    "duration": 14,
    "start_time": "2022-07-12T18:06:41.285Z"
   },
   {
    "duration": 3,
    "start_time": "2022-07-12T18:06:41.300Z"
   },
   {
    "duration": 42,
    "start_time": "2022-07-12T18:06:41.305Z"
   },
   {
    "duration": 33,
    "start_time": "2022-07-12T18:06:41.349Z"
   },
   {
    "duration": 8,
    "start_time": "2022-07-12T18:06:41.384Z"
   },
   {
    "duration": 75,
    "start_time": "2022-07-12T18:06:41.394Z"
   },
   {
    "duration": 29,
    "start_time": "2022-07-12T18:06:41.470Z"
   },
   {
    "duration": 432,
    "start_time": "2022-07-12T18:06:41.503Z"
   },
   {
    "duration": 28,
    "start_time": "2022-07-12T18:06:41.936Z"
   },
   {
    "duration": 6,
    "start_time": "2022-07-12T18:06:41.965Z"
   },
   {
    "duration": 32,
    "start_time": "2022-07-12T18:06:41.972Z"
   },
   {
    "duration": 156,
    "start_time": "2022-07-12T18:06:42.006Z"
   },
   {
    "duration": 7,
    "start_time": "2022-07-12T18:06:42.164Z"
   },
   {
    "duration": 25,
    "start_time": "2022-07-12T18:06:42.172Z"
   },
   {
    "duration": 64,
    "start_time": "2022-07-12T18:06:42.199Z"
   },
   {
    "duration": 11,
    "start_time": "2022-07-12T18:06:42.265Z"
   },
   {
    "duration": 26,
    "start_time": "2022-07-12T18:06:42.278Z"
   },
   {
    "duration": 36,
    "start_time": "2022-07-12T18:06:42.306Z"
   },
   {
    "duration": 17,
    "start_time": "2022-07-12T18:06:42.345Z"
   },
   {
    "duration": 20,
    "start_time": "2022-07-12T18:06:42.364Z"
   },
   {
    "duration": 109,
    "start_time": "2022-07-12T18:14:50.173Z"
   },
   {
    "duration": 675,
    "start_time": "2022-07-12T18:15:29.459Z"
   },
   {
    "duration": 12,
    "start_time": "2022-07-12T18:15:50.762Z"
   },
   {
    "duration": 12,
    "start_time": "2022-07-12T18:16:16.006Z"
   },
   {
    "duration": 15,
    "start_time": "2022-07-12T18:16:54.959Z"
   },
   {
    "duration": 26,
    "start_time": "2022-07-12T18:18:36.285Z"
   },
   {
    "duration": 26,
    "start_time": "2022-07-12T18:18:41.011Z"
   },
   {
    "duration": 43,
    "start_time": "2022-07-12T18:19:18.554Z"
   },
   {
    "duration": 38,
    "start_time": "2022-07-12T18:19:27.159Z"
   },
   {
    "duration": 24,
    "start_time": "2022-07-12T18:19:36.505Z"
   },
   {
    "duration": 32,
    "start_time": "2022-07-12T18:19:51.357Z"
   },
   {
    "duration": 10,
    "start_time": "2022-07-12T18:19:56.055Z"
   },
   {
    "duration": 8,
    "start_time": "2022-07-12T18:20:11.182Z"
   },
   {
    "duration": 9,
    "start_time": "2022-07-12T18:20:12.294Z"
   },
   {
    "duration": 1188,
    "start_time": "2022-07-12T18:21:22.016Z"
   },
   {
    "duration": 606,
    "start_time": "2022-07-12T18:21:23.206Z"
   },
   {
    "duration": 550,
    "start_time": "2022-07-12T18:21:23.814Z"
   },
   {
    "duration": 135,
    "start_time": "2022-07-12T18:21:24.366Z"
   },
   {
    "duration": 8,
    "start_time": "2022-07-12T18:21:24.503Z"
   },
   {
    "duration": 45,
    "start_time": "2022-07-12T18:21:24.513Z"
   },
   {
    "duration": 14,
    "start_time": "2022-07-12T18:21:24.560Z"
   },
   {
    "duration": 24,
    "start_time": "2022-07-12T18:21:24.575Z"
   },
   {
    "duration": 6,
    "start_time": "2022-07-12T18:21:24.601Z"
   },
   {
    "duration": 20,
    "start_time": "2022-07-12T18:21:24.611Z"
   },
   {
    "duration": 37,
    "start_time": "2022-07-12T18:21:24.634Z"
   },
   {
    "duration": 13,
    "start_time": "2022-07-12T18:21:24.674Z"
   },
   {
    "duration": 221,
    "start_time": "2022-07-12T18:21:24.689Z"
   },
   {
    "duration": 62,
    "start_time": "2022-07-12T18:21:24.912Z"
   },
   {
    "duration": 7,
    "start_time": "2022-07-12T18:21:24.976Z"
   },
   {
    "duration": 10,
    "start_time": "2022-07-12T18:21:24.984Z"
   },
   {
    "duration": 15,
    "start_time": "2022-07-12T18:21:24.996Z"
   },
   {
    "duration": 41,
    "start_time": "2022-07-12T18:21:25.013Z"
   },
   {
    "duration": 28,
    "start_time": "2022-07-12T18:21:25.055Z"
   },
   {
    "duration": 11,
    "start_time": "2022-07-12T18:21:25.084Z"
   },
   {
    "duration": 13,
    "start_time": "2022-07-12T18:21:25.097Z"
   },
   {
    "duration": 3,
    "start_time": "2022-07-12T18:21:25.112Z"
   },
   {
    "duration": 12,
    "start_time": "2022-07-12T18:21:25.143Z"
   },
   {
    "duration": 42,
    "start_time": "2022-07-12T18:21:25.157Z"
   },
   {
    "duration": 7,
    "start_time": "2022-07-12T18:21:25.200Z"
   },
   {
    "duration": 65,
    "start_time": "2022-07-12T18:21:25.208Z"
   },
   {
    "duration": 23,
    "start_time": "2022-07-12T18:21:25.275Z"
   },
   {
    "duration": 394,
    "start_time": "2022-07-12T18:21:25.301Z"
   },
   {
    "duration": 18,
    "start_time": "2022-07-12T18:21:25.697Z"
   },
   {
    "duration": 5,
    "start_time": "2022-07-12T18:21:25.717Z"
   },
   {
    "duration": 53,
    "start_time": "2022-07-12T18:21:25.723Z"
   },
   {
    "duration": 144,
    "start_time": "2022-07-12T18:21:25.777Z"
   },
   {
    "duration": 9,
    "start_time": "2022-07-12T18:21:25.923Z"
   },
   {
    "duration": 20,
    "start_time": "2022-07-12T18:21:25.933Z"
   },
   {
    "duration": 30,
    "start_time": "2022-07-12T18:21:25.955Z"
   },
   {
    "duration": 62,
    "start_time": "2022-07-12T18:21:25.987Z"
   },
   {
    "duration": 36,
    "start_time": "2022-07-12T18:21:26.050Z"
   },
   {
    "duration": 7,
    "start_time": "2022-07-12T18:21:26.088Z"
   },
   {
    "duration": 6,
    "start_time": "2022-07-12T18:21:26.097Z"
   },
   {
    "duration": 11,
    "start_time": "2022-07-12T18:21:26.104Z"
   },
   {
    "duration": 37,
    "start_time": "2022-07-12T18:22:50.694Z"
   },
   {
    "duration": 16,
    "start_time": "2022-07-12T18:23:11.764Z"
   },
   {
    "duration": 35,
    "start_time": "2022-07-12T18:23:54.304Z"
   },
   {
    "duration": 130,
    "start_time": "2022-07-12T18:24:18.755Z"
   },
   {
    "duration": 9,
    "start_time": "2022-07-12T18:24:25.059Z"
   },
   {
    "duration": 12,
    "start_time": "2022-07-12T18:24:31.958Z"
   },
   {
    "duration": 18,
    "start_time": "2022-07-12T18:24:57.783Z"
   },
   {
    "duration": 13,
    "start_time": "2022-07-12T18:25:08.533Z"
   },
   {
    "duration": 38,
    "start_time": "2022-07-12T18:25:19.331Z"
   },
   {
    "duration": 16,
    "start_time": "2022-07-12T18:25:40.509Z"
   },
   {
    "duration": 399,
    "start_time": "2022-07-12T18:29:32.771Z"
   },
   {
    "duration": 581,
    "start_time": "2022-07-12T18:29:41.698Z"
   },
   {
    "duration": 850,
    "start_time": "2022-07-12T18:30:24.748Z"
   },
   {
    "duration": 529,
    "start_time": "2022-07-12T18:30:40.103Z"
   },
   {
    "duration": 504,
    "start_time": "2022-07-12T18:30:46.269Z"
   },
   {
    "duration": 356,
    "start_time": "2022-07-12T18:30:53.347Z"
   },
   {
    "duration": 13,
    "start_time": "2022-07-12T18:34:27.318Z"
   },
   {
    "duration": 69,
    "start_time": "2022-07-12T18:34:40.995Z"
   },
   {
    "duration": 48,
    "start_time": "2022-07-12T18:34:49.742Z"
   },
   {
    "duration": 25,
    "start_time": "2022-07-12T18:35:24.860Z"
   },
   {
    "duration": 30,
    "start_time": "2022-07-12T18:35:35.400Z"
   },
   {
    "duration": 7,
    "start_time": "2022-07-12T18:36:07.401Z"
   },
   {
    "duration": 8,
    "start_time": "2022-07-12T18:36:27.058Z"
   },
   {
    "duration": 8,
    "start_time": "2022-07-12T18:37:03.523Z"
   },
   {
    "duration": 1115,
    "start_time": "2022-07-12T18:48:35.203Z"
   },
   {
    "duration": 581,
    "start_time": "2022-07-12T18:48:36.320Z"
   },
   {
    "duration": 523,
    "start_time": "2022-07-12T18:48:36.903Z"
   },
   {
    "duration": 140,
    "start_time": "2022-07-12T18:48:37.444Z"
   },
   {
    "duration": 7,
    "start_time": "2022-07-12T18:48:37.586Z"
   },
   {
    "duration": 25,
    "start_time": "2022-07-12T18:48:37.595Z"
   },
   {
    "duration": 25,
    "start_time": "2022-07-12T18:48:37.622Z"
   },
   {
    "duration": 12,
    "start_time": "2022-07-12T18:48:37.649Z"
   },
   {
    "duration": 5,
    "start_time": "2022-07-12T18:48:37.662Z"
   },
   {
    "duration": 14,
    "start_time": "2022-07-12T18:48:37.670Z"
   },
   {
    "duration": 63,
    "start_time": "2022-07-12T18:48:37.686Z"
   },
   {
    "duration": 4,
    "start_time": "2022-07-12T18:48:37.751Z"
   },
   {
    "duration": 203,
    "start_time": "2022-07-12T18:48:37.756Z"
   },
   {
    "duration": 58,
    "start_time": "2022-07-12T18:48:37.961Z"
   },
   {
    "duration": 21,
    "start_time": "2022-07-12T18:48:38.021Z"
   },
   {
    "duration": 13,
    "start_time": "2022-07-12T18:48:38.044Z"
   },
   {
    "duration": 13,
    "start_time": "2022-07-12T18:48:38.059Z"
   },
   {
    "duration": 20,
    "start_time": "2022-07-12T18:48:38.074Z"
   },
   {
    "duration": 65,
    "start_time": "2022-07-12T18:48:38.095Z"
   },
   {
    "duration": 11,
    "start_time": "2022-07-12T18:48:38.162Z"
   },
   {
    "duration": 24,
    "start_time": "2022-07-12T18:48:38.175Z"
   },
   {
    "duration": 2,
    "start_time": "2022-07-12T18:48:38.201Z"
   },
   {
    "duration": 11,
    "start_time": "2022-07-12T18:48:38.205Z"
   },
   {
    "duration": 51,
    "start_time": "2022-07-12T18:48:38.219Z"
   },
   {
    "duration": 9,
    "start_time": "2022-07-12T18:48:38.272Z"
   },
   {
    "duration": 89,
    "start_time": "2022-07-12T18:48:38.283Z"
   },
   {
    "duration": 34,
    "start_time": "2022-07-12T18:48:38.374Z"
   },
   {
    "duration": 422,
    "start_time": "2022-07-12T18:48:38.410Z"
   },
   {
    "duration": 30,
    "start_time": "2022-07-12T18:48:38.834Z"
   },
   {
    "duration": 6,
    "start_time": "2022-07-12T18:48:38.867Z"
   },
   {
    "duration": 46,
    "start_time": "2022-07-12T18:48:38.876Z"
   },
   {
    "duration": 149,
    "start_time": "2022-07-12T18:48:38.942Z"
   },
   {
    "duration": 52,
    "start_time": "2022-07-12T18:48:39.092Z"
   },
   {
    "duration": 16,
    "start_time": "2022-07-12T18:48:39.146Z"
   },
   {
    "duration": 90,
    "start_time": "2022-07-12T18:48:39.165Z"
   },
   {
    "duration": 11,
    "start_time": "2022-07-12T18:48:39.257Z"
   },
   {
    "duration": 8,
    "start_time": "2022-07-12T18:48:39.270Z"
   },
   {
    "duration": 24,
    "start_time": "2022-07-12T18:48:39.280Z"
   },
   {
    "duration": 527,
    "start_time": "2022-07-12T19:00:52.481Z"
   },
   {
    "duration": 439,
    "start_time": "2022-07-12T19:01:05.709Z"
   },
   {
    "duration": 424,
    "start_time": "2022-07-12T19:01:11.088Z"
   },
   {
    "duration": 486,
    "start_time": "2022-07-12T19:01:45.992Z"
   },
   {
    "duration": 399,
    "start_time": "2022-07-12T19:01:56.807Z"
   },
   {
    "duration": 376,
    "start_time": "2022-07-12T19:03:54.506Z"
   },
   {
    "duration": 1155,
    "start_time": "2022-07-12T19:04:26.121Z"
   },
   {
    "duration": 605,
    "start_time": "2022-07-12T19:04:27.279Z"
   },
   {
    "duration": 530,
    "start_time": "2022-07-12T19:04:27.885Z"
   },
   {
    "duration": 161,
    "start_time": "2022-07-12T19:04:28.417Z"
   },
   {
    "duration": 8,
    "start_time": "2022-07-12T19:04:28.580Z"
   },
   {
    "duration": 23,
    "start_time": "2022-07-12T19:04:28.590Z"
   },
   {
    "duration": 7,
    "start_time": "2022-07-12T19:04:28.615Z"
   },
   {
    "duration": 22,
    "start_time": "2022-07-12T19:04:28.643Z"
   },
   {
    "duration": 5,
    "start_time": "2022-07-12T19:04:28.668Z"
   },
   {
    "duration": 11,
    "start_time": "2022-07-12T19:04:28.677Z"
   },
   {
    "duration": 25,
    "start_time": "2022-07-12T19:04:28.690Z"
   },
   {
    "duration": 26,
    "start_time": "2022-07-12T19:04:28.717Z"
   },
   {
    "duration": 208,
    "start_time": "2022-07-12T19:04:28.745Z"
   },
   {
    "duration": 61,
    "start_time": "2022-07-12T19:04:28.957Z"
   },
   {
    "duration": 8,
    "start_time": "2022-07-12T19:04:29.019Z"
   },
   {
    "duration": 21,
    "start_time": "2022-07-12T19:04:29.042Z"
   },
   {
    "duration": 11,
    "start_time": "2022-07-12T19:04:29.065Z"
   },
   {
    "duration": 18,
    "start_time": "2022-07-12T19:04:29.078Z"
   },
   {
    "duration": 25,
    "start_time": "2022-07-12T19:04:29.098Z"
   },
   {
    "duration": 29,
    "start_time": "2022-07-12T19:04:29.124Z"
   },
   {
    "duration": 24,
    "start_time": "2022-07-12T19:04:29.154Z"
   },
   {
    "duration": 2,
    "start_time": "2022-07-12T19:04:29.180Z"
   },
   {
    "duration": 16,
    "start_time": "2022-07-12T19:04:29.184Z"
   },
   {
    "duration": 43,
    "start_time": "2022-07-12T19:04:29.202Z"
   },
   {
    "duration": 9,
    "start_time": "2022-07-12T19:04:29.247Z"
   },
   {
    "duration": 51,
    "start_time": "2022-07-12T19:04:29.258Z"
   },
   {
    "duration": 32,
    "start_time": "2022-07-12T19:04:29.310Z"
   },
   {
    "duration": 452,
    "start_time": "2022-07-12T19:04:29.346Z"
   },
   {
    "duration": 0,
    "start_time": "2022-07-12T19:04:29.801Z"
   },
   {
    "duration": 0,
    "start_time": "2022-07-12T19:04:29.802Z"
   },
   {
    "duration": 0,
    "start_time": "2022-07-12T19:04:29.803Z"
   },
   {
    "duration": 0,
    "start_time": "2022-07-12T19:04:29.805Z"
   },
   {
    "duration": 0,
    "start_time": "2022-07-12T19:04:29.806Z"
   },
   {
    "duration": 0,
    "start_time": "2022-07-12T19:04:29.808Z"
   },
   {
    "duration": 0,
    "start_time": "2022-07-12T19:04:29.809Z"
   },
   {
    "duration": 0,
    "start_time": "2022-07-12T19:04:29.810Z"
   },
   {
    "duration": 0,
    "start_time": "2022-07-12T19:04:29.812Z"
   },
   {
    "duration": 0,
    "start_time": "2022-07-12T19:04:29.813Z"
   },
   {
    "duration": 1106,
    "start_time": "2022-07-12T19:04:57.568Z"
   },
   {
    "duration": 552,
    "start_time": "2022-07-12T19:04:58.676Z"
   },
   {
    "duration": 526,
    "start_time": "2022-07-12T19:04:59.230Z"
   },
   {
    "duration": 185,
    "start_time": "2022-07-12T19:04:59.758Z"
   },
   {
    "duration": 8,
    "start_time": "2022-07-12T19:04:59.946Z"
   },
   {
    "duration": 24,
    "start_time": "2022-07-12T19:04:59.956Z"
   },
   {
    "duration": 7,
    "start_time": "2022-07-12T19:04:59.982Z"
   },
   {
    "duration": 9,
    "start_time": "2022-07-12T19:04:59.991Z"
   },
   {
    "duration": 15,
    "start_time": "2022-07-12T19:05:00.002Z"
   },
   {
    "duration": 11,
    "start_time": "2022-07-12T19:05:00.041Z"
   },
   {
    "duration": 28,
    "start_time": "2022-07-12T19:05:00.054Z"
   },
   {
    "duration": 4,
    "start_time": "2022-07-12T19:05:00.084Z"
   },
   {
    "duration": 168,
    "start_time": "2022-07-12T19:05:00.090Z"
   },
   {
    "duration": 62,
    "start_time": "2022-07-12T19:05:00.262Z"
   },
   {
    "duration": 19,
    "start_time": "2022-07-12T19:05:00.326Z"
   },
   {
    "duration": 11,
    "start_time": "2022-07-12T19:05:00.347Z"
   },
   {
    "duration": 21,
    "start_time": "2022-07-12T19:05:00.360Z"
   },
   {
    "duration": 42,
    "start_time": "2022-07-12T19:05:00.385Z"
   },
   {
    "duration": 31,
    "start_time": "2022-07-12T19:05:00.429Z"
   },
   {
    "duration": 11,
    "start_time": "2022-07-12T19:05:00.462Z"
   },
   {
    "duration": 17,
    "start_time": "2022-07-12T19:05:00.475Z"
   },
   {
    "duration": 2,
    "start_time": "2022-07-12T19:05:00.495Z"
   },
   {
    "duration": 27,
    "start_time": "2022-07-12T19:05:00.499Z"
   },
   {
    "duration": 60,
    "start_time": "2022-07-12T19:05:00.528Z"
   },
   {
    "duration": 9,
    "start_time": "2022-07-12T19:05:00.590Z"
   },
   {
    "duration": 71,
    "start_time": "2022-07-12T19:05:00.600Z"
   },
   {
    "duration": 30,
    "start_time": "2022-07-12T19:05:00.673Z"
   },
   {
    "duration": 465,
    "start_time": "2022-07-12T19:05:00.705Z"
   },
   {
    "duration": 21,
    "start_time": "2022-07-12T19:05:01.172Z"
   },
   {
    "duration": 13,
    "start_time": "2022-07-12T19:05:01.195Z"
   },
   {
    "duration": 65,
    "start_time": "2022-07-12T19:05:01.210Z"
   },
   {
    "duration": 136,
    "start_time": "2022-07-12T19:05:01.278Z"
   },
   {
    "duration": 44,
    "start_time": "2022-07-12T19:05:01.417Z"
   },
   {
    "duration": 32,
    "start_time": "2022-07-12T19:05:01.463Z"
   },
   {
    "duration": 87,
    "start_time": "2022-07-12T19:05:01.498Z"
   },
   {
    "duration": 10,
    "start_time": "2022-07-12T19:05:01.586Z"
   },
   {
    "duration": 16,
    "start_time": "2022-07-12T19:05:01.598Z"
   },
   {
    "duration": 41,
    "start_time": "2022-07-12T19:05:01.616Z"
   },
   {
    "duration": 35,
    "start_time": "2022-07-12T19:06:39.152Z"
   },
   {
    "duration": 13,
    "start_time": "2022-07-12T19:07:30.554Z"
   },
   {
    "duration": 448,
    "start_time": "2022-07-12T19:10:20.658Z"
   },
   {
    "duration": 338,
    "start_time": "2022-07-12T19:10:28.901Z"
   },
   {
    "duration": 430,
    "start_time": "2022-07-12T19:10:33.364Z"
   },
   {
    "duration": 102,
    "start_time": "2022-07-12T19:10:39.291Z"
   },
   {
    "duration": 348,
    "start_time": "2022-07-12T19:10:44.121Z"
   },
   {
    "duration": 468,
    "start_time": "2022-07-12T19:10:59.753Z"
   },
   {
    "duration": 482,
    "start_time": "2022-07-12T19:11:56.768Z"
   },
   {
    "duration": 733,
    "start_time": "2022-07-12T19:12:12.452Z"
   },
   {
    "duration": 912,
    "start_time": "2022-07-12T19:12:53.186Z"
   },
   {
    "duration": 617,
    "start_time": "2022-07-12T19:12:55.873Z"
   },
   {
    "duration": 651,
    "start_time": "2022-07-12T19:13:10.608Z"
   },
   {
    "duration": 494,
    "start_time": "2022-07-12T19:13:20.367Z"
   },
   {
    "duration": 139,
    "start_time": "2022-07-12T19:13:33.925Z"
   },
   {
    "duration": 137,
    "start_time": "2022-07-12T19:14:14.691Z"
   },
   {
    "duration": 142,
    "start_time": "2022-07-12T19:14:30.594Z"
   },
   {
    "duration": 509,
    "start_time": "2022-07-12T19:14:42.059Z"
   },
   {
    "duration": 489,
    "start_time": "2022-07-12T19:15:32.196Z"
   },
   {
    "duration": 12,
    "start_time": "2022-07-12T19:16:59.089Z"
   },
   {
    "duration": 10,
    "start_time": "2022-07-12T19:18:06.566Z"
   },
   {
    "duration": 508,
    "start_time": "2022-07-12T19:18:30.102Z"
   },
   {
    "duration": 118,
    "start_time": "2022-07-12T19:22:17.456Z"
   },
   {
    "duration": 120,
    "start_time": "2022-07-12T19:22:48.167Z"
   },
   {
    "duration": 1116,
    "start_time": "2022-07-12T19:51:15.220Z"
   },
   {
    "duration": 536,
    "start_time": "2022-07-12T19:51:16.338Z"
   },
   {
    "duration": 494,
    "start_time": "2022-07-12T19:51:16.876Z"
   },
   {
    "duration": 136,
    "start_time": "2022-07-12T19:51:17.372Z"
   },
   {
    "duration": 6,
    "start_time": "2022-07-12T19:51:17.510Z"
   },
   {
    "duration": 31,
    "start_time": "2022-07-12T19:51:17.517Z"
   },
   {
    "duration": 6,
    "start_time": "2022-07-12T19:51:17.550Z"
   },
   {
    "duration": 12,
    "start_time": "2022-07-12T19:51:17.557Z"
   },
   {
    "duration": 5,
    "start_time": "2022-07-12T19:51:17.571Z"
   },
   {
    "duration": 11,
    "start_time": "2022-07-12T19:51:17.577Z"
   },
   {
    "duration": 24,
    "start_time": "2022-07-12T19:51:17.753Z"
   },
   {
    "duration": 2,
    "start_time": "2022-07-12T19:51:17.779Z"
   },
   {
    "duration": 164,
    "start_time": "2022-07-12T19:51:17.783Z"
   },
   {
    "duration": 58,
    "start_time": "2022-07-12T19:51:17.949Z"
   },
   {
    "duration": 6,
    "start_time": "2022-07-12T19:51:18.009Z"
   },
   {
    "duration": 10,
    "start_time": "2022-07-12T19:51:19.057Z"
   },
   {
    "duration": 13,
    "start_time": "2022-07-12T19:51:19.069Z"
   },
   {
    "duration": 16,
    "start_time": "2022-07-12T19:51:19.083Z"
   },
   {
    "duration": 25,
    "start_time": "2022-07-12T19:51:19.402Z"
   },
   {
    "duration": 9,
    "start_time": "2022-07-12T19:51:19.429Z"
   },
   {
    "duration": 13,
    "start_time": "2022-07-12T19:51:19.439Z"
   },
   {
    "duration": 3,
    "start_time": "2022-07-12T19:51:19.453Z"
   },
   {
    "duration": 13,
    "start_time": "2022-07-12T19:51:19.458Z"
   },
   {
    "duration": 30,
    "start_time": "2022-07-12T19:51:19.824Z"
   },
   {
    "duration": 6,
    "start_time": "2022-07-12T19:51:19.856Z"
   },
   {
    "duration": 52,
    "start_time": "2022-07-12T19:51:19.863Z"
   },
   {
    "duration": 42,
    "start_time": "2022-07-12T19:51:19.917Z"
   },
   {
    "duration": 241,
    "start_time": "2022-07-12T19:51:19.963Z"
   },
   {
    "duration": 0,
    "start_time": "2022-07-12T19:51:20.206Z"
   },
   {
    "duration": 0,
    "start_time": "2022-07-12T19:51:20.207Z"
   },
   {
    "duration": 0,
    "start_time": "2022-07-12T19:51:20.209Z"
   },
   {
    "duration": 0,
    "start_time": "2022-07-12T19:51:20.210Z"
   },
   {
    "duration": 0,
    "start_time": "2022-07-12T19:51:20.211Z"
   },
   {
    "duration": 1,
    "start_time": "2022-07-12T19:51:20.212Z"
   },
   {
    "duration": 45,
    "start_time": "2022-07-12T19:51:20.220Z"
   },
   {
    "duration": 13,
    "start_time": "2022-07-12T19:51:20.267Z"
   },
   {
    "duration": 6,
    "start_time": "2022-07-12T19:51:20.298Z"
   },
   {
    "duration": 20,
    "start_time": "2022-07-12T19:51:20.305Z"
   },
   {
    "duration": 548,
    "start_time": "2022-07-12T19:52:42.616Z"
   },
   {
    "duration": 10,
    "start_time": "2022-07-12T19:53:09.192Z"
   },
   {
    "duration": 9,
    "start_time": "2022-07-12T19:53:14.054Z"
   },
   {
    "duration": 441,
    "start_time": "2022-07-12T19:53:19.057Z"
   },
   {
    "duration": 505,
    "start_time": "2022-07-12T19:54:03.922Z"
   },
   {
    "duration": 639,
    "start_time": "2022-07-12T19:56:34.381Z"
   },
   {
    "duration": 612,
    "start_time": "2022-07-12T19:57:18.464Z"
   },
   {
    "duration": 527,
    "start_time": "2022-07-12T19:59:32.018Z"
   },
   {
    "duration": 661,
    "start_time": "2022-07-12T20:00:49.656Z"
   },
   {
    "duration": 503,
    "start_time": "2022-07-12T20:01:08.944Z"
   },
   {
    "duration": 11,
    "start_time": "2022-07-12T20:01:40.860Z"
   },
   {
    "duration": 10,
    "start_time": "2022-07-12T20:01:46.697Z"
   },
   {
    "duration": 466,
    "start_time": "2022-07-12T20:02:16.453Z"
   },
   {
    "duration": 418,
    "start_time": "2022-07-12T20:02:27.281Z"
   },
   {
    "duration": 44,
    "start_time": "2022-07-13T03:55:42.115Z"
   },
   {
    "duration": 5,
    "start_time": "2022-07-13T03:55:42.746Z"
   },
   {
    "duration": 1289,
    "start_time": "2022-07-13T03:55:47.995Z"
   },
   {
    "duration": 859,
    "start_time": "2022-07-13T03:55:49.349Z"
   },
   {
    "duration": 766,
    "start_time": "2022-07-13T03:55:50.224Z"
   },
   {
    "duration": 155,
    "start_time": "2022-07-13T03:55:50.991Z"
   },
   {
    "duration": 6,
    "start_time": "2022-07-13T03:55:51.148Z"
   },
   {
    "duration": 15,
    "start_time": "2022-07-13T03:55:51.366Z"
   },
   {
    "duration": 6,
    "start_time": "2022-07-13T03:55:51.743Z"
   },
   {
    "duration": 10,
    "start_time": "2022-07-13T03:55:51.950Z"
   },
   {
    "duration": 5,
    "start_time": "2022-07-13T03:55:52.504Z"
   },
   {
    "duration": 9,
    "start_time": "2022-07-13T03:55:52.867Z"
   },
   {
    "duration": 24,
    "start_time": "2022-07-13T03:55:53.647Z"
   },
   {
    "duration": 3,
    "start_time": "2022-07-13T03:55:53.836Z"
   },
   {
    "duration": 157,
    "start_time": "2022-07-13T03:55:54.567Z"
   },
   {
    "duration": 47,
    "start_time": "2022-07-13T03:55:54.757Z"
   },
   {
    "duration": 6,
    "start_time": "2022-07-13T03:55:55.151Z"
   },
   {
    "duration": 10,
    "start_time": "2022-07-13T03:55:55.939Z"
   },
   {
    "duration": 10,
    "start_time": "2022-07-13T03:55:56.128Z"
   },
   {
    "duration": 15,
    "start_time": "2022-07-13T03:55:57.323Z"
   },
   {
    "duration": 25,
    "start_time": "2022-07-13T03:55:57.520Z"
   },
   {
    "duration": 10,
    "start_time": "2022-07-13T03:55:58.123Z"
   },
   {
    "duration": 12,
    "start_time": "2022-07-13T03:55:58.511Z"
   },
   {
    "duration": 3,
    "start_time": "2022-07-13T03:56:00.151Z"
   },
   {
    "duration": 9,
    "start_time": "2022-07-13T03:56:00.355Z"
   },
   {
    "duration": 31,
    "start_time": "2022-07-13T03:56:00.564Z"
   },
   {
    "duration": 8,
    "start_time": "2022-07-13T03:56:01.216Z"
   },
   {
    "duration": 41,
    "start_time": "2022-07-13T03:56:02.135Z"
   },
   {
    "duration": 22,
    "start_time": "2022-07-13T03:56:02.342Z"
   },
   {
    "duration": 346,
    "start_time": "2022-07-13T03:56:02.564Z"
   },
   {
    "duration": 18,
    "start_time": "2022-07-13T03:56:05.828Z"
   },
   {
    "duration": 5,
    "start_time": "2022-07-13T03:56:07.181Z"
   },
   {
    "duration": 27,
    "start_time": "2022-07-13T03:56:08.215Z"
   },
   {
    "duration": 168,
    "start_time": "2022-07-13T03:56:09.871Z"
   },
   {
    "duration": 19,
    "start_time": "2022-07-13T03:56:20.974Z"
   },
   {
    "duration": 11,
    "start_time": "2022-07-13T03:56:22.103Z"
   },
   {
    "duration": 23,
    "start_time": "2022-07-13T03:56:28.914Z"
   },
   {
    "duration": 11,
    "start_time": "2022-07-13T03:56:29.239Z"
   },
   {
    "duration": 5,
    "start_time": "2022-07-13T03:56:30.663Z"
   },
   {
    "duration": 7,
    "start_time": "2022-07-13T03:56:31.503Z"
   },
   {
    "duration": 51,
    "start_time": "2022-07-13T04:44:30.458Z"
   },
   {
    "duration": 1339,
    "start_time": "2022-07-13T04:44:38.484Z"
   },
   {
    "duration": 846,
    "start_time": "2022-07-13T04:44:39.825Z"
   },
   {
    "duration": 519,
    "start_time": "2022-07-13T04:44:40.673Z"
   },
   {
    "duration": 132,
    "start_time": "2022-07-13T04:44:41.194Z"
   },
   {
    "duration": 8,
    "start_time": "2022-07-13T04:44:41.327Z"
   },
   {
    "duration": 29,
    "start_time": "2022-07-13T04:44:41.337Z"
   },
   {
    "duration": 7,
    "start_time": "2022-07-13T04:44:41.367Z"
   },
   {
    "duration": 12,
    "start_time": "2022-07-13T04:44:41.376Z"
   },
   {
    "duration": 5,
    "start_time": "2022-07-13T04:44:41.390Z"
   },
   {
    "duration": 29,
    "start_time": "2022-07-13T04:44:41.397Z"
   },
   {
    "duration": 24,
    "start_time": "2022-07-13T04:44:41.427Z"
   },
   {
    "duration": 3,
    "start_time": "2022-07-13T04:44:41.453Z"
   },
   {
    "duration": 178,
    "start_time": "2022-07-13T04:44:41.458Z"
   },
   {
    "duration": 51,
    "start_time": "2022-07-13T04:44:41.637Z"
   },
   {
    "duration": 6,
    "start_time": "2022-07-13T04:44:41.690Z"
   },
   {
    "duration": 31,
    "start_time": "2022-07-13T04:44:41.697Z"
   },
   {
    "duration": 17,
    "start_time": "2022-07-13T04:44:41.730Z"
   },
   {
    "duration": 27,
    "start_time": "2022-07-13T04:44:41.749Z"
   },
   {
    "duration": 25,
    "start_time": "2022-07-13T04:44:41.778Z"
   },
   {
    "duration": 24,
    "start_time": "2022-07-13T04:44:41.805Z"
   },
   {
    "duration": 13,
    "start_time": "2022-07-13T04:44:41.830Z"
   },
   {
    "duration": 2,
    "start_time": "2022-07-13T04:44:41.845Z"
   },
   {
    "duration": 11,
    "start_time": "2022-07-13T04:44:41.848Z"
   },
   {
    "duration": 32,
    "start_time": "2022-07-13T04:44:41.861Z"
   },
   {
    "duration": 8,
    "start_time": "2022-07-13T04:44:41.922Z"
   },
   {
    "duration": 55,
    "start_time": "2022-07-13T04:44:41.932Z"
   },
   {
    "duration": 42,
    "start_time": "2022-07-13T04:44:41.989Z"
   },
   {
    "duration": 380,
    "start_time": "2022-07-13T04:44:42.034Z"
   },
   {
    "duration": 21,
    "start_time": "2022-07-13T04:44:42.416Z"
   },
   {
    "duration": 5,
    "start_time": "2022-07-13T04:44:42.439Z"
   },
   {
    "duration": 36,
    "start_time": "2022-07-13T04:44:42.445Z"
   },
   {
    "duration": 133,
    "start_time": "2022-07-13T04:44:42.483Z"
   },
   {
    "duration": 0,
    "start_time": "2022-07-13T04:44:42.622Z"
   },
   {
    "duration": 0,
    "start_time": "2022-07-13T04:44:42.624Z"
   },
   {
    "duration": 0,
    "start_time": "2022-07-13T04:44:42.625Z"
   },
   {
    "duration": 0,
    "start_time": "2022-07-13T04:44:42.626Z"
   },
   {
    "duration": 0,
    "start_time": "2022-07-13T04:44:42.627Z"
   },
   {
    "duration": 0,
    "start_time": "2022-07-13T04:44:42.628Z"
   },
   {
    "duration": 322,
    "start_time": "2022-07-13T04:45:39.843Z"
   },
   {
    "duration": 16,
    "start_time": "2022-07-13T04:46:54.619Z"
   },
   {
    "duration": 12,
    "start_time": "2022-07-13T04:47:57.185Z"
   },
   {
    "duration": 25,
    "start_time": "2022-07-13T04:53:04.464Z"
   },
   {
    "duration": 1091,
    "start_time": "2022-07-13T04:54:17.183Z"
   },
   {
    "duration": 569,
    "start_time": "2022-07-13T04:54:18.276Z"
   },
   {
    "duration": 506,
    "start_time": "2022-07-13T04:54:18.847Z"
   },
   {
    "duration": 116,
    "start_time": "2022-07-13T04:54:19.355Z"
   },
   {
    "duration": 7,
    "start_time": "2022-07-13T04:54:19.472Z"
   },
   {
    "duration": 21,
    "start_time": "2022-07-13T04:54:19.480Z"
   },
   {
    "duration": 23,
    "start_time": "2022-07-13T04:54:19.502Z"
   },
   {
    "duration": 10,
    "start_time": "2022-07-13T04:54:19.527Z"
   },
   {
    "duration": 7,
    "start_time": "2022-07-13T04:54:19.538Z"
   },
   {
    "duration": 13,
    "start_time": "2022-07-13T04:54:19.547Z"
   },
   {
    "duration": 24,
    "start_time": "2022-07-13T04:54:19.562Z"
   },
   {
    "duration": 4,
    "start_time": "2022-07-13T04:54:19.587Z"
   },
   {
    "duration": 177,
    "start_time": "2022-07-13T04:54:19.592Z"
   },
   {
    "duration": 58,
    "start_time": "2022-07-13T04:54:19.771Z"
   },
   {
    "duration": 7,
    "start_time": "2022-07-13T04:54:19.831Z"
   },
   {
    "duration": 14,
    "start_time": "2022-07-13T04:54:19.840Z"
   },
   {
    "duration": 12,
    "start_time": "2022-07-13T04:54:19.856Z"
   },
   {
    "duration": 24,
    "start_time": "2022-07-13T04:54:19.870Z"
   },
   {
    "duration": 46,
    "start_time": "2022-07-13T04:54:19.896Z"
   },
   {
    "duration": 10,
    "start_time": "2022-07-13T04:54:19.944Z"
   },
   {
    "duration": 12,
    "start_time": "2022-07-13T04:54:19.955Z"
   },
   {
    "duration": 6,
    "start_time": "2022-07-13T04:54:19.969Z"
   },
   {
    "duration": 11,
    "start_time": "2022-07-13T04:54:19.977Z"
   },
   {
    "duration": 62,
    "start_time": "2022-07-13T04:54:19.989Z"
   },
   {
    "duration": 7,
    "start_time": "2022-07-13T04:54:20.053Z"
   },
   {
    "duration": 53,
    "start_time": "2022-07-13T04:54:20.061Z"
   },
   {
    "duration": 23,
    "start_time": "2022-07-13T04:54:20.122Z"
   },
   {
    "duration": 382,
    "start_time": "2022-07-13T04:54:20.150Z"
   },
   {
    "duration": 21,
    "start_time": "2022-07-13T04:54:20.535Z"
   },
   {
    "duration": 5,
    "start_time": "2022-07-13T04:54:20.558Z"
   },
   {
    "duration": 40,
    "start_time": "2022-07-13T04:54:20.564Z"
   },
   {
    "duration": 178,
    "start_time": "2022-07-13T04:54:20.606Z"
   },
   {
    "duration": 18,
    "start_time": "2022-07-13T04:54:20.786Z"
   },
   {
    "duration": 22,
    "start_time": "2022-07-13T04:54:20.806Z"
   },
   {
    "duration": 29,
    "start_time": "2022-07-13T04:54:20.829Z"
   },
   {
    "duration": 65,
    "start_time": "2022-07-13T04:54:20.860Z"
   },
   {
    "duration": 5,
    "start_time": "2022-07-13T04:54:20.927Z"
   },
   {
    "duration": 18,
    "start_time": "2022-07-13T04:54:20.934Z"
   },
   {
    "duration": 20,
    "start_time": "2022-07-13T04:57:04.582Z"
   },
   {
    "duration": 6,
    "start_time": "2022-07-13T05:00:25.788Z"
   },
   {
    "duration": 9,
    "start_time": "2022-07-13T05:00:26.495Z"
   },
   {
    "duration": 7,
    "start_time": "2022-07-13T05:27:20.496Z"
   },
   {
    "duration": 7,
    "start_time": "2022-07-13T05:27:52.666Z"
   },
   {
    "duration": 8,
    "start_time": "2022-07-13T05:29:14.993Z"
   },
   {
    "duration": 8,
    "start_time": "2022-07-13T05:29:15.810Z"
   },
   {
    "duration": 10,
    "start_time": "2022-07-13T05:29:50.575Z"
   },
   {
    "duration": 9,
    "start_time": "2022-07-13T05:29:51.172Z"
   },
   {
    "duration": 7,
    "start_time": "2022-07-13T05:56:20.605Z"
   },
   {
    "duration": 131,
    "start_time": "2022-07-13T05:58:28.744Z"
   },
   {
    "duration": 6,
    "start_time": "2022-07-13T05:58:29.203Z"
   },
   {
    "duration": 6,
    "start_time": "2022-07-13T05:58:41.276Z"
   },
   {
    "duration": 8,
    "start_time": "2022-07-13T05:58:42.945Z"
   },
   {
    "duration": 2293,
    "start_time": "2022-07-13T06:05:14.565Z"
   },
   {
    "duration": 1429,
    "start_time": "2022-07-13T06:05:16.860Z"
   },
   {
    "duration": 991,
    "start_time": "2022-07-13T06:05:18.291Z"
   },
   {
    "duration": 412,
    "start_time": "2022-07-13T06:05:19.324Z"
   },
   {
    "duration": 13,
    "start_time": "2022-07-13T06:05:19.738Z"
   },
   {
    "duration": 91,
    "start_time": "2022-07-13T06:05:19.753Z"
   },
   {
    "duration": 13,
    "start_time": "2022-07-13T06:05:19.854Z"
   },
   {
    "duration": 75,
    "start_time": "2022-07-13T06:05:19.869Z"
   },
   {
    "duration": 8,
    "start_time": "2022-07-13T06:05:19.947Z"
   },
   {
    "duration": 68,
    "start_time": "2022-07-13T06:05:19.971Z"
   },
   {
    "duration": 114,
    "start_time": "2022-07-13T06:05:20.042Z"
   },
   {
    "duration": 6,
    "start_time": "2022-07-13T06:05:20.158Z"
   },
   {
    "duration": 578,
    "start_time": "2022-07-13T06:05:20.166Z"
   },
   {
    "duration": 214,
    "start_time": "2022-07-13T06:05:20.746Z"
   },
   {
    "duration": 17,
    "start_time": "2022-07-13T06:05:20.963Z"
   },
   {
    "duration": 52,
    "start_time": "2022-07-13T06:05:20.983Z"
   },
   {
    "duration": 43,
    "start_time": "2022-07-13T06:05:21.037Z"
   },
   {
    "duration": 62,
    "start_time": "2022-07-13T06:05:21.082Z"
   },
   {
    "duration": 96,
    "start_time": "2022-07-13T06:05:21.146Z"
   },
   {
    "duration": 43,
    "start_time": "2022-07-13T06:05:21.243Z"
   },
   {
    "duration": 71,
    "start_time": "2022-07-13T06:05:21.288Z"
   },
   {
    "duration": 21,
    "start_time": "2022-07-13T06:05:21.361Z"
   },
   {
    "duration": 53,
    "start_time": "2022-07-13T06:05:21.384Z"
   },
   {
    "duration": 112,
    "start_time": "2022-07-13T06:05:21.440Z"
   },
   {
    "duration": 18,
    "start_time": "2022-07-13T06:05:21.554Z"
   },
   {
    "duration": 73,
    "start_time": "2022-07-13T06:05:21.575Z"
   },
   {
    "duration": 46,
    "start_time": "2022-07-13T06:05:21.659Z"
   },
   {
    "duration": 469,
    "start_time": "2022-07-13T06:05:21.709Z"
   },
   {
    "duration": 20,
    "start_time": "2022-07-13T06:05:22.180Z"
   },
   {
    "duration": 26,
    "start_time": "2022-07-13T06:05:22.201Z"
   },
   {
    "duration": 52,
    "start_time": "2022-07-13T06:05:22.229Z"
   },
   {
    "duration": 178,
    "start_time": "2022-07-13T06:05:22.284Z"
   },
   {
    "duration": 30,
    "start_time": "2022-07-13T06:05:22.466Z"
   },
   {
    "duration": 44,
    "start_time": "2022-07-13T06:05:22.498Z"
   },
   {
    "duration": 110,
    "start_time": "2022-07-13T06:05:22.544Z"
   },
   {
    "duration": 15,
    "start_time": "2022-07-13T06:05:22.662Z"
   },
   {
    "duration": 7,
    "start_time": "2022-07-13T06:05:22.679Z"
   },
   {
    "duration": 17,
    "start_time": "2022-07-13T06:05:22.687Z"
   },
   {
    "duration": 12,
    "start_time": "2022-07-13T06:05:22.706Z"
   },
   {
    "duration": 59,
    "start_time": "2022-07-13T06:05:22.720Z"
   },
   {
    "duration": 7,
    "start_time": "2022-07-13T06:06:42.210Z"
   },
   {
    "duration": 6,
    "start_time": "2022-07-13T06:06:42.769Z"
   },
   {
    "duration": 9,
    "start_time": "2022-07-13T06:06:54.612Z"
   },
   {
    "duration": 10,
    "start_time": "2022-07-13T06:06:55.307Z"
   },
   {
    "duration": 7,
    "start_time": "2022-07-13T06:07:11.477Z"
   },
   {
    "duration": 19,
    "start_time": "2022-07-13T06:07:15.453Z"
   },
   {
    "duration": 16,
    "start_time": "2022-07-13T06:07:16.147Z"
   },
   {
    "duration": 8,
    "start_time": "2022-07-13T06:08:18.359Z"
   },
   {
    "duration": 121,
    "start_time": "2022-07-13T06:10:08.615Z"
   },
   {
    "duration": 77,
    "start_time": "2022-07-13T06:10:44.864Z"
   },
   {
    "duration": 7,
    "start_time": "2022-07-13T06:11:56.168Z"
   },
   {
    "duration": 61,
    "start_time": "2022-07-13T06:12:24.733Z"
   },
   {
    "duration": 126,
    "start_time": "2022-07-13T06:12:45.055Z"
   },
   {
    "duration": 1914,
    "start_time": "2022-07-13T06:15:34.458Z"
   },
   {
    "duration": 1444,
    "start_time": "2022-07-13T06:15:36.422Z"
   },
   {
    "duration": 715,
    "start_time": "2022-07-13T06:15:37.879Z"
   },
   {
    "duration": 153,
    "start_time": "2022-07-13T06:15:38.596Z"
   },
   {
    "duration": 8,
    "start_time": "2022-07-13T06:15:38.751Z"
   },
   {
    "duration": 34,
    "start_time": "2022-07-13T06:15:38.761Z"
   },
   {
    "duration": 36,
    "start_time": "2022-07-13T06:15:38.798Z"
   },
   {
    "duration": 36,
    "start_time": "2022-07-13T06:15:38.836Z"
   },
   {
    "duration": 5,
    "start_time": "2022-07-13T06:15:38.874Z"
   },
   {
    "duration": 16,
    "start_time": "2022-07-13T06:15:38.881Z"
   },
   {
    "duration": 35,
    "start_time": "2022-07-13T06:15:38.900Z"
   },
   {
    "duration": 15,
    "start_time": "2022-07-13T06:15:38.938Z"
   },
   {
    "duration": 214,
    "start_time": "2022-07-13T06:15:38.954Z"
   },
   {
    "duration": 66,
    "start_time": "2022-07-13T06:15:39.170Z"
   },
   {
    "duration": 9,
    "start_time": "2022-07-13T06:15:39.238Z"
   },
   {
    "duration": 16,
    "start_time": "2022-07-13T06:15:39.250Z"
   },
   {
    "duration": 14,
    "start_time": "2022-07-13T06:15:39.268Z"
   },
   {
    "duration": 19,
    "start_time": "2022-07-13T06:15:39.284Z"
   },
   {
    "duration": 53,
    "start_time": "2022-07-13T06:15:39.304Z"
   },
   {
    "duration": 15,
    "start_time": "2022-07-13T06:15:39.359Z"
   },
   {
    "duration": 19,
    "start_time": "2022-07-13T06:15:39.376Z"
   },
   {
    "duration": 27,
    "start_time": "2022-07-13T06:15:39.398Z"
   },
   {
    "duration": 12,
    "start_time": "2022-07-13T06:15:39.432Z"
   },
   {
    "duration": 38,
    "start_time": "2022-07-13T06:15:39.446Z"
   },
   {
    "duration": 10,
    "start_time": "2022-07-13T06:15:39.486Z"
   },
   {
    "duration": 75,
    "start_time": "2022-07-13T06:15:39.498Z"
   },
   {
    "duration": 50,
    "start_time": "2022-07-13T06:15:39.575Z"
   },
   {
    "duration": 486,
    "start_time": "2022-07-13T06:15:39.627Z"
   },
   {
    "duration": 33,
    "start_time": "2022-07-13T06:15:40.115Z"
   },
   {
    "duration": 6,
    "start_time": "2022-07-13T06:15:40.150Z"
   },
   {
    "duration": 38,
    "start_time": "2022-07-13T06:15:40.158Z"
   },
   {
    "duration": 187,
    "start_time": "2022-07-13T06:15:40.197Z"
   },
   {
    "duration": 58,
    "start_time": "2022-07-13T06:15:40.386Z"
   },
   {
    "duration": 19,
    "start_time": "2022-07-13T06:15:40.447Z"
   },
   {
    "duration": 99,
    "start_time": "2022-07-13T06:15:40.468Z"
   },
   {
    "duration": 59,
    "start_time": "2022-07-13T06:15:40.570Z"
   },
   {
    "duration": 15,
    "start_time": "2022-07-13T06:15:40.631Z"
   },
   {
    "duration": 16,
    "start_time": "2022-07-13T06:15:40.649Z"
   },
   {
    "duration": 13,
    "start_time": "2022-07-13T06:15:40.667Z"
   },
   {
    "duration": 14,
    "start_time": "2022-07-13T06:15:40.681Z"
   },
   {
    "duration": 7,
    "start_time": "2022-07-13T06:15:40.697Z"
   },
   {
    "duration": 25,
    "start_time": "2022-07-13T06:15:40.706Z"
   },
   {
    "duration": 145,
    "start_time": "2022-07-13T06:15:40.735Z"
   },
   {
    "duration": 10,
    "start_time": "2022-07-13T06:17:57.047Z"
   },
   {
    "duration": 21,
    "start_time": "2022-07-13T06:17:57.565Z"
   },
   {
    "duration": 11,
    "start_time": "2022-07-13T06:19:19.248Z"
   },
   {
    "duration": 6,
    "start_time": "2022-07-13T06:19:28.983Z"
   },
   {
    "duration": 5,
    "start_time": "2022-07-13T06:19:37.677Z"
   },
   {
    "duration": 5,
    "start_time": "2022-07-13T06:19:41.550Z"
   },
   {
    "duration": 3,
    "start_time": "2022-07-13T06:20:51.493Z"
   },
   {
    "duration": 78,
    "start_time": "2022-07-13T06:20:56.258Z"
   },
   {
    "duration": 5,
    "start_time": "2022-07-13T06:20:59.865Z"
   },
   {
    "duration": 99,
    "start_time": "2022-07-13T06:23:02.744Z"
   },
   {
    "duration": 9,
    "start_time": "2022-07-13T06:23:15.689Z"
   },
   {
    "duration": 6,
    "start_time": "2022-07-13T06:23:16.340Z"
   },
   {
    "duration": 18,
    "start_time": "2022-07-13T06:23:18.841Z"
   },
   {
    "duration": 13,
    "start_time": "2022-07-13T06:24:27.519Z"
   },
   {
    "duration": 20,
    "start_time": "2022-07-13T06:24:29.216Z"
   },
   {
    "duration": 29,
    "start_time": "2022-07-13T06:24:30.135Z"
   },
   {
    "duration": 16,
    "start_time": "2022-07-13T06:25:16.521Z"
   },
   {
    "duration": 6,
    "start_time": "2022-07-13T06:25:17.368Z"
   },
   {
    "duration": 22,
    "start_time": "2022-07-13T06:25:18.682Z"
   },
   {
    "duration": 6,
    "start_time": "2022-07-13T06:27:01.707Z"
   },
   {
    "duration": 14,
    "start_time": "2022-07-13T06:27:02.541Z"
   },
   {
    "duration": 8,
    "start_time": "2022-07-13T06:27:09.488Z"
   },
   {
    "duration": 15,
    "start_time": "2022-07-13T06:27:09.987Z"
   },
   {
    "duration": 6,
    "start_time": "2022-07-13T06:27:49.943Z"
   },
   {
    "duration": 8,
    "start_time": "2022-07-13T06:27:50.443Z"
   },
   {
    "duration": 8,
    "start_time": "2022-07-13T06:28:02.113Z"
   },
   {
    "duration": 8,
    "start_time": "2022-07-13T06:28:02.594Z"
   },
   {
    "duration": 6,
    "start_time": "2022-07-13T06:28:44.793Z"
   },
   {
    "duration": 9,
    "start_time": "2022-07-13T06:28:45.342Z"
   },
   {
    "duration": 8,
    "start_time": "2022-07-13T06:30:43.044Z"
   },
   {
    "duration": 0,
    "start_time": "2022-07-13T06:31:35.654Z"
   },
   {
    "duration": 0,
    "start_time": "2022-07-13T06:31:35.656Z"
   },
   {
    "duration": 13,
    "start_time": "2022-07-13T06:33:06.320Z"
   },
   {
    "duration": 11,
    "start_time": "2022-07-13T06:33:06.781Z"
   },
   {
    "duration": 95,
    "start_time": "2022-07-13T06:33:16.695Z"
   },
   {
    "duration": 92,
    "start_time": "2022-07-13T06:33:57.960Z"
   },
   {
    "duration": 8,
    "start_time": "2022-07-13T06:34:02.205Z"
   },
   {
    "duration": 9,
    "start_time": "2022-07-13T06:34:02.906Z"
   },
   {
    "duration": 52,
    "start_time": "2022-07-13T06:35:10.339Z"
   },
   {
    "duration": 60,
    "start_time": "2022-07-13T06:35:50.855Z"
   },
   {
    "duration": 9,
    "start_time": "2022-07-13T06:35:55.012Z"
   },
   {
    "duration": 9,
    "start_time": "2022-07-13T06:35:55.839Z"
   },
   {
    "duration": 1352,
    "start_time": "2022-07-13T08:53:10.992Z"
   },
   {
    "duration": 748,
    "start_time": "2022-07-13T08:53:12.354Z"
   },
   {
    "duration": 675,
    "start_time": "2022-07-13T08:53:13.104Z"
   },
   {
    "duration": 160,
    "start_time": "2022-07-13T08:53:13.781Z"
   },
   {
    "duration": 8,
    "start_time": "2022-07-13T08:53:13.943Z"
   },
   {
    "duration": 44,
    "start_time": "2022-07-13T08:53:13.953Z"
   },
   {
    "duration": 14,
    "start_time": "2022-07-13T08:53:13.999Z"
   },
   {
    "duration": 66,
    "start_time": "2022-07-13T08:53:14.015Z"
   },
   {
    "duration": 6,
    "start_time": "2022-07-13T08:53:14.083Z"
   },
   {
    "duration": 22,
    "start_time": "2022-07-13T08:53:14.092Z"
   },
   {
    "duration": 80,
    "start_time": "2022-07-13T08:53:14.115Z"
   },
   {
    "duration": 4,
    "start_time": "2022-07-13T08:53:14.197Z"
   },
   {
    "duration": 230,
    "start_time": "2022-07-13T08:53:14.202Z"
   },
   {
    "duration": 92,
    "start_time": "2022-07-13T08:53:14.450Z"
   },
   {
    "duration": 10,
    "start_time": "2022-07-13T08:53:14.544Z"
   },
   {
    "duration": 39,
    "start_time": "2022-07-13T08:53:14.555Z"
   },
   {
    "duration": 16,
    "start_time": "2022-07-13T08:53:14.597Z"
   },
   {
    "duration": 44,
    "start_time": "2022-07-13T08:53:14.615Z"
   },
   {
    "duration": 58,
    "start_time": "2022-07-13T08:53:14.663Z"
   },
   {
    "duration": 15,
    "start_time": "2022-07-13T08:53:14.723Z"
   },
   {
    "duration": 57,
    "start_time": "2022-07-13T08:53:14.739Z"
   },
   {
    "duration": 14,
    "start_time": "2022-07-13T08:53:14.798Z"
   },
   {
    "duration": 75,
    "start_time": "2022-07-13T08:53:14.814Z"
   },
   {
    "duration": 63,
    "start_time": "2022-07-13T08:53:14.891Z"
   },
   {
    "duration": 18,
    "start_time": "2022-07-13T08:53:14.959Z"
   },
   {
    "duration": 69,
    "start_time": "2022-07-13T08:53:14.979Z"
   },
   {
    "duration": 38,
    "start_time": "2022-07-13T08:53:15.050Z"
   },
   {
    "duration": 582,
    "start_time": "2022-07-13T08:53:15.093Z"
   },
   {
    "duration": 23,
    "start_time": "2022-07-13T08:53:15.676Z"
   },
   {
    "duration": 5,
    "start_time": "2022-07-13T08:53:15.701Z"
   },
   {
    "duration": 99,
    "start_time": "2022-07-13T08:53:15.709Z"
   },
   {
    "duration": 260,
    "start_time": "2022-07-13T08:53:15.810Z"
   },
   {
    "duration": 30,
    "start_time": "2022-07-13T08:53:16.073Z"
   },
   {
    "duration": 39,
    "start_time": "2022-07-13T08:53:16.125Z"
   },
   {
    "duration": 69,
    "start_time": "2022-07-13T08:53:16.167Z"
   },
   {
    "duration": 44,
    "start_time": "2022-07-13T08:53:16.238Z"
   },
   {
    "duration": 10,
    "start_time": "2022-07-13T08:53:16.285Z"
   },
   {
    "duration": 16,
    "start_time": "2022-07-13T08:53:16.298Z"
   },
   {
    "duration": 31,
    "start_time": "2022-07-13T08:53:16.316Z"
   },
   {
    "duration": 39,
    "start_time": "2022-07-13T08:53:16.351Z"
   },
   {
    "duration": 10,
    "start_time": "2022-07-13T08:53:16.393Z"
   },
   {
    "duration": 15,
    "start_time": "2022-07-13T08:53:16.404Z"
   },
   {
    "duration": 9,
    "start_time": "2022-07-13T09:04:52.147Z"
   },
   {
    "duration": 1295,
    "start_time": "2022-07-13T09:15:59.708Z"
   },
   {
    "duration": 638,
    "start_time": "2022-07-13T09:16:01.006Z"
   },
   {
    "duration": 582,
    "start_time": "2022-07-13T09:16:01.646Z"
   },
   {
    "duration": 122,
    "start_time": "2022-07-13T09:16:02.238Z"
   },
   {
    "duration": 40,
    "start_time": "2022-07-13T09:16:02.362Z"
   },
   {
    "duration": 82,
    "start_time": "2022-07-13T09:16:02.404Z"
   },
   {
    "duration": 15,
    "start_time": "2022-07-13T09:16:02.487Z"
   },
   {
    "duration": 83,
    "start_time": "2022-07-13T09:16:02.503Z"
   },
   {
    "duration": 58,
    "start_time": "2022-07-13T09:16:02.588Z"
   },
   {
    "duration": 58,
    "start_time": "2022-07-13T09:16:02.649Z"
   },
   {
    "duration": 61,
    "start_time": "2022-07-13T09:16:02.709Z"
   },
   {
    "duration": 65,
    "start_time": "2022-07-13T09:16:02.773Z"
   },
   {
    "duration": 221,
    "start_time": "2022-07-13T09:16:02.839Z"
   },
   {
    "duration": 79,
    "start_time": "2022-07-13T09:16:03.062Z"
   },
   {
    "duration": 7,
    "start_time": "2022-07-13T09:16:03.143Z"
   },
   {
    "duration": 75,
    "start_time": "2022-07-13T09:16:03.152Z"
   },
   {
    "duration": 76,
    "start_time": "2022-07-13T09:16:03.230Z"
   },
   {
    "duration": 54,
    "start_time": "2022-07-13T09:16:03.308Z"
   },
   {
    "duration": 76,
    "start_time": "2022-07-13T09:16:03.363Z"
   },
   {
    "duration": 43,
    "start_time": "2022-07-13T09:16:03.441Z"
   },
   {
    "duration": 82,
    "start_time": "2022-07-13T09:16:03.486Z"
   },
   {
    "duration": 13,
    "start_time": "2022-07-13T09:16:03.570Z"
   },
   {
    "duration": 62,
    "start_time": "2022-07-13T09:16:03.586Z"
   },
   {
    "duration": 64,
    "start_time": "2022-07-13T09:16:03.651Z"
   },
   {
    "duration": 34,
    "start_time": "2022-07-13T09:16:03.717Z"
   },
   {
    "duration": 119,
    "start_time": "2022-07-13T09:16:03.753Z"
   },
   {
    "duration": 67,
    "start_time": "2022-07-13T09:16:03.874Z"
   },
   {
    "duration": 456,
    "start_time": "2022-07-13T09:16:03.945Z"
   },
   {
    "duration": 32,
    "start_time": "2022-07-13T09:16:04.404Z"
   },
   {
    "duration": 21,
    "start_time": "2022-07-13T09:16:04.443Z"
   },
   {
    "duration": 75,
    "start_time": "2022-07-13T09:16:04.466Z"
   },
   {
    "duration": 301,
    "start_time": "2022-07-13T09:16:04.543Z"
   },
   {
    "duration": 27,
    "start_time": "2022-07-13T09:16:04.846Z"
   },
   {
    "duration": 63,
    "start_time": "2022-07-13T09:16:04.875Z"
   },
   {
    "duration": 89,
    "start_time": "2022-07-13T09:16:04.942Z"
   },
   {
    "duration": 32,
    "start_time": "2022-07-13T09:16:05.032Z"
   },
   {
    "duration": 74,
    "start_time": "2022-07-13T09:16:05.066Z"
   },
   {
    "duration": 54,
    "start_time": "2022-07-13T09:16:05.142Z"
   },
   {
    "duration": 73,
    "start_time": "2022-07-13T09:16:05.198Z"
   },
   {
    "duration": 59,
    "start_time": "2022-07-13T09:16:05.273Z"
   },
   {
    "duration": 33,
    "start_time": "2022-07-13T09:16:05.335Z"
   },
   {
    "duration": 35,
    "start_time": "2022-07-13T09:16:05.370Z"
   },
   {
    "duration": 1175,
    "start_time": "2022-08-13T13:27:33.278Z"
   },
   {
    "duration": 966,
    "start_time": "2022-08-13T13:27:34.455Z"
   },
   {
    "duration": 490,
    "start_time": "2022-08-13T13:27:35.423Z"
   },
   {
    "duration": 123,
    "start_time": "2022-08-13T13:27:35.915Z"
   },
   {
    "duration": 6,
    "start_time": "2022-08-13T13:27:36.040Z"
   },
   {
    "duration": 23,
    "start_time": "2022-08-13T13:27:36.048Z"
   },
   {
    "duration": 18,
    "start_time": "2022-08-13T13:27:36.073Z"
   },
   {
    "duration": 10,
    "start_time": "2022-08-13T13:27:36.093Z"
   },
   {
    "duration": 5,
    "start_time": "2022-08-13T13:27:36.105Z"
   },
   {
    "duration": 10,
    "start_time": "2022-08-13T13:27:36.112Z"
   },
   {
    "duration": 24,
    "start_time": "2022-08-13T13:27:36.123Z"
   },
   {
    "duration": 38,
    "start_time": "2022-08-13T13:27:36.149Z"
   },
   {
    "duration": 213,
    "start_time": "2022-08-13T13:27:36.190Z"
   },
   {
    "duration": 84,
    "start_time": "2022-08-13T13:27:36.406Z"
   },
   {
    "duration": 8,
    "start_time": "2022-08-13T13:27:36.492Z"
   },
   {
    "duration": 10,
    "start_time": "2022-08-13T13:27:36.501Z"
   },
   {
    "duration": 11,
    "start_time": "2022-08-13T13:27:36.513Z"
   },
   {
    "duration": 17,
    "start_time": "2022-08-13T13:27:36.525Z"
   },
   {
    "duration": 54,
    "start_time": "2022-08-13T13:27:36.543Z"
   },
   {
    "duration": 12,
    "start_time": "2022-08-13T13:27:36.599Z"
   },
   {
    "duration": 17,
    "start_time": "2022-08-13T13:27:36.613Z"
   },
   {
    "duration": 4,
    "start_time": "2022-08-13T13:27:36.631Z"
   },
   {
    "duration": 9,
    "start_time": "2022-08-13T13:27:36.638Z"
   },
   {
    "duration": 59,
    "start_time": "2022-08-13T13:27:36.649Z"
   },
   {
    "duration": 6,
    "start_time": "2022-08-13T13:27:36.710Z"
   },
   {
    "duration": 44,
    "start_time": "2022-08-13T13:27:36.718Z"
   },
   {
    "duration": 41,
    "start_time": "2022-08-13T13:27:36.763Z"
   },
   {
    "duration": 368,
    "start_time": "2022-08-13T13:27:36.807Z"
   },
   {
    "duration": 24,
    "start_time": "2022-08-13T13:27:37.176Z"
   },
   {
    "duration": 5,
    "start_time": "2022-08-13T13:27:37.201Z"
   },
   {
    "duration": 28,
    "start_time": "2022-08-13T13:27:37.207Z"
   },
   {
    "duration": 152,
    "start_time": "2022-08-13T13:27:37.237Z"
   },
   {
    "duration": 19,
    "start_time": "2022-08-13T13:27:37.391Z"
   },
   {
    "duration": 16,
    "start_time": "2022-08-13T13:27:37.412Z"
   },
   {
    "duration": 83,
    "start_time": "2022-08-13T13:27:37.429Z"
   },
   {
    "duration": 10,
    "start_time": "2022-08-13T13:27:37.514Z"
   },
   {
    "duration": 6,
    "start_time": "2022-08-13T13:27:37.526Z"
   },
   {
    "duration": 56,
    "start_time": "2022-08-13T13:27:37.534Z"
   },
   {
    "duration": 12,
    "start_time": "2022-08-13T13:27:37.593Z"
   },
   {
    "duration": 16,
    "start_time": "2022-08-13T13:27:37.607Z"
   },
   {
    "duration": 6,
    "start_time": "2022-08-13T13:27:37.625Z"
   },
   {
    "duration": 14,
    "start_time": "2022-08-13T13:27:37.632Z"
   },
   {
    "duration": 1114,
    "start_time": "2022-08-13T13:36:30.810Z"
   },
   {
    "duration": 577,
    "start_time": "2022-08-13T13:36:31.926Z"
   },
   {
    "duration": 495,
    "start_time": "2022-08-13T13:36:32.504Z"
   },
   {
    "duration": 122,
    "start_time": "2022-08-13T13:36:33.000Z"
   },
   {
    "duration": 6,
    "start_time": "2022-08-13T13:36:33.124Z"
   },
   {
    "duration": 51,
    "start_time": "2022-08-13T13:36:33.131Z"
   },
   {
    "duration": 8,
    "start_time": "2022-08-13T13:36:33.184Z"
   },
   {
    "duration": 19,
    "start_time": "2022-08-13T13:36:33.194Z"
   },
   {
    "duration": 16,
    "start_time": "2022-08-13T13:36:33.215Z"
   },
   {
    "duration": 19,
    "start_time": "2022-08-13T13:36:33.234Z"
   },
   {
    "duration": 23,
    "start_time": "2022-08-13T13:36:33.255Z"
   },
   {
    "duration": 4,
    "start_time": "2022-08-13T13:36:33.279Z"
   },
   {
    "duration": 153,
    "start_time": "2022-08-13T13:36:33.284Z"
   },
   {
    "duration": 57,
    "start_time": "2022-08-13T13:36:33.439Z"
   },
   {
    "duration": 6,
    "start_time": "2022-08-13T13:36:33.498Z"
   },
   {
    "duration": 14,
    "start_time": "2022-08-13T13:36:33.505Z"
   },
   {
    "duration": 26,
    "start_time": "2022-08-13T13:36:33.521Z"
   },
   {
    "duration": 19,
    "start_time": "2022-08-13T13:36:33.549Z"
   },
   {
    "duration": 27,
    "start_time": "2022-08-13T13:36:33.570Z"
   },
   {
    "duration": 11,
    "start_time": "2022-08-13T13:36:33.599Z"
   },
   {
    "duration": 40,
    "start_time": "2022-08-13T13:36:33.611Z"
   },
   {
    "duration": 14,
    "start_time": "2022-08-13T13:36:33.653Z"
   },
   {
    "duration": 17,
    "start_time": "2022-08-13T13:36:33.668Z"
   },
   {
    "duration": 43,
    "start_time": "2022-08-13T13:36:33.686Z"
   },
   {
    "duration": 8,
    "start_time": "2022-08-13T13:36:33.731Z"
   },
   {
    "duration": 48,
    "start_time": "2022-08-13T13:36:33.741Z"
   },
   {
    "duration": 32,
    "start_time": "2022-08-13T13:36:33.791Z"
   },
   {
    "duration": 367,
    "start_time": "2022-08-13T13:36:33.828Z"
   },
   {
    "duration": 18,
    "start_time": "2022-08-13T13:36:34.196Z"
   },
   {
    "duration": 12,
    "start_time": "2022-08-13T13:36:34.216Z"
   },
   {
    "duration": 47,
    "start_time": "2022-08-13T13:36:34.229Z"
   },
   {
    "duration": 129,
    "start_time": "2022-08-13T13:36:34.278Z"
   },
   {
    "duration": 18,
    "start_time": "2022-08-13T13:36:34.409Z"
   },
   {
    "duration": 59,
    "start_time": "2022-08-13T13:36:34.429Z"
   },
   {
    "duration": 24,
    "start_time": "2022-08-13T13:36:34.490Z"
   },
   {
    "duration": 12,
    "start_time": "2022-08-13T13:36:34.516Z"
   },
   {
    "duration": 58,
    "start_time": "2022-08-13T13:36:34.529Z"
   },
   {
    "duration": 32,
    "start_time": "2022-08-13T13:36:34.590Z"
   },
   {
    "duration": 11,
    "start_time": "2022-08-13T13:36:34.623Z"
   },
   {
    "duration": 23,
    "start_time": "2022-08-13T13:36:34.635Z"
   },
   {
    "duration": 15,
    "start_time": "2022-08-13T13:36:34.659Z"
   },
   {
    "duration": 20,
    "start_time": "2022-08-13T13:36:34.675Z"
   },
   {
    "duration": 1149,
    "start_time": "2022-08-18T05:56:51.624Z"
   },
   {
    "duration": 840,
    "start_time": "2022-08-18T05:56:52.775Z"
   },
   {
    "duration": 429,
    "start_time": "2022-08-18T05:56:53.617Z"
   },
   {
    "duration": 123,
    "start_time": "2022-08-18T05:56:54.048Z"
   },
   {
    "duration": 6,
    "start_time": "2022-08-18T05:56:54.173Z"
   },
   {
    "duration": 36,
    "start_time": "2022-08-18T05:56:54.180Z"
   },
   {
    "duration": 5,
    "start_time": "2022-08-18T05:56:54.218Z"
   },
   {
    "duration": 9,
    "start_time": "2022-08-18T05:56:54.225Z"
   },
   {
    "duration": 4,
    "start_time": "2022-08-18T05:56:54.235Z"
   },
   {
    "duration": 9,
    "start_time": "2022-08-18T05:56:54.241Z"
   },
   {
    "duration": 20,
    "start_time": "2022-08-18T05:56:54.251Z"
   },
   {
    "duration": 39,
    "start_time": "2022-08-18T05:56:54.272Z"
   },
   {
    "duration": 134,
    "start_time": "2022-08-18T05:56:54.312Z"
   },
   {
    "duration": 49,
    "start_time": "2022-08-18T05:56:54.448Z"
   },
   {
    "duration": 16,
    "start_time": "2022-08-18T05:56:54.498Z"
   },
   {
    "duration": 9,
    "start_time": "2022-08-18T05:56:54.516Z"
   },
   {
    "duration": 16,
    "start_time": "2022-08-18T05:56:54.526Z"
   },
   {
    "duration": 15,
    "start_time": "2022-08-18T05:56:54.544Z"
   },
   {
    "duration": 25,
    "start_time": "2022-08-18T05:56:54.561Z"
   },
   {
    "duration": 10,
    "start_time": "2022-08-18T05:56:54.611Z"
   },
   {
    "duration": 12,
    "start_time": "2022-08-18T05:56:54.623Z"
   },
   {
    "duration": 2,
    "start_time": "2022-08-18T05:56:54.636Z"
   },
   {
    "duration": 10,
    "start_time": "2022-08-18T05:56:54.640Z"
   },
   {
    "duration": 28,
    "start_time": "2022-08-18T05:56:54.652Z"
   },
   {
    "duration": 35,
    "start_time": "2022-08-18T05:56:54.681Z"
   },
   {
    "duration": 62,
    "start_time": "2022-08-18T05:56:54.718Z"
   },
   {
    "duration": 43,
    "start_time": "2022-08-18T05:56:54.782Z"
   },
   {
    "duration": 356,
    "start_time": "2022-08-18T05:56:54.829Z"
   },
   {
    "duration": 26,
    "start_time": "2022-08-18T05:56:55.186Z"
   },
   {
    "duration": 4,
    "start_time": "2022-08-18T05:56:55.213Z"
   },
   {
    "duration": 28,
    "start_time": "2022-08-18T05:56:55.219Z"
   },
   {
    "duration": 148,
    "start_time": "2022-08-18T05:56:55.249Z"
   },
   {
    "duration": 23,
    "start_time": "2022-08-18T05:56:55.399Z"
   },
   {
    "duration": 11,
    "start_time": "2022-08-18T05:56:55.423Z"
   },
   {
    "duration": 80,
    "start_time": "2022-08-18T05:56:55.436Z"
   },
   {
    "duration": 11,
    "start_time": "2022-08-18T05:56:55.518Z"
   },
   {
    "duration": 5,
    "start_time": "2022-08-18T05:56:55.531Z"
   },
   {
    "duration": 11,
    "start_time": "2022-08-18T05:56:55.537Z"
   },
   {
    "duration": 12,
    "start_time": "2022-08-18T05:56:55.549Z"
   },
   {
    "duration": 6,
    "start_time": "2022-08-18T05:56:55.611Z"
   },
   {
    "duration": 6,
    "start_time": "2022-08-18T05:56:55.618Z"
   },
   {
    "duration": 14,
    "start_time": "2022-08-18T05:56:55.625Z"
   },
   {
    "duration": 1586,
    "start_time": "2022-08-20T17:24:07.979Z"
   },
   {
    "duration": 3133,
    "start_time": "2022-08-20T17:24:09.568Z"
   },
   {
    "duration": 690,
    "start_time": "2022-08-20T17:24:12.704Z"
   },
   {
    "duration": 183,
    "start_time": "2022-08-20T17:24:13.399Z"
   },
   {
    "duration": 12,
    "start_time": "2022-08-20T17:24:13.591Z"
   },
   {
    "duration": 30,
    "start_time": "2022-08-20T17:24:13.614Z"
   },
   {
    "duration": 7,
    "start_time": "2022-08-20T17:24:13.646Z"
   },
   {
    "duration": 21,
    "start_time": "2022-08-20T17:24:13.656Z"
   },
   {
    "duration": 35,
    "start_time": "2022-08-20T17:24:13.684Z"
   },
   {
    "duration": 14,
    "start_time": "2022-08-20T17:24:13.721Z"
   },
   {
    "duration": 39,
    "start_time": "2022-08-20T17:24:13.737Z"
   },
   {
    "duration": 5,
    "start_time": "2022-08-20T17:24:13.779Z"
   },
   {
    "duration": 252,
    "start_time": "2022-08-20T17:24:13.786Z"
   },
   {
    "duration": 83,
    "start_time": "2022-08-20T17:24:14.043Z"
   },
   {
    "duration": 8,
    "start_time": "2022-08-20T17:24:14.129Z"
   },
   {
    "duration": 42,
    "start_time": "2022-08-20T17:24:14.139Z"
   },
   {
    "duration": 59,
    "start_time": "2022-08-20T17:24:14.183Z"
   },
   {
    "duration": 67,
    "start_time": "2022-08-20T17:24:14.244Z"
   },
   {
    "duration": 34,
    "start_time": "2022-08-20T17:24:14.313Z"
   },
   {
    "duration": 21,
    "start_time": "2022-08-20T17:24:14.349Z"
   },
   {
    "duration": 44,
    "start_time": "2022-08-20T17:24:14.372Z"
   },
   {
    "duration": 15,
    "start_time": "2022-08-20T17:24:14.419Z"
   },
   {
    "duration": 77,
    "start_time": "2022-08-20T17:24:14.436Z"
   },
   {
    "duration": 88,
    "start_time": "2022-08-20T17:24:14.517Z"
   },
   {
    "duration": 9,
    "start_time": "2022-08-20T17:24:14.609Z"
   },
   {
    "duration": 88,
    "start_time": "2022-08-20T17:24:14.620Z"
   },
   {
    "duration": 31,
    "start_time": "2022-08-20T17:24:14.711Z"
   },
   {
    "duration": 531,
    "start_time": "2022-08-20T17:24:14.744Z"
   },
   {
    "duration": 34,
    "start_time": "2022-08-20T17:24:15.283Z"
   },
   {
    "duration": 8,
    "start_time": "2022-08-20T17:24:15.320Z"
   },
   {
    "duration": 74,
    "start_time": "2022-08-20T17:24:15.330Z"
   },
   {
    "duration": 211,
    "start_time": "2022-08-20T17:24:15.409Z"
   },
   {
    "duration": 23,
    "start_time": "2022-08-20T17:24:15.623Z"
   },
   {
    "duration": 41,
    "start_time": "2022-08-20T17:24:15.648Z"
   },
   {
    "duration": 116,
    "start_time": "2022-08-20T17:24:15.692Z"
   },
   {
    "duration": 14,
    "start_time": "2022-08-20T17:24:15.810Z"
   },
   {
    "duration": 11,
    "start_time": "2022-08-20T17:24:15.827Z"
   },
   {
    "duration": 41,
    "start_time": "2022-08-20T17:24:15.842Z"
   },
   {
    "duration": 20,
    "start_time": "2022-08-20T17:24:15.893Z"
   },
   {
    "duration": 12,
    "start_time": "2022-08-20T17:24:15.915Z"
   },
   {
    "duration": 8,
    "start_time": "2022-08-20T17:24:15.931Z"
   },
   {
    "duration": 39,
    "start_time": "2022-08-20T17:24:15.941Z"
   },
   {
    "duration": 1317,
    "start_time": "2022-08-20T18:01:37.028Z"
   },
   {
    "duration": 89,
    "start_time": "2022-08-20T18:01:38.347Z"
   },
   {
    "duration": 737,
    "start_time": "2022-08-20T18:01:38.440Z"
   },
   {
    "duration": 673,
    "start_time": "2022-08-20T18:01:39.178Z"
   },
   {
    "duration": 163,
    "start_time": "2022-08-20T18:01:39.868Z"
   },
   {
    "duration": 10,
    "start_time": "2022-08-20T18:01:40.033Z"
   },
   {
    "duration": 51,
    "start_time": "2022-08-20T18:01:40.046Z"
   },
   {
    "duration": 19,
    "start_time": "2022-08-20T18:01:40.099Z"
   },
   {
    "duration": 17,
    "start_time": "2022-08-20T18:01:40.121Z"
   },
   {
    "duration": 7,
    "start_time": "2022-08-20T18:01:40.141Z"
   },
   {
    "duration": 29,
    "start_time": "2022-08-20T18:01:40.150Z"
   },
   {
    "duration": 64,
    "start_time": "2022-08-20T18:01:40.182Z"
   },
   {
    "duration": 4,
    "start_time": "2022-08-20T18:01:40.249Z"
   },
   {
    "duration": 231,
    "start_time": "2022-08-20T18:01:40.258Z"
   },
   {
    "duration": 111,
    "start_time": "2022-08-20T18:01:40.501Z"
   },
   {
    "duration": 11,
    "start_time": "2022-08-20T18:01:40.615Z"
   },
   {
    "duration": 23,
    "start_time": "2022-08-20T18:01:40.631Z"
   },
   {
    "duration": 27,
    "start_time": "2022-08-20T18:01:40.658Z"
   },
   {
    "duration": 44,
    "start_time": "2022-08-20T18:01:40.687Z"
   },
   {
    "duration": 29,
    "start_time": "2022-08-20T18:01:40.733Z"
   },
   {
    "duration": 20,
    "start_time": "2022-08-20T18:01:40.763Z"
   },
   {
    "duration": 38,
    "start_time": "2022-08-20T18:01:40.788Z"
   },
   {
    "duration": 3,
    "start_time": "2022-08-20T18:01:40.828Z"
   },
   {
    "duration": 15,
    "start_time": "2022-08-20T18:01:40.833Z"
   },
   {
    "duration": 53,
    "start_time": "2022-08-20T18:01:40.851Z"
   },
   {
    "duration": 23,
    "start_time": "2022-08-20T18:01:40.905Z"
   },
   {
    "duration": 68,
    "start_time": "2022-08-20T18:01:40.931Z"
   },
   {
    "duration": 29,
    "start_time": "2022-08-20T18:01:41.007Z"
   },
   {
    "duration": 502,
    "start_time": "2022-08-20T18:01:41.038Z"
   },
   {
    "duration": 60,
    "start_time": "2022-08-20T18:01:41.542Z"
   },
   {
    "duration": 8,
    "start_time": "2022-08-20T18:01:41.608Z"
   },
   {
    "duration": 46,
    "start_time": "2022-08-20T18:01:41.618Z"
   },
   {
    "duration": 105,
    "start_time": "2022-08-20T18:01:41.666Z"
   },
   {
    "duration": 26,
    "start_time": "2022-08-20T18:01:41.773Z"
   },
   {
    "duration": 14,
    "start_time": "2022-08-20T18:01:41.809Z"
   },
   {
    "duration": 71,
    "start_time": "2022-08-20T18:01:41.825Z"
   },
   {
    "duration": 76,
    "start_time": "2022-08-20T18:01:41.898Z"
   },
   {
    "duration": 11,
    "start_time": "2022-08-20T18:01:41.977Z"
   },
   {
    "duration": 38,
    "start_time": "2022-08-20T18:01:41.991Z"
   },
   {
    "duration": 11,
    "start_time": "2022-08-20T18:01:42.032Z"
   },
   {
    "duration": 14,
    "start_time": "2022-08-20T18:01:42.076Z"
   },
   {
    "duration": 18,
    "start_time": "2022-08-20T18:01:42.095Z"
   },
   {
    "duration": 17,
    "start_time": "2022-08-20T18:01:42.115Z"
   },
   {
    "duration": 1381,
    "start_time": "2022-08-20T18:11:45.991Z"
   },
   {
    "duration": 83,
    "start_time": "2022-08-20T18:11:47.379Z"
   },
   {
    "duration": 771,
    "start_time": "2022-08-20T18:11:47.464Z"
   },
   {
    "duration": 694,
    "start_time": "2022-08-20T18:11:48.237Z"
   },
   {
    "duration": 180,
    "start_time": "2022-08-20T18:11:48.933Z"
   },
   {
    "duration": 9,
    "start_time": "2022-08-20T18:11:49.115Z"
   },
   {
    "duration": 22,
    "start_time": "2022-08-20T18:11:49.125Z"
   },
   {
    "duration": 34,
    "start_time": "2022-08-20T18:11:49.149Z"
   },
   {
    "duration": 31,
    "start_time": "2022-08-20T18:11:49.185Z"
   },
   {
    "duration": 6,
    "start_time": "2022-08-20T18:11:49.217Z"
   },
   {
    "duration": 14,
    "start_time": "2022-08-20T18:11:49.225Z"
   },
   {
    "duration": 36,
    "start_time": "2022-08-20T18:11:49.241Z"
   },
   {
    "duration": 9,
    "start_time": "2022-08-20T18:11:49.290Z"
   },
   {
    "duration": 224,
    "start_time": "2022-08-20T18:11:49.303Z"
   },
   {
    "duration": 76,
    "start_time": "2022-08-20T18:11:49.529Z"
   },
   {
    "duration": 8,
    "start_time": "2022-08-20T18:11:49.607Z"
   },
   {
    "duration": 12,
    "start_time": "2022-08-20T18:11:49.617Z"
   },
   {
    "duration": 50,
    "start_time": "2022-08-20T18:11:49.631Z"
   },
   {
    "duration": 27,
    "start_time": "2022-08-20T18:11:49.692Z"
   },
   {
    "duration": 31,
    "start_time": "2022-08-20T18:11:49.720Z"
   },
   {
    "duration": 12,
    "start_time": "2022-08-20T18:11:49.753Z"
   },
   {
    "duration": 31,
    "start_time": "2022-08-20T18:11:49.766Z"
   },
   {
    "duration": 11,
    "start_time": "2022-08-20T18:11:49.800Z"
   },
   {
    "duration": 11,
    "start_time": "2022-08-20T18:11:49.813Z"
   },
   {
    "duration": 35,
    "start_time": "2022-08-20T18:11:49.827Z"
   },
   {
    "duration": 25,
    "start_time": "2022-08-20T18:11:49.872Z"
   },
   {
    "duration": 49,
    "start_time": "2022-08-20T18:11:49.900Z"
   },
   {
    "duration": 40,
    "start_time": "2022-08-20T18:11:49.950Z"
   },
   {
    "duration": 453,
    "start_time": "2022-08-20T18:11:49.997Z"
   },
   {
    "duration": 48,
    "start_time": "2022-08-20T18:11:50.452Z"
   },
   {
    "duration": 6,
    "start_time": "2022-08-20T18:11:50.502Z"
   },
   {
    "duration": 36,
    "start_time": "2022-08-20T18:11:50.510Z"
   },
   {
    "duration": 106,
    "start_time": "2022-08-20T18:11:50.549Z"
   },
   {
    "duration": 23,
    "start_time": "2022-08-20T18:11:50.657Z"
   },
   {
    "duration": 34,
    "start_time": "2022-08-20T18:11:50.682Z"
   },
   {
    "duration": 84,
    "start_time": "2022-08-20T18:11:50.719Z"
   },
   {
    "duration": 14,
    "start_time": "2022-08-20T18:11:50.807Z"
   },
   {
    "duration": 55,
    "start_time": "2022-08-20T18:11:50.823Z"
   },
   {
    "duration": 27,
    "start_time": "2022-08-20T18:11:50.884Z"
   },
   {
    "duration": 9,
    "start_time": "2022-08-20T18:11:50.913Z"
   },
   {
    "duration": 12,
    "start_time": "2022-08-20T18:11:50.926Z"
   },
   {
    "duration": 7,
    "start_time": "2022-08-20T18:11:50.940Z"
   },
   {
    "duration": 42,
    "start_time": "2022-08-20T18:11:50.949Z"
   }
  ],
  "kernelspec": {
   "display_name": "Python 3 (ipykernel)",
   "language": "python",
   "name": "python3"
  },
  "language_info": {
   "codemirror_mode": {
    "name": "ipython",
    "version": 3
   },
   "file_extension": ".py",
   "mimetype": "text/x-python",
   "name": "python",
   "nbconvert_exporter": "python",
   "pygments_lexer": "ipython3",
   "version": "3.9.5"
  },
  "toc": {
   "base_numbering": 1,
   "nav_menu": {},
   "number_sections": true,
   "sideBar": true,
   "skip_h1_title": true,
   "title_cell": "Table of Contents",
   "title_sidebar": "Contents",
   "toc_cell": false,
   "toc_position": {
    "height": "calc(100% - 180px)",
    "left": "10px",
    "top": "150px",
    "width": "280px"
   },
   "toc_section_display": true,
   "toc_window_display": true
  }
 },
 "nbformat": 4,
 "nbformat_minor": 5
}
